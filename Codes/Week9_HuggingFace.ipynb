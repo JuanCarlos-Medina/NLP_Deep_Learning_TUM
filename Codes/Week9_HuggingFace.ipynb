{
  "nbformat": 4,
  "nbformat_minor": 0,
  "metadata": {
    "colab": {
      "name": "Week9_HuggingFace.ipynb",
      "provenance": [],
      "collapsed_sections": [],
      "toc_visible": true
    },
    "kernelspec": {
      "name": "python3",
      "display_name": "Python 3"
    },
    "widgets": {
      "application/vnd.jupyter.widget-state+json": {
        "f8d3ed9331994d10b34d7115b2e29f19": {
          "model_module": "@jupyter-widgets/controls",
          "model_name": "HBoxModel",
          "state": {
            "_view_name": "HBoxView",
            "_dom_classes": [],
            "_model_name": "HBoxModel",
            "_view_module": "@jupyter-widgets/controls",
            "_model_module_version": "1.5.0",
            "_view_count": null,
            "_view_module_version": "1.5.0",
            "box_style": "",
            "layout": "IPY_MODEL_d457385a962b412d81a1913a34c4b345",
            "_model_module": "@jupyter-widgets/controls",
            "children": [
              "IPY_MODEL_2baa99c8049d4c8ab7aaa8c74fb7f86e",
              "IPY_MODEL_6c35c58e92e849ef94797dc3fe7a31cd"
            ]
          }
        },
        "d457385a962b412d81a1913a34c4b345": {
          "model_module": "@jupyter-widgets/base",
          "model_name": "LayoutModel",
          "state": {
            "_view_name": "LayoutView",
            "grid_template_rows": null,
            "right": null,
            "justify_content": null,
            "_view_module": "@jupyter-widgets/base",
            "overflow": null,
            "_model_module_version": "1.2.0",
            "_view_count": null,
            "flex_flow": null,
            "width": null,
            "min_width": null,
            "border": null,
            "align_items": null,
            "bottom": null,
            "_model_module": "@jupyter-widgets/base",
            "top": null,
            "grid_column": null,
            "overflow_y": null,
            "overflow_x": null,
            "grid_auto_flow": null,
            "grid_area": null,
            "grid_template_columns": null,
            "flex": null,
            "_model_name": "LayoutModel",
            "justify_items": null,
            "grid_row": null,
            "max_height": null,
            "align_content": null,
            "visibility": null,
            "align_self": null,
            "height": null,
            "min_height": null,
            "padding": null,
            "grid_auto_rows": null,
            "grid_gap": null,
            "max_width": null,
            "order": null,
            "_view_module_version": "1.2.0",
            "grid_template_areas": null,
            "object_position": null,
            "object_fit": null,
            "grid_auto_columns": null,
            "margin": null,
            "display": null,
            "left": null
          }
        },
        "2baa99c8049d4c8ab7aaa8c74fb7f86e": {
          "model_module": "@jupyter-widgets/controls",
          "model_name": "FloatProgressModel",
          "state": {
            "_view_name": "ProgressView",
            "style": "IPY_MODEL_14a9afa6e21044d18d315a6edf83eadd",
            "_dom_classes": [],
            "description": "Downloading: 100%",
            "_model_name": "FloatProgressModel",
            "bar_style": "success",
            "max": 267844284,
            "_view_module": "@jupyter-widgets/controls",
            "_model_module_version": "1.5.0",
            "value": 267844284,
            "_view_count": null,
            "_view_module_version": "1.5.0",
            "orientation": "horizontal",
            "min": 0,
            "description_tooltip": null,
            "_model_module": "@jupyter-widgets/controls",
            "layout": "IPY_MODEL_03ea43dd326745f9ba108c0718980d68"
          }
        },
        "6c35c58e92e849ef94797dc3fe7a31cd": {
          "model_module": "@jupyter-widgets/controls",
          "model_name": "HTMLModel",
          "state": {
            "_view_name": "HTMLView",
            "style": "IPY_MODEL_5608eb215c9a42fa968632329edfc190",
            "_dom_classes": [],
            "description": "",
            "_model_name": "HTMLModel",
            "placeholder": "​",
            "_view_module": "@jupyter-widgets/controls",
            "_model_module_version": "1.5.0",
            "value": " 268M/268M [00:14&lt;00:00, 18.1MB/s]",
            "_view_count": null,
            "_view_module_version": "1.5.0",
            "description_tooltip": null,
            "_model_module": "@jupyter-widgets/controls",
            "layout": "IPY_MODEL_d8f951a52d0346509b346ee64b6aefee"
          }
        },
        "14a9afa6e21044d18d315a6edf83eadd": {
          "model_module": "@jupyter-widgets/controls",
          "model_name": "ProgressStyleModel",
          "state": {
            "_view_name": "StyleView",
            "_model_name": "ProgressStyleModel",
            "description_width": "initial",
            "_view_module": "@jupyter-widgets/base",
            "_model_module_version": "1.5.0",
            "_view_count": null,
            "_view_module_version": "1.2.0",
            "bar_color": null,
            "_model_module": "@jupyter-widgets/controls"
          }
        },
        "03ea43dd326745f9ba108c0718980d68": {
          "model_module": "@jupyter-widgets/base",
          "model_name": "LayoutModel",
          "state": {
            "_view_name": "LayoutView",
            "grid_template_rows": null,
            "right": null,
            "justify_content": null,
            "_view_module": "@jupyter-widgets/base",
            "overflow": null,
            "_model_module_version": "1.2.0",
            "_view_count": null,
            "flex_flow": null,
            "width": null,
            "min_width": null,
            "border": null,
            "align_items": null,
            "bottom": null,
            "_model_module": "@jupyter-widgets/base",
            "top": null,
            "grid_column": null,
            "overflow_y": null,
            "overflow_x": null,
            "grid_auto_flow": null,
            "grid_area": null,
            "grid_template_columns": null,
            "flex": null,
            "_model_name": "LayoutModel",
            "justify_items": null,
            "grid_row": null,
            "max_height": null,
            "align_content": null,
            "visibility": null,
            "align_self": null,
            "height": null,
            "min_height": null,
            "padding": null,
            "grid_auto_rows": null,
            "grid_gap": null,
            "max_width": null,
            "order": null,
            "_view_module_version": "1.2.0",
            "grid_template_areas": null,
            "object_position": null,
            "object_fit": null,
            "grid_auto_columns": null,
            "margin": null,
            "display": null,
            "left": null
          }
        },
        "5608eb215c9a42fa968632329edfc190": {
          "model_module": "@jupyter-widgets/controls",
          "model_name": "DescriptionStyleModel",
          "state": {
            "_view_name": "StyleView",
            "_model_name": "DescriptionStyleModel",
            "description_width": "",
            "_view_module": "@jupyter-widgets/base",
            "_model_module_version": "1.5.0",
            "_view_count": null,
            "_view_module_version": "1.2.0",
            "_model_module": "@jupyter-widgets/controls"
          }
        },
        "d8f951a52d0346509b346ee64b6aefee": {
          "model_module": "@jupyter-widgets/base",
          "model_name": "LayoutModel",
          "state": {
            "_view_name": "LayoutView",
            "grid_template_rows": null,
            "right": null,
            "justify_content": null,
            "_view_module": "@jupyter-widgets/base",
            "overflow": null,
            "_model_module_version": "1.2.0",
            "_view_count": null,
            "flex_flow": null,
            "width": null,
            "min_width": null,
            "border": null,
            "align_items": null,
            "bottom": null,
            "_model_module": "@jupyter-widgets/base",
            "top": null,
            "grid_column": null,
            "overflow_y": null,
            "overflow_x": null,
            "grid_auto_flow": null,
            "grid_area": null,
            "grid_template_columns": null,
            "flex": null,
            "_model_name": "LayoutModel",
            "justify_items": null,
            "grid_row": null,
            "max_height": null,
            "align_content": null,
            "visibility": null,
            "align_self": null,
            "height": null,
            "min_height": null,
            "padding": null,
            "grid_auto_rows": null,
            "grid_gap": null,
            "max_width": null,
            "order": null,
            "_view_module_version": "1.2.0",
            "grid_template_areas": null,
            "object_position": null,
            "object_fit": null,
            "grid_auto_columns": null,
            "margin": null,
            "display": null,
            "left": null
          }
        },
        "c690f801a29944dc9935f6e7772c3730": {
          "model_module": "@jupyter-widgets/controls",
          "model_name": "HBoxModel",
          "state": {
            "_view_name": "HBoxView",
            "_dom_classes": [],
            "_model_name": "HBoxModel",
            "_view_module": "@jupyter-widgets/controls",
            "_model_module_version": "1.5.0",
            "_view_count": null,
            "_view_module_version": "1.5.0",
            "box_style": "",
            "layout": "IPY_MODEL_f4b063f3d1fe4af8abfe1b8cdbec2ee8",
            "_model_module": "@jupyter-widgets/controls",
            "children": [
              "IPY_MODEL_8b4a0e915a0d4eec9391b0a4fc6a6c9d",
              "IPY_MODEL_8be3b905aea243f8852c34cebb639149"
            ]
          }
        },
        "f4b063f3d1fe4af8abfe1b8cdbec2ee8": {
          "model_module": "@jupyter-widgets/base",
          "model_name": "LayoutModel",
          "state": {
            "_view_name": "LayoutView",
            "grid_template_rows": null,
            "right": null,
            "justify_content": null,
            "_view_module": "@jupyter-widgets/base",
            "overflow": null,
            "_model_module_version": "1.2.0",
            "_view_count": null,
            "flex_flow": null,
            "width": null,
            "min_width": null,
            "border": null,
            "align_items": null,
            "bottom": null,
            "_model_module": "@jupyter-widgets/base",
            "top": null,
            "grid_column": null,
            "overflow_y": null,
            "overflow_x": null,
            "grid_auto_flow": null,
            "grid_area": null,
            "grid_template_columns": null,
            "flex": null,
            "_model_name": "LayoutModel",
            "justify_items": null,
            "grid_row": null,
            "max_height": null,
            "align_content": null,
            "visibility": null,
            "align_self": null,
            "height": null,
            "min_height": null,
            "padding": null,
            "grid_auto_rows": null,
            "grid_gap": null,
            "max_width": null,
            "order": null,
            "_view_module_version": "1.2.0",
            "grid_template_areas": null,
            "object_position": null,
            "object_fit": null,
            "grid_auto_columns": null,
            "margin": null,
            "display": null,
            "left": null
          }
        },
        "8b4a0e915a0d4eec9391b0a4fc6a6c9d": {
          "model_module": "@jupyter-widgets/controls",
          "model_name": "FloatProgressModel",
          "state": {
            "_view_name": "ProgressView",
            "style": "IPY_MODEL_4d2127c7090744b48b81cb846329fbdd",
            "_dom_classes": [],
            "description": "Downloading: 100%",
            "_model_name": "FloatProgressModel",
            "bar_style": "success",
            "max": 230,
            "_view_module": "@jupyter-widgets/controls",
            "_model_module_version": "1.5.0",
            "value": 230,
            "_view_count": null,
            "_view_module_version": "1.5.0",
            "orientation": "horizontal",
            "min": 0,
            "description_tooltip": null,
            "_model_module": "@jupyter-widgets/controls",
            "layout": "IPY_MODEL_accb927545024db2b84c19e11f473a90"
          }
        },
        "8be3b905aea243f8852c34cebb639149": {
          "model_module": "@jupyter-widgets/controls",
          "model_name": "HTMLModel",
          "state": {
            "_view_name": "HTMLView",
            "style": "IPY_MODEL_d9b8588ff2794feca04030afba9e2afd",
            "_dom_classes": [],
            "description": "",
            "_model_name": "HTMLModel",
            "placeholder": "​",
            "_view_module": "@jupyter-widgets/controls",
            "_model_module_version": "1.5.0",
            "value": " 230/230 [00:00&lt;00:00, 256B/s]",
            "_view_count": null,
            "_view_module_version": "1.5.0",
            "description_tooltip": null,
            "_model_module": "@jupyter-widgets/controls",
            "layout": "IPY_MODEL_800760bfa994400eb764f5b5b3202b63"
          }
        },
        "4d2127c7090744b48b81cb846329fbdd": {
          "model_module": "@jupyter-widgets/controls",
          "model_name": "ProgressStyleModel",
          "state": {
            "_view_name": "StyleView",
            "_model_name": "ProgressStyleModel",
            "description_width": "initial",
            "_view_module": "@jupyter-widgets/base",
            "_model_module_version": "1.5.0",
            "_view_count": null,
            "_view_module_version": "1.2.0",
            "bar_color": null,
            "_model_module": "@jupyter-widgets/controls"
          }
        },
        "accb927545024db2b84c19e11f473a90": {
          "model_module": "@jupyter-widgets/base",
          "model_name": "LayoutModel",
          "state": {
            "_view_name": "LayoutView",
            "grid_template_rows": null,
            "right": null,
            "justify_content": null,
            "_view_module": "@jupyter-widgets/base",
            "overflow": null,
            "_model_module_version": "1.2.0",
            "_view_count": null,
            "flex_flow": null,
            "width": null,
            "min_width": null,
            "border": null,
            "align_items": null,
            "bottom": null,
            "_model_module": "@jupyter-widgets/base",
            "top": null,
            "grid_column": null,
            "overflow_y": null,
            "overflow_x": null,
            "grid_auto_flow": null,
            "grid_area": null,
            "grid_template_columns": null,
            "flex": null,
            "_model_name": "LayoutModel",
            "justify_items": null,
            "grid_row": null,
            "max_height": null,
            "align_content": null,
            "visibility": null,
            "align_self": null,
            "height": null,
            "min_height": null,
            "padding": null,
            "grid_auto_rows": null,
            "grid_gap": null,
            "max_width": null,
            "order": null,
            "_view_module_version": "1.2.0",
            "grid_template_areas": null,
            "object_position": null,
            "object_fit": null,
            "grid_auto_columns": null,
            "margin": null,
            "display": null,
            "left": null
          }
        },
        "d9b8588ff2794feca04030afba9e2afd": {
          "model_module": "@jupyter-widgets/controls",
          "model_name": "DescriptionStyleModel",
          "state": {
            "_view_name": "StyleView",
            "_model_name": "DescriptionStyleModel",
            "description_width": "",
            "_view_module": "@jupyter-widgets/base",
            "_model_module_version": "1.5.0",
            "_view_count": null,
            "_view_module_version": "1.2.0",
            "_model_module": "@jupyter-widgets/controls"
          }
        },
        "800760bfa994400eb764f5b5b3202b63": {
          "model_module": "@jupyter-widgets/base",
          "model_name": "LayoutModel",
          "state": {
            "_view_name": "LayoutView",
            "grid_template_rows": null,
            "right": null,
            "justify_content": null,
            "_view_module": "@jupyter-widgets/base",
            "overflow": null,
            "_model_module_version": "1.2.0",
            "_view_count": null,
            "flex_flow": null,
            "width": null,
            "min_width": null,
            "border": null,
            "align_items": null,
            "bottom": null,
            "_model_module": "@jupyter-widgets/base",
            "top": null,
            "grid_column": null,
            "overflow_y": null,
            "overflow_x": null,
            "grid_auto_flow": null,
            "grid_area": null,
            "grid_template_columns": null,
            "flex": null,
            "_model_name": "LayoutModel",
            "justify_items": null,
            "grid_row": null,
            "max_height": null,
            "align_content": null,
            "visibility": null,
            "align_self": null,
            "height": null,
            "min_height": null,
            "padding": null,
            "grid_auto_rows": null,
            "grid_gap": null,
            "max_width": null,
            "order": null,
            "_view_module_version": "1.2.0",
            "grid_template_areas": null,
            "object_position": null,
            "object_fit": null,
            "grid_auto_columns": null,
            "margin": null,
            "display": null,
            "left": null
          }
        },
        "b07625a114d24ca7bb07497350f62bbd": {
          "model_module": "@jupyter-widgets/controls",
          "model_name": "HBoxModel",
          "state": {
            "_view_name": "HBoxView",
            "_dom_classes": [],
            "_model_name": "HBoxModel",
            "_view_module": "@jupyter-widgets/controls",
            "_model_module_version": "1.5.0",
            "_view_count": null,
            "_view_module_version": "1.5.0",
            "box_style": "",
            "layout": "IPY_MODEL_cd0eb55fa85f4508a38cd15b2dd768f6",
            "_model_module": "@jupyter-widgets/controls",
            "children": [
              "IPY_MODEL_2881a71b188c4a72938508e16927f7a9",
              "IPY_MODEL_f748b868510f4c719754f66146f366f3"
            ]
          }
        },
        "cd0eb55fa85f4508a38cd15b2dd768f6": {
          "model_module": "@jupyter-widgets/base",
          "model_name": "LayoutModel",
          "state": {
            "_view_name": "LayoutView",
            "grid_template_rows": null,
            "right": null,
            "justify_content": null,
            "_view_module": "@jupyter-widgets/base",
            "overflow": null,
            "_model_module_version": "1.2.0",
            "_view_count": null,
            "flex_flow": null,
            "width": null,
            "min_width": null,
            "border": null,
            "align_items": null,
            "bottom": null,
            "_model_module": "@jupyter-widgets/base",
            "top": null,
            "grid_column": null,
            "overflow_y": null,
            "overflow_x": null,
            "grid_auto_flow": null,
            "grid_area": null,
            "grid_template_columns": null,
            "flex": null,
            "_model_name": "LayoutModel",
            "justify_items": null,
            "grid_row": null,
            "max_height": null,
            "align_content": null,
            "visibility": null,
            "align_self": null,
            "height": null,
            "min_height": null,
            "padding": null,
            "grid_auto_rows": null,
            "grid_gap": null,
            "max_width": null,
            "order": null,
            "_view_module_version": "1.2.0",
            "grid_template_areas": null,
            "object_position": null,
            "object_fit": null,
            "grid_auto_columns": null,
            "margin": null,
            "display": null,
            "left": null
          }
        },
        "2881a71b188c4a72938508e16927f7a9": {
          "model_module": "@jupyter-widgets/controls",
          "model_name": "FloatProgressModel",
          "state": {
            "_view_name": "ProgressView",
            "style": "IPY_MODEL_54f355b337b94c0eb2fff6284dac7457",
            "_dom_classes": [],
            "description": "Downloading: 100%",
            "_model_name": "FloatProgressModel",
            "bar_style": "success",
            "max": 473,
            "_view_module": "@jupyter-widgets/controls",
            "_model_module_version": "1.5.0",
            "value": 473,
            "_view_count": null,
            "_view_module_version": "1.5.0",
            "orientation": "horizontal",
            "min": 0,
            "description_tooltip": null,
            "_model_module": "@jupyter-widgets/controls",
            "layout": "IPY_MODEL_afeb3dc31c4343e78ad07add62a3ccb3"
          }
        },
        "f748b868510f4c719754f66146f366f3": {
          "model_module": "@jupyter-widgets/controls",
          "model_name": "HTMLModel",
          "state": {
            "_view_name": "HTMLView",
            "style": "IPY_MODEL_36359282c2fa464ebc4fd34da05db1d1",
            "_dom_classes": [],
            "description": "",
            "_model_name": "HTMLModel",
            "placeholder": "​",
            "_view_module": "@jupyter-widgets/controls",
            "_model_module_version": "1.5.0",
            "value": " 473/473 [00:00&lt;00:00, 524B/s]",
            "_view_count": null,
            "_view_module_version": "1.5.0",
            "description_tooltip": null,
            "_model_module": "@jupyter-widgets/controls",
            "layout": "IPY_MODEL_b6d3b81351914943b7120c18e2cbddb4"
          }
        },
        "54f355b337b94c0eb2fff6284dac7457": {
          "model_module": "@jupyter-widgets/controls",
          "model_name": "ProgressStyleModel",
          "state": {
            "_view_name": "StyleView",
            "_model_name": "ProgressStyleModel",
            "description_width": "initial",
            "_view_module": "@jupyter-widgets/base",
            "_model_module_version": "1.5.0",
            "_view_count": null,
            "_view_module_version": "1.2.0",
            "bar_color": null,
            "_model_module": "@jupyter-widgets/controls"
          }
        },
        "afeb3dc31c4343e78ad07add62a3ccb3": {
          "model_module": "@jupyter-widgets/base",
          "model_name": "LayoutModel",
          "state": {
            "_view_name": "LayoutView",
            "grid_template_rows": null,
            "right": null,
            "justify_content": null,
            "_view_module": "@jupyter-widgets/base",
            "overflow": null,
            "_model_module_version": "1.2.0",
            "_view_count": null,
            "flex_flow": null,
            "width": null,
            "min_width": null,
            "border": null,
            "align_items": null,
            "bottom": null,
            "_model_module": "@jupyter-widgets/base",
            "top": null,
            "grid_column": null,
            "overflow_y": null,
            "overflow_x": null,
            "grid_auto_flow": null,
            "grid_area": null,
            "grid_template_columns": null,
            "flex": null,
            "_model_name": "LayoutModel",
            "justify_items": null,
            "grid_row": null,
            "max_height": null,
            "align_content": null,
            "visibility": null,
            "align_self": null,
            "height": null,
            "min_height": null,
            "padding": null,
            "grid_auto_rows": null,
            "grid_gap": null,
            "max_width": null,
            "order": null,
            "_view_module_version": "1.2.0",
            "grid_template_areas": null,
            "object_position": null,
            "object_fit": null,
            "grid_auto_columns": null,
            "margin": null,
            "display": null,
            "left": null
          }
        },
        "36359282c2fa464ebc4fd34da05db1d1": {
          "model_module": "@jupyter-widgets/controls",
          "model_name": "DescriptionStyleModel",
          "state": {
            "_view_name": "StyleView",
            "_model_name": "DescriptionStyleModel",
            "description_width": "",
            "_view_module": "@jupyter-widgets/base",
            "_model_module_version": "1.5.0",
            "_view_count": null,
            "_view_module_version": "1.2.0",
            "_model_module": "@jupyter-widgets/controls"
          }
        },
        "b6d3b81351914943b7120c18e2cbddb4": {
          "model_module": "@jupyter-widgets/base",
          "model_name": "LayoutModel",
          "state": {
            "_view_name": "LayoutView",
            "grid_template_rows": null,
            "right": null,
            "justify_content": null,
            "_view_module": "@jupyter-widgets/base",
            "overflow": null,
            "_model_module_version": "1.2.0",
            "_view_count": null,
            "flex_flow": null,
            "width": null,
            "min_width": null,
            "border": null,
            "align_items": null,
            "bottom": null,
            "_model_module": "@jupyter-widgets/base",
            "top": null,
            "grid_column": null,
            "overflow_y": null,
            "overflow_x": null,
            "grid_auto_flow": null,
            "grid_area": null,
            "grid_template_columns": null,
            "flex": null,
            "_model_name": "LayoutModel",
            "justify_items": null,
            "grid_row": null,
            "max_height": null,
            "align_content": null,
            "visibility": null,
            "align_self": null,
            "height": null,
            "min_height": null,
            "padding": null,
            "grid_auto_rows": null,
            "grid_gap": null,
            "max_width": null,
            "order": null,
            "_view_module_version": "1.2.0",
            "grid_template_areas": null,
            "object_position": null,
            "object_fit": null,
            "grid_auto_columns": null,
            "margin": null,
            "display": null,
            "left": null
          }
        },
        "213d4dbe1c384a0d8a972ba4c6fc87c2": {
          "model_module": "@jupyter-widgets/controls",
          "model_name": "HBoxModel",
          "state": {
            "_view_name": "HBoxView",
            "_dom_classes": [],
            "_model_name": "HBoxModel",
            "_view_module": "@jupyter-widgets/controls",
            "_model_module_version": "1.5.0",
            "_view_count": null,
            "_view_module_version": "1.5.0",
            "box_style": "",
            "layout": "IPY_MODEL_0e3bb2d154644fec8d0f2d134e4b64ce",
            "_model_module": "@jupyter-widgets/controls",
            "children": [
              "IPY_MODEL_f3880f0462874101963f1408b7b699b2",
              "IPY_MODEL_fac6212435284e3dae6a1bf323ae83b9"
            ]
          }
        },
        "0e3bb2d154644fec8d0f2d134e4b64ce": {
          "model_module": "@jupyter-widgets/base",
          "model_name": "LayoutModel",
          "state": {
            "_view_name": "LayoutView",
            "grid_template_rows": null,
            "right": null,
            "justify_content": null,
            "_view_module": "@jupyter-widgets/base",
            "overflow": null,
            "_model_module_version": "1.2.0",
            "_view_count": null,
            "flex_flow": null,
            "width": null,
            "min_width": null,
            "border": null,
            "align_items": null,
            "bottom": null,
            "_model_module": "@jupyter-widgets/base",
            "top": null,
            "grid_column": null,
            "overflow_y": null,
            "overflow_x": null,
            "grid_auto_flow": null,
            "grid_area": null,
            "grid_template_columns": null,
            "flex": null,
            "_model_name": "LayoutModel",
            "justify_items": null,
            "grid_row": null,
            "max_height": null,
            "align_content": null,
            "visibility": null,
            "align_self": null,
            "height": null,
            "min_height": null,
            "padding": null,
            "grid_auto_rows": null,
            "grid_gap": null,
            "max_width": null,
            "order": null,
            "_view_module_version": "1.2.0",
            "grid_template_areas": null,
            "object_position": null,
            "object_fit": null,
            "grid_auto_columns": null,
            "margin": null,
            "display": null,
            "left": null
          }
        },
        "f3880f0462874101963f1408b7b699b2": {
          "model_module": "@jupyter-widgets/controls",
          "model_name": "FloatProgressModel",
          "state": {
            "_view_name": "ProgressView",
            "style": "IPY_MODEL_3e11f95650884a85a2280ce0fefc0195",
            "_dom_classes": [],
            "description": "Downloading: 100%",
            "_model_name": "FloatProgressModel",
            "bar_style": "success",
            "max": 260793700,
            "_view_module": "@jupyter-widgets/controls",
            "_model_module_version": "1.5.0",
            "value": 260793700,
            "_view_count": null,
            "_view_module_version": "1.5.0",
            "orientation": "horizontal",
            "min": 0,
            "description_tooltip": null,
            "_model_module": "@jupyter-widgets/controls",
            "layout": "IPY_MODEL_88ab0c9151394648933ddfd54acfc90b"
          }
        },
        "fac6212435284e3dae6a1bf323ae83b9": {
          "model_module": "@jupyter-widgets/controls",
          "model_name": "HTMLModel",
          "state": {
            "_view_name": "HTMLView",
            "style": "IPY_MODEL_3f2215c06b434ed19f9b80bda6741d1a",
            "_dom_classes": [],
            "description": "",
            "_model_name": "HTMLModel",
            "placeholder": "​",
            "_view_module": "@jupyter-widgets/controls",
            "_model_module_version": "1.5.0",
            "value": " 261M/261M [00:10&lt;00:00, 25.7MB/s]",
            "_view_count": null,
            "_view_module_version": "1.5.0",
            "description_tooltip": null,
            "_model_module": "@jupyter-widgets/controls",
            "layout": "IPY_MODEL_e78dc79f85664fee97452c9fa4c3246a"
          }
        },
        "3e11f95650884a85a2280ce0fefc0195": {
          "model_module": "@jupyter-widgets/controls",
          "model_name": "ProgressStyleModel",
          "state": {
            "_view_name": "StyleView",
            "_model_name": "ProgressStyleModel",
            "description_width": "initial",
            "_view_module": "@jupyter-widgets/base",
            "_model_module_version": "1.5.0",
            "_view_count": null,
            "_view_module_version": "1.2.0",
            "bar_color": null,
            "_model_module": "@jupyter-widgets/controls"
          }
        },
        "88ab0c9151394648933ddfd54acfc90b": {
          "model_module": "@jupyter-widgets/base",
          "model_name": "LayoutModel",
          "state": {
            "_view_name": "LayoutView",
            "grid_template_rows": null,
            "right": null,
            "justify_content": null,
            "_view_module": "@jupyter-widgets/base",
            "overflow": null,
            "_model_module_version": "1.2.0",
            "_view_count": null,
            "flex_flow": null,
            "width": null,
            "min_width": null,
            "border": null,
            "align_items": null,
            "bottom": null,
            "_model_module": "@jupyter-widgets/base",
            "top": null,
            "grid_column": null,
            "overflow_y": null,
            "overflow_x": null,
            "grid_auto_flow": null,
            "grid_area": null,
            "grid_template_columns": null,
            "flex": null,
            "_model_name": "LayoutModel",
            "justify_items": null,
            "grid_row": null,
            "max_height": null,
            "align_content": null,
            "visibility": null,
            "align_self": null,
            "height": null,
            "min_height": null,
            "padding": null,
            "grid_auto_rows": null,
            "grid_gap": null,
            "max_width": null,
            "order": null,
            "_view_module_version": "1.2.0",
            "grid_template_areas": null,
            "object_position": null,
            "object_fit": null,
            "grid_auto_columns": null,
            "margin": null,
            "display": null,
            "left": null
          }
        },
        "3f2215c06b434ed19f9b80bda6741d1a": {
          "model_module": "@jupyter-widgets/controls",
          "model_name": "DescriptionStyleModel",
          "state": {
            "_view_name": "StyleView",
            "_model_name": "DescriptionStyleModel",
            "description_width": "",
            "_view_module": "@jupyter-widgets/base",
            "_model_module_version": "1.5.0",
            "_view_count": null,
            "_view_module_version": "1.2.0",
            "_model_module": "@jupyter-widgets/controls"
          }
        },
        "e78dc79f85664fee97452c9fa4c3246a": {
          "model_module": "@jupyter-widgets/base",
          "model_name": "LayoutModel",
          "state": {
            "_view_name": "LayoutView",
            "grid_template_rows": null,
            "right": null,
            "justify_content": null,
            "_view_module": "@jupyter-widgets/base",
            "overflow": null,
            "_model_module_version": "1.2.0",
            "_view_count": null,
            "flex_flow": null,
            "width": null,
            "min_width": null,
            "border": null,
            "align_items": null,
            "bottom": null,
            "_model_module": "@jupyter-widgets/base",
            "top": null,
            "grid_column": null,
            "overflow_y": null,
            "overflow_x": null,
            "grid_auto_flow": null,
            "grid_area": null,
            "grid_template_columns": null,
            "flex": null,
            "_model_name": "LayoutModel",
            "justify_items": null,
            "grid_row": null,
            "max_height": null,
            "align_content": null,
            "visibility": null,
            "align_self": null,
            "height": null,
            "min_height": null,
            "padding": null,
            "grid_auto_rows": null,
            "grid_gap": null,
            "max_width": null,
            "order": null,
            "_view_module_version": "1.2.0",
            "grid_template_areas": null,
            "object_position": null,
            "object_fit": null,
            "grid_auto_columns": null,
            "margin": null,
            "display": null,
            "left": null
          }
        },
        "8f17947ad0da49fba5467b08fc6b9f6d": {
          "model_module": "@jupyter-widgets/controls",
          "model_name": "HBoxModel",
          "state": {
            "_view_name": "HBoxView",
            "_dom_classes": [],
            "_model_name": "HBoxModel",
            "_view_module": "@jupyter-widgets/controls",
            "_model_module_version": "1.5.0",
            "_view_count": null,
            "_view_module_version": "1.5.0",
            "box_style": "",
            "layout": "IPY_MODEL_7270f446590c4df78a100fb5ff8e8992",
            "_model_module": "@jupyter-widgets/controls",
            "children": [
              "IPY_MODEL_b4e30c4ed48a415d8d50a433125ca501",
              "IPY_MODEL_15cae1d776cf40058d1696a1e0a717c4"
            ]
          }
        },
        "7270f446590c4df78a100fb5ff8e8992": {
          "model_module": "@jupyter-widgets/base",
          "model_name": "LayoutModel",
          "state": {
            "_view_name": "LayoutView",
            "grid_template_rows": null,
            "right": null,
            "justify_content": null,
            "_view_module": "@jupyter-widgets/base",
            "overflow": null,
            "_model_module_version": "1.2.0",
            "_view_count": null,
            "flex_flow": null,
            "width": null,
            "min_width": null,
            "border": null,
            "align_items": null,
            "bottom": null,
            "_model_module": "@jupyter-widgets/base",
            "top": null,
            "grid_column": null,
            "overflow_y": null,
            "overflow_x": null,
            "grid_auto_flow": null,
            "grid_area": null,
            "grid_template_columns": null,
            "flex": null,
            "_model_name": "LayoutModel",
            "justify_items": null,
            "grid_row": null,
            "max_height": null,
            "align_content": null,
            "visibility": null,
            "align_self": null,
            "height": null,
            "min_height": null,
            "padding": null,
            "grid_auto_rows": null,
            "grid_gap": null,
            "max_width": null,
            "order": null,
            "_view_module_version": "1.2.0",
            "grid_template_areas": null,
            "object_position": null,
            "object_fit": null,
            "grid_auto_columns": null,
            "margin": null,
            "display": null,
            "left": null
          }
        },
        "b4e30c4ed48a415d8d50a433125ca501": {
          "model_module": "@jupyter-widgets/controls",
          "model_name": "FloatProgressModel",
          "state": {
            "_view_name": "ProgressView",
            "style": "IPY_MODEL_ceec73151ee2475e9387d4f09e366900",
            "_dom_classes": [],
            "description": "Downloading: 100%",
            "_model_name": "FloatProgressModel",
            "bar_style": "success",
            "max": 213450,
            "_view_module": "@jupyter-widgets/controls",
            "_model_module_version": "1.5.0",
            "value": 213450,
            "_view_count": null,
            "_view_module_version": "1.5.0",
            "orientation": "horizontal",
            "min": 0,
            "description_tooltip": null,
            "_model_module": "@jupyter-widgets/controls",
            "layout": "IPY_MODEL_b4bd6ee96d224d4d9dcb6d03527c0ad3"
          }
        },
        "15cae1d776cf40058d1696a1e0a717c4": {
          "model_module": "@jupyter-widgets/controls",
          "model_name": "HTMLModel",
          "state": {
            "_view_name": "HTMLView",
            "style": "IPY_MODEL_6d38206ab0864d509d33fdbe9a918c46",
            "_dom_classes": [],
            "description": "",
            "_model_name": "HTMLModel",
            "placeholder": "​",
            "_view_module": "@jupyter-widgets/controls",
            "_model_module_version": "1.5.0",
            "value": " 213k/213k [00:00&lt;00:00, 274kB/s]",
            "_view_count": null,
            "_view_module_version": "1.5.0",
            "description_tooltip": null,
            "_model_module": "@jupyter-widgets/controls",
            "layout": "IPY_MODEL_031b2448064848bc9a93e8422791245f"
          }
        },
        "ceec73151ee2475e9387d4f09e366900": {
          "model_module": "@jupyter-widgets/controls",
          "model_name": "ProgressStyleModel",
          "state": {
            "_view_name": "StyleView",
            "_model_name": "ProgressStyleModel",
            "description_width": "initial",
            "_view_module": "@jupyter-widgets/base",
            "_model_module_version": "1.5.0",
            "_view_count": null,
            "_view_module_version": "1.2.0",
            "bar_color": null,
            "_model_module": "@jupyter-widgets/controls"
          }
        },
        "b4bd6ee96d224d4d9dcb6d03527c0ad3": {
          "model_module": "@jupyter-widgets/base",
          "model_name": "LayoutModel",
          "state": {
            "_view_name": "LayoutView",
            "grid_template_rows": null,
            "right": null,
            "justify_content": null,
            "_view_module": "@jupyter-widgets/base",
            "overflow": null,
            "_model_module_version": "1.2.0",
            "_view_count": null,
            "flex_flow": null,
            "width": null,
            "min_width": null,
            "border": null,
            "align_items": null,
            "bottom": null,
            "_model_module": "@jupyter-widgets/base",
            "top": null,
            "grid_column": null,
            "overflow_y": null,
            "overflow_x": null,
            "grid_auto_flow": null,
            "grid_area": null,
            "grid_template_columns": null,
            "flex": null,
            "_model_name": "LayoutModel",
            "justify_items": null,
            "grid_row": null,
            "max_height": null,
            "align_content": null,
            "visibility": null,
            "align_self": null,
            "height": null,
            "min_height": null,
            "padding": null,
            "grid_auto_rows": null,
            "grid_gap": null,
            "max_width": null,
            "order": null,
            "_view_module_version": "1.2.0",
            "grid_template_areas": null,
            "object_position": null,
            "object_fit": null,
            "grid_auto_columns": null,
            "margin": null,
            "display": null,
            "left": null
          }
        },
        "6d38206ab0864d509d33fdbe9a918c46": {
          "model_module": "@jupyter-widgets/controls",
          "model_name": "DescriptionStyleModel",
          "state": {
            "_view_name": "StyleView",
            "_model_name": "DescriptionStyleModel",
            "description_width": "",
            "_view_module": "@jupyter-widgets/base",
            "_model_module_version": "1.5.0",
            "_view_count": null,
            "_view_module_version": "1.2.0",
            "_model_module": "@jupyter-widgets/controls"
          }
        },
        "031b2448064848bc9a93e8422791245f": {
          "model_module": "@jupyter-widgets/base",
          "model_name": "LayoutModel",
          "state": {
            "_view_name": "LayoutView",
            "grid_template_rows": null,
            "right": null,
            "justify_content": null,
            "_view_module": "@jupyter-widgets/base",
            "overflow": null,
            "_model_module_version": "1.2.0",
            "_view_count": null,
            "flex_flow": null,
            "width": null,
            "min_width": null,
            "border": null,
            "align_items": null,
            "bottom": null,
            "_model_module": "@jupyter-widgets/base",
            "top": null,
            "grid_column": null,
            "overflow_y": null,
            "overflow_x": null,
            "grid_auto_flow": null,
            "grid_area": null,
            "grid_template_columns": null,
            "flex": null,
            "_model_name": "LayoutModel",
            "justify_items": null,
            "grid_row": null,
            "max_height": null,
            "align_content": null,
            "visibility": null,
            "align_self": null,
            "height": null,
            "min_height": null,
            "padding": null,
            "grid_auto_rows": null,
            "grid_gap": null,
            "max_width": null,
            "order": null,
            "_view_module_version": "1.2.0",
            "grid_template_areas": null,
            "object_position": null,
            "object_fit": null,
            "grid_auto_columns": null,
            "margin": null,
            "display": null,
            "left": null
          }
        },
        "59b477bddaed4b71b599edb570997a91": {
          "model_module": "@jupyter-widgets/controls",
          "model_name": "HBoxModel",
          "state": {
            "_view_name": "HBoxView",
            "_dom_classes": [],
            "_model_name": "HBoxModel",
            "_view_module": "@jupyter-widgets/controls",
            "_model_module_version": "1.5.0",
            "_view_count": null,
            "_view_module_version": "1.5.0",
            "box_style": "",
            "layout": "IPY_MODEL_25747d416abf4f40a6ab818433af9b16",
            "_model_module": "@jupyter-widgets/controls",
            "children": [
              "IPY_MODEL_e825234ebd2c4647b894420ef314c730",
              "IPY_MODEL_732865d6a61b4543852e27108dda3210"
            ]
          }
        },
        "25747d416abf4f40a6ab818433af9b16": {
          "model_module": "@jupyter-widgets/base",
          "model_name": "LayoutModel",
          "state": {
            "_view_name": "LayoutView",
            "grid_template_rows": null,
            "right": null,
            "justify_content": null,
            "_view_module": "@jupyter-widgets/base",
            "overflow": null,
            "_model_module_version": "1.2.0",
            "_view_count": null,
            "flex_flow": null,
            "width": null,
            "min_width": null,
            "border": null,
            "align_items": null,
            "bottom": null,
            "_model_module": "@jupyter-widgets/base",
            "top": null,
            "grid_column": null,
            "overflow_y": null,
            "overflow_x": null,
            "grid_auto_flow": null,
            "grid_area": null,
            "grid_template_columns": null,
            "flex": null,
            "_model_name": "LayoutModel",
            "justify_items": null,
            "grid_row": null,
            "max_height": null,
            "align_content": null,
            "visibility": null,
            "align_self": null,
            "height": null,
            "min_height": null,
            "padding": null,
            "grid_auto_rows": null,
            "grid_gap": null,
            "max_width": null,
            "order": null,
            "_view_module_version": "1.2.0",
            "grid_template_areas": null,
            "object_position": null,
            "object_fit": null,
            "grid_auto_columns": null,
            "margin": null,
            "display": null,
            "left": null
          }
        },
        "e825234ebd2c4647b894420ef314c730": {
          "model_module": "@jupyter-widgets/controls",
          "model_name": "FloatProgressModel",
          "state": {
            "_view_name": "ProgressView",
            "style": "IPY_MODEL_1343bb933029477b80f82d0027245e27",
            "_dom_classes": [],
            "description": "Downloading: 100%",
            "_model_name": "FloatProgressModel",
            "bar_style": "success",
            "max": 230,
            "_view_module": "@jupyter-widgets/controls",
            "_model_module_version": "1.5.0",
            "value": 230,
            "_view_count": null,
            "_view_module_version": "1.5.0",
            "orientation": "horizontal",
            "min": 0,
            "description_tooltip": null,
            "_model_module": "@jupyter-widgets/controls",
            "layout": "IPY_MODEL_309ffb9b294b4fb580b23e59f5980de3"
          }
        },
        "732865d6a61b4543852e27108dda3210": {
          "model_module": "@jupyter-widgets/controls",
          "model_name": "HTMLModel",
          "state": {
            "_view_name": "HTMLView",
            "style": "IPY_MODEL_b169cfa344644a0ba5130ec7c3be94ca",
            "_dom_classes": [],
            "description": "",
            "_model_name": "HTMLModel",
            "placeholder": "​",
            "_view_module": "@jupyter-widgets/controls",
            "_model_module_version": "1.5.0",
            "value": " 230/230 [00:02&lt;00:00, 86.8B/s]",
            "_view_count": null,
            "_view_module_version": "1.5.0",
            "description_tooltip": null,
            "_model_module": "@jupyter-widgets/controls",
            "layout": "IPY_MODEL_8922d09fdc814fa1bd53343c0657eef8"
          }
        },
        "1343bb933029477b80f82d0027245e27": {
          "model_module": "@jupyter-widgets/controls",
          "model_name": "ProgressStyleModel",
          "state": {
            "_view_name": "StyleView",
            "_model_name": "ProgressStyleModel",
            "description_width": "initial",
            "_view_module": "@jupyter-widgets/base",
            "_model_module_version": "1.5.0",
            "_view_count": null,
            "_view_module_version": "1.2.0",
            "bar_color": null,
            "_model_module": "@jupyter-widgets/controls"
          }
        },
        "309ffb9b294b4fb580b23e59f5980de3": {
          "model_module": "@jupyter-widgets/base",
          "model_name": "LayoutModel",
          "state": {
            "_view_name": "LayoutView",
            "grid_template_rows": null,
            "right": null,
            "justify_content": null,
            "_view_module": "@jupyter-widgets/base",
            "overflow": null,
            "_model_module_version": "1.2.0",
            "_view_count": null,
            "flex_flow": null,
            "width": null,
            "min_width": null,
            "border": null,
            "align_items": null,
            "bottom": null,
            "_model_module": "@jupyter-widgets/base",
            "top": null,
            "grid_column": null,
            "overflow_y": null,
            "overflow_x": null,
            "grid_auto_flow": null,
            "grid_area": null,
            "grid_template_columns": null,
            "flex": null,
            "_model_name": "LayoutModel",
            "justify_items": null,
            "grid_row": null,
            "max_height": null,
            "align_content": null,
            "visibility": null,
            "align_self": null,
            "height": null,
            "min_height": null,
            "padding": null,
            "grid_auto_rows": null,
            "grid_gap": null,
            "max_width": null,
            "order": null,
            "_view_module_version": "1.2.0",
            "grid_template_areas": null,
            "object_position": null,
            "object_fit": null,
            "grid_auto_columns": null,
            "margin": null,
            "display": null,
            "left": null
          }
        },
        "b169cfa344644a0ba5130ec7c3be94ca": {
          "model_module": "@jupyter-widgets/controls",
          "model_name": "DescriptionStyleModel",
          "state": {
            "_view_name": "StyleView",
            "_model_name": "DescriptionStyleModel",
            "description_width": "",
            "_view_module": "@jupyter-widgets/base",
            "_model_module_version": "1.5.0",
            "_view_count": null,
            "_view_module_version": "1.2.0",
            "_model_module": "@jupyter-widgets/controls"
          }
        },
        "8922d09fdc814fa1bd53343c0657eef8": {
          "model_module": "@jupyter-widgets/base",
          "model_name": "LayoutModel",
          "state": {
            "_view_name": "LayoutView",
            "grid_template_rows": null,
            "right": null,
            "justify_content": null,
            "_view_module": "@jupyter-widgets/base",
            "overflow": null,
            "_model_module_version": "1.2.0",
            "_view_count": null,
            "flex_flow": null,
            "width": null,
            "min_width": null,
            "border": null,
            "align_items": null,
            "bottom": null,
            "_model_module": "@jupyter-widgets/base",
            "top": null,
            "grid_column": null,
            "overflow_y": null,
            "overflow_x": null,
            "grid_auto_flow": null,
            "grid_area": null,
            "grid_template_columns": null,
            "flex": null,
            "_model_name": "LayoutModel",
            "justify_items": null,
            "grid_row": null,
            "max_height": null,
            "align_content": null,
            "visibility": null,
            "align_self": null,
            "height": null,
            "min_height": null,
            "padding": null,
            "grid_auto_rows": null,
            "grid_gap": null,
            "max_width": null,
            "order": null,
            "_view_module_version": "1.2.0",
            "grid_template_areas": null,
            "object_position": null,
            "object_fit": null,
            "grid_auto_columns": null,
            "margin": null,
            "display": null,
            "left": null
          }
        },
        "a70ee20cecd64303915255d7fc8734bb": {
          "model_module": "@jupyter-widgets/controls",
          "model_name": "HBoxModel",
          "state": {
            "_view_name": "HBoxView",
            "_dom_classes": [],
            "_model_name": "HBoxModel",
            "_view_module": "@jupyter-widgets/controls",
            "_model_module_version": "1.5.0",
            "_view_count": null,
            "_view_module_version": "1.5.0",
            "box_style": "",
            "layout": "IPY_MODEL_ef7e4973c8ff4a818bebefb54a41bde2",
            "_model_module": "@jupyter-widgets/controls",
            "children": [
              "IPY_MODEL_197b1aec8dc941918b4a1a20dda5bbb6",
              "IPY_MODEL_707f08a7782049cfaf3b0f0bd760327c"
            ]
          }
        },
        "ef7e4973c8ff4a818bebefb54a41bde2": {
          "model_module": "@jupyter-widgets/base",
          "model_name": "LayoutModel",
          "state": {
            "_view_name": "LayoutView",
            "grid_template_rows": null,
            "right": null,
            "justify_content": null,
            "_view_module": "@jupyter-widgets/base",
            "overflow": null,
            "_model_module_version": "1.2.0",
            "_view_count": null,
            "flex_flow": null,
            "width": null,
            "min_width": null,
            "border": null,
            "align_items": null,
            "bottom": null,
            "_model_module": "@jupyter-widgets/base",
            "top": null,
            "grid_column": null,
            "overflow_y": null,
            "overflow_x": null,
            "grid_auto_flow": null,
            "grid_area": null,
            "grid_template_columns": null,
            "flex": null,
            "_model_name": "LayoutModel",
            "justify_items": null,
            "grid_row": null,
            "max_height": null,
            "align_content": null,
            "visibility": null,
            "align_self": null,
            "height": null,
            "min_height": null,
            "padding": null,
            "grid_auto_rows": null,
            "grid_gap": null,
            "max_width": null,
            "order": null,
            "_view_module_version": "1.2.0",
            "grid_template_areas": null,
            "object_position": null,
            "object_fit": null,
            "grid_auto_columns": null,
            "margin": null,
            "display": null,
            "left": null
          }
        },
        "197b1aec8dc941918b4a1a20dda5bbb6": {
          "model_module": "@jupyter-widgets/controls",
          "model_name": "FloatProgressModel",
          "state": {
            "_view_name": "ProgressView",
            "style": "IPY_MODEL_bc7c32ff0d894d2195d8886edff987dc",
            "_dom_classes": [],
            "description": "Downloading: 100%",
            "_model_name": "FloatProgressModel",
            "bar_style": "success",
            "max": 1199,
            "_view_module": "@jupyter-widgets/controls",
            "_model_module_version": "1.5.0",
            "value": 1199,
            "_view_count": null,
            "_view_module_version": "1.5.0",
            "orientation": "horizontal",
            "min": 0,
            "description_tooltip": null,
            "_model_module": "@jupyter-widgets/controls",
            "layout": "IPY_MODEL_71b55a2beb344959af3c7fe064d14fb9"
          }
        },
        "707f08a7782049cfaf3b0f0bd760327c": {
          "model_module": "@jupyter-widgets/controls",
          "model_name": "HTMLModel",
          "state": {
            "_view_name": "HTMLView",
            "style": "IPY_MODEL_e5704b3ec55b4e51813cb08893cb5331",
            "_dom_classes": [],
            "description": "",
            "_model_name": "HTMLModel",
            "placeholder": "​",
            "_view_module": "@jupyter-widgets/controls",
            "_model_module_version": "1.5.0",
            "value": " 1.20k/1.20k [00:13&lt;00:00, 88.1B/s]",
            "_view_count": null,
            "_view_module_version": "1.5.0",
            "description_tooltip": null,
            "_model_module": "@jupyter-widgets/controls",
            "layout": "IPY_MODEL_4144fdb39fdb4ec4b3ccff9ec4bdbad3"
          }
        },
        "bc7c32ff0d894d2195d8886edff987dc": {
          "model_module": "@jupyter-widgets/controls",
          "model_name": "ProgressStyleModel",
          "state": {
            "_view_name": "StyleView",
            "_model_name": "ProgressStyleModel",
            "description_width": "initial",
            "_view_module": "@jupyter-widgets/base",
            "_model_module_version": "1.5.0",
            "_view_count": null,
            "_view_module_version": "1.2.0",
            "bar_color": null,
            "_model_module": "@jupyter-widgets/controls"
          }
        },
        "71b55a2beb344959af3c7fe064d14fb9": {
          "model_module": "@jupyter-widgets/base",
          "model_name": "LayoutModel",
          "state": {
            "_view_name": "LayoutView",
            "grid_template_rows": null,
            "right": null,
            "justify_content": null,
            "_view_module": "@jupyter-widgets/base",
            "overflow": null,
            "_model_module_version": "1.2.0",
            "_view_count": null,
            "flex_flow": null,
            "width": null,
            "min_width": null,
            "border": null,
            "align_items": null,
            "bottom": null,
            "_model_module": "@jupyter-widgets/base",
            "top": null,
            "grid_column": null,
            "overflow_y": null,
            "overflow_x": null,
            "grid_auto_flow": null,
            "grid_area": null,
            "grid_template_columns": null,
            "flex": null,
            "_model_name": "LayoutModel",
            "justify_items": null,
            "grid_row": null,
            "max_height": null,
            "align_content": null,
            "visibility": null,
            "align_self": null,
            "height": null,
            "min_height": null,
            "padding": null,
            "grid_auto_rows": null,
            "grid_gap": null,
            "max_width": null,
            "order": null,
            "_view_module_version": "1.2.0",
            "grid_template_areas": null,
            "object_position": null,
            "object_fit": null,
            "grid_auto_columns": null,
            "margin": null,
            "display": null,
            "left": null
          }
        },
        "e5704b3ec55b4e51813cb08893cb5331": {
          "model_module": "@jupyter-widgets/controls",
          "model_name": "DescriptionStyleModel",
          "state": {
            "_view_name": "StyleView",
            "_model_name": "DescriptionStyleModel",
            "description_width": "",
            "_view_module": "@jupyter-widgets/base",
            "_model_module_version": "1.5.0",
            "_view_count": null,
            "_view_module_version": "1.2.0",
            "_model_module": "@jupyter-widgets/controls"
          }
        },
        "4144fdb39fdb4ec4b3ccff9ec4bdbad3": {
          "model_module": "@jupyter-widgets/base",
          "model_name": "LayoutModel",
          "state": {
            "_view_name": "LayoutView",
            "grid_template_rows": null,
            "right": null,
            "justify_content": null,
            "_view_module": "@jupyter-widgets/base",
            "overflow": null,
            "_model_module_version": "1.2.0",
            "_view_count": null,
            "flex_flow": null,
            "width": null,
            "min_width": null,
            "border": null,
            "align_items": null,
            "bottom": null,
            "_model_module": "@jupyter-widgets/base",
            "top": null,
            "grid_column": null,
            "overflow_y": null,
            "overflow_x": null,
            "grid_auto_flow": null,
            "grid_area": null,
            "grid_template_columns": null,
            "flex": null,
            "_model_name": "LayoutModel",
            "justify_items": null,
            "grid_row": null,
            "max_height": null,
            "align_content": null,
            "visibility": null,
            "align_self": null,
            "height": null,
            "min_height": null,
            "padding": null,
            "grid_auto_rows": null,
            "grid_gap": null,
            "max_width": null,
            "order": null,
            "_view_module_version": "1.2.0",
            "grid_template_areas": null,
            "object_position": null,
            "object_fit": null,
            "grid_auto_columns": null,
            "margin": null,
            "display": null,
            "left": null
          }
        },
        "17c0a32324764509a078f8c119483ed1": {
          "model_module": "@jupyter-widgets/controls",
          "model_name": "HBoxModel",
          "state": {
            "_view_name": "HBoxView",
            "_dom_classes": [],
            "_model_name": "HBoxModel",
            "_view_module": "@jupyter-widgets/controls",
            "_model_module_version": "1.5.0",
            "_view_count": null,
            "_view_module_version": "1.5.0",
            "box_style": "",
            "layout": "IPY_MODEL_5e4b603a80cc46ef86b8ae1a58ead6c8",
            "_model_module": "@jupyter-widgets/controls",
            "children": [
              "IPY_MODEL_066dc5f6b3fc499a878cbb615ff0e468",
              "IPY_MODEL_7cd9f1a7f3ef4f7a96ad0ba20635aeca"
            ]
          }
        },
        "5e4b603a80cc46ef86b8ae1a58ead6c8": {
          "model_module": "@jupyter-widgets/base",
          "model_name": "LayoutModel",
          "state": {
            "_view_name": "LayoutView",
            "grid_template_rows": null,
            "right": null,
            "justify_content": null,
            "_view_module": "@jupyter-widgets/base",
            "overflow": null,
            "_model_module_version": "1.2.0",
            "_view_count": null,
            "flex_flow": null,
            "width": null,
            "min_width": null,
            "border": null,
            "align_items": null,
            "bottom": null,
            "_model_module": "@jupyter-widgets/base",
            "top": null,
            "grid_column": null,
            "overflow_y": null,
            "overflow_x": null,
            "grid_auto_flow": null,
            "grid_area": null,
            "grid_template_columns": null,
            "flex": null,
            "_model_name": "LayoutModel",
            "justify_items": null,
            "grid_row": null,
            "max_height": null,
            "align_content": null,
            "visibility": null,
            "align_self": null,
            "height": null,
            "min_height": null,
            "padding": null,
            "grid_auto_rows": null,
            "grid_gap": null,
            "max_width": null,
            "order": null,
            "_view_module_version": "1.2.0",
            "grid_template_areas": null,
            "object_position": null,
            "object_fit": null,
            "grid_auto_columns": null,
            "margin": null,
            "display": null,
            "left": null
          }
        },
        "066dc5f6b3fc499a878cbb615ff0e468": {
          "model_module": "@jupyter-widgets/controls",
          "model_name": "FloatProgressModel",
          "state": {
            "_view_name": "ProgressView",
            "style": "IPY_MODEL_fd9f80cf3cec4efe9175a6cfd22b211c",
            "_dom_classes": [],
            "description": "Downloading: 100%",
            "_model_name": "FloatProgressModel",
            "bar_style": "success",
            "max": 892146080,
            "_view_module": "@jupyter-widgets/controls",
            "_model_module_version": "1.5.0",
            "value": 892146080,
            "_view_count": null,
            "_view_module_version": "1.5.0",
            "orientation": "horizontal",
            "min": 0,
            "description_tooltip": null,
            "_model_module": "@jupyter-widgets/controls",
            "layout": "IPY_MODEL_f69133cea13f4bad813083d9c0dd67ce"
          }
        },
        "7cd9f1a7f3ef4f7a96ad0ba20635aeca": {
          "model_module": "@jupyter-widgets/controls",
          "model_name": "HTMLModel",
          "state": {
            "_view_name": "HTMLView",
            "style": "IPY_MODEL_eba396de930d4739a2512f49969e15c3",
            "_dom_classes": [],
            "description": "",
            "_model_name": "HTMLModel",
            "placeholder": "​",
            "_view_module": "@jupyter-widgets/controls",
            "_model_module_version": "1.5.0",
            "value": " 892M/892M [00:13&lt;00:00, 68.3MB/s]",
            "_view_count": null,
            "_view_module_version": "1.5.0",
            "description_tooltip": null,
            "_model_module": "@jupyter-widgets/controls",
            "layout": "IPY_MODEL_a7ebc0d497784fa289eed82e8e16c842"
          }
        },
        "fd9f80cf3cec4efe9175a6cfd22b211c": {
          "model_module": "@jupyter-widgets/controls",
          "model_name": "ProgressStyleModel",
          "state": {
            "_view_name": "StyleView",
            "_model_name": "ProgressStyleModel",
            "description_width": "initial",
            "_view_module": "@jupyter-widgets/base",
            "_model_module_version": "1.5.0",
            "_view_count": null,
            "_view_module_version": "1.2.0",
            "bar_color": null,
            "_model_module": "@jupyter-widgets/controls"
          }
        },
        "f69133cea13f4bad813083d9c0dd67ce": {
          "model_module": "@jupyter-widgets/base",
          "model_name": "LayoutModel",
          "state": {
            "_view_name": "LayoutView",
            "grid_template_rows": null,
            "right": null,
            "justify_content": null,
            "_view_module": "@jupyter-widgets/base",
            "overflow": null,
            "_model_module_version": "1.2.0",
            "_view_count": null,
            "flex_flow": null,
            "width": null,
            "min_width": null,
            "border": null,
            "align_items": null,
            "bottom": null,
            "_model_module": "@jupyter-widgets/base",
            "top": null,
            "grid_column": null,
            "overflow_y": null,
            "overflow_x": null,
            "grid_auto_flow": null,
            "grid_area": null,
            "grid_template_columns": null,
            "flex": null,
            "_model_name": "LayoutModel",
            "justify_items": null,
            "grid_row": null,
            "max_height": null,
            "align_content": null,
            "visibility": null,
            "align_self": null,
            "height": null,
            "min_height": null,
            "padding": null,
            "grid_auto_rows": null,
            "grid_gap": null,
            "max_width": null,
            "order": null,
            "_view_module_version": "1.2.0",
            "grid_template_areas": null,
            "object_position": null,
            "object_fit": null,
            "grid_auto_columns": null,
            "margin": null,
            "display": null,
            "left": null
          }
        },
        "eba396de930d4739a2512f49969e15c3": {
          "model_module": "@jupyter-widgets/controls",
          "model_name": "DescriptionStyleModel",
          "state": {
            "_view_name": "StyleView",
            "_model_name": "DescriptionStyleModel",
            "description_width": "",
            "_view_module": "@jupyter-widgets/base",
            "_model_module_version": "1.5.0",
            "_view_count": null,
            "_view_module_version": "1.2.0",
            "_model_module": "@jupyter-widgets/controls"
          }
        },
        "a7ebc0d497784fa289eed82e8e16c842": {
          "model_module": "@jupyter-widgets/base",
          "model_name": "LayoutModel",
          "state": {
            "_view_name": "LayoutView",
            "grid_template_rows": null,
            "right": null,
            "justify_content": null,
            "_view_module": "@jupyter-widgets/base",
            "overflow": null,
            "_model_module_version": "1.2.0",
            "_view_count": null,
            "flex_flow": null,
            "width": null,
            "min_width": null,
            "border": null,
            "align_items": null,
            "bottom": null,
            "_model_module": "@jupyter-widgets/base",
            "top": null,
            "grid_column": null,
            "overflow_y": null,
            "overflow_x": null,
            "grid_auto_flow": null,
            "grid_area": null,
            "grid_template_columns": null,
            "flex": null,
            "_model_name": "LayoutModel",
            "justify_items": null,
            "grid_row": null,
            "max_height": null,
            "align_content": null,
            "visibility": null,
            "align_self": null,
            "height": null,
            "min_height": null,
            "padding": null,
            "grid_auto_rows": null,
            "grid_gap": null,
            "max_width": null,
            "order": null,
            "_view_module_version": "1.2.0",
            "grid_template_areas": null,
            "object_position": null,
            "object_fit": null,
            "grid_auto_columns": null,
            "margin": null,
            "display": null,
            "left": null
          }
        },
        "e61fdad847424ebc81164a30f508627a": {
          "model_module": "@jupyter-widgets/controls",
          "model_name": "HBoxModel",
          "state": {
            "_view_name": "HBoxView",
            "_dom_classes": [],
            "_model_name": "HBoxModel",
            "_view_module": "@jupyter-widgets/controls",
            "_model_module_version": "1.5.0",
            "_view_count": null,
            "_view_module_version": "1.5.0",
            "box_style": "",
            "layout": "IPY_MODEL_687f1ebb74a045539bca563881b437b7",
            "_model_module": "@jupyter-widgets/controls",
            "children": [
              "IPY_MODEL_bc18e95104eb4b048e83342d60d31d57",
              "IPY_MODEL_d8e57e3f534c4e63ab75974bbbd97bad"
            ]
          }
        },
        "687f1ebb74a045539bca563881b437b7": {
          "model_module": "@jupyter-widgets/base",
          "model_name": "LayoutModel",
          "state": {
            "_view_name": "LayoutView",
            "grid_template_rows": null,
            "right": null,
            "justify_content": null,
            "_view_module": "@jupyter-widgets/base",
            "overflow": null,
            "_model_module_version": "1.2.0",
            "_view_count": null,
            "flex_flow": null,
            "width": null,
            "min_width": null,
            "border": null,
            "align_items": null,
            "bottom": null,
            "_model_module": "@jupyter-widgets/base",
            "top": null,
            "grid_column": null,
            "overflow_y": null,
            "overflow_x": null,
            "grid_auto_flow": null,
            "grid_area": null,
            "grid_template_columns": null,
            "flex": null,
            "_model_name": "LayoutModel",
            "justify_items": null,
            "grid_row": null,
            "max_height": null,
            "align_content": null,
            "visibility": null,
            "align_self": null,
            "height": null,
            "min_height": null,
            "padding": null,
            "grid_auto_rows": null,
            "grid_gap": null,
            "max_width": null,
            "order": null,
            "_view_module_version": "1.2.0",
            "grid_template_areas": null,
            "object_position": null,
            "object_fit": null,
            "grid_auto_columns": null,
            "margin": null,
            "display": null,
            "left": null
          }
        },
        "bc18e95104eb4b048e83342d60d31d57": {
          "model_module": "@jupyter-widgets/controls",
          "model_name": "FloatProgressModel",
          "state": {
            "_view_name": "ProgressView",
            "style": "IPY_MODEL_35dd76c9471e46c1a0597a489a474818",
            "_dom_classes": [],
            "description": "Downloading: 100%",
            "_model_name": "FloatProgressModel",
            "bar_style": "success",
            "max": 791656,
            "_view_module": "@jupyter-widgets/controls",
            "_model_module_version": "1.5.0",
            "value": 791656,
            "_view_count": null,
            "_view_module_version": "1.5.0",
            "orientation": "horizontal",
            "min": 0,
            "description_tooltip": null,
            "_model_module": "@jupyter-widgets/controls",
            "layout": "IPY_MODEL_cb138536bdc442e3a8bf9b2df39b2661"
          }
        },
        "d8e57e3f534c4e63ab75974bbbd97bad": {
          "model_module": "@jupyter-widgets/controls",
          "model_name": "HTMLModel",
          "state": {
            "_view_name": "HTMLView",
            "style": "IPY_MODEL_b25cc4f04c134e1faea13f7698d5f26c",
            "_dom_classes": [],
            "description": "",
            "_model_name": "HTMLModel",
            "placeholder": "​",
            "_view_module": "@jupyter-widgets/controls",
            "_model_module_version": "1.5.0",
            "value": " 792k/792k [00:00&lt;00:00, 1.26MB/s]",
            "_view_count": null,
            "_view_module_version": "1.5.0",
            "description_tooltip": null,
            "_model_module": "@jupyter-widgets/controls",
            "layout": "IPY_MODEL_bdf248db34e64cf399e0327322b336d4"
          }
        },
        "35dd76c9471e46c1a0597a489a474818": {
          "model_module": "@jupyter-widgets/controls",
          "model_name": "ProgressStyleModel",
          "state": {
            "_view_name": "StyleView",
            "_model_name": "ProgressStyleModel",
            "description_width": "initial",
            "_view_module": "@jupyter-widgets/base",
            "_model_module_version": "1.5.0",
            "_view_count": null,
            "_view_module_version": "1.2.0",
            "bar_color": null,
            "_model_module": "@jupyter-widgets/controls"
          }
        },
        "cb138536bdc442e3a8bf9b2df39b2661": {
          "model_module": "@jupyter-widgets/base",
          "model_name": "LayoutModel",
          "state": {
            "_view_name": "LayoutView",
            "grid_template_rows": null,
            "right": null,
            "justify_content": null,
            "_view_module": "@jupyter-widgets/base",
            "overflow": null,
            "_model_module_version": "1.2.0",
            "_view_count": null,
            "flex_flow": null,
            "width": null,
            "min_width": null,
            "border": null,
            "align_items": null,
            "bottom": null,
            "_model_module": "@jupyter-widgets/base",
            "top": null,
            "grid_column": null,
            "overflow_y": null,
            "overflow_x": null,
            "grid_auto_flow": null,
            "grid_area": null,
            "grid_template_columns": null,
            "flex": null,
            "_model_name": "LayoutModel",
            "justify_items": null,
            "grid_row": null,
            "max_height": null,
            "align_content": null,
            "visibility": null,
            "align_self": null,
            "height": null,
            "min_height": null,
            "padding": null,
            "grid_auto_rows": null,
            "grid_gap": null,
            "max_width": null,
            "order": null,
            "_view_module_version": "1.2.0",
            "grid_template_areas": null,
            "object_position": null,
            "object_fit": null,
            "grid_auto_columns": null,
            "margin": null,
            "display": null,
            "left": null
          }
        },
        "b25cc4f04c134e1faea13f7698d5f26c": {
          "model_module": "@jupyter-widgets/controls",
          "model_name": "DescriptionStyleModel",
          "state": {
            "_view_name": "StyleView",
            "_model_name": "DescriptionStyleModel",
            "description_width": "",
            "_view_module": "@jupyter-widgets/base",
            "_model_module_version": "1.5.0",
            "_view_count": null,
            "_view_module_version": "1.2.0",
            "_model_module": "@jupyter-widgets/controls"
          }
        },
        "bdf248db34e64cf399e0327322b336d4": {
          "model_module": "@jupyter-widgets/base",
          "model_name": "LayoutModel",
          "state": {
            "_view_name": "LayoutView",
            "grid_template_rows": null,
            "right": null,
            "justify_content": null,
            "_view_module": "@jupyter-widgets/base",
            "overflow": null,
            "_model_module_version": "1.2.0",
            "_view_count": null,
            "flex_flow": null,
            "width": null,
            "min_width": null,
            "border": null,
            "align_items": null,
            "bottom": null,
            "_model_module": "@jupyter-widgets/base",
            "top": null,
            "grid_column": null,
            "overflow_y": null,
            "overflow_x": null,
            "grid_auto_flow": null,
            "grid_area": null,
            "grid_template_columns": null,
            "flex": null,
            "_model_name": "LayoutModel",
            "justify_items": null,
            "grid_row": null,
            "max_height": null,
            "align_content": null,
            "visibility": null,
            "align_self": null,
            "height": null,
            "min_height": null,
            "padding": null,
            "grid_auto_rows": null,
            "grid_gap": null,
            "max_width": null,
            "order": null,
            "_view_module_version": "1.2.0",
            "grid_template_areas": null,
            "object_position": null,
            "object_fit": null,
            "grid_auto_columns": null,
            "margin": null,
            "display": null,
            "left": null
          }
        },
        "02f6ca9355ce433a887d595109818acd": {
          "model_module": "@jupyter-widgets/controls",
          "model_name": "HBoxModel",
          "state": {
            "_view_name": "HBoxView",
            "_dom_classes": [],
            "_model_name": "HBoxModel",
            "_view_module": "@jupyter-widgets/controls",
            "_model_module_version": "1.5.0",
            "_view_count": null,
            "_view_module_version": "1.5.0",
            "box_style": "",
            "layout": "IPY_MODEL_d1fdb13fc9e2418daceb1fa5732cfef4",
            "_model_module": "@jupyter-widgets/controls",
            "children": [
              "IPY_MODEL_562daf284aa94e8c86fc14f5cc75fef7",
              "IPY_MODEL_2d8ab090916e402998cd74916e6de007"
            ]
          }
        },
        "d1fdb13fc9e2418daceb1fa5732cfef4": {
          "model_module": "@jupyter-widgets/base",
          "model_name": "LayoutModel",
          "state": {
            "_view_name": "LayoutView",
            "grid_template_rows": null,
            "right": null,
            "justify_content": null,
            "_view_module": "@jupyter-widgets/base",
            "overflow": null,
            "_model_module_version": "1.2.0",
            "_view_count": null,
            "flex_flow": null,
            "width": null,
            "min_width": null,
            "border": null,
            "align_items": null,
            "bottom": null,
            "_model_module": "@jupyter-widgets/base",
            "top": null,
            "grid_column": null,
            "overflow_y": null,
            "overflow_x": null,
            "grid_auto_flow": null,
            "grid_area": null,
            "grid_template_columns": null,
            "flex": null,
            "_model_name": "LayoutModel",
            "justify_items": null,
            "grid_row": null,
            "max_height": null,
            "align_content": null,
            "visibility": null,
            "align_self": null,
            "height": null,
            "min_height": null,
            "padding": null,
            "grid_auto_rows": null,
            "grid_gap": null,
            "max_width": null,
            "order": null,
            "_view_module_version": "1.2.0",
            "grid_template_areas": null,
            "object_position": null,
            "object_fit": null,
            "grid_auto_columns": null,
            "margin": null,
            "display": null,
            "left": null
          }
        },
        "562daf284aa94e8c86fc14f5cc75fef7": {
          "model_module": "@jupyter-widgets/controls",
          "model_name": "FloatProgressModel",
          "state": {
            "_view_name": "ProgressView",
            "style": "IPY_MODEL_2825ecfcb27c40bdb96cd01785673cde",
            "_dom_classes": [],
            "description": "Dl Completed...: 100%",
            "_model_name": "FloatProgressModel",
            "bar_style": "success",
            "max": 1,
            "_view_module": "@jupyter-widgets/controls",
            "_model_module_version": "1.5.0",
            "value": 1,
            "_view_count": null,
            "_view_module_version": "1.5.0",
            "orientation": "horizontal",
            "min": 0,
            "description_tooltip": null,
            "_model_module": "@jupyter-widgets/controls",
            "layout": "IPY_MODEL_3e6b35899e87492bac08bc27bfb588d4"
          }
        },
        "2d8ab090916e402998cd74916e6de007": {
          "model_module": "@jupyter-widgets/controls",
          "model_name": "HTMLModel",
          "state": {
            "_view_name": "HTMLView",
            "style": "IPY_MODEL_6ba77e9b8d8845ff84193b19d71a0dc3",
            "_dom_classes": [],
            "description": "",
            "_model_name": "HTMLModel",
            "placeholder": "​",
            "_view_module": "@jupyter-widgets/controls",
            "_model_module_version": "1.5.0",
            "value": " 1/1 [00:04&lt;00:00,  4.81s/ url]",
            "_view_count": null,
            "_view_module_version": "1.5.0",
            "description_tooltip": null,
            "_model_module": "@jupyter-widgets/controls",
            "layout": "IPY_MODEL_74a94d18bfbc4a98a0b0108aab69fab2"
          }
        },
        "2825ecfcb27c40bdb96cd01785673cde": {
          "model_module": "@jupyter-widgets/controls",
          "model_name": "ProgressStyleModel",
          "state": {
            "_view_name": "StyleView",
            "_model_name": "ProgressStyleModel",
            "description_width": "initial",
            "_view_module": "@jupyter-widgets/base",
            "_model_module_version": "1.5.0",
            "_view_count": null,
            "_view_module_version": "1.2.0",
            "bar_color": null,
            "_model_module": "@jupyter-widgets/controls"
          }
        },
        "3e6b35899e87492bac08bc27bfb588d4": {
          "model_module": "@jupyter-widgets/base",
          "model_name": "LayoutModel",
          "state": {
            "_view_name": "LayoutView",
            "grid_template_rows": null,
            "right": null,
            "justify_content": null,
            "_view_module": "@jupyter-widgets/base",
            "overflow": null,
            "_model_module_version": "1.2.0",
            "_view_count": null,
            "flex_flow": null,
            "width": null,
            "min_width": null,
            "border": null,
            "align_items": null,
            "bottom": null,
            "_model_module": "@jupyter-widgets/base",
            "top": null,
            "grid_column": null,
            "overflow_y": null,
            "overflow_x": null,
            "grid_auto_flow": null,
            "grid_area": null,
            "grid_template_columns": null,
            "flex": null,
            "_model_name": "LayoutModel",
            "justify_items": null,
            "grid_row": null,
            "max_height": null,
            "align_content": null,
            "visibility": null,
            "align_self": null,
            "height": null,
            "min_height": null,
            "padding": null,
            "grid_auto_rows": null,
            "grid_gap": null,
            "max_width": null,
            "order": null,
            "_view_module_version": "1.2.0",
            "grid_template_areas": null,
            "object_position": null,
            "object_fit": null,
            "grid_auto_columns": null,
            "margin": null,
            "display": null,
            "left": null
          }
        },
        "6ba77e9b8d8845ff84193b19d71a0dc3": {
          "model_module": "@jupyter-widgets/controls",
          "model_name": "DescriptionStyleModel",
          "state": {
            "_view_name": "StyleView",
            "_model_name": "DescriptionStyleModel",
            "description_width": "",
            "_view_module": "@jupyter-widgets/base",
            "_model_module_version": "1.5.0",
            "_view_count": null,
            "_view_module_version": "1.2.0",
            "_model_module": "@jupyter-widgets/controls"
          }
        },
        "74a94d18bfbc4a98a0b0108aab69fab2": {
          "model_module": "@jupyter-widgets/base",
          "model_name": "LayoutModel",
          "state": {
            "_view_name": "LayoutView",
            "grid_template_rows": null,
            "right": null,
            "justify_content": null,
            "_view_module": "@jupyter-widgets/base",
            "overflow": null,
            "_model_module_version": "1.2.0",
            "_view_count": null,
            "flex_flow": null,
            "width": null,
            "min_width": null,
            "border": null,
            "align_items": null,
            "bottom": null,
            "_model_module": "@jupyter-widgets/base",
            "top": null,
            "grid_column": null,
            "overflow_y": null,
            "overflow_x": null,
            "grid_auto_flow": null,
            "grid_area": null,
            "grid_template_columns": null,
            "flex": null,
            "_model_name": "LayoutModel",
            "justify_items": null,
            "grid_row": null,
            "max_height": null,
            "align_content": null,
            "visibility": null,
            "align_self": null,
            "height": null,
            "min_height": null,
            "padding": null,
            "grid_auto_rows": null,
            "grid_gap": null,
            "max_width": null,
            "order": null,
            "_view_module_version": "1.2.0",
            "grid_template_areas": null,
            "object_position": null,
            "object_fit": null,
            "grid_auto_columns": null,
            "margin": null,
            "display": null,
            "left": null
          }
        },
        "bf85c9e90c7e439682cc0ab48da64dcc": {
          "model_module": "@jupyter-widgets/controls",
          "model_name": "HBoxModel",
          "state": {
            "_view_name": "HBoxView",
            "_dom_classes": [],
            "_model_name": "HBoxModel",
            "_view_module": "@jupyter-widgets/controls",
            "_model_module_version": "1.5.0",
            "_view_count": null,
            "_view_module_version": "1.5.0",
            "box_style": "",
            "layout": "IPY_MODEL_062b5d7267214ccaa5082dab8ae31ecd",
            "_model_module": "@jupyter-widgets/controls",
            "children": [
              "IPY_MODEL_f36928fe829441d49562656f70ea89e8",
              "IPY_MODEL_c1b1ef14f9164d769c0e7c247ec943b3"
            ]
          }
        },
        "062b5d7267214ccaa5082dab8ae31ecd": {
          "model_module": "@jupyter-widgets/base",
          "model_name": "LayoutModel",
          "state": {
            "_view_name": "LayoutView",
            "grid_template_rows": null,
            "right": null,
            "justify_content": null,
            "_view_module": "@jupyter-widgets/base",
            "overflow": null,
            "_model_module_version": "1.2.0",
            "_view_count": null,
            "flex_flow": null,
            "width": null,
            "min_width": null,
            "border": null,
            "align_items": null,
            "bottom": null,
            "_model_module": "@jupyter-widgets/base",
            "top": null,
            "grid_column": null,
            "overflow_y": null,
            "overflow_x": null,
            "grid_auto_flow": null,
            "grid_area": null,
            "grid_template_columns": null,
            "flex": null,
            "_model_name": "LayoutModel",
            "justify_items": null,
            "grid_row": null,
            "max_height": null,
            "align_content": null,
            "visibility": null,
            "align_self": null,
            "height": null,
            "min_height": null,
            "padding": null,
            "grid_auto_rows": null,
            "grid_gap": null,
            "max_width": null,
            "order": null,
            "_view_module_version": "1.2.0",
            "grid_template_areas": null,
            "object_position": null,
            "object_fit": null,
            "grid_auto_columns": null,
            "margin": null,
            "display": null,
            "left": null
          }
        },
        "f36928fe829441d49562656f70ea89e8": {
          "model_module": "@jupyter-widgets/controls",
          "model_name": "FloatProgressModel",
          "state": {
            "_view_name": "ProgressView",
            "style": "IPY_MODEL_a73b43ee0f584d5f803398cd07708485",
            "_dom_classes": [],
            "description": "Dl Size...: 100%",
            "_model_name": "FloatProgressModel",
            "bar_style": "success",
            "max": 1,
            "_view_module": "@jupyter-widgets/controls",
            "_model_module_version": "1.5.0",
            "value": 1,
            "_view_count": null,
            "_view_module_version": "1.5.0",
            "orientation": "horizontal",
            "min": 0,
            "description_tooltip": null,
            "_model_module": "@jupyter-widgets/controls",
            "layout": "IPY_MODEL_9343eae7180d41b9bbc1a061dd0fcb61"
          }
        },
        "c1b1ef14f9164d769c0e7c247ec943b3": {
          "model_module": "@jupyter-widgets/controls",
          "model_name": "HTMLModel",
          "state": {
            "_view_name": "HTMLView",
            "style": "IPY_MODEL_a4eb7fa238c9476daf4345d947884c79",
            "_dom_classes": [],
            "description": "",
            "_model_name": "HTMLModel",
            "placeholder": "​",
            "_view_module": "@jupyter-widgets/controls",
            "_model_module_version": "1.5.0",
            "value": " 80/80 [00:04&lt;00:00, 16.72 MiB/s]",
            "_view_count": null,
            "_view_module_version": "1.5.0",
            "description_tooltip": null,
            "_model_module": "@jupyter-widgets/controls",
            "layout": "IPY_MODEL_92807afa1cf8424eafee9fdba7509544"
          }
        },
        "a73b43ee0f584d5f803398cd07708485": {
          "model_module": "@jupyter-widgets/controls",
          "model_name": "ProgressStyleModel",
          "state": {
            "_view_name": "StyleView",
            "_model_name": "ProgressStyleModel",
            "description_width": "initial",
            "_view_module": "@jupyter-widgets/base",
            "_model_module_version": "1.5.0",
            "_view_count": null,
            "_view_module_version": "1.2.0",
            "bar_color": null,
            "_model_module": "@jupyter-widgets/controls"
          }
        },
        "9343eae7180d41b9bbc1a061dd0fcb61": {
          "model_module": "@jupyter-widgets/base",
          "model_name": "LayoutModel",
          "state": {
            "_view_name": "LayoutView",
            "grid_template_rows": null,
            "right": null,
            "justify_content": null,
            "_view_module": "@jupyter-widgets/base",
            "overflow": null,
            "_model_module_version": "1.2.0",
            "_view_count": null,
            "flex_flow": null,
            "width": null,
            "min_width": null,
            "border": null,
            "align_items": null,
            "bottom": null,
            "_model_module": "@jupyter-widgets/base",
            "top": null,
            "grid_column": null,
            "overflow_y": null,
            "overflow_x": null,
            "grid_auto_flow": null,
            "grid_area": null,
            "grid_template_columns": null,
            "flex": null,
            "_model_name": "LayoutModel",
            "justify_items": null,
            "grid_row": null,
            "max_height": null,
            "align_content": null,
            "visibility": null,
            "align_self": null,
            "height": null,
            "min_height": null,
            "padding": null,
            "grid_auto_rows": null,
            "grid_gap": null,
            "max_width": null,
            "order": null,
            "_view_module_version": "1.2.0",
            "grid_template_areas": null,
            "object_position": null,
            "object_fit": null,
            "grid_auto_columns": null,
            "margin": null,
            "display": null,
            "left": null
          }
        },
        "a4eb7fa238c9476daf4345d947884c79": {
          "model_module": "@jupyter-widgets/controls",
          "model_name": "DescriptionStyleModel",
          "state": {
            "_view_name": "StyleView",
            "_model_name": "DescriptionStyleModel",
            "description_width": "",
            "_view_module": "@jupyter-widgets/base",
            "_model_module_version": "1.5.0",
            "_view_count": null,
            "_view_module_version": "1.2.0",
            "_model_module": "@jupyter-widgets/controls"
          }
        },
        "92807afa1cf8424eafee9fdba7509544": {
          "model_module": "@jupyter-widgets/base",
          "model_name": "LayoutModel",
          "state": {
            "_view_name": "LayoutView",
            "grid_template_rows": null,
            "right": null,
            "justify_content": null,
            "_view_module": "@jupyter-widgets/base",
            "overflow": null,
            "_model_module_version": "1.2.0",
            "_view_count": null,
            "flex_flow": null,
            "width": null,
            "min_width": null,
            "border": null,
            "align_items": null,
            "bottom": null,
            "_model_module": "@jupyter-widgets/base",
            "top": null,
            "grid_column": null,
            "overflow_y": null,
            "overflow_x": null,
            "grid_auto_flow": null,
            "grid_area": null,
            "grid_template_columns": null,
            "flex": null,
            "_model_name": "LayoutModel",
            "justify_items": null,
            "grid_row": null,
            "max_height": null,
            "align_content": null,
            "visibility": null,
            "align_self": null,
            "height": null,
            "min_height": null,
            "padding": null,
            "grid_auto_rows": null,
            "grid_gap": null,
            "max_width": null,
            "order": null,
            "_view_module_version": "1.2.0",
            "grid_template_areas": null,
            "object_position": null,
            "object_fit": null,
            "grid_auto_columns": null,
            "margin": null,
            "display": null,
            "left": null
          }
        },
        "6f261f1ea7e5423494d0f1b49661e898": {
          "model_module": "@jupyter-widgets/controls",
          "model_name": "HBoxModel",
          "state": {
            "_view_name": "HBoxView",
            "_dom_classes": [],
            "_model_name": "HBoxModel",
            "_view_module": "@jupyter-widgets/controls",
            "_model_module_version": "1.5.0",
            "_view_count": null,
            "_view_module_version": "1.5.0",
            "box_style": "",
            "layout": "IPY_MODEL_e5959eb907a44c1bb07a955164756e18",
            "_model_module": "@jupyter-widgets/controls",
            "children": [
              "IPY_MODEL_f5b25a9f3d1943e7bf0e7193c7c767f8",
              "IPY_MODEL_24154310a01b48aeac87184cf8340535"
            ]
          }
        },
        "e5959eb907a44c1bb07a955164756e18": {
          "model_module": "@jupyter-widgets/base",
          "model_name": "LayoutModel",
          "state": {
            "_view_name": "LayoutView",
            "grid_template_rows": null,
            "right": null,
            "justify_content": null,
            "_view_module": "@jupyter-widgets/base",
            "overflow": null,
            "_model_module_version": "1.2.0",
            "_view_count": null,
            "flex_flow": null,
            "width": null,
            "min_width": null,
            "border": null,
            "align_items": null,
            "bottom": null,
            "_model_module": "@jupyter-widgets/base",
            "top": null,
            "grid_column": null,
            "overflow_y": null,
            "overflow_x": null,
            "grid_auto_flow": null,
            "grid_area": null,
            "grid_template_columns": null,
            "flex": null,
            "_model_name": "LayoutModel",
            "justify_items": null,
            "grid_row": null,
            "max_height": null,
            "align_content": null,
            "visibility": null,
            "align_self": null,
            "height": null,
            "min_height": null,
            "padding": null,
            "grid_auto_rows": null,
            "grid_gap": null,
            "max_width": null,
            "order": null,
            "_view_module_version": "1.2.0",
            "grid_template_areas": null,
            "object_position": null,
            "object_fit": null,
            "grid_auto_columns": null,
            "margin": null,
            "display": null,
            "left": null
          }
        },
        "f5b25a9f3d1943e7bf0e7193c7c767f8": {
          "model_module": "@jupyter-widgets/controls",
          "model_name": "FloatProgressModel",
          "state": {
            "_view_name": "ProgressView",
            "style": "IPY_MODEL_445b4278f8044de9b7208dc7a4178128",
            "_dom_classes": [],
            "description": "",
            "_model_name": "FloatProgressModel",
            "bar_style": "info",
            "max": 1,
            "_view_module": "@jupyter-widgets/controls",
            "_model_module_version": "1.5.0",
            "value": 1,
            "_view_count": null,
            "_view_module_version": "1.5.0",
            "orientation": "horizontal",
            "min": 0,
            "description_tooltip": null,
            "_model_module": "@jupyter-widgets/controls",
            "layout": "IPY_MODEL_ea59084129b34f87a35346961e16e6c6"
          }
        },
        "24154310a01b48aeac87184cf8340535": {
          "model_module": "@jupyter-widgets/controls",
          "model_name": "HTMLModel",
          "state": {
            "_view_name": "HTMLView",
            "style": "IPY_MODEL_8bb4329aed6748c7a7528a0e6f9d2905",
            "_dom_classes": [],
            "description": "",
            "_model_name": "HTMLModel",
            "placeholder": "​",
            "_view_module": "@jupyter-widgets/controls",
            "_model_module_version": "1.5.0",
            "value": " 25000/0 [00:11&lt;00:00, 3711.81 examples/s]",
            "_view_count": null,
            "_view_module_version": "1.5.0",
            "description_tooltip": null,
            "_model_module": "@jupyter-widgets/controls",
            "layout": "IPY_MODEL_e226d2c904fe4e8a9b0edf8700af7dd1"
          }
        },
        "445b4278f8044de9b7208dc7a4178128": {
          "model_module": "@jupyter-widgets/controls",
          "model_name": "ProgressStyleModel",
          "state": {
            "_view_name": "StyleView",
            "_model_name": "ProgressStyleModel",
            "description_width": "initial",
            "_view_module": "@jupyter-widgets/base",
            "_model_module_version": "1.5.0",
            "_view_count": null,
            "_view_module_version": "1.2.0",
            "bar_color": null,
            "_model_module": "@jupyter-widgets/controls"
          }
        },
        "ea59084129b34f87a35346961e16e6c6": {
          "model_module": "@jupyter-widgets/base",
          "model_name": "LayoutModel",
          "state": {
            "_view_name": "LayoutView",
            "grid_template_rows": null,
            "right": null,
            "justify_content": null,
            "_view_module": "@jupyter-widgets/base",
            "overflow": null,
            "_model_module_version": "1.2.0",
            "_view_count": null,
            "flex_flow": null,
            "width": null,
            "min_width": null,
            "border": null,
            "align_items": null,
            "bottom": null,
            "_model_module": "@jupyter-widgets/base",
            "top": null,
            "grid_column": null,
            "overflow_y": null,
            "overflow_x": null,
            "grid_auto_flow": null,
            "grid_area": null,
            "grid_template_columns": null,
            "flex": null,
            "_model_name": "LayoutModel",
            "justify_items": null,
            "grid_row": null,
            "max_height": null,
            "align_content": null,
            "visibility": null,
            "align_self": null,
            "height": null,
            "min_height": null,
            "padding": null,
            "grid_auto_rows": null,
            "grid_gap": null,
            "max_width": null,
            "order": null,
            "_view_module_version": "1.2.0",
            "grid_template_areas": null,
            "object_position": null,
            "object_fit": null,
            "grid_auto_columns": null,
            "margin": null,
            "display": null,
            "left": null
          }
        },
        "8bb4329aed6748c7a7528a0e6f9d2905": {
          "model_module": "@jupyter-widgets/controls",
          "model_name": "DescriptionStyleModel",
          "state": {
            "_view_name": "StyleView",
            "_model_name": "DescriptionStyleModel",
            "description_width": "",
            "_view_module": "@jupyter-widgets/base",
            "_model_module_version": "1.5.0",
            "_view_count": null,
            "_view_module_version": "1.2.0",
            "_model_module": "@jupyter-widgets/controls"
          }
        },
        "e226d2c904fe4e8a9b0edf8700af7dd1": {
          "model_module": "@jupyter-widgets/base",
          "model_name": "LayoutModel",
          "state": {
            "_view_name": "LayoutView",
            "grid_template_rows": null,
            "right": null,
            "justify_content": null,
            "_view_module": "@jupyter-widgets/base",
            "overflow": null,
            "_model_module_version": "1.2.0",
            "_view_count": null,
            "flex_flow": null,
            "width": null,
            "min_width": null,
            "border": null,
            "align_items": null,
            "bottom": null,
            "_model_module": "@jupyter-widgets/base",
            "top": null,
            "grid_column": null,
            "overflow_y": null,
            "overflow_x": null,
            "grid_auto_flow": null,
            "grid_area": null,
            "grid_template_columns": null,
            "flex": null,
            "_model_name": "LayoutModel",
            "justify_items": null,
            "grid_row": null,
            "max_height": null,
            "align_content": null,
            "visibility": null,
            "align_self": null,
            "height": null,
            "min_height": null,
            "padding": null,
            "grid_auto_rows": null,
            "grid_gap": null,
            "max_width": null,
            "order": null,
            "_view_module_version": "1.2.0",
            "grid_template_areas": null,
            "object_position": null,
            "object_fit": null,
            "grid_auto_columns": null,
            "margin": null,
            "display": null,
            "left": null
          }
        },
        "4118d8e0ac214bf293f4d268edb34091": {
          "model_module": "@jupyter-widgets/controls",
          "model_name": "HBoxModel",
          "state": {
            "_view_name": "HBoxView",
            "_dom_classes": [],
            "_model_name": "HBoxModel",
            "_view_module": "@jupyter-widgets/controls",
            "_model_module_version": "1.5.0",
            "_view_count": null,
            "_view_module_version": "1.5.0",
            "box_style": "",
            "layout": "IPY_MODEL_ce62abcfd8574b6797fabea81e3db0cc",
            "_model_module": "@jupyter-widgets/controls",
            "children": [
              "IPY_MODEL_be399ba72dea42d6a9aa709bbc540a0f",
              "IPY_MODEL_005015f38edd4e90bbdc7842fef3342d"
            ]
          }
        },
        "ce62abcfd8574b6797fabea81e3db0cc": {
          "model_module": "@jupyter-widgets/base",
          "model_name": "LayoutModel",
          "state": {
            "_view_name": "LayoutView",
            "grid_template_rows": null,
            "right": null,
            "justify_content": null,
            "_view_module": "@jupyter-widgets/base",
            "overflow": null,
            "_model_module_version": "1.2.0",
            "_view_count": null,
            "flex_flow": null,
            "width": null,
            "min_width": null,
            "border": null,
            "align_items": null,
            "bottom": null,
            "_model_module": "@jupyter-widgets/base",
            "top": null,
            "grid_column": null,
            "overflow_y": null,
            "overflow_x": null,
            "grid_auto_flow": null,
            "grid_area": null,
            "grid_template_columns": null,
            "flex": null,
            "_model_name": "LayoutModel",
            "justify_items": null,
            "grid_row": null,
            "max_height": null,
            "align_content": null,
            "visibility": null,
            "align_self": null,
            "height": null,
            "min_height": null,
            "padding": null,
            "grid_auto_rows": null,
            "grid_gap": null,
            "max_width": null,
            "order": null,
            "_view_module_version": "1.2.0",
            "grid_template_areas": null,
            "object_position": null,
            "object_fit": null,
            "grid_auto_columns": null,
            "margin": null,
            "display": null,
            "left": null
          }
        },
        "be399ba72dea42d6a9aa709bbc540a0f": {
          "model_module": "@jupyter-widgets/controls",
          "model_name": "FloatProgressModel",
          "state": {
            "_view_name": "ProgressView",
            "style": "IPY_MODEL_a4c552c4d43341428f030f7e415d3e78",
            "_dom_classes": [],
            "description": " 57%",
            "_model_name": "FloatProgressModel",
            "bar_style": "danger",
            "max": 25000,
            "_view_module": "@jupyter-widgets/controls",
            "_model_module_version": "1.5.0",
            "value": 14362,
            "_view_count": null,
            "_view_module_version": "1.5.0",
            "orientation": "horizontal",
            "min": 0,
            "description_tooltip": null,
            "_model_module": "@jupyter-widgets/controls",
            "layout": "IPY_MODEL_f49f535fd49a48cb9fdd9d4a180da495"
          }
        },
        "005015f38edd4e90bbdc7842fef3342d": {
          "model_module": "@jupyter-widgets/controls",
          "model_name": "HTMLModel",
          "state": {
            "_view_name": "HTMLView",
            "style": "IPY_MODEL_0070434332d141dba0fa8da9e29681b6",
            "_dom_classes": [],
            "description": "",
            "_model_name": "HTMLModel",
            "placeholder": "​",
            "_view_module": "@jupyter-widgets/controls",
            "_model_module_version": "1.5.0",
            "value": " 14362/25000 [00:00&lt;00:00, 143617.74 examples/s]",
            "_view_count": null,
            "_view_module_version": "1.5.0",
            "description_tooltip": null,
            "_model_module": "@jupyter-widgets/controls",
            "layout": "IPY_MODEL_1657290cf9d04257bb58da10870927d9"
          }
        },
        "a4c552c4d43341428f030f7e415d3e78": {
          "model_module": "@jupyter-widgets/controls",
          "model_name": "ProgressStyleModel",
          "state": {
            "_view_name": "StyleView",
            "_model_name": "ProgressStyleModel",
            "description_width": "initial",
            "_view_module": "@jupyter-widgets/base",
            "_model_module_version": "1.5.0",
            "_view_count": null,
            "_view_module_version": "1.2.0",
            "bar_color": null,
            "_model_module": "@jupyter-widgets/controls"
          }
        },
        "f49f535fd49a48cb9fdd9d4a180da495": {
          "model_module": "@jupyter-widgets/base",
          "model_name": "LayoutModel",
          "state": {
            "_view_name": "LayoutView",
            "grid_template_rows": null,
            "right": null,
            "justify_content": null,
            "_view_module": "@jupyter-widgets/base",
            "overflow": null,
            "_model_module_version": "1.2.0",
            "_view_count": null,
            "flex_flow": null,
            "width": null,
            "min_width": null,
            "border": null,
            "align_items": null,
            "bottom": null,
            "_model_module": "@jupyter-widgets/base",
            "top": null,
            "grid_column": null,
            "overflow_y": null,
            "overflow_x": null,
            "grid_auto_flow": null,
            "grid_area": null,
            "grid_template_columns": null,
            "flex": null,
            "_model_name": "LayoutModel",
            "justify_items": null,
            "grid_row": null,
            "max_height": null,
            "align_content": null,
            "visibility": null,
            "align_self": null,
            "height": null,
            "min_height": null,
            "padding": null,
            "grid_auto_rows": null,
            "grid_gap": null,
            "max_width": null,
            "order": null,
            "_view_module_version": "1.2.0",
            "grid_template_areas": null,
            "object_position": null,
            "object_fit": null,
            "grid_auto_columns": null,
            "margin": null,
            "display": null,
            "left": null
          }
        },
        "0070434332d141dba0fa8da9e29681b6": {
          "model_module": "@jupyter-widgets/controls",
          "model_name": "DescriptionStyleModel",
          "state": {
            "_view_name": "StyleView",
            "_model_name": "DescriptionStyleModel",
            "description_width": "",
            "_view_module": "@jupyter-widgets/base",
            "_model_module_version": "1.5.0",
            "_view_count": null,
            "_view_module_version": "1.2.0",
            "_model_module": "@jupyter-widgets/controls"
          }
        },
        "1657290cf9d04257bb58da10870927d9": {
          "model_module": "@jupyter-widgets/base",
          "model_name": "LayoutModel",
          "state": {
            "_view_name": "LayoutView",
            "grid_template_rows": null,
            "right": null,
            "justify_content": null,
            "_view_module": "@jupyter-widgets/base",
            "overflow": null,
            "_model_module_version": "1.2.0",
            "_view_count": null,
            "flex_flow": null,
            "width": null,
            "min_width": null,
            "border": null,
            "align_items": null,
            "bottom": null,
            "_model_module": "@jupyter-widgets/base",
            "top": null,
            "grid_column": null,
            "overflow_y": null,
            "overflow_x": null,
            "grid_auto_flow": null,
            "grid_area": null,
            "grid_template_columns": null,
            "flex": null,
            "_model_name": "LayoutModel",
            "justify_items": null,
            "grid_row": null,
            "max_height": null,
            "align_content": null,
            "visibility": null,
            "align_self": null,
            "height": null,
            "min_height": null,
            "padding": null,
            "grid_auto_rows": null,
            "grid_gap": null,
            "max_width": null,
            "order": null,
            "_view_module_version": "1.2.0",
            "grid_template_areas": null,
            "object_position": null,
            "object_fit": null,
            "grid_auto_columns": null,
            "margin": null,
            "display": null,
            "left": null
          }
        },
        "26dd2a236a4d47f49145fe996092d305": {
          "model_module": "@jupyter-widgets/controls",
          "model_name": "HBoxModel",
          "state": {
            "_view_name": "HBoxView",
            "_dom_classes": [],
            "_model_name": "HBoxModel",
            "_view_module": "@jupyter-widgets/controls",
            "_model_module_version": "1.5.0",
            "_view_count": null,
            "_view_module_version": "1.5.0",
            "box_style": "",
            "layout": "IPY_MODEL_3645c73cd63e4414ae1f9e0f8bcd9787",
            "_model_module": "@jupyter-widgets/controls",
            "children": [
              "IPY_MODEL_0d759c51985549a2971fe65e22435c3e",
              "IPY_MODEL_266199fbfb9c4ce487fb43f59cd735af"
            ]
          }
        },
        "3645c73cd63e4414ae1f9e0f8bcd9787": {
          "model_module": "@jupyter-widgets/base",
          "model_name": "LayoutModel",
          "state": {
            "_view_name": "LayoutView",
            "grid_template_rows": null,
            "right": null,
            "justify_content": null,
            "_view_module": "@jupyter-widgets/base",
            "overflow": null,
            "_model_module_version": "1.2.0",
            "_view_count": null,
            "flex_flow": null,
            "width": null,
            "min_width": null,
            "border": null,
            "align_items": null,
            "bottom": null,
            "_model_module": "@jupyter-widgets/base",
            "top": null,
            "grid_column": null,
            "overflow_y": null,
            "overflow_x": null,
            "grid_auto_flow": null,
            "grid_area": null,
            "grid_template_columns": null,
            "flex": null,
            "_model_name": "LayoutModel",
            "justify_items": null,
            "grid_row": null,
            "max_height": null,
            "align_content": null,
            "visibility": null,
            "align_self": null,
            "height": null,
            "min_height": null,
            "padding": null,
            "grid_auto_rows": null,
            "grid_gap": null,
            "max_width": null,
            "order": null,
            "_view_module_version": "1.2.0",
            "grid_template_areas": null,
            "object_position": null,
            "object_fit": null,
            "grid_auto_columns": null,
            "margin": null,
            "display": null,
            "left": null
          }
        },
        "0d759c51985549a2971fe65e22435c3e": {
          "model_module": "@jupyter-widgets/controls",
          "model_name": "FloatProgressModel",
          "state": {
            "_view_name": "ProgressView",
            "style": "IPY_MODEL_ebdc843e465440d2989c24c8231ea5c8",
            "_dom_classes": [],
            "description": "",
            "_model_name": "FloatProgressModel",
            "bar_style": "info",
            "max": 1,
            "_view_module": "@jupyter-widgets/controls",
            "_model_module_version": "1.5.0",
            "value": 1,
            "_view_count": null,
            "_view_module_version": "1.5.0",
            "orientation": "horizontal",
            "min": 0,
            "description_tooltip": null,
            "_model_module": "@jupyter-widgets/controls",
            "layout": "IPY_MODEL_55e732af6d124ad99cd3e0d5fa9a28e1"
          }
        },
        "266199fbfb9c4ce487fb43f59cd735af": {
          "model_module": "@jupyter-widgets/controls",
          "model_name": "HTMLModel",
          "state": {
            "_view_name": "HTMLView",
            "style": "IPY_MODEL_0663ec4d72964c9183bc7db95cf04630",
            "_dom_classes": [],
            "description": "",
            "_model_name": "HTMLModel",
            "placeholder": "​",
            "_view_module": "@jupyter-widgets/controls",
            "_model_module_version": "1.5.0",
            "value": " 25000/0 [00:12&lt;00:00, 3827.72 examples/s]",
            "_view_count": null,
            "_view_module_version": "1.5.0",
            "description_tooltip": null,
            "_model_module": "@jupyter-widgets/controls",
            "layout": "IPY_MODEL_061d028679074757a4dd9ebb6611aa05"
          }
        },
        "ebdc843e465440d2989c24c8231ea5c8": {
          "model_module": "@jupyter-widgets/controls",
          "model_name": "ProgressStyleModel",
          "state": {
            "_view_name": "StyleView",
            "_model_name": "ProgressStyleModel",
            "description_width": "initial",
            "_view_module": "@jupyter-widgets/base",
            "_model_module_version": "1.5.0",
            "_view_count": null,
            "_view_module_version": "1.2.0",
            "bar_color": null,
            "_model_module": "@jupyter-widgets/controls"
          }
        },
        "55e732af6d124ad99cd3e0d5fa9a28e1": {
          "model_module": "@jupyter-widgets/base",
          "model_name": "LayoutModel",
          "state": {
            "_view_name": "LayoutView",
            "grid_template_rows": null,
            "right": null,
            "justify_content": null,
            "_view_module": "@jupyter-widgets/base",
            "overflow": null,
            "_model_module_version": "1.2.0",
            "_view_count": null,
            "flex_flow": null,
            "width": null,
            "min_width": null,
            "border": null,
            "align_items": null,
            "bottom": null,
            "_model_module": "@jupyter-widgets/base",
            "top": null,
            "grid_column": null,
            "overflow_y": null,
            "overflow_x": null,
            "grid_auto_flow": null,
            "grid_area": null,
            "grid_template_columns": null,
            "flex": null,
            "_model_name": "LayoutModel",
            "justify_items": null,
            "grid_row": null,
            "max_height": null,
            "align_content": null,
            "visibility": null,
            "align_self": null,
            "height": null,
            "min_height": null,
            "padding": null,
            "grid_auto_rows": null,
            "grid_gap": null,
            "max_width": null,
            "order": null,
            "_view_module_version": "1.2.0",
            "grid_template_areas": null,
            "object_position": null,
            "object_fit": null,
            "grid_auto_columns": null,
            "margin": null,
            "display": null,
            "left": null
          }
        },
        "0663ec4d72964c9183bc7db95cf04630": {
          "model_module": "@jupyter-widgets/controls",
          "model_name": "DescriptionStyleModel",
          "state": {
            "_view_name": "StyleView",
            "_model_name": "DescriptionStyleModel",
            "description_width": "",
            "_view_module": "@jupyter-widgets/base",
            "_model_module_version": "1.5.0",
            "_view_count": null,
            "_view_module_version": "1.2.0",
            "_model_module": "@jupyter-widgets/controls"
          }
        },
        "061d028679074757a4dd9ebb6611aa05": {
          "model_module": "@jupyter-widgets/base",
          "model_name": "LayoutModel",
          "state": {
            "_view_name": "LayoutView",
            "grid_template_rows": null,
            "right": null,
            "justify_content": null,
            "_view_module": "@jupyter-widgets/base",
            "overflow": null,
            "_model_module_version": "1.2.0",
            "_view_count": null,
            "flex_flow": null,
            "width": null,
            "min_width": null,
            "border": null,
            "align_items": null,
            "bottom": null,
            "_model_module": "@jupyter-widgets/base",
            "top": null,
            "grid_column": null,
            "overflow_y": null,
            "overflow_x": null,
            "grid_auto_flow": null,
            "grid_area": null,
            "grid_template_columns": null,
            "flex": null,
            "_model_name": "LayoutModel",
            "justify_items": null,
            "grid_row": null,
            "max_height": null,
            "align_content": null,
            "visibility": null,
            "align_self": null,
            "height": null,
            "min_height": null,
            "padding": null,
            "grid_auto_rows": null,
            "grid_gap": null,
            "max_width": null,
            "order": null,
            "_view_module_version": "1.2.0",
            "grid_template_areas": null,
            "object_position": null,
            "object_fit": null,
            "grid_auto_columns": null,
            "margin": null,
            "display": null,
            "left": null
          }
        },
        "b0ca57480aba46eabf265842ef6f6389": {
          "model_module": "@jupyter-widgets/controls",
          "model_name": "HBoxModel",
          "state": {
            "_view_name": "HBoxView",
            "_dom_classes": [],
            "_model_name": "HBoxModel",
            "_view_module": "@jupyter-widgets/controls",
            "_model_module_version": "1.5.0",
            "_view_count": null,
            "_view_module_version": "1.5.0",
            "box_style": "",
            "layout": "IPY_MODEL_8ea944c72d7246d1b06406cc3bf84ac5",
            "_model_module": "@jupyter-widgets/controls",
            "children": [
              "IPY_MODEL_f6c83898e9c943f892a1b7a4147ed8a9",
              "IPY_MODEL_3ccfd349ed1a4090a2eb2f075ba2b5e1"
            ]
          }
        },
        "8ea944c72d7246d1b06406cc3bf84ac5": {
          "model_module": "@jupyter-widgets/base",
          "model_name": "LayoutModel",
          "state": {
            "_view_name": "LayoutView",
            "grid_template_rows": null,
            "right": null,
            "justify_content": null,
            "_view_module": "@jupyter-widgets/base",
            "overflow": null,
            "_model_module_version": "1.2.0",
            "_view_count": null,
            "flex_flow": null,
            "width": null,
            "min_width": null,
            "border": null,
            "align_items": null,
            "bottom": null,
            "_model_module": "@jupyter-widgets/base",
            "top": null,
            "grid_column": null,
            "overflow_y": null,
            "overflow_x": null,
            "grid_auto_flow": null,
            "grid_area": null,
            "grid_template_columns": null,
            "flex": null,
            "_model_name": "LayoutModel",
            "justify_items": null,
            "grid_row": null,
            "max_height": null,
            "align_content": null,
            "visibility": null,
            "align_self": null,
            "height": null,
            "min_height": null,
            "padding": null,
            "grid_auto_rows": null,
            "grid_gap": null,
            "max_width": null,
            "order": null,
            "_view_module_version": "1.2.0",
            "grid_template_areas": null,
            "object_position": null,
            "object_fit": null,
            "grid_auto_columns": null,
            "margin": null,
            "display": null,
            "left": null
          }
        },
        "f6c83898e9c943f892a1b7a4147ed8a9": {
          "model_module": "@jupyter-widgets/controls",
          "model_name": "FloatProgressModel",
          "state": {
            "_view_name": "ProgressView",
            "style": "IPY_MODEL_6f818a1c600049a38640841f6c980f2f",
            "_dom_classes": [],
            "description": " 32%",
            "_model_name": "FloatProgressModel",
            "bar_style": "danger",
            "max": 25000,
            "_view_module": "@jupyter-widgets/controls",
            "_model_module_version": "1.5.0",
            "value": 8020,
            "_view_count": null,
            "_view_module_version": "1.5.0",
            "orientation": "horizontal",
            "min": 0,
            "description_tooltip": null,
            "_model_module": "@jupyter-widgets/controls",
            "layout": "IPY_MODEL_b1e81dff550d4738838dafaacd49528b"
          }
        },
        "3ccfd349ed1a4090a2eb2f075ba2b5e1": {
          "model_module": "@jupyter-widgets/controls",
          "model_name": "HTMLModel",
          "state": {
            "_view_name": "HTMLView",
            "style": "IPY_MODEL_8685940041214840b46485de6d764bcf",
            "_dom_classes": [],
            "description": "",
            "_model_name": "HTMLModel",
            "placeholder": "​",
            "_view_module": "@jupyter-widgets/controls",
            "_model_module_version": "1.5.0",
            "value": " 8020/25000 [00:00&lt;00:00, 80198.93 examples/s]",
            "_view_count": null,
            "_view_module_version": "1.5.0",
            "description_tooltip": null,
            "_model_module": "@jupyter-widgets/controls",
            "layout": "IPY_MODEL_9c841493ae1c47e19a612f620216ea63"
          }
        },
        "6f818a1c600049a38640841f6c980f2f": {
          "model_module": "@jupyter-widgets/controls",
          "model_name": "ProgressStyleModel",
          "state": {
            "_view_name": "StyleView",
            "_model_name": "ProgressStyleModel",
            "description_width": "initial",
            "_view_module": "@jupyter-widgets/base",
            "_model_module_version": "1.5.0",
            "_view_count": null,
            "_view_module_version": "1.2.0",
            "bar_color": null,
            "_model_module": "@jupyter-widgets/controls"
          }
        },
        "b1e81dff550d4738838dafaacd49528b": {
          "model_module": "@jupyter-widgets/base",
          "model_name": "LayoutModel",
          "state": {
            "_view_name": "LayoutView",
            "grid_template_rows": null,
            "right": null,
            "justify_content": null,
            "_view_module": "@jupyter-widgets/base",
            "overflow": null,
            "_model_module_version": "1.2.0",
            "_view_count": null,
            "flex_flow": null,
            "width": null,
            "min_width": null,
            "border": null,
            "align_items": null,
            "bottom": null,
            "_model_module": "@jupyter-widgets/base",
            "top": null,
            "grid_column": null,
            "overflow_y": null,
            "overflow_x": null,
            "grid_auto_flow": null,
            "grid_area": null,
            "grid_template_columns": null,
            "flex": null,
            "_model_name": "LayoutModel",
            "justify_items": null,
            "grid_row": null,
            "max_height": null,
            "align_content": null,
            "visibility": null,
            "align_self": null,
            "height": null,
            "min_height": null,
            "padding": null,
            "grid_auto_rows": null,
            "grid_gap": null,
            "max_width": null,
            "order": null,
            "_view_module_version": "1.2.0",
            "grid_template_areas": null,
            "object_position": null,
            "object_fit": null,
            "grid_auto_columns": null,
            "margin": null,
            "display": null,
            "left": null
          }
        },
        "8685940041214840b46485de6d764bcf": {
          "model_module": "@jupyter-widgets/controls",
          "model_name": "DescriptionStyleModel",
          "state": {
            "_view_name": "StyleView",
            "_model_name": "DescriptionStyleModel",
            "description_width": "",
            "_view_module": "@jupyter-widgets/base",
            "_model_module_version": "1.5.0",
            "_view_count": null,
            "_view_module_version": "1.2.0",
            "_model_module": "@jupyter-widgets/controls"
          }
        },
        "9c841493ae1c47e19a612f620216ea63": {
          "model_module": "@jupyter-widgets/base",
          "model_name": "LayoutModel",
          "state": {
            "_view_name": "LayoutView",
            "grid_template_rows": null,
            "right": null,
            "justify_content": null,
            "_view_module": "@jupyter-widgets/base",
            "overflow": null,
            "_model_module_version": "1.2.0",
            "_view_count": null,
            "flex_flow": null,
            "width": null,
            "min_width": null,
            "border": null,
            "align_items": null,
            "bottom": null,
            "_model_module": "@jupyter-widgets/base",
            "top": null,
            "grid_column": null,
            "overflow_y": null,
            "overflow_x": null,
            "grid_auto_flow": null,
            "grid_area": null,
            "grid_template_columns": null,
            "flex": null,
            "_model_name": "LayoutModel",
            "justify_items": null,
            "grid_row": null,
            "max_height": null,
            "align_content": null,
            "visibility": null,
            "align_self": null,
            "height": null,
            "min_height": null,
            "padding": null,
            "grid_auto_rows": null,
            "grid_gap": null,
            "max_width": null,
            "order": null,
            "_view_module_version": "1.2.0",
            "grid_template_areas": null,
            "object_position": null,
            "object_fit": null,
            "grid_auto_columns": null,
            "margin": null,
            "display": null,
            "left": null
          }
        },
        "18a3b69f884d4b319acd3b865f6dc8a5": {
          "model_module": "@jupyter-widgets/controls",
          "model_name": "HBoxModel",
          "state": {
            "_view_name": "HBoxView",
            "_dom_classes": [],
            "_model_name": "HBoxModel",
            "_view_module": "@jupyter-widgets/controls",
            "_model_module_version": "1.5.0",
            "_view_count": null,
            "_view_module_version": "1.5.0",
            "box_style": "",
            "layout": "IPY_MODEL_8bf34c229d1b4866b1b6c61e15943577",
            "_model_module": "@jupyter-widgets/controls",
            "children": [
              "IPY_MODEL_4976b5e608e045389f7c76e726606a23",
              "IPY_MODEL_4e5586ced7c243aa8f21024e2ee5d6e3"
            ]
          }
        },
        "8bf34c229d1b4866b1b6c61e15943577": {
          "model_module": "@jupyter-widgets/base",
          "model_name": "LayoutModel",
          "state": {
            "_view_name": "LayoutView",
            "grid_template_rows": null,
            "right": null,
            "justify_content": null,
            "_view_module": "@jupyter-widgets/base",
            "overflow": null,
            "_model_module_version": "1.2.0",
            "_view_count": null,
            "flex_flow": null,
            "width": null,
            "min_width": null,
            "border": null,
            "align_items": null,
            "bottom": null,
            "_model_module": "@jupyter-widgets/base",
            "top": null,
            "grid_column": null,
            "overflow_y": null,
            "overflow_x": null,
            "grid_auto_flow": null,
            "grid_area": null,
            "grid_template_columns": null,
            "flex": null,
            "_model_name": "LayoutModel",
            "justify_items": null,
            "grid_row": null,
            "max_height": null,
            "align_content": null,
            "visibility": null,
            "align_self": null,
            "height": null,
            "min_height": null,
            "padding": null,
            "grid_auto_rows": null,
            "grid_gap": null,
            "max_width": null,
            "order": null,
            "_view_module_version": "1.2.0",
            "grid_template_areas": null,
            "object_position": null,
            "object_fit": null,
            "grid_auto_columns": null,
            "margin": null,
            "display": null,
            "left": null
          }
        },
        "4976b5e608e045389f7c76e726606a23": {
          "model_module": "@jupyter-widgets/controls",
          "model_name": "FloatProgressModel",
          "state": {
            "_view_name": "ProgressView",
            "style": "IPY_MODEL_dd879e74ee2a4962bc7a556951528f08",
            "_dom_classes": [],
            "description": "",
            "_model_name": "FloatProgressModel",
            "bar_style": "info",
            "max": 1,
            "_view_module": "@jupyter-widgets/controls",
            "_model_module_version": "1.5.0",
            "value": 1,
            "_view_count": null,
            "_view_module_version": "1.5.0",
            "orientation": "horizontal",
            "min": 0,
            "description_tooltip": null,
            "_model_module": "@jupyter-widgets/controls",
            "layout": "IPY_MODEL_c42b049a46a043c68227d11f49b9cc04"
          }
        },
        "4e5586ced7c243aa8f21024e2ee5d6e3": {
          "model_module": "@jupyter-widgets/controls",
          "model_name": "HTMLModel",
          "state": {
            "_view_name": "HTMLView",
            "style": "IPY_MODEL_56bfe908bb404d898afed03a0eb1b82b",
            "_dom_classes": [],
            "description": "",
            "_model_name": "HTMLModel",
            "placeholder": "​",
            "_view_module": "@jupyter-widgets/controls",
            "_model_module_version": "1.5.0",
            "value": " 50000/0 [00:17&lt;00:00, 3704.63 examples/s]",
            "_view_count": null,
            "_view_module_version": "1.5.0",
            "description_tooltip": null,
            "_model_module": "@jupyter-widgets/controls",
            "layout": "IPY_MODEL_b02c8c371dd04e67b13bfcafbbecff84"
          }
        },
        "dd879e74ee2a4962bc7a556951528f08": {
          "model_module": "@jupyter-widgets/controls",
          "model_name": "ProgressStyleModel",
          "state": {
            "_view_name": "StyleView",
            "_model_name": "ProgressStyleModel",
            "description_width": "initial",
            "_view_module": "@jupyter-widgets/base",
            "_model_module_version": "1.5.0",
            "_view_count": null,
            "_view_module_version": "1.2.0",
            "bar_color": null,
            "_model_module": "@jupyter-widgets/controls"
          }
        },
        "c42b049a46a043c68227d11f49b9cc04": {
          "model_module": "@jupyter-widgets/base",
          "model_name": "LayoutModel",
          "state": {
            "_view_name": "LayoutView",
            "grid_template_rows": null,
            "right": null,
            "justify_content": null,
            "_view_module": "@jupyter-widgets/base",
            "overflow": null,
            "_model_module_version": "1.2.0",
            "_view_count": null,
            "flex_flow": null,
            "width": null,
            "min_width": null,
            "border": null,
            "align_items": null,
            "bottom": null,
            "_model_module": "@jupyter-widgets/base",
            "top": null,
            "grid_column": null,
            "overflow_y": null,
            "overflow_x": null,
            "grid_auto_flow": null,
            "grid_area": null,
            "grid_template_columns": null,
            "flex": null,
            "_model_name": "LayoutModel",
            "justify_items": null,
            "grid_row": null,
            "max_height": null,
            "align_content": null,
            "visibility": null,
            "align_self": null,
            "height": null,
            "min_height": null,
            "padding": null,
            "grid_auto_rows": null,
            "grid_gap": null,
            "max_width": null,
            "order": null,
            "_view_module_version": "1.2.0",
            "grid_template_areas": null,
            "object_position": null,
            "object_fit": null,
            "grid_auto_columns": null,
            "margin": null,
            "display": null,
            "left": null
          }
        },
        "56bfe908bb404d898afed03a0eb1b82b": {
          "model_module": "@jupyter-widgets/controls",
          "model_name": "DescriptionStyleModel",
          "state": {
            "_view_name": "StyleView",
            "_model_name": "DescriptionStyleModel",
            "description_width": "",
            "_view_module": "@jupyter-widgets/base",
            "_model_module_version": "1.5.0",
            "_view_count": null,
            "_view_module_version": "1.2.0",
            "_model_module": "@jupyter-widgets/controls"
          }
        },
        "b02c8c371dd04e67b13bfcafbbecff84": {
          "model_module": "@jupyter-widgets/base",
          "model_name": "LayoutModel",
          "state": {
            "_view_name": "LayoutView",
            "grid_template_rows": null,
            "right": null,
            "justify_content": null,
            "_view_module": "@jupyter-widgets/base",
            "overflow": null,
            "_model_module_version": "1.2.0",
            "_view_count": null,
            "flex_flow": null,
            "width": null,
            "min_width": null,
            "border": null,
            "align_items": null,
            "bottom": null,
            "_model_module": "@jupyter-widgets/base",
            "top": null,
            "grid_column": null,
            "overflow_y": null,
            "overflow_x": null,
            "grid_auto_flow": null,
            "grid_area": null,
            "grid_template_columns": null,
            "flex": null,
            "_model_name": "LayoutModel",
            "justify_items": null,
            "grid_row": null,
            "max_height": null,
            "align_content": null,
            "visibility": null,
            "align_self": null,
            "height": null,
            "min_height": null,
            "padding": null,
            "grid_auto_rows": null,
            "grid_gap": null,
            "max_width": null,
            "order": null,
            "_view_module_version": "1.2.0",
            "grid_template_areas": null,
            "object_position": null,
            "object_fit": null,
            "grid_auto_columns": null,
            "margin": null,
            "display": null,
            "left": null
          }
        },
        "22656875cc1a40d2ace3ae98bbc10b0b": {
          "model_module": "@jupyter-widgets/controls",
          "model_name": "HBoxModel",
          "state": {
            "_view_name": "HBoxView",
            "_dom_classes": [],
            "_model_name": "HBoxModel",
            "_view_module": "@jupyter-widgets/controls",
            "_model_module_version": "1.5.0",
            "_view_count": null,
            "_view_module_version": "1.5.0",
            "box_style": "",
            "layout": "IPY_MODEL_55f71af7f1694dc2b44e288d6b8157c0",
            "_model_module": "@jupyter-widgets/controls",
            "children": [
              "IPY_MODEL_bf8023b397bf4d2e9cc434f9b8ecd29f",
              "IPY_MODEL_ae3809b982bf42d0a0fca0398570b796"
            ]
          }
        },
        "55f71af7f1694dc2b44e288d6b8157c0": {
          "model_module": "@jupyter-widgets/base",
          "model_name": "LayoutModel",
          "state": {
            "_view_name": "LayoutView",
            "grid_template_rows": null,
            "right": null,
            "justify_content": null,
            "_view_module": "@jupyter-widgets/base",
            "overflow": null,
            "_model_module_version": "1.2.0",
            "_view_count": null,
            "flex_flow": null,
            "width": null,
            "min_width": null,
            "border": null,
            "align_items": null,
            "bottom": null,
            "_model_module": "@jupyter-widgets/base",
            "top": null,
            "grid_column": null,
            "overflow_y": null,
            "overflow_x": null,
            "grid_auto_flow": null,
            "grid_area": null,
            "grid_template_columns": null,
            "flex": null,
            "_model_name": "LayoutModel",
            "justify_items": null,
            "grid_row": null,
            "max_height": null,
            "align_content": null,
            "visibility": null,
            "align_self": null,
            "height": null,
            "min_height": null,
            "padding": null,
            "grid_auto_rows": null,
            "grid_gap": null,
            "max_width": null,
            "order": null,
            "_view_module_version": "1.2.0",
            "grid_template_areas": null,
            "object_position": null,
            "object_fit": null,
            "grid_auto_columns": null,
            "margin": null,
            "display": null,
            "left": null
          }
        },
        "bf8023b397bf4d2e9cc434f9b8ecd29f": {
          "model_module": "@jupyter-widgets/controls",
          "model_name": "FloatProgressModel",
          "state": {
            "_view_name": "ProgressView",
            "style": "IPY_MODEL_acb007ba5ceb48e59024267acdf4c3fd",
            "_dom_classes": [],
            "description": " 67%",
            "_model_name": "FloatProgressModel",
            "bar_style": "danger",
            "max": 50000,
            "_view_module": "@jupyter-widgets/controls",
            "_model_module_version": "1.5.0",
            "value": 33676,
            "_view_count": null,
            "_view_module_version": "1.5.0",
            "orientation": "horizontal",
            "min": 0,
            "description_tooltip": null,
            "_model_module": "@jupyter-widgets/controls",
            "layout": "IPY_MODEL_f9f680af6f90473cb55df6c344c86929"
          }
        },
        "ae3809b982bf42d0a0fca0398570b796": {
          "model_module": "@jupyter-widgets/controls",
          "model_name": "HTMLModel",
          "state": {
            "_view_name": "HTMLView",
            "style": "IPY_MODEL_5054aea24a3f43b38fbc200c4654df8a",
            "_dom_classes": [],
            "description": "",
            "_model_name": "HTMLModel",
            "placeholder": "​",
            "_view_module": "@jupyter-widgets/controls",
            "_model_module_version": "1.5.0",
            "value": " 33676/50000 [00:05&lt;00:00, 56670.00 examples/s]",
            "_view_count": null,
            "_view_module_version": "1.5.0",
            "description_tooltip": null,
            "_model_module": "@jupyter-widgets/controls",
            "layout": "IPY_MODEL_b463ff4697c946e7b14231a4f9248cfb"
          }
        },
        "acb007ba5ceb48e59024267acdf4c3fd": {
          "model_module": "@jupyter-widgets/controls",
          "model_name": "ProgressStyleModel",
          "state": {
            "_view_name": "StyleView",
            "_model_name": "ProgressStyleModel",
            "description_width": "initial",
            "_view_module": "@jupyter-widgets/base",
            "_model_module_version": "1.5.0",
            "_view_count": null,
            "_view_module_version": "1.2.0",
            "bar_color": null,
            "_model_module": "@jupyter-widgets/controls"
          }
        },
        "f9f680af6f90473cb55df6c344c86929": {
          "model_module": "@jupyter-widgets/base",
          "model_name": "LayoutModel",
          "state": {
            "_view_name": "LayoutView",
            "grid_template_rows": null,
            "right": null,
            "justify_content": null,
            "_view_module": "@jupyter-widgets/base",
            "overflow": null,
            "_model_module_version": "1.2.0",
            "_view_count": null,
            "flex_flow": null,
            "width": null,
            "min_width": null,
            "border": null,
            "align_items": null,
            "bottom": null,
            "_model_module": "@jupyter-widgets/base",
            "top": null,
            "grid_column": null,
            "overflow_y": null,
            "overflow_x": null,
            "grid_auto_flow": null,
            "grid_area": null,
            "grid_template_columns": null,
            "flex": null,
            "_model_name": "LayoutModel",
            "justify_items": null,
            "grid_row": null,
            "max_height": null,
            "align_content": null,
            "visibility": null,
            "align_self": null,
            "height": null,
            "min_height": null,
            "padding": null,
            "grid_auto_rows": null,
            "grid_gap": null,
            "max_width": null,
            "order": null,
            "_view_module_version": "1.2.0",
            "grid_template_areas": null,
            "object_position": null,
            "object_fit": null,
            "grid_auto_columns": null,
            "margin": null,
            "display": null,
            "left": null
          }
        },
        "5054aea24a3f43b38fbc200c4654df8a": {
          "model_module": "@jupyter-widgets/controls",
          "model_name": "DescriptionStyleModel",
          "state": {
            "_view_name": "StyleView",
            "_model_name": "DescriptionStyleModel",
            "description_width": "",
            "_view_module": "@jupyter-widgets/base",
            "_model_module_version": "1.5.0",
            "_view_count": null,
            "_view_module_version": "1.2.0",
            "_model_module": "@jupyter-widgets/controls"
          }
        },
        "b463ff4697c946e7b14231a4f9248cfb": {
          "model_module": "@jupyter-widgets/base",
          "model_name": "LayoutModel",
          "state": {
            "_view_name": "LayoutView",
            "grid_template_rows": null,
            "right": null,
            "justify_content": null,
            "_view_module": "@jupyter-widgets/base",
            "overflow": null,
            "_model_module_version": "1.2.0",
            "_view_count": null,
            "flex_flow": null,
            "width": null,
            "min_width": null,
            "border": null,
            "align_items": null,
            "bottom": null,
            "_model_module": "@jupyter-widgets/base",
            "top": null,
            "grid_column": null,
            "overflow_y": null,
            "overflow_x": null,
            "grid_auto_flow": null,
            "grid_area": null,
            "grid_template_columns": null,
            "flex": null,
            "_model_name": "LayoutModel",
            "justify_items": null,
            "grid_row": null,
            "max_height": null,
            "align_content": null,
            "visibility": null,
            "align_self": null,
            "height": null,
            "min_height": null,
            "padding": null,
            "grid_auto_rows": null,
            "grid_gap": null,
            "max_width": null,
            "order": null,
            "_view_module_version": "1.2.0",
            "grid_template_areas": null,
            "object_position": null,
            "object_fit": null,
            "grid_auto_columns": null,
            "margin": null,
            "display": null,
            "left": null
          }
        },
        "8366f0d665764f349229f94ee80e4c38": {
          "model_module": "@jupyter-widgets/controls",
          "model_name": "HBoxModel",
          "state": {
            "_view_name": "HBoxView",
            "_dom_classes": [],
            "_model_name": "HBoxModel",
            "_view_module": "@jupyter-widgets/controls",
            "_model_module_version": "1.5.0",
            "_view_count": null,
            "_view_module_version": "1.5.0",
            "box_style": "",
            "layout": "IPY_MODEL_287dd6a2617d4d2e893432daa28f6b1b",
            "_model_module": "@jupyter-widgets/controls",
            "children": [
              "IPY_MODEL_1955fa12737148f6a5609ea4199fec75",
              "IPY_MODEL_80fb3f8877bd46aa95b8dd1c30e9a894"
            ]
          }
        },
        "287dd6a2617d4d2e893432daa28f6b1b": {
          "model_module": "@jupyter-widgets/base",
          "model_name": "LayoutModel",
          "state": {
            "_view_name": "LayoutView",
            "grid_template_rows": null,
            "right": null,
            "justify_content": null,
            "_view_module": "@jupyter-widgets/base",
            "overflow": null,
            "_model_module_version": "1.2.0",
            "_view_count": null,
            "flex_flow": null,
            "width": null,
            "min_width": null,
            "border": null,
            "align_items": null,
            "bottom": null,
            "_model_module": "@jupyter-widgets/base",
            "top": null,
            "grid_column": null,
            "overflow_y": null,
            "overflow_x": null,
            "grid_auto_flow": null,
            "grid_area": null,
            "grid_template_columns": null,
            "flex": null,
            "_model_name": "LayoutModel",
            "justify_items": null,
            "grid_row": null,
            "max_height": null,
            "align_content": null,
            "visibility": null,
            "align_self": null,
            "height": null,
            "min_height": null,
            "padding": null,
            "grid_auto_rows": null,
            "grid_gap": null,
            "max_width": null,
            "order": null,
            "_view_module_version": "1.2.0",
            "grid_template_areas": null,
            "object_position": null,
            "object_fit": null,
            "grid_auto_columns": null,
            "margin": null,
            "display": null,
            "left": null
          }
        },
        "1955fa12737148f6a5609ea4199fec75": {
          "model_module": "@jupyter-widgets/controls",
          "model_name": "FloatProgressModel",
          "state": {
            "_view_name": "ProgressView",
            "style": "IPY_MODEL_b0452a57f47340e78f3db6564ed359f0",
            "_dom_classes": [],
            "description": "Downloading: 100%",
            "_model_name": "FloatProgressModel",
            "bar_style": "success",
            "max": 442,
            "_view_module": "@jupyter-widgets/controls",
            "_model_module_version": "1.5.0",
            "value": 442,
            "_view_count": null,
            "_view_module_version": "1.5.0",
            "orientation": "horizontal",
            "min": 0,
            "description_tooltip": null,
            "_model_module": "@jupyter-widgets/controls",
            "layout": "IPY_MODEL_cdca106fc538434ea1d82c8e713fa328"
          }
        },
        "80fb3f8877bd46aa95b8dd1c30e9a894": {
          "model_module": "@jupyter-widgets/controls",
          "model_name": "HTMLModel",
          "state": {
            "_view_name": "HTMLView",
            "style": "IPY_MODEL_836c19e4dffc40a1962f6973198a913b",
            "_dom_classes": [],
            "description": "",
            "_model_name": "HTMLModel",
            "placeholder": "​",
            "_view_module": "@jupyter-widgets/controls",
            "_model_module_version": "1.5.0",
            "value": " 442/442 [00:06&lt;00:00, 72.5B/s]",
            "_view_count": null,
            "_view_module_version": "1.5.0",
            "description_tooltip": null,
            "_model_module": "@jupyter-widgets/controls",
            "layout": "IPY_MODEL_ded70ca2e0b943e988b99ad16a615e2f"
          }
        },
        "b0452a57f47340e78f3db6564ed359f0": {
          "model_module": "@jupyter-widgets/controls",
          "model_name": "ProgressStyleModel",
          "state": {
            "_view_name": "StyleView",
            "_model_name": "ProgressStyleModel",
            "description_width": "initial",
            "_view_module": "@jupyter-widgets/base",
            "_model_module_version": "1.5.0",
            "_view_count": null,
            "_view_module_version": "1.2.0",
            "bar_color": null,
            "_model_module": "@jupyter-widgets/controls"
          }
        },
        "cdca106fc538434ea1d82c8e713fa328": {
          "model_module": "@jupyter-widgets/base",
          "model_name": "LayoutModel",
          "state": {
            "_view_name": "LayoutView",
            "grid_template_rows": null,
            "right": null,
            "justify_content": null,
            "_view_module": "@jupyter-widgets/base",
            "overflow": null,
            "_model_module_version": "1.2.0",
            "_view_count": null,
            "flex_flow": null,
            "width": null,
            "min_width": null,
            "border": null,
            "align_items": null,
            "bottom": null,
            "_model_module": "@jupyter-widgets/base",
            "top": null,
            "grid_column": null,
            "overflow_y": null,
            "overflow_x": null,
            "grid_auto_flow": null,
            "grid_area": null,
            "grid_template_columns": null,
            "flex": null,
            "_model_name": "LayoutModel",
            "justify_items": null,
            "grid_row": null,
            "max_height": null,
            "align_content": null,
            "visibility": null,
            "align_self": null,
            "height": null,
            "min_height": null,
            "padding": null,
            "grid_auto_rows": null,
            "grid_gap": null,
            "max_width": null,
            "order": null,
            "_view_module_version": "1.2.0",
            "grid_template_areas": null,
            "object_position": null,
            "object_fit": null,
            "grid_auto_columns": null,
            "margin": null,
            "display": null,
            "left": null
          }
        },
        "836c19e4dffc40a1962f6973198a913b": {
          "model_module": "@jupyter-widgets/controls",
          "model_name": "DescriptionStyleModel",
          "state": {
            "_view_name": "StyleView",
            "_model_name": "DescriptionStyleModel",
            "description_width": "",
            "_view_module": "@jupyter-widgets/base",
            "_model_module_version": "1.5.0",
            "_view_count": null,
            "_view_module_version": "1.2.0",
            "_model_module": "@jupyter-widgets/controls"
          }
        },
        "ded70ca2e0b943e988b99ad16a615e2f": {
          "model_module": "@jupyter-widgets/base",
          "model_name": "LayoutModel",
          "state": {
            "_view_name": "LayoutView",
            "grid_template_rows": null,
            "right": null,
            "justify_content": null,
            "_view_module": "@jupyter-widgets/base",
            "overflow": null,
            "_model_module_version": "1.2.0",
            "_view_count": null,
            "flex_flow": null,
            "width": null,
            "min_width": null,
            "border": null,
            "align_items": null,
            "bottom": null,
            "_model_module": "@jupyter-widgets/base",
            "top": null,
            "grid_column": null,
            "overflow_y": null,
            "overflow_x": null,
            "grid_auto_flow": null,
            "grid_area": null,
            "grid_template_columns": null,
            "flex": null,
            "_model_name": "LayoutModel",
            "justify_items": null,
            "grid_row": null,
            "max_height": null,
            "align_content": null,
            "visibility": null,
            "align_self": null,
            "height": null,
            "min_height": null,
            "padding": null,
            "grid_auto_rows": null,
            "grid_gap": null,
            "max_width": null,
            "order": null,
            "_view_module_version": "1.2.0",
            "grid_template_areas": null,
            "object_position": null,
            "object_fit": null,
            "grid_auto_columns": null,
            "margin": null,
            "display": null,
            "left": null
          }
        },
        "f8bd7f17655b420d8782b1d1811a0a60": {
          "model_module": "@jupyter-widgets/controls",
          "model_name": "HBoxModel",
          "state": {
            "_view_name": "HBoxView",
            "_dom_classes": [],
            "_model_name": "HBoxModel",
            "_view_module": "@jupyter-widgets/controls",
            "_model_module_version": "1.5.0",
            "_view_count": null,
            "_view_module_version": "1.5.0",
            "box_style": "",
            "layout": "IPY_MODEL_e56c6477d30e46dfba1870833b8e0bbc",
            "_model_module": "@jupyter-widgets/controls",
            "children": [
              "IPY_MODEL_f0490881e85548c8b05dec23dae52ad5",
              "IPY_MODEL_2292942fcaf24180ba020c6785197226"
            ]
          }
        },
        "e56c6477d30e46dfba1870833b8e0bbc": {
          "model_module": "@jupyter-widgets/base",
          "model_name": "LayoutModel",
          "state": {
            "_view_name": "LayoutView",
            "grid_template_rows": null,
            "right": null,
            "justify_content": null,
            "_view_module": "@jupyter-widgets/base",
            "overflow": null,
            "_model_module_version": "1.2.0",
            "_view_count": null,
            "flex_flow": null,
            "width": null,
            "min_width": null,
            "border": null,
            "align_items": null,
            "bottom": null,
            "_model_module": "@jupyter-widgets/base",
            "top": null,
            "grid_column": null,
            "overflow_y": null,
            "overflow_x": null,
            "grid_auto_flow": null,
            "grid_area": null,
            "grid_template_columns": null,
            "flex": null,
            "_model_name": "LayoutModel",
            "justify_items": null,
            "grid_row": null,
            "max_height": null,
            "align_content": null,
            "visibility": null,
            "align_self": null,
            "height": null,
            "min_height": null,
            "padding": null,
            "grid_auto_rows": null,
            "grid_gap": null,
            "max_width": null,
            "order": null,
            "_view_module_version": "1.2.0",
            "grid_template_areas": null,
            "object_position": null,
            "object_fit": null,
            "grid_auto_columns": null,
            "margin": null,
            "display": null,
            "left": null
          }
        },
        "f0490881e85548c8b05dec23dae52ad5": {
          "model_module": "@jupyter-widgets/controls",
          "model_name": "FloatProgressModel",
          "state": {
            "_view_name": "ProgressView",
            "style": "IPY_MODEL_5c0df9070fed4b169103e7d755c002fb",
            "_dom_classes": [],
            "description": "Downloading: 100%",
            "_model_name": "FloatProgressModel",
            "bar_style": "success",
            "max": 363423424,
            "_view_module": "@jupyter-widgets/controls",
            "_model_module_version": "1.5.0",
            "value": 363423424,
            "_view_count": null,
            "_view_module_version": "1.5.0",
            "orientation": "horizontal",
            "min": 0,
            "description_tooltip": null,
            "_model_module": "@jupyter-widgets/controls",
            "layout": "IPY_MODEL_7698852f6ddc40529038045cc90fffbb"
          }
        },
        "2292942fcaf24180ba020c6785197226": {
          "model_module": "@jupyter-widgets/controls",
          "model_name": "HTMLModel",
          "state": {
            "_view_name": "HTMLView",
            "style": "IPY_MODEL_6075166e165e4977ba1f0055d1b2f9d8",
            "_dom_classes": [],
            "description": "",
            "_model_name": "HTMLModel",
            "placeholder": "​",
            "_view_module": "@jupyter-widgets/controls",
            "_model_module_version": "1.5.0",
            "value": " 363M/363M [00:05&lt;00:00, 62.8MB/s]",
            "_view_count": null,
            "_view_module_version": "1.5.0",
            "description_tooltip": null,
            "_model_module": "@jupyter-widgets/controls",
            "layout": "IPY_MODEL_5bfd2bfd33a74ba9accf853a88f0d30e"
          }
        },
        "5c0df9070fed4b169103e7d755c002fb": {
          "model_module": "@jupyter-widgets/controls",
          "model_name": "ProgressStyleModel",
          "state": {
            "_view_name": "StyleView",
            "_model_name": "ProgressStyleModel",
            "description_width": "initial",
            "_view_module": "@jupyter-widgets/base",
            "_model_module_version": "1.5.0",
            "_view_count": null,
            "_view_module_version": "1.2.0",
            "bar_color": null,
            "_model_module": "@jupyter-widgets/controls"
          }
        },
        "7698852f6ddc40529038045cc90fffbb": {
          "model_module": "@jupyter-widgets/base",
          "model_name": "LayoutModel",
          "state": {
            "_view_name": "LayoutView",
            "grid_template_rows": null,
            "right": null,
            "justify_content": null,
            "_view_module": "@jupyter-widgets/base",
            "overflow": null,
            "_model_module_version": "1.2.0",
            "_view_count": null,
            "flex_flow": null,
            "width": null,
            "min_width": null,
            "border": null,
            "align_items": null,
            "bottom": null,
            "_model_module": "@jupyter-widgets/base",
            "top": null,
            "grid_column": null,
            "overflow_y": null,
            "overflow_x": null,
            "grid_auto_flow": null,
            "grid_area": null,
            "grid_template_columns": null,
            "flex": null,
            "_model_name": "LayoutModel",
            "justify_items": null,
            "grid_row": null,
            "max_height": null,
            "align_content": null,
            "visibility": null,
            "align_self": null,
            "height": null,
            "min_height": null,
            "padding": null,
            "grid_auto_rows": null,
            "grid_gap": null,
            "max_width": null,
            "order": null,
            "_view_module_version": "1.2.0",
            "grid_template_areas": null,
            "object_position": null,
            "object_fit": null,
            "grid_auto_columns": null,
            "margin": null,
            "display": null,
            "left": null
          }
        },
        "6075166e165e4977ba1f0055d1b2f9d8": {
          "model_module": "@jupyter-widgets/controls",
          "model_name": "DescriptionStyleModel",
          "state": {
            "_view_name": "StyleView",
            "_model_name": "DescriptionStyleModel",
            "description_width": "",
            "_view_module": "@jupyter-widgets/base",
            "_model_module_version": "1.5.0",
            "_view_count": null,
            "_view_module_version": "1.2.0",
            "_model_module": "@jupyter-widgets/controls"
          }
        },
        "5bfd2bfd33a74ba9accf853a88f0d30e": {
          "model_module": "@jupyter-widgets/base",
          "model_name": "LayoutModel",
          "state": {
            "_view_name": "LayoutView",
            "grid_template_rows": null,
            "right": null,
            "justify_content": null,
            "_view_module": "@jupyter-widgets/base",
            "overflow": null,
            "_model_module_version": "1.2.0",
            "_view_count": null,
            "flex_flow": null,
            "width": null,
            "min_width": null,
            "border": null,
            "align_items": null,
            "bottom": null,
            "_model_module": "@jupyter-widgets/base",
            "top": null,
            "grid_column": null,
            "overflow_y": null,
            "overflow_x": null,
            "grid_auto_flow": null,
            "grid_area": null,
            "grid_template_columns": null,
            "flex": null,
            "_model_name": "LayoutModel",
            "justify_items": null,
            "grid_row": null,
            "max_height": null,
            "align_content": null,
            "visibility": null,
            "align_self": null,
            "height": null,
            "min_height": null,
            "padding": null,
            "grid_auto_rows": null,
            "grid_gap": null,
            "max_width": null,
            "order": null,
            "_view_module_version": "1.2.0",
            "grid_template_areas": null,
            "object_position": null,
            "object_fit": null,
            "grid_auto_columns": null,
            "margin": null,
            "display": null,
            "left": null
          }
        },
        "7e0f2243f33d4616ad0855cbcfe2f1f4": {
          "model_module": "@jupyter-widgets/controls",
          "model_name": "HBoxModel",
          "state": {
            "_view_name": "HBoxView",
            "_dom_classes": [],
            "_model_name": "HBoxModel",
            "_view_module": "@jupyter-widgets/controls",
            "_model_module_version": "1.5.0",
            "_view_count": null,
            "_view_module_version": "1.5.0",
            "box_style": "",
            "layout": "IPY_MODEL_87e3f3f0c7a3451f8e326cc9a154dfd8",
            "_model_module": "@jupyter-widgets/controls",
            "children": [
              "IPY_MODEL_b1621ddc0119401097ce8a18ba0da02f",
              "IPY_MODEL_9ce4fc959081443188ad957b8ee4b7e4"
            ]
          }
        },
        "87e3f3f0c7a3451f8e326cc9a154dfd8": {
          "model_module": "@jupyter-widgets/base",
          "model_name": "LayoutModel",
          "state": {
            "_view_name": "LayoutView",
            "grid_template_rows": null,
            "right": null,
            "justify_content": null,
            "_view_module": "@jupyter-widgets/base",
            "overflow": null,
            "_model_module_version": "1.2.0",
            "_view_count": null,
            "flex_flow": null,
            "width": null,
            "min_width": null,
            "border": null,
            "align_items": null,
            "bottom": null,
            "_model_module": "@jupyter-widgets/base",
            "top": null,
            "grid_column": null,
            "overflow_y": null,
            "overflow_x": null,
            "grid_auto_flow": null,
            "grid_area": null,
            "grid_template_columns": null,
            "flex": null,
            "_model_name": "LayoutModel",
            "justify_items": null,
            "grid_row": null,
            "max_height": null,
            "align_content": null,
            "visibility": null,
            "align_self": null,
            "height": null,
            "min_height": null,
            "padding": null,
            "grid_auto_rows": null,
            "grid_gap": null,
            "max_width": null,
            "order": null,
            "_view_module_version": "1.2.0",
            "grid_template_areas": null,
            "object_position": null,
            "object_fit": null,
            "grid_auto_columns": null,
            "margin": null,
            "display": null,
            "left": null
          }
        },
        "b1621ddc0119401097ce8a18ba0da02f": {
          "model_module": "@jupyter-widgets/controls",
          "model_name": "FloatProgressModel",
          "state": {
            "_view_name": "ProgressView",
            "style": "IPY_MODEL_936de233f0cc4d91bea93a7dfd898d2f",
            "_dom_classes": [],
            "description": "Downloading: 100%",
            "_model_name": "FloatProgressModel",
            "bar_style": "success",
            "max": 231508,
            "_view_module": "@jupyter-widgets/controls",
            "_model_module_version": "1.5.0",
            "value": 231508,
            "_view_count": null,
            "_view_module_version": "1.5.0",
            "orientation": "horizontal",
            "min": 0,
            "description_tooltip": null,
            "_model_module": "@jupyter-widgets/controls",
            "layout": "IPY_MODEL_f4ada91422d24ca2b259dfc68dc9eeeb"
          }
        },
        "9ce4fc959081443188ad957b8ee4b7e4": {
          "model_module": "@jupyter-widgets/controls",
          "model_name": "HTMLModel",
          "state": {
            "_view_name": "HTMLView",
            "style": "IPY_MODEL_f1ca1a8b5222407baab0705c335504ff",
            "_dom_classes": [],
            "description": "",
            "_model_name": "HTMLModel",
            "placeholder": "​",
            "_view_module": "@jupyter-widgets/controls",
            "_model_module_version": "1.5.0",
            "value": " 232k/232k [00:00&lt;00:00, 875kB/s]",
            "_view_count": null,
            "_view_module_version": "1.5.0",
            "description_tooltip": null,
            "_model_module": "@jupyter-widgets/controls",
            "layout": "IPY_MODEL_5f4b8acc44dc4411ae6dc0f478f106db"
          }
        },
        "936de233f0cc4d91bea93a7dfd898d2f": {
          "model_module": "@jupyter-widgets/controls",
          "model_name": "ProgressStyleModel",
          "state": {
            "_view_name": "StyleView",
            "_model_name": "ProgressStyleModel",
            "description_width": "initial",
            "_view_module": "@jupyter-widgets/base",
            "_model_module_version": "1.5.0",
            "_view_count": null,
            "_view_module_version": "1.2.0",
            "bar_color": null,
            "_model_module": "@jupyter-widgets/controls"
          }
        },
        "f4ada91422d24ca2b259dfc68dc9eeeb": {
          "model_module": "@jupyter-widgets/base",
          "model_name": "LayoutModel",
          "state": {
            "_view_name": "LayoutView",
            "grid_template_rows": null,
            "right": null,
            "justify_content": null,
            "_view_module": "@jupyter-widgets/base",
            "overflow": null,
            "_model_module_version": "1.2.0",
            "_view_count": null,
            "flex_flow": null,
            "width": null,
            "min_width": null,
            "border": null,
            "align_items": null,
            "bottom": null,
            "_model_module": "@jupyter-widgets/base",
            "top": null,
            "grid_column": null,
            "overflow_y": null,
            "overflow_x": null,
            "grid_auto_flow": null,
            "grid_area": null,
            "grid_template_columns": null,
            "flex": null,
            "_model_name": "LayoutModel",
            "justify_items": null,
            "grid_row": null,
            "max_height": null,
            "align_content": null,
            "visibility": null,
            "align_self": null,
            "height": null,
            "min_height": null,
            "padding": null,
            "grid_auto_rows": null,
            "grid_gap": null,
            "max_width": null,
            "order": null,
            "_view_module_version": "1.2.0",
            "grid_template_areas": null,
            "object_position": null,
            "object_fit": null,
            "grid_auto_columns": null,
            "margin": null,
            "display": null,
            "left": null
          }
        },
        "f1ca1a8b5222407baab0705c335504ff": {
          "model_module": "@jupyter-widgets/controls",
          "model_name": "DescriptionStyleModel",
          "state": {
            "_view_name": "StyleView",
            "_model_name": "DescriptionStyleModel",
            "description_width": "",
            "_view_module": "@jupyter-widgets/base",
            "_model_module_version": "1.5.0",
            "_view_count": null,
            "_view_module_version": "1.2.0",
            "_model_module": "@jupyter-widgets/controls"
          }
        },
        "5f4b8acc44dc4411ae6dc0f478f106db": {
          "model_module": "@jupyter-widgets/base",
          "model_name": "LayoutModel",
          "state": {
            "_view_name": "LayoutView",
            "grid_template_rows": null,
            "right": null,
            "justify_content": null,
            "_view_module": "@jupyter-widgets/base",
            "overflow": null,
            "_model_module_version": "1.2.0",
            "_view_count": null,
            "flex_flow": null,
            "width": null,
            "min_width": null,
            "border": null,
            "align_items": null,
            "bottom": null,
            "_model_module": "@jupyter-widgets/base",
            "top": null,
            "grid_column": null,
            "overflow_y": null,
            "overflow_x": null,
            "grid_auto_flow": null,
            "grid_area": null,
            "grid_template_columns": null,
            "flex": null,
            "_model_name": "LayoutModel",
            "justify_items": null,
            "grid_row": null,
            "max_height": null,
            "align_content": null,
            "visibility": null,
            "align_self": null,
            "height": null,
            "min_height": null,
            "padding": null,
            "grid_auto_rows": null,
            "grid_gap": null,
            "max_width": null,
            "order": null,
            "_view_module_version": "1.2.0",
            "grid_template_areas": null,
            "object_position": null,
            "object_fit": null,
            "grid_auto_columns": null,
            "margin": null,
            "display": null,
            "left": null
          }
        },
        "c36ba81c3393465f96120da1bd1c3a0c": {
          "model_module": "@jupyter-widgets/controls",
          "model_name": "HBoxModel",
          "state": {
            "_view_name": "HBoxView",
            "_dom_classes": [],
            "_model_name": "HBoxModel",
            "_view_module": "@jupyter-widgets/controls",
            "_model_module_version": "1.5.0",
            "_view_count": null,
            "_view_module_version": "1.5.0",
            "box_style": "",
            "layout": "IPY_MODEL_11fb2f54baba44f79f2fef757aa1c2dc",
            "_model_module": "@jupyter-widgets/controls",
            "children": [
              "IPY_MODEL_482e4b9302e84ff0a67613238753c607",
              "IPY_MODEL_db749cfe7829405e95655adcb690e062"
            ]
          }
        },
        "11fb2f54baba44f79f2fef757aa1c2dc": {
          "model_module": "@jupyter-widgets/base",
          "model_name": "LayoutModel",
          "state": {
            "_view_name": "LayoutView",
            "grid_template_rows": null,
            "right": null,
            "justify_content": null,
            "_view_module": "@jupyter-widgets/base",
            "overflow": null,
            "_model_module_version": "1.2.0",
            "_view_count": null,
            "flex_flow": null,
            "width": null,
            "min_width": null,
            "border": null,
            "align_items": null,
            "bottom": null,
            "_model_module": "@jupyter-widgets/base",
            "top": null,
            "grid_column": null,
            "overflow_y": null,
            "overflow_x": null,
            "grid_auto_flow": null,
            "grid_area": null,
            "grid_template_columns": null,
            "flex": null,
            "_model_name": "LayoutModel",
            "justify_items": null,
            "grid_row": null,
            "max_height": null,
            "align_content": null,
            "visibility": null,
            "align_self": null,
            "height": null,
            "min_height": null,
            "padding": null,
            "grid_auto_rows": null,
            "grid_gap": null,
            "max_width": null,
            "order": null,
            "_view_module_version": "1.2.0",
            "grid_template_areas": null,
            "object_position": null,
            "object_fit": null,
            "grid_auto_columns": null,
            "margin": null,
            "display": null,
            "left": null
          }
        },
        "482e4b9302e84ff0a67613238753c607": {
          "model_module": "@jupyter-widgets/controls",
          "model_name": "FloatProgressModel",
          "state": {
            "_view_name": "ProgressView",
            "style": "IPY_MODEL_32b4c9ebdb574efa8079835d24e0ed3d",
            "_dom_classes": [],
            "description": "Downloading: 100%",
            "_model_name": "FloatProgressModel",
            "bar_style": "success",
            "max": 466062,
            "_view_module": "@jupyter-widgets/controls",
            "_model_module_version": "1.5.0",
            "value": 466062,
            "_view_count": null,
            "_view_module_version": "1.5.0",
            "orientation": "horizontal",
            "min": 0,
            "description_tooltip": null,
            "_model_module": "@jupyter-widgets/controls",
            "layout": "IPY_MODEL_65b2e3fcaeb044aca0c47aa5ab076a10"
          }
        },
        "db749cfe7829405e95655adcb690e062": {
          "model_module": "@jupyter-widgets/controls",
          "model_name": "HTMLModel",
          "state": {
            "_view_name": "HTMLView",
            "style": "IPY_MODEL_9a6448a7d70d4c9ba1e6bc09f36fd921",
            "_dom_classes": [],
            "description": "",
            "_model_name": "HTMLModel",
            "placeholder": "​",
            "_view_module": "@jupyter-widgets/controls",
            "_model_module_version": "1.5.0",
            "value": " 466k/466k [00:14&lt;00:00, 32.5kB/s]",
            "_view_count": null,
            "_view_module_version": "1.5.0",
            "description_tooltip": null,
            "_model_module": "@jupyter-widgets/controls",
            "layout": "IPY_MODEL_33de0a89e3374643a70a80c39f2b789e"
          }
        },
        "32b4c9ebdb574efa8079835d24e0ed3d": {
          "model_module": "@jupyter-widgets/controls",
          "model_name": "ProgressStyleModel",
          "state": {
            "_view_name": "StyleView",
            "_model_name": "ProgressStyleModel",
            "description_width": "initial",
            "_view_module": "@jupyter-widgets/base",
            "_model_module_version": "1.5.0",
            "_view_count": null,
            "_view_module_version": "1.2.0",
            "bar_color": null,
            "_model_module": "@jupyter-widgets/controls"
          }
        },
        "65b2e3fcaeb044aca0c47aa5ab076a10": {
          "model_module": "@jupyter-widgets/base",
          "model_name": "LayoutModel",
          "state": {
            "_view_name": "LayoutView",
            "grid_template_rows": null,
            "right": null,
            "justify_content": null,
            "_view_module": "@jupyter-widgets/base",
            "overflow": null,
            "_model_module_version": "1.2.0",
            "_view_count": null,
            "flex_flow": null,
            "width": null,
            "min_width": null,
            "border": null,
            "align_items": null,
            "bottom": null,
            "_model_module": "@jupyter-widgets/base",
            "top": null,
            "grid_column": null,
            "overflow_y": null,
            "overflow_x": null,
            "grid_auto_flow": null,
            "grid_area": null,
            "grid_template_columns": null,
            "flex": null,
            "_model_name": "LayoutModel",
            "justify_items": null,
            "grid_row": null,
            "max_height": null,
            "align_content": null,
            "visibility": null,
            "align_self": null,
            "height": null,
            "min_height": null,
            "padding": null,
            "grid_auto_rows": null,
            "grid_gap": null,
            "max_width": null,
            "order": null,
            "_view_module_version": "1.2.0",
            "grid_template_areas": null,
            "object_position": null,
            "object_fit": null,
            "grid_auto_columns": null,
            "margin": null,
            "display": null,
            "left": null
          }
        },
        "9a6448a7d70d4c9ba1e6bc09f36fd921": {
          "model_module": "@jupyter-widgets/controls",
          "model_name": "DescriptionStyleModel",
          "state": {
            "_view_name": "StyleView",
            "_model_name": "DescriptionStyleModel",
            "description_width": "",
            "_view_module": "@jupyter-widgets/base",
            "_model_module_version": "1.5.0",
            "_view_count": null,
            "_view_module_version": "1.2.0",
            "_model_module": "@jupyter-widgets/controls"
          }
        },
        "33de0a89e3374643a70a80c39f2b789e": {
          "model_module": "@jupyter-widgets/base",
          "model_name": "LayoutModel",
          "state": {
            "_view_name": "LayoutView",
            "grid_template_rows": null,
            "right": null,
            "justify_content": null,
            "_view_module": "@jupyter-widgets/base",
            "overflow": null,
            "_model_module_version": "1.2.0",
            "_view_count": null,
            "flex_flow": null,
            "width": null,
            "min_width": null,
            "border": null,
            "align_items": null,
            "bottom": null,
            "_model_module": "@jupyter-widgets/base",
            "top": null,
            "grid_column": null,
            "overflow_y": null,
            "overflow_x": null,
            "grid_auto_flow": null,
            "grid_area": null,
            "grid_template_columns": null,
            "flex": null,
            "_model_name": "LayoutModel",
            "justify_items": null,
            "grid_row": null,
            "max_height": null,
            "align_content": null,
            "visibility": null,
            "align_self": null,
            "height": null,
            "min_height": null,
            "padding": null,
            "grid_auto_rows": null,
            "grid_gap": null,
            "max_width": null,
            "order": null,
            "_view_module_version": "1.2.0",
            "grid_template_areas": null,
            "object_position": null,
            "object_fit": null,
            "grid_auto_columns": null,
            "margin": null,
            "display": null,
            "left": null
          }
        },
        "bbae390ce9e14ea8a4931bc0bb5fbf9c": {
          "model_module": "@jupyter-widgets/controls",
          "model_name": "HBoxModel",
          "state": {
            "_view_name": "HBoxView",
            "_dom_classes": [],
            "_model_name": "HBoxModel",
            "_view_module": "@jupyter-widgets/controls",
            "_model_module_version": "1.5.0",
            "_view_count": null,
            "_view_module_version": "1.5.0",
            "box_style": "",
            "layout": "IPY_MODEL_b04e1ff2a4504924b6c276a4c081df06",
            "_model_module": "@jupyter-widgets/controls",
            "children": [
              "IPY_MODEL_2bb7f6e81f0c41cb8c6e06fa5e92c73d",
              "IPY_MODEL_61294d51ba80484999b6c527a5c5ecb1"
            ]
          }
        },
        "b04e1ff2a4504924b6c276a4c081df06": {
          "model_module": "@jupyter-widgets/base",
          "model_name": "LayoutModel",
          "state": {
            "_view_name": "LayoutView",
            "grid_template_rows": null,
            "right": null,
            "justify_content": null,
            "_view_module": "@jupyter-widgets/base",
            "overflow": null,
            "_model_module_version": "1.2.0",
            "_view_count": null,
            "flex_flow": null,
            "width": null,
            "min_width": null,
            "border": null,
            "align_items": null,
            "bottom": null,
            "_model_module": "@jupyter-widgets/base",
            "top": null,
            "grid_column": null,
            "overflow_y": null,
            "overflow_x": null,
            "grid_auto_flow": null,
            "grid_area": null,
            "grid_template_columns": null,
            "flex": null,
            "_model_name": "LayoutModel",
            "justify_items": null,
            "grid_row": null,
            "max_height": null,
            "align_content": null,
            "visibility": null,
            "align_self": null,
            "height": null,
            "min_height": null,
            "padding": null,
            "grid_auto_rows": null,
            "grid_gap": null,
            "max_width": null,
            "order": null,
            "_view_module_version": "1.2.0",
            "grid_template_areas": null,
            "object_position": null,
            "object_fit": null,
            "grid_auto_columns": null,
            "margin": null,
            "display": null,
            "left": null
          }
        },
        "2bb7f6e81f0c41cb8c6e06fa5e92c73d": {
          "model_module": "@jupyter-widgets/controls",
          "model_name": "FloatProgressModel",
          "state": {
            "_view_name": "ProgressView",
            "style": "IPY_MODEL_2dd01774bfb34fc9af94a8452f8418e2",
            "_dom_classes": [],
            "description": "Downloading: 100%",
            "_model_name": "FloatProgressModel",
            "bar_style": "success",
            "max": 656,
            "_view_module": "@jupyter-widgets/controls",
            "_model_module_version": "1.5.0",
            "value": 656,
            "_view_count": null,
            "_view_module_version": "1.5.0",
            "orientation": "horizontal",
            "min": 0,
            "description_tooltip": null,
            "_model_module": "@jupyter-widgets/controls",
            "layout": "IPY_MODEL_bc430d8a47bc4f54996e02fbd9b0405f"
          }
        },
        "61294d51ba80484999b6c527a5c5ecb1": {
          "model_module": "@jupyter-widgets/controls",
          "model_name": "HTMLModel",
          "state": {
            "_view_name": "HTMLView",
            "style": "IPY_MODEL_f018d036a56e42eb8b3b048f2e6a6520",
            "_dom_classes": [],
            "description": "",
            "_model_name": "HTMLModel",
            "placeholder": "​",
            "_view_module": "@jupyter-widgets/controls",
            "_model_module_version": "1.5.0",
            "value": " 656/656 [00:12&lt;00:00, 53.5B/s]",
            "_view_count": null,
            "_view_module_version": "1.5.0",
            "description_tooltip": null,
            "_model_module": "@jupyter-widgets/controls",
            "layout": "IPY_MODEL_e0a71462647a4d178ec7d7a463ca263f"
          }
        },
        "2dd01774bfb34fc9af94a8452f8418e2": {
          "model_module": "@jupyter-widgets/controls",
          "model_name": "ProgressStyleModel",
          "state": {
            "_view_name": "StyleView",
            "_model_name": "ProgressStyleModel",
            "description_width": "initial",
            "_view_module": "@jupyter-widgets/base",
            "_model_module_version": "1.5.0",
            "_view_count": null,
            "_view_module_version": "1.2.0",
            "bar_color": null,
            "_model_module": "@jupyter-widgets/controls"
          }
        },
        "bc430d8a47bc4f54996e02fbd9b0405f": {
          "model_module": "@jupyter-widgets/base",
          "model_name": "LayoutModel",
          "state": {
            "_view_name": "LayoutView",
            "grid_template_rows": null,
            "right": null,
            "justify_content": null,
            "_view_module": "@jupyter-widgets/base",
            "overflow": null,
            "_model_module_version": "1.2.0",
            "_view_count": null,
            "flex_flow": null,
            "width": null,
            "min_width": null,
            "border": null,
            "align_items": null,
            "bottom": null,
            "_model_module": "@jupyter-widgets/base",
            "top": null,
            "grid_column": null,
            "overflow_y": null,
            "overflow_x": null,
            "grid_auto_flow": null,
            "grid_area": null,
            "grid_template_columns": null,
            "flex": null,
            "_model_name": "LayoutModel",
            "justify_items": null,
            "grid_row": null,
            "max_height": null,
            "align_content": null,
            "visibility": null,
            "align_self": null,
            "height": null,
            "min_height": null,
            "padding": null,
            "grid_auto_rows": null,
            "grid_gap": null,
            "max_width": null,
            "order": null,
            "_view_module_version": "1.2.0",
            "grid_template_areas": null,
            "object_position": null,
            "object_fit": null,
            "grid_auto_columns": null,
            "margin": null,
            "display": null,
            "left": null
          }
        },
        "f018d036a56e42eb8b3b048f2e6a6520": {
          "model_module": "@jupyter-widgets/controls",
          "model_name": "DescriptionStyleModel",
          "state": {
            "_view_name": "StyleView",
            "_model_name": "DescriptionStyleModel",
            "description_width": "",
            "_view_module": "@jupyter-widgets/base",
            "_model_module_version": "1.5.0",
            "_view_count": null,
            "_view_module_version": "1.2.0",
            "_model_module": "@jupyter-widgets/controls"
          }
        },
        "e0a71462647a4d178ec7d7a463ca263f": {
          "model_module": "@jupyter-widgets/base",
          "model_name": "LayoutModel",
          "state": {
            "_view_name": "LayoutView",
            "grid_template_rows": null,
            "right": null,
            "justify_content": null,
            "_view_module": "@jupyter-widgets/base",
            "overflow": null,
            "_model_module_version": "1.2.0",
            "_view_count": null,
            "flex_flow": null,
            "width": null,
            "min_width": null,
            "border": null,
            "align_items": null,
            "bottom": null,
            "_model_module": "@jupyter-widgets/base",
            "top": null,
            "grid_column": null,
            "overflow_y": null,
            "overflow_x": null,
            "grid_auto_flow": null,
            "grid_area": null,
            "grid_template_columns": null,
            "flex": null,
            "_model_name": "LayoutModel",
            "justify_items": null,
            "grid_row": null,
            "max_height": null,
            "align_content": null,
            "visibility": null,
            "align_self": null,
            "height": null,
            "min_height": null,
            "padding": null,
            "grid_auto_rows": null,
            "grid_gap": null,
            "max_width": null,
            "order": null,
            "_view_module_version": "1.2.0",
            "grid_template_areas": null,
            "object_position": null,
            "object_fit": null,
            "grid_auto_columns": null,
            "margin": null,
            "display": null,
            "left": null
          }
        },
        "9098c1f2b6ea42eaa4c179bf6e938a69": {
          "model_module": "@jupyter-widgets/controls",
          "model_name": "HBoxModel",
          "state": {
            "_view_name": "HBoxView",
            "_dom_classes": [],
            "_model_name": "HBoxModel",
            "_view_module": "@jupyter-widgets/controls",
            "_model_module_version": "1.5.0",
            "_view_count": null,
            "_view_module_version": "1.5.0",
            "box_style": "",
            "layout": "IPY_MODEL_bfc16c6421084ed08a8ff83f94c6c0e1",
            "_model_module": "@jupyter-widgets/controls",
            "children": [
              "IPY_MODEL_990f797332654132938905ca194968d9",
              "IPY_MODEL_455951720959452fad1b80178f1bd348"
            ]
          }
        },
        "bfc16c6421084ed08a8ff83f94c6c0e1": {
          "model_module": "@jupyter-widgets/base",
          "model_name": "LayoutModel",
          "state": {
            "_view_name": "LayoutView",
            "grid_template_rows": null,
            "right": null,
            "justify_content": null,
            "_view_module": "@jupyter-widgets/base",
            "overflow": null,
            "_model_module_version": "1.2.0",
            "_view_count": null,
            "flex_flow": null,
            "width": null,
            "min_width": null,
            "border": null,
            "align_items": null,
            "bottom": null,
            "_model_module": "@jupyter-widgets/base",
            "top": null,
            "grid_column": null,
            "overflow_y": null,
            "overflow_x": null,
            "grid_auto_flow": null,
            "grid_area": null,
            "grid_template_columns": null,
            "flex": null,
            "_model_name": "LayoutModel",
            "justify_items": null,
            "grid_row": null,
            "max_height": null,
            "align_content": null,
            "visibility": null,
            "align_self": null,
            "height": null,
            "min_height": null,
            "padding": null,
            "grid_auto_rows": null,
            "grid_gap": null,
            "max_width": null,
            "order": null,
            "_view_module_version": "1.2.0",
            "grid_template_areas": null,
            "object_position": null,
            "object_fit": null,
            "grid_auto_columns": null,
            "margin": null,
            "display": null,
            "left": null
          }
        },
        "990f797332654132938905ca194968d9": {
          "model_module": "@jupyter-widgets/controls",
          "model_name": "FloatProgressModel",
          "state": {
            "_view_name": "ProgressView",
            "style": "IPY_MODEL_bcefffb13e4843788efd823ea6ad5bbd",
            "_dom_classes": [],
            "description": "Downloading: 100%",
            "_model_name": "FloatProgressModel",
            "bar_style": "success",
            "max": 466312920,
            "_view_module": "@jupyter-widgets/controls",
            "_model_module_version": "1.5.0",
            "value": 466312920,
            "_view_count": null,
            "_view_module_version": "1.5.0",
            "orientation": "horizontal",
            "min": 0,
            "description_tooltip": null,
            "_model_module": "@jupyter-widgets/controls",
            "layout": "IPY_MODEL_d2e07ddb196b48a08ce303d66d25cf44"
          }
        },
        "455951720959452fad1b80178f1bd348": {
          "model_module": "@jupyter-widgets/controls",
          "model_name": "HTMLModel",
          "state": {
            "_view_name": "HTMLView",
            "style": "IPY_MODEL_9653ec543e4c45dbbf96dbb87fbd3574",
            "_dom_classes": [],
            "description": "",
            "_model_name": "HTMLModel",
            "placeholder": "​",
            "_view_module": "@jupyter-widgets/controls",
            "_model_module_version": "1.5.0",
            "value": " 466M/466M [00:11&lt;00:00, 40.1MB/s]",
            "_view_count": null,
            "_view_module_version": "1.5.0",
            "description_tooltip": null,
            "_model_module": "@jupyter-widgets/controls",
            "layout": "IPY_MODEL_e80777606bb646d98ea39d5ba4dc2a5a"
          }
        },
        "bcefffb13e4843788efd823ea6ad5bbd": {
          "model_module": "@jupyter-widgets/controls",
          "model_name": "ProgressStyleModel",
          "state": {
            "_view_name": "StyleView",
            "_model_name": "ProgressStyleModel",
            "description_width": "initial",
            "_view_module": "@jupyter-widgets/base",
            "_model_module_version": "1.5.0",
            "_view_count": null,
            "_view_module_version": "1.2.0",
            "bar_color": null,
            "_model_module": "@jupyter-widgets/controls"
          }
        },
        "d2e07ddb196b48a08ce303d66d25cf44": {
          "model_module": "@jupyter-widgets/base",
          "model_name": "LayoutModel",
          "state": {
            "_view_name": "LayoutView",
            "grid_template_rows": null,
            "right": null,
            "justify_content": null,
            "_view_module": "@jupyter-widgets/base",
            "overflow": null,
            "_model_module_version": "1.2.0",
            "_view_count": null,
            "flex_flow": null,
            "width": null,
            "min_width": null,
            "border": null,
            "align_items": null,
            "bottom": null,
            "_model_module": "@jupyter-widgets/base",
            "top": null,
            "grid_column": null,
            "overflow_y": null,
            "overflow_x": null,
            "grid_auto_flow": null,
            "grid_area": null,
            "grid_template_columns": null,
            "flex": null,
            "_model_name": "LayoutModel",
            "justify_items": null,
            "grid_row": null,
            "max_height": null,
            "align_content": null,
            "visibility": null,
            "align_self": null,
            "height": null,
            "min_height": null,
            "padding": null,
            "grid_auto_rows": null,
            "grid_gap": null,
            "max_width": null,
            "order": null,
            "_view_module_version": "1.2.0",
            "grid_template_areas": null,
            "object_position": null,
            "object_fit": null,
            "grid_auto_columns": null,
            "margin": null,
            "display": null,
            "left": null
          }
        },
        "9653ec543e4c45dbbf96dbb87fbd3574": {
          "model_module": "@jupyter-widgets/controls",
          "model_name": "DescriptionStyleModel",
          "state": {
            "_view_name": "StyleView",
            "_model_name": "DescriptionStyleModel",
            "description_width": "",
            "_view_module": "@jupyter-widgets/base",
            "_model_module_version": "1.5.0",
            "_view_count": null,
            "_view_module_version": "1.2.0",
            "_model_module": "@jupyter-widgets/controls"
          }
        },
        "e80777606bb646d98ea39d5ba4dc2a5a": {
          "model_module": "@jupyter-widgets/base",
          "model_name": "LayoutModel",
          "state": {
            "_view_name": "LayoutView",
            "grid_template_rows": null,
            "right": null,
            "justify_content": null,
            "_view_module": "@jupyter-widgets/base",
            "overflow": null,
            "_model_module_version": "1.2.0",
            "_view_count": null,
            "flex_flow": null,
            "width": null,
            "min_width": null,
            "border": null,
            "align_items": null,
            "bottom": null,
            "_model_module": "@jupyter-widgets/base",
            "top": null,
            "grid_column": null,
            "overflow_y": null,
            "overflow_x": null,
            "grid_auto_flow": null,
            "grid_area": null,
            "grid_template_columns": null,
            "flex": null,
            "_model_name": "LayoutModel",
            "justify_items": null,
            "grid_row": null,
            "max_height": null,
            "align_content": null,
            "visibility": null,
            "align_self": null,
            "height": null,
            "min_height": null,
            "padding": null,
            "grid_auto_rows": null,
            "grid_gap": null,
            "max_width": null,
            "order": null,
            "_view_module_version": "1.2.0",
            "grid_template_areas": null,
            "object_position": null,
            "object_fit": null,
            "grid_auto_columns": null,
            "margin": null,
            "display": null,
            "left": null
          }
        },
        "3eaa9c3c86ab4c72b5fbd62c77d6536b": {
          "model_module": "@jupyter-widgets/controls",
          "model_name": "HBoxModel",
          "state": {
            "_view_name": "HBoxView",
            "_dom_classes": [],
            "_model_name": "HBoxModel",
            "_view_module": "@jupyter-widgets/controls",
            "_model_module_version": "1.5.0",
            "_view_count": null,
            "_view_module_version": "1.5.0",
            "box_style": "",
            "layout": "IPY_MODEL_8cf322a80d2f4122b9a94cbf18414476",
            "_model_module": "@jupyter-widgets/controls",
            "children": [
              "IPY_MODEL_cc2417c0a8c5427aa86deb8cd8eacaf6",
              "IPY_MODEL_d78f39f73efc4bb7bfd1c3a9bdf788a7"
            ]
          }
        },
        "8cf322a80d2f4122b9a94cbf18414476": {
          "model_module": "@jupyter-widgets/base",
          "model_name": "LayoutModel",
          "state": {
            "_view_name": "LayoutView",
            "grid_template_rows": null,
            "right": null,
            "justify_content": null,
            "_view_module": "@jupyter-widgets/base",
            "overflow": null,
            "_model_module_version": "1.2.0",
            "_view_count": null,
            "flex_flow": null,
            "width": null,
            "min_width": null,
            "border": null,
            "align_items": null,
            "bottom": null,
            "_model_module": "@jupyter-widgets/base",
            "top": null,
            "grid_column": null,
            "overflow_y": null,
            "overflow_x": null,
            "grid_auto_flow": null,
            "grid_area": null,
            "grid_template_columns": null,
            "flex": null,
            "_model_name": "LayoutModel",
            "justify_items": null,
            "grid_row": null,
            "max_height": null,
            "align_content": null,
            "visibility": null,
            "align_self": null,
            "height": null,
            "min_height": null,
            "padding": null,
            "grid_auto_rows": null,
            "grid_gap": null,
            "max_width": null,
            "order": null,
            "_view_module_version": "1.2.0",
            "grid_template_areas": null,
            "object_position": null,
            "object_fit": null,
            "grid_auto_columns": null,
            "margin": null,
            "display": null,
            "left": null
          }
        },
        "cc2417c0a8c5427aa86deb8cd8eacaf6": {
          "model_module": "@jupyter-widgets/controls",
          "model_name": "FloatProgressModel",
          "state": {
            "_view_name": "ProgressView",
            "style": "IPY_MODEL_0261bd13ab6b49fc94e74c0faba0a65e",
            "_dom_classes": [],
            "description": "Downloading: 100%",
            "_model_name": "FloatProgressModel",
            "bar_style": "success",
            "max": 815973,
            "_view_module": "@jupyter-widgets/controls",
            "_model_module_version": "1.5.0",
            "value": 815973,
            "_view_count": null,
            "_view_module_version": "1.5.0",
            "orientation": "horizontal",
            "min": 0,
            "description_tooltip": null,
            "_model_module": "@jupyter-widgets/controls",
            "layout": "IPY_MODEL_3914ff9fe440452783bc87887ccc3288"
          }
        },
        "d78f39f73efc4bb7bfd1c3a9bdf788a7": {
          "model_module": "@jupyter-widgets/controls",
          "model_name": "HTMLModel",
          "state": {
            "_view_name": "HTMLView",
            "style": "IPY_MODEL_72f4ac1e58d44c0d9cb592a76010928f",
            "_dom_classes": [],
            "description": "",
            "_model_name": "HTMLModel",
            "placeholder": "​",
            "_view_module": "@jupyter-widgets/controls",
            "_model_module_version": "1.5.0",
            "value": " 816k/816k [00:00&lt;00:00, 2.66MB/s]",
            "_view_count": null,
            "_view_module_version": "1.5.0",
            "description_tooltip": null,
            "_model_module": "@jupyter-widgets/controls",
            "layout": "IPY_MODEL_e198bce1f3cd41678269472a3a766d36"
          }
        },
        "0261bd13ab6b49fc94e74c0faba0a65e": {
          "model_module": "@jupyter-widgets/controls",
          "model_name": "ProgressStyleModel",
          "state": {
            "_view_name": "StyleView",
            "_model_name": "ProgressStyleModel",
            "description_width": "initial",
            "_view_module": "@jupyter-widgets/base",
            "_model_module_version": "1.5.0",
            "_view_count": null,
            "_view_module_version": "1.2.0",
            "bar_color": null,
            "_model_module": "@jupyter-widgets/controls"
          }
        },
        "3914ff9fe440452783bc87887ccc3288": {
          "model_module": "@jupyter-widgets/base",
          "model_name": "LayoutModel",
          "state": {
            "_view_name": "LayoutView",
            "grid_template_rows": null,
            "right": null,
            "justify_content": null,
            "_view_module": "@jupyter-widgets/base",
            "overflow": null,
            "_model_module_version": "1.2.0",
            "_view_count": null,
            "flex_flow": null,
            "width": null,
            "min_width": null,
            "border": null,
            "align_items": null,
            "bottom": null,
            "_model_module": "@jupyter-widgets/base",
            "top": null,
            "grid_column": null,
            "overflow_y": null,
            "overflow_x": null,
            "grid_auto_flow": null,
            "grid_area": null,
            "grid_template_columns": null,
            "flex": null,
            "_model_name": "LayoutModel",
            "justify_items": null,
            "grid_row": null,
            "max_height": null,
            "align_content": null,
            "visibility": null,
            "align_self": null,
            "height": null,
            "min_height": null,
            "padding": null,
            "grid_auto_rows": null,
            "grid_gap": null,
            "max_width": null,
            "order": null,
            "_view_module_version": "1.2.0",
            "grid_template_areas": null,
            "object_position": null,
            "object_fit": null,
            "grid_auto_columns": null,
            "margin": null,
            "display": null,
            "left": null
          }
        },
        "72f4ac1e58d44c0d9cb592a76010928f": {
          "model_module": "@jupyter-widgets/controls",
          "model_name": "DescriptionStyleModel",
          "state": {
            "_view_name": "StyleView",
            "_model_name": "DescriptionStyleModel",
            "description_width": "",
            "_view_module": "@jupyter-widgets/base",
            "_model_module_version": "1.5.0",
            "_view_count": null,
            "_view_module_version": "1.2.0",
            "_model_module": "@jupyter-widgets/controls"
          }
        },
        "e198bce1f3cd41678269472a3a766d36": {
          "model_module": "@jupyter-widgets/base",
          "model_name": "LayoutModel",
          "state": {
            "_view_name": "LayoutView",
            "grid_template_rows": null,
            "right": null,
            "justify_content": null,
            "_view_module": "@jupyter-widgets/base",
            "overflow": null,
            "_model_module_version": "1.2.0",
            "_view_count": null,
            "flex_flow": null,
            "width": null,
            "min_width": null,
            "border": null,
            "align_items": null,
            "bottom": null,
            "_model_module": "@jupyter-widgets/base",
            "top": null,
            "grid_column": null,
            "overflow_y": null,
            "overflow_x": null,
            "grid_auto_flow": null,
            "grid_area": null,
            "grid_template_columns": null,
            "flex": null,
            "_model_name": "LayoutModel",
            "justify_items": null,
            "grid_row": null,
            "max_height": null,
            "align_content": null,
            "visibility": null,
            "align_self": null,
            "height": null,
            "min_height": null,
            "padding": null,
            "grid_auto_rows": null,
            "grid_gap": null,
            "max_width": null,
            "order": null,
            "_view_module_version": "1.2.0",
            "grid_template_areas": null,
            "object_position": null,
            "object_fit": null,
            "grid_auto_columns": null,
            "margin": null,
            "display": null,
            "left": null
          }
        },
        "ed1a812bbd734d039804c8119492ee0a": {
          "model_module": "@jupyter-widgets/controls",
          "model_name": "HBoxModel",
          "state": {
            "_view_name": "HBoxView",
            "_dom_classes": [],
            "_model_name": "HBoxModel",
            "_view_module": "@jupyter-widgets/controls",
            "_model_module_version": "1.5.0",
            "_view_count": null,
            "_view_module_version": "1.5.0",
            "box_style": "",
            "layout": "IPY_MODEL_2ed975e374564c3eaff1d673c74a8fc3",
            "_model_module": "@jupyter-widgets/controls",
            "children": [
              "IPY_MODEL_3e346cb50c3f49f087545222c0733eb9",
              "IPY_MODEL_5ed6f4a91e8a46e0b662fffd3f89f4e0"
            ]
          }
        },
        "2ed975e374564c3eaff1d673c74a8fc3": {
          "model_module": "@jupyter-widgets/base",
          "model_name": "LayoutModel",
          "state": {
            "_view_name": "LayoutView",
            "grid_template_rows": null,
            "right": null,
            "justify_content": null,
            "_view_module": "@jupyter-widgets/base",
            "overflow": null,
            "_model_module_version": "1.2.0",
            "_view_count": null,
            "flex_flow": null,
            "width": null,
            "min_width": null,
            "border": null,
            "align_items": null,
            "bottom": null,
            "_model_module": "@jupyter-widgets/base",
            "top": null,
            "grid_column": null,
            "overflow_y": null,
            "overflow_x": null,
            "grid_auto_flow": null,
            "grid_area": null,
            "grid_template_columns": null,
            "flex": null,
            "_model_name": "LayoutModel",
            "justify_items": null,
            "grid_row": null,
            "max_height": null,
            "align_content": null,
            "visibility": null,
            "align_self": null,
            "height": null,
            "min_height": null,
            "padding": null,
            "grid_auto_rows": null,
            "grid_gap": null,
            "max_width": null,
            "order": null,
            "_view_module_version": "1.2.0",
            "grid_template_areas": null,
            "object_position": null,
            "object_fit": null,
            "grid_auto_columns": null,
            "margin": null,
            "display": null,
            "left": null
          }
        },
        "3e346cb50c3f49f087545222c0733eb9": {
          "model_module": "@jupyter-widgets/controls",
          "model_name": "FloatProgressModel",
          "state": {
            "_view_name": "ProgressView",
            "style": "IPY_MODEL_f016cb2505b04bdcbfb169223171a111",
            "_dom_classes": [],
            "description": "Downloading: 100%",
            "_model_name": "FloatProgressModel",
            "bar_style": "success",
            "max": 458495,
            "_view_module": "@jupyter-widgets/controls",
            "_model_module_version": "1.5.0",
            "value": 458495,
            "_view_count": null,
            "_view_module_version": "1.5.0",
            "orientation": "horizontal",
            "min": 0,
            "description_tooltip": null,
            "_model_module": "@jupyter-widgets/controls",
            "layout": "IPY_MODEL_28a7315d2aff45eca780c7755f412c2a"
          }
        },
        "5ed6f4a91e8a46e0b662fffd3f89f4e0": {
          "model_module": "@jupyter-widgets/controls",
          "model_name": "HTMLModel",
          "state": {
            "_view_name": "HTMLView",
            "style": "IPY_MODEL_561f4d944c4f47f3bbe9d770e2bd39af",
            "_dom_classes": [],
            "description": "",
            "_model_name": "HTMLModel",
            "placeholder": "​",
            "_view_module": "@jupyter-widgets/controls",
            "_model_module_version": "1.5.0",
            "value": " 458k/458k [00:00&lt;00:00, 3.69MB/s]",
            "_view_count": null,
            "_view_module_version": "1.5.0",
            "description_tooltip": null,
            "_model_module": "@jupyter-widgets/controls",
            "layout": "IPY_MODEL_1ee2ed6a3b0d4abaa884e009422981a5"
          }
        },
        "f016cb2505b04bdcbfb169223171a111": {
          "model_module": "@jupyter-widgets/controls",
          "model_name": "ProgressStyleModel",
          "state": {
            "_view_name": "StyleView",
            "_model_name": "ProgressStyleModel",
            "description_width": "initial",
            "_view_module": "@jupyter-widgets/base",
            "_model_module_version": "1.5.0",
            "_view_count": null,
            "_view_module_version": "1.2.0",
            "bar_color": null,
            "_model_module": "@jupyter-widgets/controls"
          }
        },
        "28a7315d2aff45eca780c7755f412c2a": {
          "model_module": "@jupyter-widgets/base",
          "model_name": "LayoutModel",
          "state": {
            "_view_name": "LayoutView",
            "grid_template_rows": null,
            "right": null,
            "justify_content": null,
            "_view_module": "@jupyter-widgets/base",
            "overflow": null,
            "_model_module_version": "1.2.0",
            "_view_count": null,
            "flex_flow": null,
            "width": null,
            "min_width": null,
            "border": null,
            "align_items": null,
            "bottom": null,
            "_model_module": "@jupyter-widgets/base",
            "top": null,
            "grid_column": null,
            "overflow_y": null,
            "overflow_x": null,
            "grid_auto_flow": null,
            "grid_area": null,
            "grid_template_columns": null,
            "flex": null,
            "_model_name": "LayoutModel",
            "justify_items": null,
            "grid_row": null,
            "max_height": null,
            "align_content": null,
            "visibility": null,
            "align_self": null,
            "height": null,
            "min_height": null,
            "padding": null,
            "grid_auto_rows": null,
            "grid_gap": null,
            "max_width": null,
            "order": null,
            "_view_module_version": "1.2.0",
            "grid_template_areas": null,
            "object_position": null,
            "object_fit": null,
            "grid_auto_columns": null,
            "margin": null,
            "display": null,
            "left": null
          }
        },
        "561f4d944c4f47f3bbe9d770e2bd39af": {
          "model_module": "@jupyter-widgets/controls",
          "model_name": "DescriptionStyleModel",
          "state": {
            "_view_name": "StyleView",
            "_model_name": "DescriptionStyleModel",
            "description_width": "",
            "_view_module": "@jupyter-widgets/base",
            "_model_module_version": "1.5.0",
            "_view_count": null,
            "_view_module_version": "1.2.0",
            "_model_module": "@jupyter-widgets/controls"
          }
        },
        "1ee2ed6a3b0d4abaa884e009422981a5": {
          "model_module": "@jupyter-widgets/base",
          "model_name": "LayoutModel",
          "state": {
            "_view_name": "LayoutView",
            "grid_template_rows": null,
            "right": null,
            "justify_content": null,
            "_view_module": "@jupyter-widgets/base",
            "overflow": null,
            "_model_module_version": "1.2.0",
            "_view_count": null,
            "flex_flow": null,
            "width": null,
            "min_width": null,
            "border": null,
            "align_items": null,
            "bottom": null,
            "_model_module": "@jupyter-widgets/base",
            "top": null,
            "grid_column": null,
            "overflow_y": null,
            "overflow_x": null,
            "grid_auto_flow": null,
            "grid_area": null,
            "grid_template_columns": null,
            "flex": null,
            "_model_name": "LayoutModel",
            "justify_items": null,
            "grid_row": null,
            "max_height": null,
            "align_content": null,
            "visibility": null,
            "align_self": null,
            "height": null,
            "min_height": null,
            "padding": null,
            "grid_auto_rows": null,
            "grid_gap": null,
            "max_width": null,
            "order": null,
            "_view_module_version": "1.2.0",
            "grid_template_areas": null,
            "object_position": null,
            "object_fit": null,
            "grid_auto_columns": null,
            "margin": null,
            "display": null,
            "left": null
          }
        }
      }
    },
    "accelerator": "GPU"
  },
  "cells": [
    {
      "cell_type": "code",
      "metadata": {
        "id": "ip6cXziuQFt7"
      },
      "source": [
        "import tensorflow as tf\n",
        "import os\n",
        "import requests\n",
        "import numpy as np"
      ],
      "execution_count": null,
      "outputs": []
    },
    {
      "cell_type": "markdown",
      "metadata": {
        "id": "yWbieiXD-tKL"
      },
      "source": [
        "Code based on HuggingFace's [great notebooks](https://huggingface.co/transformers/notebooks.html)"
      ]
    },
    {
      "cell_type": "code",
      "metadata": {
        "colab": {
          "base_uri": "https://localhost:8080/"
        },
        "id": "5Pn1JkVA7MRB",
        "outputId": "8d7dc3e5-cdda-45e2-b42e-5463058e453d"
      },
      "source": [
        "!pip install transformers"
      ],
      "execution_count": null,
      "outputs": [
        {
          "output_type": "stream",
          "text": [
            "Collecting transformers\n",
            "\u001b[?25l  Downloading https://files.pythonhosted.org/packages/3a/83/e74092e7f24a08d751aa59b37a9fc572b2e4af3918cb66f7766c3affb1b4/transformers-3.5.1-py3-none-any.whl (1.3MB)\n",
            "\u001b[K     |████████████████████████████████| 1.3MB 12.8MB/s \n",
            "\u001b[?25hCollecting sentencepiece==0.1.91\n",
            "\u001b[?25l  Downloading https://files.pythonhosted.org/packages/d4/a4/d0a884c4300004a78cca907a6ff9a5e9fe4f090f5d95ab341c53d28cbc58/sentencepiece-0.1.91-cp36-cp36m-manylinux1_x86_64.whl (1.1MB)\n",
            "\u001b[K     |████████████████████████████████| 1.1MB 22.4MB/s \n",
            "\u001b[?25hRequirement already satisfied: requests in /usr/local/lib/python3.6/dist-packages (from transformers) (2.23.0)\n",
            "Requirement already satisfied: numpy in /usr/local/lib/python3.6/dist-packages (from transformers) (1.18.5)\n",
            "Requirement already satisfied: dataclasses; python_version < \"3.7\" in /usr/local/lib/python3.6/dist-packages (from transformers) (0.8)\n",
            "Requirement already satisfied: tqdm>=4.27 in /usr/local/lib/python3.6/dist-packages (from transformers) (4.41.1)\n",
            "Requirement already satisfied: regex!=2019.12.17 in /usr/local/lib/python3.6/dist-packages (from transformers) (2019.12.20)\n",
            "Collecting sacremoses\n",
            "\u001b[?25l  Downloading https://files.pythonhosted.org/packages/7d/34/09d19aff26edcc8eb2a01bed8e98f13a1537005d31e95233fd48216eed10/sacremoses-0.0.43.tar.gz (883kB)\n",
            "\u001b[K     |████████████████████████████████| 890kB 49.3MB/s \n",
            "\u001b[?25hRequirement already satisfied: protobuf in /usr/local/lib/python3.6/dist-packages (from transformers) (3.12.4)\n",
            "Collecting tokenizers==0.9.3\n",
            "\u001b[?25l  Downloading https://files.pythonhosted.org/packages/4c/34/b39eb9994bc3c999270b69c9eea40ecc6f0e97991dba28282b9fd32d44ee/tokenizers-0.9.3-cp36-cp36m-manylinux1_x86_64.whl (2.9MB)\n",
            "\u001b[K     |████████████████████████████████| 2.9MB 55.0MB/s \n",
            "\u001b[?25hRequirement already satisfied: filelock in /usr/local/lib/python3.6/dist-packages (from transformers) (3.0.12)\n",
            "Requirement already satisfied: packaging in /usr/local/lib/python3.6/dist-packages (from transformers) (20.4)\n",
            "Requirement already satisfied: chardet<4,>=3.0.2 in /usr/local/lib/python3.6/dist-packages (from requests->transformers) (3.0.4)\n",
            "Requirement already satisfied: idna<3,>=2.5 in /usr/local/lib/python3.6/dist-packages (from requests->transformers) (2.10)\n",
            "Requirement already satisfied: urllib3!=1.25.0,!=1.25.1,<1.26,>=1.21.1 in /usr/local/lib/python3.6/dist-packages (from requests->transformers) (1.24.3)\n",
            "Requirement already satisfied: certifi>=2017.4.17 in /usr/local/lib/python3.6/dist-packages (from requests->transformers) (2020.11.8)\n",
            "Requirement already satisfied: six in /usr/local/lib/python3.6/dist-packages (from sacremoses->transformers) (1.15.0)\n",
            "Requirement already satisfied: click in /usr/local/lib/python3.6/dist-packages (from sacremoses->transformers) (7.1.2)\n",
            "Requirement already satisfied: joblib in /usr/local/lib/python3.6/dist-packages (from sacremoses->transformers) (0.17.0)\n",
            "Requirement already satisfied: setuptools in /usr/local/lib/python3.6/dist-packages (from protobuf->transformers) (50.3.2)\n",
            "Requirement already satisfied: pyparsing>=2.0.2 in /usr/local/lib/python3.6/dist-packages (from packaging->transformers) (2.4.7)\n",
            "Building wheels for collected packages: sacremoses\n",
            "  Building wheel for sacremoses (setup.py) ... \u001b[?25l\u001b[?25hdone\n",
            "  Created wheel for sacremoses: filename=sacremoses-0.0.43-cp36-none-any.whl size=893257 sha256=894cdcf6328bd27a63148e735a88b4ac1d22e9d797eeaed4aee026da74b2d57d\n",
            "  Stored in directory: /root/.cache/pip/wheels/29/3c/fd/7ce5c3f0666dab31a50123635e6fb5e19ceb42ce38d4e58f45\n",
            "Successfully built sacremoses\n",
            "Installing collected packages: sentencepiece, sacremoses, tokenizers, transformers\n",
            "Successfully installed sacremoses-0.0.43 sentencepiece-0.1.91 tokenizers-0.9.3 transformers-3.5.1\n"
          ],
          "name": "stdout"
        }
      ]
    },
    {
      "cell_type": "markdown",
      "metadata": {
        "id": "uFF3lqOYHNg6"
      },
      "source": [
        "# Transformers"
      ]
    },
    {
      "cell_type": "markdown",
      "metadata": {
        "id": "4UBfWZFIPRT7"
      },
      "source": [
        "High-level Transformer library!"
      ]
    },
    {
      "cell_type": "code",
      "metadata": {
        "colab": {
          "base_uri": "https://localhost:8080/",
          "height": 134,
          "referenced_widgets": [
            "f8d3ed9331994d10b34d7115b2e29f19",
            "d457385a962b412d81a1913a34c4b345",
            "2baa99c8049d4c8ab7aaa8c74fb7f86e",
            "6c35c58e92e849ef94797dc3fe7a31cd",
            "14a9afa6e21044d18d315a6edf83eadd",
            "03ea43dd326745f9ba108c0718980d68",
            "5608eb215c9a42fa968632329edfc190",
            "d8f951a52d0346509b346ee64b6aefee",
            "c690f801a29944dc9935f6e7772c3730",
            "f4b063f3d1fe4af8abfe1b8cdbec2ee8",
            "8b4a0e915a0d4eec9391b0a4fc6a6c9d",
            "8be3b905aea243f8852c34cebb639149",
            "4d2127c7090744b48b81cb846329fbdd",
            "accb927545024db2b84c19e11f473a90",
            "d9b8588ff2794feca04030afba9e2afd",
            "800760bfa994400eb764f5b5b3202b63"
          ]
        },
        "id": "l7bGoo52PUPf",
        "outputId": "9be51bce-81ef-4a19-c89a-0a104daf0d1e"
      },
      "source": [
        "from transformers import pipeline\n",
        "classifier = pipeline('sentiment-analysis')\n",
        "classifier('We are very happy to learn the Transformers library.')"
      ],
      "execution_count": null,
      "outputs": [
        {
          "output_type": "display_data",
          "data": {
            "application/vnd.jupyter.widget-view+json": {
              "model_id": "f8d3ed9331994d10b34d7115b2e29f19",
              "version_minor": 0,
              "version_major": 2
            },
            "text/plain": [
              "HBox(children=(FloatProgress(value=0.0, description='Downloading', max=267844284.0, style=ProgressStyle(descri…"
            ]
          },
          "metadata": {
            "tags": []
          }
        },
        {
          "output_type": "stream",
          "text": [
            "\n"
          ],
          "name": "stdout"
        },
        {
          "output_type": "display_data",
          "data": {
            "application/vnd.jupyter.widget-view+json": {
              "model_id": "c690f801a29944dc9935f6e7772c3730",
              "version_minor": 0,
              "version_major": 2
            },
            "text/plain": [
              "HBox(children=(FloatProgress(value=0.0, description='Downloading', max=230.0, style=ProgressStyle(description_…"
            ]
          },
          "metadata": {
            "tags": []
          }
        },
        {
          "output_type": "stream",
          "text": [
            "\n"
          ],
          "name": "stdout"
        },
        {
          "output_type": "execute_result",
          "data": {
            "text/plain": [
              "[{'label': 'POSITIVE', 'score': 0.9997990727424622}]"
            ]
          },
          "metadata": {
            "tags": []
          },
          "execution_count": 3
        }
      ]
    },
    {
      "cell_type": "markdown",
      "metadata": {
        "id": "EgAfn8gtRpg-"
      },
      "source": [
        "You can equivalently use the models directly:"
      ]
    },
    {
      "cell_type": "code",
      "metadata": {
        "colab": {
          "base_uri": "https://localhost:8080/"
        },
        "id": "sFeRM9q3PpOc",
        "outputId": "9ba949a9-ca24-4eb5-8ed5-5f965ca37607"
      },
      "source": [
        "from transformers import AutoTokenizer, TFAutoModelForSequenceClassification\n",
        "\n",
        "model_name = \"distilbert-base-uncased-finetuned-sst-2-english\"\n",
        "tf_model = TFAutoModelForSequenceClassification.from_pretrained(model_name)\n",
        "tokenizer = AutoTokenizer.from_pretrained(model_name)"
      ],
      "execution_count": null,
      "outputs": [
        {
          "output_type": "stream",
          "text": [
            "All model checkpoint layers were used when initializing TFDistilBertForSequenceClassification.\n",
            "\n",
            "All the layers of TFDistilBertForSequenceClassification were initialized from the model checkpoint at distilbert-base-uncased-finetuned-sst-2-english.\n",
            "If your task is similar to the task the model of the checkpoint was trained on, you can already use TFDistilBertForSequenceClassification for predictions without further training.\n"
          ],
          "name": "stderr"
        }
      ]
    },
    {
      "cell_type": "markdown",
      "metadata": {
        "id": "C858ismEQCS1"
      },
      "source": [
        "this is equivalent to:"
      ]
    },
    {
      "cell_type": "code",
      "metadata": {
        "id": "Z0DiYIx9QFWL"
      },
      "source": [
        "from transformers import DistilBertTokenizer, TFDistilBertForSequenceClassification\n",
        "\n",
        "model = TFDistilBertForSequenceClassification.from_pretrained(model_name)\n",
        "tokenizer = DistilBertTokenizer.from_pretrained(model_name)"
      ],
      "execution_count": null,
      "outputs": []
    },
    {
      "cell_type": "code",
      "metadata": {
        "colab": {
          "base_uri": "https://localhost:8080/"
        },
        "id": "4QKRucEXRiu9",
        "outputId": "d3096169-9f9f-4ecb-dc89-c5ab83c35673"
      },
      "source": [
        "tf_input = tokenizer(['We are very happy to learn the Transformers library.'], return_tensors=\"tf\")\n",
        "tf_input"
      ],
      "execution_count": null,
      "outputs": [
        {
          "output_type": "execute_result",
          "data": {
            "text/plain": [
              "{'input_ids': <tf.Tensor: shape=(1, 12), dtype=int32, numpy=\n",
              "array([[  101,  2057,  2024,  2200,  3407,  2000,  4553,  1996, 19081,\n",
              "         3075,  1012,   102]], dtype=int32)>, 'attention_mask': <tf.Tensor: shape=(1, 12), dtype=int32, numpy=array([[1, 1, 1, 1, 1, 1, 1, 1, 1, 1, 1, 1]], dtype=int32)>}"
            ]
          },
          "metadata": {
            "tags": []
          },
          "execution_count": 5
        }
      ]
    },
    {
      "cell_type": "code",
      "metadata": {
        "colab": {
          "base_uri": "https://localhost:8080/"
        },
        "id": "izZ4v2nLSDgE",
        "outputId": "0e9b5e73-863c-438a-b569-86a883cb46fe"
      },
      "source": [
        "tf_outputs = tf_model(tf_input)\n",
        "tf_outputs"
      ],
      "execution_count": null,
      "outputs": [
        {
          "output_type": "execute_result",
          "data": {
            "text/plain": [
              "(<tf.Tensor: shape=(1, 2), dtype=float32, numpy=array([[-4.126616 ,  4.3855367]], dtype=float32)>,)"
            ]
          },
          "metadata": {
            "tags": []
          },
          "execution_count": 6
        }
      ]
    },
    {
      "cell_type": "code",
      "metadata": {
        "colab": {
          "base_uri": "https://localhost:8080/"
        },
        "id": "oLuVGuPCSQjZ",
        "outputId": "d64a149f-98f9-42cb-c460-3a7c3d448d85"
      },
      "source": [
        "tf_predictions = tf.nn.softmax(tf_outputs[0], axis=-1)\n",
        "tf_predictions"
      ],
      "execution_count": null,
      "outputs": [
        {
          "output_type": "execute_result",
          "data": {
            "text/plain": [
              "<tf.Tensor: shape=(1, 2), dtype=float32, numpy=array([[2.0097027e-04, 9.9979907e-01]], dtype=float32)>"
            ]
          },
          "metadata": {
            "tags": []
          },
          "execution_count": 7
        }
      ]
    },
    {
      "cell_type": "code",
      "metadata": {
        "id": "nSRpshVgSiOU"
      },
      "source": [
        "# Here how we save the model and tokenizer. no need to do it, as we did not fine-tune the model\n",
        "# tokenizer.save_pretrained(save_directory)\n",
        "# model.save_pretrained(save_directory)"
      ],
      "execution_count": null,
      "outputs": []
    },
    {
      "cell_type": "markdown",
      "metadata": {
        "id": "X-W_1bjQUIrX"
      },
      "source": [
        "> **TF{**Model**}** Generic, for all cases, can be specialized as you want\n",
        "\n",
        "\n",
        "> **TF{**Model**}ForSequenceClassification** \n",
        "  * Text Classification\n",
        "  * Sentiment Analysis (\"*sentiment-analysis*\")\n",
        "\n",
        "> **TF{**Model**}ForQuestionAnswering** \n",
        "  * QA (\"*question-answering*\")\n",
        "\n",
        "> **TF{**Model**}WithLMHead** \n",
        "  * MLM (\"*fill-mask*\")\n",
        "  * Text Generation (\"*text-generation*\", \"*text2text-generation*\")\n",
        "  * Translation (\"*translation_xx_to_yy\", ...)\n",
        "\n",
        "> **TF{**Model**}ForTokenClassification** \n",
        "  * NER (\"*ner*\")\n",
        "  * POS tagging \n"
      ]
    },
    {
      "cell_type": "code",
      "metadata": {
        "colab": {
          "base_uri": "https://localhost:8080/",
          "height": 288,
          "referenced_widgets": [
            "b07625a114d24ca7bb07497350f62bbd",
            "cd0eb55fa85f4508a38cd15b2dd768f6",
            "2881a71b188c4a72938508e16927f7a9",
            "f748b868510f4c719754f66146f366f3",
            "54f355b337b94c0eb2fff6284dac7457",
            "afeb3dc31c4343e78ad07add62a3ccb3",
            "36359282c2fa464ebc4fd34da05db1d1",
            "b6d3b81351914943b7120c18e2cbddb4",
            "213d4dbe1c384a0d8a972ba4c6fc87c2",
            "0e3bb2d154644fec8d0f2d134e4b64ce",
            "f3880f0462874101963f1408b7b699b2",
            "fac6212435284e3dae6a1bf323ae83b9",
            "3e11f95650884a85a2280ce0fefc0195",
            "88ab0c9151394648933ddfd54acfc90b",
            "3f2215c06b434ed19f9b80bda6741d1a",
            "e78dc79f85664fee97452c9fa4c3246a",
            "8f17947ad0da49fba5467b08fc6b9f6d",
            "7270f446590c4df78a100fb5ff8e8992",
            "b4e30c4ed48a415d8d50a433125ca501",
            "15cae1d776cf40058d1696a1e0a717c4",
            "ceec73151ee2475e9387d4f09e366900",
            "b4bd6ee96d224d4d9dcb6d03527c0ad3",
            "6d38206ab0864d509d33fdbe9a918c46",
            "031b2448064848bc9a93e8422791245f",
            "59b477bddaed4b71b599edb570997a91",
            "25747d416abf4f40a6ab818433af9b16",
            "e825234ebd2c4647b894420ef314c730",
            "732865d6a61b4543852e27108dda3210",
            "1343bb933029477b80f82d0027245e27",
            "309ffb9b294b4fb580b23e59f5980de3",
            "b169cfa344644a0ba5130ec7c3be94ca",
            "8922d09fdc814fa1bd53343c0657eef8"
          ]
        },
        "id": "IjuHamYrcnVH",
        "outputId": "ea92c838-fdc6-430e-f2a9-c3bef7abbcc1"
      },
      "source": [
        "context = 'Hugging Face is a French company based in New-York.'\n",
        "question = 'Where is based Hugging Face ?'\n",
        "nlp_qa = pipeline('question-answering')\n",
        "nlp_qa(context=context, question=question)"
      ],
      "execution_count": null,
      "outputs": [
        {
          "output_type": "display_data",
          "data": {
            "application/vnd.jupyter.widget-view+json": {
              "model_id": "b07625a114d24ca7bb07497350f62bbd",
              "version_minor": 0,
              "version_major": 2
            },
            "text/plain": [
              "HBox(children=(FloatProgress(value=0.0, description='Downloading', max=473.0, style=ProgressStyle(description_…"
            ]
          },
          "metadata": {
            "tags": []
          }
        },
        {
          "output_type": "stream",
          "text": [
            "\n"
          ],
          "name": "stdout"
        },
        {
          "output_type": "display_data",
          "data": {
            "application/vnd.jupyter.widget-view+json": {
              "model_id": "213d4dbe1c384a0d8a972ba4c6fc87c2",
              "version_minor": 0,
              "version_major": 2
            },
            "text/plain": [
              "HBox(children=(FloatProgress(value=0.0, description='Downloading', max=260793700.0, style=ProgressStyle(descri…"
            ]
          },
          "metadata": {
            "tags": []
          }
        },
        {
          "output_type": "stream",
          "text": [
            "\n"
          ],
          "name": "stdout"
        },
        {
          "output_type": "display_data",
          "data": {
            "application/vnd.jupyter.widget-view+json": {
              "model_id": "8f17947ad0da49fba5467b08fc6b9f6d",
              "version_minor": 0,
              "version_major": 2
            },
            "text/plain": [
              "HBox(children=(FloatProgress(value=0.0, description='Downloading', max=213450.0, style=ProgressStyle(descripti…"
            ]
          },
          "metadata": {
            "tags": []
          }
        },
        {
          "output_type": "stream",
          "text": [
            "\n"
          ],
          "name": "stdout"
        },
        {
          "output_type": "display_data",
          "data": {
            "application/vnd.jupyter.widget-view+json": {
              "model_id": "59b477bddaed4b71b599edb570997a91",
              "version_minor": 0,
              "version_major": 2
            },
            "text/plain": [
              "HBox(children=(FloatProgress(value=0.0, description='Downloading', max=230.0, style=ProgressStyle(description_…"
            ]
          },
          "metadata": {
            "tags": []
          }
        },
        {
          "output_type": "stream",
          "text": [
            "\n"
          ],
          "name": "stdout"
        },
        {
          "output_type": "stream",
          "text": [
            "/usr/local/lib/python3.6/dist-packages/transformers/tokenization_utils_base.py:1423: FutureWarning: The `max_len` attribute has been deprecated and will be removed in a future version, use `model_max_length` instead.\n",
            "  FutureWarning,\n"
          ],
          "name": "stderr"
        },
        {
          "output_type": "execute_result",
          "data": {
            "text/plain": [
              "{'answer': 'New-York.', 'end': 50, 'score': 0.9633594155311584, 'start': 42}"
            ]
          },
          "metadata": {
            "tags": []
          },
          "execution_count": 21
        }
      ]
    },
    {
      "cell_type": "code",
      "metadata": {
        "colab": {
          "base_uri": "https://localhost:8080/",
          "height": 311,
          "referenced_widgets": [
            "a70ee20cecd64303915255d7fc8734bb",
            "ef7e4973c8ff4a818bebefb54a41bde2",
            "197b1aec8dc941918b4a1a20dda5bbb6",
            "707f08a7782049cfaf3b0f0bd760327c",
            "bc7c32ff0d894d2195d8886edff987dc",
            "71b55a2beb344959af3c7fe064d14fb9",
            "e5704b3ec55b4e51813cb08893cb5331",
            "4144fdb39fdb4ec4b3ccff9ec4bdbad3",
            "17c0a32324764509a078f8c119483ed1",
            "5e4b603a80cc46ef86b8ae1a58ead6c8",
            "066dc5f6b3fc499a878cbb615ff0e468",
            "7cd9f1a7f3ef4f7a96ad0ba20635aeca",
            "fd9f80cf3cec4efe9175a6cfd22b211c",
            "f69133cea13f4bad813083d9c0dd67ce",
            "eba396de930d4739a2512f49969e15c3",
            "a7ebc0d497784fa289eed82e8e16c842",
            "e61fdad847424ebc81164a30f508627a",
            "687f1ebb74a045539bca563881b437b7",
            "bc18e95104eb4b048e83342d60d31d57",
            "d8e57e3f534c4e63ab75974bbbd97bad",
            "35dd76c9471e46c1a0597a489a474818",
            "cb138536bdc442e3a8bf9b2df39b2661",
            "b25cc4f04c134e1faea13f7698d5f26c",
            "bdf248db34e64cf399e0327322b336d4"
          ]
        },
        "id": "uDSqlV4UByp1",
        "outputId": "eca1f699-30ee-4e10-883d-688f9537433f"
      },
      "source": [
        "from transformers import TFAutoModelWithLMHead\n",
        "\n",
        "model = TFAutoModelWithLMHead.from_pretrained(\"t5-base\", return_dict=True)\n",
        "tokenizer = AutoTokenizer.from_pretrained(\"t5-base\")\n",
        "\n",
        "inputs = tokenizer.encode(\"translate English to German: The teacher was happy to train the language model\", return_tensors=\"tf\")\n",
        "outputs = model.generate(inputs, max_length=40, num_beams=4, early_stopping=True)\n",
        "\n",
        "print(tokenizer.decode(outputs[0]))"
      ],
      "execution_count": null,
      "outputs": [
        {
          "output_type": "stream",
          "text": [
            "/usr/local/lib/python3.6/dist-packages/transformers/modeling_tf_auto.py:720: FutureWarning: The class `TFAutoModelWithLMHead` is deprecated and will be removed in a future version. Please use `TFAutoModelForCausalLM` for causal language models, `TFAutoModelForMaskedLM` for masked language models and `TFAutoModelForSeq2SeqLM` for encoder-decoder models.\n",
            "  FutureWarning,\n"
          ],
          "name": "stderr"
        },
        {
          "output_type": "display_data",
          "data": {
            "application/vnd.jupyter.widget-view+json": {
              "model_id": "a70ee20cecd64303915255d7fc8734bb",
              "version_minor": 0,
              "version_major": 2
            },
            "text/plain": [
              "HBox(children=(FloatProgress(value=0.0, description='Downloading', max=1199.0, style=ProgressStyle(description…"
            ]
          },
          "metadata": {
            "tags": []
          }
        },
        {
          "output_type": "stream",
          "text": [
            "\n"
          ],
          "name": "stdout"
        },
        {
          "output_type": "display_data",
          "data": {
            "application/vnd.jupyter.widget-view+json": {
              "model_id": "17c0a32324764509a078f8c119483ed1",
              "version_minor": 0,
              "version_major": 2
            },
            "text/plain": [
              "HBox(children=(FloatProgress(value=0.0, description='Downloading', max=892146080.0, style=ProgressStyle(descri…"
            ]
          },
          "metadata": {
            "tags": []
          }
        },
        {
          "output_type": "stream",
          "text": [
            "\n"
          ],
          "name": "stdout"
        },
        {
          "output_type": "stream",
          "text": [
            "All model checkpoint layers were used when initializing TFT5ForConditionalGeneration.\n",
            "\n",
            "All the layers of TFT5ForConditionalGeneration were initialized from the model checkpoint at t5-base.\n",
            "If your task is similar to the task the model of the checkpoint was trained on, you can already use TFT5ForConditionalGeneration for predictions without further training.\n"
          ],
          "name": "stderr"
        },
        {
          "output_type": "display_data",
          "data": {
            "application/vnd.jupyter.widget-view+json": {
              "model_id": "e61fdad847424ebc81164a30f508627a",
              "version_minor": 0,
              "version_major": 2
            },
            "text/plain": [
              "HBox(children=(FloatProgress(value=0.0, description='Downloading', max=791656.0, style=ProgressStyle(descripti…"
            ]
          },
          "metadata": {
            "tags": []
          }
        },
        {
          "output_type": "stream",
          "text": [
            "\n",
            "Der Lehrer war froh, das Sprachmodell zu schulen.\n"
          ],
          "name": "stdout"
        }
      ]
    },
    {
      "cell_type": "markdown",
      "metadata": {
        "id": "6cfwsn_IdbJp"
      },
      "source": [
        "# Text Classification"
      ]
    },
    {
      "cell_type": "code",
      "metadata": {
        "id": "wuCziGRytOue",
        "colab": {
          "base_uri": "https://localhost:8080/",
          "height": 374,
          "referenced_widgets": [
            "02f6ca9355ce433a887d595109818acd",
            "d1fdb13fc9e2418daceb1fa5732cfef4",
            "562daf284aa94e8c86fc14f5cc75fef7",
            "2d8ab090916e402998cd74916e6de007",
            "2825ecfcb27c40bdb96cd01785673cde",
            "3e6b35899e87492bac08bc27bfb588d4",
            "6ba77e9b8d8845ff84193b19d71a0dc3",
            "74a94d18bfbc4a98a0b0108aab69fab2",
            "bf85c9e90c7e439682cc0ab48da64dcc",
            "062b5d7267214ccaa5082dab8ae31ecd",
            "f36928fe829441d49562656f70ea89e8",
            "c1b1ef14f9164d769c0e7c247ec943b3",
            "a73b43ee0f584d5f803398cd07708485",
            "9343eae7180d41b9bbc1a061dd0fcb61",
            "a4eb7fa238c9476daf4345d947884c79",
            "92807afa1cf8424eafee9fdba7509544",
            "6f261f1ea7e5423494d0f1b49661e898",
            "e5959eb907a44c1bb07a955164756e18",
            "f5b25a9f3d1943e7bf0e7193c7c767f8",
            "24154310a01b48aeac87184cf8340535",
            "445b4278f8044de9b7208dc7a4178128",
            "ea59084129b34f87a35346961e16e6c6",
            "8bb4329aed6748c7a7528a0e6f9d2905",
            "e226d2c904fe4e8a9b0edf8700af7dd1",
            "4118d8e0ac214bf293f4d268edb34091",
            "ce62abcfd8574b6797fabea81e3db0cc",
            "be399ba72dea42d6a9aa709bbc540a0f",
            "005015f38edd4e90bbdc7842fef3342d",
            "a4c552c4d43341428f030f7e415d3e78",
            "f49f535fd49a48cb9fdd9d4a180da495",
            "0070434332d141dba0fa8da9e29681b6",
            "1657290cf9d04257bb58da10870927d9",
            "26dd2a236a4d47f49145fe996092d305",
            "3645c73cd63e4414ae1f9e0f8bcd9787",
            "0d759c51985549a2971fe65e22435c3e",
            "266199fbfb9c4ce487fb43f59cd735af",
            "ebdc843e465440d2989c24c8231ea5c8",
            "55e732af6d124ad99cd3e0d5fa9a28e1",
            "0663ec4d72964c9183bc7db95cf04630",
            "061d028679074757a4dd9ebb6611aa05",
            "b0ca57480aba46eabf265842ef6f6389",
            "8ea944c72d7246d1b06406cc3bf84ac5",
            "f6c83898e9c943f892a1b7a4147ed8a9",
            "3ccfd349ed1a4090a2eb2f075ba2b5e1",
            "6f818a1c600049a38640841f6c980f2f",
            "b1e81dff550d4738838dafaacd49528b",
            "8685940041214840b46485de6d764bcf",
            "9c841493ae1c47e19a612f620216ea63",
            "18a3b69f884d4b319acd3b865f6dc8a5",
            "8bf34c229d1b4866b1b6c61e15943577",
            "4976b5e608e045389f7c76e726606a23",
            "4e5586ced7c243aa8f21024e2ee5d6e3",
            "dd879e74ee2a4962bc7a556951528f08",
            "c42b049a46a043c68227d11f49b9cc04",
            "56bfe908bb404d898afed03a0eb1b82b",
            "b02c8c371dd04e67b13bfcafbbecff84",
            "22656875cc1a40d2ace3ae98bbc10b0b",
            "55f71af7f1694dc2b44e288d6b8157c0",
            "bf8023b397bf4d2e9cc434f9b8ecd29f",
            "ae3809b982bf42d0a0fca0398570b796",
            "acb007ba5ceb48e59024267acdf4c3fd",
            "f9f680af6f90473cb55df6c344c86929",
            "5054aea24a3f43b38fbc200c4654df8a",
            "b463ff4697c946e7b14231a4f9248cfb"
          ]
        },
        "outputId": "a19e56ee-ad50-4365-91e8-b539d28227fb"
      },
      "source": [
        "import tensorflow_datasets as tfds\n",
        "\n",
        "train_data, validation_data, test_data = tfds.load(\n",
        "    name=\"imdb_reviews\", \n",
        "    split=('train[:60%]', 'train[60%:]', 'test'),\n",
        "    batch_size=-1)"
      ],
      "execution_count": null,
      "outputs": [
        {
          "output_type": "stream",
          "text": [
            "\u001b[1mDownloading and preparing dataset imdb_reviews/plain_text/1.0.0 (download: 80.23 MiB, generated: Unknown size, total: 80.23 MiB) to /root/tensorflow_datasets/imdb_reviews/plain_text/1.0.0...\u001b[0m\n"
          ],
          "name": "stdout"
        },
        {
          "output_type": "display_data",
          "data": {
            "application/vnd.jupyter.widget-view+json": {
              "model_id": "02f6ca9355ce433a887d595109818acd",
              "version_minor": 0,
              "version_major": 2
            },
            "text/plain": [
              "HBox(children=(FloatProgress(value=1.0, bar_style='info', description='Dl Completed...', max=1.0, style=Progre…"
            ]
          },
          "metadata": {
            "tags": []
          }
        },
        {
          "output_type": "display_data",
          "data": {
            "application/vnd.jupyter.widget-view+json": {
              "model_id": "bf85c9e90c7e439682cc0ab48da64dcc",
              "version_minor": 0,
              "version_major": 2
            },
            "text/plain": [
              "HBox(children=(FloatProgress(value=1.0, bar_style='info', description='Dl Size...', max=1.0, style=ProgressSty…"
            ]
          },
          "metadata": {
            "tags": []
          }
        },
        {
          "output_type": "stream",
          "text": [
            "\n",
            "\n",
            "\n",
            "\n"
          ],
          "name": "stdout"
        },
        {
          "output_type": "display_data",
          "data": {
            "application/vnd.jupyter.widget-view+json": {
              "model_id": "6f261f1ea7e5423494d0f1b49661e898",
              "version_minor": 0,
              "version_major": 2
            },
            "text/plain": [
              "HBox(children=(FloatProgress(value=1.0, bar_style='info', max=1.0), HTML(value='')))"
            ]
          },
          "metadata": {
            "tags": []
          }
        },
        {
          "output_type": "stream",
          "text": [
            "\rShuffling and writing examples to /root/tensorflow_datasets/imdb_reviews/plain_text/1.0.0.incomplete1NMKTG/imdb_reviews-train.tfrecord\n"
          ],
          "name": "stdout"
        },
        {
          "output_type": "display_data",
          "data": {
            "application/vnd.jupyter.widget-view+json": {
              "model_id": "4118d8e0ac214bf293f4d268edb34091",
              "version_minor": 0,
              "version_major": 2
            },
            "text/plain": [
              "HBox(children=(FloatProgress(value=0.0, max=25000.0), HTML(value='')))"
            ]
          },
          "metadata": {
            "tags": []
          }
        },
        {
          "output_type": "stream",
          "text": [
            "\r"
          ],
          "name": "stdout"
        },
        {
          "output_type": "display_data",
          "data": {
            "application/vnd.jupyter.widget-view+json": {
              "model_id": "26dd2a236a4d47f49145fe996092d305",
              "version_minor": 0,
              "version_major": 2
            },
            "text/plain": [
              "HBox(children=(FloatProgress(value=1.0, bar_style='info', max=1.0), HTML(value='')))"
            ]
          },
          "metadata": {
            "tags": []
          }
        },
        {
          "output_type": "stream",
          "text": [
            "\rShuffling and writing examples to /root/tensorflow_datasets/imdb_reviews/plain_text/1.0.0.incomplete1NMKTG/imdb_reviews-test.tfrecord\n"
          ],
          "name": "stdout"
        },
        {
          "output_type": "display_data",
          "data": {
            "application/vnd.jupyter.widget-view+json": {
              "model_id": "b0ca57480aba46eabf265842ef6f6389",
              "version_minor": 0,
              "version_major": 2
            },
            "text/plain": [
              "HBox(children=(FloatProgress(value=0.0, max=25000.0), HTML(value='')))"
            ]
          },
          "metadata": {
            "tags": []
          }
        },
        {
          "output_type": "stream",
          "text": [
            "\r"
          ],
          "name": "stdout"
        },
        {
          "output_type": "display_data",
          "data": {
            "application/vnd.jupyter.widget-view+json": {
              "model_id": "18a3b69f884d4b319acd3b865f6dc8a5",
              "version_minor": 0,
              "version_major": 2
            },
            "text/plain": [
              "HBox(children=(FloatProgress(value=1.0, bar_style='info', max=1.0), HTML(value='')))"
            ]
          },
          "metadata": {
            "tags": []
          }
        },
        {
          "output_type": "stream",
          "text": [
            "\rShuffling and writing examples to /root/tensorflow_datasets/imdb_reviews/plain_text/1.0.0.incomplete1NMKTG/imdb_reviews-unsupervised.tfrecord\n"
          ],
          "name": "stdout"
        },
        {
          "output_type": "display_data",
          "data": {
            "application/vnd.jupyter.widget-view+json": {
              "model_id": "22656875cc1a40d2ace3ae98bbc10b0b",
              "version_minor": 0,
              "version_major": 2
            },
            "text/plain": [
              "HBox(children=(FloatProgress(value=0.0, max=50000.0), HTML(value='')))"
            ]
          },
          "metadata": {
            "tags": []
          }
        },
        {
          "output_type": "stream",
          "text": [
            "WARNING:absl:Dataset is using deprecated text encoder API which will be removed soon. Please use the plain_text version of the dataset and migrate to `tensorflow_text`.\n"
          ],
          "name": "stderr"
        },
        {
          "output_type": "stream",
          "text": [
            "\u001b[1mDataset imdb_reviews downloaded and prepared to /root/tensorflow_datasets/imdb_reviews/plain_text/1.0.0. Subsequent calls will reuse this data.\u001b[0m\n"
          ],
          "name": "stdout"
        }
      ]
    },
    {
      "cell_type": "markdown",
      "metadata": {
        "id": "J1UlgqYHUV8V"
      },
      "source": [
        "The only problem that I find with the HuggingFace library is that it is very hard to start from a dataset and keep this format for the whole training. See [here](https://github.com/huggingface/transformers/issues/3851)"
      ]
    },
    {
      "cell_type": "markdown",
      "metadata": {
        "id": "qfeTv4YphVp0"
      },
      "source": [
        "Fine-tuning works like this: \n",
        "\n",
        "**raw strings/integers -> tokenizer (without return_tensors) -> convert to Dataset -> train model normally**"
      ]
    },
    {
      "cell_type": "markdown",
      "metadata": {
        "id": "IiAj2Hu0hglP"
      },
      "source": [
        "This way: *Dataset -> tokenizer -> train* IS NOT STRAIGHTFORWARD .\n",
        "\n",
        "For example, the function *glue_convert_examples_to_features* allows as input datasets and applies the tokenizer on its own. Check the code and see how far this is from straightforward: line [79-107](https://github.com/huggingface/transformers/blob/master/src/transformers/data/processors/glue.py)"
      ]
    },
    {
      "cell_type": "code",
      "metadata": {
        "id": "t-1T33Saj5IH"
      },
      "source": [
        "train_texts = [str(t)[2:-1] for t in tfds.as_numpy(train_data[\"text\"])]\n",
        "train_labels = list(tfds.as_numpy(train_data[\"label\"]))\n",
        "\n",
        "validation_texts = [str(t)[2:-1] for t in tfds.as_numpy(validation_data[\"text\"])]\n",
        "validation_labels = list(tfds.as_numpy(validation_data[\"label\"]))\n",
        "\n",
        "test_texts = [str(t)[2:-1] for t in tfds.as_numpy(test_data[\"text\"])]\n",
        "test_labels = list(tfds.as_numpy(test_data[\"label\"]))"
      ],
      "execution_count": null,
      "outputs": []
    },
    {
      "cell_type": "code",
      "metadata": {
        "colab": {
          "base_uri": "https://localhost:8080/",
          "height": 124
        },
        "id": "GbkwufVAkZxg",
        "outputId": "ce7c6443-e44b-41e3-c8f1-cdf95a1999ff"
      },
      "source": [
        "train_texts[0]"
      ],
      "execution_count": null,
      "outputs": [
        {
          "output_type": "execute_result",
          "data": {
            "application/vnd.google.colaboratory.intrinsic+json": {
              "type": "string"
            },
            "text/plain": [
              "\"This was an absolutely terrible movie. Don't be lured in by Christopher Walken or Michael Ironside. Both are great actors, but this must simply be their worst role in history. Even their great acting could not redeem this movie's ridiculous storyline. This movie is an early nineties US propaganda piece. The most pathetic scenes were those when the Columbian rebels were making their cases for revolutions. Maria Conchita Alonso appeared phony, and her pseudo-love affair with Walken was nothing but a pathetic emotional plug in a movie that was devoid of any real meaning. I am disappointed that there are movies like this, ruining actor's like Christopher Walken's good name. I could barely sit through it.\""
            ]
          },
          "metadata": {
            "tags": []
          },
          "execution_count": 8
        }
      ]
    },
    {
      "cell_type": "code",
      "metadata": {
        "colab": {
          "base_uri": "https://localhost:8080/",
          "height": 324,
          "referenced_widgets": [
            "8366f0d665764f349229f94ee80e4c38",
            "287dd6a2617d4d2e893432daa28f6b1b",
            "1955fa12737148f6a5609ea4199fec75",
            "80fb3f8877bd46aa95b8dd1c30e9a894",
            "b0452a57f47340e78f3db6564ed359f0",
            "cdca106fc538434ea1d82c8e713fa328",
            "836c19e4dffc40a1962f6973198a913b",
            "ded70ca2e0b943e988b99ad16a615e2f",
            "f8bd7f17655b420d8782b1d1811a0a60",
            "e56c6477d30e46dfba1870833b8e0bbc",
            "f0490881e85548c8b05dec23dae52ad5",
            "2292942fcaf24180ba020c6785197226",
            "5c0df9070fed4b169103e7d755c002fb",
            "7698852f6ddc40529038045cc90fffbb",
            "6075166e165e4977ba1f0055d1b2f9d8",
            "5bfd2bfd33a74ba9accf853a88f0d30e",
            "7e0f2243f33d4616ad0855cbcfe2f1f4",
            "87e3f3f0c7a3451f8e326cc9a154dfd8",
            "b1621ddc0119401097ce8a18ba0da02f",
            "9ce4fc959081443188ad957b8ee4b7e4",
            "936de233f0cc4d91bea93a7dfd898d2f",
            "f4ada91422d24ca2b259dfc68dc9eeeb",
            "f1ca1a8b5222407baab0705c335504ff",
            "5f4b8acc44dc4411ae6dc0f478f106db",
            "c36ba81c3393465f96120da1bd1c3a0c",
            "11fb2f54baba44f79f2fef757aa1c2dc",
            "482e4b9302e84ff0a67613238753c607",
            "db749cfe7829405e95655adcb690e062",
            "32b4c9ebdb574efa8079835d24e0ed3d",
            "65b2e3fcaeb044aca0c47aa5ab076a10",
            "9a6448a7d70d4c9ba1e6bc09f36fd921",
            "33de0a89e3374643a70a80c39f2b789e"
          ]
        },
        "id": "A-w4KZ65TqFs",
        "outputId": "442cf338-8229-415a-a7dd-865c1cd2ae22"
      },
      "source": [
        "from transformers import DistilBertTokenizerFast, TFDistilBertForSequenceClassification\n",
        "\n",
        "model = TFDistilBertForSequenceClassification.from_pretrained('distilbert-base-uncased')\n",
        "tokenizer = DistilBertTokenizerFast.from_pretrained('distilbert-base-uncased')"
      ],
      "execution_count": null,
      "outputs": [
        {
          "output_type": "display_data",
          "data": {
            "application/vnd.jupyter.widget-view+json": {
              "model_id": "8366f0d665764f349229f94ee80e4c38",
              "version_minor": 0,
              "version_major": 2
            },
            "text/plain": [
              "HBox(children=(FloatProgress(value=0.0, description='Downloading', max=442.0, style=ProgressStyle(description_…"
            ]
          },
          "metadata": {
            "tags": []
          }
        },
        {
          "output_type": "stream",
          "text": [
            "\n"
          ],
          "name": "stdout"
        },
        {
          "output_type": "display_data",
          "data": {
            "application/vnd.jupyter.widget-view+json": {
              "model_id": "f8bd7f17655b420d8782b1d1811a0a60",
              "version_minor": 0,
              "version_major": 2
            },
            "text/plain": [
              "HBox(children=(FloatProgress(value=0.0, description='Downloading', max=363423424.0, style=ProgressStyle(descri…"
            ]
          },
          "metadata": {
            "tags": []
          }
        },
        {
          "output_type": "stream",
          "text": [
            "\n"
          ],
          "name": "stdout"
        },
        {
          "output_type": "stream",
          "text": [
            "Some layers from the model checkpoint at distilbert-base-uncased were not used when initializing TFDistilBertForSequenceClassification: ['vocab_transform', 'activation_13', 'vocab_projector', 'vocab_layer_norm']\n",
            "- This IS expected if you are initializing TFDistilBertForSequenceClassification from the checkpoint of a model trained on another task or with another architecture (e.g. initializing a BertForSequenceClassification model from a BertForPreTraining model).\n",
            "- This IS NOT expected if you are initializing TFDistilBertForSequenceClassification from the checkpoint of a model that you expect to be exactly identical (initializing a BertForSequenceClassification model from a BertForSequenceClassification model).\n",
            "Some layers of TFDistilBertForSequenceClassification were not initialized from the model checkpoint at distilbert-base-uncased and are newly initialized: ['classifier', 'dropout_19', 'pre_classifier']\n",
            "You should probably TRAIN this model on a down-stream task to be able to use it for predictions and inference.\n"
          ],
          "name": "stderr"
        },
        {
          "output_type": "display_data",
          "data": {
            "application/vnd.jupyter.widget-view+json": {
              "model_id": "7e0f2243f33d4616ad0855cbcfe2f1f4",
              "version_minor": 0,
              "version_major": 2
            },
            "text/plain": [
              "HBox(children=(FloatProgress(value=0.0, description='Downloading', max=231508.0, style=ProgressStyle(descripti…"
            ]
          },
          "metadata": {
            "tags": []
          }
        },
        {
          "output_type": "stream",
          "text": [
            "\n"
          ],
          "name": "stdout"
        },
        {
          "output_type": "display_data",
          "data": {
            "application/vnd.jupyter.widget-view+json": {
              "model_id": "c36ba81c3393465f96120da1bd1c3a0c",
              "version_minor": 0,
              "version_major": 2
            },
            "text/plain": [
              "HBox(children=(FloatProgress(value=0.0, description='Downloading', max=466062.0, style=ProgressStyle(descripti…"
            ]
          },
          "metadata": {
            "tags": []
          }
        },
        {
          "output_type": "stream",
          "text": [
            "\n"
          ],
          "name": "stdout"
        }
      ]
    },
    {
      "cell_type": "code",
      "metadata": {
        "id": "gSrc1oV-r8Lt"
      },
      "source": [
        "max_len = 100\n",
        "\n",
        "train_encodings = tokenizer(train_texts, truncation=True, max_length=max_len, padding=True)\n",
        "validation_encodings = tokenizer(validation_texts, truncation=True, max_length=max_len, padding=True)\n",
        "test_encodings = tokenizer(test_texts, truncation=True, max_length=max_len, padding=True)"
      ],
      "execution_count": null,
      "outputs": []
    },
    {
      "cell_type": "code",
      "metadata": {
        "id": "XIi732qxsKwb"
      },
      "source": [
        "train_dataset = tf.data.Dataset.from_tensor_slices((dict(train_encodings), train_labels))\n",
        "validation_dataset = tf.data.Dataset.from_tensor_slices((dict(validation_encodings), validation_labels))\n",
        "test_dataset = tf.data.Dataset.from_tensor_slices((dict(test_encodings), test_labels))"
      ],
      "execution_count": null,
      "outputs": []
    },
    {
      "cell_type": "code",
      "metadata": {
        "id": "4XZAyo4-sgoT"
      },
      "source": [
        "optimizer = tf.keras.optimizers.Adam(learning_rate=3e-5)\n",
        "loss = tf.keras.losses.SparseCategoricalCrossentropy(from_logits=True)\n",
        "model.compile(optimizer=optimizer, loss=loss, metrics=['accuracy'])"
      ],
      "execution_count": null,
      "outputs": []
    },
    {
      "cell_type": "markdown",
      "metadata": {
        "id": "KQSqBwzYznEQ"
      },
      "source": [
        "Transformers throws an error if more than one metric is added to the model..."
      ]
    },
    {
      "cell_type": "code",
      "metadata": {
        "colab": {
          "base_uri": "https://localhost:8080/"
        },
        "id": "9wIJ09lkwIu8",
        "outputId": "8b0455c6-977e-4993-f042-26ea4723a934"
      },
      "source": [
        "model.fit(train_dataset.shuffle(1000).batch(64), \n",
        "          epochs=3,\n",
        "          validation_data = validation_dataset.batch(64))"
      ],
      "execution_count": null,
      "outputs": [
        {
          "output_type": "stream",
          "text": [
            "Epoch 1/3\n",
            "235/235 [==============================] - 186s 793ms/step - loss: 0.4219 - accuracy: 0.7965 - val_loss: 0.3727 - val_accuracy: 0.8443\n",
            "Epoch 2/3\n",
            "235/235 [==============================] - 187s 798ms/step - loss: 0.2639 - accuracy: 0.8921 - val_loss: 0.3961 - val_accuracy: 0.8439\n",
            "Epoch 3/3\n",
            "235/235 [==============================] - 187s 796ms/step - loss: 0.1579 - accuracy: 0.9413 - val_loss: 0.5311 - val_accuracy: 0.8461\n"
          ],
          "name": "stdout"
        },
        {
          "output_type": "execute_result",
          "data": {
            "text/plain": [
              "<tensorflow.python.keras.callbacks.History at 0x7f98cd1d8320>"
            ]
          },
          "metadata": {
            "tags": []
          },
          "execution_count": 11
        }
      ]
    },
    {
      "cell_type": "code",
      "metadata": {
        "colab": {
          "base_uri": "https://localhost:8080/"
        },
        "id": "N9TndUknxxvy",
        "outputId": "de644fd4-3a08-4775-ac9f-744496a87182"
      },
      "source": [
        "model.evaluate(test_dataset.batch(64))"
      ],
      "execution_count": null,
      "outputs": [
        {
          "output_type": "stream",
          "text": [
            "391/391 [==============================] - 85s 217ms/step - loss: 0.5193 - accuracy: 0.8451\n"
          ],
          "name": "stdout"
        },
        {
          "output_type": "execute_result",
          "data": {
            "text/plain": [
              "[0.5192921757698059, 0.8451200127601624]"
            ]
          },
          "metadata": {
            "tags": []
          },
          "execution_count": 12
        }
      ]
    },
    {
      "cell_type": "code",
      "metadata": {
        "colab": {
          "base_uri": "https://localhost:8080/"
        },
        "id": "JUASRuOKxlTf",
        "outputId": "2458ecad-03f6-4e14-f74c-fead040d08d8"
      },
      "source": [
        "text = ['this movie has bad actors in it']\n",
        "encodings = tokenizer(text, truncation=True, max_length=max_len, padding=True)\n",
        "tfdataset = tf.data.Dataset.from_tensor_slices(dict(encodings))\n",
        "preds = model.predict(tfdataset.batch(1))\n",
        "preds = tf.keras.activations.softmax(tf.convert_to_tensor(preds)).numpy()\n",
        "preds"
      ],
      "execution_count": null,
      "outputs": [
        {
          "output_type": "execute_result",
          "data": {
            "text/plain": [
              "array([[[0.9971903, 0.0028097]]], dtype=float32)"
            ]
          },
          "metadata": {
            "tags": []
          },
          "execution_count": 13
        }
      ]
    },
    {
      "cell_type": "markdown",
      "metadata": {
        "id": "JmJsLqJwdcCF"
      },
      "source": [
        "# Text Generation"
      ]
    },
    {
      "cell_type": "code",
      "metadata": {
        "colab": {
          "base_uri": "https://localhost:8080/",
          "height": 324,
          "referenced_widgets": [
            "bbae390ce9e14ea8a4931bc0bb5fbf9c",
            "b04e1ff2a4504924b6c276a4c081df06",
            "2bb7f6e81f0c41cb8c6e06fa5e92c73d",
            "61294d51ba80484999b6c527a5c5ecb1",
            "2dd01774bfb34fc9af94a8452f8418e2",
            "bc430d8a47bc4f54996e02fbd9b0405f",
            "f018d036a56e42eb8b3b048f2e6a6520",
            "e0a71462647a4d178ec7d7a463ca263f",
            "9098c1f2b6ea42eaa4c179bf6e938a69",
            "bfc16c6421084ed08a8ff83f94c6c0e1",
            "990f797332654132938905ca194968d9",
            "455951720959452fad1b80178f1bd348",
            "bcefffb13e4843788efd823ea6ad5bbd",
            "d2e07ddb196b48a08ce303d66d25cf44",
            "9653ec543e4c45dbbf96dbb87fbd3574",
            "e80777606bb646d98ea39d5ba4dc2a5a",
            "3eaa9c3c86ab4c72b5fbd62c77d6536b",
            "8cf322a80d2f4122b9a94cbf18414476",
            "cc2417c0a8c5427aa86deb8cd8eacaf6",
            "d78f39f73efc4bb7bfd1c3a9bdf788a7",
            "0261bd13ab6b49fc94e74c0faba0a65e",
            "3914ff9fe440452783bc87887ccc3288",
            "72f4ac1e58d44c0d9cb592a76010928f",
            "e198bce1f3cd41678269472a3a766d36",
            "ed1a812bbd734d039804c8119492ee0a",
            "2ed975e374564c3eaff1d673c74a8fc3",
            "3e346cb50c3f49f087545222c0733eb9",
            "5ed6f4a91e8a46e0b662fffd3f89f4e0",
            "f016cb2505b04bdcbfb169223171a111",
            "28a7315d2aff45eca780c7755f412c2a",
            "561f4d944c4f47f3bbe9d770e2bd39af",
            "1ee2ed6a3b0d4abaa884e009422981a5"
          ]
        },
        "id": "enKI2FVVis6v",
        "outputId": "3809872f-6692-4f76-861c-66a4ac88fa7a"
      },
      "source": [
        "from transformers import  OpenAIGPTTokenizer, TFOpenAIGPTLMHeadModel\n",
        "\n",
        "model = TFOpenAIGPTLMHeadModel.from_pretrained(\"openai-gpt\")\n",
        "tokenizer = OpenAIGPTTokenizer.from_pretrained(\"openai-gpt\")"
      ],
      "execution_count": null,
      "outputs": [
        {
          "output_type": "display_data",
          "data": {
            "application/vnd.jupyter.widget-view+json": {
              "model_id": "bbae390ce9e14ea8a4931bc0bb5fbf9c",
              "version_minor": 0,
              "version_major": 2
            },
            "text/plain": [
              "HBox(children=(FloatProgress(value=0.0, description='Downloading', max=656.0, style=ProgressStyle(description_…"
            ]
          },
          "metadata": {
            "tags": []
          }
        },
        {
          "output_type": "stream",
          "text": [
            "\n"
          ],
          "name": "stdout"
        },
        {
          "output_type": "display_data",
          "data": {
            "application/vnd.jupyter.widget-view+json": {
              "model_id": "9098c1f2b6ea42eaa4c179bf6e938a69",
              "version_minor": 0,
              "version_major": 2
            },
            "text/plain": [
              "HBox(children=(FloatProgress(value=0.0, description='Downloading', max=466312920.0, style=ProgressStyle(descri…"
            ]
          },
          "metadata": {
            "tags": []
          }
        },
        {
          "output_type": "stream",
          "text": [
            "\n"
          ],
          "name": "stdout"
        },
        {
          "output_type": "stream",
          "text": [
            "All model checkpoint layers were used when initializing TFOpenAIGPTLMHeadModel.\n",
            "\n",
            "All the layers of TFOpenAIGPTLMHeadModel were initialized from the model checkpoint at openai-gpt.\n",
            "If your task is similar to the task the model of the checkpoint was trained on, you can already use TFOpenAIGPTLMHeadModel for predictions without further training.\n"
          ],
          "name": "stderr"
        },
        {
          "output_type": "display_data",
          "data": {
            "application/vnd.jupyter.widget-view+json": {
              "model_id": "3eaa9c3c86ab4c72b5fbd62c77d6536b",
              "version_minor": 0,
              "version_major": 2
            },
            "text/plain": [
              "HBox(children=(FloatProgress(value=0.0, description='Downloading', max=815973.0, style=ProgressStyle(descripti…"
            ]
          },
          "metadata": {
            "tags": []
          }
        },
        {
          "output_type": "stream",
          "text": [
            "\n"
          ],
          "name": "stdout"
        },
        {
          "output_type": "display_data",
          "data": {
            "application/vnd.jupyter.widget-view+json": {
              "model_id": "ed1a812bbd734d039804c8119492ee0a",
              "version_minor": 0,
              "version_major": 2
            },
            "text/plain": [
              "HBox(children=(FloatProgress(value=0.0, description='Downloading', max=458495.0, style=ProgressStyle(descripti…"
            ]
          },
          "metadata": {
            "tags": []
          }
        },
        {
          "output_type": "stream",
          "text": [
            "ftfy or spacy is not installed using BERT BasicTokenizer instead of SpaCy & ftfy.\n"
          ],
          "name": "stderr"
        },
        {
          "output_type": "stream",
          "text": [
            "\n"
          ],
          "name": "stdout"
        }
      ]
    },
    {
      "cell_type": "code",
      "metadata": {
        "colab": {
          "base_uri": "https://localhost:8080/"
        },
        "id": "HPaghVBk18lw",
        "outputId": "54b5a61f-1f03-49a0-b800-f2f7d85290eb"
      },
      "source": [
        "prompt_text = \"The king said to the queen:\"\n",
        "encoded_prompt = tokenizer.encode(prompt_text,\n",
        "                                  add_special_tokens=False,\n",
        "                                  return_tensors=\"tf\")\n",
        "encoded_prompt"
      ],
      "execution_count": null,
      "outputs": [
        {
          "output_type": "execute_result",
          "data": {
            "text/plain": [
              "<tf.Tensor: shape=(1, 7), dtype=int32, numpy=array([[ 481,  618,  603,  485,  481, 3016,  271]], dtype=int32)>"
            ]
          },
          "metadata": {
            "tags": []
          },
          "execution_count": 91
        }
      ]
    },
    {
      "cell_type": "code",
      "metadata": {
        "id": "8h9VfUzO2FVB"
      },
      "source": [
        "num_sequences = 5\n",
        "length = 40\n",
        "\n",
        "generated_sequences = model.generate(\n",
        "    input_ids=encoded_prompt,\n",
        "    do_sample=True,\n",
        "    max_length=length + len(encoded_prompt[0]),\n",
        "    temperature=1.0,\n",
        "    top_k=0,\n",
        "    top_p=0.9,\n",
        "    repetition_penalty=1.0,\n",
        "    num_return_sequences=num_sequences,\n",
        ")"
      ],
      "execution_count": null,
      "outputs": []
    },
    {
      "cell_type": "code",
      "metadata": {
        "colab": {
          "base_uri": "https://localhost:8080/"
        },
        "id": "N7f3s60R3dHZ",
        "outputId": "6ff5b51c-02c0-4443-a38a-8da355cad8e8"
      },
      "source": [
        "for sequence in generated_sequences:\n",
        "    text = tokenizer.decode(sequence, clean_up_tokenization_spaces=True)\n",
        "    print(text)\n",
        "    print(\"-\" * 80)"
      ],
      "execution_count": null,
      "outputs": [
        {
          "output_type": "stream",
          "text": [
            "the king said to the queen : \n",
            " \" the peasant was the equal to the queen. she sent a lackey to the queen and he took her to the king. then he attacked her, beaten her, struck her, raped her.\n",
            "--------------------------------------------------------------------------------\n",
            "the king said to the queen : \" soon, i 'll be crowned king and you 'll be sent to a lightskirt. \" \n",
            " queen deidre then waved her arms at her daughters. \" we 'd better get to the hotel. we\n",
            "--------------------------------------------------------------------------------\n",
            "the king said to the queen : \" let us make the exchange. \" \n",
            " \" and the other two? \" \n",
            " \" i have a doctor who can remove the effects of the object on your children, \" said the king.\n",
            "--------------------------------------------------------------------------------\n",
            "the king said to the queen : \" will i never see her smile? will i never see her laugh? will i ever experience all of her beauty and happiness? is this not a promise i can make? \" \n",
            " king eurilas\n",
            "--------------------------------------------------------------------------------\n",
            "the king said to the queen : \" i've been asked to come for a visit from my friend. his name is giraldi. \" \n",
            " \" giraldi? \" amara asked. \n",
            " \" yes. \" \n",
            " \" oh, \"\n",
            "--------------------------------------------------------------------------------\n"
          ],
          "name": "stdout"
        }
      ]
    },
    {
      "cell_type": "markdown",
      "metadata": {
        "id": "LGU7g4nm4sj9"
      },
      "source": [
        "The preprocessing steps vary for different models. Check the generate function closely if interested to see these differences: https://github.com/huggingface/transformers/blob/master/examples/text-generation/run_generation.py (It's in Pytorch but most of it is one to one for TF)"
      ]
    },
    {
      "cell_type": "markdown",
      "metadata": {
        "id": "x4CrquRy3OEf"
      },
      "source": [
        "More information on the parameters of the generation function: https://github.com/huggingface/blog/blob/master/notebooks/02_how_to_generate.ipynb"
      ]
    },
    {
      "cell_type": "markdown",
      "metadata": {
        "id": "V9E7w2Dbw3Qy"
      },
      "source": [
        "# Tokenizers Library"
      ]
    },
    {
      "cell_type": "markdown",
      "metadata": {
        "id": "SE5MvfP1Y6n0"
      },
      "source": [
        "Library with a richer set of options to create your own Tokenizer.\n",
        "\n",
        "It works hand in hand with Transformers\n",
        "\n",
        "Much faster than the built-in Tokenizers in Transformers! \n",
        "\n",
        "If you see a Fast..Tokenizer in the Transformers library it is actually a wrapper to the Tokenizer library"
      ]
    },
    {
      "cell_type": "markdown",
      "metadata": {
        "id": "VNmWizbTy42C"
      },
      "source": [
        "![tf.png](data:image/png;base64,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)"
      ]
    },
    {
      "cell_type": "markdown",
      "metadata": {
        "id": "lWEldXmJaehS"
      },
      "source": [
        "## From Scratch"
      ]
    },
    {
      "cell_type": "code",
      "metadata": {
        "id": "DU9Rh56PXc3u"
      },
      "source": [
        "text_url = 'https://raw.githubusercontent.com/dscape/spell/master/test/resources/big.txt'\n",
        "\n",
        "with open('big.txt', 'wb') as file:\n",
        "    response = requests.get(text_url, )\n",
        "    file.write(response.content)"
      ],
      "execution_count": null,
      "outputs": []
    },
    {
      "cell_type": "markdown",
      "metadata": {
        "id": "cLaVVPAqV2Qx"
      },
      "source": [
        "Separate Tokenizers library that goes hand in hand with the Transformers library"
      ]
    },
    {
      "cell_type": "markdown",
      "metadata": {
        "id": "30cgMK6VxLD4"
      },
      "source": [
        "* **Normalizer:** Executes all the initial transformations over the initial input string. (lowercase some text, strip spaces or accents, unicode normalization -NFKC- or -NFD-)\n",
        "\n",
        "* **PreTokenizer:** Splitting the initial input string. (character-level, white space, special rule-based)\n",
        "\n",
        "* **Model:** Sub-token discovery and generation. This part is trainable and dependant of input data. (words, BPE, WordPiece)\n",
        "\n",
        "* **Post-Processor:** Construction features to be compatible with some of the Transformers-based models. (for BERT it would wrap the tokenized sentence around [CLS] and [SEP] tokens)\n",
        "\n",
        "* **Decoder:** In charge of mapping back a tokenized input to the original string. The decoder is usually chosen according to the PreTokenizer we used previously.\n",
        "\n",
        "* **Trainer** Provides training capabilities to each model.\n",
        "\n",
        "\n"
      ]
    },
    {
      "cell_type": "code",
      "metadata": {
        "id": "ibVSInltw4vN"
      },
      "source": [
        "from tokenizers import Tokenizer\n",
        "from tokenizers.normalizers import Lowercase, NFKC, Sequence\n",
        "from tokenizers.pre_tokenizers import ByteLevel\n",
        "from tokenizers.models import BPE\n",
        "from tokenizers.decoders import ByteLevel as ByteLevelDecoder\n",
        "from tokenizers.trainers import BpeTrainer"
      ],
      "execution_count": null,
      "outputs": []
    },
    {
      "cell_type": "markdown",
      "metadata": {
        "id": "FFhx8LM65fch"
      },
      "source": [
        "**Byte-level BPE:** BPE needs a base vocabulary to start merging. The base vocabulary ccan be large ( e.g. all unicode characters) Byte-level reduces the base vocabulary to bytes (256 bytes tokens). In this way no unknown characters (even emojis)"
      ]
    },
    {
      "cell_type": "markdown",
      "metadata": {
        "id": "tuzFPJQVDsdU"
      },
      "source": [
        "Train a tokenizer from scratch:"
      ]
    },
    {
      "cell_type": "code",
      "metadata": {
        "id": "BGyQO7zIDvZY"
      },
      "source": [
        "model = BPE()\n",
        "\n",
        "tokenizer = Tokenizer(model) # empty tokenizer\n",
        "\n",
        "tokenizer.normalizer = Sequence([\n",
        "    NFKC(),\n",
        "    Lowercase()\n",
        "])\n",
        "\n",
        "tokenizer.pre_tokenizer = ByteLevel()\n",
        "tokenizer.decoder = ByteLevelDecoder()"
      ],
      "execution_count": null,
      "outputs": []
    },
    {
      "cell_type": "code",
      "metadata": {
        "colab": {
          "base_uri": "https://localhost:8080/"
        },
        "id": "qlkL6hiIET8_",
        "outputId": "587605c8-c4bb-40dd-ae72-4403b26cd6f8"
      },
      "source": [
        "len(ByteLevel.alphabet())"
      ],
      "execution_count": null,
      "outputs": [
        {
          "output_type": "execute_result",
          "data": {
            "text/plain": [
              "256"
            ]
          },
          "metadata": {
            "tags": []
          },
          "execution_count": 6
        }
      ]
    },
    {
      "cell_type": "code",
      "metadata": {
        "id": "Znnl92gSD6pK"
      },
      "source": [
        "trainer = BpeTrainer(vocab_size=25000, initial_alphabet=ByteLevel.alphabet(),\n",
        "                     special_tokens=[\"[CLS]\", \"[SEP]\", \"[PAD]\", \"[MASK]\"])\n",
        "tokenizer.train(trainer, [\"big.txt\"])"
      ],
      "execution_count": null,
      "outputs": []
    },
    {
      "cell_type": "code",
      "metadata": {
        "colab": {
          "base_uri": "https://localhost:8080/"
        },
        "id": "aeo1I2sdEhO2",
        "outputId": "2bff1471-c87b-4ade-ae32-826912231c05"
      },
      "source": [
        "tokenizer.model.save('.')"
      ],
      "execution_count": null,
      "outputs": [
        {
          "output_type": "execute_result",
          "data": {
            "text/plain": [
              "['./vocab.json', './merges.txt']"
            ]
          },
          "metadata": {
            "tags": []
          },
          "execution_count": 8
        }
      ]
    },
    {
      "cell_type": "code",
      "metadata": {
        "colab": {
          "base_uri": "https://localhost:8080/"
        },
        "id": "CC7IZ5b6Ehi6",
        "outputId": "5da99580-0c52-47e3-8538-228f4cb219c7"
      },
      "source": [
        "tokenizer.model = BPE.from_file('vocab.json', 'merges.txt')\n",
        "encoding = tokenizer.encode(\"I am the transformer teacher dutz\")\n",
        "\n",
        "print(encoding.tokens)\n",
        "\n",
        "decoded = tokenizer.decode(encoding.ids)\n",
        "print(decoded)"
      ],
      "execution_count": null,
      "outputs": [
        {
          "output_type": "stream",
          "text": [
            "['Ġi', 'Ġam', 'Ġthe', 'Ġtransform', 'er', 'Ġteacher', 'Ġdut', 'z']\n",
            " i am the transformer teacher dutz\n"
          ],
          "name": "stdout"
        }
      ]
    },
    {
      "cell_type": "code",
      "metadata": {
        "colab": {
          "base_uri": "https://localhost:8080/"
        },
        "id": "CmodDN_lYBZK",
        "outputId": "fe3f409a-779e-468d-8c5b-88917c31363c"
      },
      "source": [
        "encoding.offsets[3]"
      ],
      "execution_count": null,
      "outputs": [
        {
          "output_type": "execute_result",
          "data": {
            "text/plain": [
              "(8, 18)"
            ]
          },
          "metadata": {
            "tags": []
          },
          "execution_count": 11
        }
      ]
    },
    {
      "cell_type": "code",
      "metadata": {
        "colab": {
          "base_uri": "https://localhost:8080/"
        },
        "id": "jZZWAJOdYhCt",
        "outputId": "891e87bd-876a-41c1-fca7-ea6167701d61"
      },
      "source": [
        "tokenizer.token_to_id(\"[SEP]\")"
      ],
      "execution_count": null,
      "outputs": [
        {
          "output_type": "execute_result",
          "data": {
            "text/plain": [
              "1"
            ]
          },
          "metadata": {
            "tags": []
          },
          "execution_count": 12
        }
      ]
    },
    {
      "cell_type": "markdown",
      "metadata": {
        "id": "rqmUmUlMYuGj"
      },
      "source": [
        "**Post-processing** \n",
        "\n",
        "1)For example give the structure to the inputs"
      ]
    },
    {
      "cell_type": "code",
      "metadata": {
        "id": "shpCyZ76Y3qB"
      },
      "source": [
        "from tokenizers.processors import TemplateProcessing\n",
        "\n",
        "tokenizer.post_processor = TemplateProcessing(\n",
        "    single=\"[CLS] $A [SEP]\",\n",
        "    pair=\"[CLS] $A [SEP] $B:1 [SEP]:1\",\n",
        "    special_tokens=[\n",
        "        (\"[CLS]\", tokenizer.token_to_id(\"[CLS]\")),\n",
        "        (\"[SEP]\", tokenizer.token_to_id(\"[SEP]\")),\n",
        "    ],\n",
        ")"
      ],
      "execution_count": null,
      "outputs": []
    },
    {
      "cell_type": "markdown",
      "metadata": {
        "id": "2eFp6FyRY_GI"
      },
      "source": [
        "\\$A represents the first sentence and \\$B the second one. :1 means the **type_id**, default is 0"
      ]
    },
    {
      "cell_type": "markdown",
      "metadata": {
        "id": "aYA_3-8VZxvs"
      },
      "source": [
        "2) padding"
      ]
    },
    {
      "cell_type": "code",
      "metadata": {
        "id": "6goK__YFZyy-"
      },
      "source": [
        "tokenizer.enable_padding(pad_id=tokenizer.token_to_id(\"[PAD]\"), pad_token=\"[PAD]\", length=24)"
      ],
      "execution_count": null,
      "outputs": []
    },
    {
      "cell_type": "code",
      "metadata": {
        "colab": {
          "base_uri": "https://localhost:8080/"
        },
        "id": "5MsAQVNvY-hy",
        "outputId": "ab8ff92a-3a34-4716-9d6c-95aa43f140f2"
      },
      "source": [
        "output = tokenizer.encode(\"Hello, y'all!\", \"How are you 😁 ?\")\n",
        "print(output.tokens)"
      ],
      "execution_count": null,
      "outputs": [
        {
          "output_type": "stream",
          "text": [
            "['[CLS]', 'Ġhell', 'o', ',', 'Ġy', \"'\", 'all', '!', '[SEP]', 'Ġhow', 'Ġare', 'Ġyou', 'Ġ', 'ð', 'Ł', 'ĺ', 'ģ', 'Ġ', '?', '[SEP]', '[PAD]', '[PAD]', '[PAD]', '[PAD]']\n"
          ],
          "name": "stdout"
        }
      ]
    },
    {
      "cell_type": "code",
      "metadata": {
        "colab": {
          "base_uri": "https://localhost:8080/"
        },
        "id": "0IzPQyraaSd4",
        "outputId": "d855ac50-5461-4f14-8ccb-3f50ffb6561a"
      },
      "source": [
        "print(output.attention_mask)\n",
        "print(output.special_tokens_mask)"
      ],
      "execution_count": null,
      "outputs": [
        {
          "output_type": "stream",
          "text": [
            "[1, 1, 1, 1, 1, 1, 1, 1, 1, 1, 1, 1, 1, 1, 1, 1, 1, 1, 1, 1, 0, 0, 0, 0]\n",
            "[1, 0, 0, 0, 0, 0, 0, 0, 1, 0, 0, 0, 0, 0, 0, 0, 0, 0, 0, 1, 1, 1, 1, 1]\n"
          ],
          "name": "stdout"
        }
      ]
    },
    {
      "cell_type": "markdown",
      "metadata": {
        "id": "oaPFiy7w2lYV"
      },
      "source": [
        "# SQuAD QA"
      ]
    },
    {
      "cell_type": "markdown",
      "metadata": {
        "id": "30fb97SX_J1a"
      },
      "source": [
        "We will use TPU units so that you learn how to apply it! Change the runtime type to TPU"
      ]
    },
    {
      "cell_type": "code",
      "metadata": {
        "id": "B8QI85ql_i2S"
      },
      "source": [
        "max_len = 100"
      ],
      "execution_count": null,
      "outputs": []
    },
    {
      "cell_type": "markdown",
      "metadata": {
        "id": "bmhKAsSCZyec"
      },
      "source": [
        "The output layer needs to think that there are 100 categories. and a softmax will decide which position is the the begging token and end token"
      ]
    },
    {
      "cell_type": "code",
      "metadata": {
        "id": "dAEImU9H6xxI"
      },
      "source": [
        "from transformers import BertTokenizer, TFBertModel\n",
        "from tokenizers import BertWordPieceTokenizer\n",
        "\n",
        "slow_tokenizer = BertTokenizer.from_pretrained(\"bert-base-uncased\")\n",
        "save_path = \"bert_base_uncased/\"\n",
        "os.makedirs(save_path)\n",
        "slow_tokenizer.save_pretrained(save_path)\n",
        "\n",
        "# Load the fast tokenizer from saved file\n",
        "tokenizer = BertWordPieceTokenizer(\"bert_base_uncased/vocab.txt\", lowercase=True)"
      ],
      "execution_count": null,
      "outputs": []
    },
    {
      "cell_type": "markdown",
      "metadata": {
        "id": "65s_ZlUv7l56"
      },
      "source": [
        "Almost same preprocessing as Lab 6. We use BERT's own tokenizer and not the one from Keras. Changes marked with #N"
      ]
    },
    {
      "cell_type": "code",
      "metadata": {
        "id": "parAmcRC7pmi"
      },
      "source": [
        "train_data_url = \"https://rajpurkar.github.io/SQuAD-explorer/dataset/train-v1.1.json\"\n",
        "train_path = tf.keras.utils.get_file(\"train.json\", train_data_url)\n",
        "eval_data_url = \"https://rajpurkar.github.io/SQuAD-explorer/dataset/dev-v1.1.json\"\n",
        "eval_path = tf.keras.utils.get_file(\"eval.json\", eval_data_url)\n",
        "\n",
        "import json\n",
        "\n",
        "with open(train_path) as f:\n",
        "    raw_train_data = json.load(f)\n",
        "\n",
        "with open(eval_path) as f:\n",
        "    raw_eval_data = json.load(f)"
      ],
      "execution_count": null,
      "outputs": []
    },
    {
      "cell_type": "code",
      "metadata": {
        "id": "OOzBnQ8K717q"
      },
      "source": [
        "class SquadExample:\n",
        "    def __init__(self, question, context, start_char_idx, answer_text, all_answers):\n",
        "        self.question = question\n",
        "        self.context = context\n",
        "        self.start_char_idx = start_char_idx\n",
        "        self.answer_text = answer_text\n",
        "        self.all_answers = all_answers     #N\n",
        "        self.skip = False\n",
        "\n",
        "    def preprocess(self):\n",
        "        context = self.context\n",
        "        question = self.question\n",
        "        answer_text = self.answer_text\n",
        "        start_char_idx = self.start_char_idx\n",
        "\n",
        "        # Find end character index of answer in context\n",
        "        end_char_idx = start_char_idx + len(answer_text)\n",
        "        if end_char_idx >= len(context):\n",
        "            self.skip = True\n",
        "            return\n",
        "\n",
        "        # Mark the character indexes in context that are in answer\n",
        "        is_char_in_ans = [0] * len(context)\n",
        "        for idx in range(start_char_idx, end_char_idx):\n",
        "            is_char_in_ans[idx] = 1\n",
        "\n",
        "        # Tokenize context\n",
        "        tokenized_context = tokenizer.encode(context)                  #N\n",
        "\n",
        "        # Find tokens that were created from answer characters\n",
        "        ans_token_idx = []\n",
        "        for idx, (start, end) in enumerate(tokenized_context.offsets): #N\n",
        "            if sum(is_char_in_ans[start:end]) > 0:                     #N\n",
        "                ans_token_idx.append(idx)                              #N\n",
        "\n",
        "        if len(ans_token_idx) == 0:\n",
        "            self.skip = True\n",
        "            return\n",
        "\n",
        "        # Find start and end token index for tokens from answer\n",
        "        start_token_idx = ans_token_idx[0]\n",
        "        end_token_idx = ans_token_idx[-1]\n",
        "\n",
        "        # Tokenize question\n",
        "        tokenized_question = tokenizer.encode(question)                #N\n",
        "\n",
        "        # Create inputs\n",
        "        input_ids = tokenized_context.ids + tokenized_question.ids[1:] # Do not include the second <start> separator\n",
        "        token_type_ids = [0] * len(tokenized_context.ids) + [1] * len(\n",
        "            tokenized_question.ids[1:]\n",
        "        )\n",
        "        attention_mask = [1] * len(input_ids)\n",
        "\n",
        "        # Pad and create attention masks.\n",
        "        # Skip if truncation is needed\n",
        "        padding_length = max_len - len(input_ids)\n",
        "        if padding_length > 0:  # pad\n",
        "            input_ids = input_ids + ([0] * padding_length)\n",
        "            attention_mask = attention_mask + ([0] * padding_length)\n",
        "            token_type_ids = token_type_ids + ([0] * padding_length)\n",
        "        elif padding_length < 0:  # skip\n",
        "            self.skip = True\n",
        "            return\n",
        "\n",
        "        self.input_ids = input_ids\n",
        "        self.token_type_ids = token_type_ids\n",
        "        self.attention_mask = attention_mask\n",
        "        self.start_token_idx = start_token_idx\n",
        "        self.end_token_idx = end_token_idx\n",
        "        self.context_token_to_char = tokenized_context.offsets #N"
      ],
      "execution_count": null,
      "outputs": []
    },
    {
      "cell_type": "code",
      "metadata": {
        "id": "lfRdJ8BV8uFU"
      },
      "source": [
        "def create_squad_examples(raw_data):\n",
        "    squad_examples = []\n",
        "    for item in raw_data[\"data\"]:\n",
        "        for para in item[\"paragraphs\"]:\n",
        "            context = para[\"context\"]\n",
        "            for qa in para[\"qas\"]:\n",
        "                question = qa[\"question\"]\n",
        "                answer_text = qa[\"answers\"][0][\"text\"]\n",
        "                start_char_idx = qa[\"answers\"][0][\"answer_start\"]\n",
        "                all_answers = [_[\"text\"] for _ in qa[\"answers\"]].   #N\n",
        "                squad_eg = SquadExample(\n",
        "                    question, context, start_char_idx, answer_text, all_answers\n",
        "                )\n",
        "                squad_eg.preprocess()\n",
        "                squad_examples.append(squad_eg)\n",
        "    return squad_examples\n",
        "  \n",
        "train_squad_examples = create_squad_examples(raw_train_data)\n",
        "eval_squad_examples = create_squad_examples(raw_eval_data)"
      ],
      "execution_count": null,
      "outputs": []
    },
    {
      "cell_type": "code",
      "metadata": {
        "id": "s6Em4eE781wk"
      },
      "source": [
        "def create_inputs_targets(squad_examples):\n",
        "    dataset_dict = {\n",
        "        \"input_ids\": [],\n",
        "        \"token_type_ids\": [],\n",
        "        \"attention_mask\": [],\n",
        "        \"start_token_idx\": [],\n",
        "        \"end_token_idx\": [],\n",
        "    }\n",
        "    for item in squad_examples:\n",
        "        if item.skip == False:\n",
        "            for key in dataset_dict:\n",
        "                dataset_dict[key].append(getattr(item, key))\n",
        "    for key in dataset_dict:\n",
        "        dataset_dict[key] = np.array(dataset_dict[key])\n",
        "\n",
        "    x = [\n",
        "        dataset_dict[\"input_ids\"],\n",
        "        dataset_dict[\"token_type_ids\"],\n",
        "        dataset_dict[\"attention_mask\"],\n",
        "    ]\n",
        "    y = [dataset_dict[\"start_token_idx\"], dataset_dict[\"end_token_idx\"]]\n",
        "    return x, y\n",
        "\n",
        "x_train, y_train = create_inputs_targets(train_squad_examples)\n",
        "x_eval, y_eval = create_inputs_targets(eval_squad_examples)"
      ],
      "execution_count": null,
      "outputs": []
    },
    {
      "cell_type": "markdown",
      "metadata": {
        "id": "Qqz5whlr_TxA"
      },
      "source": [
        "Now the TPU configuration"
      ]
    },
    {
      "cell_type": "code",
      "metadata": {
        "colab": {
          "base_uri": "https://localhost:8080/"
        },
        "id": "ZQ6j3lED_V8P",
        "outputId": "2c7a330d-d490-4ee1-8aad-9a6fb209f077"
      },
      "source": [
        "tpu = tf.distribute.cluster_resolver.TPUClusterResolver()\n",
        "tf.config.experimental_connect_to_cluster(tpu)\n",
        "tf.tpu.experimental.initialize_tpu_system(tpu)\n",
        "strategy = tf.distribute.experimental.TPUStrategy(tpu)"
      ],
      "execution_count": null,
      "outputs": [
        {
          "output_type": "stream",
          "text": [
            "INFO:absl:Entering into master device scope: /job:worker/replica:0/task:0/device:CPU:0\n"
          ],
          "name": "stderr"
        },
        {
          "output_type": "stream",
          "text": [
            "INFO:tensorflow:Initializing the TPU system: grpc://10.107.185.50:8470\n"
          ],
          "name": "stdout"
        },
        {
          "output_type": "stream",
          "text": [
            "INFO:tensorflow:Initializing the TPU system: grpc://10.107.185.50:8470\n"
          ],
          "name": "stderr"
        },
        {
          "output_type": "stream",
          "text": [
            "INFO:tensorflow:Clearing out eager caches\n"
          ],
          "name": "stdout"
        },
        {
          "output_type": "stream",
          "text": [
            "INFO:tensorflow:Clearing out eager caches\n"
          ],
          "name": "stderr"
        },
        {
          "output_type": "stream",
          "text": [
            "INFO:tensorflow:Finished initializing TPU system.\n"
          ],
          "name": "stdout"
        },
        {
          "output_type": "stream",
          "text": [
            "INFO:tensorflow:Finished initializing TPU system.\n",
            "WARNING:absl:`tf.distribute.experimental.TPUStrategy` is deprecated, please use  the non experimental symbol `tf.distribute.TPUStrategy` instead.\n"
          ],
          "name": "stderr"
        },
        {
          "output_type": "stream",
          "text": [
            "INFO:tensorflow:Found TPU system:\n"
          ],
          "name": "stdout"
        },
        {
          "output_type": "stream",
          "text": [
            "INFO:tensorflow:Found TPU system:\n"
          ],
          "name": "stderr"
        },
        {
          "output_type": "stream",
          "text": [
            "INFO:tensorflow:*** Num TPU Cores: 8\n"
          ],
          "name": "stdout"
        },
        {
          "output_type": "stream",
          "text": [
            "INFO:tensorflow:*** Num TPU Cores: 8\n"
          ],
          "name": "stderr"
        },
        {
          "output_type": "stream",
          "text": [
            "INFO:tensorflow:*** Num TPU Workers: 1\n"
          ],
          "name": "stdout"
        },
        {
          "output_type": "stream",
          "text": [
            "INFO:tensorflow:*** Num TPU Workers: 1\n"
          ],
          "name": "stderr"
        },
        {
          "output_type": "stream",
          "text": [
            "INFO:tensorflow:*** Num TPU Cores Per Worker: 8\n"
          ],
          "name": "stdout"
        },
        {
          "output_type": "stream",
          "text": [
            "INFO:tensorflow:*** Num TPU Cores Per Worker: 8\n"
          ],
          "name": "stderr"
        },
        {
          "output_type": "stream",
          "text": [
            "INFO:tensorflow:*** Available Device: _DeviceAttributes(/job:localhost/replica:0/task:0/device:CPU:0, CPU, 0, 0)\n"
          ],
          "name": "stdout"
        },
        {
          "output_type": "stream",
          "text": [
            "INFO:tensorflow:*** Available Device: _DeviceAttributes(/job:localhost/replica:0/task:0/device:CPU:0, CPU, 0, 0)\n"
          ],
          "name": "stderr"
        },
        {
          "output_type": "stream",
          "text": [
            "INFO:tensorflow:*** Available Device: _DeviceAttributes(/job:localhost/replica:0/task:0/device:XLA_CPU:0, XLA_CPU, 0, 0)\n"
          ],
          "name": "stdout"
        },
        {
          "output_type": "stream",
          "text": [
            "INFO:tensorflow:*** Available Device: _DeviceAttributes(/job:localhost/replica:0/task:0/device:XLA_CPU:0, XLA_CPU, 0, 0)\n"
          ],
          "name": "stderr"
        },
        {
          "output_type": "stream",
          "text": [
            "INFO:tensorflow:*** Available Device: _DeviceAttributes(/job:worker/replica:0/task:0/device:CPU:0, CPU, 0, 0)\n"
          ],
          "name": "stdout"
        },
        {
          "output_type": "stream",
          "text": [
            "INFO:tensorflow:*** Available Device: _DeviceAttributes(/job:worker/replica:0/task:0/device:CPU:0, CPU, 0, 0)\n"
          ],
          "name": "stderr"
        },
        {
          "output_type": "stream",
          "text": [
            "INFO:tensorflow:*** Available Device: _DeviceAttributes(/job:worker/replica:0/task:0/device:TPU:0, TPU, 0, 0)\n"
          ],
          "name": "stdout"
        },
        {
          "output_type": "stream",
          "text": [
            "INFO:tensorflow:*** Available Device: _DeviceAttributes(/job:worker/replica:0/task:0/device:TPU:0, TPU, 0, 0)\n"
          ],
          "name": "stderr"
        },
        {
          "output_type": "stream",
          "text": [
            "INFO:tensorflow:*** Available Device: _DeviceAttributes(/job:worker/replica:0/task:0/device:TPU:1, TPU, 0, 0)\n"
          ],
          "name": "stdout"
        },
        {
          "output_type": "stream",
          "text": [
            "INFO:tensorflow:*** Available Device: _DeviceAttributes(/job:worker/replica:0/task:0/device:TPU:1, TPU, 0, 0)\n"
          ],
          "name": "stderr"
        },
        {
          "output_type": "stream",
          "text": [
            "INFO:tensorflow:*** Available Device: _DeviceAttributes(/job:worker/replica:0/task:0/device:TPU:2, TPU, 0, 0)\n"
          ],
          "name": "stdout"
        },
        {
          "output_type": "stream",
          "text": [
            "INFO:tensorflow:*** Available Device: _DeviceAttributes(/job:worker/replica:0/task:0/device:TPU:2, TPU, 0, 0)\n"
          ],
          "name": "stderr"
        },
        {
          "output_type": "stream",
          "text": [
            "INFO:tensorflow:*** Available Device: _DeviceAttributes(/job:worker/replica:0/task:0/device:TPU:3, TPU, 0, 0)\n"
          ],
          "name": "stdout"
        },
        {
          "output_type": "stream",
          "text": [
            "INFO:tensorflow:*** Available Device: _DeviceAttributes(/job:worker/replica:0/task:0/device:TPU:3, TPU, 0, 0)\n"
          ],
          "name": "stderr"
        },
        {
          "output_type": "stream",
          "text": [
            "INFO:tensorflow:*** Available Device: _DeviceAttributes(/job:worker/replica:0/task:0/device:TPU:4, TPU, 0, 0)\n"
          ],
          "name": "stdout"
        },
        {
          "output_type": "stream",
          "text": [
            "INFO:tensorflow:*** Available Device: _DeviceAttributes(/job:worker/replica:0/task:0/device:TPU:4, TPU, 0, 0)\n"
          ],
          "name": "stderr"
        },
        {
          "output_type": "stream",
          "text": [
            "INFO:tensorflow:*** Available Device: _DeviceAttributes(/job:worker/replica:0/task:0/device:TPU:5, TPU, 0, 0)\n"
          ],
          "name": "stdout"
        },
        {
          "output_type": "stream",
          "text": [
            "INFO:tensorflow:*** Available Device: _DeviceAttributes(/job:worker/replica:0/task:0/device:TPU:5, TPU, 0, 0)\n"
          ],
          "name": "stderr"
        },
        {
          "output_type": "stream",
          "text": [
            "INFO:tensorflow:*** Available Device: _DeviceAttributes(/job:worker/replica:0/task:0/device:TPU:6, TPU, 0, 0)\n"
          ],
          "name": "stdout"
        },
        {
          "output_type": "stream",
          "text": [
            "INFO:tensorflow:*** Available Device: _DeviceAttributes(/job:worker/replica:0/task:0/device:TPU:6, TPU, 0, 0)\n"
          ],
          "name": "stderr"
        },
        {
          "output_type": "stream",
          "text": [
            "INFO:tensorflow:*** Available Device: _DeviceAttributes(/job:worker/replica:0/task:0/device:TPU:7, TPU, 0, 0)\n"
          ],
          "name": "stdout"
        },
        {
          "output_type": "stream",
          "text": [
            "INFO:tensorflow:*** Available Device: _DeviceAttributes(/job:worker/replica:0/task:0/device:TPU:7, TPU, 0, 0)\n"
          ],
          "name": "stderr"
        },
        {
          "output_type": "stream",
          "text": [
            "INFO:tensorflow:*** Available Device: _DeviceAttributes(/job:worker/replica:0/task:0/device:TPU_SYSTEM:0, TPU_SYSTEM, 0, 0)\n"
          ],
          "name": "stdout"
        },
        {
          "output_type": "stream",
          "text": [
            "INFO:tensorflow:*** Available Device: _DeviceAttributes(/job:worker/replica:0/task:0/device:TPU_SYSTEM:0, TPU_SYSTEM, 0, 0)\n"
          ],
          "name": "stderr"
        },
        {
          "output_type": "stream",
          "text": [
            "INFO:tensorflow:*** Available Device: _DeviceAttributes(/job:worker/replica:0/task:0/device:XLA_CPU:0, XLA_CPU, 0, 0)\n"
          ],
          "name": "stdout"
        },
        {
          "output_type": "stream",
          "text": [
            "INFO:tensorflow:*** Available Device: _DeviceAttributes(/job:worker/replica:0/task:0/device:XLA_CPU:0, XLA_CPU, 0, 0)\n"
          ],
          "name": "stderr"
        }
      ]
    },
    {
      "cell_type": "code",
      "metadata": {
        "colab": {
          "base_uri": "https://localhost:8080/"
        },
        "id": "sh2biev3-yQG",
        "outputId": "ce8422c0-1fa7-4234-aaf7-379ed9e88c39"
      },
      "source": [
        "encoder = TFBertModel.from_pretrained(\"bert-base-uncased\")\n",
        "\n",
        "## QA Model\n",
        "input_ids = tf.keras.layers.Input(shape=(max_len,), dtype=tf.int32)\n",
        "token_type_ids = tf.keras.layers.Input(shape=(max_len,), dtype=tf.int32)\n",
        "attention_mask = tf.keras.layers.Input(shape=(max_len,), dtype=tf.int32)\n",
        "embedding = encoder(\n",
        "    input_ids, token_type_ids=token_type_ids, attention_mask=attention_mask\n",
        ")[0]\n",
        "\n",
        "start_logits = tf.keras.layers.Dense(1, name=\"start_logit\", use_bias=False)(embedding)\n",
        "start_logits = tf.keras.layers.Flatten()(start_logits)\n",
        "# Flattening a tensor means to remove all of the dimensions except for one. This is exactly what the Flatten layer do.\n",
        "\n",
        "end_logits = tf.keras.layers.Dense(1, name=\"end_logit\", use_bias=False)(embedding)\n",
        "end_logits = tf.keras.layers.Flatten()(end_logits)\n",
        "\n",
        "start_probs = tf.keras.layers.Activation(tf.keras.activations.softmax)(start_logits)\n",
        "end_probs = tf.keras.layers.Activation(tf.keras.activations.softmax)(end_logits)\n",
        "\n",
        "model = tf.keras.Model(\n",
        "    inputs=[input_ids, token_type_ids, attention_mask],\n",
        "    outputs=[start_probs, end_probs],\n",
        ")"
      ],
      "execution_count": null,
      "outputs": [
        {
          "output_type": "stream",
          "text": [
            "Some layers from the model checkpoint at bert-base-uncased were not used when initializing TFBertModel: ['nsp___cls', 'mlm___cls']\n",
            "- This IS expected if you are initializing TFBertModel from the checkpoint of a model trained on another task or with another architecture (e.g. initializing a BertForSequenceClassification model from a BertForPreTraining model).\n",
            "- This IS NOT expected if you are initializing TFBertModel from the checkpoint of a model that you expect to be exactly identical (initializing a BertForSequenceClassification model from a BertForSequenceClassification model).\n",
            "All the layers of TFBertModel were initialized from the model checkpoint at bert-base-uncased.\n",
            "If your task is similar to the task the model of the checkpoint was trained on, you can already use TFBertModel for predictions without further training.\n"
          ],
          "name": "stderr"
        }
      ]
    },
    {
      "cell_type": "code",
      "metadata": {
        "colab": {
          "base_uri": "https://localhost:8080/"
        },
        "id": "PjMSK5ZkCCtP",
        "outputId": "5e9db12b-f033-428a-f395-5ad52df4c01a"
      },
      "source": [
        "model.summary()"
      ],
      "execution_count": null,
      "outputs": [
        {
          "output_type": "stream",
          "text": [
            "Model: \"functional_5\"\n",
            "__________________________________________________________________________________________________\n",
            "Layer (type)                    Output Shape         Param #     Connected to                     \n",
            "==================================================================================================\n",
            "input_7 (InputLayer)            [(None, 100)]        0                                            \n",
            "__________________________________________________________________________________________________\n",
            "input_9 (InputLayer)            [(None, 100)]        0                                            \n",
            "__________________________________________________________________________________________________\n",
            "input_8 (InputLayer)            [(None, 100)]        0                                            \n",
            "__________________________________________________________________________________________________\n",
            "tf_bert_model_2 (TFBertModel)   ((None, 100, 768), ( 109482240   input_7[0][0]                    \n",
            "                                                                 input_9[0][0]                    \n",
            "                                                                 input_8[0][0]                    \n",
            "__________________________________________________________________________________________________\n",
            "start_logit (Dense)             (None, 100, 1)       768         tf_bert_model_2[0][0]            \n",
            "__________________________________________________________________________________________________\n",
            "end_logit (Dense)               (None, 100, 1)       768         tf_bert_model_2[0][0]            \n",
            "__________________________________________________________________________________________________\n",
            "flatten_4 (Flatten)             (None, 100)          0           start_logit[0][0]                \n",
            "__________________________________________________________________________________________________\n",
            "flatten_5 (Flatten)             (None, 100)          0           end_logit[0][0]                  \n",
            "__________________________________________________________________________________________________\n",
            "activation_8 (Activation)       (None, 100)          0           flatten_4[0][0]                  \n",
            "__________________________________________________________________________________________________\n",
            "activation_9 (Activation)       (None, 100)          0           flatten_5[0][0]                  \n",
            "==================================================================================================\n",
            "Total params: 109,483,776\n",
            "Trainable params: 109,483,776\n",
            "Non-trainable params: 0\n",
            "__________________________________________________________________________________________________\n"
          ],
          "name": "stdout"
        }
      ]
    },
    {
      "cell_type": "code",
      "metadata": {
        "id": "rGXmNfe3-8eD"
      },
      "source": [
        "loss = tf.keras.losses.SparseCategoricalCrossentropy(from_logits=False)\n",
        "optimizer = tf.keras.optimizers.Adam(lr=5e-5)\n",
        "model.compile(optimizer=optimizer, loss=[loss, loss])"
      ],
      "execution_count": null,
      "outputs": []
    },
    {
      "cell_type": "code",
      "metadata": {
        "id": "eCzFEs2iCnyI"
      },
      "source": [
        "import re\n",
        "import string\n",
        "\n",
        "def normalize_text(text):\n",
        "    text = text.lower()\n",
        "\n",
        "    # Remove punctuations\n",
        "    exclude = set(string.punctuation)\n",
        "    text = \"\".join(ch for ch in text if ch not in exclude)\n",
        "\n",
        "    # Remove articles\n",
        "    regex = re.compile(r\"\\b(a|an|the)\\b\", re.UNICODE)\n",
        "    text = re.sub(regex, \" \", text)\n",
        "\n",
        "    # Remove extra white space\n",
        "    text = \" \".join(text.split())\n",
        "    return text\n",
        "\n",
        "\n",
        "class ExactMatch(tf.keras.callbacks.Callback):\n",
        "    def __init__(self, x_eval, y_eval):\n",
        "        self.x_eval = x_eval\n",
        "        self.y_eval = y_eval\n",
        "\n",
        "    def on_epoch_end(self, epoch, logs=None):\n",
        "        pred_start, pred_end = self.model.predict(self.x_eval)\n",
        "        count = 0\n",
        "        eval_examples_no_skip = [e for e in eval_squad_examples if e.skip == False]\n",
        "        for idx, (start, end) in enumerate(zip(pred_start, pred_end)):\n",
        "            squad_eg = eval_examples_no_skip[idx]\n",
        "            offsets = squad_eg.context_token_to_char\n",
        "            start = np.argmax(start)\n",
        "            end = np.argmax(end)\n",
        "            if start >= len(offsets):\n",
        "                continue\n",
        "            pred_char_start = offsets[start][0]\n",
        "            if end < len(offsets):\n",
        "                pred_char_end = offsets[end][1]\n",
        "                pred_ans = squad_eg.context[pred_char_start:pred_char_end]\n",
        "            else:\n",
        "                pred_ans = squad_eg.context[pred_char_start:]\n",
        "\n",
        "            normalized_pred_ans = normalize_text(pred_ans)\n",
        "            normalized_true_ans = [normalize_text(a) for a in squad_eg.all_answers]\n",
        "            if normalized_pred_ans in normalized_true_ans:\n",
        "                count += 1\n",
        "        acc = count / len(self.y_eval[0])\n",
        "        print(f\"\\nepoch={epoch+1}, exact match score={acc:.2f}\")"
      ],
      "execution_count": null,
      "outputs": []
    },
    {
      "cell_type": "code",
      "metadata": {
        "colab": {
          "base_uri": "https://localhost:8080/"
        },
        "id": "KfIKoP6uE10M",
        "outputId": "951aa53a-9142-4cfd-d811-ecec8dcc7cda"
      },
      "source": [
        "exact_match_callback = ExactMatch(x_eval, y_eval)\n",
        "\n",
        "model.fit(\n",
        "    x_train,\n",
        "    y_train,\n",
        "    epochs=3,\n",
        "    batch_size=64,\n",
        "    callbacks=[exact_match_callback]\n",
        ")"
      ],
      "execution_count": null,
      "outputs": [
        {
          "output_type": "stream",
          "text": [
            "Epoch 1/3\n",
            "WARNING:tensorflow:Gradients do not exist for variables ['tf_bert_model_2/bert/pooler/dense/kernel:0', 'tf_bert_model_2/bert/pooler/dense/bias:0'] when minimizing the loss.\n"
          ],
          "name": "stdout"
        },
        {
          "output_type": "stream",
          "text": [
            "WARNING:tensorflow:Gradients do not exist for variables ['tf_bert_model_2/bert/pooler/dense/kernel:0', 'tf_bert_model_2/bert/pooler/dense/bias:0'] when minimizing the loss.\n"
          ],
          "name": "stderr"
        },
        {
          "output_type": "stream",
          "text": [
            "WARNING:tensorflow:Gradients do not exist for variables ['tf_bert_model_2/bert/pooler/dense/kernel:0', 'tf_bert_model_2/bert/pooler/dense/bias:0'] when minimizing the loss.\n"
          ],
          "name": "stdout"
        },
        {
          "output_type": "stream",
          "text": [
            "WARNING:tensorflow:Gradients do not exist for variables ['tf_bert_model_2/bert/pooler/dense/kernel:0', 'tf_bert_model_2/bert/pooler/dense/bias:0'] when minimizing the loss.\n"
          ],
          "name": "stderr"
        },
        {
          "output_type": "stream",
          "text": [
            "WARNING:tensorflow:Gradients do not exist for variables ['tf_bert_model_2/bert/pooler/dense/kernel:0', 'tf_bert_model_2/bert/pooler/dense/bias:0'] when minimizing the loss.\n"
          ],
          "name": "stdout"
        },
        {
          "output_type": "stream",
          "text": [
            "WARNING:tensorflow:Gradients do not exist for variables ['tf_bert_model_2/bert/pooler/dense/kernel:0', 'tf_bert_model_2/bert/pooler/dense/bias:0'] when minimizing the loss.\n"
          ],
          "name": "stderr"
        },
        {
          "output_type": "stream",
          "text": [
            "WARNING:tensorflow:Gradients do not exist for variables ['tf_bert_model_2/bert/pooler/dense/kernel:0', 'tf_bert_model_2/bert/pooler/dense/bias:0'] when minimizing the loss.\n"
          ],
          "name": "stdout"
        },
        {
          "output_type": "stream",
          "text": [
            "WARNING:tensorflow:Gradients do not exist for variables ['tf_bert_model_2/bert/pooler/dense/kernel:0', 'tf_bert_model_2/bert/pooler/dense/bias:0'] when minimizing the loss.\n"
          ],
          "name": "stderr"
        },
        {
          "output_type": "stream",
          "text": [
            "  2/113 [..............................] - ETA: 5:18 - loss: 9.2027 - activation_8_loss: 4.7189 - activation_9_loss: 4.4838WARNING:tensorflow:Callbacks method `on_train_batch_end` is slow compared to the batch time (batch time: 0.0026s vs `on_train_batch_end` time: 5.7271s). Check your callbacks.\n"
          ],
          "name": "stdout"
        },
        {
          "output_type": "stream",
          "text": [
            "WARNING:tensorflow:Callbacks method `on_train_batch_end` is slow compared to the batch time (batch time: 0.0026s vs `on_train_batch_end` time: 5.7271s). Check your callbacks.\n"
          ],
          "name": "stderr"
        },
        {
          "output_type": "stream",
          "text": [
            "113/113 [==============================] - ETA: 0s - loss: 3.9016 - activation_8_loss: 2.0000 - activation_9_loss: 1.9016\n",
            "epoch=1, exact match score=0.63\n",
            "113/113 [==============================] - 673s 6s/step - loss: 3.9016 - activation_8_loss: 2.0000 - activation_9_loss: 1.9016\n",
            "Epoch 2/3\n",
            "113/113 [==============================] - ETA: 0s - loss: 1.7640 - activation_8_loss: 0.9086 - activation_9_loss: 0.8554\n",
            "epoch=2, exact match score=0.68\n",
            "113/113 [==============================] - 673s 6s/step - loss: 1.7640 - activation_8_loss: 0.9086 - activation_9_loss: 0.8554\n",
            "Epoch 3/3\n",
            "113/113 [==============================] - ETA: 0s - loss: 1.0119 - activation_8_loss: 0.5202 - activation_9_loss: 0.4917\n",
            "epoch=3, exact match score=0.68\n",
            "113/113 [==============================] - 674s 6s/step - loss: 1.0119 - activation_8_loss: 0.5202 - activation_9_loss: 0.4917\n"
          ],
          "name": "stdout"
        },
        {
          "output_type": "execute_result",
          "data": {
            "text/plain": [
              "<tensorflow.python.keras.callbacks.History at 0x7fd6e3bcfa20>"
            ]
          },
          "metadata": {
            "tags": []
          },
          "execution_count": 61
        }
      ]
    },
    {
      "cell_type": "markdown",
      "metadata": {
        "id": "0e4ePE4XYUww"
      },
      "source": [
        "# Changing the configuration of a model"
      ]
    },
    {
      "cell_type": "code",
      "metadata": {
        "id": "2HRlDqVLYYJI"
      },
      "source": [
        "from transformers import RobertaConfig\n",
        "\n",
        "config = RobertaConfig(\n",
        "    vocab_size=52_000,\n",
        "    max_position_embeddings=514,\n",
        "    num_attention_heads=12,\n",
        "    num_hidden_layers=6,\n",
        "    type_vocab_size=1,\n",
        ")\n",
        "\n",
        "from transformers import RobertaForMaskedLM\n",
        "\n",
        "model = RobertaForMaskedLM(config=config)"
      ],
      "execution_count": null,
      "outputs": []
    },
    {
      "cell_type": "markdown",
      "metadata": {
        "id": "bcFM_s0HKX24"
      },
      "source": [
        "HuggingFace is NOT a modular toolbox of building blocks for neural nets. If you want to extend/build-upon the library, just use regular Python/PyTorch/TensorFlow/Keras modules and inherit from the base classes of the library to reuse functionalities like model loading/saving"
      ]
    },
    {
      "cell_type": "markdown",
      "metadata": {
        "id": "8ym7qtOzfolU"
      },
      "source": [
        "To monitor the Transformer model's performance I can recommend you to check out [Weights & Biases](https://colab.research.google.com/drive/1NEiqNPhiouu2pPwDAVeFoN4-vTYMz9F8?usp=sharing)"
      ]
    },
    {
      "cell_type": "markdown",
      "metadata": {
        "id": "48EdYJIqeHyG"
      },
      "source": [
        "## Continue Learning"
      ]
    },
    {
      "cell_type": "markdown",
      "metadata": {
        "id": "I9srzT3MwH4r"
      },
      "source": [
        "check the Notebooks : https://huggingface.co/transformers/notebooks.html\n",
        "\n",
        "Many of them are Pytorch code... However, the modeling part is almost identical to Tensorflow (adding TF at the beginning of the model class name, removing the .to() method calls, and using return_tensors=\"tf\")"
      ]
    },
    {
      "cell_type": "markdown",
      "metadata": {
        "id": "fzo9x3z_zewY"
      },
      "source": [
        "## Train Language Model from Scratch\n",
        "\n",
        "https://github.com/huggingface/blog/blob/master/notebooks/01_how_to_train.ipynb\n",
        "\n",
        "Uses the *Trainer* function, change to *TFTrainer* for the code to work https://huggingface.co/transformers/main_classes/trainer.html"
      ]
    }
  ]
}