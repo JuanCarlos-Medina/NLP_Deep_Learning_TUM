{
  "nbformat": 4,
  "nbformat_minor": 0,
  "metadata": {
    "colab": {
      "name": "Week8_BERT.ipynb",
      "provenance": [],
      "collapsed_sections": [],
      "toc_visible": true
    },
    "kernelspec": {
      "name": "python3",
      "display_name": "Python 3"
    },
    "accelerator": "GPU",
    "widgets": {
      "application/vnd.jupyter.widget-state+json": {
        "dd41b5d6f0884320a28248958abf193c": {
          "model_module": "@jupyter-widgets/controls",
          "model_name": "HBoxModel",
          "state": {
            "_view_name": "HBoxView",
            "_dom_classes": [],
            "_model_name": "HBoxModel",
            "_view_module": "@jupyter-widgets/controls",
            "_model_module_version": "1.5.0",
            "_view_count": null,
            "_view_module_version": "1.5.0",
            "box_style": "",
            "layout": "IPY_MODEL_7034d9d136414f209c0660186e0a31e7",
            "_model_module": "@jupyter-widgets/controls",
            "children": [
              "IPY_MODEL_f042443327a7444385cc5fd8d845e495",
              "IPY_MODEL_1de0ffbbc6384d438d7a32856e2eabd4"
            ]
          }
        },
        "7034d9d136414f209c0660186e0a31e7": {
          "model_module": "@jupyter-widgets/base",
          "model_name": "LayoutModel",
          "state": {
            "_view_name": "LayoutView",
            "grid_template_rows": null,
            "right": null,
            "justify_content": null,
            "_view_module": "@jupyter-widgets/base",
            "overflow": null,
            "_model_module_version": "1.2.0",
            "_view_count": null,
            "flex_flow": null,
            "width": null,
            "min_width": null,
            "border": null,
            "align_items": null,
            "bottom": null,
            "_model_module": "@jupyter-widgets/base",
            "top": null,
            "grid_column": null,
            "overflow_y": null,
            "overflow_x": null,
            "grid_auto_flow": null,
            "grid_area": null,
            "grid_template_columns": null,
            "flex": null,
            "_model_name": "LayoutModel",
            "justify_items": null,
            "grid_row": null,
            "max_height": null,
            "align_content": null,
            "visibility": null,
            "align_self": null,
            "height": null,
            "min_height": null,
            "padding": null,
            "grid_auto_rows": null,
            "grid_gap": null,
            "max_width": null,
            "order": null,
            "_view_module_version": "1.2.0",
            "grid_template_areas": null,
            "object_position": null,
            "object_fit": null,
            "grid_auto_columns": null,
            "margin": null,
            "display": null,
            "left": null
          }
        },
        "f042443327a7444385cc5fd8d845e495": {
          "model_module": "@jupyter-widgets/controls",
          "model_name": "FloatProgressModel",
          "state": {
            "_view_name": "ProgressView",
            "style": "IPY_MODEL_fa198e2fd18b4fe087e922ef881bdff5",
            "_dom_classes": [],
            "description": "Dl Completed...: 100%",
            "_model_name": "FloatProgressModel",
            "bar_style": "success",
            "max": 1,
            "_view_module": "@jupyter-widgets/controls",
            "_model_module_version": "1.5.0",
            "value": 1,
            "_view_count": null,
            "_view_module_version": "1.5.0",
            "orientation": "horizontal",
            "min": 0,
            "description_tooltip": null,
            "_model_module": "@jupyter-widgets/controls",
            "layout": "IPY_MODEL_5d4ebf42edf64532b85a09055922f896"
          }
        },
        "1de0ffbbc6384d438d7a32856e2eabd4": {
          "model_module": "@jupyter-widgets/controls",
          "model_name": "HTMLModel",
          "state": {
            "_view_name": "HTMLView",
            "style": "IPY_MODEL_bea08d6d5daf4d45a9357b0a6dd2a6bd",
            "_dom_classes": [],
            "description": "",
            "_model_name": "HTMLModel",
            "placeholder": "​",
            "_view_module": "@jupyter-widgets/controls",
            "_model_module_version": "1.5.0",
            "value": " 1/1 [00:01&lt;00:00,  1.76s/ url]",
            "_view_count": null,
            "_view_module_version": "1.5.0",
            "description_tooltip": null,
            "_model_module": "@jupyter-widgets/controls",
            "layout": "IPY_MODEL_8d6277d384664ecea87fb2c9db0ab0e9"
          }
        },
        "fa198e2fd18b4fe087e922ef881bdff5": {
          "model_module": "@jupyter-widgets/controls",
          "model_name": "ProgressStyleModel",
          "state": {
            "_view_name": "StyleView",
            "_model_name": "ProgressStyleModel",
            "description_width": "initial",
            "_view_module": "@jupyter-widgets/base",
            "_model_module_version": "1.5.0",
            "_view_count": null,
            "_view_module_version": "1.2.0",
            "bar_color": null,
            "_model_module": "@jupyter-widgets/controls"
          }
        },
        "5d4ebf42edf64532b85a09055922f896": {
          "model_module": "@jupyter-widgets/base",
          "model_name": "LayoutModel",
          "state": {
            "_view_name": "LayoutView",
            "grid_template_rows": null,
            "right": null,
            "justify_content": null,
            "_view_module": "@jupyter-widgets/base",
            "overflow": null,
            "_model_module_version": "1.2.0",
            "_view_count": null,
            "flex_flow": null,
            "width": null,
            "min_width": null,
            "border": null,
            "align_items": null,
            "bottom": null,
            "_model_module": "@jupyter-widgets/base",
            "top": null,
            "grid_column": null,
            "overflow_y": null,
            "overflow_x": null,
            "grid_auto_flow": null,
            "grid_area": null,
            "grid_template_columns": null,
            "flex": null,
            "_model_name": "LayoutModel",
            "justify_items": null,
            "grid_row": null,
            "max_height": null,
            "align_content": null,
            "visibility": null,
            "align_self": null,
            "height": null,
            "min_height": null,
            "padding": null,
            "grid_auto_rows": null,
            "grid_gap": null,
            "max_width": null,
            "order": null,
            "_view_module_version": "1.2.0",
            "grid_template_areas": null,
            "object_position": null,
            "object_fit": null,
            "grid_auto_columns": null,
            "margin": null,
            "display": null,
            "left": null
          }
        },
        "bea08d6d5daf4d45a9357b0a6dd2a6bd": {
          "model_module": "@jupyter-widgets/controls",
          "model_name": "DescriptionStyleModel",
          "state": {
            "_view_name": "StyleView",
            "_model_name": "DescriptionStyleModel",
            "description_width": "",
            "_view_module": "@jupyter-widgets/base",
            "_model_module_version": "1.5.0",
            "_view_count": null,
            "_view_module_version": "1.2.0",
            "_model_module": "@jupyter-widgets/controls"
          }
        },
        "8d6277d384664ecea87fb2c9db0ab0e9": {
          "model_module": "@jupyter-widgets/base",
          "model_name": "LayoutModel",
          "state": {
            "_view_name": "LayoutView",
            "grid_template_rows": null,
            "right": null,
            "justify_content": null,
            "_view_module": "@jupyter-widgets/base",
            "overflow": null,
            "_model_module_version": "1.2.0",
            "_view_count": null,
            "flex_flow": null,
            "width": null,
            "min_width": null,
            "border": null,
            "align_items": null,
            "bottom": null,
            "_model_module": "@jupyter-widgets/base",
            "top": null,
            "grid_column": null,
            "overflow_y": null,
            "overflow_x": null,
            "grid_auto_flow": null,
            "grid_area": null,
            "grid_template_columns": null,
            "flex": null,
            "_model_name": "LayoutModel",
            "justify_items": null,
            "grid_row": null,
            "max_height": null,
            "align_content": null,
            "visibility": null,
            "align_self": null,
            "height": null,
            "min_height": null,
            "padding": null,
            "grid_auto_rows": null,
            "grid_gap": null,
            "max_width": null,
            "order": null,
            "_view_module_version": "1.2.0",
            "grid_template_areas": null,
            "object_position": null,
            "object_fit": null,
            "grid_auto_columns": null,
            "margin": null,
            "display": null,
            "left": null
          }
        },
        "dc49267e227d44aeb40a68842d6ef624": {
          "model_module": "@jupyter-widgets/controls",
          "model_name": "HBoxModel",
          "state": {
            "_view_name": "HBoxView",
            "_dom_classes": [],
            "_model_name": "HBoxModel",
            "_view_module": "@jupyter-widgets/controls",
            "_model_module_version": "1.5.0",
            "_view_count": null,
            "_view_module_version": "1.5.0",
            "box_style": "",
            "layout": "IPY_MODEL_435aef29856d49419b5d3447f532e719",
            "_model_module": "@jupyter-widgets/controls",
            "children": [
              "IPY_MODEL_558ebadac3ff43349a91e219fbf592cd",
              "IPY_MODEL_26e0399f91e246a4b6518f79b949f71f"
            ]
          }
        },
        "435aef29856d49419b5d3447f532e719": {
          "model_module": "@jupyter-widgets/base",
          "model_name": "LayoutModel",
          "state": {
            "_view_name": "LayoutView",
            "grid_template_rows": null,
            "right": null,
            "justify_content": null,
            "_view_module": "@jupyter-widgets/base",
            "overflow": null,
            "_model_module_version": "1.2.0",
            "_view_count": null,
            "flex_flow": null,
            "width": null,
            "min_width": null,
            "border": null,
            "align_items": null,
            "bottom": null,
            "_model_module": "@jupyter-widgets/base",
            "top": null,
            "grid_column": null,
            "overflow_y": null,
            "overflow_x": null,
            "grid_auto_flow": null,
            "grid_area": null,
            "grid_template_columns": null,
            "flex": null,
            "_model_name": "LayoutModel",
            "justify_items": null,
            "grid_row": null,
            "max_height": null,
            "align_content": null,
            "visibility": null,
            "align_self": null,
            "height": null,
            "min_height": null,
            "padding": null,
            "grid_auto_rows": null,
            "grid_gap": null,
            "max_width": null,
            "order": null,
            "_view_module_version": "1.2.0",
            "grid_template_areas": null,
            "object_position": null,
            "object_fit": null,
            "grid_auto_columns": null,
            "margin": null,
            "display": null,
            "left": null
          }
        },
        "558ebadac3ff43349a91e219fbf592cd": {
          "model_module": "@jupyter-widgets/controls",
          "model_name": "FloatProgressModel",
          "state": {
            "_view_name": "ProgressView",
            "style": "IPY_MODEL_10b59cb9618d40eeb2c175a5bd8ddcc5",
            "_dom_classes": [],
            "description": "Dl Size...: 100%",
            "_model_name": "FloatProgressModel",
            "bar_style": "success",
            "max": 1,
            "_view_module": "@jupyter-widgets/controls",
            "_model_module_version": "1.5.0",
            "value": 1,
            "_view_count": null,
            "_view_module_version": "1.5.0",
            "orientation": "horizontal",
            "min": 0,
            "description_tooltip": null,
            "_model_module": "@jupyter-widgets/controls",
            "layout": "IPY_MODEL_45e97699c20e46d983005b9c403fc090"
          }
        },
        "26e0399f91e246a4b6518f79b949f71f": {
          "model_module": "@jupyter-widgets/controls",
          "model_name": "HTMLModel",
          "state": {
            "_view_name": "HTMLView",
            "style": "IPY_MODEL_0939f32a11014ae0ac1428a4603964b2",
            "_dom_classes": [],
            "description": "",
            "_model_name": "HTMLModel",
            "placeholder": "​",
            "_view_module": "@jupyter-widgets/controls",
            "_model_module_version": "1.5.0",
            "value": " 80/80 [00:01&lt;00:00, 46.26 MiB/s]",
            "_view_count": null,
            "_view_module_version": "1.5.0",
            "description_tooltip": null,
            "_model_module": "@jupyter-widgets/controls",
            "layout": "IPY_MODEL_4b8dd297d4d4488c984a4258574a456d"
          }
        },
        "10b59cb9618d40eeb2c175a5bd8ddcc5": {
          "model_module": "@jupyter-widgets/controls",
          "model_name": "ProgressStyleModel",
          "state": {
            "_view_name": "StyleView",
            "_model_name": "ProgressStyleModel",
            "description_width": "initial",
            "_view_module": "@jupyter-widgets/base",
            "_model_module_version": "1.5.0",
            "_view_count": null,
            "_view_module_version": "1.2.0",
            "bar_color": null,
            "_model_module": "@jupyter-widgets/controls"
          }
        },
        "45e97699c20e46d983005b9c403fc090": {
          "model_module": "@jupyter-widgets/base",
          "model_name": "LayoutModel",
          "state": {
            "_view_name": "LayoutView",
            "grid_template_rows": null,
            "right": null,
            "justify_content": null,
            "_view_module": "@jupyter-widgets/base",
            "overflow": null,
            "_model_module_version": "1.2.0",
            "_view_count": null,
            "flex_flow": null,
            "width": null,
            "min_width": null,
            "border": null,
            "align_items": null,
            "bottom": null,
            "_model_module": "@jupyter-widgets/base",
            "top": null,
            "grid_column": null,
            "overflow_y": null,
            "overflow_x": null,
            "grid_auto_flow": null,
            "grid_area": null,
            "grid_template_columns": null,
            "flex": null,
            "_model_name": "LayoutModel",
            "justify_items": null,
            "grid_row": null,
            "max_height": null,
            "align_content": null,
            "visibility": null,
            "align_self": null,
            "height": null,
            "min_height": null,
            "padding": null,
            "grid_auto_rows": null,
            "grid_gap": null,
            "max_width": null,
            "order": null,
            "_view_module_version": "1.2.0",
            "grid_template_areas": null,
            "object_position": null,
            "object_fit": null,
            "grid_auto_columns": null,
            "margin": null,
            "display": null,
            "left": null
          }
        },
        "0939f32a11014ae0ac1428a4603964b2": {
          "model_module": "@jupyter-widgets/controls",
          "model_name": "DescriptionStyleModel",
          "state": {
            "_view_name": "StyleView",
            "_model_name": "DescriptionStyleModel",
            "description_width": "",
            "_view_module": "@jupyter-widgets/base",
            "_model_module_version": "1.5.0",
            "_view_count": null,
            "_view_module_version": "1.2.0",
            "_model_module": "@jupyter-widgets/controls"
          }
        },
        "4b8dd297d4d4488c984a4258574a456d": {
          "model_module": "@jupyter-widgets/base",
          "model_name": "LayoutModel",
          "state": {
            "_view_name": "LayoutView",
            "grid_template_rows": null,
            "right": null,
            "justify_content": null,
            "_view_module": "@jupyter-widgets/base",
            "overflow": null,
            "_model_module_version": "1.2.0",
            "_view_count": null,
            "flex_flow": null,
            "width": null,
            "min_width": null,
            "border": null,
            "align_items": null,
            "bottom": null,
            "_model_module": "@jupyter-widgets/base",
            "top": null,
            "grid_column": null,
            "overflow_y": null,
            "overflow_x": null,
            "grid_auto_flow": null,
            "grid_area": null,
            "grid_template_columns": null,
            "flex": null,
            "_model_name": "LayoutModel",
            "justify_items": null,
            "grid_row": null,
            "max_height": null,
            "align_content": null,
            "visibility": null,
            "align_self": null,
            "height": null,
            "min_height": null,
            "padding": null,
            "grid_auto_rows": null,
            "grid_gap": null,
            "max_width": null,
            "order": null,
            "_view_module_version": "1.2.0",
            "grid_template_areas": null,
            "object_position": null,
            "object_fit": null,
            "grid_auto_columns": null,
            "margin": null,
            "display": null,
            "left": null
          }
        },
        "74668e45b627480cb9e0ae2c7a747e53": {
          "model_module": "@jupyter-widgets/controls",
          "model_name": "HBoxModel",
          "state": {
            "_view_name": "HBoxView",
            "_dom_classes": [],
            "_model_name": "HBoxModel",
            "_view_module": "@jupyter-widgets/controls",
            "_model_module_version": "1.5.0",
            "_view_count": null,
            "_view_module_version": "1.5.0",
            "box_style": "",
            "layout": "IPY_MODEL_58060c05b62a4907826779b536bf4662",
            "_model_module": "@jupyter-widgets/controls",
            "children": [
              "IPY_MODEL_42c33ab8c6e745b790dec092077d40b3",
              "IPY_MODEL_5a3d2f10e683458792e691f4257813b9"
            ]
          }
        },
        "58060c05b62a4907826779b536bf4662": {
          "model_module": "@jupyter-widgets/base",
          "model_name": "LayoutModel",
          "state": {
            "_view_name": "LayoutView",
            "grid_template_rows": null,
            "right": null,
            "justify_content": null,
            "_view_module": "@jupyter-widgets/base",
            "overflow": null,
            "_model_module_version": "1.2.0",
            "_view_count": null,
            "flex_flow": null,
            "width": null,
            "min_width": null,
            "border": null,
            "align_items": null,
            "bottom": null,
            "_model_module": "@jupyter-widgets/base",
            "top": null,
            "grid_column": null,
            "overflow_y": null,
            "overflow_x": null,
            "grid_auto_flow": null,
            "grid_area": null,
            "grid_template_columns": null,
            "flex": null,
            "_model_name": "LayoutModel",
            "justify_items": null,
            "grid_row": null,
            "max_height": null,
            "align_content": null,
            "visibility": null,
            "align_self": null,
            "height": null,
            "min_height": null,
            "padding": null,
            "grid_auto_rows": null,
            "grid_gap": null,
            "max_width": null,
            "order": null,
            "_view_module_version": "1.2.0",
            "grid_template_areas": null,
            "object_position": null,
            "object_fit": null,
            "grid_auto_columns": null,
            "margin": null,
            "display": null,
            "left": null
          }
        },
        "42c33ab8c6e745b790dec092077d40b3": {
          "model_module": "@jupyter-widgets/controls",
          "model_name": "FloatProgressModel",
          "state": {
            "_view_name": "ProgressView",
            "style": "IPY_MODEL_54c0eb55fd044fd19408aa445bde754b",
            "_dom_classes": [],
            "description": "",
            "_model_name": "FloatProgressModel",
            "bar_style": "info",
            "max": 1,
            "_view_module": "@jupyter-widgets/controls",
            "_model_module_version": "1.5.0",
            "value": 1,
            "_view_count": null,
            "_view_module_version": "1.5.0",
            "orientation": "horizontal",
            "min": 0,
            "description_tooltip": null,
            "_model_module": "@jupyter-widgets/controls",
            "layout": "IPY_MODEL_d0e19191725d49c392361a1cc00a85db"
          }
        },
        "5a3d2f10e683458792e691f4257813b9": {
          "model_module": "@jupyter-widgets/controls",
          "model_name": "HTMLModel",
          "state": {
            "_view_name": "HTMLView",
            "style": "IPY_MODEL_46f849f2e40c4051a1b3f850e6dec541",
            "_dom_classes": [],
            "description": "",
            "_model_name": "HTMLModel",
            "placeholder": "​",
            "_view_module": "@jupyter-widgets/controls",
            "_model_module_version": "1.5.0",
            "value": " 25000/0 [00:11&lt;00:00, 3900.40 examples/s]",
            "_view_count": null,
            "_view_module_version": "1.5.0",
            "description_tooltip": null,
            "_model_module": "@jupyter-widgets/controls",
            "layout": "IPY_MODEL_e4a435d677694a6890d212df0adac12f"
          }
        },
        "54c0eb55fd044fd19408aa445bde754b": {
          "model_module": "@jupyter-widgets/controls",
          "model_name": "ProgressStyleModel",
          "state": {
            "_view_name": "StyleView",
            "_model_name": "ProgressStyleModel",
            "description_width": "initial",
            "_view_module": "@jupyter-widgets/base",
            "_model_module_version": "1.5.0",
            "_view_count": null,
            "_view_module_version": "1.2.0",
            "bar_color": null,
            "_model_module": "@jupyter-widgets/controls"
          }
        },
        "d0e19191725d49c392361a1cc00a85db": {
          "model_module": "@jupyter-widgets/base",
          "model_name": "LayoutModel",
          "state": {
            "_view_name": "LayoutView",
            "grid_template_rows": null,
            "right": null,
            "justify_content": null,
            "_view_module": "@jupyter-widgets/base",
            "overflow": null,
            "_model_module_version": "1.2.0",
            "_view_count": null,
            "flex_flow": null,
            "width": null,
            "min_width": null,
            "border": null,
            "align_items": null,
            "bottom": null,
            "_model_module": "@jupyter-widgets/base",
            "top": null,
            "grid_column": null,
            "overflow_y": null,
            "overflow_x": null,
            "grid_auto_flow": null,
            "grid_area": null,
            "grid_template_columns": null,
            "flex": null,
            "_model_name": "LayoutModel",
            "justify_items": null,
            "grid_row": null,
            "max_height": null,
            "align_content": null,
            "visibility": null,
            "align_self": null,
            "height": null,
            "min_height": null,
            "padding": null,
            "grid_auto_rows": null,
            "grid_gap": null,
            "max_width": null,
            "order": null,
            "_view_module_version": "1.2.0",
            "grid_template_areas": null,
            "object_position": null,
            "object_fit": null,
            "grid_auto_columns": null,
            "margin": null,
            "display": null,
            "left": null
          }
        },
        "46f849f2e40c4051a1b3f850e6dec541": {
          "model_module": "@jupyter-widgets/controls",
          "model_name": "DescriptionStyleModel",
          "state": {
            "_view_name": "StyleView",
            "_model_name": "DescriptionStyleModel",
            "description_width": "",
            "_view_module": "@jupyter-widgets/base",
            "_model_module_version": "1.5.0",
            "_view_count": null,
            "_view_module_version": "1.2.0",
            "_model_module": "@jupyter-widgets/controls"
          }
        },
        "e4a435d677694a6890d212df0adac12f": {
          "model_module": "@jupyter-widgets/base",
          "model_name": "LayoutModel",
          "state": {
            "_view_name": "LayoutView",
            "grid_template_rows": null,
            "right": null,
            "justify_content": null,
            "_view_module": "@jupyter-widgets/base",
            "overflow": null,
            "_model_module_version": "1.2.0",
            "_view_count": null,
            "flex_flow": null,
            "width": null,
            "min_width": null,
            "border": null,
            "align_items": null,
            "bottom": null,
            "_model_module": "@jupyter-widgets/base",
            "top": null,
            "grid_column": null,
            "overflow_y": null,
            "overflow_x": null,
            "grid_auto_flow": null,
            "grid_area": null,
            "grid_template_columns": null,
            "flex": null,
            "_model_name": "LayoutModel",
            "justify_items": null,
            "grid_row": null,
            "max_height": null,
            "align_content": null,
            "visibility": null,
            "align_self": null,
            "height": null,
            "min_height": null,
            "padding": null,
            "grid_auto_rows": null,
            "grid_gap": null,
            "max_width": null,
            "order": null,
            "_view_module_version": "1.2.0",
            "grid_template_areas": null,
            "object_position": null,
            "object_fit": null,
            "grid_auto_columns": null,
            "margin": null,
            "display": null,
            "left": null
          }
        },
        "da83d670b9e64ebeac4591af5d8bd585": {
          "model_module": "@jupyter-widgets/controls",
          "model_name": "HBoxModel",
          "state": {
            "_view_name": "HBoxView",
            "_dom_classes": [],
            "_model_name": "HBoxModel",
            "_view_module": "@jupyter-widgets/controls",
            "_model_module_version": "1.5.0",
            "_view_count": null,
            "_view_module_version": "1.5.0",
            "box_style": "",
            "layout": "IPY_MODEL_beae373f680c455ea0ed0a06ee7f0ce2",
            "_model_module": "@jupyter-widgets/controls",
            "children": [
              "IPY_MODEL_629e35ce387b40abb6e2f41344d4d942",
              "IPY_MODEL_0c00513a9b774c00a45b1bd39cf7c8ff"
            ]
          }
        },
        "beae373f680c455ea0ed0a06ee7f0ce2": {
          "model_module": "@jupyter-widgets/base",
          "model_name": "LayoutModel",
          "state": {
            "_view_name": "LayoutView",
            "grid_template_rows": null,
            "right": null,
            "justify_content": null,
            "_view_module": "@jupyter-widgets/base",
            "overflow": null,
            "_model_module_version": "1.2.0",
            "_view_count": null,
            "flex_flow": null,
            "width": null,
            "min_width": null,
            "border": null,
            "align_items": null,
            "bottom": null,
            "_model_module": "@jupyter-widgets/base",
            "top": null,
            "grid_column": null,
            "overflow_y": null,
            "overflow_x": null,
            "grid_auto_flow": null,
            "grid_area": null,
            "grid_template_columns": null,
            "flex": null,
            "_model_name": "LayoutModel",
            "justify_items": null,
            "grid_row": null,
            "max_height": null,
            "align_content": null,
            "visibility": null,
            "align_self": null,
            "height": null,
            "min_height": null,
            "padding": null,
            "grid_auto_rows": null,
            "grid_gap": null,
            "max_width": null,
            "order": null,
            "_view_module_version": "1.2.0",
            "grid_template_areas": null,
            "object_position": null,
            "object_fit": null,
            "grid_auto_columns": null,
            "margin": null,
            "display": null,
            "left": null
          }
        },
        "629e35ce387b40abb6e2f41344d4d942": {
          "model_module": "@jupyter-widgets/controls",
          "model_name": "FloatProgressModel",
          "state": {
            "_view_name": "ProgressView",
            "style": "IPY_MODEL_bc2ec3b292cf41fb9bcccf45b4a4729d",
            "_dom_classes": [],
            "description": " 48%",
            "_model_name": "FloatProgressModel",
            "bar_style": "danger",
            "max": 25000,
            "_view_module": "@jupyter-widgets/controls",
            "_model_module_version": "1.5.0",
            "value": 12109,
            "_view_count": null,
            "_view_module_version": "1.5.0",
            "orientation": "horizontal",
            "min": 0,
            "description_tooltip": null,
            "_model_module": "@jupyter-widgets/controls",
            "layout": "IPY_MODEL_d55739714348453fb8bd0ddc010d539d"
          }
        },
        "0c00513a9b774c00a45b1bd39cf7c8ff": {
          "model_module": "@jupyter-widgets/controls",
          "model_name": "HTMLModel",
          "state": {
            "_view_name": "HTMLView",
            "style": "IPY_MODEL_e05a40833ff84a1aa1342306a5bef385",
            "_dom_classes": [],
            "description": "",
            "_model_name": "HTMLModel",
            "placeholder": "​",
            "_view_module": "@jupyter-widgets/controls",
            "_model_module_version": "1.5.0",
            "value": " 12109/25000 [00:00&lt;00:00, 121084.63 examples/s]",
            "_view_count": null,
            "_view_module_version": "1.5.0",
            "description_tooltip": null,
            "_model_module": "@jupyter-widgets/controls",
            "layout": "IPY_MODEL_355fdee3d9d74dfb9c8782c62544af5f"
          }
        },
        "bc2ec3b292cf41fb9bcccf45b4a4729d": {
          "model_module": "@jupyter-widgets/controls",
          "model_name": "ProgressStyleModel",
          "state": {
            "_view_name": "StyleView",
            "_model_name": "ProgressStyleModel",
            "description_width": "initial",
            "_view_module": "@jupyter-widgets/base",
            "_model_module_version": "1.5.0",
            "_view_count": null,
            "_view_module_version": "1.2.0",
            "bar_color": null,
            "_model_module": "@jupyter-widgets/controls"
          }
        },
        "d55739714348453fb8bd0ddc010d539d": {
          "model_module": "@jupyter-widgets/base",
          "model_name": "LayoutModel",
          "state": {
            "_view_name": "LayoutView",
            "grid_template_rows": null,
            "right": null,
            "justify_content": null,
            "_view_module": "@jupyter-widgets/base",
            "overflow": null,
            "_model_module_version": "1.2.0",
            "_view_count": null,
            "flex_flow": null,
            "width": null,
            "min_width": null,
            "border": null,
            "align_items": null,
            "bottom": null,
            "_model_module": "@jupyter-widgets/base",
            "top": null,
            "grid_column": null,
            "overflow_y": null,
            "overflow_x": null,
            "grid_auto_flow": null,
            "grid_area": null,
            "grid_template_columns": null,
            "flex": null,
            "_model_name": "LayoutModel",
            "justify_items": null,
            "grid_row": null,
            "max_height": null,
            "align_content": null,
            "visibility": null,
            "align_self": null,
            "height": null,
            "min_height": null,
            "padding": null,
            "grid_auto_rows": null,
            "grid_gap": null,
            "max_width": null,
            "order": null,
            "_view_module_version": "1.2.0",
            "grid_template_areas": null,
            "object_position": null,
            "object_fit": null,
            "grid_auto_columns": null,
            "margin": null,
            "display": null,
            "left": null
          }
        },
        "e05a40833ff84a1aa1342306a5bef385": {
          "model_module": "@jupyter-widgets/controls",
          "model_name": "DescriptionStyleModel",
          "state": {
            "_view_name": "StyleView",
            "_model_name": "DescriptionStyleModel",
            "description_width": "",
            "_view_module": "@jupyter-widgets/base",
            "_model_module_version": "1.5.0",
            "_view_count": null,
            "_view_module_version": "1.2.0",
            "_model_module": "@jupyter-widgets/controls"
          }
        },
        "355fdee3d9d74dfb9c8782c62544af5f": {
          "model_module": "@jupyter-widgets/base",
          "model_name": "LayoutModel",
          "state": {
            "_view_name": "LayoutView",
            "grid_template_rows": null,
            "right": null,
            "justify_content": null,
            "_view_module": "@jupyter-widgets/base",
            "overflow": null,
            "_model_module_version": "1.2.0",
            "_view_count": null,
            "flex_flow": null,
            "width": null,
            "min_width": null,
            "border": null,
            "align_items": null,
            "bottom": null,
            "_model_module": "@jupyter-widgets/base",
            "top": null,
            "grid_column": null,
            "overflow_y": null,
            "overflow_x": null,
            "grid_auto_flow": null,
            "grid_area": null,
            "grid_template_columns": null,
            "flex": null,
            "_model_name": "LayoutModel",
            "justify_items": null,
            "grid_row": null,
            "max_height": null,
            "align_content": null,
            "visibility": null,
            "align_self": null,
            "height": null,
            "min_height": null,
            "padding": null,
            "grid_auto_rows": null,
            "grid_gap": null,
            "max_width": null,
            "order": null,
            "_view_module_version": "1.2.0",
            "grid_template_areas": null,
            "object_position": null,
            "object_fit": null,
            "grid_auto_columns": null,
            "margin": null,
            "display": null,
            "left": null
          }
        },
        "1b3ede98ff1247e5aec6d665db2bd302": {
          "model_module": "@jupyter-widgets/controls",
          "model_name": "HBoxModel",
          "state": {
            "_view_name": "HBoxView",
            "_dom_classes": [],
            "_model_name": "HBoxModel",
            "_view_module": "@jupyter-widgets/controls",
            "_model_module_version": "1.5.0",
            "_view_count": null,
            "_view_module_version": "1.5.0",
            "box_style": "",
            "layout": "IPY_MODEL_51fc232ed0ef499db3dc18a7fbb5ef3a",
            "_model_module": "@jupyter-widgets/controls",
            "children": [
              "IPY_MODEL_23cbff303fcc4664bfbff2d9263c6205",
              "IPY_MODEL_6a2b95a6d06d4a839ee805021dcf63d4"
            ]
          }
        },
        "51fc232ed0ef499db3dc18a7fbb5ef3a": {
          "model_module": "@jupyter-widgets/base",
          "model_name": "LayoutModel",
          "state": {
            "_view_name": "LayoutView",
            "grid_template_rows": null,
            "right": null,
            "justify_content": null,
            "_view_module": "@jupyter-widgets/base",
            "overflow": null,
            "_model_module_version": "1.2.0",
            "_view_count": null,
            "flex_flow": null,
            "width": null,
            "min_width": null,
            "border": null,
            "align_items": null,
            "bottom": null,
            "_model_module": "@jupyter-widgets/base",
            "top": null,
            "grid_column": null,
            "overflow_y": null,
            "overflow_x": null,
            "grid_auto_flow": null,
            "grid_area": null,
            "grid_template_columns": null,
            "flex": null,
            "_model_name": "LayoutModel",
            "justify_items": null,
            "grid_row": null,
            "max_height": null,
            "align_content": null,
            "visibility": null,
            "align_self": null,
            "height": null,
            "min_height": null,
            "padding": null,
            "grid_auto_rows": null,
            "grid_gap": null,
            "max_width": null,
            "order": null,
            "_view_module_version": "1.2.0",
            "grid_template_areas": null,
            "object_position": null,
            "object_fit": null,
            "grid_auto_columns": null,
            "margin": null,
            "display": null,
            "left": null
          }
        },
        "23cbff303fcc4664bfbff2d9263c6205": {
          "model_module": "@jupyter-widgets/controls",
          "model_name": "FloatProgressModel",
          "state": {
            "_view_name": "ProgressView",
            "style": "IPY_MODEL_bf1631314f3940aa84fd2e16b40c1eb4",
            "_dom_classes": [],
            "description": "",
            "_model_name": "FloatProgressModel",
            "bar_style": "info",
            "max": 1,
            "_view_module": "@jupyter-widgets/controls",
            "_model_module_version": "1.5.0",
            "value": 1,
            "_view_count": null,
            "_view_module_version": "1.5.0",
            "orientation": "horizontal",
            "min": 0,
            "description_tooltip": null,
            "_model_module": "@jupyter-widgets/controls",
            "layout": "IPY_MODEL_873a8c05197f48baba21bafb012ca2fa"
          }
        },
        "6a2b95a6d06d4a839ee805021dcf63d4": {
          "model_module": "@jupyter-widgets/controls",
          "model_name": "HTMLModel",
          "state": {
            "_view_name": "HTMLView",
            "style": "IPY_MODEL_e3ed518454dc461182926e48ddaf7de2",
            "_dom_classes": [],
            "description": "",
            "_model_name": "HTMLModel",
            "placeholder": "​",
            "_view_module": "@jupyter-widgets/controls",
            "_model_module_version": "1.5.0",
            "value": " 25000/0 [00:11&lt;00:00, 3967.81 examples/s]",
            "_view_count": null,
            "_view_module_version": "1.5.0",
            "description_tooltip": null,
            "_model_module": "@jupyter-widgets/controls",
            "layout": "IPY_MODEL_92f0b477f7a148a5b18623906c4e1d7f"
          }
        },
        "bf1631314f3940aa84fd2e16b40c1eb4": {
          "model_module": "@jupyter-widgets/controls",
          "model_name": "ProgressStyleModel",
          "state": {
            "_view_name": "StyleView",
            "_model_name": "ProgressStyleModel",
            "description_width": "initial",
            "_view_module": "@jupyter-widgets/base",
            "_model_module_version": "1.5.0",
            "_view_count": null,
            "_view_module_version": "1.2.0",
            "bar_color": null,
            "_model_module": "@jupyter-widgets/controls"
          }
        },
        "873a8c05197f48baba21bafb012ca2fa": {
          "model_module": "@jupyter-widgets/base",
          "model_name": "LayoutModel",
          "state": {
            "_view_name": "LayoutView",
            "grid_template_rows": null,
            "right": null,
            "justify_content": null,
            "_view_module": "@jupyter-widgets/base",
            "overflow": null,
            "_model_module_version": "1.2.0",
            "_view_count": null,
            "flex_flow": null,
            "width": null,
            "min_width": null,
            "border": null,
            "align_items": null,
            "bottom": null,
            "_model_module": "@jupyter-widgets/base",
            "top": null,
            "grid_column": null,
            "overflow_y": null,
            "overflow_x": null,
            "grid_auto_flow": null,
            "grid_area": null,
            "grid_template_columns": null,
            "flex": null,
            "_model_name": "LayoutModel",
            "justify_items": null,
            "grid_row": null,
            "max_height": null,
            "align_content": null,
            "visibility": null,
            "align_self": null,
            "height": null,
            "min_height": null,
            "padding": null,
            "grid_auto_rows": null,
            "grid_gap": null,
            "max_width": null,
            "order": null,
            "_view_module_version": "1.2.0",
            "grid_template_areas": null,
            "object_position": null,
            "object_fit": null,
            "grid_auto_columns": null,
            "margin": null,
            "display": null,
            "left": null
          }
        },
        "e3ed518454dc461182926e48ddaf7de2": {
          "model_module": "@jupyter-widgets/controls",
          "model_name": "DescriptionStyleModel",
          "state": {
            "_view_name": "StyleView",
            "_model_name": "DescriptionStyleModel",
            "description_width": "",
            "_view_module": "@jupyter-widgets/base",
            "_model_module_version": "1.5.0",
            "_view_count": null,
            "_view_module_version": "1.2.0",
            "_model_module": "@jupyter-widgets/controls"
          }
        },
        "92f0b477f7a148a5b18623906c4e1d7f": {
          "model_module": "@jupyter-widgets/base",
          "model_name": "LayoutModel",
          "state": {
            "_view_name": "LayoutView",
            "grid_template_rows": null,
            "right": null,
            "justify_content": null,
            "_view_module": "@jupyter-widgets/base",
            "overflow": null,
            "_model_module_version": "1.2.0",
            "_view_count": null,
            "flex_flow": null,
            "width": null,
            "min_width": null,
            "border": null,
            "align_items": null,
            "bottom": null,
            "_model_module": "@jupyter-widgets/base",
            "top": null,
            "grid_column": null,
            "overflow_y": null,
            "overflow_x": null,
            "grid_auto_flow": null,
            "grid_area": null,
            "grid_template_columns": null,
            "flex": null,
            "_model_name": "LayoutModel",
            "justify_items": null,
            "grid_row": null,
            "max_height": null,
            "align_content": null,
            "visibility": null,
            "align_self": null,
            "height": null,
            "min_height": null,
            "padding": null,
            "grid_auto_rows": null,
            "grid_gap": null,
            "max_width": null,
            "order": null,
            "_view_module_version": "1.2.0",
            "grid_template_areas": null,
            "object_position": null,
            "object_fit": null,
            "grid_auto_columns": null,
            "margin": null,
            "display": null,
            "left": null
          }
        },
        "292fbdc2013f4f1491e3f24da901f053": {
          "model_module": "@jupyter-widgets/controls",
          "model_name": "HBoxModel",
          "state": {
            "_view_name": "HBoxView",
            "_dom_classes": [],
            "_model_name": "HBoxModel",
            "_view_module": "@jupyter-widgets/controls",
            "_model_module_version": "1.5.0",
            "_view_count": null,
            "_view_module_version": "1.5.0",
            "box_style": "",
            "layout": "IPY_MODEL_0c89de5e14474be885a2aecb43fc6787",
            "_model_module": "@jupyter-widgets/controls",
            "children": [
              "IPY_MODEL_8d08bfb0fc6b46a498c3770dd01de7f8",
              "IPY_MODEL_9a0e6dbc0b924a6486fb8311ba78d155"
            ]
          }
        },
        "0c89de5e14474be885a2aecb43fc6787": {
          "model_module": "@jupyter-widgets/base",
          "model_name": "LayoutModel",
          "state": {
            "_view_name": "LayoutView",
            "grid_template_rows": null,
            "right": null,
            "justify_content": null,
            "_view_module": "@jupyter-widgets/base",
            "overflow": null,
            "_model_module_version": "1.2.0",
            "_view_count": null,
            "flex_flow": null,
            "width": null,
            "min_width": null,
            "border": null,
            "align_items": null,
            "bottom": null,
            "_model_module": "@jupyter-widgets/base",
            "top": null,
            "grid_column": null,
            "overflow_y": null,
            "overflow_x": null,
            "grid_auto_flow": null,
            "grid_area": null,
            "grid_template_columns": null,
            "flex": null,
            "_model_name": "LayoutModel",
            "justify_items": null,
            "grid_row": null,
            "max_height": null,
            "align_content": null,
            "visibility": null,
            "align_self": null,
            "height": null,
            "min_height": null,
            "padding": null,
            "grid_auto_rows": null,
            "grid_gap": null,
            "max_width": null,
            "order": null,
            "_view_module_version": "1.2.0",
            "grid_template_areas": null,
            "object_position": null,
            "object_fit": null,
            "grid_auto_columns": null,
            "margin": null,
            "display": null,
            "left": null
          }
        },
        "8d08bfb0fc6b46a498c3770dd01de7f8": {
          "model_module": "@jupyter-widgets/controls",
          "model_name": "FloatProgressModel",
          "state": {
            "_view_name": "ProgressView",
            "style": "IPY_MODEL_c97988f3610c4ce593bfcaf6f14ba860",
            "_dom_classes": [],
            "description": " 65%",
            "_model_name": "FloatProgressModel",
            "bar_style": "danger",
            "max": 25000,
            "_view_module": "@jupyter-widgets/controls",
            "_model_module_version": "1.5.0",
            "value": 16181,
            "_view_count": null,
            "_view_module_version": "1.5.0",
            "orientation": "horizontal",
            "min": 0,
            "description_tooltip": null,
            "_model_module": "@jupyter-widgets/controls",
            "layout": "IPY_MODEL_a32cd728b74f436d888f17edee8888d7"
          }
        },
        "9a0e6dbc0b924a6486fb8311ba78d155": {
          "model_module": "@jupyter-widgets/controls",
          "model_name": "HTMLModel",
          "state": {
            "_view_name": "HTMLView",
            "style": "IPY_MODEL_43942e801b0e48f5b81bf21124ef7547",
            "_dom_classes": [],
            "description": "",
            "_model_name": "HTMLModel",
            "placeholder": "​",
            "_view_module": "@jupyter-widgets/controls",
            "_model_module_version": "1.5.0",
            "value": " 16181/25000 [00:00&lt;00:00, 161809.00 examples/s]",
            "_view_count": null,
            "_view_module_version": "1.5.0",
            "description_tooltip": null,
            "_model_module": "@jupyter-widgets/controls",
            "layout": "IPY_MODEL_94702640a3c24c42afe514ac0915a50d"
          }
        },
        "c97988f3610c4ce593bfcaf6f14ba860": {
          "model_module": "@jupyter-widgets/controls",
          "model_name": "ProgressStyleModel",
          "state": {
            "_view_name": "StyleView",
            "_model_name": "ProgressStyleModel",
            "description_width": "initial",
            "_view_module": "@jupyter-widgets/base",
            "_model_module_version": "1.5.0",
            "_view_count": null,
            "_view_module_version": "1.2.0",
            "bar_color": null,
            "_model_module": "@jupyter-widgets/controls"
          }
        },
        "a32cd728b74f436d888f17edee8888d7": {
          "model_module": "@jupyter-widgets/base",
          "model_name": "LayoutModel",
          "state": {
            "_view_name": "LayoutView",
            "grid_template_rows": null,
            "right": null,
            "justify_content": null,
            "_view_module": "@jupyter-widgets/base",
            "overflow": null,
            "_model_module_version": "1.2.0",
            "_view_count": null,
            "flex_flow": null,
            "width": null,
            "min_width": null,
            "border": null,
            "align_items": null,
            "bottom": null,
            "_model_module": "@jupyter-widgets/base",
            "top": null,
            "grid_column": null,
            "overflow_y": null,
            "overflow_x": null,
            "grid_auto_flow": null,
            "grid_area": null,
            "grid_template_columns": null,
            "flex": null,
            "_model_name": "LayoutModel",
            "justify_items": null,
            "grid_row": null,
            "max_height": null,
            "align_content": null,
            "visibility": null,
            "align_self": null,
            "height": null,
            "min_height": null,
            "padding": null,
            "grid_auto_rows": null,
            "grid_gap": null,
            "max_width": null,
            "order": null,
            "_view_module_version": "1.2.0",
            "grid_template_areas": null,
            "object_position": null,
            "object_fit": null,
            "grid_auto_columns": null,
            "margin": null,
            "display": null,
            "left": null
          }
        },
        "43942e801b0e48f5b81bf21124ef7547": {
          "model_module": "@jupyter-widgets/controls",
          "model_name": "DescriptionStyleModel",
          "state": {
            "_view_name": "StyleView",
            "_model_name": "DescriptionStyleModel",
            "description_width": "",
            "_view_module": "@jupyter-widgets/base",
            "_model_module_version": "1.5.0",
            "_view_count": null,
            "_view_module_version": "1.2.0",
            "_model_module": "@jupyter-widgets/controls"
          }
        },
        "94702640a3c24c42afe514ac0915a50d": {
          "model_module": "@jupyter-widgets/base",
          "model_name": "LayoutModel",
          "state": {
            "_view_name": "LayoutView",
            "grid_template_rows": null,
            "right": null,
            "justify_content": null,
            "_view_module": "@jupyter-widgets/base",
            "overflow": null,
            "_model_module_version": "1.2.0",
            "_view_count": null,
            "flex_flow": null,
            "width": null,
            "min_width": null,
            "border": null,
            "align_items": null,
            "bottom": null,
            "_model_module": "@jupyter-widgets/base",
            "top": null,
            "grid_column": null,
            "overflow_y": null,
            "overflow_x": null,
            "grid_auto_flow": null,
            "grid_area": null,
            "grid_template_columns": null,
            "flex": null,
            "_model_name": "LayoutModel",
            "justify_items": null,
            "grid_row": null,
            "max_height": null,
            "align_content": null,
            "visibility": null,
            "align_self": null,
            "height": null,
            "min_height": null,
            "padding": null,
            "grid_auto_rows": null,
            "grid_gap": null,
            "max_width": null,
            "order": null,
            "_view_module_version": "1.2.0",
            "grid_template_areas": null,
            "object_position": null,
            "object_fit": null,
            "grid_auto_columns": null,
            "margin": null,
            "display": null,
            "left": null
          }
        },
        "da482e930fab4a42a3400c1acd285e26": {
          "model_module": "@jupyter-widgets/controls",
          "model_name": "HBoxModel",
          "state": {
            "_view_name": "HBoxView",
            "_dom_classes": [],
            "_model_name": "HBoxModel",
            "_view_module": "@jupyter-widgets/controls",
            "_model_module_version": "1.5.0",
            "_view_count": null,
            "_view_module_version": "1.5.0",
            "box_style": "",
            "layout": "IPY_MODEL_ba373c739ed5496e9f30f77277905276",
            "_model_module": "@jupyter-widgets/controls",
            "children": [
              "IPY_MODEL_e0048bfe885f4608b64c8c89359f347f",
              "IPY_MODEL_9da884012ef84328adc46e63f13b015a"
            ]
          }
        },
        "ba373c739ed5496e9f30f77277905276": {
          "model_module": "@jupyter-widgets/base",
          "model_name": "LayoutModel",
          "state": {
            "_view_name": "LayoutView",
            "grid_template_rows": null,
            "right": null,
            "justify_content": null,
            "_view_module": "@jupyter-widgets/base",
            "overflow": null,
            "_model_module_version": "1.2.0",
            "_view_count": null,
            "flex_flow": null,
            "width": null,
            "min_width": null,
            "border": null,
            "align_items": null,
            "bottom": null,
            "_model_module": "@jupyter-widgets/base",
            "top": null,
            "grid_column": null,
            "overflow_y": null,
            "overflow_x": null,
            "grid_auto_flow": null,
            "grid_area": null,
            "grid_template_columns": null,
            "flex": null,
            "_model_name": "LayoutModel",
            "justify_items": null,
            "grid_row": null,
            "max_height": null,
            "align_content": null,
            "visibility": null,
            "align_self": null,
            "height": null,
            "min_height": null,
            "padding": null,
            "grid_auto_rows": null,
            "grid_gap": null,
            "max_width": null,
            "order": null,
            "_view_module_version": "1.2.0",
            "grid_template_areas": null,
            "object_position": null,
            "object_fit": null,
            "grid_auto_columns": null,
            "margin": null,
            "display": null,
            "left": null
          }
        },
        "e0048bfe885f4608b64c8c89359f347f": {
          "model_module": "@jupyter-widgets/controls",
          "model_name": "FloatProgressModel",
          "state": {
            "_view_name": "ProgressView",
            "style": "IPY_MODEL_81d5f039d0be45fc8b4dcd67b7f2624b",
            "_dom_classes": [],
            "description": "",
            "_model_name": "FloatProgressModel",
            "bar_style": "info",
            "max": 1,
            "_view_module": "@jupyter-widgets/controls",
            "_model_module_version": "1.5.0",
            "value": 1,
            "_view_count": null,
            "_view_module_version": "1.5.0",
            "orientation": "horizontal",
            "min": 0,
            "description_tooltip": null,
            "_model_module": "@jupyter-widgets/controls",
            "layout": "IPY_MODEL_a4bcdd6025124b559de70c93af823c03"
          }
        },
        "9da884012ef84328adc46e63f13b015a": {
          "model_module": "@jupyter-widgets/controls",
          "model_name": "HTMLModel",
          "state": {
            "_view_name": "HTMLView",
            "style": "IPY_MODEL_ed77ab1738f243a88f148d51cde58e89",
            "_dom_classes": [],
            "description": "",
            "_model_name": "HTMLModel",
            "placeholder": "​",
            "_view_module": "@jupyter-widgets/controls",
            "_model_module_version": "1.5.0",
            "value": " 50000/0 [00:16&lt;00:00, 3924.55 examples/s]",
            "_view_count": null,
            "_view_module_version": "1.5.0",
            "description_tooltip": null,
            "_model_module": "@jupyter-widgets/controls",
            "layout": "IPY_MODEL_5792ed09ca1e41af8b67495a0a46e55c"
          }
        },
        "81d5f039d0be45fc8b4dcd67b7f2624b": {
          "model_module": "@jupyter-widgets/controls",
          "model_name": "ProgressStyleModel",
          "state": {
            "_view_name": "StyleView",
            "_model_name": "ProgressStyleModel",
            "description_width": "initial",
            "_view_module": "@jupyter-widgets/base",
            "_model_module_version": "1.5.0",
            "_view_count": null,
            "_view_module_version": "1.2.0",
            "bar_color": null,
            "_model_module": "@jupyter-widgets/controls"
          }
        },
        "a4bcdd6025124b559de70c93af823c03": {
          "model_module": "@jupyter-widgets/base",
          "model_name": "LayoutModel",
          "state": {
            "_view_name": "LayoutView",
            "grid_template_rows": null,
            "right": null,
            "justify_content": null,
            "_view_module": "@jupyter-widgets/base",
            "overflow": null,
            "_model_module_version": "1.2.0",
            "_view_count": null,
            "flex_flow": null,
            "width": null,
            "min_width": null,
            "border": null,
            "align_items": null,
            "bottom": null,
            "_model_module": "@jupyter-widgets/base",
            "top": null,
            "grid_column": null,
            "overflow_y": null,
            "overflow_x": null,
            "grid_auto_flow": null,
            "grid_area": null,
            "grid_template_columns": null,
            "flex": null,
            "_model_name": "LayoutModel",
            "justify_items": null,
            "grid_row": null,
            "max_height": null,
            "align_content": null,
            "visibility": null,
            "align_self": null,
            "height": null,
            "min_height": null,
            "padding": null,
            "grid_auto_rows": null,
            "grid_gap": null,
            "max_width": null,
            "order": null,
            "_view_module_version": "1.2.0",
            "grid_template_areas": null,
            "object_position": null,
            "object_fit": null,
            "grid_auto_columns": null,
            "margin": null,
            "display": null,
            "left": null
          }
        },
        "ed77ab1738f243a88f148d51cde58e89": {
          "model_module": "@jupyter-widgets/controls",
          "model_name": "DescriptionStyleModel",
          "state": {
            "_view_name": "StyleView",
            "_model_name": "DescriptionStyleModel",
            "description_width": "",
            "_view_module": "@jupyter-widgets/base",
            "_model_module_version": "1.5.0",
            "_view_count": null,
            "_view_module_version": "1.2.0",
            "_model_module": "@jupyter-widgets/controls"
          }
        },
        "5792ed09ca1e41af8b67495a0a46e55c": {
          "model_module": "@jupyter-widgets/base",
          "model_name": "LayoutModel",
          "state": {
            "_view_name": "LayoutView",
            "grid_template_rows": null,
            "right": null,
            "justify_content": null,
            "_view_module": "@jupyter-widgets/base",
            "overflow": null,
            "_model_module_version": "1.2.0",
            "_view_count": null,
            "flex_flow": null,
            "width": null,
            "min_width": null,
            "border": null,
            "align_items": null,
            "bottom": null,
            "_model_module": "@jupyter-widgets/base",
            "top": null,
            "grid_column": null,
            "overflow_y": null,
            "overflow_x": null,
            "grid_auto_flow": null,
            "grid_area": null,
            "grid_template_columns": null,
            "flex": null,
            "_model_name": "LayoutModel",
            "justify_items": null,
            "grid_row": null,
            "max_height": null,
            "align_content": null,
            "visibility": null,
            "align_self": null,
            "height": null,
            "min_height": null,
            "padding": null,
            "grid_auto_rows": null,
            "grid_gap": null,
            "max_width": null,
            "order": null,
            "_view_module_version": "1.2.0",
            "grid_template_areas": null,
            "object_position": null,
            "object_fit": null,
            "grid_auto_columns": null,
            "margin": null,
            "display": null,
            "left": null
          }
        },
        "0a7b27fdc0c44555b6ec39249c94c076": {
          "model_module": "@jupyter-widgets/controls",
          "model_name": "HBoxModel",
          "state": {
            "_view_name": "HBoxView",
            "_dom_classes": [],
            "_model_name": "HBoxModel",
            "_view_module": "@jupyter-widgets/controls",
            "_model_module_version": "1.5.0",
            "_view_count": null,
            "_view_module_version": "1.5.0",
            "box_style": "",
            "layout": "IPY_MODEL_11d0f8ec78fa42858fb51ad7f06c3232",
            "_model_module": "@jupyter-widgets/controls",
            "children": [
              "IPY_MODEL_6fe8b16268964e098d871c20196332c9",
              "IPY_MODEL_371e8fdad9794f2fa256c4ab806bf9cc"
            ]
          }
        },
        "11d0f8ec78fa42858fb51ad7f06c3232": {
          "model_module": "@jupyter-widgets/base",
          "model_name": "LayoutModel",
          "state": {
            "_view_name": "LayoutView",
            "grid_template_rows": null,
            "right": null,
            "justify_content": null,
            "_view_module": "@jupyter-widgets/base",
            "overflow": null,
            "_model_module_version": "1.2.0",
            "_view_count": null,
            "flex_flow": null,
            "width": null,
            "min_width": null,
            "border": null,
            "align_items": null,
            "bottom": null,
            "_model_module": "@jupyter-widgets/base",
            "top": null,
            "grid_column": null,
            "overflow_y": null,
            "overflow_x": null,
            "grid_auto_flow": null,
            "grid_area": null,
            "grid_template_columns": null,
            "flex": null,
            "_model_name": "LayoutModel",
            "justify_items": null,
            "grid_row": null,
            "max_height": null,
            "align_content": null,
            "visibility": null,
            "align_self": null,
            "height": null,
            "min_height": null,
            "padding": null,
            "grid_auto_rows": null,
            "grid_gap": null,
            "max_width": null,
            "order": null,
            "_view_module_version": "1.2.0",
            "grid_template_areas": null,
            "object_position": null,
            "object_fit": null,
            "grid_auto_columns": null,
            "margin": null,
            "display": null,
            "left": null
          }
        },
        "6fe8b16268964e098d871c20196332c9": {
          "model_module": "@jupyter-widgets/controls",
          "model_name": "FloatProgressModel",
          "state": {
            "_view_name": "ProgressView",
            "style": "IPY_MODEL_40f8f9afb44a4fe5895f1acb4fd341d2",
            "_dom_classes": [],
            "description": " 75%",
            "_model_name": "FloatProgressModel",
            "bar_style": "danger",
            "max": 50000,
            "_view_module": "@jupyter-widgets/controls",
            "_model_module_version": "1.5.0",
            "value": 37627,
            "_view_count": null,
            "_view_module_version": "1.5.0",
            "orientation": "horizontal",
            "min": 0,
            "description_tooltip": null,
            "_model_module": "@jupyter-widgets/controls",
            "layout": "IPY_MODEL_89f92cbc7cac4f42ba696b352f7997cc"
          }
        },
        "371e8fdad9794f2fa256c4ab806bf9cc": {
          "model_module": "@jupyter-widgets/controls",
          "model_name": "HTMLModel",
          "state": {
            "_view_name": "HTMLView",
            "style": "IPY_MODEL_aee1a844effd4453b3ae925ac71c5189",
            "_dom_classes": [],
            "description": "",
            "_model_name": "HTMLModel",
            "placeholder": "​",
            "_view_module": "@jupyter-widgets/controls",
            "_model_module_version": "1.5.0",
            "value": " 37627/50000 [00:00&lt;00:00, 103405.48 examples/s]",
            "_view_count": null,
            "_view_module_version": "1.5.0",
            "description_tooltip": null,
            "_model_module": "@jupyter-widgets/controls",
            "layout": "IPY_MODEL_ee79dd6c1beb4b78bcfc86f2e0806e32"
          }
        },
        "40f8f9afb44a4fe5895f1acb4fd341d2": {
          "model_module": "@jupyter-widgets/controls",
          "model_name": "ProgressStyleModel",
          "state": {
            "_view_name": "StyleView",
            "_model_name": "ProgressStyleModel",
            "description_width": "initial",
            "_view_module": "@jupyter-widgets/base",
            "_model_module_version": "1.5.0",
            "_view_count": null,
            "_view_module_version": "1.2.0",
            "bar_color": null,
            "_model_module": "@jupyter-widgets/controls"
          }
        },
        "89f92cbc7cac4f42ba696b352f7997cc": {
          "model_module": "@jupyter-widgets/base",
          "model_name": "LayoutModel",
          "state": {
            "_view_name": "LayoutView",
            "grid_template_rows": null,
            "right": null,
            "justify_content": null,
            "_view_module": "@jupyter-widgets/base",
            "overflow": null,
            "_model_module_version": "1.2.0",
            "_view_count": null,
            "flex_flow": null,
            "width": null,
            "min_width": null,
            "border": null,
            "align_items": null,
            "bottom": null,
            "_model_module": "@jupyter-widgets/base",
            "top": null,
            "grid_column": null,
            "overflow_y": null,
            "overflow_x": null,
            "grid_auto_flow": null,
            "grid_area": null,
            "grid_template_columns": null,
            "flex": null,
            "_model_name": "LayoutModel",
            "justify_items": null,
            "grid_row": null,
            "max_height": null,
            "align_content": null,
            "visibility": null,
            "align_self": null,
            "height": null,
            "min_height": null,
            "padding": null,
            "grid_auto_rows": null,
            "grid_gap": null,
            "max_width": null,
            "order": null,
            "_view_module_version": "1.2.0",
            "grid_template_areas": null,
            "object_position": null,
            "object_fit": null,
            "grid_auto_columns": null,
            "margin": null,
            "display": null,
            "left": null
          }
        },
        "aee1a844effd4453b3ae925ac71c5189": {
          "model_module": "@jupyter-widgets/controls",
          "model_name": "DescriptionStyleModel",
          "state": {
            "_view_name": "StyleView",
            "_model_name": "DescriptionStyleModel",
            "description_width": "",
            "_view_module": "@jupyter-widgets/base",
            "_model_module_version": "1.5.0",
            "_view_count": null,
            "_view_module_version": "1.2.0",
            "_model_module": "@jupyter-widgets/controls"
          }
        },
        "ee79dd6c1beb4b78bcfc86f2e0806e32": {
          "model_module": "@jupyter-widgets/base",
          "model_name": "LayoutModel",
          "state": {
            "_view_name": "LayoutView",
            "grid_template_rows": null,
            "right": null,
            "justify_content": null,
            "_view_module": "@jupyter-widgets/base",
            "overflow": null,
            "_model_module_version": "1.2.0",
            "_view_count": null,
            "flex_flow": null,
            "width": null,
            "min_width": null,
            "border": null,
            "align_items": null,
            "bottom": null,
            "_model_module": "@jupyter-widgets/base",
            "top": null,
            "grid_column": null,
            "overflow_y": null,
            "overflow_x": null,
            "grid_auto_flow": null,
            "grid_area": null,
            "grid_template_columns": null,
            "flex": null,
            "_model_name": "LayoutModel",
            "justify_items": null,
            "grid_row": null,
            "max_height": null,
            "align_content": null,
            "visibility": null,
            "align_self": null,
            "height": null,
            "min_height": null,
            "padding": null,
            "grid_auto_rows": null,
            "grid_gap": null,
            "max_width": null,
            "order": null,
            "_view_module_version": "1.2.0",
            "grid_template_areas": null,
            "object_position": null,
            "object_fit": null,
            "grid_auto_columns": null,
            "margin": null,
            "display": null,
            "left": null
          }
        }
      }
    }
  },
  "cells": [
    {
      "cell_type": "code",
      "metadata": {
        "id": "aMiLKb1-oRry"
      },
      "source": [
        "import tensorflow as tf\n",
        "import numpy as np\n",
        "import os\n",
        "import re\n",
        "import string\n",
        "import random\n",
        "import time"
      ],
      "execution_count": null,
      "outputs": []
    },
    {
      "cell_type": "markdown",
      "metadata": {
        "id": "OW_uKnILJ7NZ"
      },
      "source": [
        "# (mini) BERT"
      ]
    },
    {
      "cell_type": "markdown",
      "metadata": {
        "id": "s_M6r3cq2Ywk"
      },
      "source": [
        "(Without the next sentence prediction task, and without the [CLS] AND [SEP] tokens)"
      ]
    },
    {
      "cell_type": "markdown",
      "metadata": {
        "id": "35JR3vEL47Tb"
      },
      "source": [
        "There is a MultiHeadAttention layer from Keras (but only in [tf-nightly](https://www.tensorflow.org/api_docs/python/tf/keras/layers/MultiHeadAttention)) Let's try it in this code just for fun"
      ]
    },
    {
      "cell_type": "code",
      "metadata": {
        "id": "UCA-O_eW8I7-"
      },
      "source": [
        "!pip install tf-nightly"
      ],
      "execution_count": null,
      "outputs": []
    },
    {
      "cell_type": "markdown",
      "metadata": {
        "id": "O8iY0E6TqfF1"
      },
      "source": [
        "You must restart the runtime"
      ]
    },
    {
      "cell_type": "code",
      "metadata": {
        "id": "mNM-ddwVqhFW"
      },
      "source": [
        "import tensorflow as tf\n",
        "import numpy as np\n",
        "import os\n",
        "import re\n",
        "import string\n",
        "import random\n",
        "import time"
      ],
      "execution_count": null,
      "outputs": []
    },
    {
      "cell_type": "markdown",
      "metadata": {
        "id": "Fk5ZHfw02vtO"
      },
      "source": [
        "## Preprocessing"
      ]
    },
    {
      "cell_type": "code",
      "metadata": {
        "id": "yJ3bgbUNzY2R"
      },
      "source": [
        "embedding_dims = 128\n",
        "num_heads = 8\n",
        "expanded_dims = 256\n",
        "num_layers = 1\n",
        "batch_size = 32"
      ],
      "execution_count": null,
      "outputs": []
    },
    {
      "cell_type": "code",
      "metadata": {
        "id": "aGgiA9VbF032",
        "colab": {
          "base_uri": "https://localhost:8080/",
          "height": 374,
          "referenced_widgets": [
            "dd41b5d6f0884320a28248958abf193c",
            "7034d9d136414f209c0660186e0a31e7",
            "f042443327a7444385cc5fd8d845e495",
            "1de0ffbbc6384d438d7a32856e2eabd4",
            "fa198e2fd18b4fe087e922ef881bdff5",
            "5d4ebf42edf64532b85a09055922f896",
            "bea08d6d5daf4d45a9357b0a6dd2a6bd",
            "8d6277d384664ecea87fb2c9db0ab0e9",
            "dc49267e227d44aeb40a68842d6ef624",
            "435aef29856d49419b5d3447f532e719",
            "558ebadac3ff43349a91e219fbf592cd",
            "26e0399f91e246a4b6518f79b949f71f",
            "10b59cb9618d40eeb2c175a5bd8ddcc5",
            "45e97699c20e46d983005b9c403fc090",
            "0939f32a11014ae0ac1428a4603964b2",
            "4b8dd297d4d4488c984a4258574a456d",
            "74668e45b627480cb9e0ae2c7a747e53",
            "58060c05b62a4907826779b536bf4662",
            "42c33ab8c6e745b790dec092077d40b3",
            "5a3d2f10e683458792e691f4257813b9",
            "54c0eb55fd044fd19408aa445bde754b",
            "d0e19191725d49c392361a1cc00a85db",
            "46f849f2e40c4051a1b3f850e6dec541",
            "e4a435d677694a6890d212df0adac12f",
            "da83d670b9e64ebeac4591af5d8bd585",
            "beae373f680c455ea0ed0a06ee7f0ce2",
            "629e35ce387b40abb6e2f41344d4d942",
            "0c00513a9b774c00a45b1bd39cf7c8ff",
            "bc2ec3b292cf41fb9bcccf45b4a4729d",
            "d55739714348453fb8bd0ddc010d539d",
            "e05a40833ff84a1aa1342306a5bef385",
            "355fdee3d9d74dfb9c8782c62544af5f",
            "1b3ede98ff1247e5aec6d665db2bd302",
            "51fc232ed0ef499db3dc18a7fbb5ef3a",
            "23cbff303fcc4664bfbff2d9263c6205",
            "6a2b95a6d06d4a839ee805021dcf63d4",
            "bf1631314f3940aa84fd2e16b40c1eb4",
            "873a8c05197f48baba21bafb012ca2fa",
            "e3ed518454dc461182926e48ddaf7de2",
            "92f0b477f7a148a5b18623906c4e1d7f",
            "292fbdc2013f4f1491e3f24da901f053",
            "0c89de5e14474be885a2aecb43fc6787",
            "8d08bfb0fc6b46a498c3770dd01de7f8",
            "9a0e6dbc0b924a6486fb8311ba78d155",
            "c97988f3610c4ce593bfcaf6f14ba860",
            "a32cd728b74f436d888f17edee8888d7",
            "43942e801b0e48f5b81bf21124ef7547",
            "94702640a3c24c42afe514ac0915a50d",
            "da482e930fab4a42a3400c1acd285e26",
            "ba373c739ed5496e9f30f77277905276",
            "e0048bfe885f4608b64c8c89359f347f",
            "9da884012ef84328adc46e63f13b015a",
            "81d5f039d0be45fc8b4dcd67b7f2624b",
            "a4bcdd6025124b559de70c93af823c03",
            "ed77ab1738f243a88f148d51cde58e89",
            "5792ed09ca1e41af8b67495a0a46e55c",
            "0a7b27fdc0c44555b6ec39249c94c076",
            "11d0f8ec78fa42858fb51ad7f06c3232",
            "6fe8b16268964e098d871c20196332c9",
            "371e8fdad9794f2fa256c4ab806bf9cc",
            "40f8f9afb44a4fe5895f1acb4fd341d2",
            "89f92cbc7cac4f42ba696b352f7997cc",
            "aee1a844effd4453b3ae925ac71c5189",
            "ee79dd6c1beb4b78bcfc86f2e0806e32"
          ]
        },
        "outputId": "eda53bc5-0a4f-402a-b977-aa3d3dabd263"
      },
      "source": [
        "import tensorflow_datasets as tfds\n",
        "\n",
        "imdb_data = tfds.load(\n",
        "    name=\"imdb_reviews\", \n",
        "    split='train+test', batch_size=-1)\n",
        "text_tf = imdb_data[\"text\"]"
      ],
      "execution_count": null,
      "outputs": [
        {
          "output_type": "stream",
          "text": [
            "\u001b[1mDownloading and preparing dataset imdb_reviews/plain_text/1.0.0 (download: 80.23 MiB, generated: Unknown size, total: 80.23 MiB) to /root/tensorflow_datasets/imdb_reviews/plain_text/1.0.0...\u001b[0m\n"
          ],
          "name": "stdout"
        },
        {
          "output_type": "display_data",
          "data": {
            "application/vnd.jupyter.widget-view+json": {
              "model_id": "dd41b5d6f0884320a28248958abf193c",
              "version_minor": 0,
              "version_major": 2
            },
            "text/plain": [
              "HBox(children=(FloatProgress(value=1.0, bar_style='info', description='Dl Completed...', max=1.0, style=Progre…"
            ]
          },
          "metadata": {
            "tags": []
          }
        },
        {
          "output_type": "display_data",
          "data": {
            "application/vnd.jupyter.widget-view+json": {
              "model_id": "dc49267e227d44aeb40a68842d6ef624",
              "version_minor": 0,
              "version_major": 2
            },
            "text/plain": [
              "HBox(children=(FloatProgress(value=1.0, bar_style='info', description='Dl Size...', max=1.0, style=ProgressSty…"
            ]
          },
          "metadata": {
            "tags": []
          }
        },
        {
          "output_type": "stream",
          "text": [
            "\n",
            "\n",
            "\n",
            "\n"
          ],
          "name": "stdout"
        },
        {
          "output_type": "display_data",
          "data": {
            "application/vnd.jupyter.widget-view+json": {
              "model_id": "74668e45b627480cb9e0ae2c7a747e53",
              "version_minor": 0,
              "version_major": 2
            },
            "text/plain": [
              "HBox(children=(FloatProgress(value=1.0, bar_style='info', max=1.0), HTML(value='')))"
            ]
          },
          "metadata": {
            "tags": []
          }
        },
        {
          "output_type": "stream",
          "text": [
            "\rShuffling and writing examples to /root/tensorflow_datasets/imdb_reviews/plain_text/1.0.0.incompleteN4RY9K/imdb_reviews-train.tfrecord\n"
          ],
          "name": "stdout"
        },
        {
          "output_type": "display_data",
          "data": {
            "application/vnd.jupyter.widget-view+json": {
              "model_id": "da83d670b9e64ebeac4591af5d8bd585",
              "version_minor": 0,
              "version_major": 2
            },
            "text/plain": [
              "HBox(children=(FloatProgress(value=0.0, max=25000.0), HTML(value='')))"
            ]
          },
          "metadata": {
            "tags": []
          }
        },
        {
          "output_type": "stream",
          "text": [
            "\r"
          ],
          "name": "stdout"
        },
        {
          "output_type": "display_data",
          "data": {
            "application/vnd.jupyter.widget-view+json": {
              "model_id": "1b3ede98ff1247e5aec6d665db2bd302",
              "version_minor": 0,
              "version_major": 2
            },
            "text/plain": [
              "HBox(children=(FloatProgress(value=1.0, bar_style='info', max=1.0), HTML(value='')))"
            ]
          },
          "metadata": {
            "tags": []
          }
        },
        {
          "output_type": "stream",
          "text": [
            "\rShuffling and writing examples to /root/tensorflow_datasets/imdb_reviews/plain_text/1.0.0.incompleteN4RY9K/imdb_reviews-test.tfrecord\n"
          ],
          "name": "stdout"
        },
        {
          "output_type": "display_data",
          "data": {
            "application/vnd.jupyter.widget-view+json": {
              "model_id": "292fbdc2013f4f1491e3f24da901f053",
              "version_minor": 0,
              "version_major": 2
            },
            "text/plain": [
              "HBox(children=(FloatProgress(value=0.0, max=25000.0), HTML(value='')))"
            ]
          },
          "metadata": {
            "tags": []
          }
        },
        {
          "output_type": "stream",
          "text": [
            "\r"
          ],
          "name": "stdout"
        },
        {
          "output_type": "display_data",
          "data": {
            "application/vnd.jupyter.widget-view+json": {
              "model_id": "da482e930fab4a42a3400c1acd285e26",
              "version_minor": 0,
              "version_major": 2
            },
            "text/plain": [
              "HBox(children=(FloatProgress(value=1.0, bar_style='info', max=1.0), HTML(value='')))"
            ]
          },
          "metadata": {
            "tags": []
          }
        },
        {
          "output_type": "stream",
          "text": [
            "\rShuffling and writing examples to /root/tensorflow_datasets/imdb_reviews/plain_text/1.0.0.incompleteN4RY9K/imdb_reviews-unsupervised.tfrecord\n"
          ],
          "name": "stdout"
        },
        {
          "output_type": "display_data",
          "data": {
            "application/vnd.jupyter.widget-view+json": {
              "model_id": "0a7b27fdc0c44555b6ec39249c94c076",
              "version_minor": 0,
              "version_major": 2
            },
            "text/plain": [
              "HBox(children=(FloatProgress(value=0.0, max=50000.0), HTML(value='')))"
            ]
          },
          "metadata": {
            "tags": []
          }
        },
        {
          "output_type": "stream",
          "text": [
            "WARNING:absl:Dataset is using deprecated text encoder API which will be removed soon. Please use the plain_text version of the dataset and migrate to `tensorflow_text`.\n"
          ],
          "name": "stderr"
        },
        {
          "output_type": "stream",
          "text": [
            "\u001b[1mDataset imdb_reviews downloaded and prepared to /root/tensorflow_datasets/imdb_reviews/plain_text/1.0.0. Subsequent calls will reuse this data.\u001b[0m\n",
            "\r"
          ],
          "name": "stdout"
        }
      ]
    },
    {
      "cell_type": "markdown",
      "metadata": {
        "id": "9egA1bY-8JsB"
      },
      "source": [
        "Remember how to use TextVectorization layer? Same as Lab3"
      ]
    },
    {
      "cell_type": "code",
      "metadata": {
        "id": "f3XUYM-EoPRS"
      },
      "source": [
        "from tensorflow.keras.layers.experimental.preprocessing import TextVectorization\n",
        "\n",
        "def custom_standardization(input_string):\n",
        "    lowercase = tf.strings.lower(input_string)\n",
        "    stripped_html = tf.strings.regex_replace(lowercase, \"<br />\", \" \")\n",
        "    return tf.strings.regex_replace(stripped_html,\n",
        "                                  '[%s]' % re.escape(string.punctuation), '')\n",
        "\n",
        "\n",
        "vocabulary_size = 30000  # Only consider the top 30k words\n",
        "max_len = 100 # Max sequence size\n",
        "\n",
        "vectorize_layer = TextVectorization(standardize=custom_standardization,\n",
        "                                    max_tokens=vocabulary_size,\n",
        "                                    output_mode=\"int\",\n",
        "                                    output_sequence_length=max_len,\n",
        ")\n",
        "vectorize_layer.adapt(text_tf)\n",
        "vocab = vectorize_layer.get_vocabulary()"
      ],
      "execution_count": null,
      "outputs": []
    },
    {
      "cell_type": "markdown",
      "metadata": {
        "id": "0MY-17LhqLcf"
      },
      "source": [
        "Let's add the [MASK] token and remove the [UNK]"
      ]
    },
    {
      "cell_type": "code",
      "metadata": {
        "colab": {
          "base_uri": "https://localhost:8080/"
        },
        "id": "CKUX5GJ0NmJT",
        "outputId": "5d0b1f53-73c3-4574-8eb6-fa6c591b8bd4"
      },
      "source": [
        "print(vocab[0])\n",
        "print(vocab[1])"
      ],
      "execution_count": null,
      "outputs": [
        {
          "output_type": "stream",
          "text": [
            "\n",
            "[UNK]\n"
          ],
          "name": "stdout"
        }
      ]
    },
    {
      "cell_type": "code",
      "metadata": {
        "id": "uHmY0nOfOc2i"
      },
      "source": [
        "vocab = vocab[2:-1] + [\"[mask]\"]\n",
        "vectorize_layer.set_vocabulary(vocab)\n",
        "mask_token_id = vectorize_layer([\"[mask]\"]).numpy()[0][0]"
      ],
      "execution_count": null,
      "outputs": []
    },
    {
      "cell_type": "markdown",
      "metadata": {
        "id": "GjVRNMKdyVZR"
      },
      "source": [
        "If we want to load a dataset as an array of Tensors (in memory) use batch_size=-1"
      ]
    },
    {
      "cell_type": "markdown",
      "metadata": {
        "id": "8QKKPk4-ygoC"
      },
      "source": [
        "To transform the tensor to a numpy array simply use tfds.as_numpy() function"
      ]
    },
    {
      "cell_type": "code",
      "metadata": {
        "id": "do9ly3ofx8xu"
      },
      "source": [
        "text = tfds.as_numpy(text_tf)"
      ],
      "execution_count": null,
      "outputs": []
    },
    {
      "cell_type": "markdown",
      "metadata": {
        "id": "lGB7qe5ozJhp"
      },
      "source": [
        "With numpy you can directly use the vectorize layer. It returns a tensor"
      ]
    },
    {
      "cell_type": "code",
      "metadata": {
        "id": "wb_K-0AKxiqc"
      },
      "source": [
        "text_tf = vectorize_layer(text)"
      ],
      "execution_count": null,
      "outputs": []
    },
    {
      "cell_type": "markdown",
      "metadata": {
        "id": "X7nlLgQIzNiH"
      },
      "source": [
        "Let's turn the tensor back to numpy. This time it is **not a dataset** but a simple tensor, so you can use the numpy() function"
      ]
    },
    {
      "cell_type": "code",
      "metadata": {
        "id": "A29ADlWMzC-Z"
      },
      "source": [
        "text_tokens = text_tf.numpy()"
      ],
      "execution_count": null,
      "outputs": []
    },
    {
      "cell_type": "markdown",
      "metadata": {
        "id": "1XoCHUSszsbM"
      },
      "source": [
        "Why play all the time between tensors / datasets /numpy? The best is to keep it one from the beggining, however for complex preprocessing functions, everything needs to be a tf.xxx function. Easier to work with numpy arrays:"
      ]
    },
    {
      "cell_type": "code",
      "metadata": {
        "id": "2-Ko-xiLSeFp"
      },
      "source": [
        "def get_masked_input_and_labels(encoded_texts):\n",
        "    # 15% BERT masking\n",
        "    inp_mask = np.random.rand(encoded_texts.shape[0], \n",
        "                              encoded_texts.shape[1]) < 0.15\n",
        "    # Do not mask special tokens\n",
        "    inp_mask[encoded_texts <= 2] = False\n",
        "    # Set targets to -1 by default, it means ignore\n",
        "    labels = -1 * np.ones(encoded_texts.shape, dtype=int)\n",
        "    # Set labels for masked tokens\n",
        "    labels[inp_mask] = encoded_texts[inp_mask]\n",
        "\n",
        "    # Prepare input\n",
        "    encoded_texts_masked = np.copy(encoded_texts)\n",
        "    # Set input to [MASK] which is the last token for the 90% of tokens\n",
        "    # This means leaving 10% unchanged\n",
        "    inp_mask_2mask = inp_mask & (np.random.rand(encoded_texts.shape[0], \n",
        "                                                encoded_texts.shape[1]) < 0.90)\n",
        "    encoded_texts_masked[inp_mask_2mask] = mask_token_id  # mask token is the last in the dict\n",
        "\n",
        "    # Set 10% to a random token\n",
        "    inp_mask_2random = inp_mask_2mask & (np.random.rand(encoded_texts.shape[0], \n",
        "                                                         encoded_texts.shape[1]) < 1 / 9)\n",
        "    encoded_texts_masked[inp_mask_2random] = np.random.randint(\n",
        "        3, mask_token_id, inp_mask_2random.sum()\n",
        "    )\n",
        "\n",
        "    # Prepare sample_weights to pass to loss function\n",
        "    sample_weights = np.ones(labels.shape)\n",
        "    sample_weights[labels == -1] = 0\n",
        "\n",
        "    # y_labels would be same as encoded_texts i.e input tokens\n",
        "    y_labels = np.copy(encoded_texts)\n",
        "\n",
        "    return encoded_texts_masked, y_labels, sample_weights\n",
        "\n",
        "x_masked_train, y_masked_labels, sample_weights = get_masked_input_and_labels(text_tokens)"
      ],
      "execution_count": null,
      "outputs": []
    },
    {
      "cell_type": "markdown",
      "metadata": {
        "id": "Xp1r12ep0X8x"
      },
      "source": [
        "Let's bring it back to a Dataset! A nice (but complex) task would be to stay in Dataset from the beginning and transform the get_masked_input_and_labels to a tf function (without numpy operations!) otherwise you can keep the function as it is BUT you need to add a decorator and an [extra function] (https://www.tensorflow.org/api_docs/python/tf/numpy_function).\n",
        "\n",
        "If the dataset is bigger than memory, you NEED to use only dataset operations."
      ]
    },
    {
      "cell_type": "code",
      "metadata": {
        "id": "cPUyGPWY0Dks"
      },
      "source": [
        "mlm_ds = tf.data.Dataset.from_tensor_slices(\n",
        "    (x_masked_train, y_masked_labels, sample_weights)\n",
        ")\n",
        "mlm_ds = mlm_ds.shuffle(1000).batch(batch_size)"
      ],
      "execution_count": null,
      "outputs": []
    },
    {
      "cell_type": "markdown",
      "metadata": {
        "id": "r89_VDEi2uAz"
      },
      "source": [
        "## Modeling"
      ]
    },
    {
      "cell_type": "markdown",
      "metadata": {
        "id": "dmO6GvXgt2BV"
      },
      "source": [
        "Same functions as last lab!"
      ]
    },
    {
      "cell_type": "code",
      "metadata": {
        "id": "TDRv6gLYdmo6"
      },
      "source": [
        "def pointwise_ffn(embedding_dims, expanded_dims):\n",
        "  return tf.keras.Sequential([\n",
        "      tf.keras.layers.Dense(expanded_dims, activation='relu'),  \n",
        "      tf.keras.layers.Dense(embedding_dims)  \n",
        "  ])"
      ],
      "execution_count": null,
      "outputs": []
    },
    {
      "cell_type": "code",
      "metadata": {
        "id": "tmiKRt7TDG8C"
      },
      "source": [
        "def get_angles(pos, i, d_model):\n",
        "  angle_rates = 1 / np.power(10000, (2 * (i//2)) / np.float32(d_model))\n",
        "  return pos * angle_rates"
      ],
      "execution_count": null,
      "outputs": []
    },
    {
      "cell_type": "code",
      "metadata": {
        "id": "orPJqy57DHZz"
      },
      "source": [
        "def positional_encoding(position, dimensions):\n",
        "  angle_rads = get_angles(np.arange(position)[:, np.newaxis],\n",
        "                          np.arange(dimensions)[np.newaxis, :],\n",
        "                          dimensions)\n",
        "  \n",
        "  # apply sin to even indices in the array; 2i\n",
        "  angle_rads[:, 0::2] = np.sin(angle_rads[:, 0::2])\n",
        "  \n",
        "  # apply cos to odd indices in the array; 2i+1\n",
        "  angle_rads[:, 1::2] = np.cos(angle_rads[:, 1::2])\n",
        "    \n",
        "  pos_encoding = angle_rads[np.newaxis, ...]\n",
        "    \n",
        "  return tf.cast(pos_encoding, dtype=tf.float32)"
      ],
      "execution_count": null,
      "outputs": []
    },
    {
      "cell_type": "markdown",
      "metadata": {
        "id": "Rx8QSjzut_OG"
      },
      "source": [
        "Introduce the BertLayer (Equivalent to the EncoderLayer from the Transformer)"
      ]
    },
    {
      "cell_type": "code",
      "metadata": {
        "id": "9X7KIgw6dRTY"
      },
      "source": [
        "class BertLayer(tf.keras.layers.Layer):\n",
        "  def __init__(self, embedding_dims, num_heads, expanding_dims, rate=0.1):\n",
        "    super().__init__()\n",
        "\n",
        "    self.mha = tf.keras.layers.MultiHeadAttention(\n",
        "        num_heads=num_heads,\n",
        "        key_dim= embedding_dims // num_heads, # we called it depth in our tutorial\n",
        "    )\n",
        "    self.dropout1 = tf.keras.layers.Dropout(rate)\n",
        "    self.layernorm1 = tf.keras.layers.LayerNormalization(epsilon=1e-6)\n",
        "\n",
        "    self.ffn = pointwise_ffn(embedding_dims, expanding_dims)\n",
        "    self.dropout2 = tf.keras.layers.Dropout(rate)\n",
        "    self.layernorm2 = tf.keras.layers.LayerNormalization(epsilon=1e-6)\n",
        "\n",
        "  def call(self, x, training):\n",
        "\n",
        "    attn_output = self.mha(x, x, x)  \n",
        "    attn_output = self.dropout1(attn_output, training=training)\n",
        "    out1 = self.layernorm1(x + attn_output)  \n",
        "    \n",
        "    ffn_output = self.ffn(out1) \n",
        "    ffn_output = self.dropout2(ffn_output, training=training)\n",
        "    out2 = self.layernorm2(out1 + ffn_output)   # (batch_size, input_seq_len, embedding_dims)\n",
        "    \n",
        "    return out2"
      ],
      "execution_count": null,
      "outputs": []
    },
    {
      "cell_type": "markdown",
      "metadata": {
        "id": "gNRvTp82uGud"
      },
      "source": [
        "Almost identical to the Encoder in the Transformer from last week. Only difference is that the output is not the encoder embedding, but it goes through a Dense final layer"
      ]
    },
    {
      "cell_type": "code",
      "metadata": {
        "id": "gh2RhOZSbkfg"
      },
      "source": [
        "class Bert(tf.keras.Model):\n",
        "  def __init__(self, num_layers, embedding_dims, num_heads, expanded_dims, vocabulary_size, rate=0.1):\n",
        "    super().__init__()\n",
        "    self.embedding_dims = embedding_dims\n",
        "    self.num_layers = num_layers\n",
        "    self.embedding = tf.keras.layers.Embedding(vocabulary_size, embedding_dims)\n",
        "    self.pos_encoding = positional_encoding(max_len, embedding_dims)\n",
        "    self.bert_layers = [BertLayer(embedding_dims, num_heads, expanded_dims, rate) \n",
        "                       for i in range(num_layers)]\n",
        "    self.mlm_output = tf.keras.layers.Dense(vocabulary_size, activation=\"softmax\")\n",
        "    \n",
        "  def call(self, input, training):\n",
        "\n",
        "    encoder_output = self.embedding(input) + self.pos_encoding\n",
        "    \n",
        "    for i in range(self.num_layers):\n",
        "        encoder_output = self.bert_layers[i](encoder_output, training)\n",
        "\n",
        "    final_output = self.mlm_output(encoder_output)\n",
        "    \n",
        "    return final_output\n",
        "\n",
        "bert = Bert(num_layers, embedding_dims, num_heads, expanded_dims, vocabulary_size)"
      ],
      "execution_count": null,
      "outputs": []
    },
    {
      "cell_type": "code",
      "metadata": {
        "id": "lKOCV6gRhNZf"
      },
      "source": [
        "loss_function = tf.keras.losses.SparseCategoricalCrossentropy()\n",
        "optimizer = tf.keras.optimizers.Adam(0.001)"
      ],
      "execution_count": null,
      "outputs": []
    },
    {
      "cell_type": "markdown",
      "metadata": {
        "id": "LmsV5nx_v3Dg"
      },
      "source": [
        "Using the sample weights in the loss is waay simpler than what we did in the lab 5 and 7 where we created the mask ourselves with zeros and ones. However, more work in the preprocessing step. Your choice!"
      ]
    },
    {
      "cell_type": "code",
      "metadata": {
        "id": "YezHbg-z5w6d",
        "colab": {
          "base_uri": "https://localhost:8080/"
        },
        "outputId": "0502d551-764e-4d24-9570-a98a4bc39bb0"
      },
      "source": [
        "EPOCHS = 4\n",
        "steps_per_epoch = len(text) // batch_size\n",
        "\n",
        "for epoch in range(EPOCHS):\n",
        "  start = time.time()\n",
        "  epoch_loss = 0\n",
        "\n",
        "  for (batch, (input, labels, weights)) in enumerate(mlm_ds.take(steps_per_epoch)):\n",
        "    \n",
        "      with tf.GradientTape() as tape:\n",
        "          predictions = bert(input, training=True)\n",
        "          batch_loss = loss_function(labels, predictions, sample_weight=weights)\n",
        "\n",
        "\n",
        "      gradients = tape.gradient(batch_loss, bert.trainable_variables)    \n",
        "      optimizer.apply_gradients(zip(gradients, bert.trainable_variables))\n",
        "      epoch_loss += batch_loss  \n",
        "\n",
        "      if batch % 30 == 0:\n",
        "        print (f'Epoch {epoch + 1} Batch {batch} Loss {batch_loss.numpy()}')\n",
        "    \n",
        "  print ('Epoch {} Loss {:.4f}'.format(epoch + 1, \n",
        "                                                epoch_loss / steps_per_epoch))\n",
        "\n",
        "  print ('Time taken for 1 epoch: {} secs\\n'.format(time.time() - start))"
      ],
      "execution_count": null,
      "outputs": [
        {
          "output_type": "stream",
          "text": [
            "Epoch 1 Batch 0 Loss 1.3119986057281494\n",
            "Epoch 1 Batch 30 Loss 1.0304683446884155\n",
            "Epoch 1 Batch 60 Loss 0.893552839756012\n",
            "Epoch 1 Batch 90 Loss 0.964191198348999\n",
            "Epoch 1 Batch 120 Loss 0.9507972598075867\n",
            "Epoch 1 Batch 150 Loss 1.0428802967071533\n",
            "Epoch 1 Batch 180 Loss 0.9928719401359558\n",
            "Epoch 1 Batch 210 Loss 1.0061718225479126\n",
            "Epoch 1 Batch 240 Loss 0.9237513542175293\n",
            "Epoch 1 Batch 270 Loss 0.9374967813491821\n",
            "Epoch 1 Batch 300 Loss 1.0467067956924438\n",
            "Epoch 1 Batch 330 Loss 1.0524653196334839\n",
            "Epoch 1 Batch 360 Loss 0.9583702087402344\n",
            "Epoch 1 Batch 390 Loss 1.003765344619751\n",
            "Epoch 1 Batch 420 Loss 0.8757596015930176\n",
            "Epoch 1 Batch 450 Loss 0.9699009656906128\n",
            "Epoch 1 Batch 480 Loss 0.9271793961524963\n",
            "Epoch 1 Batch 510 Loss 1.000502109527588\n",
            "Epoch 1 Batch 540 Loss 0.9517737030982971\n",
            "Epoch 1 Batch 570 Loss 0.9355146884918213\n",
            "Epoch 1 Batch 600 Loss 0.8446342349052429\n",
            "Epoch 1 Batch 630 Loss 0.9135710000991821\n",
            "Epoch 1 Batch 660 Loss 0.8232740759849548\n",
            "Epoch 1 Batch 690 Loss 0.9487752318382263\n",
            "Epoch 1 Batch 720 Loss 0.9437763690948486\n",
            "Epoch 1 Batch 750 Loss 1.0062153339385986\n",
            "Epoch 1 Batch 780 Loss 1.038191556930542\n",
            "Epoch 1 Batch 810 Loss 0.943596601486206\n",
            "Epoch 1 Batch 840 Loss 0.9349731206893921\n",
            "Epoch 1 Batch 870 Loss 0.8268826007843018\n",
            "Epoch 1 Batch 900 Loss 0.9841315746307373\n",
            "Epoch 1 Batch 930 Loss 0.9267224669456482\n",
            "Epoch 1 Batch 960 Loss 0.9700679183006287\n",
            "Epoch 1 Batch 990 Loss 0.9388738870620728\n",
            "Epoch 1 Batch 1020 Loss 0.8996394872665405\n",
            "Epoch 1 Batch 1050 Loss 0.9107884168624878\n",
            "Epoch 1 Batch 1080 Loss 0.8689977526664734\n",
            "Epoch 1 Batch 1110 Loss 0.9936403632164001\n",
            "Epoch 1 Batch 1140 Loss 0.9125790596008301\n",
            "Epoch 1 Batch 1170 Loss 0.9030159115791321\n",
            "Epoch 1 Batch 1200 Loss 0.9743165373802185\n",
            "Epoch 1 Batch 1230 Loss 0.8236949443817139\n",
            "Epoch 1 Batch 1260 Loss 0.9422208666801453\n",
            "Epoch 1 Batch 1290 Loss 0.8965299725532532\n",
            "Epoch 1 Batch 1320 Loss 0.907835841178894\n",
            "Epoch 1 Batch 1350 Loss 0.9515053033828735\n",
            "Epoch 1 Batch 1380 Loss 0.9579752087593079\n",
            "Epoch 1 Batch 1410 Loss 0.9449903964996338\n",
            "Epoch 1 Batch 1440 Loss 0.8121272921562195\n",
            "Epoch 1 Batch 1470 Loss 0.9614903330802917\n",
            "Epoch 1 Batch 1500 Loss 0.8806288242340088\n",
            "Epoch 1 Batch 1530 Loss 0.870009183883667\n",
            "Epoch 1 Batch 1560 Loss 0.837177574634552\n",
            "Epoch 1 Loss 0.9283\n",
            "Time taken for 1 epoch: 4311.572710752487 secs\n",
            "\n",
            "Epoch 2 Batch 0 Loss 0.8967161774635315\n",
            "Epoch 2 Batch 30 Loss 0.9011021256446838\n",
            "Epoch 2 Batch 60 Loss 0.8410527110099792\n",
            "Epoch 2 Batch 90 Loss 0.9588776230812073\n",
            "Epoch 2 Batch 120 Loss 0.9531776905059814\n",
            "Epoch 2 Batch 150 Loss 0.9440571665763855\n",
            "Epoch 2 Batch 180 Loss 0.8568646907806396\n",
            "Epoch 2 Batch 210 Loss 0.8943254947662354\n",
            "Epoch 2 Batch 240 Loss 0.8259225487709045\n",
            "Epoch 2 Batch 270 Loss 0.8774882555007935\n",
            "Epoch 2 Batch 300 Loss 0.8242612481117249\n",
            "Epoch 2 Batch 330 Loss 0.8490407466888428\n",
            "Epoch 2 Batch 360 Loss 0.887298583984375\n",
            "Epoch 2 Batch 390 Loss 0.8945199847221375\n",
            "Epoch 2 Batch 420 Loss 0.865832507610321\n",
            "Epoch 2 Batch 450 Loss 0.8177564144134521\n",
            "Epoch 2 Batch 480 Loss 0.8270934820175171\n",
            "Epoch 2 Batch 510 Loss 0.7663241624832153\n",
            "Epoch 2 Batch 540 Loss 0.80327969789505\n",
            "Epoch 2 Batch 570 Loss 0.7935766577720642\n",
            "Epoch 2 Batch 600 Loss 0.7567324638366699\n",
            "Epoch 2 Batch 630 Loss 0.8164868950843811\n",
            "Epoch 2 Batch 660 Loss 0.8751797676086426\n",
            "Epoch 2 Batch 690 Loss 0.8729221820831299\n",
            "Epoch 2 Batch 720 Loss 0.9203395247459412\n",
            "Epoch 2 Batch 750 Loss 0.8159658312797546\n",
            "Epoch 2 Batch 780 Loss 0.8739593029022217\n",
            "Epoch 2 Batch 810 Loss 0.8223831057548523\n",
            "Epoch 2 Batch 840 Loss 0.8825845122337341\n",
            "Epoch 2 Batch 870 Loss 0.8270930647850037\n",
            "Epoch 2 Batch 900 Loss 0.9591773748397827\n",
            "Epoch 2 Batch 930 Loss 0.8278073668479919\n",
            "Epoch 2 Batch 960 Loss 0.7725845575332642\n",
            "Epoch 2 Batch 990 Loss 0.8860058784484863\n",
            "Epoch 2 Batch 1020 Loss 0.8502517938613892\n",
            "Epoch 2 Batch 1050 Loss 0.8096104264259338\n",
            "Epoch 2 Batch 1080 Loss 0.7256448864936829\n",
            "Epoch 2 Batch 1110 Loss 0.8022788763046265\n",
            "Epoch 2 Batch 1140 Loss 0.8601722717285156\n",
            "Epoch 2 Batch 1170 Loss 0.7640525102615356\n",
            "Epoch 2 Batch 1200 Loss 0.8440170288085938\n",
            "Epoch 2 Batch 1230 Loss 0.8211471438407898\n",
            "Epoch 2 Batch 1260 Loss 0.8201368451118469\n",
            "Epoch 2 Batch 1290 Loss 0.7645672559738159\n",
            "Epoch 2 Batch 1320 Loss 0.8217384815216064\n",
            "Epoch 2 Batch 1350 Loss 0.8366641402244568\n",
            "Epoch 2 Batch 1380 Loss 0.7660403251647949\n",
            "Epoch 2 Batch 1410 Loss 0.7468872666358948\n",
            "Epoch 2 Batch 1440 Loss 0.793694257736206\n",
            "Epoch 2 Batch 1470 Loss 0.7504550814628601\n",
            "Epoch 2 Batch 1500 Loss 0.7500866651535034\n",
            "Epoch 2 Batch 1530 Loss 0.7928497791290283\n",
            "Epoch 2 Batch 1560 Loss 0.7667829394340515\n",
            "Epoch 2 Loss 0.8274\n",
            "Time taken for 1 epoch: 4480.293035984039 secs\n",
            "\n",
            "Epoch 3 Batch 0 Loss 0.8006948232650757\n",
            "Epoch 3 Batch 30 Loss 0.6948474049568176\n",
            "Epoch 3 Batch 60 Loss 0.6904367208480835\n",
            "Epoch 3 Batch 90 Loss 0.7636268138885498\n",
            "Epoch 3 Batch 120 Loss 0.835317075252533\n",
            "Epoch 3 Batch 150 Loss 0.7520223259925842\n",
            "Epoch 3 Batch 180 Loss 0.727700412273407\n",
            "Epoch 3 Batch 210 Loss 0.7261191010475159\n",
            "Epoch 3 Batch 240 Loss 0.7688102722167969\n",
            "Epoch 3 Batch 270 Loss 0.7279466390609741\n",
            "Epoch 3 Batch 300 Loss 0.7829709053039551\n",
            "Epoch 3 Batch 330 Loss 0.7109243869781494\n",
            "Epoch 3 Batch 360 Loss 0.7268499732017517\n",
            "Epoch 3 Batch 390 Loss 0.7052505612373352\n",
            "Epoch 3 Batch 420 Loss 0.7116153240203857\n",
            "Epoch 3 Batch 450 Loss 0.776934802532196\n",
            "Epoch 3 Batch 480 Loss 0.7150705456733704\n",
            "Epoch 3 Batch 510 Loss 0.7358598113059998\n",
            "Epoch 3 Batch 540 Loss 0.7981913089752197\n",
            "Epoch 3 Batch 570 Loss 0.7105568051338196\n",
            "Epoch 3 Batch 600 Loss 0.7768557667732239\n",
            "Epoch 3 Batch 630 Loss 0.6499012112617493\n",
            "Epoch 3 Batch 660 Loss 0.7678605914115906\n",
            "Epoch 3 Batch 690 Loss 0.678840160369873\n",
            "Epoch 3 Batch 720 Loss 0.7264555096626282\n",
            "Epoch 3 Batch 750 Loss 0.6993911862373352\n",
            "Epoch 3 Batch 780 Loss 0.7008721828460693\n",
            "Epoch 3 Batch 810 Loss 0.776213526725769\n",
            "Epoch 3 Batch 840 Loss 0.6873874664306641\n",
            "Epoch 3 Batch 870 Loss 0.7136003375053406\n",
            "Epoch 3 Batch 900 Loss 0.7264745831489563\n",
            "Epoch 3 Batch 930 Loss 0.7421841621398926\n",
            "Epoch 3 Batch 960 Loss 0.6804054975509644\n",
            "Epoch 3 Batch 990 Loss 0.7238799929618835\n",
            "Epoch 3 Batch 1020 Loss 0.7522634267807007\n",
            "Epoch 3 Batch 1050 Loss 0.74932461977005\n",
            "Epoch 3 Batch 1080 Loss 0.7870492339134216\n",
            "Epoch 3 Batch 1110 Loss 0.7479960918426514\n",
            "Epoch 3 Batch 1140 Loss 0.6574674844741821\n",
            "Epoch 3 Batch 1170 Loss 0.7117767333984375\n",
            "Epoch 3 Batch 1200 Loss 0.6386545896530151\n",
            "Epoch 3 Batch 1230 Loss 0.7390608787536621\n",
            "Epoch 3 Batch 1260 Loss 0.707505464553833\n",
            "Epoch 3 Batch 1290 Loss 0.6344790458679199\n",
            "Epoch 3 Batch 1320 Loss 0.721449613571167\n",
            "Epoch 3 Batch 1350 Loss 0.7627250552177429\n",
            "Epoch 3 Batch 1380 Loss 0.7547517418861389\n",
            "Epoch 3 Batch 1410 Loss 0.7221246361732483\n",
            "Epoch 3 Batch 1440 Loss 0.6990700364112854\n",
            "Epoch 3 Batch 1470 Loss 0.6929932236671448\n",
            "Epoch 3 Batch 1500 Loss 0.6481393575668335\n",
            "Epoch 3 Batch 1530 Loss 0.6071240305900574\n",
            "Epoch 3 Batch 1560 Loss 0.7493090033531189\n",
            "Epoch 3 Loss 0.7237\n",
            "Time taken for 1 epoch: 4421.791863918304 secs\n",
            "\n",
            "Epoch 4 Batch 0 Loss 0.6784889101982117\n",
            "Epoch 4 Batch 30 Loss 0.6391963362693787\n",
            "Epoch 4 Batch 60 Loss 0.6650583148002625\n",
            "Epoch 4 Batch 90 Loss 0.6875292062759399\n",
            "Epoch 4 Batch 120 Loss 0.6887621879577637\n",
            "Epoch 4 Batch 150 Loss 0.7410308122634888\n",
            "Epoch 4 Batch 180 Loss 0.7308014035224915\n",
            "Epoch 4 Batch 210 Loss 0.7133426070213318\n",
            "Epoch 4 Batch 240 Loss 0.6372418403625488\n",
            "Epoch 4 Batch 270 Loss 0.6849251389503479\n",
            "Epoch 4 Batch 300 Loss 0.6065523624420166\n",
            "Epoch 4 Batch 330 Loss 0.6605427265167236\n",
            "Epoch 4 Batch 360 Loss 0.6721007823944092\n",
            "Epoch 4 Batch 390 Loss 0.6101040840148926\n",
            "Epoch 4 Batch 420 Loss 0.6228845119476318\n",
            "Epoch 4 Batch 450 Loss 0.6931977868080139\n",
            "Epoch 4 Batch 480 Loss 0.6566963791847229\n",
            "Epoch 4 Batch 510 Loss 0.6682476997375488\n",
            "Epoch 4 Batch 540 Loss 0.622585654258728\n",
            "Epoch 4 Batch 570 Loss 0.6613333821296692\n",
            "Epoch 4 Batch 600 Loss 0.690507173538208\n",
            "Epoch 4 Batch 630 Loss 0.6627958416938782\n",
            "Epoch 4 Batch 660 Loss 0.7106561064720154\n",
            "Epoch 4 Batch 690 Loss 0.6847000122070312\n",
            "Epoch 4 Batch 720 Loss 0.6596670746803284\n",
            "Epoch 4 Batch 750 Loss 0.6724499464035034\n",
            "Epoch 4 Batch 780 Loss 0.636605441570282\n",
            "Epoch 4 Batch 810 Loss 0.6568979024887085\n",
            "Epoch 4 Batch 840 Loss 0.6882176995277405\n",
            "Epoch 4 Batch 870 Loss 0.6586439609527588\n",
            "Epoch 4 Batch 900 Loss 0.6501438617706299\n",
            "Epoch 4 Batch 930 Loss 0.5968873500823975\n",
            "Epoch 4 Batch 960 Loss 0.730867326259613\n",
            "Epoch 4 Batch 990 Loss 0.6968121528625488\n",
            "Epoch 4 Batch 1020 Loss 0.648813784122467\n",
            "Epoch 4 Batch 1050 Loss 0.6817430257797241\n",
            "Epoch 4 Batch 1080 Loss 0.6576340198516846\n",
            "Epoch 4 Batch 1110 Loss 0.664732038974762\n",
            "Epoch 4 Batch 1140 Loss 0.730400025844574\n",
            "Epoch 4 Batch 1170 Loss 0.6050782799720764\n",
            "Epoch 4 Batch 1200 Loss 0.6145194172859192\n",
            "Epoch 4 Batch 1230 Loss 0.7123677134513855\n",
            "Epoch 4 Batch 1260 Loss 0.6600834131240845\n",
            "Epoch 4 Batch 1290 Loss 0.6680047512054443\n",
            "Epoch 4 Batch 1320 Loss 0.6407132744789124\n",
            "Epoch 4 Batch 1350 Loss 0.6906923651695251\n",
            "Epoch 4 Batch 1380 Loss 0.6434960961341858\n",
            "Epoch 4 Batch 1410 Loss 0.6513444781303406\n",
            "Epoch 4 Batch 1440 Loss 0.6949381828308105\n",
            "Epoch 4 Batch 1470 Loss 0.72752845287323\n",
            "Epoch 4 Batch 1500 Loss 0.6281454563140869\n",
            "Epoch 4 Batch 1530 Loss 0.6010081768035889\n",
            "Epoch 4 Batch 1560 Loss 0.6450909376144409\n",
            "Epoch 4 Loss 0.6657\n",
            "Time taken for 1 epoch: 4368.70733165741 secs\n",
            "\n"
          ],
          "name": "stdout"
        }
      ]
    },
    {
      "cell_type": "code",
      "metadata": {
        "id": "qo5bYV6g62Cb"
      },
      "source": [
        "sentence = \"I have watched this [mask] and it was awesome\"\n",
        "sample_tokens = vectorize_layer([sentence])"
      ],
      "execution_count": null,
      "outputs": []
    },
    {
      "cell_type": "code",
      "metadata": {
        "id": "m3VPQwlX65LW"
      },
      "source": [
        "prediction = bert.predict(sample_tokens)"
      ],
      "execution_count": null,
      "outputs": []
    },
    {
      "cell_type": "code",
      "metadata": {
        "id": "F2DY_f_57En3"
      },
      "source": [
        "masked_index = np.where(sample_tokens == mask_token_id)\n",
        "masked_index = masked_index[1]\n",
        "mask_prediction = prediction[0][masked_index]"
      ],
      "execution_count": null,
      "outputs": []
    },
    {
      "cell_type": "code",
      "metadata": {
        "id": "iQNx75or7n0D"
      },
      "source": [
        "top_indices = mask_prediction[0].argsort()[-5 :][::-1]"
      ],
      "execution_count": null,
      "outputs": []
    },
    {
      "cell_type": "code",
      "metadata": {
        "id": "FLaEl-XE-2Qh"
      },
      "source": [
        "id2token = dict(enumerate(vectorize_layer.get_vocabulary()))"
      ],
      "execution_count": null,
      "outputs": []
    },
    {
      "cell_type": "code",
      "metadata": {
        "colab": {
          "base_uri": "https://localhost:8080/"
        },
        "id": "f_rbMn6B_OZA",
        "outputId": "9d17cf67-5b34-414a-83f1-2bd0b793406c"
      },
      "source": [
        "for t in top_indices:\n",
        "    print(id2token[t])"
      ],
      "execution_count": null,
      "outputs": [
        {
          "output_type": "stream",
          "text": [
            "movie\n",
            "film\n",
            "one\n",
            "show\n",
            "review\n"
          ],
          "name": "stdout"
        }
      ]
    }
  ]
}