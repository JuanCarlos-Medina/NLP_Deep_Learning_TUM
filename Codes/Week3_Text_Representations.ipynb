{
  "nbformat": 4,
  "nbformat_minor": 0,
  "metadata": {
    "colab": {
      "name": "Week3_Text_Representations.ipynb",
      "provenance": [],
      "collapsed_sections": [],
      "toc_visible": true
    },
    "kernelspec": {
      "name": "python3",
      "display_name": "Python 3"
    },
    "widgets": {
      "application/vnd.jupyter.widget-state+json": {
        "e64bf8b1d4404620912afebf023acfbd": {
          "model_module": "@jupyter-widgets/controls",
          "model_name": "HBoxModel",
          "state": {
            "_view_name": "HBoxView",
            "_dom_classes": [],
            "_model_name": "HBoxModel",
            "_view_module": "@jupyter-widgets/controls",
            "_model_module_version": "1.5.0",
            "_view_count": null,
            "_view_module_version": "1.5.0",
            "box_style": "",
            "layout": "IPY_MODEL_ac7c3e985932428aa7ba512d003610c5",
            "_model_module": "@jupyter-widgets/controls",
            "children": [
              "IPY_MODEL_3871f964b3734ed7995865d6ef5264aa",
              "IPY_MODEL_8a4fc14769c14e9fabdec8c688fffcaa"
            ]
          }
        },
        "ac7c3e985932428aa7ba512d003610c5": {
          "model_module": "@jupyter-widgets/base",
          "model_name": "LayoutModel",
          "state": {
            "_view_name": "LayoutView",
            "grid_template_rows": null,
            "right": null,
            "justify_content": null,
            "_view_module": "@jupyter-widgets/base",
            "overflow": null,
            "_model_module_version": "1.2.0",
            "_view_count": null,
            "flex_flow": null,
            "width": null,
            "min_width": null,
            "border": null,
            "align_items": null,
            "bottom": null,
            "_model_module": "@jupyter-widgets/base",
            "top": null,
            "grid_column": null,
            "overflow_y": null,
            "overflow_x": null,
            "grid_auto_flow": null,
            "grid_area": null,
            "grid_template_columns": null,
            "flex": null,
            "_model_name": "LayoutModel",
            "justify_items": null,
            "grid_row": null,
            "max_height": null,
            "align_content": null,
            "visibility": null,
            "align_self": null,
            "height": null,
            "min_height": null,
            "padding": null,
            "grid_auto_rows": null,
            "grid_gap": null,
            "max_width": null,
            "order": null,
            "_view_module_version": "1.2.0",
            "grid_template_areas": null,
            "object_position": null,
            "object_fit": null,
            "grid_auto_columns": null,
            "margin": null,
            "display": null,
            "left": null
          }
        },
        "3871f964b3734ed7995865d6ef5264aa": {
          "model_module": "@jupyter-widgets/controls",
          "model_name": "FloatProgressModel",
          "state": {
            "_view_name": "ProgressView",
            "style": "IPY_MODEL_f1cff2b1ec9046fd81c0c2c39df9ff51",
            "_dom_classes": [],
            "description": "Dl Completed...: 100%",
            "_model_name": "FloatProgressModel",
            "bar_style": "success",
            "max": 1,
            "_view_module": "@jupyter-widgets/controls",
            "_model_module_version": "1.5.0",
            "value": 1,
            "_view_count": null,
            "_view_module_version": "1.5.0",
            "orientation": "horizontal",
            "min": 0,
            "description_tooltip": null,
            "_model_module": "@jupyter-widgets/controls",
            "layout": "IPY_MODEL_edabe13e812c4c439bca81be5bea8b04"
          }
        },
        "8a4fc14769c14e9fabdec8c688fffcaa": {
          "model_module": "@jupyter-widgets/controls",
          "model_name": "HTMLModel",
          "state": {
            "_view_name": "HTMLView",
            "style": "IPY_MODEL_70ad3b4f18a8456296f47faad39dcb27",
            "_dom_classes": [],
            "description": "",
            "_model_name": "HTMLModel",
            "placeholder": "​",
            "_view_module": "@jupyter-widgets/controls",
            "_model_module_version": "1.5.0",
            "value": " 1/1 [03:22&lt;00:00, 202.11s/ url]",
            "_view_count": null,
            "_view_module_version": "1.5.0",
            "description_tooltip": null,
            "_model_module": "@jupyter-widgets/controls",
            "layout": "IPY_MODEL_2cdbdf50ee084efbaa4f8f053403e8ab"
          }
        },
        "f1cff2b1ec9046fd81c0c2c39df9ff51": {
          "model_module": "@jupyter-widgets/controls",
          "model_name": "ProgressStyleModel",
          "state": {
            "_view_name": "StyleView",
            "_model_name": "ProgressStyleModel",
            "description_width": "initial",
            "_view_module": "@jupyter-widgets/base",
            "_model_module_version": "1.5.0",
            "_view_count": null,
            "_view_module_version": "1.2.0",
            "bar_color": null,
            "_model_module": "@jupyter-widgets/controls"
          }
        },
        "edabe13e812c4c439bca81be5bea8b04": {
          "model_module": "@jupyter-widgets/base",
          "model_name": "LayoutModel",
          "state": {
            "_view_name": "LayoutView",
            "grid_template_rows": null,
            "right": null,
            "justify_content": null,
            "_view_module": "@jupyter-widgets/base",
            "overflow": null,
            "_model_module_version": "1.2.0",
            "_view_count": null,
            "flex_flow": null,
            "width": null,
            "min_width": null,
            "border": null,
            "align_items": null,
            "bottom": null,
            "_model_module": "@jupyter-widgets/base",
            "top": null,
            "grid_column": null,
            "overflow_y": null,
            "overflow_x": null,
            "grid_auto_flow": null,
            "grid_area": null,
            "grid_template_columns": null,
            "flex": null,
            "_model_name": "LayoutModel",
            "justify_items": null,
            "grid_row": null,
            "max_height": null,
            "align_content": null,
            "visibility": null,
            "align_self": null,
            "height": null,
            "min_height": null,
            "padding": null,
            "grid_auto_rows": null,
            "grid_gap": null,
            "max_width": null,
            "order": null,
            "_view_module_version": "1.2.0",
            "grid_template_areas": null,
            "object_position": null,
            "object_fit": null,
            "grid_auto_columns": null,
            "margin": null,
            "display": null,
            "left": null
          }
        },
        "70ad3b4f18a8456296f47faad39dcb27": {
          "model_module": "@jupyter-widgets/controls",
          "model_name": "DescriptionStyleModel",
          "state": {
            "_view_name": "StyleView",
            "_model_name": "DescriptionStyleModel",
            "description_width": "",
            "_view_module": "@jupyter-widgets/base",
            "_model_module_version": "1.5.0",
            "_view_count": null,
            "_view_module_version": "1.2.0",
            "_model_module": "@jupyter-widgets/controls"
          }
        },
        "2cdbdf50ee084efbaa4f8f053403e8ab": {
          "model_module": "@jupyter-widgets/base",
          "model_name": "LayoutModel",
          "state": {
            "_view_name": "LayoutView",
            "grid_template_rows": null,
            "right": null,
            "justify_content": null,
            "_view_module": "@jupyter-widgets/base",
            "overflow": null,
            "_model_module_version": "1.2.0",
            "_view_count": null,
            "flex_flow": null,
            "width": null,
            "min_width": null,
            "border": null,
            "align_items": null,
            "bottom": null,
            "_model_module": "@jupyter-widgets/base",
            "top": null,
            "grid_column": null,
            "overflow_y": null,
            "overflow_x": null,
            "grid_auto_flow": null,
            "grid_area": null,
            "grid_template_columns": null,
            "flex": null,
            "_model_name": "LayoutModel",
            "justify_items": null,
            "grid_row": null,
            "max_height": null,
            "align_content": null,
            "visibility": null,
            "align_self": null,
            "height": null,
            "min_height": null,
            "padding": null,
            "grid_auto_rows": null,
            "grid_gap": null,
            "max_width": null,
            "order": null,
            "_view_module_version": "1.2.0",
            "grid_template_areas": null,
            "object_position": null,
            "object_fit": null,
            "grid_auto_columns": null,
            "margin": null,
            "display": null,
            "left": null
          }
        },
        "a7273f3e1b29483aa851e65e91a1295a": {
          "model_module": "@jupyter-widgets/controls",
          "model_name": "HBoxModel",
          "state": {
            "_view_name": "HBoxView",
            "_dom_classes": [],
            "_model_name": "HBoxModel",
            "_view_module": "@jupyter-widgets/controls",
            "_model_module_version": "1.5.0",
            "_view_count": null,
            "_view_module_version": "1.5.0",
            "box_style": "",
            "layout": "IPY_MODEL_5071ddb32d054b09a448a1600de91735",
            "_model_module": "@jupyter-widgets/controls",
            "children": [
              "IPY_MODEL_6be1945d2c824076b2b53e6816e51917",
              "IPY_MODEL_6a385cb084a64f4eaa681568909afdb5"
            ]
          }
        },
        "5071ddb32d054b09a448a1600de91735": {
          "model_module": "@jupyter-widgets/base",
          "model_name": "LayoutModel",
          "state": {
            "_view_name": "LayoutView",
            "grid_template_rows": null,
            "right": null,
            "justify_content": null,
            "_view_module": "@jupyter-widgets/base",
            "overflow": null,
            "_model_module_version": "1.2.0",
            "_view_count": null,
            "flex_flow": null,
            "width": null,
            "min_width": null,
            "border": null,
            "align_items": null,
            "bottom": null,
            "_model_module": "@jupyter-widgets/base",
            "top": null,
            "grid_column": null,
            "overflow_y": null,
            "overflow_x": null,
            "grid_auto_flow": null,
            "grid_area": null,
            "grid_template_columns": null,
            "flex": null,
            "_model_name": "LayoutModel",
            "justify_items": null,
            "grid_row": null,
            "max_height": null,
            "align_content": null,
            "visibility": null,
            "align_self": null,
            "height": null,
            "min_height": null,
            "padding": null,
            "grid_auto_rows": null,
            "grid_gap": null,
            "max_width": null,
            "order": null,
            "_view_module_version": "1.2.0",
            "grid_template_areas": null,
            "object_position": null,
            "object_fit": null,
            "grid_auto_columns": null,
            "margin": null,
            "display": null,
            "left": null
          }
        },
        "6be1945d2c824076b2b53e6816e51917": {
          "model_module": "@jupyter-widgets/controls",
          "model_name": "FloatProgressModel",
          "state": {
            "_view_name": "ProgressView",
            "style": "IPY_MODEL_235172aa7c794d48a63c4ed1a2cb91b2",
            "_dom_classes": [],
            "description": "Dl Size...: 100%",
            "_model_name": "FloatProgressModel",
            "bar_style": "success",
            "max": 1,
            "_view_module": "@jupyter-widgets/controls",
            "_model_module_version": "1.5.0",
            "value": 1,
            "_view_count": null,
            "_view_module_version": "1.5.0",
            "orientation": "horizontal",
            "min": 0,
            "description_tooltip": null,
            "_model_module": "@jupyter-widgets/controls",
            "layout": "IPY_MODEL_a051267d44f8444d83adf875bf8afec4"
          }
        },
        "6a385cb084a64f4eaa681568909afdb5": {
          "model_module": "@jupyter-widgets/controls",
          "model_name": "HTMLModel",
          "state": {
            "_view_name": "HTMLView",
            "style": "IPY_MODEL_59a6d11744954559b2c634f266316cd0",
            "_dom_classes": [],
            "description": "",
            "_model_name": "HTMLModel",
            "placeholder": "​",
            "_view_module": "@jupyter-widgets/controls",
            "_model_module_version": "1.5.0",
            "value": " 80/80 [03:22&lt;00:00,  2.53s/ MiB]",
            "_view_count": null,
            "_view_module_version": "1.5.0",
            "description_tooltip": null,
            "_model_module": "@jupyter-widgets/controls",
            "layout": "IPY_MODEL_af4a6d728a474a8993a1bca1319addb6"
          }
        },
        "235172aa7c794d48a63c4ed1a2cb91b2": {
          "model_module": "@jupyter-widgets/controls",
          "model_name": "ProgressStyleModel",
          "state": {
            "_view_name": "StyleView",
            "_model_name": "ProgressStyleModel",
            "description_width": "initial",
            "_view_module": "@jupyter-widgets/base",
            "_model_module_version": "1.5.0",
            "_view_count": null,
            "_view_module_version": "1.2.0",
            "bar_color": null,
            "_model_module": "@jupyter-widgets/controls"
          }
        },
        "a051267d44f8444d83adf875bf8afec4": {
          "model_module": "@jupyter-widgets/base",
          "model_name": "LayoutModel",
          "state": {
            "_view_name": "LayoutView",
            "grid_template_rows": null,
            "right": null,
            "justify_content": null,
            "_view_module": "@jupyter-widgets/base",
            "overflow": null,
            "_model_module_version": "1.2.0",
            "_view_count": null,
            "flex_flow": null,
            "width": null,
            "min_width": null,
            "border": null,
            "align_items": null,
            "bottom": null,
            "_model_module": "@jupyter-widgets/base",
            "top": null,
            "grid_column": null,
            "overflow_y": null,
            "overflow_x": null,
            "grid_auto_flow": null,
            "grid_area": null,
            "grid_template_columns": null,
            "flex": null,
            "_model_name": "LayoutModel",
            "justify_items": null,
            "grid_row": null,
            "max_height": null,
            "align_content": null,
            "visibility": null,
            "align_self": null,
            "height": null,
            "min_height": null,
            "padding": null,
            "grid_auto_rows": null,
            "grid_gap": null,
            "max_width": null,
            "order": null,
            "_view_module_version": "1.2.0",
            "grid_template_areas": null,
            "object_position": null,
            "object_fit": null,
            "grid_auto_columns": null,
            "margin": null,
            "display": null,
            "left": null
          }
        },
        "59a6d11744954559b2c634f266316cd0": {
          "model_module": "@jupyter-widgets/controls",
          "model_name": "DescriptionStyleModel",
          "state": {
            "_view_name": "StyleView",
            "_model_name": "DescriptionStyleModel",
            "description_width": "",
            "_view_module": "@jupyter-widgets/base",
            "_model_module_version": "1.5.0",
            "_view_count": null,
            "_view_module_version": "1.2.0",
            "_model_module": "@jupyter-widgets/controls"
          }
        },
        "af4a6d728a474a8993a1bca1319addb6": {
          "model_module": "@jupyter-widgets/base",
          "model_name": "LayoutModel",
          "state": {
            "_view_name": "LayoutView",
            "grid_template_rows": null,
            "right": null,
            "justify_content": null,
            "_view_module": "@jupyter-widgets/base",
            "overflow": null,
            "_model_module_version": "1.2.0",
            "_view_count": null,
            "flex_flow": null,
            "width": null,
            "min_width": null,
            "border": null,
            "align_items": null,
            "bottom": null,
            "_model_module": "@jupyter-widgets/base",
            "top": null,
            "grid_column": null,
            "overflow_y": null,
            "overflow_x": null,
            "grid_auto_flow": null,
            "grid_area": null,
            "grid_template_columns": null,
            "flex": null,
            "_model_name": "LayoutModel",
            "justify_items": null,
            "grid_row": null,
            "max_height": null,
            "align_content": null,
            "visibility": null,
            "align_self": null,
            "height": null,
            "min_height": null,
            "padding": null,
            "grid_auto_rows": null,
            "grid_gap": null,
            "max_width": null,
            "order": null,
            "_view_module_version": "1.2.0",
            "grid_template_areas": null,
            "object_position": null,
            "object_fit": null,
            "grid_auto_columns": null,
            "margin": null,
            "display": null,
            "left": null
          }
        },
        "8f902fee35fa436d9cc9edf3acdc91b3": {
          "model_module": "@jupyter-widgets/controls",
          "model_name": "HBoxModel",
          "state": {
            "_view_name": "HBoxView",
            "_dom_classes": [],
            "_model_name": "HBoxModel",
            "_view_module": "@jupyter-widgets/controls",
            "_model_module_version": "1.5.0",
            "_view_count": null,
            "_view_module_version": "1.5.0",
            "box_style": "",
            "layout": "IPY_MODEL_1f9d29185832466982d09068066336e0",
            "_model_module": "@jupyter-widgets/controls",
            "children": [
              "IPY_MODEL_ac1d3c1d6db947ecb05fce986ed3af1e",
              "IPY_MODEL_656820fc21f147a6ab1ec01b20a03101"
            ]
          }
        },
        "1f9d29185832466982d09068066336e0": {
          "model_module": "@jupyter-widgets/base",
          "model_name": "LayoutModel",
          "state": {
            "_view_name": "LayoutView",
            "grid_template_rows": null,
            "right": null,
            "justify_content": null,
            "_view_module": "@jupyter-widgets/base",
            "overflow": null,
            "_model_module_version": "1.2.0",
            "_view_count": null,
            "flex_flow": null,
            "width": null,
            "min_width": null,
            "border": null,
            "align_items": null,
            "bottom": null,
            "_model_module": "@jupyter-widgets/base",
            "top": null,
            "grid_column": null,
            "overflow_y": null,
            "overflow_x": null,
            "grid_auto_flow": null,
            "grid_area": null,
            "grid_template_columns": null,
            "flex": null,
            "_model_name": "LayoutModel",
            "justify_items": null,
            "grid_row": null,
            "max_height": null,
            "align_content": null,
            "visibility": null,
            "align_self": null,
            "height": null,
            "min_height": null,
            "padding": null,
            "grid_auto_rows": null,
            "grid_gap": null,
            "max_width": null,
            "order": null,
            "_view_module_version": "1.2.0",
            "grid_template_areas": null,
            "object_position": null,
            "object_fit": null,
            "grid_auto_columns": null,
            "margin": null,
            "display": null,
            "left": null
          }
        },
        "ac1d3c1d6db947ecb05fce986ed3af1e": {
          "model_module": "@jupyter-widgets/controls",
          "model_name": "FloatProgressModel",
          "state": {
            "_view_name": "ProgressView",
            "style": "IPY_MODEL_71b490d2f18f435da8e1a2beda01daee",
            "_dom_classes": [],
            "description": "",
            "_model_name": "FloatProgressModel",
            "bar_style": "info",
            "max": 1,
            "_view_module": "@jupyter-widgets/controls",
            "_model_module_version": "1.5.0",
            "value": 1,
            "_view_count": null,
            "_view_module_version": "1.5.0",
            "orientation": "horizontal",
            "min": 0,
            "description_tooltip": null,
            "_model_module": "@jupyter-widgets/controls",
            "layout": "IPY_MODEL_185b7733829e4076bbffdd9a75656589"
          }
        },
        "656820fc21f147a6ab1ec01b20a03101": {
          "model_module": "@jupyter-widgets/controls",
          "model_name": "HTMLModel",
          "state": {
            "_view_name": "HTMLView",
            "style": "IPY_MODEL_c65f9a50eb9642158cdf009d07a60f48",
            "_dom_classes": [],
            "description": "",
            "_model_name": "HTMLModel",
            "placeholder": "​",
            "_view_module": "@jupyter-widgets/controls",
            "_model_module_version": "1.5.0",
            "value": " 25000/0 [00:15&lt;00:00, 2835.60 examples/s]",
            "_view_count": null,
            "_view_module_version": "1.5.0",
            "description_tooltip": null,
            "_model_module": "@jupyter-widgets/controls",
            "layout": "IPY_MODEL_436f5b0116a2412080174d19819a6c24"
          }
        },
        "71b490d2f18f435da8e1a2beda01daee": {
          "model_module": "@jupyter-widgets/controls",
          "model_name": "ProgressStyleModel",
          "state": {
            "_view_name": "StyleView",
            "_model_name": "ProgressStyleModel",
            "description_width": "initial",
            "_view_module": "@jupyter-widgets/base",
            "_model_module_version": "1.5.0",
            "_view_count": null,
            "_view_module_version": "1.2.0",
            "bar_color": null,
            "_model_module": "@jupyter-widgets/controls"
          }
        },
        "185b7733829e4076bbffdd9a75656589": {
          "model_module": "@jupyter-widgets/base",
          "model_name": "LayoutModel",
          "state": {
            "_view_name": "LayoutView",
            "grid_template_rows": null,
            "right": null,
            "justify_content": null,
            "_view_module": "@jupyter-widgets/base",
            "overflow": null,
            "_model_module_version": "1.2.0",
            "_view_count": null,
            "flex_flow": null,
            "width": null,
            "min_width": null,
            "border": null,
            "align_items": null,
            "bottom": null,
            "_model_module": "@jupyter-widgets/base",
            "top": null,
            "grid_column": null,
            "overflow_y": null,
            "overflow_x": null,
            "grid_auto_flow": null,
            "grid_area": null,
            "grid_template_columns": null,
            "flex": null,
            "_model_name": "LayoutModel",
            "justify_items": null,
            "grid_row": null,
            "max_height": null,
            "align_content": null,
            "visibility": null,
            "align_self": null,
            "height": null,
            "min_height": null,
            "padding": null,
            "grid_auto_rows": null,
            "grid_gap": null,
            "max_width": null,
            "order": null,
            "_view_module_version": "1.2.0",
            "grid_template_areas": null,
            "object_position": null,
            "object_fit": null,
            "grid_auto_columns": null,
            "margin": null,
            "display": null,
            "left": null
          }
        },
        "c65f9a50eb9642158cdf009d07a60f48": {
          "model_module": "@jupyter-widgets/controls",
          "model_name": "DescriptionStyleModel",
          "state": {
            "_view_name": "StyleView",
            "_model_name": "DescriptionStyleModel",
            "description_width": "",
            "_view_module": "@jupyter-widgets/base",
            "_model_module_version": "1.5.0",
            "_view_count": null,
            "_view_module_version": "1.2.0",
            "_model_module": "@jupyter-widgets/controls"
          }
        },
        "436f5b0116a2412080174d19819a6c24": {
          "model_module": "@jupyter-widgets/base",
          "model_name": "LayoutModel",
          "state": {
            "_view_name": "LayoutView",
            "grid_template_rows": null,
            "right": null,
            "justify_content": null,
            "_view_module": "@jupyter-widgets/base",
            "overflow": null,
            "_model_module_version": "1.2.0",
            "_view_count": null,
            "flex_flow": null,
            "width": null,
            "min_width": null,
            "border": null,
            "align_items": null,
            "bottom": null,
            "_model_module": "@jupyter-widgets/base",
            "top": null,
            "grid_column": null,
            "overflow_y": null,
            "overflow_x": null,
            "grid_auto_flow": null,
            "grid_area": null,
            "grid_template_columns": null,
            "flex": null,
            "_model_name": "LayoutModel",
            "justify_items": null,
            "grid_row": null,
            "max_height": null,
            "align_content": null,
            "visibility": null,
            "align_self": null,
            "height": null,
            "min_height": null,
            "padding": null,
            "grid_auto_rows": null,
            "grid_gap": null,
            "max_width": null,
            "order": null,
            "_view_module_version": "1.2.0",
            "grid_template_areas": null,
            "object_position": null,
            "object_fit": null,
            "grid_auto_columns": null,
            "margin": null,
            "display": null,
            "left": null
          }
        },
        "6a45542fe9c64c0ba66d61eef295b989": {
          "model_module": "@jupyter-widgets/controls",
          "model_name": "HBoxModel",
          "state": {
            "_view_name": "HBoxView",
            "_dom_classes": [],
            "_model_name": "HBoxModel",
            "_view_module": "@jupyter-widgets/controls",
            "_model_module_version": "1.5.0",
            "_view_count": null,
            "_view_module_version": "1.5.0",
            "box_style": "",
            "layout": "IPY_MODEL_c14033aa32e8407a894aeaffb5ee0b9a",
            "_model_module": "@jupyter-widgets/controls",
            "children": [
              "IPY_MODEL_a1f91054a31d482bbab10f0f096cb554",
              "IPY_MODEL_8947063c3c034345913779f252840949"
            ]
          }
        },
        "c14033aa32e8407a894aeaffb5ee0b9a": {
          "model_module": "@jupyter-widgets/base",
          "model_name": "LayoutModel",
          "state": {
            "_view_name": "LayoutView",
            "grid_template_rows": null,
            "right": null,
            "justify_content": null,
            "_view_module": "@jupyter-widgets/base",
            "overflow": null,
            "_model_module_version": "1.2.0",
            "_view_count": null,
            "flex_flow": null,
            "width": null,
            "min_width": null,
            "border": null,
            "align_items": null,
            "bottom": null,
            "_model_module": "@jupyter-widgets/base",
            "top": null,
            "grid_column": null,
            "overflow_y": null,
            "overflow_x": null,
            "grid_auto_flow": null,
            "grid_area": null,
            "grid_template_columns": null,
            "flex": null,
            "_model_name": "LayoutModel",
            "justify_items": null,
            "grid_row": null,
            "max_height": null,
            "align_content": null,
            "visibility": null,
            "align_self": null,
            "height": null,
            "min_height": null,
            "padding": null,
            "grid_auto_rows": null,
            "grid_gap": null,
            "max_width": null,
            "order": null,
            "_view_module_version": "1.2.0",
            "grid_template_areas": null,
            "object_position": null,
            "object_fit": null,
            "grid_auto_columns": null,
            "margin": null,
            "display": null,
            "left": null
          }
        },
        "a1f91054a31d482bbab10f0f096cb554": {
          "model_module": "@jupyter-widgets/controls",
          "model_name": "FloatProgressModel",
          "state": {
            "_view_name": "ProgressView",
            "style": "IPY_MODEL_de2528f3410243e5a3defb6f51702e79",
            "_dom_classes": [],
            "description": " 25%",
            "_model_name": "FloatProgressModel",
            "bar_style": "danger",
            "max": 25000,
            "_view_module": "@jupyter-widgets/controls",
            "_model_module_version": "1.5.0",
            "value": 6199,
            "_view_count": null,
            "_view_module_version": "1.5.0",
            "orientation": "horizontal",
            "min": 0,
            "description_tooltip": null,
            "_model_module": "@jupyter-widgets/controls",
            "layout": "IPY_MODEL_14f439456dd94d6ba2201690f816a0a6"
          }
        },
        "8947063c3c034345913779f252840949": {
          "model_module": "@jupyter-widgets/controls",
          "model_name": "HTMLModel",
          "state": {
            "_view_name": "HTMLView",
            "style": "IPY_MODEL_9373f5508292497c93a3a700b9d1f081",
            "_dom_classes": [],
            "description": "",
            "_model_name": "HTMLModel",
            "placeholder": "​",
            "_view_module": "@jupyter-widgets/controls",
            "_model_module_version": "1.5.0",
            "value": " 6199/25000 [00:00&lt;00:00, 61984.44 examples/s]",
            "_view_count": null,
            "_view_module_version": "1.5.0",
            "description_tooltip": null,
            "_model_module": "@jupyter-widgets/controls",
            "layout": "IPY_MODEL_0d6f330535044f68b693164848a1478f"
          }
        },
        "de2528f3410243e5a3defb6f51702e79": {
          "model_module": "@jupyter-widgets/controls",
          "model_name": "ProgressStyleModel",
          "state": {
            "_view_name": "StyleView",
            "_model_name": "ProgressStyleModel",
            "description_width": "initial",
            "_view_module": "@jupyter-widgets/base",
            "_model_module_version": "1.5.0",
            "_view_count": null,
            "_view_module_version": "1.2.0",
            "bar_color": null,
            "_model_module": "@jupyter-widgets/controls"
          }
        },
        "14f439456dd94d6ba2201690f816a0a6": {
          "model_module": "@jupyter-widgets/base",
          "model_name": "LayoutModel",
          "state": {
            "_view_name": "LayoutView",
            "grid_template_rows": null,
            "right": null,
            "justify_content": null,
            "_view_module": "@jupyter-widgets/base",
            "overflow": null,
            "_model_module_version": "1.2.0",
            "_view_count": null,
            "flex_flow": null,
            "width": null,
            "min_width": null,
            "border": null,
            "align_items": null,
            "bottom": null,
            "_model_module": "@jupyter-widgets/base",
            "top": null,
            "grid_column": null,
            "overflow_y": null,
            "overflow_x": null,
            "grid_auto_flow": null,
            "grid_area": null,
            "grid_template_columns": null,
            "flex": null,
            "_model_name": "LayoutModel",
            "justify_items": null,
            "grid_row": null,
            "max_height": null,
            "align_content": null,
            "visibility": null,
            "align_self": null,
            "height": null,
            "min_height": null,
            "padding": null,
            "grid_auto_rows": null,
            "grid_gap": null,
            "max_width": null,
            "order": null,
            "_view_module_version": "1.2.0",
            "grid_template_areas": null,
            "object_position": null,
            "object_fit": null,
            "grid_auto_columns": null,
            "margin": null,
            "display": null,
            "left": null
          }
        },
        "9373f5508292497c93a3a700b9d1f081": {
          "model_module": "@jupyter-widgets/controls",
          "model_name": "DescriptionStyleModel",
          "state": {
            "_view_name": "StyleView",
            "_model_name": "DescriptionStyleModel",
            "description_width": "",
            "_view_module": "@jupyter-widgets/base",
            "_model_module_version": "1.5.0",
            "_view_count": null,
            "_view_module_version": "1.2.0",
            "_model_module": "@jupyter-widgets/controls"
          }
        },
        "0d6f330535044f68b693164848a1478f": {
          "model_module": "@jupyter-widgets/base",
          "model_name": "LayoutModel",
          "state": {
            "_view_name": "LayoutView",
            "grid_template_rows": null,
            "right": null,
            "justify_content": null,
            "_view_module": "@jupyter-widgets/base",
            "overflow": null,
            "_model_module_version": "1.2.0",
            "_view_count": null,
            "flex_flow": null,
            "width": null,
            "min_width": null,
            "border": null,
            "align_items": null,
            "bottom": null,
            "_model_module": "@jupyter-widgets/base",
            "top": null,
            "grid_column": null,
            "overflow_y": null,
            "overflow_x": null,
            "grid_auto_flow": null,
            "grid_area": null,
            "grid_template_columns": null,
            "flex": null,
            "_model_name": "LayoutModel",
            "justify_items": null,
            "grid_row": null,
            "max_height": null,
            "align_content": null,
            "visibility": null,
            "align_self": null,
            "height": null,
            "min_height": null,
            "padding": null,
            "grid_auto_rows": null,
            "grid_gap": null,
            "max_width": null,
            "order": null,
            "_view_module_version": "1.2.0",
            "grid_template_areas": null,
            "object_position": null,
            "object_fit": null,
            "grid_auto_columns": null,
            "margin": null,
            "display": null,
            "left": null
          }
        },
        "94f006ae7548498dad5d5e912c5ccad9": {
          "model_module": "@jupyter-widgets/controls",
          "model_name": "HBoxModel",
          "state": {
            "_view_name": "HBoxView",
            "_dom_classes": [],
            "_model_name": "HBoxModel",
            "_view_module": "@jupyter-widgets/controls",
            "_model_module_version": "1.5.0",
            "_view_count": null,
            "_view_module_version": "1.5.0",
            "box_style": "",
            "layout": "IPY_MODEL_e0852f9534204b39914876d2beda9df2",
            "_model_module": "@jupyter-widgets/controls",
            "children": [
              "IPY_MODEL_80cd33df02d74e7598b850021ab0c0df",
              "IPY_MODEL_dbf1585b90544eabb9f30ff4a7e85362"
            ]
          }
        },
        "e0852f9534204b39914876d2beda9df2": {
          "model_module": "@jupyter-widgets/base",
          "model_name": "LayoutModel",
          "state": {
            "_view_name": "LayoutView",
            "grid_template_rows": null,
            "right": null,
            "justify_content": null,
            "_view_module": "@jupyter-widgets/base",
            "overflow": null,
            "_model_module_version": "1.2.0",
            "_view_count": null,
            "flex_flow": null,
            "width": null,
            "min_width": null,
            "border": null,
            "align_items": null,
            "bottom": null,
            "_model_module": "@jupyter-widgets/base",
            "top": null,
            "grid_column": null,
            "overflow_y": null,
            "overflow_x": null,
            "grid_auto_flow": null,
            "grid_area": null,
            "grid_template_columns": null,
            "flex": null,
            "_model_name": "LayoutModel",
            "justify_items": null,
            "grid_row": null,
            "max_height": null,
            "align_content": null,
            "visibility": null,
            "align_self": null,
            "height": null,
            "min_height": null,
            "padding": null,
            "grid_auto_rows": null,
            "grid_gap": null,
            "max_width": null,
            "order": null,
            "_view_module_version": "1.2.0",
            "grid_template_areas": null,
            "object_position": null,
            "object_fit": null,
            "grid_auto_columns": null,
            "margin": null,
            "display": null,
            "left": null
          }
        },
        "80cd33df02d74e7598b850021ab0c0df": {
          "model_module": "@jupyter-widgets/controls",
          "model_name": "FloatProgressModel",
          "state": {
            "_view_name": "ProgressView",
            "style": "IPY_MODEL_c77c80c070f34e46973c780c0d94a276",
            "_dom_classes": [],
            "description": "",
            "_model_name": "FloatProgressModel",
            "bar_style": "info",
            "max": 1,
            "_view_module": "@jupyter-widgets/controls",
            "_model_module_version": "1.5.0",
            "value": 1,
            "_view_count": null,
            "_view_module_version": "1.5.0",
            "orientation": "horizontal",
            "min": 0,
            "description_tooltip": null,
            "_model_module": "@jupyter-widgets/controls",
            "layout": "IPY_MODEL_d2a4b9715d1144c5a00fa5c2431a8580"
          }
        },
        "dbf1585b90544eabb9f30ff4a7e85362": {
          "model_module": "@jupyter-widgets/controls",
          "model_name": "HTMLModel",
          "state": {
            "_view_name": "HTMLView",
            "style": "IPY_MODEL_18698e39240840c89d21d7c63b9f6618",
            "_dom_classes": [],
            "description": "",
            "_model_name": "HTMLModel",
            "placeholder": "​",
            "_view_module": "@jupyter-widgets/controls",
            "_model_module_version": "1.5.0",
            "value": " 25000/0 [00:14&lt;00:00, 2911.80 examples/s]",
            "_view_count": null,
            "_view_module_version": "1.5.0",
            "description_tooltip": null,
            "_model_module": "@jupyter-widgets/controls",
            "layout": "IPY_MODEL_b6123d7562c64724a0ba26e6006eb191"
          }
        },
        "c77c80c070f34e46973c780c0d94a276": {
          "model_module": "@jupyter-widgets/controls",
          "model_name": "ProgressStyleModel",
          "state": {
            "_view_name": "StyleView",
            "_model_name": "ProgressStyleModel",
            "description_width": "initial",
            "_view_module": "@jupyter-widgets/base",
            "_model_module_version": "1.5.0",
            "_view_count": null,
            "_view_module_version": "1.2.0",
            "bar_color": null,
            "_model_module": "@jupyter-widgets/controls"
          }
        },
        "d2a4b9715d1144c5a00fa5c2431a8580": {
          "model_module": "@jupyter-widgets/base",
          "model_name": "LayoutModel",
          "state": {
            "_view_name": "LayoutView",
            "grid_template_rows": null,
            "right": null,
            "justify_content": null,
            "_view_module": "@jupyter-widgets/base",
            "overflow": null,
            "_model_module_version": "1.2.0",
            "_view_count": null,
            "flex_flow": null,
            "width": null,
            "min_width": null,
            "border": null,
            "align_items": null,
            "bottom": null,
            "_model_module": "@jupyter-widgets/base",
            "top": null,
            "grid_column": null,
            "overflow_y": null,
            "overflow_x": null,
            "grid_auto_flow": null,
            "grid_area": null,
            "grid_template_columns": null,
            "flex": null,
            "_model_name": "LayoutModel",
            "justify_items": null,
            "grid_row": null,
            "max_height": null,
            "align_content": null,
            "visibility": null,
            "align_self": null,
            "height": null,
            "min_height": null,
            "padding": null,
            "grid_auto_rows": null,
            "grid_gap": null,
            "max_width": null,
            "order": null,
            "_view_module_version": "1.2.0",
            "grid_template_areas": null,
            "object_position": null,
            "object_fit": null,
            "grid_auto_columns": null,
            "margin": null,
            "display": null,
            "left": null
          }
        },
        "18698e39240840c89d21d7c63b9f6618": {
          "model_module": "@jupyter-widgets/controls",
          "model_name": "DescriptionStyleModel",
          "state": {
            "_view_name": "StyleView",
            "_model_name": "DescriptionStyleModel",
            "description_width": "",
            "_view_module": "@jupyter-widgets/base",
            "_model_module_version": "1.5.0",
            "_view_count": null,
            "_view_module_version": "1.2.0",
            "_model_module": "@jupyter-widgets/controls"
          }
        },
        "b6123d7562c64724a0ba26e6006eb191": {
          "model_module": "@jupyter-widgets/base",
          "model_name": "LayoutModel",
          "state": {
            "_view_name": "LayoutView",
            "grid_template_rows": null,
            "right": null,
            "justify_content": null,
            "_view_module": "@jupyter-widgets/base",
            "overflow": null,
            "_model_module_version": "1.2.0",
            "_view_count": null,
            "flex_flow": null,
            "width": null,
            "min_width": null,
            "border": null,
            "align_items": null,
            "bottom": null,
            "_model_module": "@jupyter-widgets/base",
            "top": null,
            "grid_column": null,
            "overflow_y": null,
            "overflow_x": null,
            "grid_auto_flow": null,
            "grid_area": null,
            "grid_template_columns": null,
            "flex": null,
            "_model_name": "LayoutModel",
            "justify_items": null,
            "grid_row": null,
            "max_height": null,
            "align_content": null,
            "visibility": null,
            "align_self": null,
            "height": null,
            "min_height": null,
            "padding": null,
            "grid_auto_rows": null,
            "grid_gap": null,
            "max_width": null,
            "order": null,
            "_view_module_version": "1.2.0",
            "grid_template_areas": null,
            "object_position": null,
            "object_fit": null,
            "grid_auto_columns": null,
            "margin": null,
            "display": null,
            "left": null
          }
        },
        "c25cde5fb83842859159ede0b44a59b0": {
          "model_module": "@jupyter-widgets/controls",
          "model_name": "HBoxModel",
          "state": {
            "_view_name": "HBoxView",
            "_dom_classes": [],
            "_model_name": "HBoxModel",
            "_view_module": "@jupyter-widgets/controls",
            "_model_module_version": "1.5.0",
            "_view_count": null,
            "_view_module_version": "1.5.0",
            "box_style": "",
            "layout": "IPY_MODEL_302cf637139e4a1282167349814b8f18",
            "_model_module": "@jupyter-widgets/controls",
            "children": [
              "IPY_MODEL_3e3e17b2358f4112b3f50273480a9b34",
              "IPY_MODEL_f7e4fc9c353e452b8e09b7c21131db65"
            ]
          }
        },
        "302cf637139e4a1282167349814b8f18": {
          "model_module": "@jupyter-widgets/base",
          "model_name": "LayoutModel",
          "state": {
            "_view_name": "LayoutView",
            "grid_template_rows": null,
            "right": null,
            "justify_content": null,
            "_view_module": "@jupyter-widgets/base",
            "overflow": null,
            "_model_module_version": "1.2.0",
            "_view_count": null,
            "flex_flow": null,
            "width": null,
            "min_width": null,
            "border": null,
            "align_items": null,
            "bottom": null,
            "_model_module": "@jupyter-widgets/base",
            "top": null,
            "grid_column": null,
            "overflow_y": null,
            "overflow_x": null,
            "grid_auto_flow": null,
            "grid_area": null,
            "grid_template_columns": null,
            "flex": null,
            "_model_name": "LayoutModel",
            "justify_items": null,
            "grid_row": null,
            "max_height": null,
            "align_content": null,
            "visibility": null,
            "align_self": null,
            "height": null,
            "min_height": null,
            "padding": null,
            "grid_auto_rows": null,
            "grid_gap": null,
            "max_width": null,
            "order": null,
            "_view_module_version": "1.2.0",
            "grid_template_areas": null,
            "object_position": null,
            "object_fit": null,
            "grid_auto_columns": null,
            "margin": null,
            "display": null,
            "left": null
          }
        },
        "3e3e17b2358f4112b3f50273480a9b34": {
          "model_module": "@jupyter-widgets/controls",
          "model_name": "FloatProgressModel",
          "state": {
            "_view_name": "ProgressView",
            "style": "IPY_MODEL_74ae6fe945c0410eb1ab5dc1196e3b8f",
            "_dom_classes": [],
            "description": " 28%",
            "_model_name": "FloatProgressModel",
            "bar_style": "danger",
            "max": 25000,
            "_view_module": "@jupyter-widgets/controls",
            "_model_module_version": "1.5.0",
            "value": 7090,
            "_view_count": null,
            "_view_module_version": "1.5.0",
            "orientation": "horizontal",
            "min": 0,
            "description_tooltip": null,
            "_model_module": "@jupyter-widgets/controls",
            "layout": "IPY_MODEL_5f7eb0ea212e4d9ebaee8fdcb6c945e9"
          }
        },
        "f7e4fc9c353e452b8e09b7c21131db65": {
          "model_module": "@jupyter-widgets/controls",
          "model_name": "HTMLModel",
          "state": {
            "_view_name": "HTMLView",
            "style": "IPY_MODEL_0303e9bef92a46688e3b328eeed42545",
            "_dom_classes": [],
            "description": "",
            "_model_name": "HTMLModel",
            "placeholder": "​",
            "_view_module": "@jupyter-widgets/controls",
            "_model_module_version": "1.5.0",
            "value": " 7090/25000 [00:00&lt;00:00, 70899.39 examples/s]",
            "_view_count": null,
            "_view_module_version": "1.5.0",
            "description_tooltip": null,
            "_model_module": "@jupyter-widgets/controls",
            "layout": "IPY_MODEL_bd214e3aa7d443d3b14ba58ebf35422f"
          }
        },
        "74ae6fe945c0410eb1ab5dc1196e3b8f": {
          "model_module": "@jupyter-widgets/controls",
          "model_name": "ProgressStyleModel",
          "state": {
            "_view_name": "StyleView",
            "_model_name": "ProgressStyleModel",
            "description_width": "initial",
            "_view_module": "@jupyter-widgets/base",
            "_model_module_version": "1.5.0",
            "_view_count": null,
            "_view_module_version": "1.2.0",
            "bar_color": null,
            "_model_module": "@jupyter-widgets/controls"
          }
        },
        "5f7eb0ea212e4d9ebaee8fdcb6c945e9": {
          "model_module": "@jupyter-widgets/base",
          "model_name": "LayoutModel",
          "state": {
            "_view_name": "LayoutView",
            "grid_template_rows": null,
            "right": null,
            "justify_content": null,
            "_view_module": "@jupyter-widgets/base",
            "overflow": null,
            "_model_module_version": "1.2.0",
            "_view_count": null,
            "flex_flow": null,
            "width": null,
            "min_width": null,
            "border": null,
            "align_items": null,
            "bottom": null,
            "_model_module": "@jupyter-widgets/base",
            "top": null,
            "grid_column": null,
            "overflow_y": null,
            "overflow_x": null,
            "grid_auto_flow": null,
            "grid_area": null,
            "grid_template_columns": null,
            "flex": null,
            "_model_name": "LayoutModel",
            "justify_items": null,
            "grid_row": null,
            "max_height": null,
            "align_content": null,
            "visibility": null,
            "align_self": null,
            "height": null,
            "min_height": null,
            "padding": null,
            "grid_auto_rows": null,
            "grid_gap": null,
            "max_width": null,
            "order": null,
            "_view_module_version": "1.2.0",
            "grid_template_areas": null,
            "object_position": null,
            "object_fit": null,
            "grid_auto_columns": null,
            "margin": null,
            "display": null,
            "left": null
          }
        },
        "0303e9bef92a46688e3b328eeed42545": {
          "model_module": "@jupyter-widgets/controls",
          "model_name": "DescriptionStyleModel",
          "state": {
            "_view_name": "StyleView",
            "_model_name": "DescriptionStyleModel",
            "description_width": "",
            "_view_module": "@jupyter-widgets/base",
            "_model_module_version": "1.5.0",
            "_view_count": null,
            "_view_module_version": "1.2.0",
            "_model_module": "@jupyter-widgets/controls"
          }
        },
        "bd214e3aa7d443d3b14ba58ebf35422f": {
          "model_module": "@jupyter-widgets/base",
          "model_name": "LayoutModel",
          "state": {
            "_view_name": "LayoutView",
            "grid_template_rows": null,
            "right": null,
            "justify_content": null,
            "_view_module": "@jupyter-widgets/base",
            "overflow": null,
            "_model_module_version": "1.2.0",
            "_view_count": null,
            "flex_flow": null,
            "width": null,
            "min_width": null,
            "border": null,
            "align_items": null,
            "bottom": null,
            "_model_module": "@jupyter-widgets/base",
            "top": null,
            "grid_column": null,
            "overflow_y": null,
            "overflow_x": null,
            "grid_auto_flow": null,
            "grid_area": null,
            "grid_template_columns": null,
            "flex": null,
            "_model_name": "LayoutModel",
            "justify_items": null,
            "grid_row": null,
            "max_height": null,
            "align_content": null,
            "visibility": null,
            "align_self": null,
            "height": null,
            "min_height": null,
            "padding": null,
            "grid_auto_rows": null,
            "grid_gap": null,
            "max_width": null,
            "order": null,
            "_view_module_version": "1.2.0",
            "grid_template_areas": null,
            "object_position": null,
            "object_fit": null,
            "grid_auto_columns": null,
            "margin": null,
            "display": null,
            "left": null
          }
        },
        "84729d243066472fa584020529504546": {
          "model_module": "@jupyter-widgets/controls",
          "model_name": "HBoxModel",
          "state": {
            "_view_name": "HBoxView",
            "_dom_classes": [],
            "_model_name": "HBoxModel",
            "_view_module": "@jupyter-widgets/controls",
            "_model_module_version": "1.5.0",
            "_view_count": null,
            "_view_module_version": "1.5.0",
            "box_style": "",
            "layout": "IPY_MODEL_f339fd6b75fc4968900ece1207ebb5bf",
            "_model_module": "@jupyter-widgets/controls",
            "children": [
              "IPY_MODEL_41270c96d4aa4d2b8a5d857b99a814b5",
              "IPY_MODEL_6b816bc47a0547b6b8cef099cd43f0e2"
            ]
          }
        },
        "f339fd6b75fc4968900ece1207ebb5bf": {
          "model_module": "@jupyter-widgets/base",
          "model_name": "LayoutModel",
          "state": {
            "_view_name": "LayoutView",
            "grid_template_rows": null,
            "right": null,
            "justify_content": null,
            "_view_module": "@jupyter-widgets/base",
            "overflow": null,
            "_model_module_version": "1.2.0",
            "_view_count": null,
            "flex_flow": null,
            "width": null,
            "min_width": null,
            "border": null,
            "align_items": null,
            "bottom": null,
            "_model_module": "@jupyter-widgets/base",
            "top": null,
            "grid_column": null,
            "overflow_y": null,
            "overflow_x": null,
            "grid_auto_flow": null,
            "grid_area": null,
            "grid_template_columns": null,
            "flex": null,
            "_model_name": "LayoutModel",
            "justify_items": null,
            "grid_row": null,
            "max_height": null,
            "align_content": null,
            "visibility": null,
            "align_self": null,
            "height": null,
            "min_height": null,
            "padding": null,
            "grid_auto_rows": null,
            "grid_gap": null,
            "max_width": null,
            "order": null,
            "_view_module_version": "1.2.0",
            "grid_template_areas": null,
            "object_position": null,
            "object_fit": null,
            "grid_auto_columns": null,
            "margin": null,
            "display": null,
            "left": null
          }
        },
        "41270c96d4aa4d2b8a5d857b99a814b5": {
          "model_module": "@jupyter-widgets/controls",
          "model_name": "FloatProgressModel",
          "state": {
            "_view_name": "ProgressView",
            "style": "IPY_MODEL_ed9bdc598c42401caf6131ed5b241739",
            "_dom_classes": [],
            "description": "",
            "_model_name": "FloatProgressModel",
            "bar_style": "info",
            "max": 1,
            "_view_module": "@jupyter-widgets/controls",
            "_model_module_version": "1.5.0",
            "value": 1,
            "_view_count": null,
            "_view_module_version": "1.5.0",
            "orientation": "horizontal",
            "min": 0,
            "description_tooltip": null,
            "_model_module": "@jupyter-widgets/controls",
            "layout": "IPY_MODEL_e5b298ef6293424f88a43050399bb400"
          }
        },
        "6b816bc47a0547b6b8cef099cd43f0e2": {
          "model_module": "@jupyter-widgets/controls",
          "model_name": "HTMLModel",
          "state": {
            "_view_name": "HTMLView",
            "style": "IPY_MODEL_3fd65d0b4c9540c5b3ecbc607e9932b1",
            "_dom_classes": [],
            "description": "",
            "_model_name": "HTMLModel",
            "placeholder": "​",
            "_view_module": "@jupyter-widgets/controls",
            "_model_module_version": "1.5.0",
            "value": " 50000/0 [00:22&lt;00:00, 2889.36 examples/s]",
            "_view_count": null,
            "_view_module_version": "1.5.0",
            "description_tooltip": null,
            "_model_module": "@jupyter-widgets/controls",
            "layout": "IPY_MODEL_b566d47ed0d7493f8b23aeff95c3554d"
          }
        },
        "ed9bdc598c42401caf6131ed5b241739": {
          "model_module": "@jupyter-widgets/controls",
          "model_name": "ProgressStyleModel",
          "state": {
            "_view_name": "StyleView",
            "_model_name": "ProgressStyleModel",
            "description_width": "initial",
            "_view_module": "@jupyter-widgets/base",
            "_model_module_version": "1.5.0",
            "_view_count": null,
            "_view_module_version": "1.2.0",
            "bar_color": null,
            "_model_module": "@jupyter-widgets/controls"
          }
        },
        "e5b298ef6293424f88a43050399bb400": {
          "model_module": "@jupyter-widgets/base",
          "model_name": "LayoutModel",
          "state": {
            "_view_name": "LayoutView",
            "grid_template_rows": null,
            "right": null,
            "justify_content": null,
            "_view_module": "@jupyter-widgets/base",
            "overflow": null,
            "_model_module_version": "1.2.0",
            "_view_count": null,
            "flex_flow": null,
            "width": null,
            "min_width": null,
            "border": null,
            "align_items": null,
            "bottom": null,
            "_model_module": "@jupyter-widgets/base",
            "top": null,
            "grid_column": null,
            "overflow_y": null,
            "overflow_x": null,
            "grid_auto_flow": null,
            "grid_area": null,
            "grid_template_columns": null,
            "flex": null,
            "_model_name": "LayoutModel",
            "justify_items": null,
            "grid_row": null,
            "max_height": null,
            "align_content": null,
            "visibility": null,
            "align_self": null,
            "height": null,
            "min_height": null,
            "padding": null,
            "grid_auto_rows": null,
            "grid_gap": null,
            "max_width": null,
            "order": null,
            "_view_module_version": "1.2.0",
            "grid_template_areas": null,
            "object_position": null,
            "object_fit": null,
            "grid_auto_columns": null,
            "margin": null,
            "display": null,
            "left": null
          }
        },
        "3fd65d0b4c9540c5b3ecbc607e9932b1": {
          "model_module": "@jupyter-widgets/controls",
          "model_name": "DescriptionStyleModel",
          "state": {
            "_view_name": "StyleView",
            "_model_name": "DescriptionStyleModel",
            "description_width": "",
            "_view_module": "@jupyter-widgets/base",
            "_model_module_version": "1.5.0",
            "_view_count": null,
            "_view_module_version": "1.2.0",
            "_model_module": "@jupyter-widgets/controls"
          }
        },
        "b566d47ed0d7493f8b23aeff95c3554d": {
          "model_module": "@jupyter-widgets/base",
          "model_name": "LayoutModel",
          "state": {
            "_view_name": "LayoutView",
            "grid_template_rows": null,
            "right": null,
            "justify_content": null,
            "_view_module": "@jupyter-widgets/base",
            "overflow": null,
            "_model_module_version": "1.2.0",
            "_view_count": null,
            "flex_flow": null,
            "width": null,
            "min_width": null,
            "border": null,
            "align_items": null,
            "bottom": null,
            "_model_module": "@jupyter-widgets/base",
            "top": null,
            "grid_column": null,
            "overflow_y": null,
            "overflow_x": null,
            "grid_auto_flow": null,
            "grid_area": null,
            "grid_template_columns": null,
            "flex": null,
            "_model_name": "LayoutModel",
            "justify_items": null,
            "grid_row": null,
            "max_height": null,
            "align_content": null,
            "visibility": null,
            "align_self": null,
            "height": null,
            "min_height": null,
            "padding": null,
            "grid_auto_rows": null,
            "grid_gap": null,
            "max_width": null,
            "order": null,
            "_view_module_version": "1.2.0",
            "grid_template_areas": null,
            "object_position": null,
            "object_fit": null,
            "grid_auto_columns": null,
            "margin": null,
            "display": null,
            "left": null
          }
        },
        "2c4dabdbd3264eddae617df63729a580": {
          "model_module": "@jupyter-widgets/controls",
          "model_name": "HBoxModel",
          "state": {
            "_view_name": "HBoxView",
            "_dom_classes": [],
            "_model_name": "HBoxModel",
            "_view_module": "@jupyter-widgets/controls",
            "_model_module_version": "1.5.0",
            "_view_count": null,
            "_view_module_version": "1.5.0",
            "box_style": "",
            "layout": "IPY_MODEL_cec630b76e8943b49d3f89d5b75bb73c",
            "_model_module": "@jupyter-widgets/controls",
            "children": [
              "IPY_MODEL_04c7d581ba8a4c18b4e9ce064d3496bb",
              "IPY_MODEL_b069407caf354ff48145eb459e2c7077"
            ]
          }
        },
        "cec630b76e8943b49d3f89d5b75bb73c": {
          "model_module": "@jupyter-widgets/base",
          "model_name": "LayoutModel",
          "state": {
            "_view_name": "LayoutView",
            "grid_template_rows": null,
            "right": null,
            "justify_content": null,
            "_view_module": "@jupyter-widgets/base",
            "overflow": null,
            "_model_module_version": "1.2.0",
            "_view_count": null,
            "flex_flow": null,
            "width": null,
            "min_width": null,
            "border": null,
            "align_items": null,
            "bottom": null,
            "_model_module": "@jupyter-widgets/base",
            "top": null,
            "grid_column": null,
            "overflow_y": null,
            "overflow_x": null,
            "grid_auto_flow": null,
            "grid_area": null,
            "grid_template_columns": null,
            "flex": null,
            "_model_name": "LayoutModel",
            "justify_items": null,
            "grid_row": null,
            "max_height": null,
            "align_content": null,
            "visibility": null,
            "align_self": null,
            "height": null,
            "min_height": null,
            "padding": null,
            "grid_auto_rows": null,
            "grid_gap": null,
            "max_width": null,
            "order": null,
            "_view_module_version": "1.2.0",
            "grid_template_areas": null,
            "object_position": null,
            "object_fit": null,
            "grid_auto_columns": null,
            "margin": null,
            "display": null,
            "left": null
          }
        },
        "04c7d581ba8a4c18b4e9ce064d3496bb": {
          "model_module": "@jupyter-widgets/controls",
          "model_name": "FloatProgressModel",
          "state": {
            "_view_name": "ProgressView",
            "style": "IPY_MODEL_d6ce682008bf40c685189907cd39ee95",
            "_dom_classes": [],
            "description": " 75%",
            "_model_name": "FloatProgressModel",
            "bar_style": "danger",
            "max": 50000,
            "_view_module": "@jupyter-widgets/controls",
            "_model_module_version": "1.5.0",
            "value": 37594,
            "_view_count": null,
            "_view_module_version": "1.5.0",
            "orientation": "horizontal",
            "min": 0,
            "description_tooltip": null,
            "_model_module": "@jupyter-widgets/controls",
            "layout": "IPY_MODEL_094b6864b89840988f3a51fe954f7e85"
          }
        },
        "b069407caf354ff48145eb459e2c7077": {
          "model_module": "@jupyter-widgets/controls",
          "model_name": "HTMLModel",
          "state": {
            "_view_name": "HTMLView",
            "style": "IPY_MODEL_fc7044e6134747c3ab01bf06a258570f",
            "_dom_classes": [],
            "description": "",
            "_model_name": "HTMLModel",
            "placeholder": "​",
            "_view_module": "@jupyter-widgets/controls",
            "_model_module_version": "1.5.0",
            "value": " 37594/50000 [00:00&lt;00:00, 67256.96 examples/s]",
            "_view_count": null,
            "_view_module_version": "1.5.0",
            "description_tooltip": null,
            "_model_module": "@jupyter-widgets/controls",
            "layout": "IPY_MODEL_2d59fd23a6834e7ca94383ddb0a742ec"
          }
        },
        "d6ce682008bf40c685189907cd39ee95": {
          "model_module": "@jupyter-widgets/controls",
          "model_name": "ProgressStyleModel",
          "state": {
            "_view_name": "StyleView",
            "_model_name": "ProgressStyleModel",
            "description_width": "initial",
            "_view_module": "@jupyter-widgets/base",
            "_model_module_version": "1.5.0",
            "_view_count": null,
            "_view_module_version": "1.2.0",
            "bar_color": null,
            "_model_module": "@jupyter-widgets/controls"
          }
        },
        "094b6864b89840988f3a51fe954f7e85": {
          "model_module": "@jupyter-widgets/base",
          "model_name": "LayoutModel",
          "state": {
            "_view_name": "LayoutView",
            "grid_template_rows": null,
            "right": null,
            "justify_content": null,
            "_view_module": "@jupyter-widgets/base",
            "overflow": null,
            "_model_module_version": "1.2.0",
            "_view_count": null,
            "flex_flow": null,
            "width": null,
            "min_width": null,
            "border": null,
            "align_items": null,
            "bottom": null,
            "_model_module": "@jupyter-widgets/base",
            "top": null,
            "grid_column": null,
            "overflow_y": null,
            "overflow_x": null,
            "grid_auto_flow": null,
            "grid_area": null,
            "grid_template_columns": null,
            "flex": null,
            "_model_name": "LayoutModel",
            "justify_items": null,
            "grid_row": null,
            "max_height": null,
            "align_content": null,
            "visibility": null,
            "align_self": null,
            "height": null,
            "min_height": null,
            "padding": null,
            "grid_auto_rows": null,
            "grid_gap": null,
            "max_width": null,
            "order": null,
            "_view_module_version": "1.2.0",
            "grid_template_areas": null,
            "object_position": null,
            "object_fit": null,
            "grid_auto_columns": null,
            "margin": null,
            "display": null,
            "left": null
          }
        },
        "fc7044e6134747c3ab01bf06a258570f": {
          "model_module": "@jupyter-widgets/controls",
          "model_name": "DescriptionStyleModel",
          "state": {
            "_view_name": "StyleView",
            "_model_name": "DescriptionStyleModel",
            "description_width": "",
            "_view_module": "@jupyter-widgets/base",
            "_model_module_version": "1.5.0",
            "_view_count": null,
            "_view_module_version": "1.2.0",
            "_model_module": "@jupyter-widgets/controls"
          }
        },
        "2d59fd23a6834e7ca94383ddb0a742ec": {
          "model_module": "@jupyter-widgets/base",
          "model_name": "LayoutModel",
          "state": {
            "_view_name": "LayoutView",
            "grid_template_rows": null,
            "right": null,
            "justify_content": null,
            "_view_module": "@jupyter-widgets/base",
            "overflow": null,
            "_model_module_version": "1.2.0",
            "_view_count": null,
            "flex_flow": null,
            "width": null,
            "min_width": null,
            "border": null,
            "align_items": null,
            "bottom": null,
            "_model_module": "@jupyter-widgets/base",
            "top": null,
            "grid_column": null,
            "overflow_y": null,
            "overflow_x": null,
            "grid_auto_flow": null,
            "grid_area": null,
            "grid_template_columns": null,
            "flex": null,
            "_model_name": "LayoutModel",
            "justify_items": null,
            "grid_row": null,
            "max_height": null,
            "align_content": null,
            "visibility": null,
            "align_self": null,
            "height": null,
            "min_height": null,
            "padding": null,
            "grid_auto_rows": null,
            "grid_gap": null,
            "max_width": null,
            "order": null,
            "_view_module_version": "1.2.0",
            "grid_template_areas": null,
            "object_position": null,
            "object_fit": null,
            "grid_auto_columns": null,
            "margin": null,
            "display": null,
            "left": null
          }
        }
      }
    }
  },
  "cells": [
    {
      "cell_type": "code",
      "metadata": {
        "id": "zSLAVqIiyAea"
      },
      "source": [
        "S1 = 'dog bites man'\n",
        "S2 = 'man bites dog'\n",
        "S3 = 'dog eats meat'\n",
        "S4 = 'man eats food'"
      ],
      "execution_count": null,
      "outputs": []
    },
    {
      "cell_type": "markdown",
      "metadata": {
        "id": "glOI2Fy27Gn5"
      },
      "source": [
        "# One-hot Encoding"
      ]
    },
    {
      "cell_type": "code",
      "metadata": {
        "id": "dgD1CzGX7Qa4",
        "outputId": "77de95d0-a9f2-4173-9eb5-b1e9e66f4b51",
        "colab": {
          "base_uri": "https://localhost:8080/",
          "height": 87
        }
      },
      "source": [
        "from sklearn.preprocessing import OneHotEncoder\n",
        "\n",
        "test_data = [S1.split(), S2.split(), S3.split(), S4.split()]\n",
        "onehot_encoder = OneHotEncoder()\n",
        "onehot_encoded = onehot_encoder.fit_transform(test_data).toarray()\n",
        "print(onehot_encoded)"
      ],
      "execution_count": null,
      "outputs": [
        {
          "output_type": "stream",
          "text": [
            "[[1. 0. 1. 0. 0. 0. 1. 0.]\n",
            " [0. 1. 1. 0. 1. 0. 0. 0.]\n",
            " [1. 0. 0. 1. 0. 0. 0. 1.]\n",
            " [0. 1. 0. 1. 0. 1. 0. 0.]]\n"
          ],
          "name": "stdout"
        }
      ]
    },
    {
      "cell_type": "markdown",
      "metadata": {
        "id": "IRBgGBkp7RE1"
      },
      "source": [
        "# Bag of Words"
      ]
    },
    {
      "cell_type": "code",
      "metadata": {
        "id": "aykDgX0c7TYR",
        "outputId": "a6e6e59e-9070-406d-d434-ce600abe6c29",
        "colab": {
          "base_uri": "https://localhost:8080/",
          "height": 105
        }
      },
      "source": [
        "from sklearn.feature_extraction.text import CountVectorizer\n",
        "\n",
        "test_data = [S1, S2, S3, S4]\n",
        "count_vect = CountVectorizer()\n",
        "bow_rep = count_vect.fit_transform(test_data)\n",
        "\n",
        "print(count_vect.vocabulary_)\n",
        "bow_rep.toarray()"
      ],
      "execution_count": null,
      "outputs": [
        {
          "output_type": "stream",
          "text": [
            "{'dog': 1, 'bites': 0, 'man': 4, 'eats': 2, 'meat': 5, 'food': 3}\n"
          ],
          "name": "stdout"
        },
        {
          "output_type": "execute_result",
          "data": {
            "text/plain": [
              "array([[1, 1, 0, 0, 1, 0],\n",
              "       [1, 1, 0, 0, 1, 0],\n",
              "       [0, 1, 1, 0, 0, 1],\n",
              "       [0, 0, 1, 1, 1, 0]])"
            ]
          },
          "metadata": {
            "tags": []
          },
          "execution_count": 17
        }
      ]
    },
    {
      "cell_type": "markdown",
      "metadata": {
        "id": "EeL0nULT7Ti2"
      },
      "source": [
        "# TF-IDF"
      ]
    },
    {
      "cell_type": "code",
      "metadata": {
        "id": "-UAZvXms7UrL",
        "outputId": "f9d3d658-d127-4410-add8-6990cef80770",
        "colab": {
          "base_uri": "https://localhost:8080/",
          "height": 105
        }
      },
      "source": [
        "from sklearn.feature_extraction.text import TfidfVectorizer\n",
        "\n",
        "tfidf = TfidfVectorizer()\n",
        "bow_rep_tfidf = tfidf.fit_transform(test_data)\n",
        "print(tfidf.get_feature_names())\n",
        "print(bow_rep_tfidf.toarray())"
      ],
      "execution_count": null,
      "outputs": [
        {
          "output_type": "stream",
          "text": [
            "['bites', 'dog', 'eats', 'food', 'man', 'meat']\n",
            "[[0.65782931 0.53256952 0.         0.         0.53256952 0.        ]\n",
            " [0.65782931 0.53256952 0.         0.         0.53256952 0.        ]\n",
            " [0.         0.44809973 0.55349232 0.         0.         0.70203482]\n",
            " [0.         0.         0.55349232 0.70203482 0.44809973 0.        ]]\n"
          ],
          "name": "stdout"
        }
      ]
    },
    {
      "cell_type": "markdown",
      "metadata": {
        "id": "CDsy0-OrHzj0"
      },
      "source": [
        "# Pre-trained Word Embeddings"
      ]
    },
    {
      "cell_type": "markdown",
      "metadata": {
        "id": "poOxO8uCH2zx"
      },
      "source": [
        "There are many repositories with pre-trained word embeddings. For example the [gensim data repository](https://github.com/RaRe-Technologies/gensim-data). Gensim is a great library to load word embeddings"
      ]
    },
    {
      "cell_type": "code",
      "metadata": {
        "id": "Yi9wbnVVIETW",
        "outputId": "6ea06692-7452-4f90-d8c3-e28a97d3e1cb",
        "colab": {
          "base_uri": "https://localhost:8080/",
          "height": 212
        }
      },
      "source": [
        "!wget -P /tmp/input/ -c \"https://s3.amazonaws.com/dl4j-distribution/GoogleNews-vectors-negative300.bin.gz\""
      ],
      "execution_count": null,
      "outputs": [
        {
          "output_type": "stream",
          "text": [
            "--2020-10-19 13:52:28--  https://s3.amazonaws.com/dl4j-distribution/GoogleNews-vectors-negative300.bin.gz\n",
            "Resolving s3.amazonaws.com (s3.amazonaws.com)... 52.217.102.214\n",
            "Connecting to s3.amazonaws.com (s3.amazonaws.com)|52.217.102.214|:443... connected.\n",
            "HTTP request sent, awaiting response... 200 OK\n",
            "Length: 1647046227 (1.5G) [application/x-gzip]\n",
            "Saving to: ‘/tmp/input/GoogleNews-vectors-negative300.bin.gz’\n",
            "\n",
            "GoogleNews-vectors- 100%[===================>]   1.53G  35.0MB/s    in 46s     \n",
            "\n",
            "2020-10-19 13:53:14 (34.4 MB/s) - ‘/tmp/input/GoogleNews-vectors-negative300.bin.gz’ saved [1647046227/1647046227]\n",
            "\n"
          ],
          "name": "stdout"
        }
      ]
    },
    {
      "cell_type": "code",
      "metadata": {
        "id": "HuIp8lsbJk3j"
      },
      "source": [
        "import warnings # Gensim packages have many deprecated functions, however, they still work\n",
        "warnings.filterwarnings(\"ignore\") "
      ],
      "execution_count": null,
      "outputs": []
    },
    {
      "cell_type": "code",
      "metadata": {
        "id": "NAecUa4hIip9"
      },
      "source": [
        "from gensim.models import KeyedVectors\n",
        "pretrainedpath = '/tmp/input/GoogleNews-vectors-negative300.bin.gz'"
      ],
      "execution_count": null,
      "outputs": []
    },
    {
      "cell_type": "code",
      "metadata": {
        "id": "xE0kVk7-I7ZG",
        "outputId": "f14e03a5-c7fb-4045-8628-7a1194b6bfce",
        "colab": {
          "base_uri": "https://localhost:8080/",
          "height": 72
        }
      },
      "source": [
        "w2v_model = KeyedVectors.load_word2vec_format(pretrainedpath, binary=True)"
      ],
      "execution_count": null,
      "outputs": [
        {
          "output_type": "stream",
          "text": [
            "/usr/local/lib/python3.6/dist-packages/smart_open/smart_open_lib.py:252: UserWarning: This function is deprecated, use smart_open.open instead. See the migration notes for details: https://github.com/RaRe-Technologies/smart_open/blob/master/README.rst#migrating-to-the-new-open-function\n",
            "  'See the migration notes for details: %s' % _MIGRATION_NOTES_URL\n"
          ],
          "name": "stderr"
        }
      ]
    },
    {
      "cell_type": "code",
      "metadata": {
        "id": "9RyyUx_AI_bD",
        "outputId": "cbb5cdc3-a3b2-4469-cb02-446f03677f3e",
        "colab": {
          "base_uri": "https://localhost:8080/",
          "height": 194
        }
      },
      "source": [
        "w2v_model.most_similar('obama')"
      ],
      "execution_count": null,
      "outputs": [
        {
          "output_type": "execute_result",
          "data": {
            "text/plain": [
              "[('mccain', 0.7319012880325317),\n",
              " ('hillary', 0.7284600138664246),\n",
              " ('obamas', 0.7229631543159485),\n",
              " ('george_bush', 0.7205674648284912),\n",
              " ('barack_obama', 0.7045838832855225),\n",
              " ('palin', 0.7043113708496094),\n",
              " ('clinton', 0.6934449672698975),\n",
              " ('clintons', 0.6816834807395935),\n",
              " ('sarah_palin', 0.6815144419670105),\n",
              " ('john_mccain', 0.6800708770751953)]"
            ]
          },
          "metadata": {
            "tags": []
          },
          "execution_count": 8
        }
      ]
    },
    {
      "cell_type": "code",
      "metadata": {
        "id": "1j3ibnH9JxUa",
        "outputId": "4a5520f3-e2b2-4e7b-dcae-184aba63cbb9",
        "colab": {
          "base_uri": "https://localhost:8080/",
          "height": 194
        }
      },
      "source": [
        "w2v_model.most_similar(positive=['woman', 'king'], negative=['man'])"
      ],
      "execution_count": null,
      "outputs": [
        {
          "output_type": "execute_result",
          "data": {
            "text/plain": [
              "[('queen', 0.7118192911148071),\n",
              " ('monarch', 0.6189674139022827),\n",
              " ('princess', 0.5902431011199951),\n",
              " ('crown_prince', 0.5499460697174072),\n",
              " ('prince', 0.5377321243286133),\n",
              " ('kings', 0.5236844420433044),\n",
              " ('Queen_Consort', 0.5235945582389832),\n",
              " ('queens', 0.518113374710083),\n",
              " ('sultan', 0.5098593235015869),\n",
              " ('monarchy', 0.5087411999702454)]"
            ]
          },
          "metadata": {
            "tags": []
          },
          "execution_count": 11
        }
      ]
    },
    {
      "cell_type": "code",
      "metadata": {
        "id": "Yx_F3njLKITv"
      },
      "source": [
        "def analogy(x1, x2, y1):\n",
        "    result = w2v_model.most_similar(positive=[y1, x2], negative=[x1])\n",
        "    return result[0][0]"
      ],
      "execution_count": null,
      "outputs": []
    },
    {
      "cell_type": "code",
      "metadata": {
        "id": "g73zNKTDKMkH",
        "outputId": "3f6bc5a9-4c57-41f7-e809-6335ffe96dce",
        "colab": {
          "base_uri": "https://localhost:8080/",
          "height": 35
        }
      },
      "source": [
        "analogy('japan', 'japanese', 'canada')"
      ],
      "execution_count": null,
      "outputs": [
        {
          "output_type": "execute_result",
          "data": {
            "application/vnd.google.colaboratory.intrinsic+json": {
              "type": "string"
            },
            "text/plain": [
              "'canadian'"
            ]
          },
          "metadata": {
            "tags": []
          },
          "execution_count": 20
        }
      ]
    },
    {
      "cell_type": "code",
      "metadata": {
        "id": "BUc3YUG9LlQT"
      },
      "source": [
        "words=  ['coffee', 'tea', 'beer', 'wine', 'brandy', 'rum', 'champagne', 'water',\n",
        "        'spaghetti', 'borscht', 'hamburger', 'pizza', 'falafel', 'sushi', 'meatballs',\n",
        "        'dog', 'horse', 'cat', 'monkey', 'parrot', 'koala', 'lizard',\n",
        "        'frog', 'toad', 'monkey', 'ape', 'kangaroo', 'wombat', 'wolf',\n",
        "        'france', 'germany', 'hungary', 'france', 'australia', 'fiji', 'china',\n",
        "        'homework', 'assignment', 'problem', 'exam', 'test', 'class',\n",
        "        'school', 'college', 'university', 'institute']"
      ],
      "execution_count": null,
      "outputs": []
    },
    {
      "cell_type": "code",
      "metadata": {
        "id": "ZYkfH9dTKdb6",
        "outputId": "e7f0f33d-e318-4da8-b596-9de1ba8bcfd4",
        "colab": {
          "base_uri": "https://localhost:8080/",
          "height": 592
        }
      },
      "source": [
        "from sklearn.decomposition import PCA\n",
        "import numpy as np\n",
        "import matplotlib.pyplot as plt\n",
        "\n",
        "word_vectors = np.array([w2v_model[w] for w in words])\n",
        "\n",
        "twodim = PCA().fit_transform(word_vectors)[:,:2]\n",
        "\n",
        "plt.figure(figsize=(10,10))\n",
        "plt.scatter(twodim[:,0], twodim[:,1], edgecolors='k', c='r')\n",
        "for word, (x,y) in zip(words, twodim):\n",
        "    plt.text(x+0.05, y+0.05, word)\n",
        "plt.style.use('ggplot')\n"
      ],
      "execution_count": null,
      "outputs": [
        {
          "output_type": "display_data",
          "data": {
            "image/png": "[encoded data removed]",
            "text/plain": [
              "<Figure size 720x720 with 1 Axes>"
            ]
          },
          "metadata": {
            "tags": []
          }
        }
      ]
    },
    {
      "cell_type": "markdown",
      "metadata": {
        "id": "EzxVCLnKKDkC"
      },
      "source": [
        "Tokens/Words are always lowercased. If a word is not in the vocabulary, the model throws an exception.\n",
        "\n",
        "SpaCy also has integrated word embeddings"
      ]
    },
    {
      "cell_type": "code",
      "metadata": {
        "id": "rrWjb8TEPalM",
        "outputId": "1f538af0-5369-4e12-c052-91bc778efbf2",
        "colab": {
          "base_uri": "https://localhost:8080/",
          "height": 52
        }
      },
      "source": [
        "import spacy\n",
        "import spacy.cli\n",
        "spacy.cli.download(\"en_core_web_md\")\n",
        "\n",
        "nlp = spacy.load('en_core_web_md')"
      ],
      "execution_count": null,
      "outputs": [
        {
          "output_type": "stream",
          "text": [
            "\u001b[38;5;2m✔ Download and installation successful\u001b[0m\n",
            "You can now load the model via spacy.load('en_core_web_md')\n"
          ],
          "name": "stdout"
        }
      ]
    },
    {
      "cell_type": "code",
      "metadata": {
        "id": "9wWoBaBEOgN-",
        "outputId": "da76038f-df21-4b89-e47d-051ccd764bce",
        "colab": {
          "base_uri": "https://localhost:8080/",
          "height": 87
        }
      },
      "source": [
        "tokens = nlp(\"dog cat banana afskfsd\")\n",
        "\n",
        "for token in tokens:\n",
        "    print(token.text, token.has_vector, token.vector_norm, token.is_oov)"
      ],
      "execution_count": null,
      "outputs": [
        {
          "output_type": "stream",
          "text": [
            "dog True 7.0336733 False\n",
            "cat True 6.6808186 False\n",
            "banana True 6.700014 False\n",
            "afskfsd False 0.0 True\n"
          ],
          "name": "stdout"
        }
      ]
    },
    {
      "cell_type": "markdown",
      "metadata": {
        "id": "4sGNRkudPmU8"
      },
      "source": [
        "Now we have used most of the RAM allowed per session. Try only using one word model per session (they are big!)"
      ]
    },
    {
      "cell_type": "markdown",
      "metadata": {
        "id": "zAwXmUNrQg0_"
      },
      "source": [
        "# Custom Word2Vec "
      ]
    },
    {
      "cell_type": "markdown",
      "metadata": {
        "id": "Cgf_9wHAQlmN"
      },
      "source": [
        "Restart the notebook. Runtime -> Factory reset runtime + Reconnect"
      ]
    },
    {
      "cell_type": "markdown",
      "metadata": {
        "id": "d75irTzPnWJq"
      },
      "source": [
        "Get the Game of Thrones text:"
      ]
    },
    {
      "cell_type": "code",
      "metadata": {
        "id": "J4dgJc_CQq9n",
        "outputId": "1c53d853-2cdd-436a-c2cc-23d574d4a685",
        "colab": {
          "base_uri": "https://localhost:8080/",
          "height": 34
        }
      },
      "source": [
        "import warnings \n",
        "warnings.filterwarnings(\"ignore\") \n",
        "\n",
        "from google.colab import drive\n",
        "drive.mount('/content/drive')\n",
        "path = \"/content/drive/My Drive/\" + \"DL-NLP/Data/\""
      ],
      "execution_count": null,
      "outputs": [
        {
          "output_type": "stream",
          "text": [
            "Mounted at /content/drive\n"
          ],
          "name": "stdout"
        }
      ]
    },
    {
      "cell_type": "markdown",
      "metadata": {
        "id": "43ZP4f-cpPFJ"
      },
      "source": [
        "Gensim Word2Vec needs a list of sentences, with each sentence composed as a list of tokens"
      ]
    },
    {
      "cell_type": "code",
      "metadata": {
        "id": "otB-Jjxupq5l"
      },
      "source": [
        "got_text = \"\"\n",
        "with open(path + \"game_of_thrones.txt\", \"rb\") as file:\n",
        "    for f in file:\n",
        "      line = f.strip()\n",
        "      line = line.decode('unicode_escape').encode('ascii','ignore')\n",
        "      got_text += str(line)"
      ],
      "execution_count": null,
      "outputs": []
    },
    {
      "cell_type": "code",
      "metadata": {
        "id": "7l2HU_tOuZQ0",
        "outputId": "e7189d0d-a133-4999-e3bb-1adf6d681147",
        "colab": {
          "base_uri": "https://localhost:8080/",
          "height": 54
        }
      },
      "source": [
        "print(got_text[:5000])"
      ],
      "execution_count": null,
      "outputs": [
        {
          "output_type": "stream",
          "text": [
            "b'A Game Of Thrones'b'Book One of A Song of Ice and Fire'b'By George R. R. Martin'b'PROLOGUE'b'\"We should start back,\" Gared urged as the woods began to grow dark around them. \"The wildlings are'b'dead.\"'b'\"Do the dead frighten you?\" Ser Waymar Royce asked with just the hint of a smile.'b'Gared did not rise to the bait. He was an old man, past fifty, and he had seen the lordlings come and go.'b'\"Dead is dead,\" he said. \"We have no business with the dead.\"'b'\"Are they dead?\" Royce asked softly. \"What proof have we?\"'b'\"Will saw them,\" Gared said. \"If he says they are dead, that\\'s proof enough for me.\"'b'Will had known they would drag him into the quarrel sooner or later. He wished it had been later rather'b'than sooner. \"My mother told me that dead men sing no songs,\" he put in.'b'\"My wet nurse said the same thing, Will,\" Royce replied. \"Never believe anything you hear at a woman\\'s'b'tit. There are things to be learned even from the dead.\" His voice echoed, too loud in the twilit forest.'b'Page 1'b''b'\"We have a long ride before us,\" Gared pointed out. \"Eight days, maybe nine. And night is falling.\"'b'Ser Waymar Royce glanced at the sky with disinterest. \"It does that every day about this time. Are you'b'unmanned by the dark, Gared?\"'b\"Will could see the tightness around Gared's mouth, the barely sup\"b'pressed anger in his eyes under the thick black hood of his cloak. Gared had spent forty years in the'b\"Night's Watch, man and boy, and he was not accustomed to being made light of. Yet it was more than\"b'that. Under the wounded pride, Will could sense something else in the older man. You could taste it; a'b'nervous tension that came perilous close to fear.'b'Will shared his unease. He had been four years on the Wall. The first time he had been sent beyond, all'b'the old stories had come rushing back, and his bowels had turned to water. He had laughed about it'b'afterward. He was a veteran of a hundred rangings by now, and the endless dark wilderness that the'b'southron called the haunted forest had no more terrors for him.'b'Until tonight. Something was different tonight. There was an edge to this darkness that made his hackles'b'rise. Nine days they had been riding, north and northwest and then north again, farther and farther from'b'the Wall, hard on the track of a band of wildling raiders. Each day had been worse than the day that had'b'come before it. Today was the worst of all. A cold wind was blowing out of the north, and it made the'b'trees rustle like living things. All day, Will had felt as though something were watching him, something'b'cold and implacable that loved him not. Gared had felt it too. Will wanted nothing so much as to ride'b'hellbent for the safety of the Wall, but that was not a feeling to share with your commander.'b'Especially not a commander like this one.'b'Ser Waymar Royce was the youngest son of an ancient house with too many heirs. He was a handsome'b'youth of eighteen, grey-eyed and graceful and slender as a knife. Mounted on his huge black destrier, the'b'knight towered above Will and Gared on their smaller garrons. He wore black leather boots, black'b'woolen pants, black moleskin gloves, and a fine supple coat of gleaming black ringmail over layers of'b\"black wool and boiled leather. Ser Waymar had been a Sworn Brother of the Night's Watch for less than\"b'half a year, but no one could say he had not prepared for his vocation. At least insofar as his wardrobe'b'was concerned.'b'His cloak was his crowning glory; sable, thick and black and soft as sin. \"Bet he killed them all himself,'b'he did,\" Gared told the barracks over wine, \"twisted their little heads off, our mighty warrior.\" They had'b'all shared the laugh.'b'It is hard to take orders from a man you laughed at in your cups, Will reflected as he sat shivering atop'b'his garron. Gared must have felt the same.'b'\"Mormont said as we should track them, and we did,\" Gared said.'b'\"They\\'re dead. They shan\\'t trouble us no more. There\\'s hard riding before us. I don\\'t like this weather. If'b\"it snows, we could be a fortnight getting back, and snow's the best we can hope for. Ever seen an ice\"b'storm, my lord?\"'b'The lordling seemed not to hear him. He studied the deepening twilight in that half-bored, half-distracted'b'Page 2'b''b'way he had. Will had ridden with the knight long enough to understand that it was best not to interrupt'b'him when he looked like that. \"Tell me again what you saw, Will. All the details. Leave nothing out.\"'b\"Will had been a hunter before he joined the Night's Watch. Well, a poacher in truth. Mallister freeriders\"b\"had caught him red-handed in the Mallisters' own woods, skinning one of the Mallisters' own bucks, and\"b'it had been a choice of putting on the black or losing a hand. No one could move through the woods as'b'silent as Will, and it had not taken the black brothers long to discover his talent.'b'\"The camp is two miles farther on, over that ridge, hard beside a stream,\" Will said. \"I got\n"
          ],
          "name": "stdout"
        }
      ]
    },
    {
      "cell_type": "markdown",
      "metadata": {
        "id": "lkiSPpljDcGv"
      },
      "source": [
        "Escape sequences depend on the type of text data you use. HTML use \"\\<br /\\>\", binary use \"'b'\", and most of the text use \"\\n\" or \"\\r\""
      ]
    },
    {
      "cell_type": "code",
      "metadata": {
        "id": "ThsGsK0vvoV6"
      },
      "source": [
        "got_text = got_text.replace(\"'b'\", \" \").replace(\"'b\\\"\", \" \").replace(\"\\\"b'\", \"\")[2:]"
      ],
      "execution_count": null,
      "outputs": []
    },
    {
      "cell_type": "code",
      "metadata": {
        "id": "QTiT_iW4zCmG",
        "outputId": "6b0f3f0c-a895-45a3-ca34-db2f1f625241",
        "colab": {
          "base_uri": "https://localhost:8080/",
          "height": 54
        }
      },
      "source": [
        "print(got_text[:5000])"
      ],
      "execution_count": null,
      "outputs": [
        {
          "output_type": "stream",
          "text": [
            "A Game Of Thrones Book One of A Song of Ice and Fire By George R. R. Martin PROLOGUE \"We should start back,\" Gared urged as the woods began to grow dark around them. \"The wildlings are dead.\" \"Do the dead frighten you?\" Ser Waymar Royce asked with just the hint of a smile. Gared did not rise to the bait. He was an old man, past fifty, and he had seen the lordlings come and go. \"Dead is dead,\" he said. \"We have no business with the dead.\" \"Are they dead?\" Royce asked softly. \"What proof have we?\" \"Will saw them,\" Gared said. \"If he says they are dead, that\\'s proof enough for me.\" Will had known they would drag him into the quarrel sooner or later. He wished it had been later rather than sooner. \"My mother told me that dead men sing no songs,\" he put in. \"My wet nurse said the same thing, Will,\" Royce replied. \"Never believe anything you hear at a woman\\'s tit. There are things to be learned even from the dead.\" His voice echoed, too loud in the twilit forest. Page 1  \"We have a long ride before us,\" Gared pointed out. \"Eight days, maybe nine. And night is falling.\" Ser Waymar Royce glanced at the sky with disinterest. \"It does that every day about this time. Are you unmanned by the dark, Gared?\" Will could see the tightness around Gared's mouth, the barely suppressed anger in his eyes under the thick black hood of his cloak. Gared had spent forty years in the Night's Watch, man and boy, and he was not accustomed to being made light of. Yet it was more thanthat. Under the wounded pride, Will could sense something else in the older man. You could taste it; a nervous tension that came perilous close to fear. Will shared his unease. He had been four years on the Wall. The first time he had been sent beyond, all the old stories had come rushing back, and his bowels had turned to water. He had laughed about it afterward. He was a veteran of a hundred rangings by now, and the endless dark wilderness that the southron called the haunted forest had no more terrors for him. Until tonight. Something was different tonight. There was an edge to this darkness that made his hackles rise. Nine days they had been riding, north and northwest and then north again, farther and farther from the Wall, hard on the track of a band of wildling raiders. Each day had been worse than the day that had come before it. Today was the worst of all. A cold wind was blowing out of the north, and it made the trees rustle like living things. All day, Will had felt as though something were watching him, something cold and implacable that loved him not. Gared had felt it too. Will wanted nothing so much as to ride hellbent for the safety of the Wall, but that was not a feeling to share with your commander. Especially not a commander like this one. Ser Waymar Royce was the youngest son of an ancient house with too many heirs. He was a handsome youth of eighteen, grey-eyed and graceful and slender as a knife. Mounted on his huge black destrier, the knight towered above Will and Gared on their smaller garrons. He wore black leather boots, black woolen pants, black moleskin gloves, and a fine supple coat of gleaming black ringmail over layers of black wool and boiled leather. Ser Waymar had been a Sworn Brother of the Night's Watch for less thanhalf a year, but no one could say he had not prepared for his vocation. At least insofar as his wardrobe was concerned. His cloak was his crowning glory; sable, thick and black and soft as sin. \"Bet he killed them all himself, he did,\" Gared told the barracks over wine, \"twisted their little heads off, our mighty warrior.\" They had all shared the laugh. It is hard to take orders from a man you laughed at in your cups, Will reflected as he sat shivering atop his garron. Gared must have felt the same. \"Mormont said as we should track them, and we did,\" Gared said. \"They\\'re dead. They shan\\'t trouble us no more. There\\'s hard riding before us. I don\\'t like this weather. If it snows, we could be a fortnight getting back, and snow's the best we can hope for. Ever seen an icestorm, my lord?\" The lordling seemed not to hear him. He studied the deepening twilight in that half-bored, half-distracted Page 2  way he had. Will had ridden with the knight long enough to understand that it was best not to interrupt him when he looked like that. \"Tell me again what you saw, Will. All the details. Leave nothing out.\" Will had been a hunter before he joined the Night's Watch. Well, a poacher in truth. Mallister freeriders\"b\"had caught him red-handed in the Mallisters' own woods, skinning one of the Mallisters' own bucks, andit had been a choice of putting on the black or losing a hand. No one could move through the woods as silent as Will, and it had not taken the black brothers long to discover his talent. \"The camp is two miles farther on, over that ridge, hard beside a stream,\" Will said. \"I got close as I dared. There's eight of them, men and women both. No children I could see. They put up a lean-to\"b\"against the rock. \n"
          ],
          "name": "stdout"
        }
      ]
    },
    {
      "cell_type": "code",
      "metadata": {
        "id": "4g2hPfBpwXB3",
        "outputId": "b8f07511-a7c7-457e-8659-2df448b46142",
        "colab": {
          "base_uri": "https://localhost:8080/",
          "height": 70
        }
      },
      "source": [
        "import re\n",
        "import nltk\n",
        "nltk.download('punkt')"
      ],
      "execution_count": null,
      "outputs": [
        {
          "output_type": "stream",
          "text": [
            "[nltk_data] Downloading package punkt to /root/nltk_data...\n",
            "[nltk_data]   Unzipping tokenizers/punkt.zip.\n"
          ],
          "name": "stdout"
        },
        {
          "output_type": "execute_result",
          "data": {
            "text/plain": [
              "True"
            ]
          },
          "metadata": {
            "tags": []
          },
          "execution_count": 135
        }
      ]
    },
    {
      "cell_type": "code",
      "metadata": {
        "id": "s0w0Nw7N0EVW"
      },
      "source": [
        "got_sentences = nltk.sent_tokenize(got_text)"
      ],
      "execution_count": null,
      "outputs": []
    },
    {
      "cell_type": "code",
      "metadata": {
        "id": "LlUcnX4OzTRH",
        "outputId": "1612ed46-4874-4dfe-e038-c30c461643fa",
        "colab": {
          "base_uri": "https://localhost:8080/",
          "height": 392
        }
      },
      "source": [
        "got_sentences[:20]"
      ],
      "execution_count": null,
      "outputs": [
        {
          "output_type": "execute_result",
          "data": {
            "text/plain": [
              "['A Game Of Thrones Book One of A Song of Ice and Fire By George R. R. Martin PROLOGUE \"We should start back,\" Gared urged as the woods began to grow dark around them.',\n",
              " '\"The wildlings are dead.\"',\n",
              " '\"Do the dead frighten you?\"',\n",
              " 'Ser Waymar Royce asked with just the hint of a smile.',\n",
              " 'Gared did not rise to the bait.',\n",
              " 'He was an old man, past fifty, and he had seen the lordlings come and go.',\n",
              " '\"Dead is dead,\" he said.',\n",
              " '\"We have no business with the dead.\"',\n",
              " '\"Are they dead?\"',\n",
              " 'Royce asked softly.',\n",
              " '\"What proof have we?\"',\n",
              " '\"Will saw them,\" Gared said.',\n",
              " '\"If he says they are dead, that\\\\\\'s proof enough for me.\"',\n",
              " 'Will had known they would drag him into the quarrel sooner or later.',\n",
              " 'He wished it had been later rather than sooner.',\n",
              " '\"My mother told me that dead men sing no songs,\" he put in.',\n",
              " '\"My wet nurse said the same thing, Will,\" Royce replied.',\n",
              " '\"Never believe anything you hear at a woman\\\\\\'s tit.',\n",
              " 'There are things to be learned even from the dead.\"',\n",
              " 'His voice echoed, too loud in the twilit forest.']"
            ]
          },
          "metadata": {
            "tags": []
          },
          "execution_count": 114
        }
      ]
    },
    {
      "cell_type": "code",
      "metadata": {
        "id": "wtHae0jH1fmq",
        "outputId": "64694cf6-2441-496b-e311-b9dde8e9f9f8",
        "colab": {
          "base_uri": "https://localhost:8080/",
          "height": 34
        }
      },
      "source": [
        "re.findall(r'(\\w+)', got_sentences[19])"
      ],
      "execution_count": null,
      "outputs": [
        {
          "output_type": "execute_result",
          "data": {
            "text/plain": [
              "['His', 'voice', 'echoed', 'too', 'loud', 'in', 'the', 'twilit', 'forest']"
            ]
          },
          "metadata": {
            "tags": []
          },
          "execution_count": 115
        }
      ]
    },
    {
      "cell_type": "code",
      "metadata": {
        "id": "tQTrAwio02Mv"
      },
      "source": [
        "got_tokens = [re.findall(r'(\\w+)', sentence) for sentence in got_sentences]"
      ],
      "execution_count": null,
      "outputs": []
    },
    {
      "cell_type": "code",
      "metadata": {
        "id": "LClSNVH-1zpX",
        "outputId": "a043a1ed-e3ae-438e-864a-2e92b511f112",
        "colab": {
          "base_uri": "https://localhost:8080/",
          "height": 372
        }
      },
      "source": [
        "got_tokens[17:19]"
      ],
      "execution_count": null,
      "outputs": [
        {
          "output_type": "execute_result",
          "data": {
            "text/plain": [
              "[['Never',\n",
              "  'believe',\n",
              "  'anything',\n",
              "  'you',\n",
              "  'hear',\n",
              "  'at',\n",
              "  'a',\n",
              "  'woman',\n",
              "  's',\n",
              "  'tit'],\n",
              " ['There',\n",
              "  'are',\n",
              "  'things',\n",
              "  'to',\n",
              "  'be',\n",
              "  'learned',\n",
              "  'even',\n",
              "  'from',\n",
              "  'the',\n",
              "  'dead']]"
            ]
          },
          "metadata": {
            "tags": []
          },
          "execution_count": 78
        }
      ]
    },
    {
      "cell_type": "markdown",
      "metadata": {
        "id": "vAknBSb81-r-"
      },
      "source": [
        "Until now everything was preprocessing... normally this will take most of the time!"
      ]
    },
    {
      "cell_type": "code",
      "metadata": {
        "id": "JHQttS5B1-LT"
      },
      "source": [
        "from gensim.models import Word2Vec\n",
        "got_model = Word2Vec(got_tokens, size=128, window=3, min_count=5, workers=4) # Default CBOW, otherwise sg=1"
      ],
      "execution_count": null,
      "outputs": []
    },
    {
      "cell_type": "code",
      "metadata": {
        "id": "sKSxX8hF2bFP",
        "outputId": "e433a80c-0a53-47bd-a837-7ae3f0efe829",
        "colab": {
          "base_uri": "https://localhost:8080/",
          "height": 194
        }
      },
      "source": [
        "got_model.most_similar('walkers')"
      ],
      "execution_count": null,
      "outputs": [
        {
          "output_type": "execute_result",
          "data": {
            "text/plain": [
              "[('flecked', 0.8892049789428711),\n",
              " ('sentinels', 0.8772892951965332),\n",
              " ('grapes', 0.8725183010101318),\n",
              " ('indigo', 0.8721906542778015),\n",
              " ('jet', 0.8707931041717529),\n",
              " ('veined', 0.8689773082733154),\n",
              " ('wilderness', 0.8681952953338623),\n",
              " ('coal', 0.8676015734672546),\n",
              " ('sulfur', 0.8661009073257446),\n",
              " ('scale', 0.8647270202636719)]"
            ]
          },
          "metadata": {
            "tags": []
          },
          "execution_count": 97
        }
      ]
    },
    {
      "cell_type": "code",
      "metadata": {
        "id": "rCsOn5Al5M7N",
        "outputId": "0d84595a-695e-474d-8113-19ca8dbc6ef6",
        "colab": {
          "base_uri": "https://localhost:8080/",
          "height": 35
        }
      },
      "source": [
        "got_model.most_similar(positive=[\"Ned\", \"Jaime\"], negative=[\"Catelyn\"])[0][0]"
      ],
      "execution_count": null,
      "outputs": [
        {
          "output_type": "execute_result",
          "data": {
            "application/vnd.google.colaboratory.intrinsic+json": {
              "type": "string"
            },
            "text/plain": [
              "'Cersei'"
            ]
          },
          "metadata": {
            "tags": []
          },
          "execution_count": 93
        }
      ]
    },
    {
      "cell_type": "code",
      "metadata": {
        "id": "hP-1k2ue2zNR"
      },
      "source": [
        "characters= [\"Joffrey\", \"Ned\", \"Baratheon\", \"Jaime\", \"Catelyn\", \"Stark\", \"Cersei\", \"Lannister\", \"Jorah\",\n",
        "              \"Jon\", \"Snow\", \"Robb\", \"Sansa\", \"Arya\", \"Theon\", \"Bran\", \"Clegane\", \"Tyrion\", \"Littlefinger\",\n",
        "              \"Davos\", \"Samwell\", \"Stannis\", \"Melisandre\", \"Bronn\", \"Shae\", \"Margaery\", \"Tywin\", \"Daenerys\", \n",
        "              \"Ramsay\", \"Brienne\", \"Ygritte\", \"Tormund\", \"Bolton\", \"Worm\"]"
      ],
      "execution_count": null,
      "outputs": []
    },
    {
      "cell_type": "code",
      "metadata": {
        "id": "2tybNrQU3lBi",
        "outputId": "f0be5065-2eee-4a7d-93f2-2bb47123b064",
        "colab": {
          "base_uri": "https://localhost:8080/",
          "height": 592
        }
      },
      "source": [
        "from sklearn.decomposition import PCA\n",
        "import matplotlib.pyplot as plt\n",
        "import numpy as np\n",
        "\n",
        "word_vectors = np.array([got_model[w] for w in characters])\n",
        "\n",
        "twodim = PCA().fit_transform(word_vectors)[:,:2]\n",
        "\n",
        "plt.figure(figsize=(10,10))\n",
        "plt.scatter(twodim[:,0], twodim[:,1], edgecolors='k', c='r')\n",
        "for word, (x,y) in zip(words, twodim):\n",
        "    plt.text(x+0.05, y+0.05, word)\n",
        "plt.style.use('ggplot')"
      ],
      "execution_count": null,
      "outputs": [
        {
          "output_type": "display_data",
          "data": {
            "image/png": "[encoded data removed]",
            "text/plain": [
              "<Figure size 720x720 with 1 Axes>"
            ]
          },
          "metadata": {
            "tags": []
          }
        }
      ]
    },
    {
      "cell_type": "markdown",
      "metadata": {
        "id": "dYsVF9P8Q2cY"
      },
      "source": [
        "# Custom FastText"
      ]
    },
    {
      "cell_type": "markdown",
      "metadata": {
        "id": "kbwLdOJ_9v7-"
      },
      "source": [
        "FastText needs as input raw processed texts, no lists"
      ]
    },
    {
      "cell_type": "code",
      "metadata": {
        "id": "MHVpGsx9RjNs",
        "outputId": "d4bf7a1d-81a3-4445-9613-05c6d48e39b4",
        "colab": {
          "base_uri": "https://localhost:8080/",
          "height": 267
        }
      },
      "source": [
        "!pip install fasttext\n",
        "import fasttext"
      ],
      "execution_count": null,
      "outputs": [
        {
          "output_type": "stream",
          "text": [
            "Collecting fasttext\n",
            "\u001b[?25l  Downloading https://files.pythonhosted.org/packages/f8/85/e2b368ab6d3528827b147fdb814f8189acc981a4bc2f99ab894650e05c40/fasttext-0.9.2.tar.gz (68kB)\n",
            "\r\u001b[K     |████▊                           | 10kB 16.2MB/s eta 0:00:01\r\u001b[K     |█████████▌                      | 20kB 1.7MB/s eta 0:00:01\r\u001b[K     |██████████████▎                 | 30kB 2.2MB/s eta 0:00:01\r\u001b[K     |███████████████████             | 40kB 2.5MB/s eta 0:00:01\r\u001b[K     |███████████████████████▉        | 51kB 1.9MB/s eta 0:00:01\r\u001b[K     |████████████████████████████▋   | 61kB 2.2MB/s eta 0:00:01\r\u001b[K     |████████████████████████████████| 71kB 1.7MB/s \n",
            "\u001b[?25hRequirement already satisfied: pybind11>=2.2 in /usr/local/lib/python3.6/dist-packages (from fasttext) (2.5.0)\n",
            "Requirement already satisfied: setuptools>=0.7.0 in /usr/local/lib/python3.6/dist-packages (from fasttext) (50.3.0)\n",
            "Requirement already satisfied: numpy in /usr/local/lib/python3.6/dist-packages (from fasttext) (1.18.5)\n",
            "Building wheels for collected packages: fasttext\n",
            "  Building wheel for fasttext (setup.py) ... \u001b[?25l\u001b[?25hdone\n",
            "  Created wheel for fasttext: filename=fasttext-0.9.2-cp36-cp36m-linux_x86_64.whl size=3018197 sha256=c6072010a1f3c1221d375a9a1f309a9065564cdbf00fd5621db9aac74e423b87\n",
            "  Stored in directory: /root/.cache/pip/wheels/98/ba/7f/b154944a1cf5a8cee91c154b75231136cc3a3321ab0e30f592\n",
            "Successfully built fasttext\n",
            "Installing collected packages: fasttext\n",
            "Successfully installed fasttext-0.9.2\n"
          ],
          "name": "stdout"
        }
      ]
    },
    {
      "cell_type": "code",
      "metadata": {
        "id": "2cIpx5B09GxN"
      },
      "source": [
        "got_tokens_flat = [token for sentence in got_tokens for token in sentence]\n",
        "with open(\"game_of_thrones_clean.txt\", \"w\") as file:\n",
        "  file.write(\" \".join(got_tokens_flat))"
      ],
      "execution_count": null,
      "outputs": []
    },
    {
      "cell_type": "code",
      "metadata": {
        "id": "1uaQt6CM7bxn"
      },
      "source": [
        "model = fasttext.train_unsupervised(\"game_of_thrones_clean.txt\")"
      ],
      "execution_count": null,
      "outputs": []
    },
    {
      "cell_type": "code",
      "metadata": {
        "id": "xX7kAZk3_2dl",
        "outputId": "31bdae97-8b33-4465-f6c8-7f481308dc72",
        "colab": {
          "base_uri": "https://localhost:8080/",
          "height": 194
        }
      },
      "source": [
        "model.get_nearest_neighbors('walkers')"
      ],
      "execution_count": null,
      "outputs": [
        {
          "output_type": "execute_result",
          "data": {
            "text/plain": [
              "[(0.8015481233596802, 'walks'),\n",
              " (0.7136003375053406, 'newcomers'),\n",
              " (0.7101641297340393, 'Strangers'),\n",
              " (0.7083956003189087, 'strangers'),\n",
              " (0.7071851491928101, 'walking'),\n",
              " (0.7011120915412903, 'walked'),\n",
              " (0.6838564872741699, 'partners'),\n",
              " (0.6805073618888855, 'ledgers'),\n",
              " (0.6767196655273438, 'dangers'),\n",
              " (0.6716370582580566, 'walk')]"
            ]
          },
          "metadata": {
            "tags": []
          },
          "execution_count": 128
        }
      ]
    },
    {
      "cell_type": "code",
      "metadata": {
        "id": "LnIng6bXAp6x",
        "outputId": "b21b8de4-f804-4c35-d008-8cc0a20f3da3",
        "colab": {
          "base_uri": "https://localhost:8080/",
          "height": 194
        }
      },
      "source": [
        "model.get_analogies(\"Ned\", \"Catelyn\", \"Jaime\")"
      ],
      "execution_count": null,
      "outputs": [
        {
          "output_type": "execute_result",
          "data": {
            "text/plain": [
              "[(0.6068811416625977, 'king'),\n",
              " (0.5810509324073792, 'Praed'),\n",
              " (0.563240647315979, 'fooled'),\n",
              " (0.5576578974723816, 'Served'),\n",
              " (0.5505227446556091, 'he'),\n",
              " (0.5494360327720642, 'Esgred'),\n",
              " (0.5489625930786133, 'Hasty'),\n",
              " (0.543505072593689, 'Need'),\n",
              " (0.5407057404518127, 'theft'),\n",
              " (0.5380010604858398, 'penned')]"
            ]
          },
          "metadata": {
            "tags": []
          },
          "execution_count": 129
        }
      ]
    },
    {
      "cell_type": "code",
      "metadata": {
        "id": "LrxnbzCYBAl-",
        "outputId": "98d1b09f-db7a-456a-9e60-1376a9a2aad7",
        "colab": {
          "base_uri": "https://localhost:8080/",
          "height": 592
        }
      },
      "source": [
        "from sklearn.decomposition import PCA\n",
        "import matplotlib.pyplot as plt\n",
        "import numpy as np\n",
        "\n",
        "word_vectors = np.array([model[w] for w in characters])\n",
        "\n",
        "twodim = PCA().fit_transform(word_vectors)[:,:2]\n",
        "\n",
        "plt.figure(figsize=(10,10))\n",
        "plt.scatter(twodim[:,0], twodim[:,1], edgecolors='k', c='r')\n",
        "for word, (x,y) in zip(words, twodim):\n",
        "    plt.text(x+0.05, y+0.05, word)\n",
        "plt.style.use('ggplot')"
      ],
      "execution_count": null,
      "outputs": [
        {
          "output_type": "display_data",
          "data": {
            "image/png": "[encoded data removed]",
            "text/plain": [
              "<Figure size 720x720 with 1 Axes>"
            ]
          },
          "metadata": {
            "tags": []
          }
        }
      ]
    },
    {
      "cell_type": "markdown",
      "metadata": {
        "id": "G8YP500qPqce"
      },
      "source": [
        "# Word Embeddings for text classification"
      ]
    },
    {
      "cell_type": "code",
      "metadata": {
        "id": "KnSqYwEkRm5F"
      },
      "source": [
        "import tensorflow as tf"
      ],
      "execution_count": null,
      "outputs": []
    },
    {
      "cell_type": "markdown",
      "metadata": {
        "id": "cPC0waP7PudP"
      },
      "source": [
        "You have three options for using word embeddings to solve NLP tasks:\n",
        "\n",
        "\n",
        "1.   Use pre-trained embeddings\n",
        "2.   Fine-tune pre-trained embeddings \n",
        "3.   Learn embeddings from scratch according to the task\n",
        "\n",
        "Programming skipgram from scratch belongs to option 1! (not 3) The pre-trained embedding you train will hardly be as good as state-of-the-art embeddings\n",
        "\n",
        "Let's try the three options and classify the IMDb Dataset with positive and negative reviews.\n",
        "\n"
      ]
    },
    {
      "cell_type": "markdown",
      "metadata": {
        "id": "O6dlfDzhRs-J"
      },
      "source": [
        "## 1) Use Pre-trained embeddings"
      ]
    },
    {
      "cell_type": "markdown",
      "metadata": {
        "id": "4WoN5PGLdirF"
      },
      "source": [
        "### Load the Data"
      ]
    },
    {
      "cell_type": "markdown",
      "metadata": {
        "id": "qokFvCazfPl8"
      },
      "source": [
        "Throughout the course we will learn how to input text into TensorFlow. This always is a headache... For this first example, we will use a common dataset, the simplest method. It loads a keras **dataset** . "
      ]
    },
    {
      "cell_type": "code",
      "metadata": {
        "id": "avGOEIWzRxv7",
        "outputId": "08b1b7e5-a4dc-4edc-e866-4c0d34687c17",
        "colab": {
          "base_uri": "https://localhost:8080/",
          "height": 356,
          "referenced_widgets": [
            "e64bf8b1d4404620912afebf023acfbd",
            "ac7c3e985932428aa7ba512d003610c5",
            "3871f964b3734ed7995865d6ef5264aa",
            "8a4fc14769c14e9fabdec8c688fffcaa",
            "f1cff2b1ec9046fd81c0c2c39df9ff51",
            "edabe13e812c4c439bca81be5bea8b04",
            "70ad3b4f18a8456296f47faad39dcb27",
            "2cdbdf50ee084efbaa4f8f053403e8ab",
            "a7273f3e1b29483aa851e65e91a1295a",
            "5071ddb32d054b09a448a1600de91735",
            "6be1945d2c824076b2b53e6816e51917",
            "6a385cb084a64f4eaa681568909afdb5",
            "235172aa7c794d48a63c4ed1a2cb91b2",
            "a051267d44f8444d83adf875bf8afec4",
            "59a6d11744954559b2c634f266316cd0",
            "af4a6d728a474a8993a1bca1319addb6",
            "8f902fee35fa436d9cc9edf3acdc91b3",
            "1f9d29185832466982d09068066336e0",
            "ac1d3c1d6db947ecb05fce986ed3af1e",
            "656820fc21f147a6ab1ec01b20a03101",
            "71b490d2f18f435da8e1a2beda01daee",
            "185b7733829e4076bbffdd9a75656589",
            "c65f9a50eb9642158cdf009d07a60f48",
            "436f5b0116a2412080174d19819a6c24",
            "6a45542fe9c64c0ba66d61eef295b989",
            "c14033aa32e8407a894aeaffb5ee0b9a",
            "a1f91054a31d482bbab10f0f096cb554",
            "8947063c3c034345913779f252840949",
            "de2528f3410243e5a3defb6f51702e79",
            "14f439456dd94d6ba2201690f816a0a6",
            "9373f5508292497c93a3a700b9d1f081",
            "0d6f330535044f68b693164848a1478f",
            "94f006ae7548498dad5d5e912c5ccad9",
            "e0852f9534204b39914876d2beda9df2",
            "80cd33df02d74e7598b850021ab0c0df",
            "dbf1585b90544eabb9f30ff4a7e85362",
            "c77c80c070f34e46973c780c0d94a276",
            "d2a4b9715d1144c5a00fa5c2431a8580",
            "18698e39240840c89d21d7c63b9f6618",
            "b6123d7562c64724a0ba26e6006eb191",
            "c25cde5fb83842859159ede0b44a59b0",
            "302cf637139e4a1282167349814b8f18",
            "3e3e17b2358f4112b3f50273480a9b34",
            "f7e4fc9c353e452b8e09b7c21131db65",
            "74ae6fe945c0410eb1ab5dc1196e3b8f",
            "5f7eb0ea212e4d9ebaee8fdcb6c945e9",
            "0303e9bef92a46688e3b328eeed42545",
            "bd214e3aa7d443d3b14ba58ebf35422f",
            "84729d243066472fa584020529504546",
            "f339fd6b75fc4968900ece1207ebb5bf",
            "41270c96d4aa4d2b8a5d857b99a814b5",
            "6b816bc47a0547b6b8cef099cd43f0e2",
            "ed9bdc598c42401caf6131ed5b241739",
            "e5b298ef6293424f88a43050399bb400",
            "3fd65d0b4c9540c5b3ecbc607e9932b1",
            "b566d47ed0d7493f8b23aeff95c3554d",
            "2c4dabdbd3264eddae617df63729a580",
            "cec630b76e8943b49d3f89d5b75bb73c",
            "04c7d581ba8a4c18b4e9ce064d3496bb",
            "b069407caf354ff48145eb459e2c7077",
            "d6ce682008bf40c685189907cd39ee95",
            "094b6864b89840988f3a51fe954f7e85",
            "fc7044e6134747c3ab01bf06a258570f",
            "2d59fd23a6834e7ca94383ddb0a742ec"
          ]
        }
      },
      "source": [
        "import tensorflow_datasets as tfds\n",
        "\n",
        "train_data, validation_data, test_data = tfds.load(\n",
        "    name=\"imdb_reviews\", \n",
        "    split=('train[:60%]', 'train[60%:]', 'test'),\n",
        "    as_supervised=True)"
      ],
      "execution_count": null,
      "outputs": [
        {
          "output_type": "stream",
          "text": [
            "\u001b[1mDownloading and preparing dataset imdb_reviews/plain_text/1.0.0 (download: 80.23 MiB, generated: Unknown size, total: 80.23 MiB) to /root/tensorflow_datasets/imdb_reviews/plain_text/1.0.0...\u001b[0m\n"
          ],
          "name": "stdout"
        },
        {
          "output_type": "display_data",
          "data": {
            "application/vnd.jupyter.widget-view+json": {
              "model_id": "e64bf8b1d4404620912afebf023acfbd",
              "version_minor": 0,
              "version_major": 2
            },
            "text/plain": [
              "HBox(children=(FloatProgress(value=1.0, bar_style='info', description='Dl Completed...', max=1.0, style=Progre…"
            ]
          },
          "metadata": {
            "tags": []
          }
        },
        {
          "output_type": "display_data",
          "data": {
            "application/vnd.jupyter.widget-view+json": {
              "model_id": "a7273f3e1b29483aa851e65e91a1295a",
              "version_minor": 0,
              "version_major": 2
            },
            "text/plain": [
              "HBox(children=(FloatProgress(value=1.0, bar_style='info', description='Dl Size...', max=1.0, style=ProgressSty…"
            ]
          },
          "metadata": {
            "tags": []
          }
        },
        {
          "output_type": "stream",
          "text": [
            "\n",
            "\n",
            "\n",
            "\n"
          ],
          "name": "stdout"
        },
        {
          "output_type": "display_data",
          "data": {
            "application/vnd.jupyter.widget-view+json": {
              "model_id": "8f902fee35fa436d9cc9edf3acdc91b3",
              "version_minor": 0,
              "version_major": 2
            },
            "text/plain": [
              "HBox(children=(FloatProgress(value=1.0, bar_style='info', max=1.0), HTML(value='')))"
            ]
          },
          "metadata": {
            "tags": []
          }
        },
        {
          "output_type": "stream",
          "text": [
            "\rShuffling and writing examples to /root/tensorflow_datasets/imdb_reviews/plain_text/1.0.0.incompleteS9WJF8/imdb_reviews-train.tfrecord\n"
          ],
          "name": "stdout"
        },
        {
          "output_type": "display_data",
          "data": {
            "application/vnd.jupyter.widget-view+json": {
              "model_id": "6a45542fe9c64c0ba66d61eef295b989",
              "version_minor": 0,
              "version_major": 2
            },
            "text/plain": [
              "HBox(children=(FloatProgress(value=0.0, max=25000.0), HTML(value='')))"
            ]
          },
          "metadata": {
            "tags": []
          }
        },
        {
          "output_type": "stream",
          "text": [
            "\r"
          ],
          "name": "stdout"
        },
        {
          "output_type": "display_data",
          "data": {
            "application/vnd.jupyter.widget-view+json": {
              "model_id": "94f006ae7548498dad5d5e912c5ccad9",
              "version_minor": 0,
              "version_major": 2
            },
            "text/plain": [
              "HBox(children=(FloatProgress(value=1.0, bar_style='info', max=1.0), HTML(value='')))"
            ]
          },
          "metadata": {
            "tags": []
          }
        },
        {
          "output_type": "stream",
          "text": [
            "\rShuffling and writing examples to /root/tensorflow_datasets/imdb_reviews/plain_text/1.0.0.incompleteS9WJF8/imdb_reviews-test.tfrecord\n"
          ],
          "name": "stdout"
        },
        {
          "output_type": "display_data",
          "data": {
            "application/vnd.jupyter.widget-view+json": {
              "model_id": "c25cde5fb83842859159ede0b44a59b0",
              "version_minor": 0,
              "version_major": 2
            },
            "text/plain": [
              "HBox(children=(FloatProgress(value=0.0, max=25000.0), HTML(value='')))"
            ]
          },
          "metadata": {
            "tags": []
          }
        },
        {
          "output_type": "stream",
          "text": [
            "\r"
          ],
          "name": "stdout"
        },
        {
          "output_type": "display_data",
          "data": {
            "application/vnd.jupyter.widget-view+json": {
              "model_id": "84729d243066472fa584020529504546",
              "version_minor": 0,
              "version_major": 2
            },
            "text/plain": [
              "HBox(children=(FloatProgress(value=1.0, bar_style='info', max=1.0), HTML(value='')))"
            ]
          },
          "metadata": {
            "tags": []
          }
        },
        {
          "output_type": "stream",
          "text": [
            "\rShuffling and writing examples to /root/tensorflow_datasets/imdb_reviews/plain_text/1.0.0.incompleteS9WJF8/imdb_reviews-unsupervised.tfrecord\n"
          ],
          "name": "stdout"
        },
        {
          "output_type": "display_data",
          "data": {
            "application/vnd.jupyter.widget-view+json": {
              "model_id": "2c4dabdbd3264eddae617df63729a580",
              "version_minor": 0,
              "version_major": 2
            },
            "text/plain": [
              "HBox(children=(FloatProgress(value=0.0, max=50000.0), HTML(value='')))"
            ]
          },
          "metadata": {
            "tags": []
          }
        },
        {
          "output_type": "stream",
          "text": [
            "\u001b[1mDataset imdb_reviews downloaded and prepared to /root/tensorflow_datasets/imdb_reviews/plain_text/1.0.0. Subsequent calls will reuse this data.\u001b[0m\n",
            "\r"
          ],
          "name": "stdout"
        }
      ]
    },
    {
      "cell_type": "code",
      "metadata": {
        "id": "6RYy7UM6YyK9",
        "outputId": "33b18caf-1f53-40ec-aca7-d6986e27aa9d",
        "colab": {
          "base_uri": "https://localhost:8080/",
          "height": 125
        }
      },
      "source": [
        "for item in train_data.take(5):\n",
        "  print(item)"
      ],
      "execution_count": null,
      "outputs": [
        {
          "output_type": "stream",
          "text": [
            "(<tf.Tensor: shape=(), dtype=string, numpy=b\"This was an absolutely terrible movie. Don't be lured in by Christopher Walken or Michael Ironside. Both are great actors, but this must simply be their worst role in history. Even their great acting could not redeem this movie's ridiculous storyline. This movie is an early nineties US propaganda piece. The most pathetic scenes were those when the Columbian rebels were making their cases for revolutions. Maria Conchita Alonso appeared phony, and her pseudo-love affair with Walken was nothing but a pathetic emotional plug in a movie that was devoid of any real meaning. I am disappointed that there are movies like this, ruining actor's like Christopher Walken's good name. I could barely sit through it.\">, <tf.Tensor: shape=(), dtype=int64, numpy=0>)\n",
            "(<tf.Tensor: shape=(), dtype=string, numpy=b'I have been known to fall asleep during films, but this is usually due to a combination of things including, really tired, being warm and comfortable on the sette and having just eaten a lot. However on this occasion I fell asleep because the film was rubbish. The plot development was constant. Constantly slow and boring. Things seemed to happen, but with no explanation of what was causing them or why. I admit, I may have missed part of the film, but i watched the majority of it and everything just seemed to happen of its own accord without any real concern for anything else. I cant recommend this film at all.'>, <tf.Tensor: shape=(), dtype=int64, numpy=0>)\n",
            "(<tf.Tensor: shape=(), dtype=string, numpy=b'Mann photographs the Alberta Rocky Mountains in a superb fashion, and Jimmy Stewart and Walter Brennan give enjoyable performances as they always seem to do. <br /><br />But come on Hollywood - a Mountie telling the people of Dawson City, Yukon to elect themselves a marshal (yes a marshal!) and to enforce the law themselves, then gunfighters battling it out on the streets for control of the town? <br /><br />Nothing even remotely resembling that happened on the Canadian side of the border during the Klondike gold rush. Mr. Mann and company appear to have mistaken Dawson City for Deadwood, the Canadian North for the American Wild West.<br /><br />Canadian viewers be prepared for a Reefer Madness type of enjoyable howl with this ludicrous plot, or, to shake your head in disgust.'>, <tf.Tensor: shape=(), dtype=int64, numpy=0>)\n",
            "(<tf.Tensor: shape=(), dtype=string, numpy=b'This is the kind of film for a snowy Sunday afternoon when the rest of the world can go ahead with its own business as you descend into a big arm-chair and mellow for a couple of hours. Wonderful performances from Cher and Nicolas Cage (as always) gently row the plot along. There are no rapids to cross, no dangerous waters, just a warm and witty paddle through New York life at its best. A family film in every sense and one that deserves the praise it received.'>, <tf.Tensor: shape=(), dtype=int64, numpy=1>)\n",
            "(<tf.Tensor: shape=(), dtype=string, numpy=b'As others have mentioned, all the women that go nude in this film are mostly absolutely gorgeous. The plot very ably shows the hypocrisy of the female libido. When men are around they want to be pursued, but when no \"men\" are around, they become the pursuers of a 14 year old boy. And the boy becomes a man really fast (we should all be so lucky at this age!). He then gets up the courage to pursue his true love.'>, <tf.Tensor: shape=(), dtype=int64, numpy=1>)\n"
          ],
          "name": "stdout"
        }
      ]
    },
    {
      "cell_type": "code",
      "metadata": {
        "id": "jcmIjaAJhvdf"
      },
      "source": [
        "train_examples_batch, train_labels_batch = next(iter(train_data.batch(5))) # Python iterators and generators"
      ],
      "execution_count": null,
      "outputs": []
    },
    {
      "cell_type": "markdown",
      "metadata": {
        "id": "skcUZaxJhTI2"
      },
      "source": [
        "We will use the embeddings that exist in the [Tensorflow hub repository](https://tfhub.dev/s?module-type=text-embedding) Next week, we will learn how to use embeddings outside from this hub"
      ]
    },
    {
      "cell_type": "code",
      "metadata": {
        "id": "1rS9_BcyZIGt",
        "outputId": "98cbb56c-6ad4-4e5c-b4df-b5b231e956ca",
        "colab": {
          "base_uri": "https://localhost:8080/",
          "height": 356
        }
      },
      "source": [
        "import tensorflow_hub as hub\n",
        "\n",
        "embedding = \"https://tfhub.dev/google/nnlm-en-dim50/2\"\n",
        "hub_layer = hub.KerasLayer(embedding, input_shape=[], dtype=tf.string, trainable=False)\n",
        "hub_layer(train_examples_batch[:1]) # Don't use train_examples_batch[0], or any index, as it will not have a shape"
      ],
      "execution_count": null,
      "outputs": [
        {
          "output_type": "stream",
          "text": [
            "WARNING:tensorflow:11 out of the last 11 calls to <function recreate_function.<locals>.restored_function_body at 0x7fd32fcd2950> triggered tf.function retracing. Tracing is expensive and the excessive number of tracings could be due to (1) creating @tf.function repeatedly in a loop, (2) passing tensors with different shapes, (3) passing Python objects instead of tensors. For (1), please define your @tf.function outside of the loop. For (2), @tf.function has experimental_relax_shapes=True option that relaxes argument shapes that can avoid unnecessary retracing. For (3), please refer to https://www.tensorflow.org/tutorials/customization/performance#python_or_tensor_args and https://www.tensorflow.org/api_docs/python/tf/function for  more details.\n"
          ],
          "name": "stdout"
        },
        {
          "output_type": "stream",
          "text": [
            "WARNING:tensorflow:11 out of the last 11 calls to <function recreate_function.<locals>.restored_function_body at 0x7fd32fcd2950> triggered tf.function retracing. Tracing is expensive and the excessive number of tracings could be due to (1) creating @tf.function repeatedly in a loop, (2) passing tensors with different shapes, (3) passing Python objects instead of tensors. For (1), please define your @tf.function outside of the loop. For (2), @tf.function has experimental_relax_shapes=True option that relaxes argument shapes that can avoid unnecessary retracing. For (3), please refer to https://www.tensorflow.org/tutorials/customization/performance#python_or_tensor_args and https://www.tensorflow.org/api_docs/python/tf/function for  more details.\n"
          ],
          "name": "stderr"
        },
        {
          "output_type": "stream",
          "text": [
            "WARNING:tensorflow:11 out of the last 11 calls to <function recreate_function.<locals>.restored_function_body at 0x7fd32fcd2488> triggered tf.function retracing. Tracing is expensive and the excessive number of tracings could be due to (1) creating @tf.function repeatedly in a loop, (2) passing tensors with different shapes, (3) passing Python objects instead of tensors. For (1), please define your @tf.function outside of the loop. For (2), @tf.function has experimental_relax_shapes=True option that relaxes argument shapes that can avoid unnecessary retracing. For (3), please refer to https://www.tensorflow.org/tutorials/customization/performance#python_or_tensor_args and https://www.tensorflow.org/api_docs/python/tf/function for  more details.\n"
          ],
          "name": "stdout"
        },
        {
          "output_type": "stream",
          "text": [
            "WARNING:tensorflow:11 out of the last 11 calls to <function recreate_function.<locals>.restored_function_body at 0x7fd32fcd2488> triggered tf.function retracing. Tracing is expensive and the excessive number of tracings could be due to (1) creating @tf.function repeatedly in a loop, (2) passing tensors with different shapes, (3) passing Python objects instead of tensors. For (1), please define your @tf.function outside of the loop. For (2), @tf.function has experimental_relax_shapes=True option that relaxes argument shapes that can avoid unnecessary retracing. For (3), please refer to https://www.tensorflow.org/tutorials/customization/performance#python_or_tensor_args and https://www.tensorflow.org/api_docs/python/tf/function for  more details.\n"
          ],
          "name": "stderr"
        },
        {
          "output_type": "stream",
          "text": [
            "WARNING:tensorflow:11 out of the last 11 calls to <function recreate_function.<locals>.restored_function_body at 0x7fd32fdffa60> triggered tf.function retracing. Tracing is expensive and the excessive number of tracings could be due to (1) creating @tf.function repeatedly in a loop, (2) passing tensors with different shapes, (3) passing Python objects instead of tensors. For (1), please define your @tf.function outside of the loop. For (2), @tf.function has experimental_relax_shapes=True option that relaxes argument shapes that can avoid unnecessary retracing. For (3), please refer to https://www.tensorflow.org/tutorials/customization/performance#python_or_tensor_args and https://www.tensorflow.org/api_docs/python/tf/function for  more details.\n"
          ],
          "name": "stdout"
        },
        {
          "output_type": "stream",
          "text": [
            "WARNING:tensorflow:11 out of the last 11 calls to <function recreate_function.<locals>.restored_function_body at 0x7fd32fdffa60> triggered tf.function retracing. Tracing is expensive and the excessive number of tracings could be due to (1) creating @tf.function repeatedly in a loop, (2) passing tensors with different shapes, (3) passing Python objects instead of tensors. For (1), please define your @tf.function outside of the loop. For (2), @tf.function has experimental_relax_shapes=True option that relaxes argument shapes that can avoid unnecessary retracing. For (3), please refer to https://www.tensorflow.org/tutorials/customization/performance#python_or_tensor_args and https://www.tensorflow.org/api_docs/python/tf/function for  more details.\n"
          ],
          "name": "stderr"
        },
        {
          "output_type": "execute_result",
          "data": {
            "text/plain": [
              "<tf.Tensor: shape=(1, 50), dtype=float32, numpy=\n",
              "array([[ 0.5423195 , -0.0119017 ,  0.06337538,  0.06862972, -0.16776837,\n",
              "        -0.10581174,  0.16865303, -0.04998824, -0.31148055,  0.07910346,\n",
              "         0.15442263,  0.01488662,  0.03930153,  0.19772711, -0.12215476,\n",
              "        -0.04120981, -0.2704109 , -0.21922152,  0.26517662, -0.80739075,\n",
              "         0.25833532, -0.3100421 ,  0.28683215,  0.1943387 , -0.29036492,\n",
              "         0.03862849, -0.7844411 , -0.0479324 ,  0.4110299 , -0.36388892,\n",
              "        -0.58034706,  0.30269456,  0.3630897 , -0.15227164, -0.44391504,\n",
              "         0.19462997,  0.19528408,  0.05666234,  0.2890704 , -0.28468323,\n",
              "        -0.00531206,  0.0571938 , -0.3201318 , -0.04418665, -0.08550783,\n",
              "        -0.55847436, -0.23336391, -0.20782952, -0.03543064, -0.17533456]],\n",
              "      dtype=float32)>"
            ]
          },
          "metadata": {
            "tags": []
          },
          "execution_count": 66
        }
      ]
    },
    {
      "cell_type": "markdown",
      "metadata": {
        "id": "iviu4mKmkKtV"
      },
      "source": [
        "### Run the Model"
      ]
    },
    {
      "cell_type": "code",
      "metadata": {
        "id": "YfXTx5l_j5Jk",
        "outputId": "3aa59e51-23a9-4c76-d849-776f7b0c2054",
        "colab": {
          "base_uri": "https://localhost:8080/",
          "height": 265
        }
      },
      "source": [
        "model = tf.keras.Sequential()\n",
        "model.add(hub_layer)\n",
        "model.add(tf.keras.layers.Dense(16, activation='relu'))\n",
        "model.add(tf.keras.layers.Dense(1, activation=\"sigmoid\"))\n",
        "\n",
        "model.summary()"
      ],
      "execution_count": null,
      "outputs": [
        {
          "output_type": "stream",
          "text": [
            "Model: \"sequential_4\"\n",
            "_________________________________________________________________\n",
            "Layer (type)                 Output Shape              Param #   \n",
            "=================================================================\n",
            "keras_layer_9 (KerasLayer)   (None, 50)                48190600  \n",
            "_________________________________________________________________\n",
            "dense_8 (Dense)              (None, 16)                816       \n",
            "_________________________________________________________________\n",
            "dense_9 (Dense)              (None, 1)                 17        \n",
            "=================================================================\n",
            "Total params: 48,191,433\n",
            "Trainable params: 833\n",
            "Non-trainable params: 48,190,600\n",
            "_________________________________________________________________\n"
          ],
          "name": "stdout"
        }
      ]
    },
    {
      "cell_type": "code",
      "metadata": {
        "id": "H48N-9S0kff_"
      },
      "source": [
        "model.compile(optimizer='adam',\n",
        "              loss='BinaryCrossentropy',\n",
        "              metrics=['accuracy'])"
      ],
      "execution_count": null,
      "outputs": []
    },
    {
      "cell_type": "code",
      "metadata": {
        "id": "uYMkEoan8Gqx",
        "outputId": "464370fe-c299-4b51-b5c5-a498a2d55098",
        "colab": {
          "base_uri": "https://localhost:8080/",
          "height": 194
        }
      },
      "source": [
        "history = model.fit(train_data.batch(512),\n",
        "                    epochs=5,\n",
        "                    validation_data=validation_data.batch(512))"
      ],
      "execution_count": null,
      "outputs": [
        {
          "output_type": "stream",
          "text": [
            "Epoch 1/5\n",
            "30/30 [==============================] - 3s 91ms/step - loss: 0.6941 - accuracy: 0.5174 - val_loss: 0.6749 - val_accuracy: 0.5928\n",
            "Epoch 2/5\n",
            "30/30 [==============================] - 3s 86ms/step - loss: 0.6628 - accuracy: 0.6311 - val_loss: 0.6492 - val_accuracy: 0.6554\n",
            "Epoch 3/5\n",
            "30/30 [==============================] - 3s 90ms/step - loss: 0.6380 - accuracy: 0.6693 - val_loss: 0.6239 - val_accuracy: 0.6833\n",
            "Epoch 4/5\n",
            "30/30 [==============================] - 3s 90ms/step - loss: 0.6119 - accuracy: 0.6926 - val_loss: 0.5995 - val_accuracy: 0.7015\n",
            "Epoch 5/5\n",
            "30/30 [==============================] - 3s 90ms/step - loss: 0.5914 - accuracy: 0.7064 - val_loss: 0.5818 - val_accuracy: 0.7130\n"
          ],
          "name": "stdout"
        }
      ]
    },
    {
      "cell_type": "code",
      "metadata": {
        "id": "Nb1ujQrJ8Iys",
        "outputId": "84fb94d2-0c04-4bd8-99e8-709a23f65156",
        "colab": {
          "base_uri": "https://localhost:8080/",
          "height": 52
        }
      },
      "source": [
        "model.evaluate(test_data.batch(512))"
      ],
      "execution_count": null,
      "outputs": [
        {
          "output_type": "stream",
          "text": [
            "49/49 [==============================] - 2s 50ms/step - loss: 0.5876 - accuracy: 0.7047\n"
          ],
          "name": "stdout"
        },
        {
          "output_type": "execute_result",
          "data": {
            "text/plain": [
              "[0.5876357555389404, 0.7046800255775452]"
            ]
          },
          "metadata": {
            "tags": []
          },
          "execution_count": 70
        }
      ]
    },
    {
      "cell_type": "markdown",
      "metadata": {
        "id": "3gpZl-Pc8YJL"
      },
      "source": [
        "## 2) Fine-tune pre-trained embeddings"
      ]
    },
    {
      "cell_type": "code",
      "metadata": {
        "id": "-tZcRJjX8UV5"
      },
      "source": [
        "hub_layer = hub.KerasLayer(embedding, input_shape=[], dtype=tf.string, trainable=True)\n",
        "\n",
        "model = tf.keras.Sequential()\n",
        "model.add(hub_layer)\n",
        "model.add(tf.keras.layers.Dense(16, activation='relu'))\n",
        "model.add(tf.keras.layers.Dense(1, activation=\"sigmoid\"))"
      ],
      "execution_count": null,
      "outputs": []
    },
    {
      "cell_type": "code",
      "metadata": {
        "id": "rpqvVcxBnkby",
        "outputId": "335bf724-3b2b-4153-d0f5-ea43950d28b6",
        "colab": {
          "base_uri": "https://localhost:8080/",
          "height": 194
        }
      },
      "source": [
        "model.compile(optimizer='adam',\n",
        "              loss='BinaryCrossentropy',\n",
        "              metrics=['accuracy'])\n",
        "history = model.fit(train_data.batch(512),\n",
        "                    epochs=5,\n",
        "                    validation_data=validation_data.batch(512))"
      ],
      "execution_count": null,
      "outputs": [
        {
          "output_type": "stream",
          "text": [
            "Epoch 1/5\n",
            "30/30 [==============================] - 18s 586ms/step - loss: 0.5188 - accuracy: 0.8319 - val_loss: 0.4570 - val_accuracy: 0.8386\n",
            "Epoch 2/5\n",
            "30/30 [==============================] - 16s 545ms/step - loss: 0.3304 - accuracy: 0.9186 - val_loss: 0.3675 - val_accuracy: 0.8555\n",
            "Epoch 3/5\n",
            "30/30 [==============================] - 16s 546ms/step - loss: 0.2395 - accuracy: 0.9349 - val_loss: 0.3293 - val_accuracy: 0.8648\n",
            "Epoch 4/5\n",
            "30/30 [==============================] - 16s 544ms/step - loss: 0.1875 - accuracy: 0.9483 - val_loss: 0.3125 - val_accuracy: 0.8699\n",
            "Epoch 5/5\n",
            "30/30 [==============================] - 16s 544ms/step - loss: 0.1513 - accuracy: 0.9587 - val_loss: 0.3051 - val_accuracy: 0.8727\n"
          ],
          "name": "stdout"
        }
      ]
    },
    {
      "cell_type": "code",
      "metadata": {
        "id": "oiNZNq156HB_",
        "outputId": "96e2e95b-c559-4b4b-cf40-94a4f60113b8",
        "colab": {
          "base_uri": "https://localhost:8080/",
          "height": 52
        }
      },
      "source": [
        "model.evaluate(test_data.batch(512))"
      ],
      "execution_count": null,
      "outputs": [
        {
          "output_type": "stream",
          "text": [
            "49/49 [==============================] - 2s 46ms/step - loss: 0.3213 - accuracy: 0.8614\n"
          ],
          "name": "stdout"
        },
        {
          "output_type": "execute_result",
          "data": {
            "text/plain": [
              "[0.3213419020175934, 0.8613600134849548]"
            ]
          },
          "metadata": {
            "tags": []
          },
          "execution_count": 65
        }
      ]
    },
    {
      "cell_type": "markdown",
      "metadata": {
        "id": "m_75JXWqWhxc"
      },
      "source": [
        "In the future, we will learn about word embeddings from advanced language models such as BERT. Hang on tight!"
      ]
    },
    {
      "cell_type": "markdown",
      "metadata": {
        "id": "cmSDfbXhkFT0"
      },
      "source": [
        "## 3) Learn embeddings from scratch (Task dependent embeddings)"
      ]
    },
    {
      "cell_type": "markdown",
      "metadata": {
        "id": "ceHg0jC594S0"
      },
      "source": [
        "Instead of the hub layer, we need 3 new layers:\n",
        "\n",
        "*   [**TextVectorization**](https://towardsdatascience.com/you-should-try-the-new-tensorflows-textvectorization-layer-a80b3c6b00ee)  Standardize (clean the text), tokenize, and vectorize the data (transform from string to integer). You can define your custom standardization, tokenization and vocabulary (use tf operations only).\n",
        "*   **Embedding** like a lookup table that maps from integer indices (which stand for specific words) to dense vectors (their embeddings). Combination of one-hot encoding layer and a dense layer (from word2vec model), however its optimized\n",
        "*  **GlobalAveragePooling1D** to average word embeddings into a document embedding\n",
        "\n",
        "It is important to preprocess the data identically at train and test time. That is why its recommended to use the TextVectorization layer. However, you can skip it if you do the pre-processing manually\n",
        "\n",
        "\n"
      ]
    },
    {
      "cell_type": "code",
      "metadata": {
        "id": "EzJ3k8KC85Ac"
      },
      "source": [
        "import re \n",
        "import string\n",
        "\n",
        "def custom_standardization(input_data):\n",
        "  lowercase = tf.strings.lower(input_data)\n",
        "  stripped_html = tf.strings.regex_replace(lowercase, '<br />', ' ')\n",
        "  return tf.strings.regex_replace(stripped_html,\n",
        "                                  '[%s]' % re.escape(string.punctuation), '')"
      ],
      "execution_count": null,
      "outputs": []
    },
    {
      "cell_type": "markdown",
      "metadata": {
        "id": "r8o_GWjmFrI7"
      },
      "source": [
        "Last sentence replaces all punctuations from string, see [here](https://stackoverflow.com/questions/12437667/how-do-i-replace-punctuation-in-a-string-in-python/12437738)"
      ]
    },
    {
      "cell_type": "code",
      "metadata": {
        "id": "5yUeHKqSEuBg",
        "outputId": "2fc31c77-c70c-4e5b-ab86-497c51170c87",
        "colab": {
          "base_uri": "https://localhost:8080/",
          "height": 90
        }
      },
      "source": [
        "example = train_examples_batch[:1]\n",
        "print(example)\n",
        "print(example.numpy())"
      ],
      "execution_count": null,
      "outputs": [
        {
          "output_type": "execute_result",
          "data": {
            "text/plain": [
              "<tf.Tensor: shape=(1,), dtype=string, numpy=\n",
              "array([b\"This was an absolutely terrible movie. Don't be lured in by Christopher Walken or Michael Ironside. Both are great actors, but this must simply be their worst role in history. Even their great acting could not redeem this movie's ridiculous storyline. This movie is an early nineties US propaganda piece. The most pathetic scenes were those when the Columbian rebels were making their cases for revolutions. Maria Conchita Alonso appeared phony, and her pseudo-love affair with Walken was nothing but a pathetic emotional plug in a movie that was devoid of any real meaning. I am disappointed that there are movies like this, ruining actor's like Christopher Walken's good name. I could barely sit through it.\"],\n",
              "      dtype=object)>"
            ]
          },
          "metadata": {
            "tags": []
          },
          "execution_count": 107
        }
      ]
    },
    {
      "cell_type": "code",
      "metadata": {
        "id": "ZeUrMStKE0gF",
        "outputId": "716ce58e-ef12-4c57-92cc-df82b802c438",
        "colab": {
          "base_uri": "https://localhost:8080/",
          "height": 90
        }
      },
      "source": [
        "custom_standardization(example)"
      ],
      "execution_count": null,
      "outputs": [
        {
          "output_type": "execute_result",
          "data": {
            "text/plain": [
              "<tf.Tensor: shape=(1,), dtype=string, numpy=\n",
              "array([b'this was an absolutely terrible movie dont be lured in by christopher walken or michael ironside both are great actors but this must simply be their worst role in history even their great acting could not redeem this movies ridiculous storyline this movie is an early nineties us propaganda piece the most pathetic scenes were those when the columbian rebels were making their cases for revolutions maria conchita alonso appeared phony and her pseudolove affair with walken was nothing but a pathetic emotional plug in a movie that was devoid of any real meaning i am disappointed that there are movies like this ruining actors like christopher walkens good name i could barely sit through it'],\n",
              "      dtype=object)>"
            ]
          },
          "metadata": {
            "tags": []
          },
          "execution_count": 106
        }
      ]
    },
    {
      "cell_type": "code",
      "metadata": {
        "id": "PcGbVIshHpJd"
      },
      "source": [
        "from tensorflow.keras.layers.experimental.preprocessing import TextVectorization\n",
        "\n",
        "max_sentence_size = 100\n",
        "vocabulary_size = 10000\n",
        "vectorize_layer = TextVectorization(\n",
        "    standardize=custom_standardization, # \"lower_and_strip_punctuation\" is the default, you can also use None\n",
        "    max_tokens=vocabulary_size,\n",
        "    output_sequence_length=max_sentence_size)"
      ],
      "execution_count": null,
      "outputs": []
    },
    {
      "cell_type": "markdown",
      "metadata": {
        "id": "2UreRL55nZGe"
      },
      "source": [
        "The output will have each sentence padded or truncated to exactly *output_sequence_length* values"
      ]
    },
    {
      "cell_type": "markdown",
      "metadata": {
        "id": "drb2Kn-BPLsF"
      },
      "source": [
        "Preprocessing layers in Keras need to be adapted with the training text.\n",
        "\n",
        "To modify **datasets** you use *map* or *filter*"
      ]
    },
    {
      "cell_type": "code",
      "metadata": {
        "id": "X6yJy6OBPK2C"
      },
      "source": [
        "train_text = train_data.map(lambda x, y: x)\n",
        "vectorize_layer.adapt(train_text)"
      ],
      "execution_count": null,
      "outputs": []
    },
    {
      "cell_type": "code",
      "metadata": {
        "id": "R_qHXj-lP4cN",
        "outputId": "830db553-c596-4ff2-afd5-3d306d01677e",
        "colab": {
          "base_uri": "https://localhost:8080/",
          "height": 212
        }
      },
      "source": [
        "vectorize_layer(example)"
      ],
      "execution_count": null,
      "outputs": [
        {
          "output_type": "execute_result",
          "data": {
            "text/plain": [
              "<tf.Tensor: shape=(1, 100), dtype=int64, numpy=\n",
              "array([[  11,   13,   33,  430,  369,   17,   89,   26, 9032,    8,   32,\n",
              "        1282, 3873,   40,  518,    1,  194,   24,   83,  152,   18,   11,\n",
              "         216,  317,   26,   66,  239,  215,    8,  479,   54,   66,   83,\n",
              "         112,   97,   21, 6037,   11,   92,  663,  738,   11,   17,    7,\n",
              "          33,  401, 9003,  170, 2412,  409,    2,   88, 1137,  134,   67,\n",
              "         143,   52,    2,    1, 7546,   67,  246,   66, 2938,   15,    1,\n",
              "        2633,    1,    1, 1436, 4420,    3,   39,    1, 1655,   16, 3873,\n",
              "          13,  156,   18,    4, 1137,  877, 7553,    8,    4,   17,   12,\n",
              "          13, 3849,    5,   99,  147, 1157,   10,  228,  655,   12,   47,\n",
              "          24]])>"
            ]
          },
          "metadata": {
            "tags": []
          },
          "execution_count": 101
        }
      ]
    },
    {
      "cell_type": "code",
      "metadata": {
        "id": "I5lWPuVMUISZ"
      },
      "source": [
        "embedding_dimension = 50\n",
        "embedding_layer = tf.keras.layers.Embedding(vocabulary_size, embedding_dimension)"
      ],
      "execution_count": null,
      "outputs": []
    },
    {
      "cell_type": "code",
      "metadata": {
        "id": "hoBQN2ZzW3jk",
        "outputId": "2153d398-ca2f-40c3-90bd-c728a52db73e",
        "colab": {
          "base_uri": "https://localhost:8080/",
          "height": 265
        }
      },
      "source": [
        "embedding_layer(vectorize_layer(example))"
      ],
      "execution_count": null,
      "outputs": [
        {
          "output_type": "execute_result",
          "data": {
            "text/plain": [
              "<tf.Tensor: shape=(1, 100, 50), dtype=float32, numpy=\n",
              "array([[[ 0.04290206, -0.02266848, -0.04666638, ..., -0.04660019,\n",
              "          0.00709547, -0.04285001],\n",
              "        [ 0.03949076,  0.00380892,  0.033928  , ...,  0.01207324,\n",
              "          0.00075465, -0.04998704],\n",
              "        [ 0.01950406, -0.02392198, -0.04337719, ..., -0.011907  ,\n",
              "          0.03349645, -0.0172596 ],\n",
              "        ...,\n",
              "        [-0.02676337, -0.00492618,  0.01122578, ..., -0.03723867,\n",
              "          0.03837427,  0.01638185],\n",
              "        [-0.03070238,  0.03562284,  0.01142385, ...,  0.01361148,\n",
              "         -0.02994455,  0.02913057],\n",
              "        [-0.00537091,  0.04744369,  0.01596158, ..., -0.00741767,\n",
              "          0.0206777 ,  0.03621099]]], dtype=float32)>"
            ]
          },
          "metadata": {
            "tags": []
          },
          "execution_count": 116
        }
      ]
    },
    {
      "cell_type": "code",
      "metadata": {
        "id": "TEeM_OVuX6tb"
      },
      "source": [
        "average_layer = tf.keras.layers.GlobalAveragePooling1D()"
      ],
      "execution_count": null,
      "outputs": []
    },
    {
      "cell_type": "code",
      "metadata": {
        "id": "8x91bIQdYvKH",
        "outputId": "de9caaae-3ed5-47c8-82b5-da1a4e2ba0cb",
        "colab": {
          "base_uri": "https://localhost:8080/",
          "height": 230
        }
      },
      "source": [
        "average_layer(embedding_layer(vectorize_layer(example)))"
      ],
      "execution_count": null,
      "outputs": [
        {
          "output_type": "execute_result",
          "data": {
            "text/plain": [
              "<tf.Tensor: shape=(1, 50), dtype=float32, numpy=\n",
              "array([[-0.00134246,  0.00035596,  0.00100445, -0.00147516, -0.00453329,\n",
              "         0.00105128, -0.00566701, -0.00314678,  0.00024413, -0.00777614,\n",
              "         0.00248353,  0.0018221 , -0.00397532,  0.00163716, -0.00458829,\n",
              "         0.00122274, -0.00066504, -0.00098694, -0.00171424, -0.00066761,\n",
              "         0.00728711,  0.004703  ,  0.00668811,  0.00516293, -0.00743236,\n",
              "        -0.00342748,  0.00748408,  0.00176067, -0.00567498,  0.00243589,\n",
              "        -0.00027103,  0.00073143,  0.00120327,  0.00197111,  0.00497473,\n",
              "         0.00648872, -0.00254615, -0.00262079,  0.00181239,  0.00455283,\n",
              "        -0.00412883, -0.00103881,  0.00242932, -0.00011826,  0.00270188,\n",
              "        -0.00442809, -0.000859  ,  0.00062898,  0.00190157, -0.00607843]],\n",
              "      dtype=float32)>"
            ]
          },
          "metadata": {
            "tags": []
          },
          "execution_count": 117
        }
      ]
    },
    {
      "cell_type": "code",
      "metadata": {
        "id": "Tnbo1oj9ZINh"
      },
      "source": [
        "model = tf.keras.models.Sequential()\n",
        "model.add(vectorize_layer)\n",
        "model.add(embedding_layer)\n",
        "model.add(average_layer)\n",
        "model.add(tf.keras.layers.Dense(16, activation='relu'))\n",
        "model.add(tf.keras.layers.Dense(1, activation=\"sigmoid\"))"
      ],
      "execution_count": null,
      "outputs": []
    },
    {
      "cell_type": "markdown",
      "metadata": {
        "id": "RX6THA9B0vfb"
      },
      "source": [
        ""
      ]
    },
    {
      "cell_type": "code",
      "metadata": {
        "id": "tXgtVxbXZrKM",
        "outputId": "24aa5fed-f7e6-4854-ab8f-bc2b6b3e65d7",
        "colab": {
          "base_uri": "https://localhost:8080/",
          "height": 194
        }
      },
      "source": [
        "model.compile(optimizer='adam',\n",
        "              loss='BinaryCrossentropy',\n",
        "              metrics=['accuracy'])\n",
        "history = model.fit(train_data.batch(512),\n",
        "                    epochs=5,\n",
        "                    validation_data=validation_data.batch(512))"
      ],
      "execution_count": null,
      "outputs": [
        {
          "output_type": "stream",
          "text": [
            "Epoch 1/5\n",
            "30/30 [==============================] - 3s 112ms/step - loss: 0.6905 - accuracy: 0.5881 - val_loss: 0.6859 - val_accuracy: 0.6566\n",
            "Epoch 2/5\n",
            "30/30 [==============================] - 3s 111ms/step - loss: 0.6778 - accuracy: 0.6865 - val_loss: 0.6675 - val_accuracy: 0.6992\n",
            "Epoch 3/5\n",
            "30/30 [==============================] - 3s 109ms/step - loss: 0.6486 - accuracy: 0.7319 - val_loss: 0.6313 - val_accuracy: 0.7398\n",
            "Epoch 4/5\n",
            "30/30 [==============================] - 3s 111ms/step - loss: 0.5982 - accuracy: 0.7771 - val_loss: 0.5792 - val_accuracy: 0.7755\n",
            "Epoch 5/5\n",
            "30/30 [==============================] - 3s 115ms/step - loss: 0.5335 - accuracy: 0.8125 - val_loss: 0.5231 - val_accuracy: 0.7964\n"
          ],
          "name": "stdout"
        }
      ]
    },
    {
      "cell_type": "code",
      "metadata": {
        "id": "wJacXOYNbF8U",
        "outputId": "c553e6e8-4ab0-474d-ea16-1b5b6af946fb",
        "colab": {
          "base_uri": "https://localhost:8080/",
          "height": 52
        }
      },
      "source": [
        "model.evaluate(test_data.batch(512))"
      ],
      "execution_count": null,
      "outputs": [
        {
          "output_type": "stream",
          "text": [
            "49/49 [==============================] - 3s 58ms/step - loss: 0.5337 - accuracy: 0.7845\n"
          ],
          "name": "stdout"
        },
        {
          "output_type": "execute_result",
          "data": {
            "text/plain": [
              "[0.5336787700653076, 0.7844799757003784]"
            ]
          },
          "metadata": {
            "tags": []
          },
          "execution_count": 124
        }
      ]
    },
    {
      "cell_type": "markdown",
      "metadata": {
        "id": "KhSBvfNFagj1"
      },
      "source": [
        "### Extract word embeddings"
      ]
    },
    {
      "cell_type": "code",
      "metadata": {
        "id": "uqliepgHaibf",
        "outputId": "a5c5289c-a8d0-45b8-8761-c9fa24f6514e",
        "colab": {
          "base_uri": "https://localhost:8080/",
          "height": 52
        }
      },
      "source": [
        "vocab = vectorize_layer.get_vocabulary()\n",
        "print(vocab[:10])\n",
        "\n",
        "weights = model.get_layer('embedding_1').get_weights()[0]\n",
        "print(weights.shape)"
      ],
      "execution_count": null,
      "outputs": [
        {
          "output_type": "stream",
          "text": [
            "['', '[UNK]', 'the', 'and', 'a', 'of', 'to', 'is', 'in', 'it']\n",
            "(10000, 50)\n"
          ],
          "name": "stdout"
        }
      ]
    },
    {
      "cell_type": "markdown",
      "metadata": {
        "id": "C8edWq4jpC1_"
      },
      "source": [
        "# Continue Learning"
      ]
    },
    {
      "cell_type": "markdown",
      "metadata": {
        "id": "9RgZKEHMRnLL"
      },
      "source": [
        "## Skipgram with subwords (quasi FastText) from scratch"
      ]
    },
    {
      "cell_type": "markdown",
      "metadata": {
        "id": "pNnEG8OYWw1b"
      },
      "source": [
        "Nowadays, word2vec embeddings are suboptimal to advanced embeddings, so training your own word2vec model is mostly for learning purposes. Try to understand the following code. Professor Simon Hegelich explains the code: https://www.youtube.com/watch?v=qvY70T2Dx2I&t=6s&ab_channel=SimonHegelich"
      ]
    },
    {
      "cell_type": "code",
      "metadata": {
        "id": "RrKmkKm-imJE",
        "outputId": "26a95831-fd70-451c-85c8-a1394fe288eb",
        "colab": {
          "base_uri": "https://localhost:8080/",
          "height": 143
        }
      },
      "source": [
        "!pip install tf_sentencepiece\n",
        "!pip install sentencepiece\n",
        "import sentencepiece as spm\n",
        "import collections\n",
        "import numpy as np\n",
        "import io\n",
        "\n",
        "vocab_size=10000\n",
        "sub_size=15000\n",
        "window_size = 3\n",
        "vector_dim = 768\n",
        "epochs = 10000"
      ],
      "execution_count": null,
      "outputs": [
        {
          "output_type": "stream",
          "text": [
            "Requirement already satisfied: tf_sentencepiece in /usr/local/lib/python3.6/dist-packages (0.1.90)\n",
            "Collecting sentencepiece\n",
            "\u001b[?25l  Downloading https://files.pythonhosted.org/packages/d4/a4/d0a884c4300004a78cca907a6ff9a5e9fe4f090f5d95ab341c53d28cbc58/sentencepiece-0.1.91-cp36-cp36m-manylinux1_x86_64.whl (1.1MB)\n",
            "\u001b[K     |████████████████████████████████| 1.1MB 2.8MB/s \n",
            "\u001b[?25hInstalling collected packages: sentencepiece\n",
            "Successfully installed sentencepiece-0.1.91\n"
          ],
          "name": "stdout"
        }
      ]
    },
    {
      "cell_type": "code",
      "metadata": {
        "id": "vOfIpdYeklrM",
        "outputId": "89ec97fc-3e52-4c3a-9414-275f2e6495e0",
        "colab": {
          "base_uri": "https://localhost:8080/",
          "height": 212
        }
      },
      "source": [
        "!wget https://raw.githubusercontent.com/google/sentencepiece/master/data/botchan.txt\n",
        "spm.SentencePieceTrainer.train('--model_prefix=m --input=botchan.txt --vocab_size=5000')"
      ],
      "execution_count": null,
      "outputs": [
        {
          "output_type": "stream",
          "text": [
            "--2020-10-20 15:27:18--  https://raw.githubusercontent.com/google/sentencepiece/master/data/botchan.txt\n",
            "Resolving raw.githubusercontent.com (raw.githubusercontent.com)... 151.101.0.133, 151.101.64.133, 151.101.128.133, ...\n",
            "Connecting to raw.githubusercontent.com (raw.githubusercontent.com)|151.101.0.133|:443... connected.\n",
            "HTTP request sent, awaiting response... 200 OK\n",
            "Length: 278779 (272K) [text/plain]\n",
            "Saving to: ‘botchan.txt.3’\n",
            "\n",
            "botchan.txt.3       100%[===================>] 272.25K  --.-KB/s    in 0.05s   \n",
            "\n",
            "2020-10-20 15:27:18 (5.14 MB/s) - ‘botchan.txt.3’ saved [278779/278779]\n",
            "\n"
          ],
          "name": "stdout"
        }
      ]
    },
    {
      "cell_type": "code",
      "metadata": {
        "id": "pJHmtG9tl3Tq",
        "outputId": "994a0109-57cf-45bf-a8dc-c4a27c0c1ebe",
        "colab": {
          "base_uri": "https://localhost:8080/",
          "height": 34
        }
      },
      "source": [
        "sp = spm.SentencePieceProcessor()\n",
        "sp.load('m.model')\n",
        "\n",
        "print(sp.encode_as_pieces('No translation can expect to equal, much less to excel, the original.'))"
      ],
      "execution_count": null,
      "outputs": [
        {
          "output_type": "stream",
          "text": [
            "['▁No', '▁translation', '▁can', '▁expect', '▁to', '▁equal', ',', '▁much', '▁less', '▁to', '▁excel', ',', '▁the', '▁original', '.']\n"
          ],
          "name": "stdout"
        }
      ]
    },
    {
      "cell_type": "code",
      "metadata": {
        "id": "tJZW7doMoWNx"
      },
      "source": [
        "with open(\"botchan.txt\", \"r\", encoding = \"utf8\") as f: text = f.read()\n",
        "vocabulary = sp.encode_as_pieces(text)"
      ],
      "execution_count": null,
      "outputs": []
    },
    {
      "cell_type": "code",
      "metadata": {
        "id": "U0Ukgr0toiDV"
      },
      "source": [
        "def build_dataset(words, n_words):\n",
        "    \"\"\"Process raw inputs into a dataset.\"\"\"\n",
        "    count = [['UNK', -1]]\n",
        "    count.extend(collections.Counter(words).most_common(n_words - 1))\n",
        "    dictionary = dict()\n",
        "    for word, _ in count:\n",
        "        dictionary[word] = len(dictionary)\n",
        "    data = list()\n",
        "    unk_count = 0\n",
        "    for word in words:\n",
        "        if word in dictionary:\n",
        "            index = dictionary[word]\n",
        "        else:\n",
        "            index = 0  # dictionary['UNK']\n",
        "            unk_count += 1\n",
        "        data.append(index)\n",
        "    count[0][1] = unk_count\n",
        "    reversed_dictionary = dict(zip(dictionary.values(), dictionary.keys()))\n",
        "    return data, count, dictionary, reversed_dictionary\n",
        "    \n",
        "data, count, dictionary, reverse_dictionary = build_dataset(vocabulary, vocab_size)"
      ],
      "execution_count": null,
      "outputs": []
    },
    {
      "cell_type": "code",
      "metadata": {
        "id": "rjuxTKnDong0",
        "outputId": "c6f53a2d-6f3e-48a1-ed3d-bea583220c59",
        "colab": {
          "base_uri": "https://localhost:8080/",
          "height": 54
        }
      },
      "source": [
        "sampling_table = tf.keras.preprocessing.sequence.make_sampling_table(vocab_size)\n",
        "couples, labels = tf.keras.preprocessing.sequence.skipgrams(data, vocab_size, window_size=window_size, sampling_table=sampling_table)\n",
        "word_target, word_context = zip(*couples)\n",
        "word_target = np.array(word_target, dtype=\"int32\")\n",
        "word_context = np.array(word_context, dtype=\"int32\")\n",
        "\n",
        "print(couples[:10], labels[:10])"
      ],
      "execution_count": null,
      "outputs": [
        {
          "output_type": "stream",
          "text": [
            "[[4621, 3], [607, 82], [2347, 7192], [4013, 50], [507, 2647], [3740, 1725], [3028, 8372], [3437, 531], [2375, 4136], [108, 9893]] [1, 1, 0, 1, 0, 1, 0, 0, 1, 0]\n"
          ],
          "name": "stdout"
        }
      ]
    },
    {
      "cell_type": "code",
      "metadata": {
        "id": "C9Mf-uCXpZpm",
        "outputId": "8156d0b8-4a45-4823-b93a-cceef575a9ba",
        "colab": {
          "base_uri": "https://localhost:8080/",
          "height": 496
        }
      },
      "source": [
        "# create some input variables\n",
        "input_target = tf.keras.Input((1,))\n",
        "input_context = tf.keras.Input((1,))\n",
        "\n",
        "embedding = tf.keras.layers.Embedding(vocab_size, vector_dim, input_length=1, name='embedding')\n",
        "\n",
        "target = embedding(input_target)\n",
        "target = tf.keras.layers.Reshape((vector_dim, 1))(target)\n",
        "context = embedding(input_context)\n",
        "context = tf.keras.layers.Reshape((vector_dim, 1))(context)\n",
        "\n",
        "# setup a cosine similarity operation which will be output in a secondary model\n",
        "similarity = tf.keras.layers.dot(inputs=[target, context], axes=1, normalize=True)\n",
        "\n",
        "# now perform the dot product operation to get a similarity measure\n",
        "dot_product = tf.keras.layers.dot(inputs=[target, context], axes=1)\n",
        "dot_product = tf.keras.layers.Reshape((1,))(dot_product)\n",
        "# add the sigmoid output layer\n",
        "output = tf.keras.layers.Dense(1, activation='sigmoid')(dot_product)\n",
        "\n",
        "# create the primary training model\n",
        "model = tf.keras.Model(inputs=[input_target, input_context], outputs=output)\n",
        "print(model.summary())"
      ],
      "execution_count": null,
      "outputs": [
        {
          "output_type": "stream",
          "text": [
            "Model: \"functional_1\"\n",
            "__________________________________________________________________________________________________\n",
            "Layer (type)                    Output Shape         Param #     Connected to                     \n",
            "==================================================================================================\n",
            "input_1 (InputLayer)            [(None, 1)]          0                                            \n",
            "__________________________________________________________________________________________________\n",
            "input_2 (InputLayer)            [(None, 1)]          0                                            \n",
            "__________________________________________________________________________________________________\n",
            "embedding (Embedding)           (None, 1, 768)       7680000     input_1[0][0]                    \n",
            "                                                                 input_2[0][0]                    \n",
            "__________________________________________________________________________________________________\n",
            "reshape (Reshape)               (None, 768, 1)       0           embedding[0][0]                  \n",
            "__________________________________________________________________________________________________\n",
            "reshape_1 (Reshape)             (None, 768, 1)       0           embedding[1][0]                  \n",
            "__________________________________________________________________________________________________\n",
            "dot_1 (Dot)                     (None, 1, 1)         0           reshape[0][0]                    \n",
            "                                                                 reshape_1[0][0]                  \n",
            "__________________________________________________________________________________________________\n",
            "reshape_2 (Reshape)             (None, 1)            0           dot_1[0][0]                      \n",
            "__________________________________________________________________________________________________\n",
            "dense_14 (Dense)                (None, 1)            2           reshape_2[0][0]                  \n",
            "==================================================================================================\n",
            "Total params: 7,680,002\n",
            "Trainable params: 7,680,002\n",
            "Non-trainable params: 0\n",
            "__________________________________________________________________________________________________\n",
            "None\n"
          ],
          "name": "stdout"
        }
      ]
    },
    {
      "cell_type": "code",
      "metadata": {
        "id": "bTwdn928pwxa"
      },
      "source": [
        "model.compile(loss='binary_crossentropy', optimizer='rmsprop')"
      ],
      "execution_count": null,
      "outputs": []
    },
    {
      "cell_type": "code",
      "metadata": {
        "id": "NBzkmGduqJQc"
      },
      "source": [
        "validation_model = tf.keras.Model(inputs=[input_target, input_context], outputs=similarity)\n",
        "valid_size = 8     # Random set of words to evaluate similarity on.\n",
        "valid_window = 100  # Only pick dev samples in the head of the distribution.\n",
        "valid_examples = np.random.choice(valid_window, valid_size, replace=False)"
      ],
      "execution_count": null,
      "outputs": []
    },
    {
      "cell_type": "code",
      "metadata": {
        "id": "AUjPwLS8qPeM",
        "outputId": "2b96ee1c-dd32-40cf-d70e-0b2d261caf34",
        "colab": {
          "base_uri": "https://localhost:8080/",
          "height": 1000
        }
      },
      "source": [
        "arr_1 = np.zeros((1,))\n",
        "arr_2 = np.zeros((1,))\n",
        "arr_3 = np.zeros((1,))\n",
        "for cnt in range(epochs):\n",
        "    idx = np.random.randint(0, len(labels)-1)\n",
        "    arr_1[0,] = word_target[idx]\n",
        "    arr_2[0,] = word_context[idx]\n",
        "    arr_3[0,] = labels[idx]\n",
        "    loss = model.train_on_batch([arr_1, arr_2], arr_3)\n",
        "    if cnt % 100 == 0:\n",
        "        print(\"Iteration {}, loss={}\".format(cnt, loss))"
      ],
      "execution_count": null,
      "outputs": [
        {
          "output_type": "stream",
          "text": [
            "Iteration 0, loss=0.7053478956222534\n",
            "Iteration 100, loss=0.6963716149330139\n",
            "Iteration 200, loss=0.6849884986877441\n",
            "Iteration 300, loss=0.6885661482810974\n",
            "Iteration 400, loss=0.7031601071357727\n",
            "Iteration 500, loss=0.7041258215904236\n",
            "Iteration 600, loss=0.6664434671401978\n",
            "Iteration 700, loss=0.662391185760498\n",
            "Iteration 800, loss=0.7152111530303955\n",
            "Iteration 900, loss=0.6654011011123657\n",
            "Iteration 1000, loss=0.6620818376541138\n",
            "Iteration 1100, loss=0.7174370884895325\n",
            "Iteration 1200, loss=0.7224536538124084\n",
            "Iteration 1300, loss=0.7118344902992249\n",
            "Iteration 1400, loss=0.6750195622444153\n",
            "Iteration 1500, loss=0.6724262237548828\n",
            "Iteration 1600, loss=0.6764041781425476\n",
            "Iteration 1700, loss=0.6627891659736633\n",
            "Iteration 1800, loss=0.7275967597961426\n",
            "Iteration 1900, loss=0.7140529155731201\n",
            "Iteration 2000, loss=0.7121535539627075\n",
            "Iteration 2100, loss=0.6860037446022034\n",
            "Iteration 2200, loss=0.6834640502929688\n",
            "Iteration 2300, loss=0.6909427046775818\n",
            "Iteration 2400, loss=0.689208447933197\n",
            "Iteration 2500, loss=0.7052099108695984\n",
            "Iteration 2600, loss=0.7058373093605042\n",
            "Iteration 2700, loss=0.7013971209526062\n",
            "Iteration 2800, loss=0.6980232000350952\n",
            "Iteration 2900, loss=0.7100849151611328\n",
            "Iteration 3000, loss=0.6872047185897827\n",
            "Iteration 3100, loss=0.697588324546814\n",
            "Iteration 3200, loss=0.7022391557693481\n",
            "Iteration 3300, loss=0.702132523059845\n",
            "Iteration 3400, loss=0.6699418425559998\n",
            "Iteration 3500, loss=0.6827542185783386\n",
            "Iteration 3600, loss=0.6769993901252747\n",
            "Iteration 3700, loss=0.7053096890449524\n",
            "Iteration 3800, loss=0.6907660365104675\n",
            "Iteration 3900, loss=0.6731285452842712\n",
            "Iteration 4000, loss=0.6459216475486755\n",
            "Iteration 4100, loss=0.6997085809707642\n",
            "Iteration 4200, loss=0.6889041066169739\n",
            "Iteration 4300, loss=0.6941460371017456\n",
            "Iteration 4400, loss=0.6881394386291504\n",
            "Iteration 4500, loss=0.6875352263450623\n",
            "Iteration 4600, loss=0.6893612742424011\n",
            "Iteration 4700, loss=0.699450671672821\n",
            "Iteration 4800, loss=0.6915880441665649\n",
            "Iteration 4900, loss=0.6873851418495178\n",
            "Iteration 5000, loss=0.685376763343811\n",
            "Iteration 5100, loss=0.7233866453170776\n",
            "Iteration 5200, loss=0.6975418925285339\n",
            "Iteration 5300, loss=0.6836355924606323\n",
            "Iteration 5400, loss=0.6985644102096558\n",
            "Iteration 5500, loss=0.7239493727684021\n",
            "Iteration 5600, loss=0.7060726881027222\n",
            "Iteration 5700, loss=0.7009909749031067\n",
            "Iteration 5800, loss=0.6855506896972656\n",
            "Iteration 5900, loss=0.6978650689125061\n",
            "Iteration 6000, loss=0.6453779935836792\n",
            "Iteration 6100, loss=0.6855262517929077\n",
            "Iteration 6200, loss=0.6738511323928833\n",
            "Iteration 6300, loss=0.6843580007553101\n",
            "Iteration 6400, loss=0.6952636241912842\n",
            "Iteration 6500, loss=0.6851199865341187\n",
            "Iteration 6600, loss=0.6765077710151672\n",
            "Iteration 6700, loss=0.7018306255340576\n",
            "Iteration 6800, loss=0.7038139700889587\n",
            "Iteration 6900, loss=0.7029138207435608\n",
            "Iteration 7000, loss=0.7008808851242065\n",
            "Iteration 7100, loss=0.6194822788238525\n",
            "Iteration 7200, loss=0.6982237100601196\n",
            "Iteration 7300, loss=0.6864377856254578\n",
            "Iteration 7400, loss=0.7060444355010986\n",
            "Iteration 7500, loss=0.6735264658927917\n",
            "Iteration 7600, loss=0.6985422372817993\n",
            "Iteration 7700, loss=0.7666636109352112\n",
            "Iteration 7800, loss=0.6839022040367126\n",
            "Iteration 7900, loss=0.7098777890205383\n",
            "Iteration 8000, loss=0.6613972187042236\n",
            "Iteration 8100, loss=0.651810348033905\n",
            "Iteration 8200, loss=0.67179936170578\n",
            "Iteration 8300, loss=0.6930550932884216\n",
            "Iteration 8400, loss=0.7081153392791748\n",
            "Iteration 8500, loss=0.7018667459487915\n",
            "Iteration 8600, loss=0.7553656101226807\n",
            "Iteration 8700, loss=0.7080756425857544\n",
            "Iteration 8800, loss=0.6835250854492188\n",
            "Iteration 8900, loss=0.58953857421875\n",
            "Iteration 9000, loss=0.7350367903709412\n",
            "Iteration 9100, loss=0.6724969148635864\n",
            "Iteration 9200, loss=0.7281843423843384\n",
            "Iteration 9300, loss=0.7213124632835388\n",
            "Iteration 9400, loss=0.6282212734222412\n",
            "Iteration 9500, loss=0.7292187809944153\n",
            "Iteration 9600, loss=0.5574155449867249\n",
            "Iteration 9700, loss=0.6967554688453674\n",
            "Iteration 9800, loss=0.6828957200050354\n",
            "Iteration 9900, loss=0.7233183979988098\n"
          ],
          "name": "stdout"
        }
      ]
    },
    {
      "cell_type": "markdown",
      "metadata": {
        "id": "f9Vsw3eus3fG"
      },
      "source": [
        "Training a word2vec model needs way more epochs and a couple of days to run..."
      ]
    }
  ]
}