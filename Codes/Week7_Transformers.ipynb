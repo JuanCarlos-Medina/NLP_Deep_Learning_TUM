{
  "nbformat": 4,
  "nbformat_minor": 0,
  "metadata": {
    "colab": {
      "name": "Week7_Transformers.ipynb",
      "provenance": [],
      "collapsed_sections": [],
      "toc_visible": true
    },
    "kernelspec": {
      "name": "python3",
      "display_name": "Python 3"
    },
    "accelerator": "GPU",
    "widgets": {
      "application/vnd.jupyter.widget-state+json": {
        "483aa901616c46fc9745c88183d4f5cf": {
          "model_module": "@jupyter-widgets/controls",
          "model_name": "HBoxModel",
          "state": {
            "_view_name": "HBoxView",
            "_dom_classes": [],
            "_model_name": "HBoxModel",
            "_view_module": "@jupyter-widgets/controls",
            "_model_module_version": "1.5.0",
            "_view_count": null,
            "_view_module_version": "1.5.0",
            "box_style": "",
            "layout": "IPY_MODEL_c389c505fe2347149e7d988aa387273d",
            "_model_module": "@jupyter-widgets/controls",
            "children": [
              "IPY_MODEL_e431a9a9670e46458116c68787984deb",
              "IPY_MODEL_e0b885153764401cb527d7b11a40d486"
            ]
          }
        },
        "c389c505fe2347149e7d988aa387273d": {
          "model_module": "@jupyter-widgets/base",
          "model_name": "LayoutModel",
          "state": {
            "_view_name": "LayoutView",
            "grid_template_rows": null,
            "right": null,
            "justify_content": null,
            "_view_module": "@jupyter-widgets/base",
            "overflow": null,
            "_model_module_version": "1.2.0",
            "_view_count": null,
            "flex_flow": null,
            "width": null,
            "min_width": null,
            "border": null,
            "align_items": null,
            "bottom": null,
            "_model_module": "@jupyter-widgets/base",
            "top": null,
            "grid_column": null,
            "overflow_y": null,
            "overflow_x": null,
            "grid_auto_flow": null,
            "grid_area": null,
            "grid_template_columns": null,
            "flex": null,
            "_model_name": "LayoutModel",
            "justify_items": null,
            "grid_row": null,
            "max_height": null,
            "align_content": null,
            "visibility": null,
            "align_self": null,
            "height": null,
            "min_height": null,
            "padding": null,
            "grid_auto_rows": null,
            "grid_gap": null,
            "max_width": null,
            "order": null,
            "_view_module_version": "1.2.0",
            "grid_template_areas": null,
            "object_position": null,
            "object_fit": null,
            "grid_auto_columns": null,
            "margin": null,
            "display": null,
            "left": null
          }
        },
        "e431a9a9670e46458116c68787984deb": {
          "model_module": "@jupyter-widgets/controls",
          "model_name": "FloatProgressModel",
          "state": {
            "_view_name": "ProgressView",
            "style": "IPY_MODEL_2058e90e03764ea08b2e275f6f1ee116",
            "_dom_classes": [],
            "description": "Dl Completed...: 100%",
            "_model_name": "FloatProgressModel",
            "bar_style": "success",
            "max": 1,
            "_view_module": "@jupyter-widgets/controls",
            "_model_module_version": "1.5.0",
            "value": 1,
            "_view_count": null,
            "_view_module_version": "1.5.0",
            "orientation": "horizontal",
            "min": 0,
            "description_tooltip": null,
            "_model_module": "@jupyter-widgets/controls",
            "layout": "IPY_MODEL_a679e90a74f04add8a43fdb87aca3d04"
          }
        },
        "e0b885153764401cb527d7b11a40d486": {
          "model_module": "@jupyter-widgets/controls",
          "model_name": "HTMLModel",
          "state": {
            "_view_name": "HTMLView",
            "style": "IPY_MODEL_a31c4f5cd2294cdfa5294079233c38c8",
            "_dom_classes": [],
            "description": "",
            "_model_name": "HTMLModel",
            "placeholder": "​",
            "_view_module": "@jupyter-widgets/controls",
            "_model_module_version": "1.5.0",
            "value": " 1/1 [00:11&lt;00:00, 11.07s/ url]",
            "_view_count": null,
            "_view_module_version": "1.5.0",
            "description_tooltip": null,
            "_model_module": "@jupyter-widgets/controls",
            "layout": "IPY_MODEL_bfee687532f64a249bc312f0cba4a1ce"
          }
        },
        "2058e90e03764ea08b2e275f6f1ee116": {
          "model_module": "@jupyter-widgets/controls",
          "model_name": "ProgressStyleModel",
          "state": {
            "_view_name": "StyleView",
            "_model_name": "ProgressStyleModel",
            "description_width": "initial",
            "_view_module": "@jupyter-widgets/base",
            "_model_module_version": "1.5.0",
            "_view_count": null,
            "_view_module_version": "1.2.0",
            "bar_color": null,
            "_model_module": "@jupyter-widgets/controls"
          }
        },
        "a679e90a74f04add8a43fdb87aca3d04": {
          "model_module": "@jupyter-widgets/base",
          "model_name": "LayoutModel",
          "state": {
            "_view_name": "LayoutView",
            "grid_template_rows": null,
            "right": null,
            "justify_content": null,
            "_view_module": "@jupyter-widgets/base",
            "overflow": null,
            "_model_module_version": "1.2.0",
            "_view_count": null,
            "flex_flow": null,
            "width": null,
            "min_width": null,
            "border": null,
            "align_items": null,
            "bottom": null,
            "_model_module": "@jupyter-widgets/base",
            "top": null,
            "grid_column": null,
            "overflow_y": null,
            "overflow_x": null,
            "grid_auto_flow": null,
            "grid_area": null,
            "grid_template_columns": null,
            "flex": null,
            "_model_name": "LayoutModel",
            "justify_items": null,
            "grid_row": null,
            "max_height": null,
            "align_content": null,
            "visibility": null,
            "align_self": null,
            "height": null,
            "min_height": null,
            "padding": null,
            "grid_auto_rows": null,
            "grid_gap": null,
            "max_width": null,
            "order": null,
            "_view_module_version": "1.2.0",
            "grid_template_areas": null,
            "object_position": null,
            "object_fit": null,
            "grid_auto_columns": null,
            "margin": null,
            "display": null,
            "left": null
          }
        },
        "a31c4f5cd2294cdfa5294079233c38c8": {
          "model_module": "@jupyter-widgets/controls",
          "model_name": "DescriptionStyleModel",
          "state": {
            "_view_name": "StyleView",
            "_model_name": "DescriptionStyleModel",
            "description_width": "",
            "_view_module": "@jupyter-widgets/base",
            "_model_module_version": "1.5.0",
            "_view_count": null,
            "_view_module_version": "1.2.0",
            "_model_module": "@jupyter-widgets/controls"
          }
        },
        "bfee687532f64a249bc312f0cba4a1ce": {
          "model_module": "@jupyter-widgets/base",
          "model_name": "LayoutModel",
          "state": {
            "_view_name": "LayoutView",
            "grid_template_rows": null,
            "right": null,
            "justify_content": null,
            "_view_module": "@jupyter-widgets/base",
            "overflow": null,
            "_model_module_version": "1.2.0",
            "_view_count": null,
            "flex_flow": null,
            "width": null,
            "min_width": null,
            "border": null,
            "align_items": null,
            "bottom": null,
            "_model_module": "@jupyter-widgets/base",
            "top": null,
            "grid_column": null,
            "overflow_y": null,
            "overflow_x": null,
            "grid_auto_flow": null,
            "grid_area": null,
            "grid_template_columns": null,
            "flex": null,
            "_model_name": "LayoutModel",
            "justify_items": null,
            "grid_row": null,
            "max_height": null,
            "align_content": null,
            "visibility": null,
            "align_self": null,
            "height": null,
            "min_height": null,
            "padding": null,
            "grid_auto_rows": null,
            "grid_gap": null,
            "max_width": null,
            "order": null,
            "_view_module_version": "1.2.0",
            "grid_template_areas": null,
            "object_position": null,
            "object_fit": null,
            "grid_auto_columns": null,
            "margin": null,
            "display": null,
            "left": null
          }
        },
        "602ad4858383404880fb71189cc12df5": {
          "model_module": "@jupyter-widgets/controls",
          "model_name": "HBoxModel",
          "state": {
            "_view_name": "HBoxView",
            "_dom_classes": [],
            "_model_name": "HBoxModel",
            "_view_module": "@jupyter-widgets/controls",
            "_model_module_version": "1.5.0",
            "_view_count": null,
            "_view_module_version": "1.5.0",
            "box_style": "",
            "layout": "IPY_MODEL_97f68ea09f3f4847a1de789ebe9069fb",
            "_model_module": "@jupyter-widgets/controls",
            "children": [
              "IPY_MODEL_f92ec1c6b8054909bf763cb46e731b04",
              "IPY_MODEL_da36a6abeb9742e1a290d41b05c5a10d"
            ]
          }
        },
        "97f68ea09f3f4847a1de789ebe9069fb": {
          "model_module": "@jupyter-widgets/base",
          "model_name": "LayoutModel",
          "state": {
            "_view_name": "LayoutView",
            "grid_template_rows": null,
            "right": null,
            "justify_content": null,
            "_view_module": "@jupyter-widgets/base",
            "overflow": null,
            "_model_module_version": "1.2.0",
            "_view_count": null,
            "flex_flow": null,
            "width": null,
            "min_width": null,
            "border": null,
            "align_items": null,
            "bottom": null,
            "_model_module": "@jupyter-widgets/base",
            "top": null,
            "grid_column": null,
            "overflow_y": null,
            "overflow_x": null,
            "grid_auto_flow": null,
            "grid_area": null,
            "grid_template_columns": null,
            "flex": null,
            "_model_name": "LayoutModel",
            "justify_items": null,
            "grid_row": null,
            "max_height": null,
            "align_content": null,
            "visibility": null,
            "align_self": null,
            "height": null,
            "min_height": null,
            "padding": null,
            "grid_auto_rows": null,
            "grid_gap": null,
            "max_width": null,
            "order": null,
            "_view_module_version": "1.2.0",
            "grid_template_areas": null,
            "object_position": null,
            "object_fit": null,
            "grid_auto_columns": null,
            "margin": null,
            "display": null,
            "left": null
          }
        },
        "f92ec1c6b8054909bf763cb46e731b04": {
          "model_module": "@jupyter-widgets/controls",
          "model_name": "FloatProgressModel",
          "state": {
            "_view_name": "ProgressView",
            "style": "IPY_MODEL_9f3bcb2bc3c9499580d195d7ee33b4eb",
            "_dom_classes": [],
            "description": "Dl Size...: 100%",
            "_model_name": "FloatProgressModel",
            "bar_style": "success",
            "max": 1,
            "_view_module": "@jupyter-widgets/controls",
            "_model_module_version": "1.5.0",
            "value": 1,
            "_view_count": null,
            "_view_module_version": "1.5.0",
            "orientation": "horizontal",
            "min": 0,
            "description_tooltip": null,
            "_model_module": "@jupyter-widgets/controls",
            "layout": "IPY_MODEL_c7bd796fd0d04d97b0e464f9eac6358a"
          }
        },
        "da36a6abeb9742e1a290d41b05c5a10d": {
          "model_module": "@jupyter-widgets/controls",
          "model_name": "HTMLModel",
          "state": {
            "_view_name": "HTMLView",
            "style": "IPY_MODEL_865219f3f89f4163aaa2a0c7bccef70d",
            "_dom_classes": [],
            "description": "",
            "_model_name": "HTMLModel",
            "placeholder": "​",
            "_view_module": "@jupyter-widgets/controls",
            "_model_module_version": "1.5.0",
            "value": " 80/80 [00:11&lt;00:00,  7.25 MiB/s]",
            "_view_count": null,
            "_view_module_version": "1.5.0",
            "description_tooltip": null,
            "_model_module": "@jupyter-widgets/controls",
            "layout": "IPY_MODEL_dea5577ea6aa4d728ee30dba2e18cbf1"
          }
        },
        "9f3bcb2bc3c9499580d195d7ee33b4eb": {
          "model_module": "@jupyter-widgets/controls",
          "model_name": "ProgressStyleModel",
          "state": {
            "_view_name": "StyleView",
            "_model_name": "ProgressStyleModel",
            "description_width": "initial",
            "_view_module": "@jupyter-widgets/base",
            "_model_module_version": "1.5.0",
            "_view_count": null,
            "_view_module_version": "1.2.0",
            "bar_color": null,
            "_model_module": "@jupyter-widgets/controls"
          }
        },
        "c7bd796fd0d04d97b0e464f9eac6358a": {
          "model_module": "@jupyter-widgets/base",
          "model_name": "LayoutModel",
          "state": {
            "_view_name": "LayoutView",
            "grid_template_rows": null,
            "right": null,
            "justify_content": null,
            "_view_module": "@jupyter-widgets/base",
            "overflow": null,
            "_model_module_version": "1.2.0",
            "_view_count": null,
            "flex_flow": null,
            "width": null,
            "min_width": null,
            "border": null,
            "align_items": null,
            "bottom": null,
            "_model_module": "@jupyter-widgets/base",
            "top": null,
            "grid_column": null,
            "overflow_y": null,
            "overflow_x": null,
            "grid_auto_flow": null,
            "grid_area": null,
            "grid_template_columns": null,
            "flex": null,
            "_model_name": "LayoutModel",
            "justify_items": null,
            "grid_row": null,
            "max_height": null,
            "align_content": null,
            "visibility": null,
            "align_self": null,
            "height": null,
            "min_height": null,
            "padding": null,
            "grid_auto_rows": null,
            "grid_gap": null,
            "max_width": null,
            "order": null,
            "_view_module_version": "1.2.0",
            "grid_template_areas": null,
            "object_position": null,
            "object_fit": null,
            "grid_auto_columns": null,
            "margin": null,
            "display": null,
            "left": null
          }
        },
        "865219f3f89f4163aaa2a0c7bccef70d": {
          "model_module": "@jupyter-widgets/controls",
          "model_name": "DescriptionStyleModel",
          "state": {
            "_view_name": "StyleView",
            "_model_name": "DescriptionStyleModel",
            "description_width": "",
            "_view_module": "@jupyter-widgets/base",
            "_model_module_version": "1.5.0",
            "_view_count": null,
            "_view_module_version": "1.2.0",
            "_model_module": "@jupyter-widgets/controls"
          }
        },
        "dea5577ea6aa4d728ee30dba2e18cbf1": {
          "model_module": "@jupyter-widgets/base",
          "model_name": "LayoutModel",
          "state": {
            "_view_name": "LayoutView",
            "grid_template_rows": null,
            "right": null,
            "justify_content": null,
            "_view_module": "@jupyter-widgets/base",
            "overflow": null,
            "_model_module_version": "1.2.0",
            "_view_count": null,
            "flex_flow": null,
            "width": null,
            "min_width": null,
            "border": null,
            "align_items": null,
            "bottom": null,
            "_model_module": "@jupyter-widgets/base",
            "top": null,
            "grid_column": null,
            "overflow_y": null,
            "overflow_x": null,
            "grid_auto_flow": null,
            "grid_area": null,
            "grid_template_columns": null,
            "flex": null,
            "_model_name": "LayoutModel",
            "justify_items": null,
            "grid_row": null,
            "max_height": null,
            "align_content": null,
            "visibility": null,
            "align_self": null,
            "height": null,
            "min_height": null,
            "padding": null,
            "grid_auto_rows": null,
            "grid_gap": null,
            "max_width": null,
            "order": null,
            "_view_module_version": "1.2.0",
            "grid_template_areas": null,
            "object_position": null,
            "object_fit": null,
            "grid_auto_columns": null,
            "margin": null,
            "display": null,
            "left": null
          }
        },
        "f5eb22a3351c4649bd8adacf8ca7c59d": {
          "model_module": "@jupyter-widgets/controls",
          "model_name": "HBoxModel",
          "state": {
            "_view_name": "HBoxView",
            "_dom_classes": [],
            "_model_name": "HBoxModel",
            "_view_module": "@jupyter-widgets/controls",
            "_model_module_version": "1.5.0",
            "_view_count": null,
            "_view_module_version": "1.5.0",
            "box_style": "",
            "layout": "IPY_MODEL_c029a5dc9011455aa933aeaf022a9337",
            "_model_module": "@jupyter-widgets/controls",
            "children": [
              "IPY_MODEL_ddb1b2ff331c4b74b82a41251ce06726",
              "IPY_MODEL_8354cbb229ff4544a02c78a6d86f9f2e"
            ]
          }
        },
        "c029a5dc9011455aa933aeaf022a9337": {
          "model_module": "@jupyter-widgets/base",
          "model_name": "LayoutModel",
          "state": {
            "_view_name": "LayoutView",
            "grid_template_rows": null,
            "right": null,
            "justify_content": null,
            "_view_module": "@jupyter-widgets/base",
            "overflow": null,
            "_model_module_version": "1.2.0",
            "_view_count": null,
            "flex_flow": null,
            "width": null,
            "min_width": null,
            "border": null,
            "align_items": null,
            "bottom": null,
            "_model_module": "@jupyter-widgets/base",
            "top": null,
            "grid_column": null,
            "overflow_y": null,
            "overflow_x": null,
            "grid_auto_flow": null,
            "grid_area": null,
            "grid_template_columns": null,
            "flex": null,
            "_model_name": "LayoutModel",
            "justify_items": null,
            "grid_row": null,
            "max_height": null,
            "align_content": null,
            "visibility": null,
            "align_self": null,
            "height": null,
            "min_height": null,
            "padding": null,
            "grid_auto_rows": null,
            "grid_gap": null,
            "max_width": null,
            "order": null,
            "_view_module_version": "1.2.0",
            "grid_template_areas": null,
            "object_position": null,
            "object_fit": null,
            "grid_auto_columns": null,
            "margin": null,
            "display": null,
            "left": null
          }
        },
        "ddb1b2ff331c4b74b82a41251ce06726": {
          "model_module": "@jupyter-widgets/controls",
          "model_name": "FloatProgressModel",
          "state": {
            "_view_name": "ProgressView",
            "style": "IPY_MODEL_24c1abbd5db64005b534c0c8bb4425c7",
            "_dom_classes": [],
            "description": "",
            "_model_name": "FloatProgressModel",
            "bar_style": "info",
            "max": 1,
            "_view_module": "@jupyter-widgets/controls",
            "_model_module_version": "1.5.0",
            "value": 1,
            "_view_count": null,
            "_view_module_version": "1.5.0",
            "orientation": "horizontal",
            "min": 0,
            "description_tooltip": null,
            "_model_module": "@jupyter-widgets/controls",
            "layout": "IPY_MODEL_a0a0d3c6a1524c828cb6a9e145dc5111"
          }
        },
        "8354cbb229ff4544a02c78a6d86f9f2e": {
          "model_module": "@jupyter-widgets/controls",
          "model_name": "HTMLModel",
          "state": {
            "_view_name": "HTMLView",
            "style": "IPY_MODEL_53fc3ea6b2d04edbbe63e5201d413408",
            "_dom_classes": [],
            "description": "",
            "_model_name": "HTMLModel",
            "placeholder": "​",
            "_view_module": "@jupyter-widgets/controls",
            "_model_module_version": "1.5.0",
            "value": " 25000/0 [00:13&lt;00:00, 3321.92 examples/s]",
            "_view_count": null,
            "_view_module_version": "1.5.0",
            "description_tooltip": null,
            "_model_module": "@jupyter-widgets/controls",
            "layout": "IPY_MODEL_c2faa2f085df448c8a1247f2ff8b6a9d"
          }
        },
        "24c1abbd5db64005b534c0c8bb4425c7": {
          "model_module": "@jupyter-widgets/controls",
          "model_name": "ProgressStyleModel",
          "state": {
            "_view_name": "StyleView",
            "_model_name": "ProgressStyleModel",
            "description_width": "initial",
            "_view_module": "@jupyter-widgets/base",
            "_model_module_version": "1.5.0",
            "_view_count": null,
            "_view_module_version": "1.2.0",
            "bar_color": null,
            "_model_module": "@jupyter-widgets/controls"
          }
        },
        "a0a0d3c6a1524c828cb6a9e145dc5111": {
          "model_module": "@jupyter-widgets/base",
          "model_name": "LayoutModel",
          "state": {
            "_view_name": "LayoutView",
            "grid_template_rows": null,
            "right": null,
            "justify_content": null,
            "_view_module": "@jupyter-widgets/base",
            "overflow": null,
            "_model_module_version": "1.2.0",
            "_view_count": null,
            "flex_flow": null,
            "width": null,
            "min_width": null,
            "border": null,
            "align_items": null,
            "bottom": null,
            "_model_module": "@jupyter-widgets/base",
            "top": null,
            "grid_column": null,
            "overflow_y": null,
            "overflow_x": null,
            "grid_auto_flow": null,
            "grid_area": null,
            "grid_template_columns": null,
            "flex": null,
            "_model_name": "LayoutModel",
            "justify_items": null,
            "grid_row": null,
            "max_height": null,
            "align_content": null,
            "visibility": null,
            "align_self": null,
            "height": null,
            "min_height": null,
            "padding": null,
            "grid_auto_rows": null,
            "grid_gap": null,
            "max_width": null,
            "order": null,
            "_view_module_version": "1.2.0",
            "grid_template_areas": null,
            "object_position": null,
            "object_fit": null,
            "grid_auto_columns": null,
            "margin": null,
            "display": null,
            "left": null
          }
        },
        "53fc3ea6b2d04edbbe63e5201d413408": {
          "model_module": "@jupyter-widgets/controls",
          "model_name": "DescriptionStyleModel",
          "state": {
            "_view_name": "StyleView",
            "_model_name": "DescriptionStyleModel",
            "description_width": "",
            "_view_module": "@jupyter-widgets/base",
            "_model_module_version": "1.5.0",
            "_view_count": null,
            "_view_module_version": "1.2.0",
            "_model_module": "@jupyter-widgets/controls"
          }
        },
        "c2faa2f085df448c8a1247f2ff8b6a9d": {
          "model_module": "@jupyter-widgets/base",
          "model_name": "LayoutModel",
          "state": {
            "_view_name": "LayoutView",
            "grid_template_rows": null,
            "right": null,
            "justify_content": null,
            "_view_module": "@jupyter-widgets/base",
            "overflow": null,
            "_model_module_version": "1.2.0",
            "_view_count": null,
            "flex_flow": null,
            "width": null,
            "min_width": null,
            "border": null,
            "align_items": null,
            "bottom": null,
            "_model_module": "@jupyter-widgets/base",
            "top": null,
            "grid_column": null,
            "overflow_y": null,
            "overflow_x": null,
            "grid_auto_flow": null,
            "grid_area": null,
            "grid_template_columns": null,
            "flex": null,
            "_model_name": "LayoutModel",
            "justify_items": null,
            "grid_row": null,
            "max_height": null,
            "align_content": null,
            "visibility": null,
            "align_self": null,
            "height": null,
            "min_height": null,
            "padding": null,
            "grid_auto_rows": null,
            "grid_gap": null,
            "max_width": null,
            "order": null,
            "_view_module_version": "1.2.0",
            "grid_template_areas": null,
            "object_position": null,
            "object_fit": null,
            "grid_auto_columns": null,
            "margin": null,
            "display": null,
            "left": null
          }
        },
        "f6e9d1fff5484fbfa47a83cb3b757fdb": {
          "model_module": "@jupyter-widgets/controls",
          "model_name": "HBoxModel",
          "state": {
            "_view_name": "HBoxView",
            "_dom_classes": [],
            "_model_name": "HBoxModel",
            "_view_module": "@jupyter-widgets/controls",
            "_model_module_version": "1.5.0",
            "_view_count": null,
            "_view_module_version": "1.5.0",
            "box_style": "",
            "layout": "IPY_MODEL_9588100fd24d4a0190198065b96efab0",
            "_model_module": "@jupyter-widgets/controls",
            "children": [
              "IPY_MODEL_34f8683fcb7c4e0f9bd924395bd38bd2",
              "IPY_MODEL_ddb83b23782841f88f98a978a3a3d98a"
            ]
          }
        },
        "9588100fd24d4a0190198065b96efab0": {
          "model_module": "@jupyter-widgets/base",
          "model_name": "LayoutModel",
          "state": {
            "_view_name": "LayoutView",
            "grid_template_rows": null,
            "right": null,
            "justify_content": null,
            "_view_module": "@jupyter-widgets/base",
            "overflow": null,
            "_model_module_version": "1.2.0",
            "_view_count": null,
            "flex_flow": null,
            "width": null,
            "min_width": null,
            "border": null,
            "align_items": null,
            "bottom": null,
            "_model_module": "@jupyter-widgets/base",
            "top": null,
            "grid_column": null,
            "overflow_y": null,
            "overflow_x": null,
            "grid_auto_flow": null,
            "grid_area": null,
            "grid_template_columns": null,
            "flex": null,
            "_model_name": "LayoutModel",
            "justify_items": null,
            "grid_row": null,
            "max_height": null,
            "align_content": null,
            "visibility": null,
            "align_self": null,
            "height": null,
            "min_height": null,
            "padding": null,
            "grid_auto_rows": null,
            "grid_gap": null,
            "max_width": null,
            "order": null,
            "_view_module_version": "1.2.0",
            "grid_template_areas": null,
            "object_position": null,
            "object_fit": null,
            "grid_auto_columns": null,
            "margin": null,
            "display": null,
            "left": null
          }
        },
        "34f8683fcb7c4e0f9bd924395bd38bd2": {
          "model_module": "@jupyter-widgets/controls",
          "model_name": "FloatProgressModel",
          "state": {
            "_view_name": "ProgressView",
            "style": "IPY_MODEL_bf9a379dcc84471cb3e24c1ef59e762e",
            "_dom_classes": [],
            "description": " 42%",
            "_model_name": "FloatProgressModel",
            "bar_style": "danger",
            "max": 25000,
            "_view_module": "@jupyter-widgets/controls",
            "_model_module_version": "1.5.0",
            "value": 10580,
            "_view_count": null,
            "_view_module_version": "1.5.0",
            "orientation": "horizontal",
            "min": 0,
            "description_tooltip": null,
            "_model_module": "@jupyter-widgets/controls",
            "layout": "IPY_MODEL_0c98b6aa4a054d73b4274630b50770c0"
          }
        },
        "ddb83b23782841f88f98a978a3a3d98a": {
          "model_module": "@jupyter-widgets/controls",
          "model_name": "HTMLModel",
          "state": {
            "_view_name": "HTMLView",
            "style": "IPY_MODEL_0aea6ec172ad4cd09af8fcc220169e96",
            "_dom_classes": [],
            "description": "",
            "_model_name": "HTMLModel",
            "placeholder": "​",
            "_view_module": "@jupyter-widgets/controls",
            "_model_module_version": "1.5.0",
            "value": " 10580/25000 [00:00&lt;00:00, 105798.08 examples/s]",
            "_view_count": null,
            "_view_module_version": "1.5.0",
            "description_tooltip": null,
            "_model_module": "@jupyter-widgets/controls",
            "layout": "IPY_MODEL_4568a9742ea84040b8e7d8c875b13c9c"
          }
        },
        "bf9a379dcc84471cb3e24c1ef59e762e": {
          "model_module": "@jupyter-widgets/controls",
          "model_name": "ProgressStyleModel",
          "state": {
            "_view_name": "StyleView",
            "_model_name": "ProgressStyleModel",
            "description_width": "initial",
            "_view_module": "@jupyter-widgets/base",
            "_model_module_version": "1.5.0",
            "_view_count": null,
            "_view_module_version": "1.2.0",
            "bar_color": null,
            "_model_module": "@jupyter-widgets/controls"
          }
        },
        "0c98b6aa4a054d73b4274630b50770c0": {
          "model_module": "@jupyter-widgets/base",
          "model_name": "LayoutModel",
          "state": {
            "_view_name": "LayoutView",
            "grid_template_rows": null,
            "right": null,
            "justify_content": null,
            "_view_module": "@jupyter-widgets/base",
            "overflow": null,
            "_model_module_version": "1.2.0",
            "_view_count": null,
            "flex_flow": null,
            "width": null,
            "min_width": null,
            "border": null,
            "align_items": null,
            "bottom": null,
            "_model_module": "@jupyter-widgets/base",
            "top": null,
            "grid_column": null,
            "overflow_y": null,
            "overflow_x": null,
            "grid_auto_flow": null,
            "grid_area": null,
            "grid_template_columns": null,
            "flex": null,
            "_model_name": "LayoutModel",
            "justify_items": null,
            "grid_row": null,
            "max_height": null,
            "align_content": null,
            "visibility": null,
            "align_self": null,
            "height": null,
            "min_height": null,
            "padding": null,
            "grid_auto_rows": null,
            "grid_gap": null,
            "max_width": null,
            "order": null,
            "_view_module_version": "1.2.0",
            "grid_template_areas": null,
            "object_position": null,
            "object_fit": null,
            "grid_auto_columns": null,
            "margin": null,
            "display": null,
            "left": null
          }
        },
        "0aea6ec172ad4cd09af8fcc220169e96": {
          "model_module": "@jupyter-widgets/controls",
          "model_name": "DescriptionStyleModel",
          "state": {
            "_view_name": "StyleView",
            "_model_name": "DescriptionStyleModel",
            "description_width": "",
            "_view_module": "@jupyter-widgets/base",
            "_model_module_version": "1.5.0",
            "_view_count": null,
            "_view_module_version": "1.2.0",
            "_model_module": "@jupyter-widgets/controls"
          }
        },
        "4568a9742ea84040b8e7d8c875b13c9c": {
          "model_module": "@jupyter-widgets/base",
          "model_name": "LayoutModel",
          "state": {
            "_view_name": "LayoutView",
            "grid_template_rows": null,
            "right": null,
            "justify_content": null,
            "_view_module": "@jupyter-widgets/base",
            "overflow": null,
            "_model_module_version": "1.2.0",
            "_view_count": null,
            "flex_flow": null,
            "width": null,
            "min_width": null,
            "border": null,
            "align_items": null,
            "bottom": null,
            "_model_module": "@jupyter-widgets/base",
            "top": null,
            "grid_column": null,
            "overflow_y": null,
            "overflow_x": null,
            "grid_auto_flow": null,
            "grid_area": null,
            "grid_template_columns": null,
            "flex": null,
            "_model_name": "LayoutModel",
            "justify_items": null,
            "grid_row": null,
            "max_height": null,
            "align_content": null,
            "visibility": null,
            "align_self": null,
            "height": null,
            "min_height": null,
            "padding": null,
            "grid_auto_rows": null,
            "grid_gap": null,
            "max_width": null,
            "order": null,
            "_view_module_version": "1.2.0",
            "grid_template_areas": null,
            "object_position": null,
            "object_fit": null,
            "grid_auto_columns": null,
            "margin": null,
            "display": null,
            "left": null
          }
        },
        "b02d340d74504a84bab4fc5f2d2f0553": {
          "model_module": "@jupyter-widgets/controls",
          "model_name": "HBoxModel",
          "state": {
            "_view_name": "HBoxView",
            "_dom_classes": [],
            "_model_name": "HBoxModel",
            "_view_module": "@jupyter-widgets/controls",
            "_model_module_version": "1.5.0",
            "_view_count": null,
            "_view_module_version": "1.5.0",
            "box_style": "",
            "layout": "IPY_MODEL_6bdc3308756a464099a21ace9bf365a4",
            "_model_module": "@jupyter-widgets/controls",
            "children": [
              "IPY_MODEL_a0113a975be449af89b07f32f387cee5",
              "IPY_MODEL_051fc3f5a6274c77b2c3efd6b51467b4"
            ]
          }
        },
        "6bdc3308756a464099a21ace9bf365a4": {
          "model_module": "@jupyter-widgets/base",
          "model_name": "LayoutModel",
          "state": {
            "_view_name": "LayoutView",
            "grid_template_rows": null,
            "right": null,
            "justify_content": null,
            "_view_module": "@jupyter-widgets/base",
            "overflow": null,
            "_model_module_version": "1.2.0",
            "_view_count": null,
            "flex_flow": null,
            "width": null,
            "min_width": null,
            "border": null,
            "align_items": null,
            "bottom": null,
            "_model_module": "@jupyter-widgets/base",
            "top": null,
            "grid_column": null,
            "overflow_y": null,
            "overflow_x": null,
            "grid_auto_flow": null,
            "grid_area": null,
            "grid_template_columns": null,
            "flex": null,
            "_model_name": "LayoutModel",
            "justify_items": null,
            "grid_row": null,
            "max_height": null,
            "align_content": null,
            "visibility": null,
            "align_self": null,
            "height": null,
            "min_height": null,
            "padding": null,
            "grid_auto_rows": null,
            "grid_gap": null,
            "max_width": null,
            "order": null,
            "_view_module_version": "1.2.0",
            "grid_template_areas": null,
            "object_position": null,
            "object_fit": null,
            "grid_auto_columns": null,
            "margin": null,
            "display": null,
            "left": null
          }
        },
        "a0113a975be449af89b07f32f387cee5": {
          "model_module": "@jupyter-widgets/controls",
          "model_name": "FloatProgressModel",
          "state": {
            "_view_name": "ProgressView",
            "style": "IPY_MODEL_be97ca7b655c4c88a09c360abaeb5df6",
            "_dom_classes": [],
            "description": "",
            "_model_name": "FloatProgressModel",
            "bar_style": "info",
            "max": 1,
            "_view_module": "@jupyter-widgets/controls",
            "_model_module_version": "1.5.0",
            "value": 1,
            "_view_count": null,
            "_view_module_version": "1.5.0",
            "orientation": "horizontal",
            "min": 0,
            "description_tooltip": null,
            "_model_module": "@jupyter-widgets/controls",
            "layout": "IPY_MODEL_cf54ccd306d44c06995b11c4850f83f2"
          }
        },
        "051fc3f5a6274c77b2c3efd6b51467b4": {
          "model_module": "@jupyter-widgets/controls",
          "model_name": "HTMLModel",
          "state": {
            "_view_name": "HTMLView",
            "style": "IPY_MODEL_b617ceb27b21443a82293c3fc5915e6a",
            "_dom_classes": [],
            "description": "",
            "_model_name": "HTMLModel",
            "placeholder": "​",
            "_view_module": "@jupyter-widgets/controls",
            "_model_module_version": "1.5.0",
            "value": " 25000/0 [00:13&lt;00:00, 3368.29 examples/s]",
            "_view_count": null,
            "_view_module_version": "1.5.0",
            "description_tooltip": null,
            "_model_module": "@jupyter-widgets/controls",
            "layout": "IPY_MODEL_68e9a53015364782a83c71b1e5a6d742"
          }
        },
        "be97ca7b655c4c88a09c360abaeb5df6": {
          "model_module": "@jupyter-widgets/controls",
          "model_name": "ProgressStyleModel",
          "state": {
            "_view_name": "StyleView",
            "_model_name": "ProgressStyleModel",
            "description_width": "initial",
            "_view_module": "@jupyter-widgets/base",
            "_model_module_version": "1.5.0",
            "_view_count": null,
            "_view_module_version": "1.2.0",
            "bar_color": null,
            "_model_module": "@jupyter-widgets/controls"
          }
        },
        "cf54ccd306d44c06995b11c4850f83f2": {
          "model_module": "@jupyter-widgets/base",
          "model_name": "LayoutModel",
          "state": {
            "_view_name": "LayoutView",
            "grid_template_rows": null,
            "right": null,
            "justify_content": null,
            "_view_module": "@jupyter-widgets/base",
            "overflow": null,
            "_model_module_version": "1.2.0",
            "_view_count": null,
            "flex_flow": null,
            "width": null,
            "min_width": null,
            "border": null,
            "align_items": null,
            "bottom": null,
            "_model_module": "@jupyter-widgets/base",
            "top": null,
            "grid_column": null,
            "overflow_y": null,
            "overflow_x": null,
            "grid_auto_flow": null,
            "grid_area": null,
            "grid_template_columns": null,
            "flex": null,
            "_model_name": "LayoutModel",
            "justify_items": null,
            "grid_row": null,
            "max_height": null,
            "align_content": null,
            "visibility": null,
            "align_self": null,
            "height": null,
            "min_height": null,
            "padding": null,
            "grid_auto_rows": null,
            "grid_gap": null,
            "max_width": null,
            "order": null,
            "_view_module_version": "1.2.0",
            "grid_template_areas": null,
            "object_position": null,
            "object_fit": null,
            "grid_auto_columns": null,
            "margin": null,
            "display": null,
            "left": null
          }
        },
        "b617ceb27b21443a82293c3fc5915e6a": {
          "model_module": "@jupyter-widgets/controls",
          "model_name": "DescriptionStyleModel",
          "state": {
            "_view_name": "StyleView",
            "_model_name": "DescriptionStyleModel",
            "description_width": "",
            "_view_module": "@jupyter-widgets/base",
            "_model_module_version": "1.5.0",
            "_view_count": null,
            "_view_module_version": "1.2.0",
            "_model_module": "@jupyter-widgets/controls"
          }
        },
        "68e9a53015364782a83c71b1e5a6d742": {
          "model_module": "@jupyter-widgets/base",
          "model_name": "LayoutModel",
          "state": {
            "_view_name": "LayoutView",
            "grid_template_rows": null,
            "right": null,
            "justify_content": null,
            "_view_module": "@jupyter-widgets/base",
            "overflow": null,
            "_model_module_version": "1.2.0",
            "_view_count": null,
            "flex_flow": null,
            "width": null,
            "min_width": null,
            "border": null,
            "align_items": null,
            "bottom": null,
            "_model_module": "@jupyter-widgets/base",
            "top": null,
            "grid_column": null,
            "overflow_y": null,
            "overflow_x": null,
            "grid_auto_flow": null,
            "grid_area": null,
            "grid_template_columns": null,
            "flex": null,
            "_model_name": "LayoutModel",
            "justify_items": null,
            "grid_row": null,
            "max_height": null,
            "align_content": null,
            "visibility": null,
            "align_self": null,
            "height": null,
            "min_height": null,
            "padding": null,
            "grid_auto_rows": null,
            "grid_gap": null,
            "max_width": null,
            "order": null,
            "_view_module_version": "1.2.0",
            "grid_template_areas": null,
            "object_position": null,
            "object_fit": null,
            "grid_auto_columns": null,
            "margin": null,
            "display": null,
            "left": null
          }
        },
        "a317e22b046843839a1ff9ca60097827": {
          "model_module": "@jupyter-widgets/controls",
          "model_name": "HBoxModel",
          "state": {
            "_view_name": "HBoxView",
            "_dom_classes": [],
            "_model_name": "HBoxModel",
            "_view_module": "@jupyter-widgets/controls",
            "_model_module_version": "1.5.0",
            "_view_count": null,
            "_view_module_version": "1.5.0",
            "box_style": "",
            "layout": "IPY_MODEL_4e9bf14ee79e45178d0656db9e7ae100",
            "_model_module": "@jupyter-widgets/controls",
            "children": [
              "IPY_MODEL_2979349818a24278ab74a898568574a2",
              "IPY_MODEL_fa84001eb42e4c63b0ba0c14727e215e"
            ]
          }
        },
        "4e9bf14ee79e45178d0656db9e7ae100": {
          "model_module": "@jupyter-widgets/base",
          "model_name": "LayoutModel",
          "state": {
            "_view_name": "LayoutView",
            "grid_template_rows": null,
            "right": null,
            "justify_content": null,
            "_view_module": "@jupyter-widgets/base",
            "overflow": null,
            "_model_module_version": "1.2.0",
            "_view_count": null,
            "flex_flow": null,
            "width": null,
            "min_width": null,
            "border": null,
            "align_items": null,
            "bottom": null,
            "_model_module": "@jupyter-widgets/base",
            "top": null,
            "grid_column": null,
            "overflow_y": null,
            "overflow_x": null,
            "grid_auto_flow": null,
            "grid_area": null,
            "grid_template_columns": null,
            "flex": null,
            "_model_name": "LayoutModel",
            "justify_items": null,
            "grid_row": null,
            "max_height": null,
            "align_content": null,
            "visibility": null,
            "align_self": null,
            "height": null,
            "min_height": null,
            "padding": null,
            "grid_auto_rows": null,
            "grid_gap": null,
            "max_width": null,
            "order": null,
            "_view_module_version": "1.2.0",
            "grid_template_areas": null,
            "object_position": null,
            "object_fit": null,
            "grid_auto_columns": null,
            "margin": null,
            "display": null,
            "left": null
          }
        },
        "2979349818a24278ab74a898568574a2": {
          "model_module": "@jupyter-widgets/controls",
          "model_name": "FloatProgressModel",
          "state": {
            "_view_name": "ProgressView",
            "style": "IPY_MODEL_950c6ff1d7d84e1dbe48c0ab286dacb7",
            "_dom_classes": [],
            "description": " 40%",
            "_model_name": "FloatProgressModel",
            "bar_style": "danger",
            "max": 25000,
            "_view_module": "@jupyter-widgets/controls",
            "_model_module_version": "1.5.0",
            "value": 9958,
            "_view_count": null,
            "_view_module_version": "1.5.0",
            "orientation": "horizontal",
            "min": 0,
            "description_tooltip": null,
            "_model_module": "@jupyter-widgets/controls",
            "layout": "IPY_MODEL_88eb94af7d1a49f392f7a43d96ced7d8"
          }
        },
        "fa84001eb42e4c63b0ba0c14727e215e": {
          "model_module": "@jupyter-widgets/controls",
          "model_name": "HTMLModel",
          "state": {
            "_view_name": "HTMLView",
            "style": "IPY_MODEL_f32aaa0f86bc461a817a9bd768d38f6f",
            "_dom_classes": [],
            "description": "",
            "_model_name": "HTMLModel",
            "placeholder": "​",
            "_view_module": "@jupyter-widgets/controls",
            "_model_module_version": "1.5.0",
            "value": " 9958/25000 [00:00&lt;00:00, 99575.35 examples/s]",
            "_view_count": null,
            "_view_module_version": "1.5.0",
            "description_tooltip": null,
            "_model_module": "@jupyter-widgets/controls",
            "layout": "IPY_MODEL_26d28d62cc4a49efb14b2662feaab765"
          }
        },
        "950c6ff1d7d84e1dbe48c0ab286dacb7": {
          "model_module": "@jupyter-widgets/controls",
          "model_name": "ProgressStyleModel",
          "state": {
            "_view_name": "StyleView",
            "_model_name": "ProgressStyleModel",
            "description_width": "initial",
            "_view_module": "@jupyter-widgets/base",
            "_model_module_version": "1.5.0",
            "_view_count": null,
            "_view_module_version": "1.2.0",
            "bar_color": null,
            "_model_module": "@jupyter-widgets/controls"
          }
        },
        "88eb94af7d1a49f392f7a43d96ced7d8": {
          "model_module": "@jupyter-widgets/base",
          "model_name": "LayoutModel",
          "state": {
            "_view_name": "LayoutView",
            "grid_template_rows": null,
            "right": null,
            "justify_content": null,
            "_view_module": "@jupyter-widgets/base",
            "overflow": null,
            "_model_module_version": "1.2.0",
            "_view_count": null,
            "flex_flow": null,
            "width": null,
            "min_width": null,
            "border": null,
            "align_items": null,
            "bottom": null,
            "_model_module": "@jupyter-widgets/base",
            "top": null,
            "grid_column": null,
            "overflow_y": null,
            "overflow_x": null,
            "grid_auto_flow": null,
            "grid_area": null,
            "grid_template_columns": null,
            "flex": null,
            "_model_name": "LayoutModel",
            "justify_items": null,
            "grid_row": null,
            "max_height": null,
            "align_content": null,
            "visibility": null,
            "align_self": null,
            "height": null,
            "min_height": null,
            "padding": null,
            "grid_auto_rows": null,
            "grid_gap": null,
            "max_width": null,
            "order": null,
            "_view_module_version": "1.2.0",
            "grid_template_areas": null,
            "object_position": null,
            "object_fit": null,
            "grid_auto_columns": null,
            "margin": null,
            "display": null,
            "left": null
          }
        },
        "f32aaa0f86bc461a817a9bd768d38f6f": {
          "model_module": "@jupyter-widgets/controls",
          "model_name": "DescriptionStyleModel",
          "state": {
            "_view_name": "StyleView",
            "_model_name": "DescriptionStyleModel",
            "description_width": "",
            "_view_module": "@jupyter-widgets/base",
            "_model_module_version": "1.5.0",
            "_view_count": null,
            "_view_module_version": "1.2.0",
            "_model_module": "@jupyter-widgets/controls"
          }
        },
        "26d28d62cc4a49efb14b2662feaab765": {
          "model_module": "@jupyter-widgets/base",
          "model_name": "LayoutModel",
          "state": {
            "_view_name": "LayoutView",
            "grid_template_rows": null,
            "right": null,
            "justify_content": null,
            "_view_module": "@jupyter-widgets/base",
            "overflow": null,
            "_model_module_version": "1.2.0",
            "_view_count": null,
            "flex_flow": null,
            "width": null,
            "min_width": null,
            "border": null,
            "align_items": null,
            "bottom": null,
            "_model_module": "@jupyter-widgets/base",
            "top": null,
            "grid_column": null,
            "overflow_y": null,
            "overflow_x": null,
            "grid_auto_flow": null,
            "grid_area": null,
            "grid_template_columns": null,
            "flex": null,
            "_model_name": "LayoutModel",
            "justify_items": null,
            "grid_row": null,
            "max_height": null,
            "align_content": null,
            "visibility": null,
            "align_self": null,
            "height": null,
            "min_height": null,
            "padding": null,
            "grid_auto_rows": null,
            "grid_gap": null,
            "max_width": null,
            "order": null,
            "_view_module_version": "1.2.0",
            "grid_template_areas": null,
            "object_position": null,
            "object_fit": null,
            "grid_auto_columns": null,
            "margin": null,
            "display": null,
            "left": null
          }
        },
        "d41986221f20476cbb77bdf000f2848a": {
          "model_module": "@jupyter-widgets/controls",
          "model_name": "HBoxModel",
          "state": {
            "_view_name": "HBoxView",
            "_dom_classes": [],
            "_model_name": "HBoxModel",
            "_view_module": "@jupyter-widgets/controls",
            "_model_module_version": "1.5.0",
            "_view_count": null,
            "_view_module_version": "1.5.0",
            "box_style": "",
            "layout": "IPY_MODEL_63c827b7b91c4467bef080e4d8fdacf4",
            "_model_module": "@jupyter-widgets/controls",
            "children": [
              "IPY_MODEL_71fe80da9dcd45e58fb07a36c4504724",
              "IPY_MODEL_e58f6c219e9d47e58532d9149b8cceec"
            ]
          }
        },
        "63c827b7b91c4467bef080e4d8fdacf4": {
          "model_module": "@jupyter-widgets/base",
          "model_name": "LayoutModel",
          "state": {
            "_view_name": "LayoutView",
            "grid_template_rows": null,
            "right": null,
            "justify_content": null,
            "_view_module": "@jupyter-widgets/base",
            "overflow": null,
            "_model_module_version": "1.2.0",
            "_view_count": null,
            "flex_flow": null,
            "width": null,
            "min_width": null,
            "border": null,
            "align_items": null,
            "bottom": null,
            "_model_module": "@jupyter-widgets/base",
            "top": null,
            "grid_column": null,
            "overflow_y": null,
            "overflow_x": null,
            "grid_auto_flow": null,
            "grid_area": null,
            "grid_template_columns": null,
            "flex": null,
            "_model_name": "LayoutModel",
            "justify_items": null,
            "grid_row": null,
            "max_height": null,
            "align_content": null,
            "visibility": null,
            "align_self": null,
            "height": null,
            "min_height": null,
            "padding": null,
            "grid_auto_rows": null,
            "grid_gap": null,
            "max_width": null,
            "order": null,
            "_view_module_version": "1.2.0",
            "grid_template_areas": null,
            "object_position": null,
            "object_fit": null,
            "grid_auto_columns": null,
            "margin": null,
            "display": null,
            "left": null
          }
        },
        "71fe80da9dcd45e58fb07a36c4504724": {
          "model_module": "@jupyter-widgets/controls",
          "model_name": "FloatProgressModel",
          "state": {
            "_view_name": "ProgressView",
            "style": "IPY_MODEL_21b5b7d6f9794eb69097ab27211f7f4e",
            "_dom_classes": [],
            "description": "",
            "_model_name": "FloatProgressModel",
            "bar_style": "info",
            "max": 1,
            "_view_module": "@jupyter-widgets/controls",
            "_model_module_version": "1.5.0",
            "value": 1,
            "_view_count": null,
            "_view_module_version": "1.5.0",
            "orientation": "horizontal",
            "min": 0,
            "description_tooltip": null,
            "_model_module": "@jupyter-widgets/controls",
            "layout": "IPY_MODEL_30fd16c14dbb46578907545c4e293f4f"
          }
        },
        "e58f6c219e9d47e58532d9149b8cceec": {
          "model_module": "@jupyter-widgets/controls",
          "model_name": "HTMLModel",
          "state": {
            "_view_name": "HTMLView",
            "style": "IPY_MODEL_f1bb2b83e2e74d5282dd7a29abad4731",
            "_dom_classes": [],
            "description": "",
            "_model_name": "HTMLModel",
            "placeholder": "​",
            "_view_module": "@jupyter-widgets/controls",
            "_model_module_version": "1.5.0",
            "value": " 50000/0 [00:19&lt;00:00, 3429.10 examples/s]",
            "_view_count": null,
            "_view_module_version": "1.5.0",
            "description_tooltip": null,
            "_model_module": "@jupyter-widgets/controls",
            "layout": "IPY_MODEL_351ff032e727493bb09c7af1adc1f7cd"
          }
        },
        "21b5b7d6f9794eb69097ab27211f7f4e": {
          "model_module": "@jupyter-widgets/controls",
          "model_name": "ProgressStyleModel",
          "state": {
            "_view_name": "StyleView",
            "_model_name": "ProgressStyleModel",
            "description_width": "initial",
            "_view_module": "@jupyter-widgets/base",
            "_model_module_version": "1.5.0",
            "_view_count": null,
            "_view_module_version": "1.2.0",
            "bar_color": null,
            "_model_module": "@jupyter-widgets/controls"
          }
        },
        "30fd16c14dbb46578907545c4e293f4f": {
          "model_module": "@jupyter-widgets/base",
          "model_name": "LayoutModel",
          "state": {
            "_view_name": "LayoutView",
            "grid_template_rows": null,
            "right": null,
            "justify_content": null,
            "_view_module": "@jupyter-widgets/base",
            "overflow": null,
            "_model_module_version": "1.2.0",
            "_view_count": null,
            "flex_flow": null,
            "width": null,
            "min_width": null,
            "border": null,
            "align_items": null,
            "bottom": null,
            "_model_module": "@jupyter-widgets/base",
            "top": null,
            "grid_column": null,
            "overflow_y": null,
            "overflow_x": null,
            "grid_auto_flow": null,
            "grid_area": null,
            "grid_template_columns": null,
            "flex": null,
            "_model_name": "LayoutModel",
            "justify_items": null,
            "grid_row": null,
            "max_height": null,
            "align_content": null,
            "visibility": null,
            "align_self": null,
            "height": null,
            "min_height": null,
            "padding": null,
            "grid_auto_rows": null,
            "grid_gap": null,
            "max_width": null,
            "order": null,
            "_view_module_version": "1.2.0",
            "grid_template_areas": null,
            "object_position": null,
            "object_fit": null,
            "grid_auto_columns": null,
            "margin": null,
            "display": null,
            "left": null
          }
        },
        "f1bb2b83e2e74d5282dd7a29abad4731": {
          "model_module": "@jupyter-widgets/controls",
          "model_name": "DescriptionStyleModel",
          "state": {
            "_view_name": "StyleView",
            "_model_name": "DescriptionStyleModel",
            "description_width": "",
            "_view_module": "@jupyter-widgets/base",
            "_model_module_version": "1.5.0",
            "_view_count": null,
            "_view_module_version": "1.2.0",
            "_model_module": "@jupyter-widgets/controls"
          }
        },
        "351ff032e727493bb09c7af1adc1f7cd": {
          "model_module": "@jupyter-widgets/base",
          "model_name": "LayoutModel",
          "state": {
            "_view_name": "LayoutView",
            "grid_template_rows": null,
            "right": null,
            "justify_content": null,
            "_view_module": "@jupyter-widgets/base",
            "overflow": null,
            "_model_module_version": "1.2.0",
            "_view_count": null,
            "flex_flow": null,
            "width": null,
            "min_width": null,
            "border": null,
            "align_items": null,
            "bottom": null,
            "_model_module": "@jupyter-widgets/base",
            "top": null,
            "grid_column": null,
            "overflow_y": null,
            "overflow_x": null,
            "grid_auto_flow": null,
            "grid_area": null,
            "grid_template_columns": null,
            "flex": null,
            "_model_name": "LayoutModel",
            "justify_items": null,
            "grid_row": null,
            "max_height": null,
            "align_content": null,
            "visibility": null,
            "align_self": null,
            "height": null,
            "min_height": null,
            "padding": null,
            "grid_auto_rows": null,
            "grid_gap": null,
            "max_width": null,
            "order": null,
            "_view_module_version": "1.2.0",
            "grid_template_areas": null,
            "object_position": null,
            "object_fit": null,
            "grid_auto_columns": null,
            "margin": null,
            "display": null,
            "left": null
          }
        },
        "b03d66ce18c44de19abfdd890d3fe728": {
          "model_module": "@jupyter-widgets/controls",
          "model_name": "HBoxModel",
          "state": {
            "_view_name": "HBoxView",
            "_dom_classes": [],
            "_model_name": "HBoxModel",
            "_view_module": "@jupyter-widgets/controls",
            "_model_module_version": "1.5.0",
            "_view_count": null,
            "_view_module_version": "1.5.0",
            "box_style": "",
            "layout": "IPY_MODEL_b645e456fc48434791030a5e4887e685",
            "_model_module": "@jupyter-widgets/controls",
            "children": [
              "IPY_MODEL_7c5bf390e22e4caab42345a4abc1c274",
              "IPY_MODEL_3f0b353eb0b84dc8a6f161c20f5b3d56"
            ]
          }
        },
        "b645e456fc48434791030a5e4887e685": {
          "model_module": "@jupyter-widgets/base",
          "model_name": "LayoutModel",
          "state": {
            "_view_name": "LayoutView",
            "grid_template_rows": null,
            "right": null,
            "justify_content": null,
            "_view_module": "@jupyter-widgets/base",
            "overflow": null,
            "_model_module_version": "1.2.0",
            "_view_count": null,
            "flex_flow": null,
            "width": null,
            "min_width": null,
            "border": null,
            "align_items": null,
            "bottom": null,
            "_model_module": "@jupyter-widgets/base",
            "top": null,
            "grid_column": null,
            "overflow_y": null,
            "overflow_x": null,
            "grid_auto_flow": null,
            "grid_area": null,
            "grid_template_columns": null,
            "flex": null,
            "_model_name": "LayoutModel",
            "justify_items": null,
            "grid_row": null,
            "max_height": null,
            "align_content": null,
            "visibility": null,
            "align_self": null,
            "height": null,
            "min_height": null,
            "padding": null,
            "grid_auto_rows": null,
            "grid_gap": null,
            "max_width": null,
            "order": null,
            "_view_module_version": "1.2.0",
            "grid_template_areas": null,
            "object_position": null,
            "object_fit": null,
            "grid_auto_columns": null,
            "margin": null,
            "display": null,
            "left": null
          }
        },
        "7c5bf390e22e4caab42345a4abc1c274": {
          "model_module": "@jupyter-widgets/controls",
          "model_name": "FloatProgressModel",
          "state": {
            "_view_name": "ProgressView",
            "style": "IPY_MODEL_5d78a65f4b8942d9b2dc5f142dbe04fa",
            "_dom_classes": [],
            "description": " 98%",
            "_model_name": "FloatProgressModel",
            "bar_style": "danger",
            "max": 50000,
            "_view_module": "@jupyter-widgets/controls",
            "_model_module_version": "1.5.0",
            "value": 49121,
            "_view_count": null,
            "_view_module_version": "1.5.0",
            "orientation": "horizontal",
            "min": 0,
            "description_tooltip": null,
            "_model_module": "@jupyter-widgets/controls",
            "layout": "IPY_MODEL_3fe3e9aa04e74c1f92c21dccf12d68dc"
          }
        },
        "3f0b353eb0b84dc8a6f161c20f5b3d56": {
          "model_module": "@jupyter-widgets/controls",
          "model_name": "HTMLModel",
          "state": {
            "_view_name": "HTMLView",
            "style": "IPY_MODEL_2e45f6f3d13f4ba49239856ca749a08d",
            "_dom_classes": [],
            "description": "",
            "_model_name": "HTMLModel",
            "placeholder": "​",
            "_view_module": "@jupyter-widgets/controls",
            "_model_module_version": "1.5.0",
            "value": " 49121/50000 [00:00&lt;00:00, 42700.03 examples/s]",
            "_view_count": null,
            "_view_module_version": "1.5.0",
            "description_tooltip": null,
            "_model_module": "@jupyter-widgets/controls",
            "layout": "IPY_MODEL_bae52de318d7462bba38ccffb3190f8f"
          }
        },
        "5d78a65f4b8942d9b2dc5f142dbe04fa": {
          "model_module": "@jupyter-widgets/controls",
          "model_name": "ProgressStyleModel",
          "state": {
            "_view_name": "StyleView",
            "_model_name": "ProgressStyleModel",
            "description_width": "initial",
            "_view_module": "@jupyter-widgets/base",
            "_model_module_version": "1.5.0",
            "_view_count": null,
            "_view_module_version": "1.2.0",
            "bar_color": null,
            "_model_module": "@jupyter-widgets/controls"
          }
        },
        "3fe3e9aa04e74c1f92c21dccf12d68dc": {
          "model_module": "@jupyter-widgets/base",
          "model_name": "LayoutModel",
          "state": {
            "_view_name": "LayoutView",
            "grid_template_rows": null,
            "right": null,
            "justify_content": null,
            "_view_module": "@jupyter-widgets/base",
            "overflow": null,
            "_model_module_version": "1.2.0",
            "_view_count": null,
            "flex_flow": null,
            "width": null,
            "min_width": null,
            "border": null,
            "align_items": null,
            "bottom": null,
            "_model_module": "@jupyter-widgets/base",
            "top": null,
            "grid_column": null,
            "overflow_y": null,
            "overflow_x": null,
            "grid_auto_flow": null,
            "grid_area": null,
            "grid_template_columns": null,
            "flex": null,
            "_model_name": "LayoutModel",
            "justify_items": null,
            "grid_row": null,
            "max_height": null,
            "align_content": null,
            "visibility": null,
            "align_self": null,
            "height": null,
            "min_height": null,
            "padding": null,
            "grid_auto_rows": null,
            "grid_gap": null,
            "max_width": null,
            "order": null,
            "_view_module_version": "1.2.0",
            "grid_template_areas": null,
            "object_position": null,
            "object_fit": null,
            "grid_auto_columns": null,
            "margin": null,
            "display": null,
            "left": null
          }
        },
        "2e45f6f3d13f4ba49239856ca749a08d": {
          "model_module": "@jupyter-widgets/controls",
          "model_name": "DescriptionStyleModel",
          "state": {
            "_view_name": "StyleView",
            "_model_name": "DescriptionStyleModel",
            "description_width": "",
            "_view_module": "@jupyter-widgets/base",
            "_model_module_version": "1.5.0",
            "_view_count": null,
            "_view_module_version": "1.2.0",
            "_model_module": "@jupyter-widgets/controls"
          }
        },
        "bae52de318d7462bba38ccffb3190f8f": {
          "model_module": "@jupyter-widgets/base",
          "model_name": "LayoutModel",
          "state": {
            "_view_name": "LayoutView",
            "grid_template_rows": null,
            "right": null,
            "justify_content": null,
            "_view_module": "@jupyter-widgets/base",
            "overflow": null,
            "_model_module_version": "1.2.0",
            "_view_count": null,
            "flex_flow": null,
            "width": null,
            "min_width": null,
            "border": null,
            "align_items": null,
            "bottom": null,
            "_model_module": "@jupyter-widgets/base",
            "top": null,
            "grid_column": null,
            "overflow_y": null,
            "overflow_x": null,
            "grid_auto_flow": null,
            "grid_area": null,
            "grid_template_columns": null,
            "flex": null,
            "_model_name": "LayoutModel",
            "justify_items": null,
            "grid_row": null,
            "max_height": null,
            "align_content": null,
            "visibility": null,
            "align_self": null,
            "height": null,
            "min_height": null,
            "padding": null,
            "grid_auto_rows": null,
            "grid_gap": null,
            "max_width": null,
            "order": null,
            "_view_module_version": "1.2.0",
            "grid_template_areas": null,
            "object_position": null,
            "object_fit": null,
            "grid_auto_columns": null,
            "margin": null,
            "display": null,
            "left": null
          }
        }
      }
    }
  },
  "cells": [
    {
      "cell_type": "code",
      "metadata": {
        "id": "JuhOsEgDsXVj"
      },
      "source": [
        "import tensorflow as tf\n",
        "from sklearn.model_selection import train_test_split\n",
        "\n",
        "import time\n",
        "import numpy as np\n",
        "import unicodedata\n",
        "import re"
      ],
      "execution_count": null,
      "outputs": []
    },
    {
      "cell_type": "markdown",
      "metadata": {
        "id": "_NF2ZnHnt_FT"
      },
      "source": [
        "We will use the same data as Lab 5"
      ]
    },
    {
      "cell_type": "markdown",
      "metadata": {
        "id": "q9i4cNMS8A_4"
      },
      "source": [
        "# Preprocessing"
      ]
    },
    {
      "cell_type": "markdown",
      "metadata": {
        "id": "cWlvZiszNfBd"
      },
      "source": [
        "The complete preprocessing is identic to Lab 5!"
      ]
    },
    {
      "cell_type": "code",
      "metadata": {
        "id": "msEZsnc_8FRN",
        "colab": {
          "base_uri": "https://localhost:8080/"
        },
        "outputId": "bcccc105-4eac-476e-ae77-267fd727a4fb"
      },
      "source": [
        "!wget --quiet http://www.manythings.org/anki/deu-eng.zip\n",
        "!unzip deu-eng.zip\n",
        "\n",
        "lines = open('deu.txt', encoding='UTF-8').read().strip().split('\\n')"
      ],
      "execution_count": null,
      "outputs": [
        {
          "output_type": "stream",
          "text": [
            "Archive:  deu-eng.zip\n",
            "  inflating: deu.txt                 \n",
            "  inflating: _about.txt              \n"
          ],
          "name": "stdout"
        }
      ]
    },
    {
      "cell_type": "code",
      "metadata": {
        "id": "nSkR4c-o-S4T"
      },
      "source": [
        "def preprocess_sentence(w):\n",
        "  w = w.lower().strip()\n",
        "  # This next line is confusing!\n",
        "  # We normalize unicode data, umlauts will be converted to normal letters\n",
        "  w = w.replace(\"ß\", \"ss\")\n",
        "  w = ''.join(c for c in unicodedata.normalize('NFD', w) if unicodedata.category(c) != 'Mn')\n",
        "\n",
        "  # creating a space between a word and the punctuation following it\n",
        "  # eg: \"he is a boy.\" => \"he is a boy .\"\n",
        "  # Reference:- https://stackoverflow.com/questions/3645931/python-padding-punctuation-with-white-spaces-keeping-punctuation\n",
        "  w = re.sub(r\"([?.!,¿])\", r\" \\1 \", w)\n",
        "  w = re.sub(r'[\" \"]+', \" \", w)\n",
        "\n",
        "  # replacing everything with space except (a-z, A-Z, \".\", \"?\", \"!\", \",\")\n",
        "  w = re.sub(r\"[^a-zA-Z?.!]+\", \" \", w)\n",
        "  w = w.strip()\n",
        "\n",
        "  # adding a start and an end token to the sentence\n",
        "  # so that the model know when to start and stop predicting.\n",
        "  w = '<start> ' + w + ' <end>'\n",
        "  return w"
      ],
      "execution_count": null,
      "outputs": []
    },
    {
      "cell_type": "code",
      "metadata": {
        "id": "EJyRMiW4-WMz"
      },
      "source": [
        "english = []\n",
        "german = []\n",
        "for line in lines:\n",
        "  en = line.split('\\t')[0]\n",
        "  de = line.split('\\t')[1]\n",
        "  english.append(preprocess_sentence(en))\n",
        "  german.append(preprocess_sentence(de))"
      ],
      "execution_count": null,
      "outputs": []
    },
    {
      "cell_type": "code",
      "metadata": {
        "id": "isNplZ5i-ZZ0"
      },
      "source": [
        "NUM_EXAMPLES = 30000\n",
        "english = english[:NUM_EXAMPLES]\n",
        "german = german[:NUM_EXAMPLES]"
      ],
      "execution_count": null,
      "outputs": []
    },
    {
      "cell_type": "code",
      "metadata": {
        "id": "R3DnW4dZ-ssn"
      },
      "source": [
        "en_tokenizer = tf.keras.preprocessing.text.Tokenizer(filters='')\n",
        "en_tokenizer.fit_on_texts(english)\n",
        "\n",
        "data_en = en_tokenizer.texts_to_sequences(english)\n",
        "data_en = tf.keras.preprocessing.sequence.pad_sequences(data_en, padding='post')\n",
        "\n",
        "ge_tokenizer = tf.keras.preprocessing.text.Tokenizer(filters='')\n",
        "ge_tokenizer.fit_on_texts(german)\n",
        "\n",
        "data_ge = ge_tokenizer.texts_to_sequences(german)\n",
        "data_ge = tf.keras.preprocessing.sequence.pad_sequences(data_ge,padding='post')"
      ],
      "execution_count": null,
      "outputs": []
    },
    {
      "cell_type": "code",
      "metadata": {
        "id": "OUVz4lkn-usv"
      },
      "source": [
        "X_train,  X_test, Y_train, Y_test = train_test_split(data_en, data_ge, test_size=0.2)\n",
        "\n",
        "BATCH_SIZE = 64\n",
        "BUFFER_SIZE = len(X_train)\n",
        "steps_per_epoch = BUFFER_SIZE // BATCH_SIZE"
      ],
      "execution_count": null,
      "outputs": []
    },
    {
      "cell_type": "code",
      "metadata": {
        "id": "OxxmROGYDgjO"
      },
      "source": [
        "def max_len(sentence):\n",
        "    return max(len(s) for s in sentence)\n",
        "\n",
        "max_length_input = max_len(data_en)\n",
        "max_length_output = max_len(data_ge)  \n",
        "input_vocab_size = len(en_tokenizer.word_index) + 1  \n",
        "target_vocab_size = len(ge_tokenizer.word_index) + 1"
      ],
      "execution_count": null,
      "outputs": []
    },
    {
      "cell_type": "code",
      "metadata": {
        "id": "qCqj8_9sD3tN"
      },
      "source": [
        "dataset = tf.data.Dataset.from_tensor_slices((X_train, Y_train)).shuffle(BUFFER_SIZE).batch(BATCH_SIZE, \n",
        "                                                                                            drop_remainder=True) "
      ],
      "execution_count": null,
      "outputs": []
    },
    {
      "cell_type": "markdown",
      "metadata": {
        "id": "dbOEYUWUbRyn"
      },
      "source": [
        "Now starts the fun!"
      ]
    },
    {
      "cell_type": "markdown",
      "metadata": {
        "id": "SPBqgtz5wxAt"
      },
      "source": [
        "# Pointwise FFN"
      ]
    },
    {
      "cell_type": "code",
      "metadata": {
        "id": "NGlRUzOcwy7A"
      },
      "source": [
        "def pointwise_ffn(embedding_dims, expanded_dims):\n",
        "  return tf.keras.Sequential([\n",
        "      tf.keras.layers.Dense(expanded_dims, activation='relu'),  \n",
        "      tf.keras.layers.Dense(embedding_dims)  \n",
        "  ])"
      ],
      "execution_count": null,
      "outputs": []
    },
    {
      "cell_type": "markdown",
      "metadata": {
        "id": "30ekIm3m9SDq"
      },
      "source": [
        "# Masking"
      ]
    },
    {
      "cell_type": "markdown",
      "metadata": {
        "id": "LX3zXz4BIUNz"
      },
      "source": [
        "We want to have a binary mask with ones meaning that the element should not be taken into consideration. We neeed a mask for padding and another one for the masked multi-head attention layer "
      ]
    },
    {
      "cell_type": "code",
      "metadata": {
        "id": "IyzKxjmfCJ6V"
      },
      "source": [
        "def create_padding_mask(seq):\n",
        "  seq = tf.cast(tf.math.equal(seq, 0), tf.float32)\n",
        "  \n",
        "  # add extra dimensions to add the padding\n",
        "  # to the attention logits. Tensor sizes are always a pain...\n",
        "  return seq[:, tf.newaxis, tf.newaxis, :]  # (batch_size, 1, 1, seq_len)\n"
      ],
      "execution_count": null,
      "outputs": []
    },
    {
      "cell_type": "code",
      "metadata": {
        "id": "S6tfwWmGCRV5",
        "colab": {
          "base_uri": "https://localhost:8080/"
        },
        "outputId": "a304256b-19a2-41a0-aeec-da9e224f861c"
      },
      "source": [
        "x = tf.constant([[7, 6, 0, 0, 1], [1, 2, 3, 0, 0], [0, 0, 0, 4, 5]])\n",
        "create_padding_mask(x)"
      ],
      "execution_count": null,
      "outputs": [
        {
          "output_type": "execute_result",
          "data": {
            "text/plain": [
              "<tf.Tensor: shape=(3, 1, 1, 5), dtype=float32, numpy=\n",
              "array([[[[0., 0., 1., 1., 0.]]],\n",
              "\n",
              "\n",
              "       [[[0., 0., 0., 1., 1.]]],\n",
              "\n",
              "\n",
              "       [[[1., 1., 1., 0., 0.]]]], dtype=float32)>"
            ]
          },
          "metadata": {
            "tags": []
          },
          "execution_count": 17
        }
      ]
    },
    {
      "cell_type": "markdown",
      "metadata": {
        "id": "Qc8v4ye7JV0Y"
      },
      "source": [
        "[tf.linalg.band](https://www.tensorflow.org/api_docs/python/tf/linalg/band_part): With parameters -1 and 0 it creates an triangular matrix with ones in the diagonal and below"
      ]
    },
    {
      "cell_type": "code",
      "metadata": {
        "id": "iu_p0PStGI49"
      },
      "source": [
        "def create_look_ahead_mask(size):\n",
        "  mask = 1 - tf.linalg.band_part(tf.ones((size, size)), -1, 0)\n",
        "  return mask  "
      ],
      "execution_count": null,
      "outputs": []
    },
    {
      "cell_type": "code",
      "metadata": {
        "id": "QOt06gbfHrNm",
        "colab": {
          "base_uri": "https://localhost:8080/"
        },
        "outputId": "e0f73414-d75d-4e55-e2f8-5d3fd4513b0b"
      },
      "source": [
        "x = tf.random.uniform((1, 3))\n",
        "temp = create_look_ahead_mask(x.shape[1])\n",
        "print(x)\n",
        "print(temp)"
      ],
      "execution_count": null,
      "outputs": [
        {
          "output_type": "stream",
          "text": [
            "tf.Tensor([[0.48979354 0.64737976 0.04136157]], shape=(1, 3), dtype=float32)\n",
            "tf.Tensor(\n",
            "[[0. 1. 1.]\n",
            " [0. 0. 1.]\n",
            " [0. 0. 0.]], shape=(3, 3), dtype=float32)\n"
          ],
          "name": "stdout"
        }
      ]
    },
    {
      "cell_type": "code",
      "metadata": {
        "id": "SUFjCpjIjBsF"
      },
      "source": [
        "def create_masks(input, target):\n",
        "  # Encoder padding mask\n",
        "  encoder_padding_mask = create_padding_mask(input)\n",
        "  \n",
        "  # Used in the 2nd attention block in the decoder.\n",
        "  # This padding mask is used to mask the encoder outputs.\n",
        "  decoder_padding_mask = create_padding_mask(input)\n",
        "  \n",
        "  # Used in the 1st attention block in the decoder.\n",
        "  # It is used to pad and mask future tokens in the input received by \n",
        "  # the decoder.\n",
        "  look_ahead_mask = create_look_ahead_mask(tf.shape(target)[1])\n",
        "  decoder_target_padding_mask = create_padding_mask(target)\n",
        "  combined_mask = tf.maximum(decoder_target_padding_mask, look_ahead_mask)\n",
        "  \n",
        "  return encoder_padding_mask, decoder_padding_mask, combined_mask"
      ],
      "execution_count": null,
      "outputs": []
    },
    {
      "cell_type": "markdown",
      "metadata": {
        "id": "2Cqhx6uDzW0b"
      },
      "source": [
        "# Self-Attention"
      ]
    },
    {
      "cell_type": "markdown",
      "metadata": {
        "id": "EBwpSDQozeGG"
      },
      "source": [
        "$$\\Large{Attention(Q, K, V) = softmax_k(\\frac{QK^T}{\\sqrt{d_k}}) V} $$"
      ]
    },
    {
      "cell_type": "code",
      "metadata": {
        "id": "iW5LK9cmzZdv"
      },
      "source": [
        "def calculate_self_attention(q, k, v, mask):\n",
        "  matmul_qk = tf.matmul(q, k, transpose_b=True)  \n",
        "  dk = tf.cast(tf.shape(k)[-1], tf.float32)\n",
        "  scaled_scores = matmul_qk / tf.math.sqrt(dk)\n",
        "\n",
        "  # add the mask to the scaled tensor.\n",
        "  if mask is not None:\n",
        "    scaled_scores += (mask * -1e9)  \n",
        "\n",
        "  # softmax is normalized on the last axis (len_k) so that the scores\n",
        "  # add up to 1.\n",
        "  attention_weights = tf.nn.softmax(scaled_scores, axis=-1)  \n",
        "\n",
        "  output = tf.matmul(attention_weights, v)  \n",
        "\n",
        "  return output"
      ],
      "execution_count": null,
      "outputs": []
    },
    {
      "cell_type": "markdown",
      "metadata": {
        "id": "C31n4xTVdZyC"
      },
      "source": [
        "# Multi-head Attention\n",
        "\n",
        "1. Dense layers and split into heads.\n",
        "2. Self Attention \n",
        "3. Concatenation of heads.\n",
        "4. Final linear layer."
      ]
    },
    {
      "cell_type": "code",
      "metadata": {
        "id": "4OHqsxhvzkVz"
      },
      "source": [
        "num_heads = 8\n",
        "embedding_dims = 128"
      ],
      "execution_count": null,
      "outputs": []
    },
    {
      "cell_type": "code",
      "metadata": {
        "id": "kQ0aAI-siebd",
        "colab": {
          "base_uri": "https://localhost:8080/"
        },
        "outputId": "838643de-da56-42a0-a49a-0c9d9fd7e18c"
      },
      "source": [
        "q = tf.random.uniform((BATCH_SIZE, 60, embedding_dims))\n",
        "print(q.shape)\n",
        "q_head = tf.reshape(q, (BATCH_SIZE, -1, num_heads, embedding_dims // num_heads))\n",
        "print(q_head.shape)\n",
        "q_projected = tf.transpose(q_head, perm=[0, 2, 1, 3])\n",
        "print(q_projected.shape)"
      ],
      "execution_count": null,
      "outputs": [
        {
          "output_type": "stream",
          "text": [
            "(64, 60, 128)\n",
            "(64, 60, 8, 16)\n",
            "(64, 8, 60, 16)\n"
          ],
          "name": "stdout"
        }
      ]
    },
    {
      "cell_type": "markdown",
      "metadata": {
        "id": "OCFSS8KBvtyM"
      },
      "source": [
        "A -1 passed in the 'shape' argument from tf.reshape says \"Whatever fits\".\n",
        "\n",
        "Read about transposing tensors with permutations [here](https://www.tensorflow.org/api_docs/python/tf/transpose). Transpose in higher dimension than 2 is confusing! Use a piece of paper and draw the matrices to make it more understandable."
      ]
    },
    {
      "cell_type": "code",
      "metadata": {
        "id": "OdWI4XVtc8rI"
      },
      "source": [
        "class MultiHeadAttention(tf.keras.layers.Layer):\n",
        "  def __init__(self, embedding_dims, num_heads):\n",
        "    super().__init__()\n",
        "    self.num_heads = num_heads\n",
        "    self.embedding_dims = embedding_dims\n",
        "    self.depth = embedding_dims // num_heads\n",
        "    \n",
        "    self.wq = tf.keras.layers.Dense(embedding_dims)\n",
        "    self.wk = tf.keras.layers.Dense(embedding_dims)\n",
        "    self.wv = tf.keras.layers.Dense(embedding_dims)\n",
        "    \n",
        "    self.dense = tf.keras.layers.Dense(embedding_dims)\n",
        "        \n",
        "  def split_heads(self, x, batch_size):\n",
        "    \"\"\"Split the last dimension into (num_heads, depth).\n",
        "    Transpose the result such that the shape is (batch_size, num_heads, seq_len, depth)\n",
        "    \"\"\"\n",
        "    x = tf.reshape(x, (batch_size, -1, self.num_heads, self.depth))\n",
        "    return tf.transpose(x, perm=[0, 2, 1, 3])\n",
        "    \n",
        "  def call(self, v, k, q, mask):\n",
        "    batch_size = tf.shape(q)[0]\n",
        "    \n",
        "    q = self.wq(q)  # (batch_size, seq_len, embedding_dims)\n",
        "    k = self.wk(k)  \n",
        "    v = self.wv(v)  \n",
        "    \n",
        "    q = self.split_heads(q, batch_size)  # (batch_size, num_heads, seq_len, depth)\n",
        "    k = self.split_heads(k, batch_size)  \n",
        "    v = self.split_heads(v, batch_size)  \n",
        "    \n",
        "    # self_attention.shape == (batch_size, num_heads, seq_len_q, depth)\n",
        "    # attention_weights.shape == (batch_size, num_heads, seq_len_q, seq_len_k)\n",
        "    self_attention = calculate_self_attention(q, k, v, mask)\n",
        "    \n",
        "    self_attention = tf.transpose(self_attention, perm=[0, 2, 1, 3])  # (batch_size, seq_len, num_heads, depth)\n",
        "\n",
        "    concat_attention = tf.reshape(self_attention, \n",
        "                                  (batch_size, -1, self.embedding_dims))  # (batch_size, seq_len, embedding_dims)\n",
        "\n",
        "    output = self.dense(concat_attention)\n",
        "        \n",
        "    return output"
      ],
      "execution_count": null,
      "outputs": []
    },
    {
      "cell_type": "markdown",
      "metadata": {
        "id": "g9lUODQEHdTn"
      },
      "source": [
        "# Encoder Layer"
      ]
    },
    {
      "cell_type": "markdown",
      "metadata": {
        "id": "ETDxwL9hLDi3"
      },
      "source": [
        "Input and output of the encoder Layer has the same dimensions"
      ]
    },
    {
      "cell_type": "code",
      "metadata": {
        "id": "eRlGajWGhR5_"
      },
      "source": [
        "class EncoderLayer(tf.keras.layers.Layer):\n",
        "  def __init__(self, embedding_dims, num_heads, expanding_dims, rate=0.1):\n",
        "    super().__init__()\n",
        "\n",
        "    self.mha = MultiHeadAttention(embedding_dims, num_heads)\n",
        "    self.dropout1 = tf.keras.layers.Dropout(rate)\n",
        "    self.layernorm1 = tf.keras.layers.LayerNormalization(epsilon=1e-6)\n",
        "\n",
        "    self.ffn = pointwise_ffn(embedding_dims, expanding_dims)\n",
        "    self.dropout2 = tf.keras.layers.Dropout(rate)\n",
        "    self.layernorm2 = tf.keras.layers.LayerNormalization(epsilon=1e-6)\n",
        "\n",
        "  def call(self, x, training, padding_mask):\n",
        "\n",
        "    attn_output = self.mha(x, x, x, padding_mask)  \n",
        "    attn_output = self.dropout1(attn_output, training=training)\n",
        "    out1 = self.layernorm1(x + attn_output)  \n",
        "    \n",
        "    ffn_output = self.ffn(out1) \n",
        "    ffn_output = self.dropout2(ffn_output, training=training)\n",
        "    out2 = self.layernorm2(out1 + ffn_output)   # (batch_size, input_seq_len, embedding_dims)\n",
        "    \n",
        "    return out2"
      ],
      "execution_count": null,
      "outputs": []
    },
    {
      "cell_type": "markdown",
      "metadata": {
        "id": "_TeG8tE1Mulp"
      },
      "source": [
        "# Decoder Layer"
      ]
    },
    {
      "cell_type": "markdown",
      "metadata": {
        "id": "t1AbjejdXaup"
      },
      "source": [
        "Almost the same as Encoder Layeer, with an extra MultiHead Attention Layer, taking the encoder output into consideration, and having the look_ahead_mask)"
      ]
    },
    {
      "cell_type": "code",
      "metadata": {
        "id": "n1Lmg4BTMv9h"
      },
      "source": [
        "class DecoderLayer(tf.keras.layers.Layer):\n",
        "  def __init__(self, embedding_dims, num_heads, expanded_dims, rate=0.1):\n",
        "    super().__init__()\n",
        "\n",
        "    self.mha1 = MultiHeadAttention(embedding_dims, num_heads)\n",
        "    self.dropout1 = tf.keras.layers.Dropout(rate)\n",
        "    self.layernorm1 = tf.keras.layers.LayerNormalization(epsilon=1e-6)\n",
        "    \n",
        "    self.mha2 = MultiHeadAttention(embedding_dims, num_heads)\n",
        "    self.dropout2 = tf.keras.layers.Dropout(rate)\n",
        "    self.layernorm2 = tf.keras.layers.LayerNormalization(epsilon=1e-6)\n",
        "\n",
        "    self.ffn = pointwise_ffn(embedding_dims, expanded_dims)\n",
        "    self.dropout3 = tf.keras.layers.Dropout(rate)\n",
        "    self.layernorm3 = tf.keras.layers.LayerNormalization(epsilon=1e-6) \n",
        "    \n",
        "  def call(self, x, encoder_output, training, padding_mask, look_ahead_mask):\n",
        "\n",
        "    attn1 = self.mha1(x, x, x, look_ahead_mask)\n",
        "    attn1 = self.dropout1(attn1, training=training)\n",
        "    out1 = self.layernorm1(attn1 + x)\n",
        "    \n",
        "    attn2 = self.mha2( encoder_output, encoder_output, out1, padding_mask)  \n",
        "    attn2 = self.dropout2(attn2, training=training)\n",
        "    out2 = self.layernorm2(attn2 + out1)  \n",
        "    \n",
        "    ffn_output = self.ffn(out2)  \n",
        "    ffn_output = self.dropout3(ffn_output, training=training)\n",
        "    out3 = self.layernorm3(ffn_output + out2)  # (batch_size, target_seq_len, embedding_dims)\n",
        "    \n",
        "    return out3"
      ],
      "execution_count": null,
      "outputs": []
    },
    {
      "cell_type": "markdown",
      "metadata": {
        "id": "6Sng7UTEvmmc"
      },
      "source": [
        "# Positional Encoding"
      ]
    },
    {
      "cell_type": "markdown",
      "metadata": {
        "id": "ng1dabOFvpVf"
      },
      "source": [
        "$$\\Large{PE_{(pos, 2i)} = sin(pos / 10000^{2i / d_{model}})} $$\n",
        "$$\\Large{PE_{(pos, 2i+1)} = cos(pos / 10000^{2i / d_{model}})} $$"
      ]
    },
    {
      "cell_type": "code",
      "metadata": {
        "id": "RhoVk3WzvtKQ"
      },
      "source": [
        "def get_angles(pos, i, d_model):\n",
        "  angle_rates = 1 / np.power(10000, (2 * (i//2)) / np.float32(d_model))\n",
        "  return pos * angle_rates"
      ],
      "execution_count": null,
      "outputs": []
    },
    {
      "cell_type": "code",
      "metadata": {
        "id": "10b5Mu8_wKdh"
      },
      "source": [
        "def positional_encoding(position, dimensions):\n",
        "  angle_rads = get_angles(np.arange(position)[:, np.newaxis],\n",
        "                          np.arange(dimensions)[np.newaxis, :],\n",
        "                          dimensions)\n",
        "  \n",
        "  # apply sin to even indices in the array; 2i\n",
        "  angle_rads[:, 0::2] = np.sin(angle_rads[:, 0::2])\n",
        "  \n",
        "  # apply cos to odd indices in the array; 2i+1\n",
        "  angle_rads[:, 1::2] = np.cos(angle_rads[:, 1::2])\n",
        "    \n",
        "  pos_encoding = angle_rads[np.newaxis, ...]\n",
        "    \n",
        "  return tf.cast(pos_encoding, dtype=tf.float32)"
      ],
      "execution_count": null,
      "outputs": []
    },
    {
      "cell_type": "code",
      "metadata": {
        "id": "cXEzxehSwK28",
        "colab": {
          "base_uri": "https://localhost:8080/",
          "height": 301
        },
        "outputId": "3e9f101b-57d7-4a1d-ada5-1e68c966bb2e"
      },
      "source": [
        "pos_encoding = positional_encoding(50, 512)\n",
        "print (pos_encoding.shape)\n",
        "\n",
        "plt.pcolormesh(pos_encoding[0], cmap='RdBu')\n",
        "plt.xlabel('Depth')\n",
        "plt.xlim((0, 512))\n",
        "plt.ylabel('Position')\n",
        "plt.colorbar()\n",
        "plt.show()"
      ],
      "execution_count": null,
      "outputs": [
        {
          "output_type": "stream",
          "text": [
            "(1, 50, 512)\n"
          ],
          "name": "stdout"
        },
        {
          "output_type": "display_data",
          "data": {
            "image/png": "[encoded data removed]",
            "text/plain": [
              "<Figure size 432x288 with 2 Axes>"
            ]
          },
          "metadata": {
            "tags": [],
            "needs_background": "light"
          }
        }
      ]
    },
    {
      "cell_type": "markdown",
      "metadata": {
        "id": "G8ol79vyK4jH"
      },
      "source": [
        "# Encoder (Input Embeddings + Encoder Layers)"
      ]
    },
    {
      "cell_type": "markdown",
      "metadata": {
        "id": "y7BsHoeCQNAg"
      },
      "source": [
        "The Encoder consists of:\n",
        "\n",
        "1. Input Embedding\n",
        "2. Positional Encoding\n",
        "3. Encoder layers\n",
        "\n"
      ]
    },
    {
      "cell_type": "code",
      "metadata": {
        "id": "WFdQFxjpQHTh"
      },
      "source": [
        "class Encoder(tf.keras.layers.Layer):\n",
        "  def __init__(self, num_layers, embedding_dims, num_heads, expanded_dims, input_vocab_size,\n",
        "               maximum_position_encoding, rate=0.1):\n",
        "    super().__init__()\n",
        "\n",
        "    self.embedding_dims = embedding_dims\n",
        "    self.num_layers = num_layers\n",
        "    \n",
        "    self.embedding = tf.keras.layers.Embedding(input_vocab_size, embedding_dims)\n",
        "    self.pos_encoding = positional_encoding(maximum_position_encoding, \n",
        "                                            embedding_dims)\n",
        "    \n",
        "    self.dropout = tf.keras.layers.Dropout(rate)\n",
        "\n",
        "    self.encoder_layers = [EncoderLayer(embedding_dims, num_heads, expanded_dims, rate) \n",
        "                       for i in range(num_layers)]\n",
        "  \n",
        "    \n",
        "        \n",
        "  def call(self, x, training, padding_mask):\n",
        "\n",
        "    seq_len = tf.shape(x)[1]\n",
        "\n",
        "    x = self.embedding(x)  \n",
        "    x *= tf.math.sqrt(tf.cast(self.embedding_dims, tf.float32)) # Technicality that  is used in the original paper\n",
        "    x += self.pos_encoding[:, :seq_len, :]\n",
        "\n",
        "    x = self.dropout(x, training=training)\n",
        "    \n",
        "    for i in range(self.num_layers):\n",
        "      x = self.encoder_layers[i](x, training, padding_mask)\n",
        "    \n",
        "    return x  # (batch_size, input_seq_len, embedding_dims)"
      ],
      "execution_count": null,
      "outputs": []
    },
    {
      "cell_type": "markdown",
      "metadata": {
        "id": "kzUrLSzwU5pY"
      },
      "source": [
        "# Decoder (Input Embeddings + Decoder Layers)"
      ]
    },
    {
      "cell_type": "markdown",
      "metadata": {
        "id": "Gd8e9pQ-VBFa"
      },
      "source": [
        "The Decoder consists of:\n",
        "\n",
        "1. Output Embedding\n",
        "2. Positional Encoding\n",
        "3. N decoder layers"
      ]
    },
    {
      "cell_type": "markdown",
      "metadata": {
        "id": "rGP1mZAlV4zm"
      },
      "source": [
        "Almost the same as Encoder! Few changes: \n",
        "\n",
        "target_vocab_size instead of input, DecoderLayer instead of EncoderLayer, and 2 extra parameters (encoder_output and look_ahead_mask )"
      ]
    },
    {
      "cell_type": "code",
      "metadata": {
        "id": "xZRLpb9JU4kQ"
      },
      "source": [
        "class Decoder(tf.keras.layers.Layer):\n",
        "  def __init__(self, num_layers, embedding_dims, num_heads, expanded_dims, target_vocab_size,\n",
        "               maximum_position_encoding, rate=0.1):\n",
        "    super().__init__()\n",
        "\n",
        "    self.embedding_dims = embedding_dims\n",
        "    self.num_layers = num_layers\n",
        "    \n",
        "    self.embedding = tf.keras.layers.Embedding(target_vocab_size, embedding_dims)\n",
        "    self.pos_encoding = positional_encoding(maximum_position_encoding, embedding_dims)\n",
        "    \n",
        "    self.decoder_layers = [DecoderLayer(embedding_dims, num_heads, expanded_dims, rate) \n",
        "                       for i in range(num_layers)]\n",
        "    self.dropout = tf.keras.layers.Dropout(rate)\n",
        "    \n",
        "  def call(self, x, encoder_output, training, \n",
        "           padding_mask, look_ahead_mask):\n",
        "\n",
        "    seq_len = tf.shape(x)[1]\n",
        "    \n",
        "    x = self.embedding(x)  \n",
        "    x *= tf.math.sqrt(tf.cast(self.embedding_dims, tf.float32))\n",
        "    x += self.pos_encoding[:, :seq_len, :]\n",
        "    \n",
        "    x = self.dropout(x, training=training)\n",
        "\n",
        "    for i in range(self.num_layers):\n",
        "      x = self.decoder_layers[i](x, encoder_output, training,\n",
        "                                padding_mask, look_ahead_mask)\n",
        "  \n",
        "    return x  # (batch_size, target_seq_len, d_model)"
      ],
      "execution_count": null,
      "outputs": []
    },
    {
      "cell_type": "markdown",
      "metadata": {
        "id": "LkBvlJmHY3Wg"
      },
      "source": [
        "# Transformer"
      ]
    },
    {
      "cell_type": "code",
      "metadata": {
        "id": "diP68fgSY4sf"
      },
      "source": [
        "class Transformer(tf.keras.Model):\n",
        "  def __init__(self, num_layers, embedding_dims, num_heads, expanded_dims, input_vocab_size, \n",
        "               target_vocab_size, pe_input, pe_target, rate=0.1):\n",
        "    super().__init__()\n",
        "\n",
        "    self.encoder = Encoder(num_layers, embedding_dims, num_heads, expanded_dims, \n",
        "                           input_vocab_size, pe_input, rate)\n",
        "\n",
        "    self.decoder = Decoder(num_layers, embedding_dims, num_heads, expanded_dims, \n",
        "                           target_vocab_size, pe_target, rate)\n",
        "\n",
        "    self.final_layer = tf.keras.layers.Dense(target_vocab_size)\n",
        "    \n",
        "  def call(self, input, target, training, encoder_padding_mask, \n",
        "           decoder_padding_mask, look_ahead_mask):\n",
        "\n",
        "    encoder_output = self.encoder(input, training, encoder_padding_mask)  # (batch_size, inp_seq_len, embedding_dims)\n",
        "    \n",
        "    \n",
        "    dec_output = self.decoder(target, encoder_output, training, decoder_padding_mask, look_ahead_mask)\n",
        "    # (batch_size, target_seq_len, embedding_dims)\n",
        "\n",
        "    final_output = self.final_layer(dec_output)  # (batch_size, target_seq_len, target_vocab_size)\n",
        "    \n",
        "    return final_output"
      ],
      "execution_count": null,
      "outputs": []
    },
    {
      "cell_type": "code",
      "metadata": {
        "id": "QMBBFzRCf7t-"
      },
      "source": [
        "num_layers = 4\n",
        "expanded_dims = 512\n",
        "\n",
        "transformer = Transformer(num_layers, embedding_dims, num_heads, expanded_dims,\n",
        "                          input_vocab_size, target_vocab_size, \n",
        "                          pe_input=input_vocab_size, \n",
        "                          pe_target=target_vocab_size)"
      ],
      "execution_count": null,
      "outputs": []
    },
    {
      "cell_type": "markdown",
      "metadata": {
        "id": "cpyuID0MeoMB"
      },
      "source": [
        "# Run the Model"
      ]
    },
    {
      "cell_type": "markdown",
      "metadata": {
        "id": "gXXSY34VfoIM"
      },
      "source": [
        "Same loss function as in Lab 5"
      ]
    },
    {
      "cell_type": "code",
      "metadata": {
        "id": "-skgel9AaKln"
      },
      "source": [
        "def loss_function(real, pred):\n",
        "  cross_entropy = tf.keras.losses.SparseCategoricalCrossentropy(from_logits=True, reduction='none')\n",
        "  loss = cross_entropy(y_true=real, y_pred=pred)\n",
        "  mask = tf.math.logical_not(tf.math.equal(real, 0))\n",
        "  mask = tf.cast(mask, dtype=loss.dtype)\n",
        "  loss = loss * mask\n",
        "  loss = tf.reduce_mean(loss)\n",
        "  return loss"
      ],
      "execution_count": null,
      "outputs": []
    },
    {
      "cell_type": "markdown",
      "metadata": {
        "id": "E_Dh4bNjkdv2"
      },
      "source": [
        "The original Transformer paper uses a custom learning rate scheduler :\n",
        "$$lrate = d_{model}^{-0.5} * min(step{\\_}num^{-0.5}, step{\\_}num * warmup{\\_}steps^{-1.5})$$\n",
        "\n",
        "I tried it without the scheduler and the training stops learning very quickly. (This configuration is the most **crucial** one for succesfully training the Transformer)"
      ]
    },
    {
      "cell_type": "code",
      "metadata": {
        "id": "GJX3QY83kNvg"
      },
      "source": [
        "class CustomSchedule(tf.keras.optimizers.schedules.LearningRateSchedule):\n",
        "  def __init__(self, embedding_dims, warmup_steps=4000):\n",
        "    super(CustomSchedule, self).__init__()\n",
        "    \n",
        "    self.embedding_dims = embedding_dims\n",
        "    self.embedding_dims = tf.cast(self.embedding_dims, tf.float32)\n",
        "\n",
        "    self.warmup_steps = warmup_steps\n",
        "    \n",
        "  def __call__(self, step):\n",
        "    arg1 = tf.math.rsqrt(step)\n",
        "    arg2 = step * (self.warmup_steps ** -1.5)\n",
        "    \n",
        "    return tf.math.rsqrt(self.embedding_dims) * tf.math.minimum(arg1, arg2)"
      ],
      "execution_count": null,
      "outputs": []
    },
    {
      "cell_type": "code",
      "metadata": {
        "id": "MKf7t1fKkPzI"
      },
      "source": [
        "learning_rate = CustomSchedule(embedding_dims)\n",
        "\n",
        "optimizer = tf.keras.optimizers.Adam(learning_rate, beta_1=0.9, beta_2=0.98, \n",
        "                                     epsilon=1e-9)"
      ],
      "execution_count": null,
      "outputs": []
    },
    {
      "cell_type": "markdown",
      "metadata": {
        "id": "NdKH-tZ-n8S7"
      },
      "source": [
        "Almost same training steps as in Lab 5. But using the Transformer instead of the encoder/decoder"
      ]
    },
    {
      "cell_type": "code",
      "metadata": {
        "id": "Ebt0nW4DdGAp",
        "colab": {
          "base_uri": "https://localhost:8080/"
        },
        "outputId": "7bf9726c-c81f-431a-e098-02e34a61483d"
      },
      "source": [
        "EPOCHS = 100\n",
        "\n",
        "for epoch in range(EPOCHS):\n",
        "  start = time.time()\n",
        "  epoch_loss = 0\n",
        "\n",
        "  for (batch, (input, target)) in enumerate(dataset.take(steps_per_epoch)):\n",
        "    decoder_input = target[ : , :-1 ] # ignore <end> token\n",
        "    real = target[ : , 1: ]           # ignore <start> token\n",
        "    \n",
        "    enc_padding_mask, dec_padding_mask, combined_mask = create_masks(input, decoder_input)\n",
        "    \n",
        "    with tf.GradientTape() as tape:\n",
        "      predictions = transformer(input=input, target=decoder_input, \n",
        "                                  training=True, \n",
        "                                  encoder_padding_mask=enc_padding_mask, \n",
        "                                  decoder_padding_mask=dec_padding_mask,\n",
        "                                  look_ahead_mask=combined_mask)\n",
        "      batch_loss = loss_function(real, predictions)\n",
        "\n",
        "\n",
        "    gradients = tape.gradient(batch_loss, transformer.trainable_variables)    \n",
        "    optimizer.apply_gradients(zip(gradients, transformer.trainable_variables))\n",
        "    epoch_loss += batch_loss  \n",
        "\n",
        "    if batch % 100 == 0:\n",
        "      print ('Epoch {} Batch {} Loss {:.4f}'.format(\n",
        "          epoch + 1, batch, batch_loss.numpy()))\n",
        "    \n",
        "  print ('Epoch {} Loss {:.4f}'.format(epoch + 1, \n",
        "                                                epoch_loss / steps_per_epoch))\n",
        "\n",
        "  print ('Time taken for 1 epoch: {} secs\\n'.format(time.time() - start))"
      ],
      "execution_count": null,
      "outputs": [
        {
          "output_type": "stream",
          "text": [
            "Epoch 1 Batch 0 Loss 4.4174\n",
            "Epoch 1 Batch 100 Loss 4.1914\n",
            "Epoch 1 Batch 200 Loss 3.5444\n",
            "Epoch 1 Batch 300 Loss 2.9483\n",
            "Epoch 1 Loss 3.5660\n",
            "Time taken for 1 epoch: 130.3606677055359 secs\n",
            "\n",
            "Epoch 2 Batch 0 Loss 2.5875\n",
            "Epoch 2 Batch 100 Loss 2.2671\n",
            "Epoch 2 Batch 200 Loss 1.8482\n",
            "Epoch 2 Batch 300 Loss 1.8198\n",
            "Epoch 2 Loss 2.0082\n",
            "Time taken for 1 epoch: 128.74184775352478 secs\n",
            "\n",
            "Epoch 3 Batch 0 Loss 1.6672\n",
            "Epoch 3 Batch 100 Loss 1.5695\n",
            "Epoch 3 Batch 200 Loss 1.5553\n",
            "Epoch 3 Batch 300 Loss 1.4516\n",
            "Epoch 3 Loss 1.5224\n",
            "Time taken for 1 epoch: 128.02325439453125 secs\n",
            "\n",
            "Epoch 4 Batch 0 Loss 1.3273\n",
            "Epoch 4 Batch 100 Loss 1.2716\n",
            "Epoch 4 Batch 200 Loss 1.2477\n",
            "Epoch 4 Batch 300 Loss 1.2888\n",
            "Epoch 4 Loss 1.3219\n",
            "Time taken for 1 epoch: 128.3040976524353 secs\n",
            "\n",
            "Epoch 5 Batch 0 Loss 1.1560\n",
            "Epoch 5 Batch 100 Loss 1.1361\n",
            "Epoch 5 Batch 200 Loss 1.1093\n",
            "Epoch 5 Batch 300 Loss 1.0737\n",
            "Epoch 5 Loss 1.1745\n",
            "Time taken for 1 epoch: 128.03246974945068 secs\n",
            "\n",
            "Epoch 6 Batch 0 Loss 1.0828\n",
            "Epoch 6 Batch 100 Loss 1.0286\n",
            "Epoch 6 Batch 200 Loss 0.9103\n",
            "Epoch 6 Batch 300 Loss 1.2398\n",
            "Epoch 6 Loss 1.0428\n",
            "Time taken for 1 epoch: 127.10943984985352 secs\n",
            "\n",
            "Epoch 7 Batch 0 Loss 1.0026\n",
            "Epoch 7 Batch 100 Loss 0.9765\n",
            "Epoch 7 Batch 200 Loss 0.9885\n",
            "Epoch 7 Batch 300 Loss 0.9333\n",
            "Epoch 7 Loss 0.9143\n",
            "Time taken for 1 epoch: 127.12892365455627 secs\n",
            "\n",
            "Epoch 8 Batch 0 Loss 0.6917\n",
            "Epoch 8 Batch 100 Loss 0.7139\n",
            "Epoch 8 Batch 200 Loss 0.7589\n",
            "Epoch 8 Batch 300 Loss 0.7322\n",
            "Epoch 8 Loss 0.7903\n",
            "Time taken for 1 epoch: 126.77412557601929 secs\n",
            "\n",
            "Epoch 9 Batch 0 Loss 0.7156\n",
            "Epoch 9 Batch 100 Loss 0.7249\n",
            "Epoch 9 Batch 200 Loss 0.7314\n",
            "Epoch 9 Batch 300 Loss 0.7390\n",
            "Epoch 9 Loss 0.6991\n",
            "Time taken for 1 epoch: 127.00029706954956 secs\n",
            "\n",
            "Epoch 10 Batch 0 Loss 0.5856\n",
            "Epoch 10 Batch 100 Loss 0.5483\n",
            "Epoch 10 Batch 200 Loss 0.5300\n",
            "Epoch 10 Batch 300 Loss 0.7414\n",
            "Epoch 10 Loss 0.6329\n",
            "Time taken for 1 epoch: 127.99031829833984 secs\n",
            "\n",
            "Epoch 11 Batch 0 Loss 0.5368\n",
            "Epoch 11 Batch 100 Loss 0.5657\n",
            "Epoch 11 Batch 200 Loss 0.4592\n",
            "Epoch 11 Batch 300 Loss 0.6800\n",
            "Epoch 11 Loss 0.5850\n",
            "Time taken for 1 epoch: 127.5074462890625 secs\n",
            "\n",
            "Epoch 12 Batch 0 Loss 0.4738\n",
            "Epoch 12 Batch 100 Loss 0.4954\n",
            "Epoch 12 Batch 200 Loss 0.6352\n",
            "Epoch 12 Batch 300 Loss 0.4625\n",
            "Epoch 12 Loss 0.5345\n",
            "Time taken for 1 epoch: 127.15729093551636 secs\n",
            "\n",
            "Epoch 13 Batch 0 Loss 0.3714\n",
            "Epoch 13 Batch 100 Loss 0.4541\n",
            "Epoch 13 Batch 200 Loss 0.4960\n",
            "Epoch 13 Batch 300 Loss 0.4831\n",
            "Epoch 13 Loss 0.4852\n",
            "Time taken for 1 epoch: 127.40591263771057 secs\n",
            "\n",
            "Epoch 14 Batch 0 Loss 0.3817\n",
            "Epoch 14 Batch 100 Loss 0.3540\n",
            "Epoch 14 Batch 200 Loss 0.4351\n",
            "Epoch 14 Batch 300 Loss 0.5434\n",
            "Epoch 14 Loss 0.4448\n",
            "Time taken for 1 epoch: 127.0874924659729 secs\n",
            "\n",
            "Epoch 15 Batch 0 Loss 0.4111\n",
            "Epoch 15 Batch 100 Loss 0.3202\n",
            "Epoch 15 Batch 200 Loss 0.4400\n",
            "Epoch 15 Batch 300 Loss 0.4133\n",
            "Epoch 15 Loss 0.4119\n",
            "Time taken for 1 epoch: 127.80958914756775 secs\n",
            "\n",
            "Epoch 16 Batch 0 Loss 0.3326\n",
            "Epoch 16 Batch 100 Loss 0.3329\n",
            "Epoch 16 Batch 200 Loss 0.3560\n",
            "Epoch 16 Batch 300 Loss 0.4669\n",
            "Epoch 16 Loss 0.3815\n",
            "Time taken for 1 epoch: 127.42188286781311 secs\n",
            "\n",
            "Epoch 17 Batch 0 Loss 0.3352\n",
            "Epoch 17 Batch 100 Loss 0.3282\n",
            "Epoch 17 Batch 200 Loss 0.3459\n",
            "Epoch 17 Batch 300 Loss 0.4059\n",
            "Epoch 17 Loss 0.3562\n",
            "Time taken for 1 epoch: 127.24097728729248 secs\n",
            "\n",
            "Epoch 18 Batch 0 Loss 0.2657\n",
            "Epoch 18 Batch 100 Loss 0.3220\n",
            "Epoch 18 Batch 200 Loss 0.3899\n",
            "Epoch 18 Batch 300 Loss 0.3462\n",
            "Epoch 18 Loss 0.3365\n",
            "Time taken for 1 epoch: 126.53115177154541 secs\n",
            "\n",
            "Epoch 19 Batch 0 Loss 0.3017\n",
            "Epoch 19 Batch 100 Loss 0.3685\n",
            "Epoch 19 Batch 200 Loss 0.3505\n",
            "Epoch 19 Batch 300 Loss 0.3041\n",
            "Epoch 19 Loss 0.3163\n",
            "Time taken for 1 epoch: 127.31496095657349 secs\n",
            "\n",
            "Epoch 20 Batch 0 Loss 0.2121\n",
            "Epoch 20 Batch 100 Loss 0.2492\n",
            "Epoch 20 Batch 200 Loss 0.3641\n",
            "Epoch 20 Batch 300 Loss 0.3089\n",
            "Epoch 20 Loss 0.3016\n",
            "Time taken for 1 epoch: 127.48865580558777 secs\n",
            "\n",
            "Epoch 21 Batch 0 Loss 0.2532\n",
            "Epoch 21 Batch 100 Loss 0.2791\n",
            "Epoch 21 Batch 200 Loss 0.3157\n",
            "Epoch 21 Batch 300 Loss 0.3267\n",
            "Epoch 21 Loss 0.2878\n",
            "Time taken for 1 epoch: 127.91498970985413 secs\n",
            "\n",
            "Epoch 22 Batch 0 Loss 0.1866\n",
            "Epoch 22 Batch 100 Loss 0.2551\n",
            "Epoch 22 Batch 200 Loss 0.2984\n",
            "Epoch 22 Batch 300 Loss 0.3427\n",
            "Epoch 22 Loss 0.2716\n",
            "Time taken for 1 epoch: 126.21109509468079 secs\n",
            "\n",
            "Epoch 23 Batch 0 Loss 0.2209\n",
            "Epoch 23 Batch 100 Loss 0.2670\n",
            "Epoch 23 Batch 200 Loss 0.2354\n",
            "Epoch 23 Batch 300 Loss 0.3013\n",
            "Epoch 23 Loss 0.2608\n",
            "Time taken for 1 epoch: 126.8785994052887 secs\n",
            "\n",
            "Epoch 24 Batch 0 Loss 0.1940\n",
            "Epoch 24 Batch 100 Loss 0.2550\n",
            "Epoch 24 Batch 200 Loss 0.2372\n",
            "Epoch 24 Batch 300 Loss 0.2440\n",
            "Epoch 24 Loss 0.2508\n",
            "Time taken for 1 epoch: 128.1177589893341 secs\n",
            "\n",
            "Epoch 25 Batch 0 Loss 0.1629\n",
            "Epoch 25 Batch 100 Loss 0.2196\n",
            "Epoch 25 Batch 200 Loss 0.2398\n",
            "Epoch 25 Batch 300 Loss 0.2991\n",
            "Epoch 25 Loss 0.2421\n",
            "Time taken for 1 epoch: 127.55916237831116 secs\n",
            "\n",
            "Epoch 26 Batch 0 Loss 0.2142\n",
            "Epoch 26 Batch 100 Loss 0.2107\n",
            "Epoch 26 Batch 200 Loss 0.2307\n",
            "Epoch 26 Batch 300 Loss 0.2380\n",
            "Epoch 26 Loss 0.2338\n",
            "Time taken for 1 epoch: 126.81641817092896 secs\n",
            "\n",
            "Epoch 27 Batch 0 Loss 0.1812\n",
            "Epoch 27 Batch 100 Loss 0.2298\n",
            "Epoch 27 Batch 200 Loss 0.1852\n",
            "Epoch 27 Batch 300 Loss 0.2690\n",
            "Epoch 27 Loss 0.2246\n",
            "Time taken for 1 epoch: 127.89085292816162 secs\n",
            "\n",
            "Epoch 28 Batch 0 Loss 0.1755\n",
            "Epoch 28 Batch 100 Loss 0.1731\n",
            "Epoch 28 Batch 200 Loss 0.2131\n",
            "Epoch 28 Batch 300 Loss 0.2707\n",
            "Epoch 28 Loss 0.2193\n",
            "Time taken for 1 epoch: 126.71757340431213 secs\n",
            "\n",
            "Epoch 29 Batch 0 Loss 0.1874\n",
            "Epoch 29 Batch 100 Loss 0.1743\n",
            "Epoch 29 Batch 200 Loss 0.2630\n",
            "Epoch 29 Batch 300 Loss 0.3174\n",
            "Epoch 29 Loss 0.2127\n",
            "Time taken for 1 epoch: 127.42423224449158 secs\n",
            "\n",
            "Epoch 30 Batch 0 Loss 0.1653\n",
            "Epoch 30 Batch 100 Loss 0.2005\n",
            "Epoch 30 Batch 200 Loss 0.1640\n",
            "Epoch 30 Batch 300 Loss 0.2107\n",
            "Epoch 30 Loss 0.2059\n",
            "Time taken for 1 epoch: 124.3468005657196 secs\n",
            "\n",
            "Epoch 31 Batch 0 Loss 0.1611\n",
            "Epoch 31 Batch 100 Loss 0.2025\n",
            "Epoch 31 Batch 200 Loss 0.2138\n",
            "Epoch 31 Batch 300 Loss 0.2311\n",
            "Epoch 31 Loss 0.2014\n",
            "Time taken for 1 epoch: 126.7564845085144 secs\n",
            "\n",
            "Epoch 32 Batch 0 Loss 0.1289\n",
            "Epoch 32 Batch 100 Loss 0.1788\n",
            "Epoch 32 Batch 200 Loss 0.2034\n",
            "Epoch 32 Batch 300 Loss 0.2428\n",
            "Epoch 32 Loss 0.1981\n",
            "Time taken for 1 epoch: 127.98681545257568 secs\n",
            "\n",
            "Epoch 33 Batch 0 Loss 0.1242\n",
            "Epoch 33 Batch 100 Loss 0.1717\n",
            "Epoch 33 Batch 200 Loss 0.2294\n",
            "Epoch 33 Batch 300 Loss 0.1702\n",
            "Epoch 33 Loss 0.1914\n",
            "Time taken for 1 epoch: 128.31663489341736 secs\n",
            "\n",
            "Epoch 34 Batch 0 Loss 0.1478\n",
            "Epoch 34 Batch 100 Loss 0.1644\n",
            "Epoch 34 Batch 200 Loss 0.2096\n",
            "Epoch 34 Batch 300 Loss 0.2272\n",
            "Epoch 34 Loss 0.1887\n",
            "Time taken for 1 epoch: 128.7235553264618 secs\n",
            "\n",
            "Epoch 35 Batch 0 Loss 0.1255\n",
            "Epoch 35 Batch 100 Loss 0.1818\n",
            "Epoch 35 Batch 200 Loss 0.2126\n",
            "Epoch 35 Batch 300 Loss 0.1358\n",
            "Epoch 35 Loss 0.1844\n",
            "Time taken for 1 epoch: 127.63608479499817 secs\n",
            "\n",
            "Epoch 36 Batch 0 Loss 0.1303\n",
            "Epoch 36 Batch 100 Loss 0.1880\n",
            "Epoch 36 Batch 200 Loss 0.1347\n",
            "Epoch 36 Batch 300 Loss 0.2060\n",
            "Epoch 36 Loss 0.1819\n",
            "Time taken for 1 epoch: 127.99804711341858 secs\n",
            "\n",
            "Epoch 37 Batch 0 Loss 0.1460\n",
            "Epoch 37 Batch 100 Loss 0.1462\n",
            "Epoch 37 Batch 200 Loss 0.2085\n",
            "Epoch 37 Batch 300 Loss 0.1751\n",
            "Epoch 37 Loss 0.1781\n",
            "Time taken for 1 epoch: 128.06221437454224 secs\n",
            "\n",
            "Epoch 38 Batch 0 Loss 0.1411\n",
            "Epoch 38 Batch 100 Loss 0.1258\n",
            "Epoch 38 Batch 200 Loss 0.1751\n",
            "Epoch 38 Batch 300 Loss 0.1996\n",
            "Epoch 38 Loss 0.1753\n",
            "Time taken for 1 epoch: 127.61967992782593 secs\n",
            "\n",
            "Epoch 39 Batch 0 Loss 0.0903\n",
            "Epoch 39 Batch 100 Loss 0.1792\n",
            "Epoch 39 Batch 200 Loss 0.1371\n",
            "Epoch 39 Batch 300 Loss 0.2090\n",
            "Epoch 39 Loss 0.1740\n",
            "Time taken for 1 epoch: 128.56502103805542 secs\n",
            "\n",
            "Epoch 40 Batch 0 Loss 0.1377\n",
            "Epoch 40 Batch 100 Loss 0.1396\n",
            "Epoch 40 Batch 200 Loss 0.1535\n",
            "Epoch 40 Batch 300 Loss 0.1913\n",
            "Epoch 40 Loss 0.1694\n",
            "Time taken for 1 epoch: 128.23601937294006 secs\n",
            "\n",
            "Epoch 41 Batch 0 Loss 0.1160\n",
            "Epoch 41 Batch 100 Loss 0.1315\n",
            "Epoch 41 Batch 200 Loss 0.1728\n",
            "Epoch 41 Batch 300 Loss 0.1844\n",
            "Epoch 41 Loss 0.1688\n",
            "Time taken for 1 epoch: 128.5271544456482 secs\n",
            "\n",
            "Epoch 42 Batch 0 Loss 0.1050\n",
            "Epoch 42 Batch 100 Loss 0.1489\n",
            "Epoch 42 Batch 200 Loss 0.1683\n",
            "Epoch 42 Batch 300 Loss 0.2118\n",
            "Epoch 42 Loss 0.1647\n",
            "Time taken for 1 epoch: 128.14410781860352 secs\n",
            "\n",
            "Epoch 43 Batch 0 Loss 0.1129\n",
            "Epoch 43 Batch 100 Loss 0.1526\n",
            "Epoch 43 Batch 200 Loss 0.1523\n",
            "Epoch 43 Batch 300 Loss 0.1822\n",
            "Epoch 43 Loss 0.1646\n",
            "Time taken for 1 epoch: 128.39889669418335 secs\n",
            "\n",
            "Epoch 44 Batch 0 Loss 0.1015\n",
            "Epoch 44 Batch 100 Loss 0.1168\n",
            "Epoch 44 Batch 200 Loss 0.1478\n",
            "Epoch 44 Batch 300 Loss 0.1816\n",
            "Epoch 44 Loss 0.1616\n",
            "Time taken for 1 epoch: 127.97202253341675 secs\n",
            "\n",
            "Epoch 45 Batch 0 Loss 0.1047\n",
            "Epoch 45 Batch 100 Loss 0.1393\n",
            "Epoch 45 Batch 200 Loss 0.1504\n",
            "Epoch 45 Batch 300 Loss 0.1951\n",
            "Epoch 45 Loss 0.1593\n",
            "Time taken for 1 epoch: 126.7998993396759 secs\n",
            "\n",
            "Epoch 46 Batch 0 Loss 0.1096\n",
            "Epoch 46 Batch 100 Loss 0.1299\n",
            "Epoch 46 Batch 200 Loss 0.1566\n",
            "Epoch 46 Batch 300 Loss 0.1521\n",
            "Epoch 46 Loss 0.1584\n",
            "Time taken for 1 epoch: 128.09109330177307 secs\n",
            "\n",
            "Epoch 47 Batch 0 Loss 0.0994\n",
            "Epoch 47 Batch 100 Loss 0.1007\n",
            "Epoch 47 Batch 200 Loss 0.1545\n",
            "Epoch 47 Batch 300 Loss 0.1639\n",
            "Epoch 47 Loss 0.1573\n",
            "Time taken for 1 epoch: 126.76441097259521 secs\n",
            "\n",
            "Epoch 48 Batch 0 Loss 0.1311\n",
            "Epoch 48 Batch 100 Loss 0.1470\n",
            "Epoch 48 Batch 200 Loss 0.1142\n",
            "Epoch 48 Batch 300 Loss 0.1816\n",
            "Epoch 48 Loss 0.1560\n",
            "Time taken for 1 epoch: 127.41175603866577 secs\n",
            "\n",
            "Epoch 49 Batch 0 Loss 0.0794\n",
            "Epoch 49 Batch 100 Loss 0.0908\n",
            "Epoch 49 Batch 200 Loss 0.1333\n",
            "Epoch 49 Batch 300 Loss 0.2047\n",
            "Epoch 49 Loss 0.1539\n",
            "Time taken for 1 epoch: 127.95834374427795 secs\n",
            "\n",
            "Epoch 50 Batch 0 Loss 0.1008\n",
            "Epoch 50 Batch 100 Loss 0.1355\n",
            "Epoch 50 Batch 200 Loss 0.1715\n",
            "Epoch 50 Batch 300 Loss 0.2053\n",
            "Epoch 50 Loss 0.1531\n",
            "Time taken for 1 epoch: 127.48547148704529 secs\n",
            "\n",
            "Epoch 51 Batch 0 Loss 0.0855\n",
            "Epoch 51 Batch 100 Loss 0.1141\n",
            "Epoch 51 Batch 200 Loss 0.1645\n",
            "Epoch 51 Batch 300 Loss 0.1552\n",
            "Epoch 51 Loss 0.1513\n",
            "Time taken for 1 epoch: 126.68847894668579 secs\n",
            "\n",
            "Epoch 52 Batch 0 Loss 0.1208\n",
            "Epoch 52 Batch 100 Loss 0.1490\n",
            "Epoch 52 Batch 200 Loss 0.1316\n",
            "Epoch 52 Batch 300 Loss 0.2089\n",
            "Epoch 52 Loss 0.1503\n",
            "Time taken for 1 epoch: 127.4960765838623 secs\n",
            "\n",
            "Epoch 53 Batch 0 Loss 0.0896\n",
            "Epoch 53 Batch 100 Loss 0.1232\n",
            "Epoch 53 Batch 200 Loss 0.0935\n",
            "Epoch 53 Batch 300 Loss 0.1681\n",
            "Epoch 53 Loss 0.1488\n",
            "Time taken for 1 epoch: 127.47662806510925 secs\n",
            "\n",
            "Epoch 54 Batch 0 Loss 0.1207\n",
            "Epoch 54 Batch 100 Loss 0.1552\n",
            "Epoch 54 Batch 200 Loss 0.1277\n",
            "Epoch 54 Batch 300 Loss 0.1566\n",
            "Epoch 54 Loss 0.1462\n",
            "Time taken for 1 epoch: 128.3270251750946 secs\n",
            "\n",
            "Epoch 55 Batch 0 Loss 0.1139\n",
            "Epoch 55 Batch 100 Loss 0.1430\n",
            "Epoch 55 Batch 200 Loss 0.1295\n",
            "Epoch 55 Batch 300 Loss 0.2416\n",
            "Epoch 55 Loss 0.1455\n",
            "Time taken for 1 epoch: 127.87720584869385 secs\n",
            "\n",
            "Epoch 56 Batch 0 Loss 0.1052\n",
            "Epoch 56 Batch 100 Loss 0.1062\n",
            "Epoch 56 Batch 200 Loss 0.1534\n",
            "Epoch 56 Batch 300 Loss 0.1944\n",
            "Epoch 56 Loss 0.1456\n",
            "Time taken for 1 epoch: 128.32789421081543 secs\n",
            "\n",
            "Epoch 57 Batch 0 Loss 0.1118\n",
            "Epoch 57 Batch 100 Loss 0.0883\n",
            "Epoch 57 Batch 200 Loss 0.1515\n",
            "Epoch 57 Batch 300 Loss 0.1596\n",
            "Epoch 57 Loss 0.1435\n",
            "Time taken for 1 epoch: 127.74034857749939 secs\n",
            "\n",
            "Epoch 58 Batch 0 Loss 0.1075\n",
            "Epoch 58 Batch 100 Loss 0.1393\n",
            "Epoch 58 Batch 200 Loss 0.1378\n",
            "Epoch 58 Batch 300 Loss 0.1743\n",
            "Epoch 58 Loss 0.1436\n",
            "Time taken for 1 epoch: 129.13056135177612 secs\n",
            "\n",
            "Epoch 59 Batch 0 Loss 0.0869\n",
            "Epoch 59 Batch 100 Loss 0.1166\n",
            "Epoch 59 Batch 200 Loss 0.1508\n",
            "Epoch 59 Batch 300 Loss 0.1680\n",
            "Epoch 59 Loss 0.1423\n",
            "Time taken for 1 epoch: 128.0037500858307 secs\n",
            "\n",
            "Epoch 60 Batch 0 Loss 0.1138\n",
            "Epoch 60 Batch 100 Loss 0.1213\n",
            "Epoch 60 Batch 200 Loss 0.1522\n",
            "Epoch 60 Batch 300 Loss 0.1893\n",
            "Epoch 60 Loss 0.1428\n",
            "Time taken for 1 epoch: 128.48529815673828 secs\n",
            "\n",
            "Epoch 61 Batch 0 Loss 0.1301\n",
            "Epoch 61 Batch 100 Loss 0.1207\n",
            "Epoch 61 Batch 200 Loss 0.1802\n",
            "Epoch 61 Batch 300 Loss 0.1990\n",
            "Epoch 61 Loss 0.1394\n",
            "Time taken for 1 epoch: 128.57401371002197 secs\n",
            "\n",
            "Epoch 62 Batch 0 Loss 0.0674\n",
            "Epoch 62 Batch 100 Loss 0.0890\n",
            "Epoch 62 Batch 200 Loss 0.1592\n",
            "Epoch 62 Batch 300 Loss 0.1065\n",
            "Epoch 62 Loss 0.1399\n",
            "Time taken for 1 epoch: 128.20255708694458 secs\n",
            "\n",
            "Epoch 63 Batch 0 Loss 0.0816\n",
            "Epoch 63 Batch 100 Loss 0.1290\n",
            "Epoch 63 Batch 200 Loss 0.1198\n",
            "Epoch 63 Batch 300 Loss 0.1365\n",
            "Epoch 63 Loss 0.1405\n",
            "Time taken for 1 epoch: 128.731201171875 secs\n",
            "\n",
            "Epoch 64 Batch 0 Loss 0.1079\n",
            "Epoch 64 Batch 100 Loss 0.1335\n",
            "Epoch 64 Batch 200 Loss 0.1465\n",
            "Epoch 64 Batch 300 Loss 0.1784\n",
            "Epoch 64 Loss 0.1385\n",
            "Time taken for 1 epoch: 127.74964666366577 secs\n",
            "\n",
            "Epoch 65 Batch 0 Loss 0.0933\n",
            "Epoch 65 Batch 100 Loss 0.1389\n",
            "Epoch 65 Batch 200 Loss 0.1422\n",
            "Epoch 65 Batch 300 Loss 0.1548\n",
            "Epoch 65 Loss 0.1375\n",
            "Time taken for 1 epoch: 126.98562431335449 secs\n",
            "\n",
            "Epoch 66 Batch 0 Loss 0.1115\n",
            "Epoch 66 Batch 100 Loss 0.1500\n",
            "Epoch 66 Batch 200 Loss 0.1114\n",
            "Epoch 66 Batch 300 Loss 0.1770\n",
            "Epoch 66 Loss 0.1364\n",
            "Time taken for 1 epoch: 125.88810515403748 secs\n",
            "\n",
            "Epoch 67 Batch 0 Loss 0.0972\n",
            "Epoch 67 Batch 100 Loss 0.0888\n",
            "Epoch 67 Batch 200 Loss 0.1528\n",
            "Epoch 67 Batch 300 Loss 0.1220\n",
            "Epoch 67 Loss 0.1359\n",
            "Time taken for 1 epoch: 127.48376131057739 secs\n",
            "\n",
            "Epoch 68 Batch 0 Loss 0.1199\n",
            "Epoch 68 Batch 100 Loss 0.1308\n",
            "Epoch 68 Batch 200 Loss 0.1239\n",
            "Epoch 68 Batch 300 Loss 0.1486\n",
            "Epoch 68 Loss 0.1351\n",
            "Time taken for 1 epoch: 127.9259717464447 secs\n",
            "\n",
            "Epoch 69 Batch 0 Loss 0.1086\n",
            "Epoch 69 Batch 100 Loss 0.1190\n",
            "Epoch 69 Batch 200 Loss 0.1234\n",
            "Epoch 69 Batch 300 Loss 0.1337\n",
            "Epoch 69 Loss 0.1347\n",
            "Time taken for 1 epoch: 127.7469367980957 secs\n",
            "\n",
            "Epoch 70 Batch 0 Loss 0.0905\n",
            "Epoch 70 Batch 100 Loss 0.1341\n",
            "Epoch 70 Batch 200 Loss 0.1763\n",
            "Epoch 70 Batch 300 Loss 0.1264\n",
            "Epoch 70 Loss 0.1344\n",
            "Time taken for 1 epoch: 128.37345957756042 secs\n",
            "\n",
            "Epoch 71 Batch 0 Loss 0.0823\n",
            "Epoch 71 Batch 100 Loss 0.0895\n",
            "Epoch 71 Batch 200 Loss 0.1362\n",
            "Epoch 71 Batch 300 Loss 0.1386\n",
            "Epoch 71 Loss 0.1350\n",
            "Time taken for 1 epoch: 127.89442443847656 secs\n",
            "\n",
            "Epoch 72 Batch 0 Loss 0.1268\n",
            "Epoch 72 Batch 100 Loss 0.1074\n",
            "Epoch 72 Batch 200 Loss 0.1353\n",
            "Epoch 72 Batch 300 Loss 0.1401\n",
            "Epoch 72 Loss 0.1338\n",
            "Time taken for 1 epoch: 127.39709305763245 secs\n",
            "\n",
            "Epoch 73 Batch 0 Loss 0.0993\n",
            "Epoch 73 Batch 100 Loss 0.1052\n",
            "Epoch 73 Batch 200 Loss 0.1487\n",
            "Epoch 73 Batch 300 Loss 0.1180\n",
            "Epoch 73 Loss 0.1318\n",
            "Time taken for 1 epoch: 126.92325162887573 secs\n",
            "\n",
            "Epoch 74 Batch 0 Loss 0.1032\n",
            "Epoch 74 Batch 100 Loss 0.1069\n",
            "Epoch 74 Batch 200 Loss 0.1384\n",
            "Epoch 74 Batch 300 Loss 0.1475\n",
            "Epoch 74 Loss 0.1312\n",
            "Time taken for 1 epoch: 125.12885189056396 secs\n",
            "\n",
            "Epoch 75 Batch 0 Loss 0.0943\n",
            "Epoch 75 Batch 100 Loss 0.0968\n",
            "Epoch 75 Batch 200 Loss 0.1159\n",
            "Epoch 75 Batch 300 Loss 0.1569\n",
            "Epoch 75 Loss 0.1313\n",
            "Time taken for 1 epoch: 127.43796038627625 secs\n",
            "\n",
            "Epoch 76 Batch 0 Loss 0.0970\n",
            "Epoch 76 Batch 100 Loss 0.1102\n",
            "Epoch 76 Batch 200 Loss 0.1266\n",
            "Epoch 76 Batch 300 Loss 0.1878\n",
            "Epoch 76 Loss 0.1313\n",
            "Time taken for 1 epoch: 127.62864995002747 secs\n",
            "\n",
            "Epoch 77 Batch 0 Loss 0.0835\n",
            "Epoch 77 Batch 100 Loss 0.1121\n",
            "Epoch 77 Batch 200 Loss 0.1532\n",
            "Epoch 77 Batch 300 Loss 0.1508\n",
            "Epoch 77 Loss 0.1303\n",
            "Time taken for 1 epoch: 127.27934718132019 secs\n",
            "\n",
            "Epoch 78 Batch 0 Loss 0.1049\n",
            "Epoch 78 Batch 100 Loss 0.1190\n",
            "Epoch 78 Batch 200 Loss 0.1466\n",
            "Epoch 78 Batch 300 Loss 0.1191\n",
            "Epoch 78 Loss 0.1292\n",
            "Time taken for 1 epoch: 129.16098856925964 secs\n",
            "\n",
            "Epoch 79 Batch 0 Loss 0.0916\n",
            "Epoch 79 Batch 100 Loss 0.1342\n",
            "Epoch 79 Batch 200 Loss 0.1372\n",
            "Epoch 79 Batch 300 Loss 0.1548\n",
            "Epoch 79 Loss 0.1295\n",
            "Time taken for 1 epoch: 128.6686234474182 secs\n",
            "\n",
            "Epoch 80 Batch 0 Loss 0.0893\n",
            "Epoch 80 Batch 100 Loss 0.1706\n",
            "Epoch 80 Batch 200 Loss 0.1561\n",
            "Epoch 80 Batch 300 Loss 0.1328\n",
            "Epoch 80 Loss 0.1285\n",
            "Time taken for 1 epoch: 128.84454107284546 secs\n",
            "\n",
            "Epoch 81 Batch 0 Loss 0.1122\n",
            "Epoch 81 Batch 100 Loss 0.0897\n",
            "Epoch 81 Batch 200 Loss 0.1275\n",
            "Epoch 81 Batch 300 Loss 0.1355\n",
            "Epoch 81 Loss 0.1291\n",
            "Time taken for 1 epoch: 128.60444521903992 secs\n",
            "\n",
            "Epoch 82 Batch 0 Loss 0.0986\n",
            "Epoch 82 Batch 100 Loss 0.1004\n",
            "Epoch 82 Batch 200 Loss 0.1227\n",
            "Epoch 82 Batch 300 Loss 0.1472\n",
            "Epoch 82 Loss 0.1281\n",
            "Time taken for 1 epoch: 127.65727591514587 secs\n",
            "\n",
            "Epoch 83 Batch 0 Loss 0.1019\n",
            "Epoch 83 Batch 100 Loss 0.0984\n",
            "Epoch 83 Batch 200 Loss 0.1001\n",
            "Epoch 83 Batch 300 Loss 0.1662\n",
            "Epoch 83 Loss 0.1269\n",
            "Time taken for 1 epoch: 128.377503156662 secs\n",
            "\n",
            "Epoch 84 Batch 0 Loss 0.0949\n",
            "Epoch 84 Batch 100 Loss 0.1132\n",
            "Epoch 84 Batch 200 Loss 0.1199\n",
            "Epoch 84 Batch 300 Loss 0.1624\n",
            "Epoch 84 Loss 0.1258\n",
            "Time taken for 1 epoch: 125.34907913208008 secs\n",
            "\n",
            "Epoch 85 Batch 0 Loss 0.1009\n",
            "Epoch 85 Batch 100 Loss 0.0881\n",
            "Epoch 85 Batch 200 Loss 0.1363\n",
            "Epoch 85 Batch 300 Loss 0.1138\n",
            "Epoch 85 Loss 0.1261\n",
            "Time taken for 1 epoch: 127.31677961349487 secs\n",
            "\n",
            "Epoch 86 Batch 0 Loss 0.1258\n",
            "Epoch 86 Batch 100 Loss 0.0829\n",
            "Epoch 86 Batch 200 Loss 0.1253\n",
            "Epoch 86 Batch 300 Loss 0.1391\n",
            "Epoch 86 Loss 0.1265\n",
            "Time taken for 1 epoch: 127.38944458961487 secs\n",
            "\n",
            "Epoch 87 Batch 0 Loss 0.0875\n",
            "Epoch 87 Batch 100 Loss 0.0951\n",
            "Epoch 87 Batch 200 Loss 0.1230\n",
            "Epoch 87 Batch 300 Loss 0.1337\n",
            "Epoch 87 Loss 0.1272\n",
            "Time taken for 1 epoch: 127.6485641002655 secs\n",
            "\n",
            "Epoch 88 Batch 0 Loss 0.0940\n",
            "Epoch 88 Batch 100 Loss 0.1053\n",
            "Epoch 88 Batch 200 Loss 0.1040\n",
            "Epoch 88 Batch 300 Loss 0.1645\n",
            "Epoch 88 Loss 0.1270\n",
            "Time taken for 1 epoch: 127.93961071968079 secs\n",
            "\n",
            "Epoch 89 Batch 0 Loss 0.0899\n",
            "Epoch 89 Batch 100 Loss 0.1091\n",
            "Epoch 89 Batch 200 Loss 0.1155\n",
            "Epoch 89 Batch 300 Loss 0.1397\n",
            "Epoch 89 Loss 0.1259\n",
            "Time taken for 1 epoch: 126.85205864906311 secs\n",
            "\n",
            "Epoch 90 Batch 0 Loss 0.1103\n",
            "Epoch 90 Batch 100 Loss 0.1116\n",
            "Epoch 90 Batch 200 Loss 0.1118\n",
            "Epoch 90 Batch 300 Loss 0.1404\n",
            "Epoch 90 Loss 0.1240\n",
            "Time taken for 1 epoch: 127.18881154060364 secs\n",
            "\n",
            "Epoch 91 Batch 0 Loss 0.0806\n",
            "Epoch 91 Batch 100 Loss 0.0904\n",
            "Epoch 91 Batch 200 Loss 0.1397\n",
            "Epoch 91 Batch 300 Loss 0.1351\n",
            "Epoch 91 Loss 0.1240\n",
            "Time taken for 1 epoch: 127.39162254333496 secs\n",
            "\n",
            "Epoch 92 Batch 0 Loss 0.0855\n",
            "Epoch 92 Batch 100 Loss 0.1183\n",
            "Epoch 92 Batch 200 Loss 0.1215\n",
            "Epoch 92 Batch 300 Loss 0.1785\n",
            "Epoch 92 Loss 0.1254\n",
            "Time taken for 1 epoch: 127.9961268901825 secs\n",
            "\n",
            "Epoch 93 Batch 0 Loss 0.0851\n",
            "Epoch 93 Batch 100 Loss 0.0903\n",
            "Epoch 93 Batch 200 Loss 0.1507\n",
            "Epoch 93 Batch 300 Loss 0.1290\n",
            "Epoch 93 Loss 0.1241\n",
            "Time taken for 1 epoch: 127.6100070476532 secs\n",
            "\n",
            "Epoch 94 Batch 0 Loss 0.1037\n",
            "Epoch 94 Batch 100 Loss 0.0734\n",
            "Epoch 94 Batch 200 Loss 0.1135\n",
            "Epoch 94 Batch 300 Loss 0.1490\n",
            "Epoch 94 Loss 0.1237\n",
            "Time taken for 1 epoch: 126.29391646385193 secs\n",
            "\n",
            "Epoch 95 Batch 0 Loss 0.0788\n",
            "Epoch 95 Batch 100 Loss 0.1311\n",
            "Epoch 95 Batch 200 Loss 0.1393\n",
            "Epoch 95 Batch 300 Loss 0.2027\n",
            "Epoch 95 Loss 0.1232\n",
            "Time taken for 1 epoch: 127.1545979976654 secs\n",
            "\n",
            "Epoch 96 Batch 0 Loss 0.0953\n",
            "Epoch 96 Batch 100 Loss 0.0993\n",
            "Epoch 96 Batch 200 Loss 0.1419\n",
            "Epoch 96 Batch 300 Loss 0.1798\n",
            "Epoch 96 Loss 0.1242\n",
            "Time taken for 1 epoch: 127.75029993057251 secs\n",
            "\n",
            "Epoch 97 Batch 0 Loss 0.0814\n",
            "Epoch 97 Batch 100 Loss 0.1224\n",
            "Epoch 97 Batch 200 Loss 0.0994\n",
            "Epoch 97 Batch 300 Loss 0.1545\n",
            "Epoch 97 Loss 0.1243\n",
            "Time taken for 1 epoch: 128.4505910873413 secs\n",
            "\n",
            "Epoch 98 Batch 0 Loss 0.0575\n",
            "Epoch 98 Batch 100 Loss 0.1317\n",
            "Epoch 98 Batch 200 Loss 0.1270\n",
            "Epoch 98 Batch 300 Loss 0.1461\n",
            "Epoch 98 Loss 0.1237\n",
            "Time taken for 1 epoch: 128.39920949935913 secs\n",
            "\n",
            "Epoch 99 Batch 0 Loss 0.0825\n",
            "Epoch 99 Batch 100 Loss 0.1019\n",
            "Epoch 99 Batch 200 Loss 0.1717\n",
            "Epoch 99 Batch 300 Loss 0.1140\n",
            "Epoch 99 Loss 0.1221\n",
            "Time taken for 1 epoch: 128.1080367565155 secs\n",
            "\n",
            "Epoch 100 Batch 0 Loss 0.1076\n",
            "Epoch 100 Batch 100 Loss 0.1168\n",
            "Epoch 100 Batch 200 Loss 0.1148\n",
            "Epoch 100 Batch 300 Loss 0.1734\n",
            "Epoch 100 Loss 0.1215\n",
            "Time taken for 1 epoch: 128.397114276886 secs\n",
            "\n"
          ],
          "name": "stdout"
        }
      ]
    },
    {
      "cell_type": "markdown",
      "metadata": {
        "id": "LzqoGhNQTmCV"
      },
      "source": [
        "# Translate"
      ]
    },
    {
      "cell_type": "markdown",
      "metadata": {
        "id": "c97UK2h8Zf1R"
      },
      "source": [
        "Again almost the same code as Lab 5, compare the differences!"
      ]
    },
    {
      "cell_type": "code",
      "metadata": {
        "id": "CibZPkeRTBkb",
        "colab": {
          "base_uri": "https://localhost:8080/",
          "height": 35
        },
        "outputId": "92759c2a-f767-4599-e037-e9815e62b9e1"
      },
      "source": [
        "def translate(sentence, preprocess=True):\n",
        "  if preprocess:\n",
        "    sentence = preprocess_sentence(sentence)\n",
        "    input = en_tokenizer.texts_to_sequences([sentence])\n",
        "  else:\n",
        "    input = sentence\n",
        "  input = tf.convert_to_tensor(input)\n",
        "  \n",
        "  # as the target is German, the first word to the transformer should be the\n",
        "  # German start token\n",
        "  start_token = tf.convert_to_tensor([ge_tokenizer.word_index['<start>']])\n",
        "  start_token = tf.expand_dims(start_token, 0)\n",
        "\n",
        "  # And it should stop wiht the end token\n",
        "  end_token = tf.convert_to_tensor(ge_tokenizer.word_index['<end>'])\n",
        "  end_token = tf.expand_dims(end_token, 0)\n",
        "  \n",
        "  output = start_token\n",
        "  for i in range(max_length_output):\n",
        "    enc_padding_mask, dec_padding_mask, combined_mask, = create_masks(\n",
        "                                                          input, output)\n",
        "  \n",
        "    predictions = transformer(input, \n",
        "                              output,\n",
        "                              False,\n",
        "                              enc_padding_mask,\n",
        "                              dec_padding_mask,\n",
        "                              combined_mask\n",
        "                              )\n",
        "    \n",
        "    # select the last word from the seq_len dimension\n",
        "    predictions = predictions[: ,-1:, :]  # (batch_size, 1, vocab_size)\n",
        "\n",
        "    predicted_id = tf.cast(tf.argmax(predictions, axis=-1), tf.int32)\n",
        "    \n",
        "    # return the result if the predicted_id is equal to the end token\n",
        "    if predicted_id == end_token:\n",
        "      result = tf.squeeze(output, axis=0)\n",
        "      return ge_tokenizer.sequences_to_texts(output.numpy())[0]\n",
        "    \n",
        "    # concatentate the predicted_id to the output which is given to the decoder\n",
        "    # as its input.\n",
        "    output = tf.concat([output, predicted_id], axis=-1)\n",
        "\n",
        "  result = tf.squeeze(output, axis=0)\n",
        "  return ge_tokenizer.sequences_to_texts(output.numpy())[0]\n",
        "translate(\"I love you\")"
      ],
      "execution_count": null,
      "outputs": [
        {
          "output_type": "execute_result",
          "data": {
            "application/vnd.google.colaboratory.intrinsic+json": {
              "type": "string"
            },
            "text/plain": [
              "'<start> ich liebe dich .'"
            ]
          },
          "metadata": {
            "tags": []
          },
          "execution_count": 30
        }
      ]
    },
    {
      "cell_type": "code",
      "metadata": {
        "id": "nYtLGNIUZJA3",
        "colab": {
          "base_uri": "https://localhost:8080/",
          "height": 35
        },
        "outputId": "cb3c3c53-9ef2-450d-bb2d-121b52c2c099"
      },
      "source": [
        "translate(\"I want to kiss you!\")"
      ],
      "execution_count": null,
      "outputs": [
        {
          "output_type": "execute_result",
          "data": {
            "application/vnd.google.colaboratory.intrinsic+json": {
              "type": "string"
            },
            "text/plain": [
              "'<start> ich mochte dich kussen !'"
            ]
          },
          "metadata": {
            "tags": []
          },
          "execution_count": 32
        }
      ]
    },
    {
      "cell_type": "code",
      "metadata": {
        "id": "JwEsRzw_kGMP",
        "colab": {
          "base_uri": "https://localhost:8080/",
          "height": 35
        },
        "outputId": "ad1485bb-d67c-4098-ef2d-582deca4ab93"
      },
      "source": [
        "translate(\"I played the piano today\")"
      ],
      "execution_count": null,
      "outputs": [
        {
          "output_type": "execute_result",
          "data": {
            "application/vnd.google.colaboratory.intrinsic+json": {
              "type": "string"
            },
            "text/plain": [
              "'<start> ich habe das klavier gespielt .'"
            ]
          },
          "metadata": {
            "tags": []
          },
          "execution_count": 31
        }
      ]
    },
    {
      "cell_type": "code",
      "metadata": {
        "id": "L80wyIokZOL6",
        "colab": {
          "base_uri": "https://localhost:8080/",
          "height": 35
        },
        "outputId": "59e07fd4-b0cc-409a-8b20-076bc1b4ffbb"
      },
      "source": [
        "translate(\"The teacher was happy to train the language model\")"
      ],
      "execution_count": null,
      "outputs": [
        {
          "output_type": "execute_result",
          "data": {
            "application/vnd.google.colaboratory.intrinsic+json": {
              "type": "string"
            },
            "text/plain": [
              "'<start> der lehrer war glucklich .'"
            ]
          },
          "metadata": {
            "tags": []
          },
          "execution_count": 33
        }
      ]
    },
    {
      "cell_type": "markdown",
      "metadata": {
        "id": "zpqPHl0vc9G5"
      },
      "source": [
        "Same BLEU code"
      ]
    },
    {
      "cell_type": "code",
      "metadata": {
        "id": "KAokMMpZaNtT",
        "colab": {
          "base_uri": "https://localhost:8080/"
        },
        "outputId": "1b85981f-d020-41b1-d79d-da5d9828660d"
      },
      "source": [
        "from nltk.translate.bleu_score import sentence_bleu, SmoothingFunction\n",
        "\n",
        "bleu_scores = []\n",
        "smooth_fn = SmoothingFunction()\n",
        "\n",
        "for input, target in zip(X_test, Y_test):\n",
        "    original = ge_tokenizer.sequences_to_texts([target])[0]\n",
        "    predicted = translate([input], preprocess=False)\n",
        "    original = re.sub(\"(<end>)|(<start>)|\\?|!|\\.\", \"\", original)\n",
        "    predicted = re.sub(\"((<start>)|<end>)|\\?|!|\\.\", \"\", predicted)\n",
        "    original_tokens = original.strip().split(\" \")\n",
        "    predicted_tokens = predicted.strip().split(\" \")\n",
        "    score = sentence_bleu([original_tokens], predicted_tokens, \n",
        "                          smoothing_function=smooth_fn.method1)\n",
        "    bleu_scores.append(score)\n",
        "\n",
        "np.mean(np.array(bleu_scores)) * 100"
      ],
      "execution_count": null,
      "outputs": [
        {
          "output_type": "execute_result",
          "data": {
            "text/plain": [
              "33.880536735103796"
            ]
          },
          "metadata": {
            "tags": []
          },
          "execution_count": 34
        }
      ]
    },
    {
      "cell_type": "markdown",
      "metadata": {
        "id": "i07rCmP5ZwhB"
      },
      "source": [
        "The original Transformer paper used more tricks and higher dimensions:\n",
        "\n",
        "*   For tokenization, it uses the very famous technique of [Byte-Encoding](https://leimao.github.io/blog/Byte-Pair-Encoding/). We will talk next class about this.\n",
        "*   num_layers=6, embedding_dims = 512, expanded_dims = 2048\n",
        "* The complete WMT 2014 English-German dataset consisting of about 4.5 million sentence pairs\n",
        "* The paper averages the last k checkpoints to create an ensembling effect. \n",
        "\n"
      ]
    },
    {
      "cell_type": "markdown",
      "metadata": {
        "id": "APDPsejxah_K"
      },
      "source": [
        "# Continue Learning"
      ]
    },
    {
      "cell_type": "markdown",
      "metadata": {
        "id": "q72QdHV9akBk"
      },
      "source": [
        "## Transformer Block for text classification"
      ]
    },
    {
      "cell_type": "markdown",
      "metadata": {
        "id": "yuHiiq6PM-ky"
      },
      "source": [
        "We are going to reuse the Multi-head layer and create a single Transformer block (**Using only the Encoder part**) to classify positive/negative IMDB reviews.\n",
        "\n",
        "Same initialization as in Lab 4"
      ]
    },
    {
      "cell_type": "code",
      "metadata": {
        "id": "sxqM1GLlann2",
        "colab": {
          "base_uri": "https://localhost:8080/",
          "height": 374,
          "referenced_widgets": [
            "483aa901616c46fc9745c88183d4f5cf",
            "c389c505fe2347149e7d988aa387273d",
            "e431a9a9670e46458116c68787984deb",
            "e0b885153764401cb527d7b11a40d486",
            "2058e90e03764ea08b2e275f6f1ee116",
            "a679e90a74f04add8a43fdb87aca3d04",
            "a31c4f5cd2294cdfa5294079233c38c8",
            "bfee687532f64a249bc312f0cba4a1ce",
            "602ad4858383404880fb71189cc12df5",
            "97f68ea09f3f4847a1de789ebe9069fb",
            "f92ec1c6b8054909bf763cb46e731b04",
            "da36a6abeb9742e1a290d41b05c5a10d",
            "9f3bcb2bc3c9499580d195d7ee33b4eb",
            "c7bd796fd0d04d97b0e464f9eac6358a",
            "865219f3f89f4163aaa2a0c7bccef70d",
            "dea5577ea6aa4d728ee30dba2e18cbf1",
            "f5eb22a3351c4649bd8adacf8ca7c59d",
            "c029a5dc9011455aa933aeaf022a9337",
            "ddb1b2ff331c4b74b82a41251ce06726",
            "8354cbb229ff4544a02c78a6d86f9f2e",
            "24c1abbd5db64005b534c0c8bb4425c7",
            "a0a0d3c6a1524c828cb6a9e145dc5111",
            "53fc3ea6b2d04edbbe63e5201d413408",
            "c2faa2f085df448c8a1247f2ff8b6a9d",
            "f6e9d1fff5484fbfa47a83cb3b757fdb",
            "9588100fd24d4a0190198065b96efab0",
            "34f8683fcb7c4e0f9bd924395bd38bd2",
            "ddb83b23782841f88f98a978a3a3d98a",
            "bf9a379dcc84471cb3e24c1ef59e762e",
            "0c98b6aa4a054d73b4274630b50770c0",
            "0aea6ec172ad4cd09af8fcc220169e96",
            "4568a9742ea84040b8e7d8c875b13c9c",
            "b02d340d74504a84bab4fc5f2d2f0553",
            "6bdc3308756a464099a21ace9bf365a4",
            "a0113a975be449af89b07f32f387cee5",
            "051fc3f5a6274c77b2c3efd6b51467b4",
            "be97ca7b655c4c88a09c360abaeb5df6",
            "cf54ccd306d44c06995b11c4850f83f2",
            "b617ceb27b21443a82293c3fc5915e6a",
            "68e9a53015364782a83c71b1e5a6d742",
            "a317e22b046843839a1ff9ca60097827",
            "4e9bf14ee79e45178d0656db9e7ae100",
            "2979349818a24278ab74a898568574a2",
            "fa84001eb42e4c63b0ba0c14727e215e",
            "950c6ff1d7d84e1dbe48c0ab286dacb7",
            "88eb94af7d1a49f392f7a43d96ced7d8",
            "f32aaa0f86bc461a817a9bd768d38f6f",
            "26d28d62cc4a49efb14b2662feaab765",
            "d41986221f20476cbb77bdf000f2848a",
            "63c827b7b91c4467bef080e4d8fdacf4",
            "71fe80da9dcd45e58fb07a36c4504724",
            "e58f6c219e9d47e58532d9149b8cceec",
            "21b5b7d6f9794eb69097ab27211f7f4e",
            "30fd16c14dbb46578907545c4e293f4f",
            "f1bb2b83e2e74d5282dd7a29abad4731",
            "351ff032e727493bb09c7af1adc1f7cd",
            "b03d66ce18c44de19abfdd890d3fe728",
            "b645e456fc48434791030a5e4887e685",
            "7c5bf390e22e4caab42345a4abc1c274",
            "3f0b353eb0b84dc8a6f161c20f5b3d56",
            "5d78a65f4b8942d9b2dc5f142dbe04fa",
            "3fe3e9aa04e74c1f92c21dccf12d68dc",
            "2e45f6f3d13f4ba49239856ca749a08d",
            "bae52de318d7462bba38ccffb3190f8f"
          ]
        },
        "outputId": "04e46dc0-8663-4696-c963-5d64de6d8c75"
      },
      "source": [
        "import tensorflow_datasets as tfds\n",
        "\n",
        "train_data,  = tfds.load(\n",
        "    name=\"imdb_reviews\", \n",
        "    split=('train[:60%]', 'train[60%:]', 'test'),\n",
        "    as_supervised=True)\n",
        "\n",
        "max_sentence_size = 100\n",
        "vocabulary_size = 10000"
      ],
      "execution_count": null,
      "outputs": [
        {
          "output_type": "stream",
          "text": [
            "\u001b[1mDownloading and preparing dataset imdb_reviews/plain_text/1.0.0 (download: 80.23 MiB, generated: Unknown size, total: 80.23 MiB) to /root/tensorflow_datasets/imdb_reviews/plain_text/1.0.0...\u001b[0m\n"
          ],
          "name": "stdout"
        },
        {
          "output_type": "display_data",
          "data": {
            "application/vnd.jupyter.widget-view+json": {
              "model_id": "483aa901616c46fc9745c88183d4f5cf",
              "version_minor": 0,
              "version_major": 2
            },
            "text/plain": [
              "HBox(children=(FloatProgress(value=1.0, bar_style='info', description='Dl Completed...', max=1.0, style=Progre…"
            ]
          },
          "metadata": {
            "tags": []
          }
        },
        {
          "output_type": "display_data",
          "data": {
            "application/vnd.jupyter.widget-view+json": {
              "model_id": "602ad4858383404880fb71189cc12df5",
              "version_minor": 0,
              "version_major": 2
            },
            "text/plain": [
              "HBox(children=(FloatProgress(value=1.0, bar_style='info', description='Dl Size...', max=1.0, style=ProgressSty…"
            ]
          },
          "metadata": {
            "tags": []
          }
        },
        {
          "output_type": "stream",
          "text": [
            "\n",
            "\n",
            "\n",
            "\n"
          ],
          "name": "stdout"
        },
        {
          "output_type": "display_data",
          "data": {
            "application/vnd.jupyter.widget-view+json": {
              "model_id": "f5eb22a3351c4649bd8adacf8ca7c59d",
              "version_minor": 0,
              "version_major": 2
            },
            "text/plain": [
              "HBox(children=(FloatProgress(value=1.0, bar_style='info', max=1.0), HTML(value='')))"
            ]
          },
          "metadata": {
            "tags": []
          }
        },
        {
          "output_type": "stream",
          "text": [
            "\rShuffling and writing examples to /root/tensorflow_datasets/imdb_reviews/plain_text/1.0.0.incompleteTZCEEZ/imdb_reviews-train.tfrecord\n"
          ],
          "name": "stdout"
        },
        {
          "output_type": "display_data",
          "data": {
            "application/vnd.jupyter.widget-view+json": {
              "model_id": "f6e9d1fff5484fbfa47a83cb3b757fdb",
              "version_minor": 0,
              "version_major": 2
            },
            "text/plain": [
              "HBox(children=(FloatProgress(value=0.0, max=25000.0), HTML(value='')))"
            ]
          },
          "metadata": {
            "tags": []
          }
        },
        {
          "output_type": "stream",
          "text": [
            "\r"
          ],
          "name": "stdout"
        },
        {
          "output_type": "display_data",
          "data": {
            "application/vnd.jupyter.widget-view+json": {
              "model_id": "b02d340d74504a84bab4fc5f2d2f0553",
              "version_minor": 0,
              "version_major": 2
            },
            "text/plain": [
              "HBox(children=(FloatProgress(value=1.0, bar_style='info', max=1.0), HTML(value='')))"
            ]
          },
          "metadata": {
            "tags": []
          }
        },
        {
          "output_type": "stream",
          "text": [
            "\rShuffling and writing examples to /root/tensorflow_datasets/imdb_reviews/plain_text/1.0.0.incompleteTZCEEZ/imdb_reviews-test.tfrecord\n"
          ],
          "name": "stdout"
        },
        {
          "output_type": "display_data",
          "data": {
            "application/vnd.jupyter.widget-view+json": {
              "model_id": "a317e22b046843839a1ff9ca60097827",
              "version_minor": 0,
              "version_major": 2
            },
            "text/plain": [
              "HBox(children=(FloatProgress(value=0.0, max=25000.0), HTML(value='')))"
            ]
          },
          "metadata": {
            "tags": []
          }
        },
        {
          "output_type": "stream",
          "text": [
            "\r"
          ],
          "name": "stdout"
        },
        {
          "output_type": "display_data",
          "data": {
            "application/vnd.jupyter.widget-view+json": {
              "model_id": "d41986221f20476cbb77bdf000f2848a",
              "version_minor": 0,
              "version_major": 2
            },
            "text/plain": [
              "HBox(children=(FloatProgress(value=1.0, bar_style='info', max=1.0), HTML(value='')))"
            ]
          },
          "metadata": {
            "tags": []
          }
        },
        {
          "output_type": "stream",
          "text": [
            "\rShuffling and writing examples to /root/tensorflow_datasets/imdb_reviews/plain_text/1.0.0.incompleteTZCEEZ/imdb_reviews-unsupervised.tfrecord\n"
          ],
          "name": "stdout"
        },
        {
          "output_type": "display_data",
          "data": {
            "application/vnd.jupyter.widget-view+json": {
              "model_id": "b03d66ce18c44de19abfdd890d3fe728",
              "version_minor": 0,
              "version_major": 2
            },
            "text/plain": [
              "HBox(children=(FloatProgress(value=0.0, max=50000.0), HTML(value='')))"
            ]
          },
          "metadata": {
            "tags": []
          }
        },
        {
          "output_type": "stream",
          "text": [
            "WARNING:absl:Dataset is using deprecated text encoder API which will be removed soon. Please use the plain_text version of the dataset and migrate to `tensorflow_text`.\n"
          ],
          "name": "stderr"
        },
        {
          "output_type": "stream",
          "text": [
            "\u001b[1mDataset imdb_reviews downloaded and prepared to /root/tensorflow_datasets/imdb_reviews/plain_text/1.0.0. Subsequent calls will reuse this data.\u001b[0m\n",
            "\r"
          ],
          "name": "stdout"
        }
      ]
    },
    {
      "cell_type": "code",
      "metadata": {
        "id": "1FcSCSZeP4Yq"
      },
      "source": [
        "from tensorflow.keras.layers.experimental.preprocessing import TextVectorization\n",
        "\n",
        "vocabulary_size = 10000\n",
        "sentence_size = 100\n",
        "vectorize_layer = TextVectorization(max_tokens=vocabulary_size, output_sequence_length=sentence_size)\n",
        "train_text = train_data.map(lambda x, y: x)\n",
        "vectorize_layer.adapt(train_text)"
      ],
      "execution_count": null,
      "outputs": []
    },
    {
      "cell_type": "code",
      "metadata": {
        "id": "7bBuZJu6Qoe9"
      },
      "source": [
        "class TransformerBlock(tf.keras.layers.Layer):\n",
        "    def __init__(self, embedding_dims, num_heads, expanded_dims, rate=0.1):\n",
        "        super().__init__()\n",
        "        self.mha = MultiHeadAttention(embedding_dims, num_heads)\n",
        "        self.layernorm1 = tf.keras.layers.LayerNormalization(epsilon=1e-6)\n",
        "        self.dropout1 = tf.keras.layers.Dropout(rate)\n",
        "\n",
        "        self.ffn = pointwise_ffn(embedding_dims, expanded_dims)\n",
        "        self.layernorm2 = tf.keras.layers.LayerNormalization(epsilon=1e-6)\n",
        "        self.dropout2 = tf.keras.layers.Dropout(rate)\n",
        "\n",
        "    def call(self, x, training):\n",
        "        attn_output = self.mha(x, x, x, None)\n",
        "        attn_output = self.dropout1(attn_output, training=training)\n",
        "        out1 = self.layernorm1(x + attn_output)\n",
        "\n",
        "        ffn_output = self.ffn(out1)\n",
        "        ffn_output = self.dropout2(ffn_output, training=training)\n",
        "        return self.layernorm2(out1 + ffn_output) "
      ],
      "execution_count": null,
      "outputs": []
    },
    {
      "cell_type": "markdown",
      "metadata": {
        "id": "hk-5MB9RR5Sc"
      },
      "source": [
        "This time around let's try very simple positional embeddings for learning purposes! Simply use the position of the word"
      ]
    },
    {
      "cell_type": "code",
      "metadata": {
        "id": "Vv5uuB4UR2Fo"
      },
      "source": [
        "class TokenAndPositionEmbedding(tf.keras.layers.Layer):\n",
        "    def __init__(self, maxlen, vocabulary_size, embedding_dims):\n",
        "        super().__init__()\n",
        "        self.token_emb = tf.keras.layers.Embedding(vocabulary_size, embedding_dims)\n",
        "        self.pos_emb = tf.keras.layers.Embedding(input_dim=maxlen, output_dim=embedding_dims)\n",
        "\n",
        "    def call(self, x):\n",
        "        maxlen = tf.shape(x)[-1]\n",
        "        positions = tf.range(start=0, limit=maxlen, delta=1)\n",
        "        positions = self.pos_emb(positions)\n",
        "        x = self.token_emb(x)\n",
        "        return x + positions"
      ],
      "execution_count": null,
      "outputs": []
    },
    {
      "cell_type": "markdown",
      "metadata": {
        "id": "mycbcElViAY7"
      },
      "source": [
        "To build neural network models, the middle point between the Sequential API and the Subclass API is the Functional API. It has the same idea of initializing the Layer and then calling it with the previous parameter, but without working with classes.\n",
        "\n",
        "You need to specify input shapes!"
      ]
    },
    {
      "cell_type": "code",
      "metadata": {
        "id": "yVlCebeHQDLD"
      },
      "source": [
        "embedding_dims = 32  \n",
        "num_heads = 2  \n",
        "expanded_dims = 32  \n",
        "\n",
        "\n",
        "inputs = tf.keras.layers.Input(shape=(None,), dtype=tf.string)\n",
        "vectorizer = vectorize_layer(inputs)\n",
        "embedding_layer = TokenAndPositionEmbedding(max_sentence_size, vocabulary_size, embedding_dims)\n",
        "x = embedding_layer(vectorizer)\n",
        "transformer_block = TransformerBlock(embedding_dims, num_heads, expanded_dims)\n",
        "x = transformer_block(x)\n",
        "x = tf.keras.layers.GlobalAveragePooling1D()(x)\n",
        "x = tf.keras.layers.Dropout(0.1)(x)\n",
        "x = tf.keras.layers.Dense(20, activation=\"relu\")(x)\n",
        "x = tf.keras.layers.Dropout(0.1)(x)\n",
        "outputs = tf.keras.layers.Dense(1, activation=\"sigmoid\")(x)\n",
        "\n",
        "model = tf.keras.Model(inputs=inputs, outputs=outputs)"
      ],
      "execution_count": null,
      "outputs": []
    },
    {
      "cell_type": "code",
      "metadata": {
        "id": "X9QrCtMeUTFS"
      },
      "source": [
        "model.compile(optimizer='adam',\n",
        "              loss='BinaryCrossentropy',\n",
        "              metrics=['accuracy', 'Precision'])"
      ],
      "execution_count": null,
      "outputs": []
    },
    {
      "cell_type": "code",
      "metadata": {
        "id": "iTppXT3Tg6uL",
        "colab": {
          "base_uri": "https://localhost:8080/"
        },
        "outputId": "4f4158a1-8180-41ce-b9ee-ec7f105063d9"
      },
      "source": [
        "early_stopping_cb = tf.keras.callbacks.EarlyStopping(patience=3, restore_best_weights=True)\n",
        "history = model.fit(train_data.batch(512), epochs=10, \n",
        "                    validation_data=validation_data.batch(512), \n",
        "                    callbacks=[early_stopping_cb])"
      ],
      "execution_count": null,
      "outputs": [
        {
          "output_type": "stream",
          "text": [
            "Epoch 1/10\n",
            "30/30 [==============================] - 16s 527ms/step - loss: 0.6632 - accuracy: 0.5937 - precision: 0.5912 - val_loss: 0.5770 - val_accuracy: 0.7331 - val_precision: 0.7797\n",
            "Epoch 2/10\n",
            "30/30 [==============================] - 15s 512ms/step - loss: 0.4691 - accuracy: 0.7926 - precision: 0.7917 - val_loss: 0.4569 - val_accuracy: 0.7836 - val_precision: 0.8753\n",
            "Epoch 3/10\n",
            "30/30 [==============================] - 15s 512ms/step - loss: 0.3272 - accuracy: 0.8654 - precision: 0.8674 - val_loss: 0.4048 - val_accuracy: 0.8244 - val_precision: 0.8294\n",
            "Epoch 4/10\n",
            "30/30 [==============================] - 15s 511ms/step - loss: 0.2405 - accuracy: 0.9096 - precision: 0.9104 - val_loss: 0.4394 - val_accuracy: 0.8222 - val_precision: 0.8086\n",
            "Epoch 5/10\n",
            "30/30 [==============================] - 15s 508ms/step - loss: 0.2261 - accuracy: 0.9153 - precision: 0.9097 - val_loss: 0.7121 - val_accuracy: 0.7346 - val_precision: 0.9213\n",
            "Epoch 6/10\n",
            "30/30 [==============================] - 15s 512ms/step - loss: 0.2296 - accuracy: 0.9075 - precision: 0.9108 - val_loss: 0.4639 - val_accuracy: 0.8187 - val_precision: 0.8275\n"
          ],
          "name": "stdout"
        }
      ]
    },
    {
      "cell_type": "code",
      "metadata": {
        "id": "OFqXCVKOhqY7",
        "colab": {
          "base_uri": "https://localhost:8080/"
        },
        "outputId": "559b3dd2-85cb-419b-9f74-0510a710e72b"
      },
      "source": [
        "model.evaluate(test_data.batch(512))"
      ],
      "execution_count": null,
      "outputs": [
        {
          "output_type": "stream",
          "text": [
            "49/49 [==============================] - 8s 170ms/step - loss: 0.4310 - accuracy: 0.8078 - precision: 0.8234\n"
          ],
          "name": "stdout"
        },
        {
          "output_type": "execute_result",
          "data": {
            "text/plain": [
              "[0.4310370981693268, 0.8078399896621704, 0.823361337184906]"
            ]
          },
          "metadata": {
            "tags": []
          },
          "execution_count": 109
        }
      ]
    },
    {
      "cell_type": "markdown",
      "metadata": {
        "id": "BZJ0x80RnJiC"
      },
      "source": [
        "Same accuracy as the simple FNN from Lab 4. Why?? Back then we used pretrained GloVe embeddings. Here without pre-trained embeddings in few epochs we get the same results. Actually not bad at all for a baby transformer.\n",
        "\n",
        "How to make it better? Use pre-trained Transformer embeddings from a huge model (GPT/BERT...) + a simple FNN.\n",
        "\n",
        "We will do this in the next two weeks, let's see if we get lucky and get better results"
      ]
    },
    {
      "cell_type": "markdown",
      "metadata": {
        "id": "0ydWKmqAlXMa"
      },
      "source": [
        "Note: We included the padded tokens in the attention layer. It would be better to mask them as we did in the Transformer code. Try to implement it and see if the accuracy increases!"
      ]
    },
    {
      "cell_type": "code",
      "metadata": {
        "id": "lJwOCo8cljE4"
      },
      "source": [
        ""
      ],
      "execution_count": null,
      "outputs": []
    }
  ]
}