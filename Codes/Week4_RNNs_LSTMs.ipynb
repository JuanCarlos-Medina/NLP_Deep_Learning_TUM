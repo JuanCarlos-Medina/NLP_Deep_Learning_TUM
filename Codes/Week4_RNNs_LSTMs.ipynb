{
  "nbformat": 4,
  "nbformat_minor": 0,
  "metadata": {
    "colab": {
      "name": "Week4_RNNs_LSTMs___.ipynb",
      "provenance": [],
      "collapsed_sections": [],
      "toc_visible": true
    },
    "kernelspec": {
      "name": "python3",
      "display_name": "Python 3"
    },
    "accelerator": "GPU",
    "widgets": {
      "application/vnd.jupyter.widget-state+json": {
        "188ebece67034135b34837e388701a49": {
          "model_module": "@jupyter-widgets/controls",
          "model_name": "HBoxModel",
          "state": {
            "_view_name": "HBoxView",
            "_dom_classes": [],
            "_model_name": "HBoxModel",
            "_view_module": "@jupyter-widgets/controls",
            "_model_module_version": "1.5.0",
            "_view_count": null,
            "_view_module_version": "1.5.0",
            "box_style": "",
            "layout": "IPY_MODEL_78425c60b9a44b60b597680ba735efc0",
            "_model_module": "@jupyter-widgets/controls",
            "children": [
              "IPY_MODEL_b2ecca19a1d441869f5b3231bdf19721",
              "IPY_MODEL_c844e852b912447896409798b97c27b1"
            ]
          }
        },
        "78425c60b9a44b60b597680ba735efc0": {
          "model_module": "@jupyter-widgets/base",
          "model_name": "LayoutModel",
          "state": {
            "_view_name": "LayoutView",
            "grid_template_rows": null,
            "right": null,
            "justify_content": null,
            "_view_module": "@jupyter-widgets/base",
            "overflow": null,
            "_model_module_version": "1.2.0",
            "_view_count": null,
            "flex_flow": null,
            "width": null,
            "min_width": null,
            "border": null,
            "align_items": null,
            "bottom": null,
            "_model_module": "@jupyter-widgets/base",
            "top": null,
            "grid_column": null,
            "overflow_y": null,
            "overflow_x": null,
            "grid_auto_flow": null,
            "grid_area": null,
            "grid_template_columns": null,
            "flex": null,
            "_model_name": "LayoutModel",
            "justify_items": null,
            "grid_row": null,
            "max_height": null,
            "align_content": null,
            "visibility": null,
            "align_self": null,
            "height": null,
            "min_height": null,
            "padding": null,
            "grid_auto_rows": null,
            "grid_gap": null,
            "max_width": null,
            "order": null,
            "_view_module_version": "1.2.0",
            "grid_template_areas": null,
            "object_position": null,
            "object_fit": null,
            "grid_auto_columns": null,
            "margin": null,
            "display": null,
            "left": null
          }
        },
        "b2ecca19a1d441869f5b3231bdf19721": {
          "model_module": "@jupyter-widgets/controls",
          "model_name": "FloatProgressModel",
          "state": {
            "_view_name": "ProgressView",
            "style": "IPY_MODEL_f7568359aa9b412ba200e812e74098bf",
            "_dom_classes": [],
            "description": "Dl Completed...: 100%",
            "_model_name": "FloatProgressModel",
            "bar_style": "success",
            "max": 1,
            "_view_module": "@jupyter-widgets/controls",
            "_model_module_version": "1.5.0",
            "value": 1,
            "_view_count": null,
            "_view_module_version": "1.5.0",
            "orientation": "horizontal",
            "min": 0,
            "description_tooltip": null,
            "_model_module": "@jupyter-widgets/controls",
            "layout": "IPY_MODEL_f513cb8efcbc47cdbbafa2112cedfe41"
          }
        },
        "c844e852b912447896409798b97c27b1": {
          "model_module": "@jupyter-widgets/controls",
          "model_name": "HTMLModel",
          "state": {
            "_view_name": "HTMLView",
            "style": "IPY_MODEL_78b8f5b7ca624feeb9a81deb1dcf5979",
            "_dom_classes": [],
            "description": "",
            "_model_name": "HTMLModel",
            "placeholder": "​",
            "_view_module": "@jupyter-widgets/controls",
            "_model_module_version": "1.5.0",
            "value": " 1/1 [00:04&lt;00:00,  4.08s/ url]",
            "_view_count": null,
            "_view_module_version": "1.5.0",
            "description_tooltip": null,
            "_model_module": "@jupyter-widgets/controls",
            "layout": "IPY_MODEL_0c93222d996844c28424e763be1135fe"
          }
        },
        "f7568359aa9b412ba200e812e74098bf": {
          "model_module": "@jupyter-widgets/controls",
          "model_name": "ProgressStyleModel",
          "state": {
            "_view_name": "StyleView",
            "_model_name": "ProgressStyleModel",
            "description_width": "initial",
            "_view_module": "@jupyter-widgets/base",
            "_model_module_version": "1.5.0",
            "_view_count": null,
            "_view_module_version": "1.2.0",
            "bar_color": null,
            "_model_module": "@jupyter-widgets/controls"
          }
        },
        "f513cb8efcbc47cdbbafa2112cedfe41": {
          "model_module": "@jupyter-widgets/base",
          "model_name": "LayoutModel",
          "state": {
            "_view_name": "LayoutView",
            "grid_template_rows": null,
            "right": null,
            "justify_content": null,
            "_view_module": "@jupyter-widgets/base",
            "overflow": null,
            "_model_module_version": "1.2.0",
            "_view_count": null,
            "flex_flow": null,
            "width": null,
            "min_width": null,
            "border": null,
            "align_items": null,
            "bottom": null,
            "_model_module": "@jupyter-widgets/base",
            "top": null,
            "grid_column": null,
            "overflow_y": null,
            "overflow_x": null,
            "grid_auto_flow": null,
            "grid_area": null,
            "grid_template_columns": null,
            "flex": null,
            "_model_name": "LayoutModel",
            "justify_items": null,
            "grid_row": null,
            "max_height": null,
            "align_content": null,
            "visibility": null,
            "align_self": null,
            "height": null,
            "min_height": null,
            "padding": null,
            "grid_auto_rows": null,
            "grid_gap": null,
            "max_width": null,
            "order": null,
            "_view_module_version": "1.2.0",
            "grid_template_areas": null,
            "object_position": null,
            "object_fit": null,
            "grid_auto_columns": null,
            "margin": null,
            "display": null,
            "left": null
          }
        },
        "78b8f5b7ca624feeb9a81deb1dcf5979": {
          "model_module": "@jupyter-widgets/controls",
          "model_name": "DescriptionStyleModel",
          "state": {
            "_view_name": "StyleView",
            "_model_name": "DescriptionStyleModel",
            "description_width": "",
            "_view_module": "@jupyter-widgets/base",
            "_model_module_version": "1.5.0",
            "_view_count": null,
            "_view_module_version": "1.2.0",
            "_model_module": "@jupyter-widgets/controls"
          }
        },
        "0c93222d996844c28424e763be1135fe": {
          "model_module": "@jupyter-widgets/base",
          "model_name": "LayoutModel",
          "state": {
            "_view_name": "LayoutView",
            "grid_template_rows": null,
            "right": null,
            "justify_content": null,
            "_view_module": "@jupyter-widgets/base",
            "overflow": null,
            "_model_module_version": "1.2.0",
            "_view_count": null,
            "flex_flow": null,
            "width": null,
            "min_width": null,
            "border": null,
            "align_items": null,
            "bottom": null,
            "_model_module": "@jupyter-widgets/base",
            "top": null,
            "grid_column": null,
            "overflow_y": null,
            "overflow_x": null,
            "grid_auto_flow": null,
            "grid_area": null,
            "grid_template_columns": null,
            "flex": null,
            "_model_name": "LayoutModel",
            "justify_items": null,
            "grid_row": null,
            "max_height": null,
            "align_content": null,
            "visibility": null,
            "align_self": null,
            "height": null,
            "min_height": null,
            "padding": null,
            "grid_auto_rows": null,
            "grid_gap": null,
            "max_width": null,
            "order": null,
            "_view_module_version": "1.2.0",
            "grid_template_areas": null,
            "object_position": null,
            "object_fit": null,
            "grid_auto_columns": null,
            "margin": null,
            "display": null,
            "left": null
          }
        },
        "dc5d0fa231fc45769e5a0452dd161115": {
          "model_module": "@jupyter-widgets/controls",
          "model_name": "HBoxModel",
          "state": {
            "_view_name": "HBoxView",
            "_dom_classes": [],
            "_model_name": "HBoxModel",
            "_view_module": "@jupyter-widgets/controls",
            "_model_module_version": "1.5.0",
            "_view_count": null,
            "_view_module_version": "1.5.0",
            "box_style": "",
            "layout": "IPY_MODEL_418803c72e9a45b695d7a626d474be08",
            "_model_module": "@jupyter-widgets/controls",
            "children": [
              "IPY_MODEL_290b87f63f5b428ea244b7a483ca14f8",
              "IPY_MODEL_0bfb892b4a974c6083a10a4a08edc8fd"
            ]
          }
        },
        "418803c72e9a45b695d7a626d474be08": {
          "model_module": "@jupyter-widgets/base",
          "model_name": "LayoutModel",
          "state": {
            "_view_name": "LayoutView",
            "grid_template_rows": null,
            "right": null,
            "justify_content": null,
            "_view_module": "@jupyter-widgets/base",
            "overflow": null,
            "_model_module_version": "1.2.0",
            "_view_count": null,
            "flex_flow": null,
            "width": null,
            "min_width": null,
            "border": null,
            "align_items": null,
            "bottom": null,
            "_model_module": "@jupyter-widgets/base",
            "top": null,
            "grid_column": null,
            "overflow_y": null,
            "overflow_x": null,
            "grid_auto_flow": null,
            "grid_area": null,
            "grid_template_columns": null,
            "flex": null,
            "_model_name": "LayoutModel",
            "justify_items": null,
            "grid_row": null,
            "max_height": null,
            "align_content": null,
            "visibility": null,
            "align_self": null,
            "height": null,
            "min_height": null,
            "padding": null,
            "grid_auto_rows": null,
            "grid_gap": null,
            "max_width": null,
            "order": null,
            "_view_module_version": "1.2.0",
            "grid_template_areas": null,
            "object_position": null,
            "object_fit": null,
            "grid_auto_columns": null,
            "margin": null,
            "display": null,
            "left": null
          }
        },
        "290b87f63f5b428ea244b7a483ca14f8": {
          "model_module": "@jupyter-widgets/controls",
          "model_name": "FloatProgressModel",
          "state": {
            "_view_name": "ProgressView",
            "style": "IPY_MODEL_33916a2ba41d47e9a73a8651d66ae82a",
            "_dom_classes": [],
            "description": "Dl Size...: 100%",
            "_model_name": "FloatProgressModel",
            "bar_style": "success",
            "max": 1,
            "_view_module": "@jupyter-widgets/controls",
            "_model_module_version": "1.5.0",
            "value": 1,
            "_view_count": null,
            "_view_module_version": "1.5.0",
            "orientation": "horizontal",
            "min": 0,
            "description_tooltip": null,
            "_model_module": "@jupyter-widgets/controls",
            "layout": "IPY_MODEL_83c534bcbb8b46ecb1bbd7024c11c45d"
          }
        },
        "0bfb892b4a974c6083a10a4a08edc8fd": {
          "model_module": "@jupyter-widgets/controls",
          "model_name": "HTMLModel",
          "state": {
            "_view_name": "HTMLView",
            "style": "IPY_MODEL_e7fb400d0c87467784eebb047dd7bca6",
            "_dom_classes": [],
            "description": "",
            "_model_name": "HTMLModel",
            "placeholder": "​",
            "_view_module": "@jupyter-widgets/controls",
            "_model_module_version": "1.5.0",
            "value": " 80/80 [00:04&lt;00:00, 19.80 MiB/s]",
            "_view_count": null,
            "_view_module_version": "1.5.0",
            "description_tooltip": null,
            "_model_module": "@jupyter-widgets/controls",
            "layout": "IPY_MODEL_ab63008db6e848abb87586930b266aa2"
          }
        },
        "33916a2ba41d47e9a73a8651d66ae82a": {
          "model_module": "@jupyter-widgets/controls",
          "model_name": "ProgressStyleModel",
          "state": {
            "_view_name": "StyleView",
            "_model_name": "ProgressStyleModel",
            "description_width": "initial",
            "_view_module": "@jupyter-widgets/base",
            "_model_module_version": "1.5.0",
            "_view_count": null,
            "_view_module_version": "1.2.0",
            "bar_color": null,
            "_model_module": "@jupyter-widgets/controls"
          }
        },
        "83c534bcbb8b46ecb1bbd7024c11c45d": {
          "model_module": "@jupyter-widgets/base",
          "model_name": "LayoutModel",
          "state": {
            "_view_name": "LayoutView",
            "grid_template_rows": null,
            "right": null,
            "justify_content": null,
            "_view_module": "@jupyter-widgets/base",
            "overflow": null,
            "_model_module_version": "1.2.0",
            "_view_count": null,
            "flex_flow": null,
            "width": null,
            "min_width": null,
            "border": null,
            "align_items": null,
            "bottom": null,
            "_model_module": "@jupyter-widgets/base",
            "top": null,
            "grid_column": null,
            "overflow_y": null,
            "overflow_x": null,
            "grid_auto_flow": null,
            "grid_area": null,
            "grid_template_columns": null,
            "flex": null,
            "_model_name": "LayoutModel",
            "justify_items": null,
            "grid_row": null,
            "max_height": null,
            "align_content": null,
            "visibility": null,
            "align_self": null,
            "height": null,
            "min_height": null,
            "padding": null,
            "grid_auto_rows": null,
            "grid_gap": null,
            "max_width": null,
            "order": null,
            "_view_module_version": "1.2.0",
            "grid_template_areas": null,
            "object_position": null,
            "object_fit": null,
            "grid_auto_columns": null,
            "margin": null,
            "display": null,
            "left": null
          }
        },
        "e7fb400d0c87467784eebb047dd7bca6": {
          "model_module": "@jupyter-widgets/controls",
          "model_name": "DescriptionStyleModel",
          "state": {
            "_view_name": "StyleView",
            "_model_name": "DescriptionStyleModel",
            "description_width": "",
            "_view_module": "@jupyter-widgets/base",
            "_model_module_version": "1.5.0",
            "_view_count": null,
            "_view_module_version": "1.2.0",
            "_model_module": "@jupyter-widgets/controls"
          }
        },
        "ab63008db6e848abb87586930b266aa2": {
          "model_module": "@jupyter-widgets/base",
          "model_name": "LayoutModel",
          "state": {
            "_view_name": "LayoutView",
            "grid_template_rows": null,
            "right": null,
            "justify_content": null,
            "_view_module": "@jupyter-widgets/base",
            "overflow": null,
            "_model_module_version": "1.2.0",
            "_view_count": null,
            "flex_flow": null,
            "width": null,
            "min_width": null,
            "border": null,
            "align_items": null,
            "bottom": null,
            "_model_module": "@jupyter-widgets/base",
            "top": null,
            "grid_column": null,
            "overflow_y": null,
            "overflow_x": null,
            "grid_auto_flow": null,
            "grid_area": null,
            "grid_template_columns": null,
            "flex": null,
            "_model_name": "LayoutModel",
            "justify_items": null,
            "grid_row": null,
            "max_height": null,
            "align_content": null,
            "visibility": null,
            "align_self": null,
            "height": null,
            "min_height": null,
            "padding": null,
            "grid_auto_rows": null,
            "grid_gap": null,
            "max_width": null,
            "order": null,
            "_view_module_version": "1.2.0",
            "grid_template_areas": null,
            "object_position": null,
            "object_fit": null,
            "grid_auto_columns": null,
            "margin": null,
            "display": null,
            "left": null
          }
        },
        "e9ec2d20a0d346509d5f693bac7573e2": {
          "model_module": "@jupyter-widgets/controls",
          "model_name": "HBoxModel",
          "state": {
            "_view_name": "HBoxView",
            "_dom_classes": [],
            "_model_name": "HBoxModel",
            "_view_module": "@jupyter-widgets/controls",
            "_model_module_version": "1.5.0",
            "_view_count": null,
            "_view_module_version": "1.5.0",
            "box_style": "",
            "layout": "IPY_MODEL_7269517c6d23476ea2f7360b09076131",
            "_model_module": "@jupyter-widgets/controls",
            "children": [
              "IPY_MODEL_d7505eeef3a14dcb83e16dcf2b33ce90",
              "IPY_MODEL_e81653a8fe6641399fcd783212792bd4"
            ]
          }
        },
        "7269517c6d23476ea2f7360b09076131": {
          "model_module": "@jupyter-widgets/base",
          "model_name": "LayoutModel",
          "state": {
            "_view_name": "LayoutView",
            "grid_template_rows": null,
            "right": null,
            "justify_content": null,
            "_view_module": "@jupyter-widgets/base",
            "overflow": null,
            "_model_module_version": "1.2.0",
            "_view_count": null,
            "flex_flow": null,
            "width": null,
            "min_width": null,
            "border": null,
            "align_items": null,
            "bottom": null,
            "_model_module": "@jupyter-widgets/base",
            "top": null,
            "grid_column": null,
            "overflow_y": null,
            "overflow_x": null,
            "grid_auto_flow": null,
            "grid_area": null,
            "grid_template_columns": null,
            "flex": null,
            "_model_name": "LayoutModel",
            "justify_items": null,
            "grid_row": null,
            "max_height": null,
            "align_content": null,
            "visibility": null,
            "align_self": null,
            "height": null,
            "min_height": null,
            "padding": null,
            "grid_auto_rows": null,
            "grid_gap": null,
            "max_width": null,
            "order": null,
            "_view_module_version": "1.2.0",
            "grid_template_areas": null,
            "object_position": null,
            "object_fit": null,
            "grid_auto_columns": null,
            "margin": null,
            "display": null,
            "left": null
          }
        },
        "d7505eeef3a14dcb83e16dcf2b33ce90": {
          "model_module": "@jupyter-widgets/controls",
          "model_name": "FloatProgressModel",
          "state": {
            "_view_name": "ProgressView",
            "style": "IPY_MODEL_ef675c351f6246ed95485ebcfd7fef0f",
            "_dom_classes": [],
            "description": "",
            "_model_name": "FloatProgressModel",
            "bar_style": "info",
            "max": 1,
            "_view_module": "@jupyter-widgets/controls",
            "_model_module_version": "1.5.0",
            "value": 1,
            "_view_count": null,
            "_view_module_version": "1.5.0",
            "orientation": "horizontal",
            "min": 0,
            "description_tooltip": null,
            "_model_module": "@jupyter-widgets/controls",
            "layout": "IPY_MODEL_4fb4051cfe794870b8b0b3d635db6dbb"
          }
        },
        "e81653a8fe6641399fcd783212792bd4": {
          "model_module": "@jupyter-widgets/controls",
          "model_name": "HTMLModel",
          "state": {
            "_view_name": "HTMLView",
            "style": "IPY_MODEL_52878744c71944a09659882288142333",
            "_dom_classes": [],
            "description": "",
            "_model_name": "HTMLModel",
            "placeholder": "​",
            "_view_module": "@jupyter-widgets/controls",
            "_model_module_version": "1.5.0",
            "value": " 25000/0 [00:14&lt;00:00, 2868.63 examples/s]",
            "_view_count": null,
            "_view_module_version": "1.5.0",
            "description_tooltip": null,
            "_model_module": "@jupyter-widgets/controls",
            "layout": "IPY_MODEL_44156e8246db4fd6ab6dffc98949b187"
          }
        },
        "ef675c351f6246ed95485ebcfd7fef0f": {
          "model_module": "@jupyter-widgets/controls",
          "model_name": "ProgressStyleModel",
          "state": {
            "_view_name": "StyleView",
            "_model_name": "ProgressStyleModel",
            "description_width": "initial",
            "_view_module": "@jupyter-widgets/base",
            "_model_module_version": "1.5.0",
            "_view_count": null,
            "_view_module_version": "1.2.0",
            "bar_color": null,
            "_model_module": "@jupyter-widgets/controls"
          }
        },
        "4fb4051cfe794870b8b0b3d635db6dbb": {
          "model_module": "@jupyter-widgets/base",
          "model_name": "LayoutModel",
          "state": {
            "_view_name": "LayoutView",
            "grid_template_rows": null,
            "right": null,
            "justify_content": null,
            "_view_module": "@jupyter-widgets/base",
            "overflow": null,
            "_model_module_version": "1.2.0",
            "_view_count": null,
            "flex_flow": null,
            "width": null,
            "min_width": null,
            "border": null,
            "align_items": null,
            "bottom": null,
            "_model_module": "@jupyter-widgets/base",
            "top": null,
            "grid_column": null,
            "overflow_y": null,
            "overflow_x": null,
            "grid_auto_flow": null,
            "grid_area": null,
            "grid_template_columns": null,
            "flex": null,
            "_model_name": "LayoutModel",
            "justify_items": null,
            "grid_row": null,
            "max_height": null,
            "align_content": null,
            "visibility": null,
            "align_self": null,
            "height": null,
            "min_height": null,
            "padding": null,
            "grid_auto_rows": null,
            "grid_gap": null,
            "max_width": null,
            "order": null,
            "_view_module_version": "1.2.0",
            "grid_template_areas": null,
            "object_position": null,
            "object_fit": null,
            "grid_auto_columns": null,
            "margin": null,
            "display": null,
            "left": null
          }
        },
        "52878744c71944a09659882288142333": {
          "model_module": "@jupyter-widgets/controls",
          "model_name": "DescriptionStyleModel",
          "state": {
            "_view_name": "StyleView",
            "_model_name": "DescriptionStyleModel",
            "description_width": "",
            "_view_module": "@jupyter-widgets/base",
            "_model_module_version": "1.5.0",
            "_view_count": null,
            "_view_module_version": "1.2.0",
            "_model_module": "@jupyter-widgets/controls"
          }
        },
        "44156e8246db4fd6ab6dffc98949b187": {
          "model_module": "@jupyter-widgets/base",
          "model_name": "LayoutModel",
          "state": {
            "_view_name": "LayoutView",
            "grid_template_rows": null,
            "right": null,
            "justify_content": null,
            "_view_module": "@jupyter-widgets/base",
            "overflow": null,
            "_model_module_version": "1.2.0",
            "_view_count": null,
            "flex_flow": null,
            "width": null,
            "min_width": null,
            "border": null,
            "align_items": null,
            "bottom": null,
            "_model_module": "@jupyter-widgets/base",
            "top": null,
            "grid_column": null,
            "overflow_y": null,
            "overflow_x": null,
            "grid_auto_flow": null,
            "grid_area": null,
            "grid_template_columns": null,
            "flex": null,
            "_model_name": "LayoutModel",
            "justify_items": null,
            "grid_row": null,
            "max_height": null,
            "align_content": null,
            "visibility": null,
            "align_self": null,
            "height": null,
            "min_height": null,
            "padding": null,
            "grid_auto_rows": null,
            "grid_gap": null,
            "max_width": null,
            "order": null,
            "_view_module_version": "1.2.0",
            "grid_template_areas": null,
            "object_position": null,
            "object_fit": null,
            "grid_auto_columns": null,
            "margin": null,
            "display": null,
            "left": null
          }
        },
        "1332b1d446124f6b92749e63a0ad0a41": {
          "model_module": "@jupyter-widgets/controls",
          "model_name": "HBoxModel",
          "state": {
            "_view_name": "HBoxView",
            "_dom_classes": [],
            "_model_name": "HBoxModel",
            "_view_module": "@jupyter-widgets/controls",
            "_model_module_version": "1.5.0",
            "_view_count": null,
            "_view_module_version": "1.5.0",
            "box_style": "",
            "layout": "IPY_MODEL_201b52e65cac4a01b35bc61a9a30e664",
            "_model_module": "@jupyter-widgets/controls",
            "children": [
              "IPY_MODEL_cd495da7e7554a6e990cae0c8ead397e",
              "IPY_MODEL_042bb3e14aaf41fc8fca9e0783e163e9"
            ]
          }
        },
        "201b52e65cac4a01b35bc61a9a30e664": {
          "model_module": "@jupyter-widgets/base",
          "model_name": "LayoutModel",
          "state": {
            "_view_name": "LayoutView",
            "grid_template_rows": null,
            "right": null,
            "justify_content": null,
            "_view_module": "@jupyter-widgets/base",
            "overflow": null,
            "_model_module_version": "1.2.0",
            "_view_count": null,
            "flex_flow": null,
            "width": null,
            "min_width": null,
            "border": null,
            "align_items": null,
            "bottom": null,
            "_model_module": "@jupyter-widgets/base",
            "top": null,
            "grid_column": null,
            "overflow_y": null,
            "overflow_x": null,
            "grid_auto_flow": null,
            "grid_area": null,
            "grid_template_columns": null,
            "flex": null,
            "_model_name": "LayoutModel",
            "justify_items": null,
            "grid_row": null,
            "max_height": null,
            "align_content": null,
            "visibility": null,
            "align_self": null,
            "height": null,
            "min_height": null,
            "padding": null,
            "grid_auto_rows": null,
            "grid_gap": null,
            "max_width": null,
            "order": null,
            "_view_module_version": "1.2.0",
            "grid_template_areas": null,
            "object_position": null,
            "object_fit": null,
            "grid_auto_columns": null,
            "margin": null,
            "display": null,
            "left": null
          }
        },
        "cd495da7e7554a6e990cae0c8ead397e": {
          "model_module": "@jupyter-widgets/controls",
          "model_name": "FloatProgressModel",
          "state": {
            "_view_name": "ProgressView",
            "style": "IPY_MODEL_b50bb463158f42d2b177db839fd8ade6",
            "_dom_classes": [],
            "description": " 28%",
            "_model_name": "FloatProgressModel",
            "bar_style": "danger",
            "max": 25000,
            "_view_module": "@jupyter-widgets/controls",
            "_model_module_version": "1.5.0",
            "value": 6965,
            "_view_count": null,
            "_view_module_version": "1.5.0",
            "orientation": "horizontal",
            "min": 0,
            "description_tooltip": null,
            "_model_module": "@jupyter-widgets/controls",
            "layout": "IPY_MODEL_fe6ea9db12ae44c29888eeed8bd35ee6"
          }
        },
        "042bb3e14aaf41fc8fca9e0783e163e9": {
          "model_module": "@jupyter-widgets/controls",
          "model_name": "HTMLModel",
          "state": {
            "_view_name": "HTMLView",
            "style": "IPY_MODEL_2056ba125b584265bf77671e9c60dfc3",
            "_dom_classes": [],
            "description": "",
            "_model_name": "HTMLModel",
            "placeholder": "​",
            "_view_module": "@jupyter-widgets/controls",
            "_model_module_version": "1.5.0",
            "value": " 6965/25000 [00:00&lt;00:00, 69647.24 examples/s]",
            "_view_count": null,
            "_view_module_version": "1.5.0",
            "description_tooltip": null,
            "_model_module": "@jupyter-widgets/controls",
            "layout": "IPY_MODEL_876309cc079b47d18c66bb2b0987fb6d"
          }
        },
        "b50bb463158f42d2b177db839fd8ade6": {
          "model_module": "@jupyter-widgets/controls",
          "model_name": "ProgressStyleModel",
          "state": {
            "_view_name": "StyleView",
            "_model_name": "ProgressStyleModel",
            "description_width": "initial",
            "_view_module": "@jupyter-widgets/base",
            "_model_module_version": "1.5.0",
            "_view_count": null,
            "_view_module_version": "1.2.0",
            "bar_color": null,
            "_model_module": "@jupyter-widgets/controls"
          }
        },
        "fe6ea9db12ae44c29888eeed8bd35ee6": {
          "model_module": "@jupyter-widgets/base",
          "model_name": "LayoutModel",
          "state": {
            "_view_name": "LayoutView",
            "grid_template_rows": null,
            "right": null,
            "justify_content": null,
            "_view_module": "@jupyter-widgets/base",
            "overflow": null,
            "_model_module_version": "1.2.0",
            "_view_count": null,
            "flex_flow": null,
            "width": null,
            "min_width": null,
            "border": null,
            "align_items": null,
            "bottom": null,
            "_model_module": "@jupyter-widgets/base",
            "top": null,
            "grid_column": null,
            "overflow_y": null,
            "overflow_x": null,
            "grid_auto_flow": null,
            "grid_area": null,
            "grid_template_columns": null,
            "flex": null,
            "_model_name": "LayoutModel",
            "justify_items": null,
            "grid_row": null,
            "max_height": null,
            "align_content": null,
            "visibility": null,
            "align_self": null,
            "height": null,
            "min_height": null,
            "padding": null,
            "grid_auto_rows": null,
            "grid_gap": null,
            "max_width": null,
            "order": null,
            "_view_module_version": "1.2.0",
            "grid_template_areas": null,
            "object_position": null,
            "object_fit": null,
            "grid_auto_columns": null,
            "margin": null,
            "display": null,
            "left": null
          }
        },
        "2056ba125b584265bf77671e9c60dfc3": {
          "model_module": "@jupyter-widgets/controls",
          "model_name": "DescriptionStyleModel",
          "state": {
            "_view_name": "StyleView",
            "_model_name": "DescriptionStyleModel",
            "description_width": "",
            "_view_module": "@jupyter-widgets/base",
            "_model_module_version": "1.5.0",
            "_view_count": null,
            "_view_module_version": "1.2.0",
            "_model_module": "@jupyter-widgets/controls"
          }
        },
        "876309cc079b47d18c66bb2b0987fb6d": {
          "model_module": "@jupyter-widgets/base",
          "model_name": "LayoutModel",
          "state": {
            "_view_name": "LayoutView",
            "grid_template_rows": null,
            "right": null,
            "justify_content": null,
            "_view_module": "@jupyter-widgets/base",
            "overflow": null,
            "_model_module_version": "1.2.0",
            "_view_count": null,
            "flex_flow": null,
            "width": null,
            "min_width": null,
            "border": null,
            "align_items": null,
            "bottom": null,
            "_model_module": "@jupyter-widgets/base",
            "top": null,
            "grid_column": null,
            "overflow_y": null,
            "overflow_x": null,
            "grid_auto_flow": null,
            "grid_area": null,
            "grid_template_columns": null,
            "flex": null,
            "_model_name": "LayoutModel",
            "justify_items": null,
            "grid_row": null,
            "max_height": null,
            "align_content": null,
            "visibility": null,
            "align_self": null,
            "height": null,
            "min_height": null,
            "padding": null,
            "grid_auto_rows": null,
            "grid_gap": null,
            "max_width": null,
            "order": null,
            "_view_module_version": "1.2.0",
            "grid_template_areas": null,
            "object_position": null,
            "object_fit": null,
            "grid_auto_columns": null,
            "margin": null,
            "display": null,
            "left": null
          }
        },
        "1f4753e851564bba9d6406ff55545ae6": {
          "model_module": "@jupyter-widgets/controls",
          "model_name": "HBoxModel",
          "state": {
            "_view_name": "HBoxView",
            "_dom_classes": [],
            "_model_name": "HBoxModel",
            "_view_module": "@jupyter-widgets/controls",
            "_model_module_version": "1.5.0",
            "_view_count": null,
            "_view_module_version": "1.5.0",
            "box_style": "",
            "layout": "IPY_MODEL_35b1357751c94fa284db18ef0f5d5314",
            "_model_module": "@jupyter-widgets/controls",
            "children": [
              "IPY_MODEL_f47152ac46604495932d64f07ea37cf7",
              "IPY_MODEL_a2ff3c430ea94c96b94629165a7cebff"
            ]
          }
        },
        "35b1357751c94fa284db18ef0f5d5314": {
          "model_module": "@jupyter-widgets/base",
          "model_name": "LayoutModel",
          "state": {
            "_view_name": "LayoutView",
            "grid_template_rows": null,
            "right": null,
            "justify_content": null,
            "_view_module": "@jupyter-widgets/base",
            "overflow": null,
            "_model_module_version": "1.2.0",
            "_view_count": null,
            "flex_flow": null,
            "width": null,
            "min_width": null,
            "border": null,
            "align_items": null,
            "bottom": null,
            "_model_module": "@jupyter-widgets/base",
            "top": null,
            "grid_column": null,
            "overflow_y": null,
            "overflow_x": null,
            "grid_auto_flow": null,
            "grid_area": null,
            "grid_template_columns": null,
            "flex": null,
            "_model_name": "LayoutModel",
            "justify_items": null,
            "grid_row": null,
            "max_height": null,
            "align_content": null,
            "visibility": null,
            "align_self": null,
            "height": null,
            "min_height": null,
            "padding": null,
            "grid_auto_rows": null,
            "grid_gap": null,
            "max_width": null,
            "order": null,
            "_view_module_version": "1.2.0",
            "grid_template_areas": null,
            "object_position": null,
            "object_fit": null,
            "grid_auto_columns": null,
            "margin": null,
            "display": null,
            "left": null
          }
        },
        "f47152ac46604495932d64f07ea37cf7": {
          "model_module": "@jupyter-widgets/controls",
          "model_name": "FloatProgressModel",
          "state": {
            "_view_name": "ProgressView",
            "style": "IPY_MODEL_0f3f299685d444b88360a0c6b66bfbe6",
            "_dom_classes": [],
            "description": "",
            "_model_name": "FloatProgressModel",
            "bar_style": "info",
            "max": 1,
            "_view_module": "@jupyter-widgets/controls",
            "_model_module_version": "1.5.0",
            "value": 1,
            "_view_count": null,
            "_view_module_version": "1.5.0",
            "orientation": "horizontal",
            "min": 0,
            "description_tooltip": null,
            "_model_module": "@jupyter-widgets/controls",
            "layout": "IPY_MODEL_31a8f2f6df454880ad427349305666e3"
          }
        },
        "a2ff3c430ea94c96b94629165a7cebff": {
          "model_module": "@jupyter-widgets/controls",
          "model_name": "HTMLModel",
          "state": {
            "_view_name": "HTMLView",
            "style": "IPY_MODEL_b03b5812e69f44169a5baa0c1824def1",
            "_dom_classes": [],
            "description": "",
            "_model_name": "HTMLModel",
            "placeholder": "​",
            "_view_module": "@jupyter-widgets/controls",
            "_model_module_version": "1.5.0",
            "value": " 25000/0 [00:14&lt;00:00, 2853.86 examples/s]",
            "_view_count": null,
            "_view_module_version": "1.5.0",
            "description_tooltip": null,
            "_model_module": "@jupyter-widgets/controls",
            "layout": "IPY_MODEL_bd8b306fb1de45378fd142246c555da2"
          }
        },
        "0f3f299685d444b88360a0c6b66bfbe6": {
          "model_module": "@jupyter-widgets/controls",
          "model_name": "ProgressStyleModel",
          "state": {
            "_view_name": "StyleView",
            "_model_name": "ProgressStyleModel",
            "description_width": "initial",
            "_view_module": "@jupyter-widgets/base",
            "_model_module_version": "1.5.0",
            "_view_count": null,
            "_view_module_version": "1.2.0",
            "bar_color": null,
            "_model_module": "@jupyter-widgets/controls"
          }
        },
        "31a8f2f6df454880ad427349305666e3": {
          "model_module": "@jupyter-widgets/base",
          "model_name": "LayoutModel",
          "state": {
            "_view_name": "LayoutView",
            "grid_template_rows": null,
            "right": null,
            "justify_content": null,
            "_view_module": "@jupyter-widgets/base",
            "overflow": null,
            "_model_module_version": "1.2.0",
            "_view_count": null,
            "flex_flow": null,
            "width": null,
            "min_width": null,
            "border": null,
            "align_items": null,
            "bottom": null,
            "_model_module": "@jupyter-widgets/base",
            "top": null,
            "grid_column": null,
            "overflow_y": null,
            "overflow_x": null,
            "grid_auto_flow": null,
            "grid_area": null,
            "grid_template_columns": null,
            "flex": null,
            "_model_name": "LayoutModel",
            "justify_items": null,
            "grid_row": null,
            "max_height": null,
            "align_content": null,
            "visibility": null,
            "align_self": null,
            "height": null,
            "min_height": null,
            "padding": null,
            "grid_auto_rows": null,
            "grid_gap": null,
            "max_width": null,
            "order": null,
            "_view_module_version": "1.2.0",
            "grid_template_areas": null,
            "object_position": null,
            "object_fit": null,
            "grid_auto_columns": null,
            "margin": null,
            "display": null,
            "left": null
          }
        },
        "b03b5812e69f44169a5baa0c1824def1": {
          "model_module": "@jupyter-widgets/controls",
          "model_name": "DescriptionStyleModel",
          "state": {
            "_view_name": "StyleView",
            "_model_name": "DescriptionStyleModel",
            "description_width": "",
            "_view_module": "@jupyter-widgets/base",
            "_model_module_version": "1.5.0",
            "_view_count": null,
            "_view_module_version": "1.2.0",
            "_model_module": "@jupyter-widgets/controls"
          }
        },
        "bd8b306fb1de45378fd142246c555da2": {
          "model_module": "@jupyter-widgets/base",
          "model_name": "LayoutModel",
          "state": {
            "_view_name": "LayoutView",
            "grid_template_rows": null,
            "right": null,
            "justify_content": null,
            "_view_module": "@jupyter-widgets/base",
            "overflow": null,
            "_model_module_version": "1.2.0",
            "_view_count": null,
            "flex_flow": null,
            "width": null,
            "min_width": null,
            "border": null,
            "align_items": null,
            "bottom": null,
            "_model_module": "@jupyter-widgets/base",
            "top": null,
            "grid_column": null,
            "overflow_y": null,
            "overflow_x": null,
            "grid_auto_flow": null,
            "grid_area": null,
            "grid_template_columns": null,
            "flex": null,
            "_model_name": "LayoutModel",
            "justify_items": null,
            "grid_row": null,
            "max_height": null,
            "align_content": null,
            "visibility": null,
            "align_self": null,
            "height": null,
            "min_height": null,
            "padding": null,
            "grid_auto_rows": null,
            "grid_gap": null,
            "max_width": null,
            "order": null,
            "_view_module_version": "1.2.0",
            "grid_template_areas": null,
            "object_position": null,
            "object_fit": null,
            "grid_auto_columns": null,
            "margin": null,
            "display": null,
            "left": null
          }
        },
        "30bb9c01759d4b87ae493403f4f29c82": {
          "model_module": "@jupyter-widgets/controls",
          "model_name": "HBoxModel",
          "state": {
            "_view_name": "HBoxView",
            "_dom_classes": [],
            "_model_name": "HBoxModel",
            "_view_module": "@jupyter-widgets/controls",
            "_model_module_version": "1.5.0",
            "_view_count": null,
            "_view_module_version": "1.5.0",
            "box_style": "",
            "layout": "IPY_MODEL_ec54018af422440db570e617d9e268f9",
            "_model_module": "@jupyter-widgets/controls",
            "children": [
              "IPY_MODEL_a80a6115771c4f508993234223a4bc51",
              "IPY_MODEL_c35f36dbaa2848e08150d396a0369c88"
            ]
          }
        },
        "ec54018af422440db570e617d9e268f9": {
          "model_module": "@jupyter-widgets/base",
          "model_name": "LayoutModel",
          "state": {
            "_view_name": "LayoutView",
            "grid_template_rows": null,
            "right": null,
            "justify_content": null,
            "_view_module": "@jupyter-widgets/base",
            "overflow": null,
            "_model_module_version": "1.2.0",
            "_view_count": null,
            "flex_flow": null,
            "width": null,
            "min_width": null,
            "border": null,
            "align_items": null,
            "bottom": null,
            "_model_module": "@jupyter-widgets/base",
            "top": null,
            "grid_column": null,
            "overflow_y": null,
            "overflow_x": null,
            "grid_auto_flow": null,
            "grid_area": null,
            "grid_template_columns": null,
            "flex": null,
            "_model_name": "LayoutModel",
            "justify_items": null,
            "grid_row": null,
            "max_height": null,
            "align_content": null,
            "visibility": null,
            "align_self": null,
            "height": null,
            "min_height": null,
            "padding": null,
            "grid_auto_rows": null,
            "grid_gap": null,
            "max_width": null,
            "order": null,
            "_view_module_version": "1.2.0",
            "grid_template_areas": null,
            "object_position": null,
            "object_fit": null,
            "grid_auto_columns": null,
            "margin": null,
            "display": null,
            "left": null
          }
        },
        "a80a6115771c4f508993234223a4bc51": {
          "model_module": "@jupyter-widgets/controls",
          "model_name": "FloatProgressModel",
          "state": {
            "_view_name": "ProgressView",
            "style": "IPY_MODEL_1dd8b54429614ff980790d1f63bdbb45",
            "_dom_classes": [],
            "description": " 28%",
            "_model_name": "FloatProgressModel",
            "bar_style": "danger",
            "max": 25000,
            "_view_module": "@jupyter-widgets/controls",
            "_model_module_version": "1.5.0",
            "value": 7085,
            "_view_count": null,
            "_view_module_version": "1.5.0",
            "orientation": "horizontal",
            "min": 0,
            "description_tooltip": null,
            "_model_module": "@jupyter-widgets/controls",
            "layout": "IPY_MODEL_0ded1ff7c47e4f618fc0993d5af23bd0"
          }
        },
        "c35f36dbaa2848e08150d396a0369c88": {
          "model_module": "@jupyter-widgets/controls",
          "model_name": "HTMLModel",
          "state": {
            "_view_name": "HTMLView",
            "style": "IPY_MODEL_82b5b0990a624c57bfa0e4e8ed44d373",
            "_dom_classes": [],
            "description": "",
            "_model_name": "HTMLModel",
            "placeholder": "​",
            "_view_module": "@jupyter-widgets/controls",
            "_model_module_version": "1.5.0",
            "value": " 7085/25000 [00:00&lt;00:00, 70847.03 examples/s]",
            "_view_count": null,
            "_view_module_version": "1.5.0",
            "description_tooltip": null,
            "_model_module": "@jupyter-widgets/controls",
            "layout": "IPY_MODEL_20410a80f13d4b5a80fa8c87435f5828"
          }
        },
        "1dd8b54429614ff980790d1f63bdbb45": {
          "model_module": "@jupyter-widgets/controls",
          "model_name": "ProgressStyleModel",
          "state": {
            "_view_name": "StyleView",
            "_model_name": "ProgressStyleModel",
            "description_width": "initial",
            "_view_module": "@jupyter-widgets/base",
            "_model_module_version": "1.5.0",
            "_view_count": null,
            "_view_module_version": "1.2.0",
            "bar_color": null,
            "_model_module": "@jupyter-widgets/controls"
          }
        },
        "0ded1ff7c47e4f618fc0993d5af23bd0": {
          "model_module": "@jupyter-widgets/base",
          "model_name": "LayoutModel",
          "state": {
            "_view_name": "LayoutView",
            "grid_template_rows": null,
            "right": null,
            "justify_content": null,
            "_view_module": "@jupyter-widgets/base",
            "overflow": null,
            "_model_module_version": "1.2.0",
            "_view_count": null,
            "flex_flow": null,
            "width": null,
            "min_width": null,
            "border": null,
            "align_items": null,
            "bottom": null,
            "_model_module": "@jupyter-widgets/base",
            "top": null,
            "grid_column": null,
            "overflow_y": null,
            "overflow_x": null,
            "grid_auto_flow": null,
            "grid_area": null,
            "grid_template_columns": null,
            "flex": null,
            "_model_name": "LayoutModel",
            "justify_items": null,
            "grid_row": null,
            "max_height": null,
            "align_content": null,
            "visibility": null,
            "align_self": null,
            "height": null,
            "min_height": null,
            "padding": null,
            "grid_auto_rows": null,
            "grid_gap": null,
            "max_width": null,
            "order": null,
            "_view_module_version": "1.2.0",
            "grid_template_areas": null,
            "object_position": null,
            "object_fit": null,
            "grid_auto_columns": null,
            "margin": null,
            "display": null,
            "left": null
          }
        },
        "82b5b0990a624c57bfa0e4e8ed44d373": {
          "model_module": "@jupyter-widgets/controls",
          "model_name": "DescriptionStyleModel",
          "state": {
            "_view_name": "StyleView",
            "_model_name": "DescriptionStyleModel",
            "description_width": "",
            "_view_module": "@jupyter-widgets/base",
            "_model_module_version": "1.5.0",
            "_view_count": null,
            "_view_module_version": "1.2.0",
            "_model_module": "@jupyter-widgets/controls"
          }
        },
        "20410a80f13d4b5a80fa8c87435f5828": {
          "model_module": "@jupyter-widgets/base",
          "model_name": "LayoutModel",
          "state": {
            "_view_name": "LayoutView",
            "grid_template_rows": null,
            "right": null,
            "justify_content": null,
            "_view_module": "@jupyter-widgets/base",
            "overflow": null,
            "_model_module_version": "1.2.0",
            "_view_count": null,
            "flex_flow": null,
            "width": null,
            "min_width": null,
            "border": null,
            "align_items": null,
            "bottom": null,
            "_model_module": "@jupyter-widgets/base",
            "top": null,
            "grid_column": null,
            "overflow_y": null,
            "overflow_x": null,
            "grid_auto_flow": null,
            "grid_area": null,
            "grid_template_columns": null,
            "flex": null,
            "_model_name": "LayoutModel",
            "justify_items": null,
            "grid_row": null,
            "max_height": null,
            "align_content": null,
            "visibility": null,
            "align_self": null,
            "height": null,
            "min_height": null,
            "padding": null,
            "grid_auto_rows": null,
            "grid_gap": null,
            "max_width": null,
            "order": null,
            "_view_module_version": "1.2.0",
            "grid_template_areas": null,
            "object_position": null,
            "object_fit": null,
            "grid_auto_columns": null,
            "margin": null,
            "display": null,
            "left": null
          }
        },
        "39bcb85618fe48f28387fd708042b4f0": {
          "model_module": "@jupyter-widgets/controls",
          "model_name": "HBoxModel",
          "state": {
            "_view_name": "HBoxView",
            "_dom_classes": [],
            "_model_name": "HBoxModel",
            "_view_module": "@jupyter-widgets/controls",
            "_model_module_version": "1.5.0",
            "_view_count": null,
            "_view_module_version": "1.5.0",
            "box_style": "",
            "layout": "IPY_MODEL_059141beda1449a899ab19ba995c141c",
            "_model_module": "@jupyter-widgets/controls",
            "children": [
              "IPY_MODEL_b57c3f7099ee488f86efb67dd5a57557",
              "IPY_MODEL_03ded26c84d648df8b715159cd76b1e3"
            ]
          }
        },
        "059141beda1449a899ab19ba995c141c": {
          "model_module": "@jupyter-widgets/base",
          "model_name": "LayoutModel",
          "state": {
            "_view_name": "LayoutView",
            "grid_template_rows": null,
            "right": null,
            "justify_content": null,
            "_view_module": "@jupyter-widgets/base",
            "overflow": null,
            "_model_module_version": "1.2.0",
            "_view_count": null,
            "flex_flow": null,
            "width": null,
            "min_width": null,
            "border": null,
            "align_items": null,
            "bottom": null,
            "_model_module": "@jupyter-widgets/base",
            "top": null,
            "grid_column": null,
            "overflow_y": null,
            "overflow_x": null,
            "grid_auto_flow": null,
            "grid_area": null,
            "grid_template_columns": null,
            "flex": null,
            "_model_name": "LayoutModel",
            "justify_items": null,
            "grid_row": null,
            "max_height": null,
            "align_content": null,
            "visibility": null,
            "align_self": null,
            "height": null,
            "min_height": null,
            "padding": null,
            "grid_auto_rows": null,
            "grid_gap": null,
            "max_width": null,
            "order": null,
            "_view_module_version": "1.2.0",
            "grid_template_areas": null,
            "object_position": null,
            "object_fit": null,
            "grid_auto_columns": null,
            "margin": null,
            "display": null,
            "left": null
          }
        },
        "b57c3f7099ee488f86efb67dd5a57557": {
          "model_module": "@jupyter-widgets/controls",
          "model_name": "FloatProgressModel",
          "state": {
            "_view_name": "ProgressView",
            "style": "IPY_MODEL_ae831565db3a4d74a8476aea65542b04",
            "_dom_classes": [],
            "description": "",
            "_model_name": "FloatProgressModel",
            "bar_style": "info",
            "max": 1,
            "_view_module": "@jupyter-widgets/controls",
            "_model_module_version": "1.5.0",
            "value": 1,
            "_view_count": null,
            "_view_module_version": "1.5.0",
            "orientation": "horizontal",
            "min": 0,
            "description_tooltip": null,
            "_model_module": "@jupyter-widgets/controls",
            "layout": "IPY_MODEL_7948be63412f469db14644dd0d4359f2"
          }
        },
        "03ded26c84d648df8b715159cd76b1e3": {
          "model_module": "@jupyter-widgets/controls",
          "model_name": "HTMLModel",
          "state": {
            "_view_name": "HTMLView",
            "style": "IPY_MODEL_16d111bd586e444fb5ee5a21b6cfbd3f",
            "_dom_classes": [],
            "description": "",
            "_model_name": "HTMLModel",
            "placeholder": "​",
            "_view_module": "@jupyter-widgets/controls",
            "_model_module_version": "1.5.0",
            "value": " 50000/0 [00:21&lt;00:00, 2909.32 examples/s]",
            "_view_count": null,
            "_view_module_version": "1.5.0",
            "description_tooltip": null,
            "_model_module": "@jupyter-widgets/controls",
            "layout": "IPY_MODEL_9296e06541ef49aebb69acd8c40b3246"
          }
        },
        "ae831565db3a4d74a8476aea65542b04": {
          "model_module": "@jupyter-widgets/controls",
          "model_name": "ProgressStyleModel",
          "state": {
            "_view_name": "StyleView",
            "_model_name": "ProgressStyleModel",
            "description_width": "initial",
            "_view_module": "@jupyter-widgets/base",
            "_model_module_version": "1.5.0",
            "_view_count": null,
            "_view_module_version": "1.2.0",
            "bar_color": null,
            "_model_module": "@jupyter-widgets/controls"
          }
        },
        "7948be63412f469db14644dd0d4359f2": {
          "model_module": "@jupyter-widgets/base",
          "model_name": "LayoutModel",
          "state": {
            "_view_name": "LayoutView",
            "grid_template_rows": null,
            "right": null,
            "justify_content": null,
            "_view_module": "@jupyter-widgets/base",
            "overflow": null,
            "_model_module_version": "1.2.0",
            "_view_count": null,
            "flex_flow": null,
            "width": null,
            "min_width": null,
            "border": null,
            "align_items": null,
            "bottom": null,
            "_model_module": "@jupyter-widgets/base",
            "top": null,
            "grid_column": null,
            "overflow_y": null,
            "overflow_x": null,
            "grid_auto_flow": null,
            "grid_area": null,
            "grid_template_columns": null,
            "flex": null,
            "_model_name": "LayoutModel",
            "justify_items": null,
            "grid_row": null,
            "max_height": null,
            "align_content": null,
            "visibility": null,
            "align_self": null,
            "height": null,
            "min_height": null,
            "padding": null,
            "grid_auto_rows": null,
            "grid_gap": null,
            "max_width": null,
            "order": null,
            "_view_module_version": "1.2.0",
            "grid_template_areas": null,
            "object_position": null,
            "object_fit": null,
            "grid_auto_columns": null,
            "margin": null,
            "display": null,
            "left": null
          }
        },
        "16d111bd586e444fb5ee5a21b6cfbd3f": {
          "model_module": "@jupyter-widgets/controls",
          "model_name": "DescriptionStyleModel",
          "state": {
            "_view_name": "StyleView",
            "_model_name": "DescriptionStyleModel",
            "description_width": "",
            "_view_module": "@jupyter-widgets/base",
            "_model_module_version": "1.5.0",
            "_view_count": null,
            "_view_module_version": "1.2.0",
            "_model_module": "@jupyter-widgets/controls"
          }
        },
        "9296e06541ef49aebb69acd8c40b3246": {
          "model_module": "@jupyter-widgets/base",
          "model_name": "LayoutModel",
          "state": {
            "_view_name": "LayoutView",
            "grid_template_rows": null,
            "right": null,
            "justify_content": null,
            "_view_module": "@jupyter-widgets/base",
            "overflow": null,
            "_model_module_version": "1.2.0",
            "_view_count": null,
            "flex_flow": null,
            "width": null,
            "min_width": null,
            "border": null,
            "align_items": null,
            "bottom": null,
            "_model_module": "@jupyter-widgets/base",
            "top": null,
            "grid_column": null,
            "overflow_y": null,
            "overflow_x": null,
            "grid_auto_flow": null,
            "grid_area": null,
            "grid_template_columns": null,
            "flex": null,
            "_model_name": "LayoutModel",
            "justify_items": null,
            "grid_row": null,
            "max_height": null,
            "align_content": null,
            "visibility": null,
            "align_self": null,
            "height": null,
            "min_height": null,
            "padding": null,
            "grid_auto_rows": null,
            "grid_gap": null,
            "max_width": null,
            "order": null,
            "_view_module_version": "1.2.0",
            "grid_template_areas": null,
            "object_position": null,
            "object_fit": null,
            "grid_auto_columns": null,
            "margin": null,
            "display": null,
            "left": null
          }
        },
        "5192c84efb9b48ed84782de5d00f77b9": {
          "model_module": "@jupyter-widgets/controls",
          "model_name": "HBoxModel",
          "state": {
            "_view_name": "HBoxView",
            "_dom_classes": [],
            "_model_name": "HBoxModel",
            "_view_module": "@jupyter-widgets/controls",
            "_model_module_version": "1.5.0",
            "_view_count": null,
            "_view_module_version": "1.5.0",
            "box_style": "",
            "layout": "IPY_MODEL_8768b9694ff346ccb81b914128a7b636",
            "_model_module": "@jupyter-widgets/controls",
            "children": [
              "IPY_MODEL_4a05562030bf4469b50897751fcc243a",
              "IPY_MODEL_3e6cd72a5e9641338b1bfe6ea1f837ab"
            ]
          }
        },
        "8768b9694ff346ccb81b914128a7b636": {
          "model_module": "@jupyter-widgets/base",
          "model_name": "LayoutModel",
          "state": {
            "_view_name": "LayoutView",
            "grid_template_rows": null,
            "right": null,
            "justify_content": null,
            "_view_module": "@jupyter-widgets/base",
            "overflow": null,
            "_model_module_version": "1.2.0",
            "_view_count": null,
            "flex_flow": null,
            "width": null,
            "min_width": null,
            "border": null,
            "align_items": null,
            "bottom": null,
            "_model_module": "@jupyter-widgets/base",
            "top": null,
            "grid_column": null,
            "overflow_y": null,
            "overflow_x": null,
            "grid_auto_flow": null,
            "grid_area": null,
            "grid_template_columns": null,
            "flex": null,
            "_model_name": "LayoutModel",
            "justify_items": null,
            "grid_row": null,
            "max_height": null,
            "align_content": null,
            "visibility": null,
            "align_self": null,
            "height": null,
            "min_height": null,
            "padding": null,
            "grid_auto_rows": null,
            "grid_gap": null,
            "max_width": null,
            "order": null,
            "_view_module_version": "1.2.0",
            "grid_template_areas": null,
            "object_position": null,
            "object_fit": null,
            "grid_auto_columns": null,
            "margin": null,
            "display": null,
            "left": null
          }
        },
        "4a05562030bf4469b50897751fcc243a": {
          "model_module": "@jupyter-widgets/controls",
          "model_name": "FloatProgressModel",
          "state": {
            "_view_name": "ProgressView",
            "style": "IPY_MODEL_549370b0942f4f2d9c978a759c036a0b",
            "_dom_classes": [],
            "description": " 90%",
            "_model_name": "FloatProgressModel",
            "bar_style": "danger",
            "max": 50000,
            "_view_module": "@jupyter-widgets/controls",
            "_model_module_version": "1.5.0",
            "value": 44905,
            "_view_count": null,
            "_view_module_version": "1.5.0",
            "orientation": "horizontal",
            "min": 0,
            "description_tooltip": null,
            "_model_module": "@jupyter-widgets/controls",
            "layout": "IPY_MODEL_c7a223efef314846a4e728331272dd4c"
          }
        },
        "3e6cd72a5e9641338b1bfe6ea1f837ab": {
          "model_module": "@jupyter-widgets/controls",
          "model_name": "HTMLModel",
          "state": {
            "_view_name": "HTMLView",
            "style": "IPY_MODEL_c77e4f09b39046aeb02eed3c86f770a6",
            "_dom_classes": [],
            "description": "",
            "_model_name": "HTMLModel",
            "placeholder": "​",
            "_view_module": "@jupyter-widgets/controls",
            "_model_module_version": "1.5.0",
            "value": " 44905/50000 [00:00&lt;04:15, 19.91 examples/s]",
            "_view_count": null,
            "_view_module_version": "1.5.0",
            "description_tooltip": null,
            "_model_module": "@jupyter-widgets/controls",
            "layout": "IPY_MODEL_f3850aadbc1342b883c9a195a0ac673c"
          }
        },
        "549370b0942f4f2d9c978a759c036a0b": {
          "model_module": "@jupyter-widgets/controls",
          "model_name": "ProgressStyleModel",
          "state": {
            "_view_name": "StyleView",
            "_model_name": "ProgressStyleModel",
            "description_width": "initial",
            "_view_module": "@jupyter-widgets/base",
            "_model_module_version": "1.5.0",
            "_view_count": null,
            "_view_module_version": "1.2.0",
            "bar_color": null,
            "_model_module": "@jupyter-widgets/controls"
          }
        },
        "c7a223efef314846a4e728331272dd4c": {
          "model_module": "@jupyter-widgets/base",
          "model_name": "LayoutModel",
          "state": {
            "_view_name": "LayoutView",
            "grid_template_rows": null,
            "right": null,
            "justify_content": null,
            "_view_module": "@jupyter-widgets/base",
            "overflow": null,
            "_model_module_version": "1.2.0",
            "_view_count": null,
            "flex_flow": null,
            "width": null,
            "min_width": null,
            "border": null,
            "align_items": null,
            "bottom": null,
            "_model_module": "@jupyter-widgets/base",
            "top": null,
            "grid_column": null,
            "overflow_y": null,
            "overflow_x": null,
            "grid_auto_flow": null,
            "grid_area": null,
            "grid_template_columns": null,
            "flex": null,
            "_model_name": "LayoutModel",
            "justify_items": null,
            "grid_row": null,
            "max_height": null,
            "align_content": null,
            "visibility": null,
            "align_self": null,
            "height": null,
            "min_height": null,
            "padding": null,
            "grid_auto_rows": null,
            "grid_gap": null,
            "max_width": null,
            "order": null,
            "_view_module_version": "1.2.0",
            "grid_template_areas": null,
            "object_position": null,
            "object_fit": null,
            "grid_auto_columns": null,
            "margin": null,
            "display": null,
            "left": null
          }
        },
        "c77e4f09b39046aeb02eed3c86f770a6": {
          "model_module": "@jupyter-widgets/controls",
          "model_name": "DescriptionStyleModel",
          "state": {
            "_view_name": "StyleView",
            "_model_name": "DescriptionStyleModel",
            "description_width": "",
            "_view_module": "@jupyter-widgets/base",
            "_model_module_version": "1.5.0",
            "_view_count": null,
            "_view_module_version": "1.2.0",
            "_model_module": "@jupyter-widgets/controls"
          }
        },
        "f3850aadbc1342b883c9a195a0ac673c": {
          "model_module": "@jupyter-widgets/base",
          "model_name": "LayoutModel",
          "state": {
            "_view_name": "LayoutView",
            "grid_template_rows": null,
            "right": null,
            "justify_content": null,
            "_view_module": "@jupyter-widgets/base",
            "overflow": null,
            "_model_module_version": "1.2.0",
            "_view_count": null,
            "flex_flow": null,
            "width": null,
            "min_width": null,
            "border": null,
            "align_items": null,
            "bottom": null,
            "_model_module": "@jupyter-widgets/base",
            "top": null,
            "grid_column": null,
            "overflow_y": null,
            "overflow_x": null,
            "grid_auto_flow": null,
            "grid_area": null,
            "grid_template_columns": null,
            "flex": null,
            "_model_name": "LayoutModel",
            "justify_items": null,
            "grid_row": null,
            "max_height": null,
            "align_content": null,
            "visibility": null,
            "align_self": null,
            "height": null,
            "min_height": null,
            "padding": null,
            "grid_auto_rows": null,
            "grid_gap": null,
            "max_width": null,
            "order": null,
            "_view_module_version": "1.2.0",
            "grid_template_areas": null,
            "object_position": null,
            "object_fit": null,
            "grid_auto_columns": null,
            "margin": null,
            "display": null,
            "left": null
          }
        }
      }
    }
  },
  "cells": [
    {
      "cell_type": "code",
      "metadata": {
        "id": "3EzqPvbduUza"
      },
      "source": [
        "import tensorflow as tf"
      ],
      "execution_count": null,
      "outputs": []
    },
    {
      "cell_type": "markdown",
      "metadata": {
        "id": "OsJS0t7_GxRm"
      },
      "source": [
        "There are three built-in RNN cells, each of them corresponding to the matching RNN layer.\n",
        "\n",
        "tf.keras.layers.SimpleRNN corresponds to the SimpleRNN layer.\n",
        "\n",
        "tf.keras.layers.GRU corresponds to the GRU layer.\n",
        "\n",
        "tf.keras.layers.LSTM corresponds to the LSTM layer."
      ]
    },
    {
      "cell_type": "markdown",
      "metadata": {
        "id": "Re9w8ZYXLPPk"
      },
      "source": [
        "# Text Classification"
      ]
    },
    {
      "cell_type": "markdown",
      "metadata": {
        "id": "v4puFUprvMQW"
      },
      "source": [
        "## FNN"
      ]
    },
    {
      "cell_type": "code",
      "metadata": {
        "id": "r6T1_FFTK2f_",
        "colab": {
          "base_uri": "https://localhost:8080/",
          "height": 356,
          "referenced_widgets": [
            "188ebece67034135b34837e388701a49",
            "78425c60b9a44b60b597680ba735efc0",
            "b2ecca19a1d441869f5b3231bdf19721",
            "c844e852b912447896409798b97c27b1",
            "f7568359aa9b412ba200e812e74098bf",
            "f513cb8efcbc47cdbbafa2112cedfe41",
            "78b8f5b7ca624feeb9a81deb1dcf5979",
            "0c93222d996844c28424e763be1135fe",
            "dc5d0fa231fc45769e5a0452dd161115",
            "418803c72e9a45b695d7a626d474be08",
            "290b87f63f5b428ea244b7a483ca14f8",
            "0bfb892b4a974c6083a10a4a08edc8fd",
            "33916a2ba41d47e9a73a8651d66ae82a",
            "83c534bcbb8b46ecb1bbd7024c11c45d",
            "e7fb400d0c87467784eebb047dd7bca6",
            "ab63008db6e848abb87586930b266aa2",
            "e9ec2d20a0d346509d5f693bac7573e2",
            "7269517c6d23476ea2f7360b09076131",
            "d7505eeef3a14dcb83e16dcf2b33ce90",
            "e81653a8fe6641399fcd783212792bd4",
            "ef675c351f6246ed95485ebcfd7fef0f",
            "4fb4051cfe794870b8b0b3d635db6dbb",
            "52878744c71944a09659882288142333",
            "44156e8246db4fd6ab6dffc98949b187",
            "1332b1d446124f6b92749e63a0ad0a41",
            "201b52e65cac4a01b35bc61a9a30e664",
            "cd495da7e7554a6e990cae0c8ead397e",
            "042bb3e14aaf41fc8fca9e0783e163e9",
            "b50bb463158f42d2b177db839fd8ade6",
            "fe6ea9db12ae44c29888eeed8bd35ee6",
            "2056ba125b584265bf77671e9c60dfc3",
            "876309cc079b47d18c66bb2b0987fb6d",
            "1f4753e851564bba9d6406ff55545ae6",
            "35b1357751c94fa284db18ef0f5d5314",
            "f47152ac46604495932d64f07ea37cf7",
            "a2ff3c430ea94c96b94629165a7cebff",
            "0f3f299685d444b88360a0c6b66bfbe6",
            "31a8f2f6df454880ad427349305666e3",
            "b03b5812e69f44169a5baa0c1824def1",
            "bd8b306fb1de45378fd142246c555da2",
            "30bb9c01759d4b87ae493403f4f29c82",
            "ec54018af422440db570e617d9e268f9",
            "a80a6115771c4f508993234223a4bc51",
            "c35f36dbaa2848e08150d396a0369c88",
            "1dd8b54429614ff980790d1f63bdbb45",
            "0ded1ff7c47e4f618fc0993d5af23bd0",
            "82b5b0990a624c57bfa0e4e8ed44d373",
            "20410a80f13d4b5a80fa8c87435f5828",
            "39bcb85618fe48f28387fd708042b4f0",
            "059141beda1449a899ab19ba995c141c",
            "b57c3f7099ee488f86efb67dd5a57557",
            "03ded26c84d648df8b715159cd76b1e3",
            "ae831565db3a4d74a8476aea65542b04",
            "7948be63412f469db14644dd0d4359f2",
            "16d111bd586e444fb5ee5a21b6cfbd3f",
            "9296e06541ef49aebb69acd8c40b3246",
            "5192c84efb9b48ed84782de5d00f77b9",
            "8768b9694ff346ccb81b914128a7b636",
            "4a05562030bf4469b50897751fcc243a",
            "3e6cd72a5e9641338b1bfe6ea1f837ab",
            "549370b0942f4f2d9c978a759c036a0b",
            "c7a223efef314846a4e728331272dd4c",
            "c77e4f09b39046aeb02eed3c86f770a6",
            "f3850aadbc1342b883c9a195a0ac673c"
          ]
        },
        "outputId": "58c74eeb-1eb0-45bd-de16-e740692d72dc"
      },
      "source": [
        "import tensorflow_datasets as tfds\n",
        "\n",
        "train_data, validation_data, test_data = tfds.load(\n",
        "    name=\"imdb_reviews\", \n",
        "    split=('train[:60%]', 'train[60%:]', 'test'),\n",
        "    as_supervised=True)"
      ],
      "execution_count": null,
      "outputs": [
        {
          "output_type": "stream",
          "text": [
            "\u001b[1mDownloading and preparing dataset imdb_reviews/plain_text/1.0.0 (download: 80.23 MiB, generated: Unknown size, total: 80.23 MiB) to /root/tensorflow_datasets/imdb_reviews/plain_text/1.0.0...\u001b[0m\n"
          ],
          "name": "stdout"
        },
        {
          "output_type": "display_data",
          "data": {
            "application/vnd.jupyter.widget-view+json": {
              "model_id": "188ebece67034135b34837e388701a49",
              "version_minor": 0,
              "version_major": 2
            },
            "text/plain": [
              "HBox(children=(FloatProgress(value=1.0, bar_style='info', description='Dl Completed...', max=1.0, style=Progre…"
            ]
          },
          "metadata": {
            "tags": []
          }
        },
        {
          "output_type": "display_data",
          "data": {
            "application/vnd.jupyter.widget-view+json": {
              "model_id": "dc5d0fa231fc45769e5a0452dd161115",
              "version_minor": 0,
              "version_major": 2
            },
            "text/plain": [
              "HBox(children=(FloatProgress(value=1.0, bar_style='info', description='Dl Size...', max=1.0, style=ProgressSty…"
            ]
          },
          "metadata": {
            "tags": []
          }
        },
        {
          "output_type": "stream",
          "text": [
            "\n",
            "\n",
            "\n",
            "\n"
          ],
          "name": "stdout"
        },
        {
          "output_type": "display_data",
          "data": {
            "application/vnd.jupyter.widget-view+json": {
              "model_id": "e9ec2d20a0d346509d5f693bac7573e2",
              "version_minor": 0,
              "version_major": 2
            },
            "text/plain": [
              "HBox(children=(FloatProgress(value=1.0, bar_style='info', max=1.0), HTML(value='')))"
            ]
          },
          "metadata": {
            "tags": []
          }
        },
        {
          "output_type": "stream",
          "text": [
            "\rShuffling and writing examples to /root/tensorflow_datasets/imdb_reviews/plain_text/1.0.0.incompleteAQB5QT/imdb_reviews-train.tfrecord\n"
          ],
          "name": "stdout"
        },
        {
          "output_type": "display_data",
          "data": {
            "application/vnd.jupyter.widget-view+json": {
              "model_id": "1332b1d446124f6b92749e63a0ad0a41",
              "version_minor": 0,
              "version_major": 2
            },
            "text/plain": [
              "HBox(children=(FloatProgress(value=0.0, max=25000.0), HTML(value='')))"
            ]
          },
          "metadata": {
            "tags": []
          }
        },
        {
          "output_type": "stream",
          "text": [
            "\r"
          ],
          "name": "stdout"
        },
        {
          "output_type": "display_data",
          "data": {
            "application/vnd.jupyter.widget-view+json": {
              "model_id": "1f4753e851564bba9d6406ff55545ae6",
              "version_minor": 0,
              "version_major": 2
            },
            "text/plain": [
              "HBox(children=(FloatProgress(value=1.0, bar_style='info', max=1.0), HTML(value='')))"
            ]
          },
          "metadata": {
            "tags": []
          }
        },
        {
          "output_type": "stream",
          "text": [
            "\rShuffling and writing examples to /root/tensorflow_datasets/imdb_reviews/plain_text/1.0.0.incompleteAQB5QT/imdb_reviews-test.tfrecord\n"
          ],
          "name": "stdout"
        },
        {
          "output_type": "display_data",
          "data": {
            "application/vnd.jupyter.widget-view+json": {
              "model_id": "30bb9c01759d4b87ae493403f4f29c82",
              "version_minor": 0,
              "version_major": 2
            },
            "text/plain": [
              "HBox(children=(FloatProgress(value=0.0, max=25000.0), HTML(value='')))"
            ]
          },
          "metadata": {
            "tags": []
          }
        },
        {
          "output_type": "stream",
          "text": [
            "\r"
          ],
          "name": "stdout"
        },
        {
          "output_type": "display_data",
          "data": {
            "application/vnd.jupyter.widget-view+json": {
              "model_id": "39bcb85618fe48f28387fd708042b4f0",
              "version_minor": 0,
              "version_major": 2
            },
            "text/plain": [
              "HBox(children=(FloatProgress(value=1.0, bar_style='info', max=1.0), HTML(value='')))"
            ]
          },
          "metadata": {
            "tags": []
          }
        },
        {
          "output_type": "stream",
          "text": [
            "\rShuffling and writing examples to /root/tensorflow_datasets/imdb_reviews/plain_text/1.0.0.incompleteAQB5QT/imdb_reviews-unsupervised.tfrecord\n"
          ],
          "name": "stdout"
        },
        {
          "output_type": "display_data",
          "data": {
            "application/vnd.jupyter.widget-view+json": {
              "model_id": "5192c84efb9b48ed84782de5d00f77b9",
              "version_minor": 0,
              "version_major": 2
            },
            "text/plain": [
              "HBox(children=(FloatProgress(value=0.0, max=50000.0), HTML(value='')))"
            ]
          },
          "metadata": {
            "tags": []
          }
        },
        {
          "output_type": "stream",
          "text": [
            "\u001b[1mDataset imdb_reviews downloaded and prepared to /root/tensorflow_datasets/imdb_reviews/plain_text/1.0.0. Subsequent calls will reuse this data.\u001b[0m\n",
            "\r"
          ],
          "name": "stdout"
        }
      ]
    },
    {
      "cell_type": "code",
      "metadata": {
        "id": "gqNiPfJcGwKR"
      },
      "source": [
        "from tensorflow.keras.layers.experimental.preprocessing import TextVectorization\n",
        "\n",
        "vocabulary_size = 10000\n",
        "sentence_size = 100\n",
        "vectorize_layer = TextVectorization(max_tokens=vocabulary_size, output_sequence_length=sentence_size)"
      ],
      "execution_count": null,
      "outputs": []
    },
    {
      "cell_type": "code",
      "metadata": {
        "id": "1vhnZ4_IocxA"
      },
      "source": [
        "train_text = train_data.map(lambda x, y: x)\n",
        "vectorize_layer.adapt(train_text)"
      ],
      "execution_count": null,
      "outputs": []
    },
    {
      "cell_type": "markdown",
      "metadata": {
        "id": "nrEWp3dXNPcP"
      },
      "source": [
        "Using tensorflow hub for RNN architectures is not straight-forward, because it returns a document vector, and we need word embeddings as input. There are 2 solutions:\n",
        "\n",
        "\n",
        "\n",
        "1.   Tokenize the words and only then transform them separately through a HUB layer, then reshape the resulting tensor to put the words in a sentence together (tricky)\n",
        "2.   Load pre-trained embeddings and create the embedding matrix yourself\n",
        "\n",
        "Let's try approach #2 "
      ]
    },
    {
      "cell_type": "markdown",
      "metadata": {
        "id": "f_BckYtvpjU8"
      },
      "source": [
        "For this reason, loading external pre-trained embeddings is tedious. Let's try loading the GloVe embeddings with 100 dimensions:"
      ]
    },
    {
      "cell_type": "code",
      "metadata": {
        "id": "vsf-73sHpqiz",
        "colab": {
          "base_uri": "https://localhost:8080/",
          "height": 372
        },
        "outputId": "2199d715-39d3-4e47-e70a-52f0f9f7cc07"
      },
      "source": [
        "!wget http://nlp.stanford.edu/data/glove.6B.zip\n",
        "!unzip -q glove.6B.zip"
      ],
      "execution_count": null,
      "outputs": [
        {
          "output_type": "stream",
          "text": [
            "--2020-10-23 08:50:36--  http://nlp.stanford.edu/data/glove.6B.zip\n",
            "Resolving nlp.stanford.edu (nlp.stanford.edu)... 171.64.67.140\n",
            "Connecting to nlp.stanford.edu (nlp.stanford.edu)|171.64.67.140|:80... connected.\n",
            "HTTP request sent, awaiting response... 302 Found\n",
            "Location: https://nlp.stanford.edu/data/glove.6B.zip [following]\n",
            "--2020-10-23 08:50:37--  https://nlp.stanford.edu/data/glove.6B.zip\n",
            "Connecting to nlp.stanford.edu (nlp.stanford.edu)|171.64.67.140|:443... connected.\n",
            "HTTP request sent, awaiting response... 301 Moved Permanently\n",
            "Location: http://downloads.cs.stanford.edu/nlp/data/glove.6B.zip [following]\n",
            "--2020-10-23 08:50:37--  http://downloads.cs.stanford.edu/nlp/data/glove.6B.zip\n",
            "Resolving downloads.cs.stanford.edu (downloads.cs.stanford.edu)... 171.64.64.22\n",
            "Connecting to downloads.cs.stanford.edu (downloads.cs.stanford.edu)|171.64.64.22|:80... connected.\n",
            "HTTP request sent, awaiting response... 200 OK\n",
            "Length: 862182613 (822M) [application/zip]\n",
            "Saving to: ‘glove.6B.zip’\n",
            "\n",
            "glove.6B.zip        100%[===================>] 822.24M  2.15MB/s    in 6m 26s  \n",
            "\n",
            "2020-10-23 08:57:03 (2.13 MB/s) - ‘glove.6B.zip’ saved [862182613/862182613]\n",
            "\n"
          ],
          "name": "stdout"
        }
      ]
    },
    {
      "cell_type": "code",
      "metadata": {
        "id": "5xt9b0Ylp22P",
        "colab": {
          "base_uri": "https://localhost:8080/",
          "height": 34
        },
        "outputId": "0ad3f191-35ed-4ac4-eafc-efb7f301568e"
      },
      "source": [
        "import numpy as np\n",
        "\n",
        "embeddings_index = {}\n",
        "with open(\"glove.6B.100d.txt\") as f:\n",
        "    for line in f:\n",
        "        word, coefs = line.split(maxsplit=1)\n",
        "        coefs = np.fromstring(coefs, dtype=\"f\", sep=\" \")\n",
        "        embeddings_index[word] = coefs\n",
        "len(embeddings_index)"
      ],
      "execution_count": null,
      "outputs": [
        {
          "output_type": "execute_result",
          "data": {
            "text/plain": [
              "400000"
            ]
          },
          "metadata": {
            "tags": []
          },
          "execution_count": 14
        }
      ]
    },
    {
      "cell_type": "code",
      "metadata": {
        "id": "lvgxwoS2ss3D",
        "colab": {
          "base_uri": "https://localhost:8080/",
          "height": 318
        },
        "outputId": "966ec59d-2838-43a8-e007-f4fa77fdb5b7"
      },
      "source": [
        "embeddings_index[\"germany\"]"
      ],
      "execution_count": null,
      "outputs": [
        {
          "output_type": "execute_result",
          "data": {
            "text/plain": [
              "array([ 0.62089 ,  0.71051 ,  0.49581 ,  0.2182  ,  0.18127 , -0.92589 ,\n",
              "       -0.30954 , -0.15834 , -0.07074 , -0.084606,  0.6675  , -0.31942 ,\n",
              "       -0.66679 ,  0.96027 ,  0.14904 ,  0.4003  ,  0.6387  , -0.74965 ,\n",
              "       -0.98889 , -0.1133  ,  0.32911 ,  0.97882 ,  0.3331  ,  1.3617  ,\n",
              "       -0.14774 , -1.4021  ,  0.29626 ,  0.13054 ,  1.1928  ,  0.076387,\n",
              "       -0.7157  ,  0.13113 , -0.50277 , -0.37225 ,  0.61614 ,  0.29827 ,\n",
              "        0.88864 , -0.34603 , -0.86274 , -0.42865 , -0.50206 , -0.65342 ,\n",
              "        0.50815 ,  0.7233  , -0.12165 , -0.4388  ,  1.5427  ,  0.01085 ,\n",
              "        0.32925 , -0.50504 ,  0.42031 ,  0.2242  , -0.40981 ,  1.1989  ,\n",
              "       -0.88256 , -2.2866  , -0.20654 ,  0.01268 ,  0.91281 ,  0.21769 ,\n",
              "        1.2248  ,  0.0864  , -0.14858 ,  0.003622,  0.62902 ,  0.29895 ,\n",
              "       -0.79931 ,  1.2537  ,  0.16826 , -0.063013, -0.058029, -0.73259 ,\n",
              "       -0.53952 ,  0.16578 ,  0.47429 ,  0.48791 ,  0.099387, -0.68582 ,\n",
              "       -0.32279 ,  0.32005 ,  1.0429  ,  0.053037, -0.76444 ,  0.60452 ,\n",
              "       -1.0789  , -0.702   , -0.71156 ,  0.46185 , -0.09204 , -0.11692 ,\n",
              "        0.034927, -0.41649 ,  0.82345 ,  0.82755 , -0.22434 ,  0.25671 ,\n",
              "        0.12455 ,  0.24843 ,  0.71266 , -0.27483 ], dtype=float32)"
            ]
          },
          "metadata": {
            "tags": []
          },
          "execution_count": 13
        }
      ]
    },
    {
      "cell_type": "markdown",
      "metadata": {
        "id": "MdGn2nZjwQT2"
      },
      "source": [
        "Now, let's pair up the vectorized training data with the embeddings. \n",
        "\n",
        "We need to prerepare a corresponding embedding matrix that we can use in a Keras Embedding layer. It's a simple NumPy matrix where entry at index i is the pre-trained vector for the word of index i in our vectorizer's vocabulary"
      ]
    },
    {
      "cell_type": "code",
      "metadata": {
        "id": "YclVnbnzyEZd",
        "colab": {
          "base_uri": "https://localhost:8080/",
          "height": 34
        },
        "outputId": "d2500ceb-d26a-417c-cdc5-3715eacc5338"
      },
      "source": [
        "vocabulary = vectorize_layer.get_vocabulary()\n",
        "word_index = dict(zip(vocabulary, range(len(vocabulary))))\n",
        "word_index[\"germany\"]"
      ],
      "execution_count": null,
      "outputs": [
        {
          "output_type": "execute_result",
          "data": {
            "text/plain": [
              "2112"
            ]
          },
          "metadata": {
            "tags": []
          },
          "execution_count": 66
        }
      ]
    },
    {
      "cell_type": "code",
      "metadata": {
        "id": "ggl-wjrkxim2",
        "colab": {
          "base_uri": "https://localhost:8080/",
          "height": 34
        },
        "outputId": "a4c2aaac-34be-461c-89db-a4b7e2928a10"
      },
      "source": [
        "num_tokens = len(vocabulary) + 2 # 2 tokens: 1 for unknown and 1 for padding!!!\n",
        "embedding_dim = 100\n",
        "hits = 0\n",
        "misses = 0\n",
        "\n",
        "embedding_matrix = np.zeros((num_tokens, embedding_dim))\n",
        "for word, i in word_index.items():\n",
        "    embedding_vector = embeddings_index.get(word)\n",
        "    if embedding_vector is not None:\n",
        "        # Words not found in embedding index will be all-zeros.\n",
        "        # This includes the representation for \"padding\" and \"OOV\"\n",
        "        embedding_matrix[i] = embedding_vector\n",
        "        hits += 1\n",
        "    else:\n",
        "        misses += 1\n",
        "print(hits, misses)"
      ],
      "execution_count": null,
      "outputs": [
        {
          "output_type": "stream",
          "text": [
            "9676 324\n"
          ],
          "name": "stdout"
        }
      ]
    },
    {
      "cell_type": "code",
      "metadata": {
        "id": "CRcfXXsvzVj2"
      },
      "source": [
        "embedding_layer = tf.keras.layers.Embedding(\n",
        "    num_tokens,\n",
        "    embedding_dim,\n",
        "    embeddings_initializer=keras.initializers.Constant(embedding_matrix),\n",
        "    trainable=True,\n",
        ")"
      ],
      "execution_count": null,
      "outputs": []
    },
    {
      "cell_type": "markdown",
      "metadata": {
        "id": "p6j_cvqGzvyi"
      },
      "source": [
        "Let's first try a FNN model"
      ]
    },
    {
      "cell_type": "code",
      "metadata": {
        "id": "JxO7qaspNDMT"
      },
      "source": [
        "model = tf.keras.models.Sequential()\n",
        "model.add(vectorize_layer)\n",
        "model.add(embedding_layer)\n",
        "model.add(tf.keras.layers.GlobalAveragePooling1D())\n",
        "model.add(tf.keras.layers.Dense(16, activation='relu'))\n",
        "model.add(tf.keras.layers.Dense(1, activation=\"sigmoid\"))"
      ],
      "execution_count": null,
      "outputs": []
    },
    {
      "cell_type": "code",
      "metadata": {
        "id": "IXRg7W-QNGSA"
      },
      "source": [
        "model.compile(optimizer='adam',\n",
        "              loss='BinaryCrossentropy',\n",
        "              metrics=['accuracy', 'Precision'])"
      ],
      "execution_count": null,
      "outputs": []
    },
    {
      "cell_type": "code",
      "metadata": {
        "id": "gA6_hKBtNLFQ",
        "colab": {
          "base_uri": "https://localhost:8080/",
          "height": 392
        },
        "outputId": "d732fce2-df02-4df7-956f-0a4c7f63f752"
      },
      "source": [
        "history = model.fit(train_data.batch(512),\n",
        "                    epochs=10,\n",
        "                    validation_data=validation_data.batch(512))"
      ],
      "execution_count": null,
      "outputs": [
        {
          "output_type": "stream",
          "text": [
            "Epoch 1/10\n",
            "30/30 [==============================] - 5s 154ms/step - loss: 0.6816 - accuracy: 0.6555 - precision: 0.7342 - val_loss: 0.6499 - val_accuracy: 0.7954 - val_precision: 0.7840\n",
            "Epoch 2/10\n",
            "30/30 [==============================] - 4s 143ms/step - loss: 0.6179 - accuracy: 0.8417 - precision: 0.9037 - val_loss: 0.6072 - val_accuracy: 0.8068 - val_precision: 0.8180\n",
            "Epoch 3/10\n",
            "30/30 [==============================] - 4s 131ms/step - loss: 0.5609 - accuracy: 0.8718 - precision: 0.8847 - val_loss: 0.5573 - val_accuracy: 0.8098 - val_precision: 0.8256\n",
            "Epoch 4/10\n",
            "30/30 [==============================] - 4s 129ms/step - loss: 0.4938 - accuracy: 0.8786 - precision: 0.8753 - val_loss: 0.4982 - val_accuracy: 0.8175 - val_precision: 0.8252\n",
            "Epoch 5/10\n",
            "30/30 [==============================] - 4s 128ms/step - loss: 0.4181 - accuracy: 0.8859 - precision: 0.8791 - val_loss: 0.4482 - val_accuracy: 0.8241 - val_precision: 0.8222\n",
            "Epoch 6/10\n",
            "30/30 [==============================] - 4s 132ms/step - loss: 0.3593 - accuracy: 0.8904 - precision: 0.8835 - val_loss: 0.4176 - val_accuracy: 0.8250 - val_precision: 0.8257\n",
            "Epoch 7/10\n",
            "30/30 [==============================] - 4s 133ms/step - loss: 0.3187 - accuracy: 0.8961 - precision: 0.8907 - val_loss: 0.4009 - val_accuracy: 0.8281 - val_precision: 0.8296\n",
            "Epoch 8/10\n",
            "30/30 [==============================] - 4s 134ms/step - loss: 0.2902 - accuracy: 0.8999 - precision: 0.8955 - val_loss: 0.3925 - val_accuracy: 0.8302 - val_precision: 0.8319\n",
            "Epoch 9/10\n",
            "30/30 [==============================] - 4s 130ms/step - loss: 0.2691 - accuracy: 0.9043 - precision: 0.9004 - val_loss: 0.3888 - val_accuracy: 0.8298 - val_precision: 0.8316\n",
            "Epoch 10/10\n",
            "30/30 [==============================] - 4s 131ms/step - loss: 0.2524 - accuracy: 0.9079 - precision: 0.9044 - val_loss: 0.3880 - val_accuracy: 0.8302 - val_precision: 0.8331\n"
          ],
          "name": "stdout"
        }
      ]
    },
    {
      "cell_type": "code",
      "metadata": {
        "id": "Q-MmvSPznNLq",
        "colab": {
          "base_uri": "https://localhost:8080/",
          "height": 52
        },
        "outputId": "66678bda-8d10-4480-ebdd-2e590c2b8543"
      },
      "source": [
        "model.evaluate(test_data.batch(512))"
      ],
      "execution_count": null,
      "outputs": [
        {
          "output_type": "stream",
          "text": [
            "49/49 [==============================] - 3s 63ms/step - loss: 0.4103 - accuracy: 0.8121 - precision: 0.8239\n"
          ],
          "name": "stdout"
        },
        {
          "output_type": "execute_result",
          "data": {
            "text/plain": [
              "[0.410267174243927, 0.8120800256729126, 0.8238956928253174]"
            ]
          },
          "metadata": {
            "tags": []
          },
          "execution_count": 139
        }
      ]
    },
    {
      "cell_type": "code",
      "metadata": {
        "id": "c1BO1rXHdtGB",
        "colab": {
          "base_uri": "https://localhost:8080/",
          "height": 34
        },
        "outputId": "d2a3ec1d-8740-4f7e-dd29-b90e9344d9f9"
      },
      "source": [
        "to_predict = tf.convert_to_tensor(np.array([\"This movie was the worst I have ever seen\", ]))\n",
        "model.predict(to_predict)"
      ],
      "execution_count": null,
      "outputs": [
        {
          "output_type": "execute_result",
          "data": {
            "text/plain": [
              "array([[0.34178954]], dtype=float32)"
            ]
          },
          "metadata": {
            "tags": []
          },
          "execution_count": 127
        }
      ]
    },
    {
      "cell_type": "code",
      "metadata": {
        "id": "5AwWOpT78n2O",
        "colab": {
          "base_uri": "https://localhost:8080/",
          "height": 70
        },
        "outputId": "211aa8f8-65b3-47b7-8f19-da799448b5fc"
      },
      "source": [
        "predicted = model.predict(test_data.batch(512))\n",
        "pred_class = [0 if p <= 0.5 else 1 for p in predicted]\n",
        "test_class = [y.numpy() for y in test_data.map(lambda x, y: y)]\n",
        "tf.math.confusion_matrix(test_class, pred_class)"
      ],
      "execution_count": null,
      "outputs": [
        {
          "output_type": "execute_result",
          "data": {
            "text/plain": [
              "<tf.Tensor: shape=(2, 2), dtype=int32, numpy=\n",
              "array([[10300,  2200],\n",
              "       [ 2524,  9976]], dtype=int32)>"
            ]
          },
          "metadata": {
            "tags": []
          },
          "execution_count": 132
        }
      ]
    },
    {
      "cell_type": "code",
      "metadata": {
        "id": "Rsn5WvI46qnC",
        "colab": {
          "base_uri": "https://localhost:8080/",
          "height": 336
        },
        "outputId": "e814d5be-9c9f-4be1-cc21-3c7ce3bc4216"
      },
      "source": [
        "model.summary()"
      ],
      "execution_count": null,
      "outputs": [
        {
          "output_type": "stream",
          "text": [
            "Model: \"sequential_22\"\n",
            "_________________________________________________________________\n",
            "Layer (type)                 Output Shape              Param #   \n",
            "=================================================================\n",
            "text_vectorization_8 (TextVe (None, 100)               0         \n",
            "_________________________________________________________________\n",
            "embedding_1 (Embedding)      (None, 100, 100)          1000200   \n",
            "_________________________________________________________________\n",
            "global_average_pooling1d_7 ( (None, 100)               0         \n",
            "_________________________________________________________________\n",
            "dense_9 (Dense)              (None, 16)                1616      \n",
            "_________________________________________________________________\n",
            "dense_10 (Dense)             (None, 1)                 17        \n",
            "=================================================================\n",
            "Total params: 1,001,833\n",
            "Trainable params: 1,001,833\n",
            "Non-trainable params: 0\n",
            "_________________________________________________________________\n"
          ],
          "name": "stdout"
        }
      ]
    },
    {
      "cell_type": "markdown",
      "metadata": {
        "id": "uQulxakGvPB_"
      },
      "source": [
        "## RNNs"
      ]
    },
    {
      "cell_type": "markdown",
      "metadata": {
        "id": "yXEosJe7QTEQ"
      },
      "source": [
        "Let's unleash the RNN power"
      ]
    },
    {
      "cell_type": "code",
      "metadata": {
        "id": "zGsO57SOQWPp"
      },
      "source": [
        "model = tf.keras.models.Sequential()\n",
        "model.add(vectorize_layer)\n",
        "model.add(embedding_layer)\n",
        "model.add(tf.keras.layers.Bidirectional(tf.keras.layers.LSTM(100)))\n",
        "model.add(tf.keras.layers.Dense(16, activation='relu'))\n",
        "model.add(tf.keras.layers.Dense(1, activation=\"sigmoid\"))"
      ],
      "execution_count": null,
      "outputs": []
    },
    {
      "cell_type": "code",
      "metadata": {
        "id": "NPF73eNAnCbV"
      },
      "source": [
        "model.compile(optimizer='adam',\n",
        "              loss='BinaryCrossentropy',\n",
        "              metrics=['accuracy', 'Precision'])"
      ],
      "execution_count": null,
      "outputs": []
    },
    {
      "cell_type": "code",
      "metadata": {
        "id": "7xiz_c54n5Ji",
        "colab": {
          "base_uri": "https://localhost:8080/",
          "height": 392
        },
        "outputId": "2b2fac1a-13b1-4156-8957-b11b5a101c9d"
      },
      "source": [
        "history = model.fit(train_data.batch(512),\n",
        "                    epochs=10,\n",
        "                    validation_data=validation_data.batch(512))"
      ],
      "execution_count": null,
      "outputs": [
        {
          "output_type": "stream",
          "text": [
            "Epoch 1/10\n",
            "30/30 [==============================] - 56s 2s/step - loss: 0.4727 - accuracy: 0.7844 - precision: 0.7568 - val_loss: 0.4780 - val_accuracy: 0.7821 - val_precision: 0.8814\n",
            "Epoch 2/10\n",
            "30/30 [==============================] - 55s 2s/step - loss: 0.2661 - accuracy: 0.8943 - precision: 0.8977 - val_loss: 0.4465 - val_accuracy: 0.8152 - val_precision: 0.8512\n",
            "Epoch 3/10\n",
            "30/30 [==============================] - 55s 2s/step - loss: 0.2175 - accuracy: 0.9179 - precision: 0.9173 - val_loss: 0.4538 - val_accuracy: 0.8209 - val_precision: 0.8530\n",
            "Epoch 4/10\n",
            "30/30 [==============================] - 55s 2s/step - loss: 0.1952 - accuracy: 0.9278 - precision: 0.9294 - val_loss: 0.4529 - val_accuracy: 0.8239 - val_precision: 0.8460\n",
            "Epoch 5/10\n",
            "30/30 [==============================] - 55s 2s/step - loss: 0.1785 - accuracy: 0.9327 - precision: 0.9345 - val_loss: 0.4774 - val_accuracy: 0.8258 - val_precision: 0.7987\n",
            "Epoch 6/10\n",
            "30/30 [==============================] - 56s 2s/step - loss: 0.1738 - accuracy: 0.9352 - precision: 0.9327 - val_loss: 0.5055 - val_accuracy: 0.8075 - val_precision: 0.8732\n",
            "Epoch 7/10\n",
            "30/30 [==============================] - 56s 2s/step - loss: 0.1601 - accuracy: 0.9395 - precision: 0.9401 - val_loss: 0.4792 - val_accuracy: 0.8262 - val_precision: 0.8365\n",
            "Epoch 8/10\n",
            "30/30 [==============================] - 58s 2s/step - loss: 0.1377 - accuracy: 0.9496 - precision: 0.9498 - val_loss: 0.4887 - val_accuracy: 0.8245 - val_precision: 0.8349\n",
            "Epoch 9/10\n",
            "30/30 [==============================] - 58s 2s/step - loss: 0.1237 - accuracy: 0.9563 - precision: 0.9561 - val_loss: 0.5530 - val_accuracy: 0.8217 - val_precision: 0.8333\n",
            "Epoch 10/10\n",
            "30/30 [==============================] - 60s 2s/step - loss: 0.1117 - accuracy: 0.9643 - precision: 0.9632 - val_loss: 0.6000 - val_accuracy: 0.8192 - val_precision: 0.8331\n"
          ],
          "name": "stdout"
        }
      ]
    },
    {
      "cell_type": "code",
      "metadata": {
        "id": "3Xe6FHZfq5sX",
        "colab": {
          "base_uri": "https://localhost:8080/",
          "height": 52
        },
        "outputId": "cbc07ba1-d4fa-4612-9201-14d71ad8b3fe"
      },
      "source": [
        "model.evaluate(test_data.batch(512))"
      ],
      "execution_count": null,
      "outputs": [
        {
          "output_type": "stream",
          "text": [
            "49/49 [==============================] - 26s 533ms/step - loss: 0.6750 - accuracy: 0.7986 - precision: 0.8262\n"
          ],
          "name": "stdout"
        },
        {
          "output_type": "execute_result",
          "data": {
            "text/plain": [
              "[0.6750153303146362, 0.7986000180244446, 0.826181948184967]"
            ]
          },
          "metadata": {
            "tags": []
          },
          "execution_count": 143
        }
      ]
    },
    {
      "cell_type": "markdown",
      "metadata": {
        "id": "JCDFh0H4rLx2"
      },
      "source": [
        "Model overfits more than previous model! What can we do? \n",
        "\n",
        "\n",
        "*   Early stopping\n",
        "*   Get more data\n",
        "*   Use dropout\n",
        "\n"
      ]
    },
    {
      "cell_type": "code",
      "metadata": {
        "id": "CXVnu2wetNC_"
      },
      "source": [
        "model = tf.keras.models.Sequential()\n",
        "model.add(vectorize_layer)\n",
        "model.add(embedding_layer)\n",
        "model.add(tf.keras.layers.Bidirectional(tf.keras.layers.LSTM(100, dropout=0.5, return_sequences=True)))\n",
        "model.add(tf.keras.layers.Bidirectional(tf.keras.layers.LSTM(100)))\n",
        "model.add(tf.keras.layers.Dense(16, activation='relu'))\n",
        "model.add(tf.keras.layers.Dense(1, activation=\"sigmoid\"))"
      ],
      "execution_count": null,
      "outputs": []
    },
    {
      "cell_type": "code",
      "metadata": {
        "id": "muZs-8fHt8Ob",
        "colab": {
          "base_uri": "https://localhost:8080/",
          "height": 178
        },
        "outputId": "84c19316-44fb-46cc-91eb-0ceb673c16fb"
      },
      "source": [
        "model.compile(optimizer='adam',\n",
        "              loss='BinaryCrossentropy',\n",
        "              metrics=['accuracy', 'Precision'])\n",
        "\n",
        "early_stopping_cb = tf.keras.callbacks.EarlyStopping(patience=3, restore_best_weights=True)\n",
        "history = model.fit(train_data.batch(512),\n",
        "                    epochs=10,\n",
        "                    validation_data=validation_data.batch(512),\n",
        "                    callbacks=[early_stopping_cb])"
      ],
      "execution_count": null,
      "outputs": [
        {
          "output_type": "stream",
          "text": [
            "Epoch 1/10\n",
            "30/30 [==============================] - 131s 4s/step - loss: 0.3812 - accuracy: 0.8214 - precision: 0.8124 - val_loss: 0.5399 - val_accuracy: 0.8031 - val_precision: 0.8637\n",
            "Epoch 2/10\n",
            "30/30 [==============================] - 131s 4s/step - loss: 0.1941 - accuracy: 0.9275 - precision: 0.9322 - val_loss: 0.6434 - val_accuracy: 0.8232 - val_precision: 0.8322\n",
            "Epoch 3/10\n",
            "30/30 [==============================] - 130s 4s/step - loss: 0.1478 - accuracy: 0.9451 - precision: 0.9451 - val_loss: 0.6864 - val_accuracy: 0.8213 - val_precision: 0.8362\n",
            "Epoch 4/10\n",
            "30/30 [==============================] - 127s 4s/step - loss: 0.1305 - accuracy: 0.9523 - precision: 0.9514 - val_loss: 0.7457 - val_accuracy: 0.8219 - val_precision: 0.8122\n"
          ],
          "name": "stdout"
        }
      ]
    },
    {
      "cell_type": "code",
      "metadata": {
        "id": "hJ5iaIpzwsfA",
        "colab": {
          "base_uri": "https://localhost:8080/",
          "height": 52
        },
        "outputId": "daa6db91-e5d2-4089-a38c-1c8bdb0b8b04"
      },
      "source": [
        "model.evaluate(test_data.batch(512))"
      ],
      "execution_count": null,
      "outputs": [
        {
          "output_type": "stream",
          "text": [
            "49/49 [==============================] - 57s 1s/step - loss: 0.5881 - accuracy: 0.7843 - precision: 0.8613\n"
          ],
          "name": "stdout"
        },
        {
          "output_type": "execute_result",
          "data": {
            "text/plain": [
              "[0.5880893468856812, 0.7843199968338013, 0.8612523078918457]"
            ]
          },
          "metadata": {
            "tags": []
          },
          "execution_count": 157
        }
      ]
    },
    {
      "cell_type": "markdown",
      "metadata": {
        "id": "ivcvgQUMxuNz"
      },
      "source": [
        "The dataset is actually too small for LSTM to be of any advantage\n",
        "compared to simpler, much faster methods. "
      ]
    },
    {
      "cell_type": "markdown",
      "metadata": {
        "id": "zM-Z_UC52mns"
      },
      "source": [
        "**Tip** The model should learn that the padding tokens are to be ignored. Help the model from the beggining and tell to ignore embeddings with zero values. This proces is called **masking**  and can be achieved by adding to the Embedding layer the parameter *mask_zero=True*"
      ]
    },
    {
      "cell_type": "markdown",
      "metadata": {
        "id": "U8QZYz_L0pee"
      },
      "source": [
        "# Text Generation"
      ]
    },
    {
      "cell_type": "markdown",
      "metadata": {
        "id": "v5QYXwiH6zo2"
      },
      "source": [
        "Recommendation: Train with GPU! Runtime > Change runtime type > Hardware accelerator > GPU."
      ]
    },
    {
      "cell_type": "code",
      "metadata": {
        "id": "LSMOa8f46iMU",
        "colab": {
          "base_uri": "https://localhost:8080/"
        },
        "outputId": "4b2c6275-c366-4284-b491-ad52ac4094ca"
      },
      "source": [
        "from google.colab import drive\n",
        "drive.mount('/content/drive')"
      ],
      "execution_count": null,
      "outputs": [
        {
          "output_type": "stream",
          "text": [
            "Mounted at /content/drive\n"
          ],
          "name": "stdout"
        }
      ]
    },
    {
      "cell_type": "code",
      "metadata": {
        "id": "CrkL3-yI_Z_u"
      },
      "source": [
        "path = \"/content/drive/My Drive/\" + \"DL-NLP/\""
      ],
      "execution_count": null,
      "outputs": []
    },
    {
      "cell_type": "code",
      "metadata": {
        "id": "KUi5momfLMQl"
      },
      "source": [
        "got_text = \"\"\n",
        "with open(path + \"Data/game_of_thrones.txt\", \"rb\") as file:\n",
        "    for f in file:\n",
        "      line = f.strip()\n",
        "      line = line.decode('unicode_escape').encode('ascii','ignore')\n",
        "      got_text += str(line)\n",
        "got_text = got_text.replace(\"'b'\", \" \").replace(\"'b\\\"\", \" \").replace(\"\\\"b'\", \"\").replace(\"/\", \" \").replace(\"\\\\\", \"\")[2:]"
      ],
      "execution_count": null,
      "outputs": []
    },
    {
      "cell_type": "code",
      "metadata": {
        "id": "uSyj9y8qLnKJ",
        "colab": {
          "base_uri": "https://localhost:8080/"
        },
        "outputId": "b0d4b1d9-9af3-4dd3-d79e-95bb43c4592c"
      },
      "source": [
        "vocab = sorted(set(got_text))\n",
        "print(len(vocab))"
      ],
      "execution_count": null,
      "outputs": [
        {
          "output_type": "stream",
          "text": [
            "84\n"
          ],
          "name": "stdout"
        }
      ]
    },
    {
      "cell_type": "code",
      "metadata": {
        "id": "qV-ksB77YNAP"
      },
      "source": [
        "import numpy as np\n",
        "\n",
        "# create mapping from vocab chars to ints\n",
        "char2id = {c:i for i, c in enumerate(vocab)}\n",
        "id2char = {i:c for c, i in char2id.items()}\n",
        "\n",
        "# numericize the texts\n",
        "texts_as_ints = np.array([char2id[c] for c in got_text])\n",
        "data = tf.data.Dataset.from_tensor_slices(texts_as_ints)"
      ],
      "execution_count": null,
      "outputs": []
    },
    {
      "cell_type": "code",
      "metadata": {
        "id": "lxc-LUwFg5y8",
        "colab": {
          "base_uri": "https://localhost:8080/"
        },
        "outputId": "fcd22b2b-e9bf-49d2-a543-526f06206d4e"
      },
      "source": [
        "for i in data.take(5):\n",
        "    print(id2char[i.numpy()])"
      ],
      "execution_count": null,
      "outputs": [
        {
          "output_type": "stream",
          "text": [
            "A\n",
            " \n",
            "G\n",
            "a\n",
            "m\n"
          ],
          "name": "stdout"
        }
      ]
    },
    {
      "cell_type": "code",
      "metadata": {
        "id": "y-qV9PRDYaib"
      },
      "source": [
        "def split_train_labels(sequence):\n",
        "    input_seq = sequence[:-1]\n",
        "    output_seq = sequence[1:]\n",
        "    return input_seq, output_seq\n",
        "\n",
        "seq_length = 100\n",
        "sequences = data.batch(seq_length + 1, drop_remainder=True)\n",
        "dataset = sequences.map(split_train_labels)"
      ],
      "execution_count": null,
      "outputs": []
    },
    {
      "cell_type": "code",
      "metadata": {
        "id": "LOgbNMSIYf3s",
        "colab": {
          "base_uri": "https://localhost:8080/"
        },
        "outputId": "e3c069e0-f162-4eb7-8916-e9c3d33c301a"
      },
      "source": [
        "for input_seq, output_seq in dataset.take(1):\n",
        "    print(\"input:\", \"\".join([id2char[i] for i in input_seq.numpy()]))\n",
        "    print(\"output:\", \"\".join([id2char[i] for i in output_seq.numpy()]))"
      ],
      "execution_count": null,
      "outputs": [
        {
          "output_type": "stream",
          "text": [
            "input: A Game Of Thrones Book One of A Song of Ice and Fire By George R. R. Martin PROLOGUE \"We should star\n",
            "output:  Game Of Thrones Book One of A Song of Ice and Fire By George R. R. Martin PROLOGUE \"We should start\n"
          ],
          "name": "stdout"
        }
      ]
    },
    {
      "cell_type": "markdown",
      "metadata": {
        "id": "EddHL4KxS5UA"
      },
      "source": [
        "We are going to use a **stateful RNN**. It preserves the final state after processing one training batch and use it as an initial state for the next training batch. (Useful for long sequential texts like novels). We need to specify the batch size to the model in this case.\n",
        "\n",
        "This is very important so that the model can learn **long** sequences"
      ]
    },
    {
      "cell_type": "code",
      "metadata": {
        "id": "7DKVh-S8YtxZ",
        "colab": {
          "base_uri": "https://localhost:8080/"
        },
        "outputId": "fe95764d-b0bd-498b-d332-44723818efbb"
      },
      "source": [
        "vocab_size = len(vocab)\n",
        "embedding_dim = 256\n",
        "batch_size = 64\n",
        "\n",
        "model = tf.keras.Sequential()\n",
        "model.add(tf.keras.layers.Embedding(vocab_size, embedding_dim, batch_input_shape=(batch_size, seq_length)))\n",
        "model.add(tf.keras.layers.GRU(seq_length, recurrent_initializer=\"glorot_uniform\",\n",
        "            recurrent_activation=\"sigmoid\", stateful=True, return_sequences=True))\n",
        "model.add(tf.keras.layers.Dense(vocab_size))\n",
        "model.summary()"
      ],
      "execution_count": null,
      "outputs": [
        {
          "output_type": "stream",
          "text": [
            "Model: \"sequential\"\n",
            "_________________________________________________________________\n",
            "Layer (type)                 Output Shape              Param #   \n",
            "=================================================================\n",
            "embedding (Embedding)        (64, 100, 256)            21504     \n",
            "_________________________________________________________________\n",
            "gru (GRU)                    (64, 100, 100)            107400    \n",
            "_________________________________________________________________\n",
            "dense (Dense)                (64, 100, 84)             8484      \n",
            "=================================================================\n",
            "Total params: 137,388\n",
            "Trainable params: 137,388\n",
            "Non-trainable params: 0\n",
            "_________________________________________________________________\n"
          ],
          "name": "stdout"
        }
      ]
    },
    {
      "cell_type": "markdown",
      "metadata": {
        "id": "yv7VD41cTW_3"
      },
      "source": [
        "We did not use a softmax at the end. It is more common to use the **logits** to sample between words. However, for model evaluation we add the softmax to the loss, by adding *from_logits=True*"
      ]
    },
    {
      "cell_type": "code",
      "metadata": {
        "id": "zyJv8etlY1Kb"
      },
      "source": [
        "def loss(labels, logits):\n",
        "    return tf.losses.sparse_categorical_crossentropy(labels, logits, from_logits=True)\n",
        "\n",
        "model.compile(optimizer=\"adam\", loss=loss)"
      ],
      "execution_count": null,
      "outputs": []
    },
    {
      "cell_type": "code",
      "metadata": {
        "id": "tFFJvhwtVA72",
        "colab": {
          "base_uri": "https://localhost:8080/",
          "height": 52
        },
        "outputId": "6f4c70ef-1582-41ac-d526-5b659ed6b993"
      },
      "source": [
        "y_true = [1, 2]\n",
        "y_pred = [[0.05, 0.95, 0], [0.1, 0.8, 0.1]]\n",
        "loss_example = tf.losses.sparse_categorical_crossentropy(y_true, y_pred)\n",
        "print(loss_example.numpy())\n",
        "\n",
        "y_pred = [[0, 1., 0], [0, 0.01, 0.99]]\n",
        "loss_example = tf.losses.sparse_categorical_crossentropy(y_true, y_pred)\n",
        "print(loss_example.numpy())"
      ],
      "execution_count": null,
      "outputs": [
        {
          "output_type": "stream",
          "text": [
            "[0.05129344 2.3025851 ]\n",
            "[2.3841855e-07 1.0050405e-02]\n"
          ],
          "name": "stdout"
        }
      ]
    },
    {
      "cell_type": "code",
      "metadata": {
        "id": "VMfsmzY9XYRE"
      },
      "source": [
        "checkpoint_dir = path + 'Logs/ckpt_{epoch}'\n",
        "\n",
        "checkpoint_callback = tf.keras.callbacks.ModelCheckpoint(\n",
        "    filepath=checkpoint_dir,\n",
        "    save_weights_only=True)"
      ],
      "execution_count": null,
      "outputs": []
    },
    {
      "cell_type": "markdown",
      "metadata": {
        "id": "NDBd5h2hjj98"
      },
      "source": [
        "Don't do shuffling! When using RNN stateful, the previous state takes into consideration that there is a sequential logic in the batches"
      ]
    },
    {
      "cell_type": "code",
      "metadata": {
        "id": "KY9lYxxXZRca",
        "colab": {
          "base_uri": "https://localhost:8080/"
        },
        "outputId": "96cba766-f0f4-4de5-95c9-c7713f11e782"
      },
      "source": [
        "history = model.fit(dataset.batch(64, drop_remainder=True), epochs=200, callbacks=[checkpoint_callback])"
      ],
      "execution_count": null,
      "outputs": [
        {
          "output_type": "stream",
          "text": [
            "Epoch 1/200\n",
            "1485/1485 [==============================] - 18s 12ms/step - loss: 2.0183\n",
            "Epoch 2/200\n",
            "1485/1485 [==============================] - 16s 11ms/step - loss: 1.6606\n",
            "Epoch 3/200\n",
            "1485/1485 [==============================] - 16s 11ms/step - loss: 1.5796\n",
            "Epoch 4/200\n",
            "1485/1485 [==============================] - 16s 11ms/step - loss: 1.5409\n",
            "Epoch 5/200\n",
            "1485/1485 [==============================] - 16s 11ms/step - loss: 1.5180\n",
            "Epoch 6/200\n",
            "1485/1485 [==============================] - 16s 11ms/step - loss: 1.5025\n",
            "Epoch 7/200\n",
            "1485/1485 [==============================] - 16s 11ms/step - loss: 1.4910\n",
            "Epoch 8/200\n",
            "1485/1485 [==============================] - 17s 11ms/step - loss: 1.4822\n",
            "Epoch 9/200\n",
            "1485/1485 [==============================] - 16s 11ms/step - loss: 1.4752\n",
            "Epoch 10/200\n",
            "1485/1485 [==============================] - 16s 11ms/step - loss: 1.4695\n",
            "Epoch 11/200\n",
            "1485/1485 [==============================] - 16s 11ms/step - loss: 1.4648\n",
            "Epoch 12/200\n",
            "1485/1485 [==============================] - 16s 11ms/step - loss: 1.4609\n",
            "Epoch 13/200\n",
            "1485/1485 [==============================] - 16s 11ms/step - loss: 1.4575\n",
            "Epoch 14/200\n",
            "1485/1485 [==============================] - 16s 11ms/step - loss: 1.4546\n",
            "Epoch 15/200\n",
            "1485/1485 [==============================] - 16s 11ms/step - loss: 1.4520\n",
            "Epoch 16/200\n",
            "1485/1485 [==============================] - 16s 11ms/step - loss: 1.4497\n",
            "Epoch 17/200\n",
            "1485/1485 [==============================] - 16s 11ms/step - loss: 1.4476\n",
            "Epoch 18/200\n",
            "1485/1485 [==============================] - 17s 11ms/step - loss: 1.4458\n",
            "Epoch 19/200\n",
            "1485/1485 [==============================] - 16s 11ms/step - loss: 1.4441\n",
            "Epoch 20/200\n",
            "1485/1485 [==============================] - 17s 11ms/step - loss: 1.4425\n",
            "Epoch 21/200\n",
            "1485/1485 [==============================] - 16s 11ms/step - loss: 1.4411\n",
            "Epoch 22/200\n",
            "1485/1485 [==============================] - 16s 11ms/step - loss: 1.4397\n",
            "Epoch 23/200\n",
            "1485/1485 [==============================] - 16s 11ms/step - loss: 1.4385\n",
            "Epoch 24/200\n",
            "1485/1485 [==============================] - 16s 11ms/step - loss: 1.4374\n",
            "Epoch 25/200\n",
            "1485/1485 [==============================] - 17s 11ms/step - loss: 1.4363\n",
            "Epoch 26/200\n",
            "1485/1485 [==============================] - 17s 11ms/step - loss: 1.4354\n",
            "Epoch 27/200\n",
            "1485/1485 [==============================] - 16s 11ms/step - loss: 1.4345\n",
            "Epoch 28/200\n",
            "1485/1485 [==============================] - 16s 11ms/step - loss: 1.4336\n",
            "Epoch 29/200\n",
            "1485/1485 [==============================] - 17s 11ms/step - loss: 1.4329\n",
            "Epoch 30/200\n",
            "1485/1485 [==============================] - 16s 11ms/step - loss: 1.4322\n",
            "Epoch 31/200\n",
            "1485/1485 [==============================] - 16s 11ms/step - loss: 1.4315\n",
            "Epoch 32/200\n",
            "1485/1485 [==============================] - 17s 11ms/step - loss: 1.4308\n",
            "Epoch 33/200\n",
            "1485/1485 [==============================] - 17s 11ms/step - loss: 1.4301\n",
            "Epoch 34/200\n",
            "1485/1485 [==============================] - 16s 11ms/step - loss: 1.4295\n",
            "Epoch 35/200\n",
            "1485/1485 [==============================] - 17s 11ms/step - loss: 1.4290\n",
            "Epoch 36/200\n",
            "1485/1485 [==============================] - 17s 11ms/step - loss: 1.4283\n",
            "Epoch 37/200\n",
            "1485/1485 [==============================] - 16s 11ms/step - loss: 1.4278\n",
            "Epoch 38/200\n",
            "1485/1485 [==============================] - 17s 11ms/step - loss: 1.4273\n",
            "Epoch 39/200\n",
            "1485/1485 [==============================] - 16s 11ms/step - loss: 1.4268\n",
            "Epoch 40/200\n",
            "1485/1485 [==============================] - 16s 11ms/step - loss: 1.4263\n",
            "Epoch 41/200\n",
            "1485/1485 [==============================] - 16s 11ms/step - loss: 1.4259\n",
            "Epoch 42/200\n",
            "1485/1485 [==============================] - 16s 11ms/step - loss: 1.4254\n",
            "Epoch 43/200\n",
            "1485/1485 [==============================] - 16s 11ms/step - loss: 1.4250\n",
            "Epoch 44/200\n",
            "1485/1485 [==============================] - 17s 11ms/step - loss: 1.4246\n",
            "Epoch 45/200\n",
            "1485/1485 [==============================] - 16s 11ms/step - loss: 1.4243\n",
            "Epoch 46/200\n",
            "1485/1485 [==============================] - 16s 11ms/step - loss: 1.4238\n",
            "Epoch 47/200\n",
            "1485/1485 [==============================] - 16s 11ms/step - loss: 1.4235\n",
            "Epoch 48/200\n",
            "1485/1485 [==============================] - 16s 11ms/step - loss: 1.4231\n",
            "Epoch 49/200\n",
            "1485/1485 [==============================] - 16s 11ms/step - loss: 1.4228\n",
            "Epoch 50/200\n",
            "1485/1485 [==============================] - 16s 11ms/step - loss: 1.4225\n",
            "Epoch 51/200\n",
            "1485/1485 [==============================] - 16s 11ms/step - loss: 1.4222\n",
            "Epoch 52/200\n",
            "1485/1485 [==============================] - 16s 11ms/step - loss: 1.4220\n",
            "Epoch 53/200\n",
            "1485/1485 [==============================] - 16s 11ms/step - loss: 1.4216\n",
            "Epoch 54/200\n",
            "1485/1485 [==============================] - 16s 11ms/step - loss: 1.4214\n",
            "Epoch 55/200\n",
            "1485/1485 [==============================] - 17s 11ms/step - loss: 1.4211\n",
            "Epoch 56/200\n",
            "1485/1485 [==============================] - 16s 11ms/step - loss: 1.4208\n",
            "Epoch 57/200\n",
            "1485/1485 [==============================] - 17s 11ms/step - loss: 1.4206\n",
            "Epoch 58/200\n",
            "1485/1485 [==============================] - 17s 12ms/step - loss: 1.4203\n",
            "Epoch 59/200\n",
            "1485/1485 [==============================] - 17s 11ms/step - loss: 1.4201\n",
            "Epoch 60/200\n",
            "1485/1485 [==============================] - 17s 11ms/step - loss: 1.4199\n",
            "Epoch 61/200\n",
            "1485/1485 [==============================] - 17s 11ms/step - loss: 1.4197\n",
            "Epoch 62/200\n",
            "1485/1485 [==============================] - 17s 11ms/step - loss: 1.4194\n",
            "Epoch 63/200\n",
            "1485/1485 [==============================] - 17s 11ms/step - loss: 1.4193\n",
            "Epoch 64/200\n",
            "1485/1485 [==============================] - 17s 11ms/step - loss: 1.4190\n",
            "Epoch 65/200\n",
            "1485/1485 [==============================] - 17s 11ms/step - loss: 1.4188\n",
            "Epoch 66/200\n",
            "1485/1485 [==============================] - 17s 12ms/step - loss: 1.4187\n",
            "Epoch 67/200\n",
            "1485/1485 [==============================] - 17s 11ms/step - loss: 1.4184\n",
            "Epoch 68/200\n",
            "1485/1485 [==============================] - 17s 11ms/step - loss: 1.4182\n",
            "Epoch 69/200\n",
            "1485/1485 [==============================] - 17s 11ms/step - loss: 1.4181\n",
            "Epoch 70/200\n",
            "1485/1485 [==============================] - 16s 11ms/step - loss: 1.4179\n",
            "Epoch 71/200\n",
            "1485/1485 [==============================] - 17s 11ms/step - loss: 1.4177\n",
            "Epoch 72/200\n",
            "1485/1485 [==============================] - 17s 11ms/step - loss: 1.4175\n",
            "Epoch 73/200\n",
            "1485/1485 [==============================] - 17s 11ms/step - loss: 1.4172\n",
            "Epoch 74/200\n",
            "1485/1485 [==============================] - 17s 12ms/step - loss: 1.4170\n",
            "Epoch 75/200\n",
            "1485/1485 [==============================] - 17s 11ms/step - loss: 1.4168\n",
            "Epoch 76/200\n",
            "1485/1485 [==============================] - 17s 11ms/step - loss: 1.4169\n",
            "Epoch 77/200\n",
            "1485/1485 [==============================] - 17s 11ms/step - loss: 1.4165\n",
            "Epoch 78/200\n",
            "1485/1485 [==============================] - 17s 11ms/step - loss: 1.4163\n",
            "Epoch 79/200\n",
            "1485/1485 [==============================] - 17s 11ms/step - loss: 1.4161\n",
            "Epoch 80/200\n",
            "1485/1485 [==============================] - 17s 11ms/step - loss: 1.4159\n",
            "Epoch 81/200\n",
            "1485/1485 [==============================] - 17s 11ms/step - loss: 1.4157\n",
            "Epoch 82/200\n",
            "1485/1485 [==============================] - 17s 11ms/step - loss: 1.4156\n",
            "Epoch 83/200\n",
            "1485/1485 [==============================] - 16s 11ms/step - loss: 1.4156\n",
            "Epoch 84/200\n",
            "1485/1485 [==============================] - 16s 11ms/step - loss: 1.4153\n",
            "Epoch 85/200\n",
            "1485/1485 [==============================] - 16s 11ms/step - loss: 1.4152\n",
            "Epoch 86/200\n",
            "1485/1485 [==============================] - 17s 11ms/step - loss: 1.4152\n",
            "Epoch 87/200\n",
            "1485/1485 [==============================] - 17s 11ms/step - loss: 1.4148\n",
            "Epoch 88/200\n",
            "1485/1485 [==============================] - 17s 11ms/step - loss: 1.4148\n",
            "Epoch 89/200\n",
            "1485/1485 [==============================] - 17s 11ms/step - loss: 1.4146\n",
            "Epoch 90/200\n",
            "1485/1485 [==============================] - 17s 11ms/step - loss: 1.4147\n",
            "Epoch 91/200\n",
            "1485/1485 [==============================] - 16s 11ms/step - loss: 1.4144\n",
            "Epoch 92/200\n",
            "1485/1485 [==============================] - 17s 12ms/step - loss: 1.4142\n",
            "Epoch 93/200\n",
            "1485/1485 [==============================] - 17s 12ms/step - loss: 1.4140\n",
            "Epoch 94/200\n",
            "1485/1485 [==============================] - 16s 11ms/step - loss: 1.4140\n",
            "Epoch 95/200\n",
            "1485/1485 [==============================] - 17s 11ms/step - loss: 1.4139\n",
            "Epoch 96/200\n",
            "1485/1485 [==============================] - 16s 11ms/step - loss: 1.4138\n",
            "Epoch 97/200\n",
            "1485/1485 [==============================] - 17s 11ms/step - loss: 1.4135\n",
            "Epoch 98/200\n",
            "1485/1485 [==============================] - 16s 11ms/step - loss: 1.4136\n",
            "Epoch 99/200\n",
            "1485/1485 [==============================] - 17s 11ms/step - loss: 1.4132\n",
            "Epoch 100/200\n",
            "1485/1485 [==============================] - 17s 11ms/step - loss: 1.4132\n",
            "Epoch 101/200\n",
            "1485/1485 [==============================] - 16s 11ms/step - loss: 1.4131\n",
            "Epoch 102/200\n",
            "1485/1485 [==============================] - 17s 11ms/step - loss: 1.4131\n",
            "Epoch 103/200\n",
            "1485/1485 [==============================] - 16s 11ms/step - loss: 1.4131\n",
            "Epoch 104/200\n",
            "1485/1485 [==============================] - 17s 11ms/step - loss: 1.4128\n",
            "Epoch 105/200\n",
            "1485/1485 [==============================] - 17s 11ms/step - loss: 1.4128\n",
            "Epoch 106/200\n",
            "1485/1485 [==============================] - 16s 11ms/step - loss: 1.4127\n",
            "Epoch 107/200\n",
            "1485/1485 [==============================] - 16s 11ms/step - loss: 1.4127\n",
            "Epoch 108/200\n",
            "1485/1485 [==============================] - 16s 11ms/step - loss: 1.4125\n",
            "Epoch 109/200\n",
            "1485/1485 [==============================] - 17s 11ms/step - loss: 1.4124\n",
            "Epoch 110/200\n",
            "1485/1485 [==============================] - 17s 11ms/step - loss: 1.4123\n",
            "Epoch 111/200\n",
            "1485/1485 [==============================] - 17s 12ms/step - loss: 1.4122\n",
            "Epoch 112/200\n",
            "1485/1485 [==============================] - 17s 11ms/step - loss: 1.4121\n",
            "Epoch 113/200\n",
            "1485/1485 [==============================] - 17s 11ms/step - loss: 1.4120\n",
            "Epoch 114/200\n",
            "1485/1485 [==============================] - 17s 11ms/step - loss: 1.4119\n",
            "Epoch 115/200\n",
            "1485/1485 [==============================] - 17s 11ms/step - loss: 1.4118\n",
            "Epoch 116/200\n",
            "1485/1485 [==============================] - 17s 11ms/step - loss: 1.4119\n",
            "Epoch 117/200\n",
            "1485/1485 [==============================] - 17s 11ms/step - loss: 1.4116\n",
            "Epoch 118/200\n",
            "1485/1485 [==============================] - 17s 11ms/step - loss: 1.4116\n",
            "Epoch 119/200\n",
            "1485/1485 [==============================] - 17s 11ms/step - loss: 1.4114\n",
            "Epoch 120/200\n",
            "1485/1485 [==============================] - 17s 11ms/step - loss: 1.4113\n",
            "Epoch 121/200\n",
            "1485/1485 [==============================] - 16s 11ms/step - loss: 1.4113\n",
            "Epoch 122/200\n",
            "1485/1485 [==============================] - 17s 11ms/step - loss: 1.4112\n",
            "Epoch 123/200\n",
            "1485/1485 [==============================] - 16s 11ms/step - loss: 1.4111\n",
            "Epoch 124/200\n",
            "1485/1485 [==============================] - 17s 11ms/step - loss: 1.4110\n",
            "Epoch 125/200\n",
            "1485/1485 [==============================] - 17s 11ms/step - loss: 1.4109\n",
            "Epoch 126/200\n",
            "1485/1485 [==============================] - 17s 11ms/step - loss: 1.4108\n",
            "Epoch 127/200\n",
            "1485/1485 [==============================] - 16s 11ms/step - loss: 1.4108\n",
            "Epoch 128/200\n",
            "1485/1485 [==============================] - 17s 11ms/step - loss: 1.4105\n",
            "Epoch 129/200\n",
            "1485/1485 [==============================] - 17s 12ms/step - loss: 1.4106\n",
            "Epoch 130/200\n",
            "1485/1485 [==============================] - 17s 12ms/step - loss: 1.4104\n",
            "Epoch 131/200\n",
            "1485/1485 [==============================] - 16s 11ms/step - loss: 1.4104\n",
            "Epoch 132/200\n",
            "1485/1485 [==============================] - 17s 11ms/step - loss: 1.4104\n",
            "Epoch 133/200\n",
            "1485/1485 [==============================] - 17s 11ms/step - loss: 1.4103\n",
            "Epoch 134/200\n",
            "1485/1485 [==============================] - 17s 11ms/step - loss: 1.4107\n",
            "Epoch 135/200\n",
            "1485/1485 [==============================] - 17s 11ms/step - loss: 1.4102\n",
            "Epoch 136/200\n",
            "1485/1485 [==============================] - 17s 12ms/step - loss: 1.4100\n",
            "Epoch 137/200\n",
            "1485/1485 [==============================] - 17s 12ms/step - loss: 1.4099\n",
            "Epoch 138/200\n",
            "1485/1485 [==============================] - 17s 11ms/step - loss: 1.4099\n",
            "Epoch 139/200\n",
            "1485/1485 [==============================] - 17s 11ms/step - loss: 1.4098\n",
            "Epoch 140/200\n",
            "1485/1485 [==============================] - 16s 11ms/step - loss: 1.4098\n",
            "Epoch 141/200\n",
            "1485/1485 [==============================] - 16s 11ms/step - loss: 1.4098\n",
            "Epoch 142/200\n",
            "1485/1485 [==============================] - 17s 11ms/step - loss: 1.4096\n",
            "Epoch 143/200\n",
            "1485/1485 [==============================] - 17s 11ms/step - loss: 1.4095\n",
            "Epoch 144/200\n",
            "1485/1485 [==============================] - 16s 11ms/step - loss: 1.4095\n",
            "Epoch 145/200\n",
            "1485/1485 [==============================] - 16s 11ms/step - loss: 1.4094\n",
            "Epoch 146/200\n",
            "1485/1485 [==============================] - 16s 11ms/step - loss: 1.4094\n",
            "Epoch 147/200\n",
            "1485/1485 [==============================] - 17s 11ms/step - loss: 1.4093\n",
            "Epoch 148/200\n",
            "1485/1485 [==============================] - 17s 12ms/step - loss: 1.4094\n",
            "Epoch 149/200\n",
            "1485/1485 [==============================] - 17s 11ms/step - loss: 1.4093\n",
            "Epoch 150/200\n",
            "1485/1485 [==============================] - 17s 11ms/step - loss: 1.4090\n",
            "Epoch 151/200\n",
            "1485/1485 [==============================] - 16s 11ms/step - loss: 1.4090\n",
            "Epoch 152/200\n",
            "1485/1485 [==============================] - 17s 11ms/step - loss: 1.4090\n",
            "Epoch 153/200\n",
            "1485/1485 [==============================] - 17s 11ms/step - loss: 1.4089\n",
            "Epoch 154/200\n",
            "1485/1485 [==============================] - 17s 11ms/step - loss: 1.4088\n",
            "Epoch 155/200\n",
            "1485/1485 [==============================] - 16s 11ms/step - loss: 1.4088\n",
            "Epoch 156/200\n",
            "1485/1485 [==============================] - 17s 11ms/step - loss: 1.4088\n",
            "Epoch 157/200\n",
            "1485/1485 [==============================] - 17s 11ms/step - loss: 1.4087\n",
            "Epoch 158/200\n",
            "1485/1485 [==============================] - 17s 11ms/step - loss: 1.4087\n",
            "Epoch 159/200\n",
            "1485/1485 [==============================] - 16s 11ms/step - loss: 1.4085\n",
            "Epoch 160/200\n",
            "1485/1485 [==============================] - 16s 11ms/step - loss: 1.4085\n",
            "Epoch 161/200\n",
            "1485/1485 [==============================] - 17s 11ms/step - loss: 1.4083\n",
            "Epoch 162/200\n",
            "1485/1485 [==============================] - 17s 11ms/step - loss: 1.4083\n",
            "Epoch 163/200\n",
            "1485/1485 [==============================] - 16s 11ms/step - loss: 1.4082\n",
            "Epoch 164/200\n",
            "1485/1485 [==============================] - 16s 11ms/step - loss: 1.4081\n",
            "Epoch 165/200\n",
            "1485/1485 [==============================] - 17s 11ms/step - loss: 1.4082\n",
            "Epoch 166/200\n",
            "1485/1485 [==============================] - 17s 11ms/step - loss: 1.4083\n",
            "Epoch 167/200\n",
            "1485/1485 [==============================] - 18s 12ms/step - loss: 1.4081\n",
            "Epoch 168/200\n",
            "1485/1485 [==============================] - 17s 11ms/step - loss: 1.4080\n",
            "Epoch 169/200\n",
            "1485/1485 [==============================] - 16s 11ms/step - loss: 1.4080\n",
            "Epoch 170/200\n",
            "1485/1485 [==============================] - 16s 11ms/step - loss: 1.4079\n",
            "Epoch 171/200\n",
            "1485/1485 [==============================] - 17s 11ms/step - loss: 1.4078\n",
            "Epoch 172/200\n",
            "1485/1485 [==============================] - 17s 11ms/step - loss: 1.4079\n",
            "Epoch 173/200\n",
            "1485/1485 [==============================] - 17s 11ms/step - loss: 1.4079\n",
            "Epoch 174/200\n",
            "1485/1485 [==============================] - 17s 11ms/step - loss: 1.4077\n",
            "Epoch 175/200\n",
            "1485/1485 [==============================] - 17s 11ms/step - loss: 1.4077\n",
            "Epoch 176/200\n",
            "1485/1485 [==============================] - 17s 12ms/step - loss: 1.4078\n",
            "Epoch 177/200\n",
            "1485/1485 [==============================] - 17s 11ms/step - loss: 1.4076\n",
            "Epoch 178/200\n",
            "1485/1485 [==============================] - 17s 11ms/step - loss: 1.4076\n",
            "Epoch 179/200\n",
            "1485/1485 [==============================] - 17s 11ms/step - loss: 1.4075\n",
            "Epoch 180/200\n",
            "1485/1485 [==============================] - 17s 11ms/step - loss: 1.4074\n",
            "Epoch 181/200\n",
            "1485/1485 [==============================] - 17s 11ms/step - loss: 1.4075\n",
            "Epoch 182/200\n",
            "1485/1485 [==============================] - 17s 11ms/step - loss: 1.4076\n",
            "Epoch 183/200\n",
            "1485/1485 [==============================] - 17s 11ms/step - loss: 1.4074\n",
            "Epoch 184/200\n",
            "1485/1485 [==============================] - 17s 11ms/step - loss: 1.4072\n",
            "Epoch 185/200\n",
            "1485/1485 [==============================] - 17s 12ms/step - loss: 1.4074\n",
            "Epoch 186/200\n",
            "1485/1485 [==============================] - 17s 11ms/step - loss: 1.4071\n",
            "Epoch 187/200\n",
            "1485/1485 [==============================] - 16s 11ms/step - loss: 1.4071\n",
            "Epoch 188/200\n",
            "1485/1485 [==============================] - 17s 11ms/step - loss: 1.4071\n",
            "Epoch 189/200\n",
            "1485/1485 [==============================] - 17s 11ms/step - loss: 1.4070\n",
            "Epoch 190/200\n",
            "1485/1485 [==============================] - 17s 12ms/step - loss: 1.4069\n",
            "Epoch 191/200\n",
            "1485/1485 [==============================] - 17s 12ms/step - loss: 1.4069\n",
            "Epoch 192/200\n",
            "1485/1485 [==============================] - 17s 11ms/step - loss: 1.4068\n",
            "Epoch 193/200\n",
            "1485/1485 [==============================] - 17s 11ms/step - loss: 1.4069\n",
            "Epoch 194/200\n",
            "1485/1485 [==============================] - 17s 11ms/step - loss: 1.4066\n",
            "Epoch 195/200\n",
            "1485/1485 [==============================] - 17s 11ms/step - loss: 1.4067\n",
            "Epoch 196/200\n",
            "1485/1485 [==============================] - 17s 11ms/step - loss: 1.4071\n",
            "Epoch 197/200\n",
            "1485/1485 [==============================] - 17s 11ms/step - loss: 1.4066\n",
            "Epoch 198/200\n",
            "1485/1485 [==============================] - 17s 11ms/step - loss: 1.4066\n",
            "Epoch 199/200\n",
            "1485/1485 [==============================] - 17s 11ms/step - loss: 1.4069\n",
            "Epoch 200/200\n",
            "1485/1485 [==============================] - 17s 12ms/step - loss: 1.4065\n"
          ],
          "name": "stdout"
        }
      ]
    },
    {
      "cell_type": "markdown",
      "metadata": {
        "id": "-YmxyBB561WW"
      },
      "source": [
        "Reload the model, now with a batch input size of 1 <- We have to do this only because we used stateful RNN, which builds the model with the batch size already specified"
      ]
    },
    {
      "cell_type": "code",
      "metadata": {
        "id": "wHgDUcF23ah4",
        "colab": {
          "base_uri": "https://localhost:8080/"
        },
        "outputId": "5e4d482f-a835-449f-879b-360413e2d623"
      },
      "source": [
        "batch_size = 1\n",
        "\n",
        "model = tf.keras.Sequential()\n",
        "model.add(tf.keras.layers.Embedding(vocab_size, embedding_dim, batch_input_shape=(batch_size, seq_length)))\n",
        "model.add(tf.keras.layers.GRU(seq_length, recurrent_initializer=\"glorot_uniform\",\n",
        "            recurrent_activation=\"sigmoid\", stateful=True, return_sequences=True))\n",
        "model.add(tf.keras.layers.Dense(vocab_size))\n",
        "\n",
        "model.summary()"
      ],
      "execution_count": null,
      "outputs": [
        {
          "output_type": "stream",
          "text": [
            "Model: \"sequential_4\"\n",
            "_________________________________________________________________\n",
            "Layer (type)                 Output Shape              Param #   \n",
            "=================================================================\n",
            "embedding_4 (Embedding)      (1, 100, 256)             21504     \n",
            "_________________________________________________________________\n",
            "gru_4 (GRU)                  (1, 100, 100)             107400    \n",
            "_________________________________________________________________\n",
            "dense_4 (Dense)              (1, 100, 84)              8484      \n",
            "=================================================================\n",
            "Total params: 137,388\n",
            "Trainable params: 137,388\n",
            "Non-trainable params: 0\n",
            "_________________________________________________________________\n"
          ],
          "name": "stdout"
        }
      ]
    },
    {
      "cell_type": "code",
      "metadata": {
        "id": "1LVKHbzMOaGY",
        "colab": {
          "base_uri": "https://localhost:8080/"
        },
        "outputId": "05b7eab4-67ba-44ea-97e2-a82ebcc9868f"
      },
      "source": [
        "model.load_weights(tf.train.latest_checkpoint(path + 'Logs/'))"
      ],
      "execution_count": null,
      "outputs": [
        {
          "output_type": "execute_result",
          "data": {
            "text/plain": [
              "<tensorflow.python.training.tracking.util.CheckpointLoadStatus at 0x7f178de96320>"
            ]
          },
          "metadata": {
            "tags": []
          },
          "execution_count": 62
        }
      ]
    },
    {
      "cell_type": "code",
      "metadata": {
        "id": "LDcFg7Du8oaS",
        "colab": {
          "base_uri": "https://localhost:8080/"
        },
        "outputId": "9398d059-18df-4ac6-8c77-ba50a03eb129"
      },
      "source": [
        "start_string = \"Jon Snow and \"\n",
        "input = [char2id[s] for s in start_string]\n",
        "input"
      ],
      "execution_count": null,
      "outputs": [
        {
          "output_type": "execute_result",
          "data": {
            "text/plain": [
              "[34, 69, 68, 0, 43, 68, 69, 77, 0, 55, 68, 58, 0]"
            ]
          },
          "metadata": {
            "tags": []
          },
          "execution_count": 63
        }
      ]
    },
    {
      "cell_type": "markdown",
      "metadata": {
        "id": "qqW5QEGr9xfy"
      },
      "source": [
        "**tf.expand_dims** adds one dimension to a tensor (or array by first converting it to tensor)\n",
        "\n",
        "**tf.squeeze** removes one dimension to a tensor"
      ]
    },
    {
      "cell_type": "code",
      "metadata": {
        "id": "2BOdxf3X9JH7"
      },
      "source": [
        "input_tensor = tf.expand_dims(input, 0)"
      ],
      "execution_count": null,
      "outputs": []
    },
    {
      "cell_type": "code",
      "metadata": {
        "id": "lYQl41489E7T"
      },
      "source": [
        "predictions = model(input_tensor)"
      ],
      "execution_count": null,
      "outputs": []
    },
    {
      "cell_type": "code",
      "metadata": {
        "id": "58afzNf6_VyH",
        "colab": {
          "base_uri": "https://localhost:8080/"
        },
        "outputId": "3617c4c7-1468-4eae-c429-ca44f0af98ce"
      },
      "source": [
        "# remove the batch dimension\n",
        "predictions = tf.squeeze(predictions, 0)\n",
        "predictions.shape"
      ],
      "execution_count": null,
      "outputs": [
        {
          "output_type": "execute_result",
          "data": {
            "text/plain": [
              "TensorShape([13, 84])"
            ]
          },
          "metadata": {
            "tags": []
          },
          "execution_count": 66
        }
      ]
    },
    {
      "cell_type": "markdown",
      "metadata": {
        "id": "OdUtxDTCBhjA"
      },
      "source": [
        "Sample from the logits using the [categorical distribution](https://en.wikipedia.org/wiki/Categorical_distribution). \n",
        "\n",
        "Temperature is a hyperparameter that controls the text generation process. \n",
        "\n",
        "A temperature close to 0 will favor hight probability characters (same words will be repeated often) and close to 1 will give a more equal probability (more creative, but often less coherent text)"
      ]
    },
    {
      "cell_type": "code",
      "metadata": {
        "id": "ZNDka6yLBgaU",
        "colab": {
          "base_uri": "https://localhost:8080/"
        },
        "outputId": "91be7586-88ee-4494-c1ae-0f1b884b6b0b"
      },
      "source": [
        "temperature = 0.3\n",
        "predicted_id = tf.random.categorical(predictions / temperature, num_samples=1)[-1,0].numpy()\n",
        "predicted_id"
      ],
      "execution_count": null,
      "outputs": [
        {
          "output_type": "execute_result",
          "data": {
            "text/plain": [
              "74"
            ]
          },
          "metadata": {
            "tags": []
          },
          "execution_count": 67
        }
      ]
    },
    {
      "cell_type": "code",
      "metadata": {
        "id": "6FcY6J8-_kOU"
      },
      "source": [
        "text_generated = start_string\n",
        "text_generated += id2char[predicted_id]\n",
        "input_tensor = tf.expand_dims([predicted_id], 0)"
      ],
      "execution_count": null,
      "outputs": []
    },
    {
      "cell_type": "markdown",
      "metadata": {
        "id": "8RQQ4Bl_WQD4"
      },
      "source": [
        ""
      ]
    },
    {
      "cell_type": "code",
      "metadata": {
        "id": "ICgmhoWwE3OQ"
      },
      "source": [
        "for i in range(1000):\n",
        "  predictions = model(input_tensor)\n",
        "  predictions = tf.squeeze(predictions, 0)\n",
        "  predicted_id = tf.random.categorical(predictions / temperature, num_samples=1)[-1,0].numpy()\n",
        "  text_generated += id2char[predicted_id]\n",
        "  input_tensor = tf.expand_dims([predicted_id], 0)  \n"
      ],
      "execution_count": null,
      "outputs": []
    },
    {
      "cell_type": "code",
      "metadata": {
        "id": "xzwB0lvnFT0j",
        "colab": {
          "base_uri": "https://localhost:8080/"
        },
        "outputId": "ba5d1dbb-fbe4-4a48-d548-6ef61d2e082a"
      },
      "source": [
        "print(text_generated)"
      ],
      "execution_count": null,
      "outputs": [
        {
          "output_type": "stream",
          "text": [
            "Jon Snow and the start and son was a same blood of the court, and sure a man was a great stallion of the Swords made the son, Lord of House Stark were a son, the grass are a company that was a singers of the Seven Kings Sea of the Kings Lannister had grown as the dragons and the sight of the commanders and seemed to make the sight to the son of the Kingsguard was a son, and the wall and counted and son and the rangers and castle of the Lord of Harry, the day and could not have been a command had never called THE SNES THE STONE, called THE GOOTH BRAX, SER ERIGON FREY, Lord of Light Selmmote and started to the castle of the Dornish of the Kingsguard Stannis was the stream. I would be a man of the Kingsguard, and I could have seen the start and spearmen and she had seen the chain and realized his could not make a ground of the son, the stone sword of the Kingsguard could sing the companions of the Seven Kingdoms, and come and son, the lords of the Kingsguard was the crown more than the castle of the Ki\n"
          ],
          "name": "stdout"
        }
      ]
    }
  ]
}